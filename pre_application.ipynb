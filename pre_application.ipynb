{
    "cells": [
        {
            "cell_type": "code",
            "execution_count": 3,
            "source": [
                "\"\"\"\n",
                "# 전처리 배분\n",
                "\n",
                "1(성준) - 0~9,   40~49, 80~89, 120, \n",
                "       - credit_card_balance.csv\n",
                "       - POS_CASH_balance.csv\n",
                "       - previous_application.csv\n",
                "       - installments_payments.csv\n",
                "2(장호) - 10~19, 50~59, 90~99, 121\n",
                "3(두영) - 20~29, 60~69, 100~109, 122, \n",
                "       - bureau.csv,\n",
                "4(혜빈) - 30~39, 70~79, 110~119, 123, \n",
                "       - bureau_balance.csv\n",
                "5(준혁) -  \n",
                "\"\"\"\n",
                "\n",
                "\"\"\"\n",
                "# 데이터 목록\n",
                "application_test.csv\n",
                "application_train.csv\n",
                "credit_card_balance.csv\n",
                "POS_CASH_balance.csv\n",
                "previous_application.csv\n",
                "installments_payments.csv\n",
                "bureau.csv\n",
                "bureau_balance.csv\n",
                "sample_submission.csv\n",
                "\"\"\""
            ],
            "outputs": [
                {
                    "output_type": "execute_result",
                    "data": {
                        "text/plain": [
                            "'\\n# 데이터 목록\\napplication_test.csv\\napplication_train.csv\\ncredit_card_balance.csv\\nPOS_CASH_balance.csv\\nprevious_application.csv\\ninstallments_payments.csv\\nbureau.csv\\nbureau_balance.csv\\nsample_submission.csv\\n'"
                        ]
                    },
                    "metadata": {},
                    "execution_count": 3
                }
            ],
            "metadata": {}
        },
        {
            "cell_type": "code",
            "execution_count": 15,
            "source": [
                "import pandas as pd\n",
                "import numpy as np\n",
                "import matplotlib.pyplot as plt\n",
                "import seaborn as sns\n",
                "from sklearn.preprocessing import MinMaxScaler, RobustScaler, StandardScaler\n",
                "from sklearn.preprocessing import LabelEncoder, OrdinalEncoder\n",
                "from sklearn.impute import SimpleImputer\n",
                "import user_functions as uf\n",
                "\n",
                "%matplotlib inline\n",
                "# 한글 출력되게 설정\n",
                "uf.korean2()"
            ],
            "outputs": [],
            "metadata": {}
        },
        {
            "cell_type": "code",
            "execution_count": 2,
            "source": [
                "# Load file\n",
                "train_datasets = pd.read_csv(uf.get_f_path()+\"application_train.csv\")\n",
                "test_datasets = pd.read_csv(uf.get_f_path()+\"application_test.csv\")\n",
                "\n",
                "# Label 만들기\n",
                "train_target_ds = train_datasets[\"TARGET\"]\n",
                "\n",
                "# TARGET feature 삭제\n",
                "train_datasets.drop(columns=\"TARGET\", inplace=True)"
            ],
            "outputs": [],
            "metadata": {}
        },
        {
            "cell_type": "code",
            "execution_count": null,
            "source": [
                "# # info\n",
                "# print(train_datasets.info())\n",
                "# print(test_datasets.info())\n",
                "\n",
                "# # train은 307,511 행\n",
                "# # test는   48,744 행\n",
                "# # -----------------\n",
                "# # 총      356,255 행"
            ],
            "outputs": [],
            "metadata": {}
        },
        {
            "cell_type": "code",
            "execution_count": 3,
            "source": [
                "# train datasets과 test datasets을 구분하는 \"train/test\" feature 생성\n",
                "train_datasets[\"train/test\"] = \"train\"\n",
                "test_datasets[\"train/test\"] = \"test\"\n",
                "\n",
                "# 합치기\n",
                "train_test_datasets = pd.concat([train_datasets, test_datasets], ignore_index=True)\n",
                "\n",
                "# 356,255 행인지 확인\n",
                "train_test_datasets.info()\n",
                "\n",
                "# index 재설정\n",
                "# print(train_datasets.index)\n",
                "# print(test_datasets.index)\n",
                "train_test_datasets.reset_index(drop=True, inplace=True)\n",
                "# print(train_test_datasets.index)"
            ],
            "outputs": [
                {
                    "output_type": "stream",
                    "name": "stdout",
                    "text": [
                        "<class 'pandas.core.frame.DataFrame'>\n",
                        "RangeIndex: 356255 entries, 0 to 356254\n",
                        "Columns: 122 entries, SK_ID_CURR to train/test\n",
                        "dtypes: float64(65), int64(40), object(17)\n",
                        "memory usage: 331.6+ MB\n"
                    ]
                }
            ],
            "metadata": {}
        },
        {
            "cell_type": "code",
            "execution_count": 95,
            "source": [
                "# 전처리 데이터\n",
                "prepro_ds = train_test_datasets.copy()"
            ],
            "outputs": [],
            "metadata": {}
        },
        {
            "cell_type": "code",
            "execution_count": 96,
            "source": [
                "##########################################################\n",
                "######################## SUNGJUNE ########################\n",
                "##########################################################\n",
                "# 자녀가 5명 이상인 값을 5로 처리\n",
                "prepro_ds.loc[prepro_ds[\"CNT_CHILDREN\"] >= 5, \"CNT_CHILDREN\"] = 5\n",
                "\n",
                "# 이상치 117000000에서 0을 하나 제거함\n",
                "prepro_ds.loc[prepro_ds[\"AMT_INCOME_TOTAL\"] > 1e+08, \"AMT_INCOME_TOTAL\"] = prepro_ds.loc[prepro_ds[\"AMT_INCOME_TOTAL\"] > 1e+08, \"AMT_INCOME_TOTAL\"].map(lambda x: x / 10)\n",
                "\n",
                "# \"AMT_ANNUITY\"를 \"AMT_CREDIT\"기준으로 가장 유사한 값을 통해 대체함\n",
                "prepro_ds[\"AMT_ANNUITY\"] = \\\n",
                "    uf.imput_other_f_mean(prepro_ds, \"AMT_ANNUITY\", \"AMT_CREDIT\")\n",
                "\n",
                "# \"AMT_GOODS_PRICE\"를 \"AMT_CREDIT\"기준으로 가장 유사한 값을 통해 대체함\n",
                "prepro_ds[\"AMT_GOODS_PRICE\"] = \\\n",
                "    uf.imput_other_f_mean(prepro_ds, \"AMT_GOODS_PRICE\", \"AMT_CREDIT\")\n",
                "\n",
                "# SimpleImputer 사용\n",
                "# sp_input = SimpleImputer()\n",
                "# prepro_ds[\"AMT_GOODS_PRICE\"] = \\\n",
                "#     pd.DataFrame(sp_input.fit_transform(\\\n",
                "#         prepro_ds[[\"AMT_GOODS_PRICE\", \"AMT_CREDIT\"]]\n",
                "#         ,columns=[\"AMT_GOODS_PRICE\", \"AMT_CREDIT\"]\n",
                "#                                        )\n",
                "#                 )[\"AMT_GOODS_PRICE\"].hist()\n",
                "\n",
                "# \"EXT_SOURCE_1\"의 결측치를 0으로 대체함\n",
                "# 외부 자료의 신뢰성을 의미하는 자료이므로 외부 자료가 없는 것을 의미한다고 판단됨\n",
                "prepro_ds[\"EXT_SOURCE_1\"].fillna(0, inplace=True)\n",
                "prepro_ds[\"EXT_SOURCE_2\"].fillna(0, inplace=True)\n",
                "prepro_ds[\"EXT_SOURCE_3\"].fillna(0, inplace=True)\n",
                "prepro_ds[\"FONDKAPREMONT_MODE\"].fillna(\"not specified\", inplace=True)\n",
                "\n",
                "# 결측치를 0으로 대체함\n",
                "zero_imputation_lists= [\"FLOORSMIN_MEDI\",\n",
                "                        \"LANDAREA_MEDI\",\n",
                "                        \"LIVINGAPARTMENTS_MEDI\",\n",
                "                        \"LIVINGAREA_MEDI\",\n",
                "                        \"NONLIVINGAPARTMENTS_MEDI\",\n",
                "                        \"NONLIVINGAREA_MEDI\",\n",
                "                        \"TOTALAREA_MODE\",\n",
                "                        \"APARTMENTS_AVG\",\n",
                "                        \"BASEMENTAREA_AVG\",\n",
                "                        \"YEARS_BEGINEXPLUATATION_AVG\",\n",
                "                        \"YEARS_BUILD_AVG\",\n",
                "                        \"COMMONAREA_AVG\",\n",
                "                        \"ELEVATORS_AVG\"]\n",
                "for feature in zero_imputation_lists:\n",
                "    prepro_ds.loc[:, feature].fillna(0, inplace=True)\n",
                "\n",
                "# 중앙값으로 대체함\n",
                "imput_mean = SimpleImputer(strategy=\"median\")\n",
                "prepro_ds[\"ENTRANCES_AVG\"] = imput_mean.fit_transform(prepro_ds[[\"ENTRANCES_AVG\"]])\n",
                "\n",
                "# \"WALLSMATERIAL_MODE\" \"Others\"로 대체\n",
                "prepro_ds[\"WALLSMATERIAL_MODE\"].fillna(\"Others\", inplace=True)\n",
                "\n",
                "# 이상치를 정상값 범위 중 가장 큰 8로 대체함\n",
                "prepro_ds[\"AMT_REQ_CREDIT_BUREAU_QRT\"].fillna(8, inplace=True)\n",
                "\n",
                "# \"HOUSETYPE_MODE\" 결측치 \"XNA\"로 대체 ∵ HOUSE외 주거 시설에 거주한다고 판단.\n",
                "prepro_ds[\"HOUSETYPE_MODE\"].fillna(\"XNA\", inplace=True)\n"
            ],
            "outputs": [],
            "metadata": {}
        },
        {
            "cell_type": "code",
            "execution_count": 98,
            "source": [
                "##########################################################\n",
                "######################### JANGHO #########################\n",
                "##########################################################\n",
                "# Null 처리\n",
                "# prepro_ds['AMT_GOODS_PRICE'].fillna(prepro_ds['AMT_GOODS_PRICE'].mean(), inplace = True)\n",
                "prepro_ds['NAME_TYPE_SUITE'].fillna('Unaccompanied', inplace = True)\n",
                "prepro_ds['EMERGENCYSTATE_MODE'].fillna('No', inplace = True)\n",
                "prepro_ds['AMT_REQ_CREDIT_BUREAU_YEAR'].fillna(0, inplace = True)\n",
                "prepro_ds.loc[:, \"ENTRANCES_AVG\":\"BASEMENTAREA_MODE\"] = \\\n",
                "    prepro_ds.loc[:, \"ENTRANCES_AVG\":\"BASEMENTAREA_MODE\"].fillna(0)\n",
                "prepro_ds.loc[:, \"EMERGENCYSTATE_MODE\":\"DAYS_LAST_PHONE_CHANGE\"] = \\\n",
                "    prepro_ds.loc[:, \"EMERGENCYSTATE_MODE\":\"DAYS_LAST_PHONE_CHANGE\"].fillna(0)\n",
                "prepro_ds.loc[:, \"AMT_REQ_CREDIT_BUREAU_YEAR\"].fillna(0, inplace=True)\n",
                "\n",
                "# IQR을 이용한 Outlier median 대체\n",
                "def replace_outlier_by_med(feature):\n",
                "    q1, q3 = np.percentile(feature, [25, 75])\n",
                "    iqr = q3 - q1\n",
                "    lower_bound = q1 - (iqr*1.5)\n",
                "    upper_bound = q3 + (iqr*1.5)\n",
                "    \n",
                "    mask = np.where((feature > upper_bound) | (feature < lower_bound),feature.median(), feature)\n",
                "    return mask\n",
                "\n",
                "prepro_ds['AMT_GOODS_PRICE'] = replace_outlier_by_med(prepro_ds['AMT_GOODS_PRICE'])"
            ],
            "outputs": [],
            "metadata": {}
        },
        {
            "cell_type": "code",
            "execution_count": 100,
            "source": [
                "##########################################################\n",
                "######################### HYEBIN #########################\n",
                "##########################################################\n",
                "prepro_ds.loc[:, \"NONLIVINGAPARTMENTS_MODE\":\"FLOORSMAX_MEDI\"] = \\\n",
                "    prepro_ds.loc[:, \"NONLIVINGAPARTMENTS_MODE\":\"FLOORSMAX_MEDI\"].fillna(0)\n",
                "prepro_ds.loc[:, \"AMT_REQ_CREDIT_BUREAU_HOUR\":\"AMT_REQ_CREDIT_BUREAU_MON\"] = \\\n",
                "prepro_ds.loc[:, \"AMT_REQ_CREDIT_BUREAU_HOUR\":\"AMT_REQ_CREDIT_BUREAU_MON\"].fillna(0)"
            ],
            "outputs": [],
            "metadata": {}
        },
        {
            "cell_type": "code",
            "execution_count": 101,
            "source": [
                "##########################################################\n",
                "######################## DOOYOUNG ########################\n",
                "##########################################################\n",
                "prepro_ds[\"OWN_CAR_AGE\"].fillna(-1, inplace=True)\n",
                "prepro_ds.loc[:, \"YEARS_BEGINEXPLUATATION_MODE\":\"LIVINGAREA_MODE\"] = \\\n",
                "    prepro_ds.loc[:, \"YEARS_BEGINEXPLUATATION_MODE\":\"LIVINGAREA_MODE\"].fillna(0)\n",
                "prepro_ds[\"OCCUPATION_TYPE\"].fillna(\"Inoccupation\", inplace=True)\n",
                "\n",
                "prepro_ds.loc[prepro_ds[\"CNT_FAM_MEMBERS\"] >= 8, \"CNT_FAM_MEMBERS\"] = 8\n",
                "prepro_ds[\"CNT_FAM_MEMBERS\"].fillna(1, inplace=True)"
            ],
            "outputs": [],
            "metadata": {}
        },
        {
            "cell_type": "code",
            "execution_count": 102,
            "source": [
                "uf.check_missing_value(prepro_ds)"
            ],
            "outputs": [
                {
                    "output_type": "stream",
                    "name": "stdout",
                    "text": [
                        "결측치 없음!\n"
                    ]
                }
            ],
            "metadata": {}
        },
        {
            "cell_type": "markdown",
            "source": [
                "---\n",
                "---"
            ],
            "metadata": {}
        },
        {
            "cell_type": "code",
            "execution_count": 103,
            "source": [
                "credit_card_ds = \\\n",
                "    pd.read_csv(\"../pre_data/new_credit_card_ds_balance.csv\")\n",
                "instal_pay_ds = \\\n",
                "    pd.read_csv(\"../pre_data/new_installments_payments.csv\")\n",
                "pos_cash_ds = \\\n",
                "    pd.read_csv(\"../pre_data/new_POS_CASH_balance.csv\")\n",
                "prev_app_ds = \\\n",
                "    pd.read_csv(\"../pre_data/new_previous_application.csv\")\n",
                "bureau_final = \\\n",
                "    pd.read_csv(\"../pre_data/bureau_final.csv\")"
            ],
            "outputs": [],
            "metadata": {}
        },
        {
            "cell_type": "code",
            "execution_count": 106,
            "source": [
                "# feature 중복 값 확인\n",
                "\n",
                "colum_list = []\n",
                "# colum_list.append(list(credit_card_ds.columns))\n",
                "colum_list.append(list(instal_pay_ds.columns))\n",
                "colum_list.append(list(pos_cash_ds.columns))\n",
                "colum_list.append(list(prev_app_ds.columns))\n",
                "colum_list.append(list(prepro_ds.columns))\n",
                "colum_list.append(list(bureau_final.columns))\n",
                "\n",
                "col_list = []\n",
                "for a in colum_list:\n",
                "    for b in a:\n",
                "        col_list.append(b)\n",
                "\n",
                "pd.DataFrame(col_list).value_counts()#.unique()"
            ],
            "outputs": [
                {
                    "output_type": "execute_result",
                    "data": {
                        "text/plain": [
                            "SK_ID_CURR                     5\n",
                            "AMT_ANNUITY                    2\n",
                            "LIVINGAREA_MODE                1\n",
                            "LIVE_REGION_NOT_WORK_REGION    1\n",
                            "LIVINGAPARTMENTS_AVG           1\n",
                            "                              ..\n",
                            "EMERGENCYSTATE_MODE            1\n",
                            "ELEVATORS_MODE                 1\n",
                            "ELEVATORS_MEDI                 1\n",
                            "ELEVATORS_AVG                  1\n",
                            "연체일                            1\n",
                            "Length: 138, dtype: int64"
                        ]
                    },
                    "metadata": {},
                    "execution_count": 106
                }
            ],
            "metadata": {}
        },
        {
            "cell_type": "code",
            "execution_count": 109,
            "source": [
                "# feature name change\n",
                "# credit_card_ds.rename(columns={\"SK_DPD\": \"연체기간(credit_c)\",\n",
                "#                                \"AMT_RECEIVABLE_PRINCIPAL\": \"미수원금\",\n",
                "#                                \"소액연체_비율\": \"소액연체비중(credit_c)\"},\n",
                "#                       inplace=True\n",
                "#                      )\n",
                "pos_cash_ds.rename(columns={\"SK_DPD\": \"연체기간(pos_cash)\",\n",
                "                            \"소액연체_비율\": \"소액연체비중(pos_cash)\"},\n",
                "                   inplace=True\n",
                "                  )\n",
                "bureau_final.rename(columns={\"AMT_ANNUITY\": \"AMT_ANNUITY(bure)\"},\n",
                "                    inplace=True\n",
                "                   )"
            ],
            "outputs": [],
            "metadata": {}
        },
        {
            "cell_type": "code",
            "execution_count": 111,
            "source": [
                "# credit_card.csv의 경우 결측값이 252,697개에 달해 사용할 수 없다고 판단됨.\n",
                "# merge_ds = pd.merge(prepro_ds, credit_card_ds, on=\"SK_ID_CURR\", how=\"left\")\n",
                "merge_ds = pd.merge(prepro_ds, prev_app_ds, on=\"SK_ID_CURR\", how=\"left\")\n",
                "merge_ds = pd.merge(merge_ds, instal_pay_ds, on=\"SK_ID_CURR\", how=\"left\")\n",
                "merge_ds = pd.merge(merge_ds, pos_cash_ds, on=\"SK_ID_CURR\", how=\"left\")\n",
                "merge_ds = pd.merge(merge_ds, bureau_final, on=\"SK_ID_CURR\", how=\"left\")"
            ],
            "outputs": [],
            "metadata": {}
        },
        {
            "cell_type": "code",
            "execution_count": 112,
            "source": [
                "temp_ds = merge_ds[[\"train/test\", \"연체일\"]]\n",
                "temp_ds.loc[temp_ds[\"연체일\"].isna()][\"train/test\"].value_counts()"
            ],
            "outputs": [
                {
                    "output_type": "execute_result",
                    "data": {
                        "text/plain": [
                            "train    33460\n",
                            "test      3486\n",
                            "Name: train/test, dtype: int64"
                        ]
                    },
                    "metadata": {},
                    "execution_count": 112
                }
            ],
            "metadata": {}
        },
        {
            "cell_type": "code",
            "execution_count": 113,
            "source": [
                "uf.check_missing_value(merge_ds)"
            ],
            "outputs": [
                {
                    "output_type": "stream",
                    "name": "stdout",
                    "text": [
                        "122        승인/거부(prev_app)                36,946\n",
                        "123            (추정)이자율                    36,946\n",
                        "124              연체일                      36,946\n",
                        "125             연체여부                      36,946\n",
                        "126            승인액/요청액                    36,946\n",
                        "127           과거_상환액/총액                   16,671\n",
                        "128        연체기간(pos_cash)                 19,003\n",
                        "129       소액연체비중(pos_cash)                19,003\n",
                        "130       CREDIT_ACTIVE_idx               50,444\n",
                        "131        CREDIT_TYPE_idx                50,444\n",
                        "132      CREDIT_DAY_OVERDUE               50,444\n",
                        "133    AMT_CREDIT_MAX_OVERDUE             50,444\n",
                        "134        AMT_CREDIT_SUM                 50,444\n",
                        "135      AMT_CREDIT_SUM_DEBT              50,444\n",
                        "136    AMT_CREDIT_SUM_OVERDUE             50,444\n",
                        "137       AMT_ANNUITY(bure)               50,444\n",
                        "138        balance_STATUS                 50,444\n"
                    ]
                }
            ],
            "metadata": {}
        }
    ],
    "metadata": {
        "orig_nbformat": 4,
        "language_info": {
            "name": "python",
            "version": "3.9.6",
            "mimetype": "text/x-python",
            "codemirror_mode": {
                "name": "ipython",
                "version": 3
            },
            "pygments_lexer": "ipython3",
            "nbconvert_exporter": "python",
            "file_extension": ".py"
        },
        "kernelspec": {
            "name": "python3",
            "display_name": "Python 3.9.6 64-bit"
        },
        "interpreter": {
            "hash": "7812ea015bdcee6f23a998adcdd2ef97c151c0c241b7b7070987d9313e41299d"
        }
    },
    "nbformat": 4,
    "nbformat_minor": 2
}