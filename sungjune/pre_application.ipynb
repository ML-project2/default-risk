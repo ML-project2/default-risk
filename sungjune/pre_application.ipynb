{
    "cells": [
        {
            "cell_type": "code",
            "execution_count": 3,
            "source": [
                "\"\"\"\n",
                "# 전처리 배분\n",
                "\n",
                "1(성준) - 0~9,   40~49, 80~89, 120, \n",
                "       - credit_card_balance.csv\n",
                "       - POS_CASH_balance.csv\n",
                "       - previous_application.csv\n",
                "       - installments_payments.csv\n",
                "2(장호) - 10~19, 50~59, 90~99, 121\n",
                "3(두영) - 20~29, 60~69, 100~109, 122, \n",
                "       - bureau.csv,\n",
                "4(혜빈) - 30~39, 70~79, 110~119, 123, \n",
                "       - bureau_balance.csv\n",
                "5(준혁) -  \n",
                "\"\"\"\n",
                "\n",
                "\"\"\"\n",
                "# 데이터 목록\n",
                "application_test.csv\n",
                "application_train.csv\n",
                "credit_card_balance.csv\n",
                "POS_CASH_balance.csv\n",
                "previous_application.csv\n",
                "installments_payments.csv\n",
                "bureau.csv\n",
                "bureau_balance.csv\n",
                "sample_submission.csv\n",
                "\"\"\""
            ],
            "outputs": [
                {
                    "output_type": "execute_result",
                    "data": {
                        "text/plain": [
                            "'\\n# 데이터 목록\\napplication_test.csv\\napplication_train.csv\\ncredit_card_balance.csv\\nPOS_CASH_balance.csv\\nprevious_application.csv\\ninstallments_payments.csv\\nbureau.csv\\nbureau_balance.csv\\nsample_submission.csv\\n'"
                        ]
                    },
                    "metadata": {},
                    "execution_count": 3
                }
            ],
            "metadata": {}
        },
        {
            "cell_type": "code",
            "execution_count": 15,
            "source": [
                "import pandas as pd\n",
                "import numpy as np\n",
                "import matplotlib.pyplot as plt\n",
                "import seaborn as sns\n",
                "from sklearn.preprocessing import MinMaxScaler, RobustScaler, StandardScaler\n",
                "from sklearn.preprocessing import LabelEncoder, OrdinalEncoder\n",
                "from sklearn.impute import SimpleImputer\n",
                "from sklearn.decomposition import PCA\n",
                "import user_functions as uf\n",
                "\n",
                "%matplotlib inline\n",
                "# 한글 출력되게 설정\n",
                "uf.korean2()"
            ],
            "outputs": [],
            "metadata": {}
        },
        {
            "cell_type": "code",
            "execution_count": 299,
            "source": [
                "# Load file\n",
                "train_datasets = pd.read_csv(uf.get_f_path()+\"application_train.csv\")\n",
                "test_datasets = pd.read_csv(uf.get_f_path()+\"application_test.csv\")\n",
                "\n",
                "# Label 만들기\n",
                "train_target_ds = train_datasets[[\"SK_ID_CURR\", \"TARGET\"]]\n",
                "\n",
                "# TARGET feature 삭제\n",
                "train_datasets.drop(columns=\"TARGET\", inplace=True)"
            ],
            "outputs": [],
            "metadata": {}
        },
        {
            "cell_type": "code",
            "execution_count": null,
            "source": [
                "# # info\n",
                "# print(train_datasets.info())\n",
                "# print(test_datasets.info())\n",
                "\n",
                "# # train은 307,511 행\n",
                "# # test는   48,744 행\n",
                "# # -----------------\n",
                "# # 총      356,255 행"
            ],
            "outputs": [],
            "metadata": {}
        },
        {
            "cell_type": "code",
            "execution_count": 3,
            "source": [
                "# train datasets과 test datasets을 구분하는 \"train/test\" feature 생성\n",
                "train_datasets[\"train/test\"] = \"train\"\n",
                "test_datasets[\"train/test\"] = \"test\"\n",
                "\n",
                "# 합치기\n",
                "train_test_datasets = pd.concat([train_datasets, test_datasets], ignore_index=True)\n",
                "\n",
                "# 356,255 행인지 확인\n",
                "train_test_datasets.info()\n",
                "\n",
                "# index 재설정\n",
                "# print(train_datasets.index)\n",
                "# print(test_datasets.index)\n",
                "train_test_datasets.reset_index(drop=True, inplace=True)\n",
                "# print(train_test_datasets.index)"
            ],
            "outputs": [
                {
                    "output_type": "stream",
                    "name": "stdout",
                    "text": [
                        "<class 'pandas.core.frame.DataFrame'>\n",
                        "RangeIndex: 356255 entries, 0 to 356254\n",
                        "Columns: 122 entries, SK_ID_CURR to train/test\n",
                        "dtypes: float64(65), int64(40), object(17)\n",
                        "memory usage: 331.6+ MB\n"
                    ]
                }
            ],
            "metadata": {}
        },
        {
            "cell_type": "code",
            "execution_count": 95,
            "source": [
                "# 전처리 데이터\n",
                "prepro_ds = train_test_datasets.copy()"
            ],
            "outputs": [],
            "metadata": {}
        },
        {
            "cell_type": "markdown",
            "source": [
                "# 데이터 전처리 진행 및 특이사항\n",
                "---\n",
                "\n",
                "## \"TARGET\"\n",
                "- 연체자가 적은 편향된 데이터\n",
                "- value_counts()\n",
                "- 1=연체\n",
                "> ```python\n",
                "> 0    282686\n",
                "> 1     24825\n",
                "> ```\n",
                "\n",
                "<hr><br>\n",
                "\n",
                "## \"CODE_GENDER\"\n",
                "- 'M', 'F', 'XNA'\n",
                "- 'XNA'는 결측치라기 보다는 간성 등으로 파악됨. 따라서 그대로 놔둠\n",
                "- []숫자로 대치\n",
                "- 성별\n",
                "- value_counts()\n",
                "> ```python\n",
                "> F      202448\n",
                "> M      105059\n",
                "> XNA         4\n",
                "> ```\n",
                "\n",
                "<hr><br>\n",
                "\n",
                "## \"FLAG_OWN_CAR\", \"FLAG_OWN_REALTY\"\n",
                "- 'Y', 'N'\n",
                "- []숫자로 대치\n",
                "\n",
                "<hr><br>\n",
                "\n",
                "## \"CNT_CHILDREN\"\n",
                "- [V] 5명 이상인 값을 5 이상으로 처리\n",
                "- []숫자로 대치\n",
                "- value_counts()\n",
                "> ```python\n",
                "> 0     215371\n",
                "> 1      61119\n",
                "> 2      26749\n",
                "> 3       3717\n",
                "> 4        429\n",
                "> 5         84\n",
                "> 6         21\n",
                "> 7          7\n",
                "> 14         3\n",
                "> 8          2\n",
                "> 9          2\n",
                "> 12         2\n",
                "> 10         2\n",
                "> 19         2\n",
                "> 11         1\n",
                "> ```\n",
                "\n",
                "<hr><br>\n",
                "\n",
                "## \"AMT_INCOME_TOTAL\"\n",
                "- 117000000 값은 이상치로 판단됨. 대출액 대비 소득 수준을 볼 때 fatfinger로 판단됨\n",
                "- [V] 117000000 / 10으로 대체함\n",
                "- <span style=\"color:yellow\">TODO: 편차가 크다고 판단되나, 우선 그대로 진행함</span>\n",
                "\n",
                "\n",
                "<hr><br>\n",
                "\n",
                "## \"AMT_CREDIT\"\n",
                "- 큰 이상 없다고 판단됨\n",
                "- <span style=\"color:yellow\">TODO: 편차가 크다고 판단되나, 우선 그대로 진행함</span>\n",
                "\n",
                "<hr><br>\n",
                "\n",
                "## \"AMT_ANNUITY\", \"AMT_GOODS_PRICE\"\n",
                "- 결측치를 대출금액을 기준으로 가장 유사한 값으로 대체함\n",
                "- [V] 결측치 값을 `imput_other_f_mean` 함수를 활용해 대체함\n",
                "\n",
                "<hr><br>\n",
                "\n",
                "## \"ORGANIZATION_TYPE\"\n",
                "- 무직자를 XNA로 처리함. 문제 없음\n",
                "```python\n",
                "prepro_ds.loc[prepro_ds[\"ORGANIZATION_TYPE\"] == \"XNA\", (\"NAME_INCOME_TYPE\", \"ORGANIZATION_TYPE\")].value_counts()\n",
                "```\n",
                "> ```python\n",
                "> NAME_INCOME_TYPE  ORGANIZATION_TYPE\n",
                "> Pensioner         XNA                  55352\n",
                "> Unemployed        XNA                     22\n",
                "> ```\n",
                "\n",
                "<hr><br>\n",
                "\n",
                "## \"EXT_SOURCE_1\", \"EXT_SOURCE_2\", \"EXT_SOURCE_3\"\n",
                "- 외부 자료 출처에 대한 정규화된 점수\n",
                "- [V] NAN 값이 많으나, 외부 자료에 대한 신뢰성(가중치)를 의미하므로 0으로 처리함\n",
                "\n",
                "<hr><br>\n",
                "\n",
                "## 기타 1\n",
                "#### \"APARTMENTS_AVG\" \n",
                "#### \"BASEMENTAREA_AVG\" \n",
                "#### \"YEARS_BEGINEXPLUATATION_AVG\" \n",
                "#### \"YEARS_BUILD_AVG\" \n",
                "#### \"COMMONAREA_AVG\"\n",
                "#### \"ELEVATORS_AVG\"\n",
                "- 정규화된 자료\n",
                "- 아파트 평균, 지하 면적 평균, 개발 시작연도 평균, 건물 연령 평균, 공용 공간 평균, 엘리베이터 수 평균\n",
                "- [V] NAN 값이 많으나, 해당 정보가 없는 데이터라고 판단하여 0으로 처리함\n",
                "\n",
                "## \"ENTRANCES_AVG\"\n",
                "- 정규화된 자료\n",
                "- 출입구 수의 평균을 의미함\n",
                "- 0도 361개 존재함\n",
                "- 결측값이 상당히 많음 178,407\n",
                "- [V] <span style=\"color:yellow\">중앙값으로 대체함</span>\n",
                "\n",
                "<hr><br>\n",
                "\n",
                "## \"FONDKAPREMONT_MODE\"\n",
                "- 뭘 뜻하는 feature인지 알 수 없음\n",
                "- [V] 결측치를 'not specified'로 대체함.\n",
                "\n",
                "<hr><br>\n",
                "\n",
                "## \"HOUSETYPE_MODE\"\n",
                "- 결측값 154297\n",
                "- [V] HOUSE에 거주하지 않는다고 판단하고 XNA로 처리함\n",
                "- 나머지 값 분포\n",
                "```python\n",
                "block of flats      150503\n",
                "specific housing      1499\n",
                "terraced house        1212\n",
                "```\n",
                "<!-- - <span style=\"color:red\">TODO: 처리 여부 결정</span> -->\n",
                "\n",
                "<hr><br>\n",
                "\n",
                "## 기타 2\n",
                "#### \"FLOORSMIN_MEDI\"\n",
                "#### \"LANDAREA_MEDI\"\n",
                "#### \"LIVINGAPARTMENTS_MEDI\"\n",
                "#### \"LIVINGAREA_MEDI\"\n",
                "#### \"NONLIVINGAPARTMENTS_MEDI\"\n",
                "#### \"NONLIVINGAREA_MEDI\"\n",
                "#### \"TOTALAREA_MODE\"\n",
                "\n",
                "- [V] NAN 값이 많으나, 해당 정보가 없는 데이터라고 판단하여 0으로 처리함\n",
                "\n",
                "<hr><br>\n",
                "\n",
                "## \"WALLSMATERIAL_MODE\"\n",
                "\n",
                "- na 180234개로 상당히 많음.\n",
                "- 따로 구분하기 어렵다고 판단하여 others로 처리함\n",
                "```python\n",
                "Panel           77309\n",
                "Stone, brick    75249\n",
                "Block           10681\n",
                "Wooden           6156\n",
                "Mixed            2649\n",
                "Monolithic       2068\n",
                "Others           1909\n",
                "```\n",
                "\n",
                "<hr><br>\n",
                "\n",
                "## \"AMT_REQ_CREDIT_BUREAU_QRT\"\n",
                "- 대출 신청 90일~30일 전 고객에 대한 CB 문의 건수\n",
                "- unique = [  0.  nan   1.   2.   4.   3.   8.   5.   6.   7. 261.  19.]\n",
                "- 261과 19는 다른 데이터와 비교했을 때 비정상적임. 가장 큰 값인 8로 대체함.\n"
            ],
            "metadata": {}
        },
        {
            "cell_type": "code",
            "execution_count": 96,
            "source": [
                "##########################################################\n",
                "######################## SUNGJUNE ########################\n",
                "##########################################################\n",
                "# 자녀가 5명 이상인 값을 5로 처리\n",
                "prepro_ds.loc[prepro_ds[\"CNT_CHILDREN\"] >= 5, \"CNT_CHILDREN\"] = 5\n",
                "\n",
                "# 이상치 117000000에서 0을 하나 제거함\n",
                "prepro_ds.loc[prepro_ds[\"AMT_INCOME_TOTAL\"] > 1e+08, \"AMT_INCOME_TOTAL\"] = prepro_ds.loc[prepro_ds[\"AMT_INCOME_TOTAL\"] > 1e+08, \"AMT_INCOME_TOTAL\"].map(lambda x: x / 10)\n",
                "\n",
                "# \"AMT_ANNUITY\"를 \"AMT_CREDIT\"기준으로 가장 유사한 값을 통해 대체함\n",
                "prepro_ds[\"AMT_ANNUITY\"] = \\\n",
                "    uf.imput_other_f_mean(prepro_ds, \"AMT_ANNUITY\", \"AMT_CREDIT\")\n",
                "\n",
                "# \"AMT_GOODS_PRICE\"를 \"AMT_CREDIT\"기준으로 가장 유사한 값을 통해 대체함\n",
                "prepro_ds[\"AMT_GOODS_PRICE\"] = \\\n",
                "    uf.imput_other_f_mean(prepro_ds, \"AMT_GOODS_PRICE\", \"AMT_CREDIT\")\n",
                "\n",
                "# SimpleImputer 사용\n",
                "# sp_input = SimpleImputer()\n",
                "# prepro_ds[\"AMT_GOODS_PRICE\"] = \\\n",
                "#     pd.DataFrame(sp_input.fit_transform(\\\n",
                "#         prepro_ds[[\"AMT_GOODS_PRICE\", \"AMT_CREDIT\"]]\n",
                "#         ,columns=[\"AMT_GOODS_PRICE\", \"AMT_CREDIT\"]\n",
                "#                                        )\n",
                "#                 )[\"AMT_GOODS_PRICE\"].hist()\n",
                "\n",
                "# \"EXT_SOURCE_1\"의 결측치를 0으로 대체함\n",
                "# 외부 자료의 신뢰성을 의미하는 자료이므로 외부 자료가 없는 것을 의미한다고 판단됨\n",
                "prepro_ds[\"EXT_SOURCE_1\"].fillna(0, inplace=True)\n",
                "prepro_ds[\"EXT_SOURCE_2\"].fillna(0, inplace=True)\n",
                "prepro_ds[\"EXT_SOURCE_3\"].fillna(0, inplace=True)\n",
                "prepro_ds[\"FONDKAPREMONT_MODE\"].fillna(\"not specified\", inplace=True)\n",
                "\n",
                "# 결측치를 0으로 대체함\n",
                "zero_imputation_lists= [\"FLOORSMIN_MEDI\",\n",
                "                        \"LANDAREA_MEDI\",\n",
                "                        \"LIVINGAPARTMENTS_MEDI\",\n",
                "                        \"LIVINGAREA_MEDI\",\n",
                "                        \"NONLIVINGAPARTMENTS_MEDI\",\n",
                "                        \"NONLIVINGAREA_MEDI\",\n",
                "                        \"TOTALAREA_MODE\",\n",
                "                        \"APARTMENTS_AVG\",\n",
                "                        \"BASEMENTAREA_AVG\",\n",
                "                        \"YEARS_BEGINEXPLUATATION_AVG\",\n",
                "                        \"YEARS_BUILD_AVG\",\n",
                "                        \"COMMONAREA_AVG\",\n",
                "                        \"ELEVATORS_AVG\"]\n",
                "for feature in zero_imputation_lists:\n",
                "    prepro_ds.loc[:, feature].fillna(0, inplace=True)\n",
                "\n",
                "# 중앙값으로 대체함\n",
                "imput_mean = SimpleImputer(strategy=\"median\")\n",
                "prepro_ds[\"ENTRANCES_AVG\"] = imput_mean.fit_transform(prepro_ds[[\"ENTRANCES_AVG\"]])\n",
                "\n",
                "# \"WALLSMATERIAL_MODE\" \"Others\"로 대체\n",
                "prepro_ds[\"WALLSMATERIAL_MODE\"].fillna(\"Others\", inplace=True)\n",
                "\n",
                "# 이상치를 정상값 범위 중 가장 큰 8로 대체함\n",
                "prepro_ds[\"AMT_REQ_CREDIT_BUREAU_QRT\"].fillna(8, inplace=True)\n",
                "\n",
                "# \"HOUSETYPE_MODE\" 결측치 \"XNA\"로 대체 ∵ HOUSE외 주거 시설에 거주한다고 판단.\n",
                "prepro_ds[\"HOUSETYPE_MODE\"].fillna(\"XNA\", inplace=True)\n"
            ],
            "outputs": [],
            "metadata": {}
        },
        {
            "cell_type": "code",
            "execution_count": 98,
            "source": [
                "##########################################################\n",
                "######################### JANGHO #########################\n",
                "##########################################################\n",
                "# Null 처리\n",
                "# prepro_ds['AMT_GOODS_PRICE'].fillna(prepro_ds['AMT_GOODS_PRICE'].mean(), inplace = True)\n",
                "prepro_ds['NAME_TYPE_SUITE'].fillna('Unaccompanied', inplace = True)\n",
                "prepro_ds['EMERGENCYSTATE_MODE'].fillna('No', inplace = True)\n",
                "prepro_ds['AMT_REQ_CREDIT_BUREAU_YEAR'].fillna(0, inplace = True)\n",
                "prepro_ds.loc[:, \"ENTRANCES_AVG\":\"BASEMENTAREA_MODE\"] = \\\n",
                "    prepro_ds.loc[:, \"ENTRANCES_AVG\":\"BASEMENTAREA_MODE\"].fillna(0)\n",
                "prepro_ds.loc[:, \"EMERGENCYSTATE_MODE\":\"DAYS_LAST_PHONE_CHANGE\"] = \\\n",
                "    prepro_ds.loc[:, \"EMERGENCYSTATE_MODE\":\"DAYS_LAST_PHONE_CHANGE\"].fillna(0)\n",
                "prepro_ds.loc[:, \"AMT_REQ_CREDIT_BUREAU_YEAR\"].fillna(0, inplace=True)\n",
                "\n",
                "# IQR을 이용한 Outlier median 대체\n",
                "def replace_outlier_by_med(feature):\n",
                "    q1, q3 = np.percentile(feature, [25, 75])\n",
                "    iqr = q3 - q1\n",
                "    lower_bound = q1 - (iqr*1.5)\n",
                "    upper_bound = q3 + (iqr*1.5)\n",
                "    \n",
                "    mask = np.where((feature > upper_bound) | (feature < lower_bound),feature.median(), feature)\n",
                "    return mask\n",
                "\n",
                "prepro_ds['AMT_GOODS_PRICE'] = replace_outlier_by_med(prepro_ds['AMT_GOODS_PRICE'])"
            ],
            "outputs": [],
            "metadata": {}
        },
        {
            "cell_type": "code",
            "execution_count": 100,
            "source": [
                "##########################################################\n",
                "######################### HYEBIN #########################\n",
                "##########################################################\n",
                "prepro_ds.loc[:, \"NONLIVINGAPARTMENTS_MODE\":\"FLOORSMAX_MEDI\"] = \\\n",
                "    prepro_ds.loc[:, \"NONLIVINGAPARTMENTS_MODE\":\"FLOORSMAX_MEDI\"].fillna(0)\n",
                "prepro_ds.loc[:, \"AMT_REQ_CREDIT_BUREAU_HOUR\":\"AMT_REQ_CREDIT_BUREAU_MON\"] = \\\n",
                "prepro_ds.loc[:, \"AMT_REQ_CREDIT_BUREAU_HOUR\":\"AMT_REQ_CREDIT_BUREAU_MON\"].fillna(0)"
            ],
            "outputs": [],
            "metadata": {}
        },
        {
            "cell_type": "code",
            "execution_count": 101,
            "source": [
                "##########################################################\n",
                "######################## DOOYOUNG ########################\n",
                "##########################################################\n",
                "prepro_ds[\"OWN_CAR_AGE\"].fillna(-1, inplace=True)\n",
                "prepro_ds.loc[:, \"YEARS_BEGINEXPLUATATION_MODE\":\"LIVINGAREA_MODE\"] = \\\n",
                "    prepro_ds.loc[:, \"YEARS_BEGINEXPLUATATION_MODE\":\"LIVINGAREA_MODE\"].fillna(0)\n",
                "prepro_ds[\"OCCUPATION_TYPE\"].fillna(\"Inoccupation\", inplace=True)\n",
                "\n",
                "prepro_ds.loc[prepro_ds[\"CNT_FAM_MEMBERS\"] >= 8, \"CNT_FAM_MEMBERS\"] = 8\n",
                "prepro_ds[\"CNT_FAM_MEMBERS\"].fillna(1, inplace=True)"
            ],
            "outputs": [],
            "metadata": {}
        },
        {
            "cell_type": "code",
            "execution_count": 102,
            "source": [
                "uf.check_missing_value(prepro_ds)"
            ],
            "outputs": [
                {
                    "output_type": "stream",
                    "name": "stdout",
                    "text": [
                        "결측치 없음!\n"
                    ]
                }
            ],
            "metadata": {}
        },
        {
            "cell_type": "markdown",
            "source": [
                "---\n",
                "---"
            ],
            "metadata": {}
        },
        {
            "cell_type": "code",
            "execution_count": 204,
            "source": [
                "credit_card_ds = \\\n",
                "    pd.read_csv(\"../pre_data/new_credit_card_ds_balance.csv\")\n",
                "instal_pay_ds = \\\n",
                "    pd.read_csv(\"../pre_data/new_installments_payments.csv\")\n",
                "pos_cash_ds = \\\n",
                "    pd.read_csv(\"../pre_data/new_POS_CASH_balance.csv\")\n",
                "prev_app_ds = \\\n",
                "    pd.read_csv(\"../pre_data/new_previous_application.csv\")\n",
                "bureau_final = \\\n",
                "    pd.read_csv(\"../pre_data/bureau_final.csv\")"
            ],
            "outputs": [],
            "metadata": {}
        },
        {
            "cell_type": "code",
            "execution_count": 205,
            "source": [
                "# feature 중복 값 확인\n",
                "\n",
                "colum_list = []\n",
                "# colum_list.append(list(credit_card_ds.columns))\n",
                "colum_list.append(list(instal_pay_ds.columns))\n",
                "colum_list.append(list(pos_cash_ds.columns))\n",
                "colum_list.append(list(prev_app_ds.columns))\n",
                "colum_list.append(list(prepro_ds.columns))\n",
                "colum_list.append(list(bureau_final.columns))\n",
                "\n",
                "col_list = []\n",
                "for a in colum_list:\n",
                "    for b in a:\n",
                "        col_list.append(b)\n",
                "\n",
                "pd.DataFrame(col_list).value_counts()#.unique()"
            ],
            "outputs": [
                {
                    "output_type": "execute_result",
                    "data": {
                        "text/plain": [
                            "SK_ID_CURR                     5\n",
                            "AMT_ANNUITY                    2\n",
                            "LIVINGAREA_MODE                1\n",
                            "LIVE_REGION_NOT_WORK_REGION    1\n",
                            "LIVINGAPARTMENTS_AVG           1\n",
                            "                              ..\n",
                            "EMERGENCYSTATE_MODE            1\n",
                            "ELEVATORS_MODE                 1\n",
                            "ELEVATORS_MEDI                 1\n",
                            "ELEVATORS_AVG                  1\n",
                            "연체횟수                           1\n",
                            "Length: 138, dtype: int64"
                        ]
                    },
                    "metadata": {},
                    "execution_count": 205
                }
            ],
            "metadata": {}
        },
        {
            "cell_type": "code",
            "execution_count": 206,
            "source": [
                "# feature name change\n",
                "# credit_card_ds.rename(columns={\"SK_DPD\": \"연체기간(credit_c)\",\n",
                "#                                \"AMT_RECEIVABLE_PRINCIPAL\": \"미수원금\",\n",
                "#                                \"소액연체_비율\": \"소액연체비중(credit_c)\"},\n",
                "#                       inplace=True\n",
                "#                      )\n",
                "pos_cash_ds.rename(columns={\"SK_DPD\": \"연체기간(pos_cash)\",\n",
                "                            \"소액연체_비율\": \"소액연체비중(pos_cash)\"},\n",
                "                   inplace=True\n",
                "                  )\n",
                "bureau_final.rename(columns={\"AMT_ANNUITY\": \"AMT_ANNUITY(bure)\"},\n",
                "                    inplace=True\n",
                "                   )"
            ],
            "outputs": [],
            "metadata": {}
        },
        {
            "cell_type": "code",
            "execution_count": 220,
            "source": [
                "# credit_card.csv의 경우 결측값이 252,697개에 달해 사용할 수 없다고 판단됨.\n",
                "# merge_ds = pd.merge(prepro_ds, credit_card_ds, on=\"SK_ID_CURR\", how=\"left\")\n",
                "merge_ds = pd.merge(prepro_ds, prev_app_ds, on=\"SK_ID_CURR\", how=\"left\")\n",
                "merge_ds = pd.merge(merge_ds, instal_pay_ds, on=\"SK_ID_CURR\", how=\"left\")\n",
                "merge_ds = pd.merge(merge_ds, pos_cash_ds, on=\"SK_ID_CURR\", how=\"left\")\n",
                "merge_ds = pd.merge(merge_ds, bureau_final, on=\"SK_ID_CURR\", how=\"left\")"
            ],
            "outputs": [],
            "metadata": {}
        },
        {
            "cell_type": "code",
            "execution_count": 221,
            "source": [
                "temp_ds = merge_ds[[\"train/test\", \"연체일\"]]\n",
                "temp_ds.loc[temp_ds[\"연체일\"].isna()][\"train/test\"].value_counts()"
            ],
            "outputs": [
                {
                    "output_type": "execute_result",
                    "data": {
                        "text/plain": [
                            "train    33460\n",
                            "test      3486\n",
                            "Name: train/test, dtype: int64"
                        ]
                    },
                    "metadata": {},
                    "execution_count": 221
                }
            ],
            "metadata": {}
        },
        {
            "cell_type": "code",
            "execution_count": 222,
            "source": [
                "uf.check_missing_value(merge_ds)"
            ],
            "outputs": [
                {
                    "output_type": "stream",
                    "name": "stdout",
                    "text": [
                        "122        승인/거부(prev_app)                36,946\n",
                        "123            (추정)이자율                    36,946\n",
                        "124              연체일                      36,946\n",
                        "125             연체횟수                      36,946\n",
                        "126            승인액/요청액                    36,946\n",
                        "127           과거_상환액/총액                   16,671\n",
                        "128        연체기간(pos_cash)                 19,003\n",
                        "129       소액연체비중(pos_cash)                19,003\n",
                        "130       CREDIT_ACTIVE_idx               50,444\n",
                        "131        CREDIT_TYPE_idx                50,444\n",
                        "132      CREDIT_DAY_OVERDUE               50,444\n",
                        "133    AMT_CREDIT_MAX_OVERDUE             50,444\n",
                        "134        AMT_CREDIT_SUM                 50,444\n",
                        "135      AMT_CREDIT_SUM_DEBT              50,444\n",
                        "136    AMT_CREDIT_SUM_OVERDUE             50,444\n",
                        "137       AMT_ANNUITY(bure)               50,444\n",
                        "138        balance_STATUS                 50,444\n"
                    ]
                }
            ],
            "metadata": {}
        },
        {
            "cell_type": "code",
            "execution_count": 223,
            "source": [
                "# ## credit 처리\n",
                "\n",
                "# # \"연체횟수\"가 결측값이고, 연체 기간은 값이 있으면 연체 한 적이 있다고 판단하여 1 값 할당\n",
                "# temp = merge_ds.loc[(merge_ds[\"연체횟수\"].isna()) & \\\n",
                "#                     (merge_ds[\"연체기간(credit_c)\"].notnull()), \n",
                "#                     [\"연체횟수\", \"연체기간(credit_c)\"]\n",
                "#                    ]\n",
                "# ## 연체기간이 0이면 연체횟수는 0\n",
                "# temp.loc[temp[\"연체기간(credit_c)\"] == 0, \"연체횟수\"] = 0\n",
                "# ## 연체기간이 0이 아니면 연체횟수는 1\n",
                "# temp.loc[temp[\"연체기간(credit_c)\"] != 0, \"연체횟수\"] = 1\n",
                "# temp.drop(columns=\"연체기간(credit_c)\", inplace=True)\n",
                "# merge_ds.loc[temp.index, \"연체횟수\"] = temp\n",
                "\n",
                "# # \"연체횟수\"가 결측값이고, 연체 기간은 값이 있으면 연체 한 적이 있다고 판단하여 1 값 할당\n",
                "# temp = merge_ds.loc[(merge_ds[\"연체횟수\"].isna()) & \\\n",
                "#                     (merge_ds[\"연체기간(pos_cash)\"].notnull()), \n",
                "#                     [\"연체횟수\", \"연체기간(pos_cash)\"]\n",
                "#                    ]\n",
                "# ## 연체기간이 0이면 연체횟수는 0\n",
                "# temp.loc[temp[\"연체기간(pos_cash)\"] == 0, \"연체횟수\"] = 0\n",
                "# ## 연체기간이 0이 아니면 연체횟수는 1\n",
                "# temp.loc[temp[\"연체기간(pos_cash)\"] != 0, \"연체횟수\"] = 1\n",
                "# temp.drop(columns=\"연체기간(pos_cash)\", inplace=True)\n",
                "# merge_ds.loc[temp.index, \"연체횟수\"] = temp"
            ],
            "outputs": [],
            "metadata": {}
        },
        {
            "cell_type": "code",
            "execution_count": 233,
            "source": [
                "main_ds = merge_ds.copy()\n",
                "main_ds.drop(columns=\"balance_STATUS\", inplace=True)"
            ],
            "outputs": [],
            "metadata": {}
        },
        {
            "cell_type": "markdown",
            "source": [
                "<hr>\n",
                "<hr>"
            ],
            "metadata": {}
        },
        {
            "cell_type": "code",
            "execution_count": 215,
            "source": [
                "# 승인/거부는 승인은 1 거부는 -1로하여 총 합한 값이기 때문에 - ~ + 사이의 값을 가짐\n",
                "# uf.box_plot(main_ds, '승인/거부(prev_app)')\n"
            ],
            "outputs": [],
            "metadata": {}
        },
        {
            "cell_type": "code",
            "execution_count": 272,
            "source": [
                "# features_list feature 다른 bureau_final 참고해서 대치\n",
                "\n",
                "features_list = [\"승인/거부(prev_app)\", \n",
                "                 \"(추정)이자율\", \n",
                "                 \"연체일\", \n",
                "                 \"연체횟수\",\n",
                "                 \"연체기간(pos_cash)\",\n",
                "                 \"소액연체비중(pos_cash)\"\n",
                "                ]\n",
                "\n",
                "for feature in features_list:\n",
                "    main_ds.loc[(main_ds[feature].isna()) & (main_ds[\"CREDIT_DAY_OVERDUE\"] == 0), \n",
                "                feature] = \\\n",
                "        main_ds.loc[(main_ds[feature].isna()) & (main_ds[\"CREDIT_DAY_OVERDUE\"] == 0), \n",
                "                    feature].fillna(0)\n",
                "\n",
                "for feature in features_list:\n",
                "    main_ds.loc[(main_ds[feature].isna()) & (main_ds[\"연체기간(pos_cash)\"] == 0), \n",
                "                feature] = \\\n",
                "        main_ds.loc[(main_ds[feature].isna()) & (main_ds[\"연체기간(pos_cash)\"] == 0), \n",
                "                    feature].fillna(0)\n",
                "\n",
                "################################################################\n",
                "\n",
                "features_list = [\"승인액/요청액\", \"과거_상환액/총액\"]\n",
                "\n",
                "for feature in features_list:\n",
                "    main_ds.loc[(main_ds[feature].isna()) & (main_ds[\"CREDIT_DAY_OVERDUE\"] == 0), \n",
                "                feature] = \\\n",
                "        main_ds.loc[(main_ds[feature].isna()) & (main_ds[\"CREDIT_DAY_OVERDUE\"] == 0), \n",
                "                    feature].fillna(1)\n",
                "\n",
                "for feature in features_list:\n",
                "    main_ds.loc[(main_ds[feature].isna()) & (main_ds[\"연체기간(pos_cash)\"] == 0), \n",
                "                feature] = \\\n",
                "        main_ds.loc[(main_ds[feature].isna()) & (main_ds[\"연체기간(pos_cash)\"] == 0), \n",
                "                    feature].fillna(1)\n"
            ],
            "outputs": [],
            "metadata": {}
        },
        {
            "cell_type": "markdown",
            "source": [
                "\"CREDIT_ACTIVE_idx\" = 기존 대출 상태의 평균 (Closed, Active ... )/ 0은 낮은 위험도 / 1은 높은 위험도\n",
                "\n",
                "\"CREDIT_TYPE_idx\" = 기존 대출 유형의 평균 / 0은 낮은 위험도 / 1은 높은 위험도\n",
                "\n",
                "\"CREDIT_DAY_OVERDUE\" = 기존 대출 연체 일수의 평균 \n",
                "\n",
                "\"AMT_CREDIT_MAX_OVERDUE\" = 기존 대출 연체 금액 중 최대값\n",
                "\n",
                "\"AMT_CREDIT_SUM\" = 기존 대출 금액 누적 총액\n",
                "\n",
                "\"AMT_CREDIT_SUM_DEBT\" = 기존 대출 중 미상환액 총액\n",
                "\n",
                "\"AMT_CREDIT_SUM_OVERDUE\" = 기존 대출 연체액 총액 \n",
                "\n",
                "\"AMT_ANNUITY(bure)\" = 기존 대출 월상환액의 총액\n",
                "\n",
                "\"balance_STATUS\" = 연체 예측 / 높으면 위험  => <span style=\"color:red\">Drop</span>"
            ],
            "metadata": {}
        },
        {
            "cell_type": "code",
            "execution_count": 273,
            "source": [
                "# bureau_final 결측치 다른 datasets 참고해서 대치\n",
                "\n",
                "# if 연체일 = 0\n",
                "#     => CREDIT_ACTIVE_idx = 0\n",
                "#     => CREDIT_TYPE_idx = 0\n",
                "#     => CREDIT_DAY_OVERDUE = 0\n",
                "#     => AMT_CREDIT_MAX_OVERDUE = 0\n",
                "#     => AMT_CREDIT_SUM = 0\n",
                "#     => AMT_CREDIT_SUM_DEBT = 0\n",
                "#     => AMT_CREDIT_SUM_OVERDUE = 0\n",
                "#     => AMT_ANNUITY(bure) = 0\n",
                "\n",
                "features_list = [\"CREDIT_ACTIVE_idx\", \"CREDIT_TYPE_idx\", \"CREDIT_DAY_OVERDUE\", \n",
                "                 \"AMT_CREDIT_MAX_OVERDUE\", \"AMT_CREDIT_SUM\", \"AMT_CREDIT_SUM_DEBT\", \"AMT_CREDIT_SUM_OVERDUE\", \"AMT_ANNUITY(bure)\"]\n",
                "\n",
                "for feature in features_list:\n",
                "    main_ds.loc[(main_ds[feature].isna()) & (main_ds[\"연체일\"] == 0), \n",
                "                feature] = \\\n",
                "        main_ds.loc[(main_ds[feature].isna()) & (main_ds[\"연체일\"] == 0), \n",
                "                    feature].fillna(0)\n",
                "\n",
                "for feature in features_list:\n",
                "    main_ds.loc[(main_ds[feature].isna()) & (main_ds[\"연체기간(pos_cash)\"] == 0), \n",
                "                feature] = \\\n",
                "        main_ds.loc[(main_ds[feature].isna()) & (main_ds[\"연체기간(pos_cash)\"] == 0), \n",
                "                    feature].fillna(0)\n"
            ],
            "outputs": [],
            "metadata": {}
        },
        {
            "cell_type": "code",
            "execution_count": 315,
            "source": [
                "# 결측행 제거\n",
                "\n",
                "# temp = pd.merge(main_ds, train_target_ds, on=\"SK_ID_CURR\", how=\"left\")\n",
                "\n",
                "# temp.loc[(temp[\"연체일\"].isna()) |\n",
                "#             (temp[\"연체기간(pos_cash)\"].isna()) |\n",
                "#             (temp[\"과거_상환액/총액\"].isna()) |\n",
                "#             (temp[\"CREDIT_ACTIVE_idx\"].isna()) \n",
                "#             , \"TARGET\"].value_counts()\n",
                "\n",
                "main_ds.dropna(inplace=True)"
            ],
            "outputs": [],
            "metadata": {}
        },
        {
            "cell_type": "code",
            "execution_count": 386,
            "source": [
                "main_target_ds = \\\n",
                "    pd.merge(main_ds, train_target_ds, how=\"left\", on=\"SK_ID_CURR\")"
            ],
            "outputs": [],
            "metadata": {}
        },
        {
            "cell_type": "code",
            "execution_count": 392,
            "source": [
                "drop_f_list = [\"EXT_SOURCE_1\", \"EXT_SOURCE_2\", \"EXT_SOURCE_3\",\n",
                "               \"WEEKDAY_APPR_PROCESS_START\", \"HOUR_APPR_PROCESS_START\", \n",
                "               \"DAYS_LAST_PHONE_CHANGE\",\n",
                "               \"APARTMENTS_AVG\", \"BASEMENTAREA_AVG\", \"YEARS_BEGINEXPLUATATION_AVG\", \"YEARS_BUILD_AVG\", \"COMMONAREA_AVG\", \"ELEVATORS_AVG\", \"ENTRANCES_AVG\", \"FLOORSMAX_AVG\", \"FLOORSMIN_AVG\", \"LANDAREA_AVG\",\"LIVINGAPARTMENTS_AVG\", \"LIVINGAREA_AVG\",\"NONLIVINGAPARTMENTS_AVG\", \"NONLIVINGAREA_AVG\", \"APARTMENTS_MODE\", \"BASEMENTAREA_MODE\",\"YEARS_BEGINEXPLUATATION_MODE\", \"YEARS_BUILD_MODE\", \"COMMONAREA_MODE\",\"ELEVATORS_MODE\", \"ENTRANCES_MODE\", \"FLOORSMAX_MODE\", \"FLOORSMIN_MODE\",\"LANDAREA_MODE\", \"LIVINGAPARTMENTS_MODE\", \"LIVINGAREA_MODE\",\"NONLIVINGAPARTMENTS_MODE\", \"NONLIVINGAREA_MODE\", \"APARTMENTS_MEDI\", \"BASEMENTAREA_MEDI\", \"YEARS_BEGINEXPLUATATION_MEDI\",\"YEARS_BUILD_MEDI\",\"COMMONAREA_MEDI\", \"ELEVATORS_MEDI\", \"ENTRANCES_MEDI\",\"FLOORSMAX_MEDI\", \"FLOORSMIN_MEDI\", \"LANDAREA_MEDI\", \"LIVINGAPARTMENTS_MEDI\", \"LIVINGAREA_MEDI\", \"NONLIVINGAPARTMENTS_MEDI\", \"NONLIVINGAREA_MEDI\", \"FONDKAPREMONT_MODE\", \"HOUSETYPE_MODE\", \"TOTALAREA_MODE\", \"WALLSMATERIAL_MODE\", \"EMERGENCYSTATE_MODE\"]\n",
                "\n",
                "main_target_ds.drop(columns=drop_f_list, inplace=True)"
            ],
            "outputs": [],
            "metadata": {}
        },
        {
            "cell_type": "code",
            "execution_count": 402,
            "source": [
                "# train_ds = main_target_ds.loc[main_target_ds[\"train/test\"] == \"train\"]\n",
                "# test_ds = main_target_ds.loc[main_target_ds[\"train/test\"] == \"test\"]\n",
                "# test_ds.drop(columns=[\"TARGET\"], inplace=True)"
            ],
            "outputs": [],
            "metadata": {}
        },
        {
            "cell_type": "code",
            "execution_count": 408,
            "source": [
                "# 차원축소 1 - 개인 연락처 제공 동의 여부\n",
                "# [\"FLAG_MOBIL\", \"FLAG_EMP_PHONE\", \"FLAG_WORK_PHONE\", \"FLAG_CONT_MOBILE\", \"FLAG_PHONE\", \"FLAG_EMAIL\"]\n",
                "\n",
                "\n",
                "# 차원축소 2 - 실제 거주지와 일치 여부\n",
                "# [\"REG_REGION_NOT_LIVE_REGION\", \"REG_REGION_NOT_WORK_REGION\", \"LIVE_REGION_NOT_WORK_REGION\", \"REG_CITY_NOT_LIVE_CITY\", \"REG_CITY_NOT_WORK_CITY\", \"LIVE_CITY_NOT_WORK_CITY\"]\n",
                "\n",
                "\n",
                "# 차원축소 3 - 지인 중 채무자 수\n",
                "# [\"OBS_30_CNT_SOCIAL_CIRCLE\", \"DEF_30_CNT_SOCIAL_CIRCLE\", \"OBS_60_CNT_SOCIAL_CIRCLE\", \"DEF_60_CNT_SOCIAL_CIRCLE\"]\n",
                "\n",
                "\n",
                "# 차원축소 4 - 서류 제출 여부\n",
                "# [\"FLAG_DOCUMENT_2\", \"FLAG_DOCUMENT_3\", \"FLAG_DOCUMENT_4\", \"FLAG_DOCUMENT_5\", \"FLAG_DOCUMENT_6\", \"FLAG_DOCUMENT_7\", \"FLAG_DOCUMENT_8\", \"FLAG_DOCUMENT_9\", \"FLAG_DOCUMENT_10\", \"FLAG_DOCUMENT_11\", \"FLAG_DOCUMENT_12\", \"FLAG_DOCUMENT_13\", \"FLAG_DOCUMENT_14\", \"FLAG_DOCUMENT_15\", \"FLAG_DOCUMENT_16\", \"FLAG_DOCUMENT_17\", \"FLAG_DOCUMENT_18\", \"FLAG_DOCUMENT_19\", \"FLAG_DOCUMENT_20\", \"FLAG_DOCUMENT_21\"]\n",
                "\n",
                "\n",
                "# 차원축소 5 - CB 문의 건수\n",
                "# [\"AMT_REQ_CREDIT_BUREAU_HOUR\", \"AMT_REQ_CREDIT_BUREAU_DAY\", \"AMT_REQ_CREDIT_BUREAU_WEEK\", \"AMT_REQ_CREDIT_BUREAU_MON\", \"AMT_REQ_CREDIT_BUREAU_QRT\", \"AMT_REQ_CREDIT_BUREAU_YEAR\"]"
            ],
            "outputs": [
                {
                    "output_type": "execute_result",
                    "data": {
                        "text/plain": [
                            "Index(['AMT_REQ_CREDIT_BUREAU_HOUR', 'AMT_REQ_CREDIT_BUREAU_DAY',\n",
                            "       'AMT_REQ_CREDIT_BUREAU_WEEK', 'AMT_REQ_CREDIT_BUREAU_MON',\n",
                            "       'AMT_REQ_CREDIT_BUREAU_QRT', 'AMT_REQ_CREDIT_BUREAU_YEAR'],\n",
                            "      dtype='object')"
                        ]
                    },
                    "metadata": {},
                    "execution_count": 408
                }
            ],
            "metadata": {}
        },
        {
            "cell_type": "code",
            "execution_count": 411,
            "source": [
                "main_target_ds.columns"
            ],
            "outputs": [
                {
                    "output_type": "execute_result",
                    "data": {
                        "text/plain": [
                            "Index(['SK_ID_CURR', 'NAME_CONTRACT_TYPE', 'CODE_GENDER', 'FLAG_OWN_CAR',\n",
                            "       'FLAG_OWN_REALTY', 'CNT_CHILDREN', 'AMT_INCOME_TOTAL', 'AMT_CREDIT',\n",
                            "       'AMT_ANNUITY', 'AMT_GOODS_PRICE', 'NAME_TYPE_SUITE', 'NAME_INCOME_TYPE',\n",
                            "       'NAME_EDUCATION_TYPE', 'NAME_FAMILY_STATUS', 'NAME_HOUSING_TYPE',\n",
                            "       'REGION_POPULATION_RELATIVE', 'DAYS_BIRTH', 'DAYS_EMPLOYED',\n",
                            "       'DAYS_REGISTRATION', 'DAYS_ID_PUBLISH', 'OWN_CAR_AGE', 'FLAG_MOBIL',\n",
                            "       'FLAG_EMP_PHONE', 'FLAG_WORK_PHONE', 'FLAG_CONT_MOBILE', 'FLAG_PHONE',\n",
                            "       'FLAG_EMAIL', 'OCCUPATION_TYPE', 'CNT_FAM_MEMBERS',\n",
                            "       'REGION_RATING_CLIENT', 'REGION_RATING_CLIENT_W_CITY',\n",
                            "       'REG_REGION_NOT_LIVE_REGION', 'REG_REGION_NOT_WORK_REGION',\n",
                            "       'LIVE_REGION_NOT_WORK_REGION', 'REG_CITY_NOT_LIVE_CITY',\n",
                            "       'REG_CITY_NOT_WORK_CITY', 'LIVE_CITY_NOT_WORK_CITY',\n",
                            "       'ORGANIZATION_TYPE', 'OBS_30_CNT_SOCIAL_CIRCLE',\n",
                            "       'DEF_30_CNT_SOCIAL_CIRCLE', 'OBS_60_CNT_SOCIAL_CIRCLE',\n",
                            "       'DEF_60_CNT_SOCIAL_CIRCLE', 'FLAG_DOCUMENT_2', 'FLAG_DOCUMENT_3',\n",
                            "       'FLAG_DOCUMENT_4', 'FLAG_DOCUMENT_5', 'FLAG_DOCUMENT_6',\n",
                            "       'FLAG_DOCUMENT_7', 'FLAG_DOCUMENT_8', 'FLAG_DOCUMENT_9',\n",
                            "       'FLAG_DOCUMENT_10', 'FLAG_DOCUMENT_11', 'FLAG_DOCUMENT_12',\n",
                            "       'FLAG_DOCUMENT_13', 'FLAG_DOCUMENT_14', 'FLAG_DOCUMENT_15',\n",
                            "       'FLAG_DOCUMENT_16', 'FLAG_DOCUMENT_17', 'FLAG_DOCUMENT_18',\n",
                            "       'FLAG_DOCUMENT_19', 'FLAG_DOCUMENT_20', 'FLAG_DOCUMENT_21',\n",
                            "       'AMT_REQ_CREDIT_BUREAU_HOUR', 'AMT_REQ_CREDIT_BUREAU_DAY',\n",
                            "       'AMT_REQ_CREDIT_BUREAU_WEEK', 'AMT_REQ_CREDIT_BUREAU_MON',\n",
                            "       'AMT_REQ_CREDIT_BUREAU_QRT', 'AMT_REQ_CREDIT_BUREAU_YEAR', 'train/test',\n",
                            "       '승인/거부(prev_app)', '(추정)이자율', '연체일', '연체횟수', '승인액/요청액', '과거_상환액/총액',\n",
                            "       '연체기간(pos_cash)', '소액연체비중(pos_cash)', 'CREDIT_ACTIVE_idx',\n",
                            "       'CREDIT_TYPE_idx', 'CREDIT_DAY_OVERDUE', 'AMT_CREDIT_MAX_OVERDUE',\n",
                            "       'AMT_CREDIT_SUM', 'AMT_CREDIT_SUM_DEBT', 'AMT_CREDIT_SUM_OVERDUE',\n",
                            "       'AMT_ANNUITY(bure)', 'TARGET'],\n",
                            "      dtype='object')"
                        ]
                    },
                    "metadata": {},
                    "execution_count": 411
                }
            ],
            "metadata": {}
        },
        {
            "cell_type": "code",
            "execution_count": 443,
            "source": [
                "pca = PCA(n_components=1)\n",
                "# tt = pd.DataFrame({pca.fit_transform(main_target_ds[[\"FLAG_MOBIL\", \"FLAG_EMP_PHONE\", \"FLAG_CONT_MOBILE\"]])})\n",
                "pd.DataFrame(pca.fit_transform(main_target_ds[[\"FLAG_MOBIL\", \"FLAG_EMP_PHONE\", \"FLAG_CONT_MOBILE\"]]), column_name=\"ii\")\n",
                "# print(pca.explained_variance_ratio_)\n"
            ],
            "outputs": [
                {
                    "output_type": "error",
                    "ename": "TypeError",
                    "evalue": "__init__() got an unexpected keyword argument 'column_name'",
                    "traceback": [
                        "\u001b[0;31m---------------------------------------------------------------------------\u001b[0m",
                        "\u001b[0;31mTypeError\u001b[0m                                 Traceback (most recent call last)",
                        "\u001b[0;32m<ipython-input-443-d25a5953680d>\u001b[0m in \u001b[0;36m<module>\u001b[0;34m\u001b[0m\n\u001b[1;32m      1\u001b[0m \u001b[0mpca\u001b[0m \u001b[0;34m=\u001b[0m \u001b[0mPCA\u001b[0m\u001b[0;34m(\u001b[0m\u001b[0mn_components\u001b[0m\u001b[0;34m=\u001b[0m\u001b[0;36m1\u001b[0m\u001b[0;34m)\u001b[0m\u001b[0;34m\u001b[0m\u001b[0;34m\u001b[0m\u001b[0m\n\u001b[1;32m      2\u001b[0m \u001b[0;31m# tt = pd.DataFrame({pca.fit_transform(main_target_ds[[\"FLAG_MOBIL\", \"FLAG_EMP_PHONE\", \"FLAG_CONT_MOBILE\"]])})\u001b[0m\u001b[0;34m\u001b[0m\u001b[0;34m\u001b[0m\u001b[0;34m\u001b[0m\u001b[0m\n\u001b[0;32m----> 3\u001b[0;31m \u001b[0mpd\u001b[0m\u001b[0;34m.\u001b[0m\u001b[0mDataFrame\u001b[0m\u001b[0;34m(\u001b[0m\u001b[0mpca\u001b[0m\u001b[0;34m.\u001b[0m\u001b[0mfit_transform\u001b[0m\u001b[0;34m(\u001b[0m\u001b[0mmain_target_ds\u001b[0m\u001b[0;34m[\u001b[0m\u001b[0;34m[\u001b[0m\u001b[0;34m\"FLAG_MOBIL\"\u001b[0m\u001b[0;34m,\u001b[0m \u001b[0;34m\"FLAG_EMP_PHONE\"\u001b[0m\u001b[0;34m,\u001b[0m \u001b[0;34m\"FLAG_CONT_MOBILE\"\u001b[0m\u001b[0;34m]\u001b[0m\u001b[0;34m]\u001b[0m\u001b[0;34m)\u001b[0m\u001b[0;34m,\u001b[0m \u001b[0mcolumn_name\u001b[0m\u001b[0;34m=\u001b[0m\u001b[0;34m\"ii\"\u001b[0m\u001b[0;34m)\u001b[0m\u001b[0;34m\u001b[0m\u001b[0;34m\u001b[0m\u001b[0m\n\u001b[0m\u001b[1;32m      4\u001b[0m \u001b[0;31m# print(pca.explained_variance_ratio_)\u001b[0m\u001b[0;34m\u001b[0m\u001b[0;34m\u001b[0m\u001b[0;34m\u001b[0m\u001b[0m\n",
                        "\u001b[0;31mTypeError\u001b[0m: __init__() got an unexpected keyword argument 'column_name'"
                    ]
                }
            ],
            "metadata": {}
        },
        {
            "cell_type": "code",
            "execution_count": 429,
            "source": [
                "pd.DataFrame"
            ],
            "outputs": [
                {
                    "output_type": "execute_result",
                    "data": {
                        "text/plain": [
                            "array([0.98806182])"
                        ]
                    },
                    "metadata": {},
                    "execution_count": 429
                }
            ],
            "metadata": {}
        },
        {
            "cell_type": "code",
            "execution_count": null,
            "source": [],
            "outputs": [],
            "metadata": {}
        }
    ],
    "metadata": {
        "orig_nbformat": 4,
        "language_info": {
            "name": "python",
            "version": "3.9.6",
            "mimetype": "text/x-python",
            "codemirror_mode": {
                "name": "ipython",
                "version": 3
            },
            "pygments_lexer": "ipython3",
            "nbconvert_exporter": "python",
            "file_extension": ".py"
        },
        "kernelspec": {
            "name": "python3",
            "display_name": "Python 3.9.6 64-bit"
        },
        "interpreter": {
            "hash": "7812ea015bdcee6f23a998adcdd2ef97c151c0c241b7b7070987d9313e41299d"
        }
    },
    "nbformat": 4,
    "nbformat_minor": 2
}