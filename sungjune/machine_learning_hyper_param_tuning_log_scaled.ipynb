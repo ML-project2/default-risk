{
 "cells": [
  {
   "cell_type": "code",
   "execution_count": 1,
   "metadata": {},
   "outputs": [],
   "source": [
    "import pandas as pd\n",
    "import numpy as np\n",
    "import matplotlib.pyplot as plt\n",
    "%matplotlib inline\n",
    "import seaborn as sns\n",
    "from sklearn.model_selection import train_test_split, GridSearchCV\n",
    "import xgboost\n",
    "from xgboost import XGBClassifier, XGBRegressor\n",
    "# from xgboost import plot_importance # Features Importance 시각화\n",
    "from sklearn.metrics import roc_auc_score\n",
    "import hyperopt as hopt\n",
    "from hyperopt import STATUS_OK, Trials, fmin, hp, tpe\n",
    "\n",
    "\n",
    "import user_functions as uf\n",
    "\n",
    "\n",
    "from matplotlib import rc\n",
    "\n",
    "\n",
    "rc('font', family='NanumGothic.ttf')\n",
    "# .py import 상하위폴더\n",
    "# https://brownbears.tistory.com/296\n",
    "\n",
    "\n",
    "# import matplotlib.font_manager as fm\n",
    "# fm.findSystemFonts(fontpaths=None, fontext='ttf')"
   ]
  },
  {
   "cell_type": "code",
   "execution_count": 2,
   "metadata": {},
   "outputs": [],
   "source": [
    "# load\n",
    "train_datasets = pd.read_csv(\"../pre_data/[no_up]train_datasets(log_scal).csv\",\n",
    "                             index_col=0)\n",
    "\n",
    "# Label 만들기\n",
    "train_target_ds = train_datasets[\"TARGET\"]\n",
    "train_target_ds = train_target_ds.astype(\"int32\")\n",
    "\n",
    "# TARGET feature 삭제\n",
    "train_datasets.drop(columns=\"TARGET\", inplace=True)\n",
    "\n",
    "X_train , X_test , y_train , y_test = \\\n",
    "    train_test_split(train_datasets, \n",
    "                     train_target_ds, \n",
    "                     test_size=0.2, \n",
    "                     random_state=2021,\n",
    "                     stratify=train_target_ds\n",
    "                    )\n",
    "\n",
    "# Valid\n",
    "X_train_v, X_valid, y_train_v, y_valid = \\\n",
    "    train_test_split(X_train, \n",
    "                     y_train, \n",
    "                     test_size=0.25, \n",
    "                     random_state=2021,\n",
    "                     stratify=y_train\n",
    "                    )"
   ]
  },
  {
   "cell_type": "code",
   "execution_count": 3,
   "metadata": {},
   "outputs": [],
   "source": [
    "from sklearn.metrics import accuracy_score, precision_score, recall_score, roc_auc_score\n",
    "from sklearn.metrics import f1_score, confusion_matrix, precision_recall_curve, roc_curve\n",
    "\n",
    "def get_clf_eval(y_test, pred=None, pred_proba=None):\n",
    "    confusion = confusion_matrix(y_test, pred) # 오차행렬\n",
    "    accuracy = accuracy_score(y_test, pred)    # 정확도\n",
    "    precision = precision_score(y_test, pred)  # 정밀도\n",
    "    recall = recall_score(y_test, pred)        # 재현율\n",
    "    \n",
    "    # F1 스코어 추가\n",
    "    f1 = f1_score(y_test, pred)\n",
    "    print(\"오차 행렬\")\n",
    "    print(confusion)\n",
    "    \n",
    "    # ROC-AUC 추가\n",
    "    roc_auc = roc_auc_score(y_test, pred_proba)\n",
    "    \n",
    "    print('정확도 : {0:.4f}, 정밀도: {1:.4f}, 재현율 : {2:.4f},\\\n",
    "    F1 : {3:.4f}, AUC:{4:.4f}'.format(accuracy, precision, recall, f1, roc_auc))"
   ]
  },
  {
   "cell_type": "code",
   "execution_count": 25,
   "metadata": {
    "scrolled": true
   },
   "outputs": [],
   "source": [
    "# xgb_r_d = XGBRegressor(n_estimators=1000,\n",
    "#                      objective=\"binary:logitraw\", \n",
    "# #                         \"binary:logistic\", 7574\n",
    "# #                        \"reg:logistic\", 7574\n",
    "#                      use_label_encoder=False,\n",
    "#                      tree_method=\"gpu_hist\",\n",
    "#                      booster=\"gbtree\" # 7576\n",
    "#                     )\n",
    "\n",
    "# xgb_r_d.fit(X_train_v, y_train_v,\n",
    "#         eval_metric=\"auc\", \n",
    "#         early_stopping_rounds=300,\n",
    "#         eval_set=[(X_train, y_train),(X_train_v, y_train_v), (X_valid, y_valid)],\n",
    "#         verbose=100, # 10개 단위로 출력\n",
    "#        )\n",
    "\n",
    "# pred = xgb_r_d.predict(X_test)\n",
    "# # pred_p = pd.DataFrame(xgb_r_d.predict_proba(X_test))[1]\n",
    "# print(\"train best     score:\", format(xgb_r_d.best_score, \".4f\"))\n",
    "# print(\"train best iteration:\", format(xgb_r_d.best_iteration, \".3f\"))\n",
    "# print(\"@test  roc_auc_score:\", format(roc_auc_score(y_test, pred), \".4f\"))\n",
    "# # print(\"@test  roc_auc_score:\", format(roc_auc_score(y_test, pred_p), \".4f\"))\n",
    "\n",
    "# get_clf_eval(y_test, pred)"
   ]
  },
  {
   "cell_type": "code",
   "execution_count": 28,
   "metadata": {},
   "outputs": [
    {
     "name": "stdout",
     "output_type": "stream",
     "text": [
      "[0]\tvalidation_0-auc:0.71462\tvalidation_1-auc:0.71729\tvalidation_2-auc:0.70658\n",
      "[100]\tvalidation_0-auc:0.84765\tvalidation_1-auc:0.87878\tvalidation_2-auc:0.75356\n",
      "[200]\tvalidation_0-auc:0.88559\tvalidation_1-auc:0.93107\tvalidation_2-auc:0.74591\n",
      "[300]\tvalidation_0-auc:0.90908\tvalidation_1-auc:0.96263\tvalidation_2-auc:0.74059\n",
      "[348]\tvalidation_0-auc:0.91636\tvalidation_1-auc:0.97235\tvalidation_2-auc:0.73813\n",
      "train best     score: 0.7565\n",
      "train best iteration: 48.000\n",
      "@test  roc_auc_score: 0.5146\n",
      "@test  roc_auc_score: 0.7574\n",
      "오차 행렬\n",
      "[[55705   171]\n",
      " [ 4735   158]]\n",
      "정확도 : 0.9193, 정밀도: 0.4802, 재현율 : 0.0323,    F1 : 0.0605, AUC:0.7574\n"
     ]
    }
   ],
   "source": [
    "# 기본 모델\n",
    "xgb_c_b = XGBClassifier(n_estimators=1000,\n",
    "                        use_label_encoder=False,\n",
    "                        tree_method=\"gpu_hist\",\n",
    "                       )\n",
    "\n",
    "xgb_c_b.fit(X_train_v, y_train_v,\n",
    "            eval_metric=\"auc\", \n",
    "            early_stopping_rounds=300,\n",
    "            eval_set=[(X_train, y_train),(X_train_v, y_train_v), (X_valid, y_valid)],\n",
    "            verbose=100\n",
    "           )\n",
    "pred = xgb_c_b.predict(X_test)\n",
    "pred_p = pd.DataFrame(xgb_c_b.predict_proba(X_test))[1]\n",
    "print(\"train best     score:\", format(xgb_c_b.best_score, \".4f\"))\n",
    "print(\"train best iteration:\", format(xgb_c_b.best_iteration, \".3f\"))\n",
    "# print(\"@test  roc_auc_score:\", format(roc_auc_score(y_test, pred), \".4f\"))\n",
    "print(\"@test  roc_auc_score:\", format(roc_auc_score(y_test, pred_p), \".4f\"))\n",
    "get_clf_eval(y_test, pred, pred_p)"
   ]
  },
  {
   "cell_type": "markdown",
   "metadata": {},
   "source": [
    "# 하이퍼파라미터 튜닝(RMSE)\n",
    "---"
   ]
  },
  {
   "cell_type": "code",
   "execution_count": 7,
   "metadata": {
    "collapsed": true
   },
   "outputs": [
    {
     "name": "stdout",
     "output_type": "stream",
     "text": [
      "  0%|          | 0/50 [00:00<?, ?trial/s, best loss=?]"
     ]
    },
    {
     "name": "stderr",
     "output_type": "stream",
     "text": [
      "/home/lab10/.local/lib/python3.6/site-packages/xgboost/sklearn.py:1146: UserWarning: The use of label encoder in XGBClassifier is deprecated and will be removed in a future release. To remove this warning, do the following: 1) Pass option use_label_encoder=False when constructing XGBClassifier object; and 2) Encode your labels (y) as integers starting with 0, i.e. 0, 1, 2, ..., [num_class - 1].\n",
      "  warnings.warn(label_encoder_deprecation_msg, UserWarning)\n",
      "\n"
     ]
    },
    {
     "name": "stdout",
     "output_type": "stream",
     "text": [
      "[0]\tvalidation_0-auc:0.61702\tvalidation_1-auc:0.60607 \n",
      "[50]\tvalidation_0-auc:0.79318\tvalidation_1-auc:0.76116\n",
      "[99]\tvalidation_0-auc:0.81661\tvalidation_1-auc:0.76362\n",
      "==================================================    \n",
      "XGBClassifier(base_score=0.8, booster='gbtree', colsample_bylevel=1,\n",
      "              colsample_bynode=1, colsample_bytree=0.2, gamma=0, gpu_id=0,\n",
      "              importance_type='gain', interaction_constraints='',\n",
      "              learning_rate=0.18, max_delta_step=0, max_depth=6,\n",
      "              min_child_weight=1, missing=nan, monotone_constraints='()',\n",
      "              n_estimators=100, n_jobs=4, num_parallel_tree=1,\n",
      "              objective='reg:logistic', random_state=0, reg_alpha=5.0,\n",
      "              reg_lambda=0.0001, scale_pos_weight=4.0,\n",
      "              subsample=0.6000000000000001, tree_method='gpu_hist',\n",
      "              validate_parameters=1, verbosity=None)\n",
      "train best     score:                                 \n",
      "0.7636                                                \n",
      "test   roc_auc_score:                                 \n",
      "0.6154                                                \n",
      "ok                                                    \n",
      "==================================================    \n",
      "  2%|▏         | 1/50 [00:05<04:08,  5.08s/trial, best loss: 0.3346608636558618]"
     ]
    },
    {
     "name": "stderr",
     "output_type": "stream",
     "text": [
      "/home/lab10/.local/lib/python3.6/site-packages/xgboost/sklearn.py:1146: UserWarning: The use of label encoder in XGBClassifier is deprecated and will be removed in a future release. To remove this warning, do the following: 1) Pass option use_label_encoder=False when constructing XGBClassifier object; and 2) Encode your labels (y) as integers starting with 0, i.e. 0, 1, 2, ..., [num_class - 1].\n",
      "  warnings.warn(label_encoder_deprecation_msg, UserWarning)\n",
      "\n"
     ]
    },
    {
     "name": "stdout",
     "output_type": "stream",
     "text": [
      "[0]\tvalidation_0-auc:0.69788\tvalidation_1-auc:0.68282                           \n",
      "[50]\tvalidation_0-auc:0.76471\tvalidation_1-auc:0.74736                          \n",
      "[99]\tvalidation_0-auc:0.77997\tvalidation_1-auc:0.75534                          \n",
      "==================================================                              \n",
      "XGBClassifier(base_score=0.7000000000000001, booster='gbtree',                  \n",
      "              colsample_bylevel=1, colsample_bynode=1, colsample_bytree=0.8,\n",
      "              gamma=0, gpu_id=0, importance_type='gain',\n",
      "              interaction_constraints='', learning_rate=0.03, max_delta_step=0,\n",
      "              max_depth=6, min_child_weight=1, missing=nan,\n",
      "              monotone_constraints='()', n_estimators=100, n_jobs=4,\n",
      "              num_parallel_tree=1, objective='reg:logistic', random_state=0,\n",
      "              reg_alpha=0.001, reg_lambda=5.0, scale_pos_weight=8.0,\n",
      "              subsample=1.0, tree_method='gpu_hist', validate_parameters=1,\n",
      "              verbosity=None)\n",
      "train best     score:                                                           \n",
      "0.7553                                                                          \n",
      "test   roc_auc_score:                                                           \n",
      "0.6768                                                                          \n",
      "ok                                                                              \n",
      "==================================================                              \n",
      "  4%|▍         | 2/50 [00:10<04:19,  5.40s/trial, best loss: 0.3346608636558618]"
     ]
    },
    {
     "name": "stderr",
     "output_type": "stream",
     "text": [
      "/home/lab10/.local/lib/python3.6/site-packages/xgboost/sklearn.py:1146: UserWarning: The use of label encoder in XGBClassifier is deprecated and will be removed in a future release. To remove this warning, do the following: 1) Pass option use_label_encoder=False when constructing XGBClassifier object; and 2) Encode your labels (y) as integers starting with 0, i.e. 0, 1, 2, ..., [num_class - 1].\n",
      "  warnings.warn(label_encoder_deprecation_msg, UserWarning)\n",
      "\n"
     ]
    },
    {
     "name": "stdout",
     "output_type": "stream",
     "text": [
      "[0]\tvalidation_0-auc:0.64962\tvalidation_1-auc:0.64135                           \n",
      "[50]\tvalidation_0-auc:0.77338\tvalidation_1-auc:0.75627                          \n",
      "[99]\tvalidation_0-auc:0.78673\tvalidation_1-auc:0.75964                          \n",
      "==================================================                              \n",
      "XGBClassifier(base_score=0.6000000000000001, booster='gbtree',                  \n",
      "              colsample_bylevel=1, colsample_bynode=1, colsample_bytree=0.4,\n",
      "              gamma=0, gpu_id=0, importance_type='gain',\n",
      "              interaction_constraints='', learning_rate=0.06, max_delta_step=0,\n",
      "              max_depth=6, min_child_weight=1, missing=nan,\n",
      "              monotone_constraints='()', n_estimators=100, n_jobs=4,\n",
      "              num_parallel_tree=1, random_state=0, reg_alpha=0.01,\n",
      "              reg_lambda=5.0, scale_pos_weight=8.0, subsample=0.2,\n",
      "              tree_method='gpu_hist', validate_parameters=1, verbosity=None)\n",
      "train best     score:                                                           \n",
      "0.7596                                                                          \n",
      "test   roc_auc_score:                                                           \n",
      "0.6767                                                                          \n",
      "ok                                                                              \n",
      "==================================================                              \n",
      "  6%|▌         | 3/50 [00:15<03:58,  5.07s/trial, best loss: 0.3346608636558618]"
     ]
    },
    {
     "name": "stderr",
     "output_type": "stream",
     "text": [
      "/home/lab10/.local/lib/python3.6/site-packages/xgboost/sklearn.py:1146: UserWarning: The use of label encoder in XGBClassifier is deprecated and will be removed in a future release. To remove this warning, do the following: 1) Pass option use_label_encoder=False when constructing XGBClassifier object; and 2) Encode your labels (y) as integers starting with 0, i.e. 0, 1, 2, ..., [num_class - 1].\n",
      "  warnings.warn(label_encoder_deprecation_msg, UserWarning)\n",
      "\n"
     ]
    },
    {
     "name": "stdout",
     "output_type": "stream",
     "text": [
      "[0]\tvalidation_0-auc:0.66221\tvalidation_1-auc:0.65074                           \n",
      "[50]\tvalidation_0-auc:0.76629\tvalidation_1-auc:0.74994                          \n",
      "[99]\tvalidation_0-auc:0.77918\tvalidation_1-auc:0.75634                          \n",
      "==================================================                              \n",
      "XGBClassifier(base_score=0.6000000000000001, booster='gbtree',                  \n",
      "              colsample_bylevel=1, colsample_bynode=1,\n",
      "              colsample_bytree=0.6000000000000001, gamma=0, gpu_id=0,\n",
      "              importance_type='gain', interaction_constraints='',\n",
      "              learning_rate=0.03, max_delta_step=0, max_depth=6,\n",
      "              min_child_weight=1, missing=nan, monotone_constraints='()',\n",
      "              n_estimators=100, n_jobs=4, num_parallel_tree=1,\n",
      "              objective='binary:logitraw', random_state=0, reg_alpha=0.0001,\n",
      "              reg_lambda=1e-05, scale_pos_weight=6.0, subsample=0.8,\n",
      "              tree_method='gpu_hist', validate_parameters=1, verbosity=None)\n",
      "train best     score:                                                           \n",
      "0.7563                                                                          \n",
      "test   roc_auc_score:                                                           \n",
      "0.5682                                                                          \n",
      "ok                                                                              \n",
      "==================================================                              \n",
      "  8%|▊         | 4/50 [00:21<04:09,  5.42s/trial, best loss: 0.30166263535766663]"
     ]
    },
    {
     "name": "stderr",
     "output_type": "stream",
     "text": [
      "/home/lab10/.local/lib/python3.6/site-packages/xgboost/sklearn.py:1146: UserWarning: The use of label encoder in XGBClassifier is deprecated and will be removed in a future release. To remove this warning, do the following: 1) Pass option use_label_encoder=False when constructing XGBClassifier object; and 2) Encode your labels (y) as integers starting with 0, i.e. 0, 1, 2, ..., [num_class - 1].\n",
      "  warnings.warn(label_encoder_deprecation_msg, UserWarning)\n",
      "\n"
     ]
    },
    {
     "name": "stdout",
     "output_type": "stream",
     "text": [
      "[0]\tvalidation_0-auc:0.64680\tvalidation_1-auc:0.63916                            \n",
      "[50]\tvalidation_0-auc:0.77848\tvalidation_1-auc:0.76204                           \n",
      "[99]\tvalidation_0-auc:0.79234\tvalidation_1-auc:0.76611                           \n",
      "==================================================                               \n",
      "XGBClassifier(base_score=0.6000000000000001, booster='gbtree',                   \n",
      "              colsample_bylevel=1, colsample_bynode=1, colsample_bytree=0.4,\n",
      "              gamma=0, gpu_id=0, importance_type='gain',\n",
      "              interaction_constraints='', learning_rate=0.15, max_delta_step=0,\n",
      "              max_depth=6, min_child_weight=1, missing=nan,\n",
      "              monotone_constraints='()', n_estimators=100, n_jobs=4,\n",
      "              num_parallel_tree=1, random_state=0, reg_alpha=100.0,\n",
      "              reg_lambda=5.0, scale_pos_weight=6.0, subsample=0.8,\n",
      "              tree_method='gpu_hist', validate_parameters=1, verbosity=None)\n",
      "train best     score:                                                            \n",
      "0.7661                                                                           \n",
      "test   roc_auc_score:                                                            \n",
      "0.6591                                                                           \n",
      "ok                                                                               \n",
      "==================================================                               \n",
      " 10%|█         | 5/50 [00:26<03:57,  5.27s/trial, best loss: 0.30166263535766663]"
     ]
    },
    {
     "name": "stderr",
     "output_type": "stream",
     "text": [
      "/home/lab10/.local/lib/python3.6/site-packages/xgboost/sklearn.py:1146: UserWarning: The use of label encoder in XGBClassifier is deprecated and will be removed in a future release. To remove this warning, do the following: 1) Pass option use_label_encoder=False when constructing XGBClassifier object; and 2) Encode your labels (y) as integers starting with 0, i.e. 0, 1, 2, ..., [num_class - 1].\n",
      "  warnings.warn(label_encoder_deprecation_msg, UserWarning)\n",
      "\n"
     ]
    },
    {
     "name": "stdout",
     "output_type": "stream",
     "text": [
      "[0]\tvalidation_0-auc:0.65891\tvalidation_1-auc:0.64615                            \n",
      "[50]\tvalidation_0-auc:0.79656\tvalidation_1-auc:0.76095                           \n",
      "[99]\tvalidation_0-auc:0.82009\tvalidation_1-auc:0.76357                           \n",
      "==================================================                               \n",
      "XGBClassifier(base_score=0.6000000000000001, booster='gbtree',                   \n",
      "              colsample_bylevel=1, colsample_bynode=1, colsample_bytree=0.4,\n",
      "              gamma=0, gpu_id=0, importance_type='gain',\n",
      "              interaction_constraints='', learning_rate=0.12, max_delta_step=0,\n",
      "              max_depth=6, min_child_weight=1, missing=nan,\n",
      "              monotone_constraints='()', n_estimators=100, n_jobs=4,\n",
      "              num_parallel_tree=1, objective='binary:logitraw', random_state=0,\n",
      "              reg_alpha=0.0001, reg_lambda=0.1, scale_pos_weight=8.0,\n",
      "              subsample=0.8, tree_method='gpu_hist', validate_parameters=1,\n",
      "              verbosity=None)\n",
      "train best     score:                                                            \n",
      "0.7637                                                                           \n",
      "test   roc_auc_score:                                                            \n",
      "0.6335                                                                           \n",
      "ok                                                                               \n",
      "==================================================                               \n",
      " 12%|█▏        | 6/50 [00:31<03:45,  5.13s/trial, best loss: 0.30166263535766663]"
     ]
    },
    {
     "name": "stderr",
     "output_type": "stream",
     "text": [
      "/home/lab10/.local/lib/python3.6/site-packages/xgboost/sklearn.py:1146: UserWarning: The use of label encoder in XGBClassifier is deprecated and will be removed in a future release. To remove this warning, do the following: 1) Pass option use_label_encoder=False when constructing XGBClassifier object; and 2) Encode your labels (y) as integers starting with 0, i.e. 0, 1, 2, ..., [num_class - 1].\n",
      "  warnings.warn(label_encoder_deprecation_msg, UserWarning)\n",
      "\n"
     ]
    },
    {
     "name": "stdout",
     "output_type": "stream",
     "text": [
      "[0]\tvalidation_0-auc:0.63948\tvalidation_1-auc:0.63358                            \n",
      "[50]\tvalidation_0-auc:0.75626\tvalidation_1-auc:0.75062                           \n",
      "[99]\tvalidation_0-auc:0.76604\tvalidation_1-auc:0.75772                           \n",
      "==================================================                               \n",
      "XGBClassifier(base_score=0.6000000000000001, booster='gbtree',                   \n",
      "              colsample_bylevel=1, colsample_bynode=1, colsample_bytree=0.4,\n",
      "              gamma=0, gpu_id=0, importance_type='gain',\n",
      "              interaction_constraints='', learning_rate=0.06, max_delta_step=0,\n",
      "              max_depth=6, min_child_weight=1, missing=nan,\n",
      "              monotone_constraints='()', n_estimators=100, n_jobs=4,\n",
      "              num_parallel_tree=1, random_state=0, reg_alpha=100.0,\n",
      "              reg_lambda=0.1, scale_pos_weight=8.0, subsample=0.2,\n",
      "              tree_method='gpu_hist', validate_parameters=1, verbosity=None)\n",
      "train best     score:                                                            \n",
      "0.7577                                                                           \n",
      "test   roc_auc_score:                                                            \n",
      "0.6796                                                                           \n",
      "ok                                                                               \n",
      "==================================================                               \n",
      " 14%|█▍        | 7/50 [00:35<03:31,  4.92s/trial, best loss: 0.30166263535766663]"
     ]
    },
    {
     "name": "stderr",
     "output_type": "stream",
     "text": [
      "/home/lab10/.local/lib/python3.6/site-packages/xgboost/sklearn.py:1146: UserWarning: The use of label encoder in XGBClassifier is deprecated and will be removed in a future release. To remove this warning, do the following: 1) Pass option use_label_encoder=False when constructing XGBClassifier object; and 2) Encode your labels (y) as integers starting with 0, i.e. 0, 1, 2, ..., [num_class - 1].\n",
      "  warnings.warn(label_encoder_deprecation_msg, UserWarning)\n",
      "\n"
     ]
    },
    {
     "name": "stdout",
     "output_type": "stream",
     "text": [
      "[0]\tvalidation_0-auc:0.66263\tvalidation_1-auc:0.65263                            \n",
      "[50]\tvalidation_0-auc:0.77723\tvalidation_1-auc:0.75608                           \n",
      "[99]\tvalidation_0-auc:0.79785\tvalidation_1-auc:0.76345                           \n",
      "==================================================                               \n",
      "XGBClassifier(base_score=0.5, booster='gbtree', colsample_bylevel=1,             \n",
      "              colsample_bynode=1, colsample_bytree=0.6000000000000001, gamma=0,\n",
      "              gpu_id=0, importance_type='gain', interaction_constraints='',\n",
      "              learning_rate=0.06, max_delta_step=0, max_depth=6,\n",
      "              min_child_weight=1, missing=nan, monotone_constraints='()',\n",
      "              n_estimators=100, n_jobs=4, num_parallel_tree=1, random_state=0,\n",
      "              reg_alpha=0.01, reg_lambda=5.0, scale_pos_weight=6.0,\n",
      "              subsample=0.8, tree_method='gpu_hist', validate_parameters=1,\n",
      "              verbosity=None)\n",
      "train best     score:                                                            \n",
      "0.7635                                                                           \n",
      "test   roc_auc_score:                                                            \n",
      "0.6530                                                                           \n",
      "ok                                                                               \n",
      "==================================================                               \n",
      " 16%|█▌        | 8/50 [00:40<03:30,  5.01s/trial, best loss: 0.30166263535766663]"
     ]
    },
    {
     "name": "stderr",
     "output_type": "stream",
     "text": [
      "/home/lab10/.local/lib/python3.6/site-packages/xgboost/sklearn.py:1146: UserWarning: The use of label encoder in XGBClassifier is deprecated and will be removed in a future release. To remove this warning, do the following: 1) Pass option use_label_encoder=False when constructing XGBClassifier object; and 2) Encode your labels (y) as integers starting with 0, i.e. 0, 1, 2, ..., [num_class - 1].\n",
      "  warnings.warn(label_encoder_deprecation_msg, UserWarning)\n",
      "\n"
     ]
    },
    {
     "name": "stdout",
     "output_type": "stream",
     "text": [
      "[0]\tvalidation_0-auc:0.67815\tvalidation_1-auc:0.67455                            \n",
      "[50]\tvalidation_0-auc:0.75265\tvalidation_1-auc:0.74177                           \n",
      "[99]\tvalidation_0-auc:0.76833\tvalidation_1-auc:0.75206                           \n",
      "==================================================                               \n",
      "XGBClassifier(base_score=0.6000000000000001, booster='gbtree',                   \n",
      "              colsample_bylevel=1, colsample_bynode=1, colsample_bytree=0.8,\n",
      "              gamma=0, gpu_id=0, importance_type='gain',\n",
      "              interaction_constraints='', learning_rate=0.03, max_delta_step=0,\n",
      "              max_depth=6, min_child_weight=1, missing=nan,\n",
      "              monotone_constraints='()', n_estimators=100, n_jobs=4,\n",
      "              num_parallel_tree=1, random_state=0, reg_alpha=0.0001,\n",
      "              reg_lambda=100.0, scale_pos_weight=4.0, subsample=0.8,\n",
      "              tree_method='gpu_hist', validate_parameters=1, verbosity=None)\n",
      "train best     score:                                                            \n",
      "0.7521                                                                           \n",
      "test   roc_auc_score:                                                            \n",
      "0.5865                                                                           \n",
      "ok                                                                               \n",
      "==================================================                               \n",
      " 18%|█▊        | 9/50 [00:46<03:27,  5.07s/trial, best loss: 0.30166263535766663]"
     ]
    },
    {
     "name": "stderr",
     "output_type": "stream",
     "text": [
      "/home/lab10/.local/lib/python3.6/site-packages/xgboost/sklearn.py:1146: UserWarning: The use of label encoder in XGBClassifier is deprecated and will be removed in a future release. To remove this warning, do the following: 1) Pass option use_label_encoder=False when constructing XGBClassifier object; and 2) Encode your labels (y) as integers starting with 0, i.e. 0, 1, 2, ..., [num_class - 1].\n",
      "  warnings.warn(label_encoder_deprecation_msg, UserWarning)\n",
      "\n"
     ]
    },
    {
     "name": "stdout",
     "output_type": "stream",
     "text": [
      "[0]\tvalidation_0-auc:0.69656\tvalidation_1-auc:0.68136                            \n",
      "[50]\tvalidation_0-auc:0.76585\tvalidation_1-auc:0.74766                           \n",
      "[99]\tvalidation_0-auc:0.77972\tvalidation_1-auc:0.75523                           \n",
      "==================================================                               \n",
      "XGBClassifier(base_score=0.8, booster='gbtree', colsample_bylevel=1,             \n",
      "              colsample_bynode=1, colsample_bytree=0.8, gamma=0, gpu_id=0,\n",
      "              importance_type='gain', interaction_constraints='',\n",
      "              learning_rate=0.03, max_delta_step=0, max_depth=6,\n",
      "              min_child_weight=1, missing=nan, monotone_constraints='()',\n",
      "              n_estimators=100, n_jobs=4, num_parallel_tree=1,\n",
      "              objective='reg:logistic', random_state=0, reg_alpha=5.0,\n",
      "              reg_lambda=10.0, scale_pos_weight=8.0, subsample=1.0,\n",
      "              tree_method='gpu_hist', validate_parameters=1, verbosity=None)\n",
      "train best     score:                                                            \n",
      "0.7552                                                                           \n",
      "test   roc_auc_score:                                                            \n",
      "0.6787                                                                           \n",
      "ok                                                                               \n",
      "==================================================                               \n",
      " 20%|██        | 10/50 [00:51<03:28,  5.21s/trial, best loss: 0.30166263535766663]"
     ]
    },
    {
     "name": "stderr",
     "output_type": "stream",
     "text": [
      "/home/lab10/.local/lib/python3.6/site-packages/xgboost/sklearn.py:1146: UserWarning: The use of label encoder in XGBClassifier is deprecated and will be removed in a future release. To remove this warning, do the following: 1) Pass option use_label_encoder=False when constructing XGBClassifier object; and 2) Encode your labels (y) as integers starting with 0, i.e. 0, 1, 2, ..., [num_class - 1].\n",
      "  warnings.warn(label_encoder_deprecation_msg, UserWarning)\n",
      "\n"
     ]
    },
    {
     "name": "stdout",
     "output_type": "stream",
     "text": [
      "[0]\tvalidation_0-auc:0.69530\tvalidation_1-auc:0.68330                             \n",
      "[50]\tvalidation_0-auc:0.81386\tvalidation_1-auc:0.76172                            \n",
      "[99]\tvalidation_0-auc:0.84336\tvalidation_1-auc:0.76224                            \n",
      "==================================================                                \n",
      "XGBClassifier(base_score=0.7000000000000001, booster='gbtree',                    \n",
      "              colsample_bylevel=1, colsample_bynode=1, colsample_bytree=0.8,\n",
      "              gamma=0, gpu_id=0, importance_type='gain',\n",
      "              interaction_constraints='', learning_rate=0.18, max_delta_step=0,\n",
      "              max_depth=6, min_child_weight=1, missing=nan,\n",
      "              monotone_constraints='()', n_estimators=100, n_jobs=4,\n",
      "              num_parallel_tree=1, objective='reg:logistic', random_state=0,\n",
      "              reg_alpha=0.0001, reg_lambda=0.001, scale_pos_weight=4.0,\n",
      "              subsample=0.8, tree_method='gpu_hist', validate_parameters=1,\n",
      "              verbosity=None)\n",
      "train best     score:                                                             \n",
      "0.7628                                                                            \n",
      "test   roc_auc_score:                                                             \n",
      "0.6147                                                                            \n",
      "ok                                                                                \n",
      "==================================================                                \n",
      " 22%|██▏       | 11/50 [00:56<03:18,  5.08s/trial, best loss: 0.30166263535766663]"
     ]
    },
    {
     "name": "stderr",
     "output_type": "stream",
     "text": [
      "/home/lab10/.local/lib/python3.6/site-packages/xgboost/sklearn.py:1146: UserWarning: The use of label encoder in XGBClassifier is deprecated and will be removed in a future release. To remove this warning, do the following: 1) Pass option use_label_encoder=False when constructing XGBClassifier object; and 2) Encode your labels (y) as integers starting with 0, i.e. 0, 1, 2, ..., [num_class - 1].\n",
      "  warnings.warn(label_encoder_deprecation_msg, UserWarning)\n",
      "\n"
     ]
    },
    {
     "name": "stdout",
     "output_type": "stream",
     "text": [
      "[0]\tvalidation_0-auc:0.65814\tvalidation_1-auc:0.64877                             \n",
      "[50]\tvalidation_0-auc:0.79273\tvalidation_1-auc:0.76204                            \n",
      "[99]\tvalidation_0-auc:0.81520\tvalidation_1-auc:0.76633                            \n",
      "==================================================                                \n",
      "XGBClassifier(base_score=0.8, booster='gbtree', colsample_bylevel=1,              \n",
      "              colsample_bynode=1, colsample_bytree=0.6000000000000001, gamma=0,\n",
      "              gpu_id=0, importance_type='gain', interaction_constraints='',\n",
      "              learning_rate=0.12, max_delta_step=0, max_depth=6,\n",
      "              min_child_weight=1, missing=nan, monotone_constraints='()',\n",
      "              n_estimators=100, n_jobs=4, num_parallel_tree=1,\n",
      "              objective='reg:logistic', random_state=0, reg_alpha=1e-05,\n",
      "              reg_lambda=10.0, scale_pos_weight=4.0, subsample=0.8,\n",
      "              tree_method='gpu_hist', validate_parameters=1, verbosity=None)\n",
      "train best     score:                                                             \n",
      "0.7663                                                                            \n",
      "test   roc_auc_score:                                                             \n",
      "0.6157                                                                            \n",
      "ok                                                                                \n",
      "==================================================                                \n",
      " 24%|██▍       | 12/50 [01:01<03:11,  5.04s/trial, best loss: 0.30166263535766663]"
     ]
    },
    {
     "name": "stderr",
     "output_type": "stream",
     "text": [
      "/home/lab10/.local/lib/python3.6/site-packages/xgboost/sklearn.py:1146: UserWarning: The use of label encoder in XGBClassifier is deprecated and will be removed in a future release. To remove this warning, do the following: 1) Pass option use_label_encoder=False when constructing XGBClassifier object; and 2) Encode your labels (y) as integers starting with 0, i.e. 0, 1, 2, ..., [num_class - 1].\n",
      "  warnings.warn(label_encoder_deprecation_msg, UserWarning)\n",
      "\n"
     ]
    },
    {
     "name": "stdout",
     "output_type": "stream",
     "text": [
      "[0]\tvalidation_0-auc:0.64082\tvalidation_1-auc:0.63592                             \n",
      "[50]\tvalidation_0-auc:0.75417\tvalidation_1-auc:0.74496                            \n",
      "[99]\tvalidation_0-auc:0.76639\tvalidation_1-auc:0.75313                            \n",
      "==================================================                                \n",
      "XGBClassifier(base_score=0.6000000000000001, booster='gbtree',                    \n",
      "              colsample_bylevel=1, colsample_bynode=1,\n",
      "              colsample_bytree=0.6000000000000001, gamma=0, gpu_id=0,\n",
      "              importance_type='gain', interaction_constraints='',\n",
      "              learning_rate=0.03, max_delta_step=0, max_depth=6,\n",
      "              min_child_weight=1, missing=nan, monotone_constraints='()',\n",
      "              n_estimators=100, n_jobs=4, num_parallel_tree=1,\n",
      "              objective='binary:logitraw', random_state=0, reg_alpha=10.0,\n",
      "              reg_lambda=100.0, scale_pos_weight=6.0, subsample=0.4,\n",
      "              tree_method='gpu_hist', validate_parameters=1, verbosity=None)\n",
      "train best     score:                                                             \n",
      "0.7531                                                                            \n",
      "test   roc_auc_score:                                                             \n",
      "0.5657                                                                            \n",
      "ok                                                                                \n",
      "==================================================                                \n",
      " 26%|██▌       | 13/50 [01:06<03:07,  5.06s/trial, best loss: 0.30166263535766663]"
     ]
    },
    {
     "name": "stderr",
     "output_type": "stream",
     "text": [
      "/home/lab10/.local/lib/python3.6/site-packages/xgboost/sklearn.py:1146: UserWarning: The use of label encoder in XGBClassifier is deprecated and will be removed in a future release. To remove this warning, do the following: 1) Pass option use_label_encoder=False when constructing XGBClassifier object; and 2) Encode your labels (y) as integers starting with 0, i.e. 0, 1, 2, ..., [num_class - 1].\n",
      "  warnings.warn(label_encoder_deprecation_msg, UserWarning)\n",
      "\n"
     ]
    },
    {
     "name": "stdout",
     "output_type": "stream",
     "text": [
      "[0]\tvalidation_0-auc:0.61753\tvalidation_1-auc:0.60549                             \n",
      "[50]\tvalidation_0-auc:0.76749\tvalidation_1-auc:0.75103                            \n",
      "[99]\tvalidation_0-auc:0.77611\tvalidation_1-auc:0.75660                            \n",
      "==================================================                                \n",
      "XGBClassifier(base_score=0.6000000000000001, booster='gbtree',                    \n",
      "              colsample_bylevel=1, colsample_bynode=1, colsample_bytree=0.2,\n",
      "              gamma=0, gpu_id=0, importance_type='gain',\n",
      "              interaction_constraints='', learning_rate=0.03, max_delta_step=0,\n",
      "              max_depth=6, min_child_weight=1, missing=nan,\n",
      "              monotone_constraints='()', n_estimators=100, n_jobs=4,\n",
      "              num_parallel_tree=1, objective='binary:logitraw', random_state=0,\n",
      "              reg_alpha=0.01, reg_lambda=5.0, scale_pos_weight=4.0,\n",
      "              subsample=0.6000000000000001, tree_method='gpu_hist',\n",
      "              validate_parameters=1, verbosity=None)\n",
      "train best     score:                                                             \n",
      "0.7566                                                                            \n",
      "test   roc_auc_score:                                                             \n",
      "0.5048                                                                            \n",
      "ok                                                                                \n",
      "==================================================                                \n",
      " 28%|██▊       | 14/50 [01:11<03:00,  5.02s/trial, best loss: 0.2830892877410139] "
     ]
    },
    {
     "name": "stderr",
     "output_type": "stream",
     "text": [
      "/home/lab10/.local/lib/python3.6/site-packages/xgboost/sklearn.py:1146: UserWarning: The use of label encoder in XGBClassifier is deprecated and will be removed in a future release. To remove this warning, do the following: 1) Pass option use_label_encoder=False when constructing XGBClassifier object; and 2) Encode your labels (y) as integers starting with 0, i.e. 0, 1, 2, ..., [num_class - 1].\n",
      "  warnings.warn(label_encoder_deprecation_msg, UserWarning)\n",
      "\n"
     ]
    },
    {
     "name": "stdout",
     "output_type": "stream",
     "text": [
      "[0]\tvalidation_0-auc:0.65883\tvalidation_1-auc:0.64863                            \n",
      "[50]\tvalidation_0-auc:0.77768\tvalidation_1-auc:0.75672                           \n",
      "[99]\tvalidation_0-auc:0.79492\tvalidation_1-auc:0.76277                           \n",
      "==================================================                               \n",
      "XGBClassifier(base_score=0.6000000000000001, booster='gbtree',                   \n",
      "              colsample_bylevel=1, colsample_bynode=1, colsample_bytree=0.4,\n",
      "              gamma=0, gpu_id=0, importance_type='gain',\n",
      "              interaction_constraints='', learning_rate=0.06, max_delta_step=0,\n",
      "              max_depth=6, min_child_weight=1, missing=nan,\n",
      "              monotone_constraints='()', n_estimators=100, n_jobs=4,\n",
      "              num_parallel_tree=1, objective='reg:logistic', random_state=0,\n",
      "              reg_alpha=1e-05, reg_lambda=10.0, scale_pos_weight=8.0,\n",
      "              subsample=0.8, tree_method='gpu_hist', validate_parameters=1,\n",
      "              verbosity=None)\n",
      "train best     score:                                                            \n",
      "0.7628                                                                           \n",
      "test   roc_auc_score:                                                            \n",
      "0.6819                                                                           \n",
      "ok                                                                               \n",
      "==================================================                               \n",
      " 30%|███       | 15/50 [01:16<02:56,  5.03s/trial, best loss: 0.2830892877410139]"
     ]
    },
    {
     "name": "stderr",
     "output_type": "stream",
     "text": [
      "/home/lab10/.local/lib/python3.6/site-packages/xgboost/sklearn.py:1146: UserWarning: The use of label encoder in XGBClassifier is deprecated and will be removed in a future release. To remove this warning, do the following: 1) Pass option use_label_encoder=False when constructing XGBClassifier object; and 2) Encode your labels (y) as integers starting with 0, i.e. 0, 1, 2, ..., [num_class - 1].\n",
      "  warnings.warn(label_encoder_deprecation_msg, UserWarning)\n",
      "\n"
     ]
    },
    {
     "name": "stdout",
     "output_type": "stream",
     "text": [
      "[0]\tvalidation_0-auc:0.65182\tvalidation_1-auc:0.64358                            \n",
      "[50]\tvalidation_0-auc:0.80041\tvalidation_1-auc:0.75847                           \n",
      "[99]\tvalidation_0-auc:0.82486\tvalidation_1-auc:0.75537                           \n",
      "==================================================                               \n",
      "XGBClassifier(base_score=0.6000000000000001, booster='gbtree',                   \n",
      "              colsample_bylevel=1, colsample_bynode=1, colsample_bytree=0.4,\n",
      "              gamma=0, gpu_id=0, importance_type='gain',\n",
      "              interaction_constraints='', learning_rate=0.18, max_delta_step=0,\n",
      "              max_depth=6, min_child_weight=1, missing=nan,\n",
      "              monotone_constraints='()', n_estimators=100, n_jobs=4,\n",
      "              num_parallel_tree=1, random_state=0, reg_alpha=0.1,\n",
      "              reg_lambda=0.01, scale_pos_weight=6.0, subsample=0.4,\n",
      "              tree_method='gpu_hist', validate_parameters=1, verbosity=None)\n",
      "train best     score:                                                            \n",
      "0.7585                                                                           \n",
      "test   roc_auc_score:                                                            \n",
      "0.6515                                                                           \n",
      "ok                                                                               \n",
      "==================================================                               \n",
      " 32%|███▏      | 16/50 [01:20<02:44,  4.83s/trial, best loss: 0.2830892877410139]"
     ]
    },
    {
     "name": "stderr",
     "output_type": "stream",
     "text": [
      "/home/lab10/.local/lib/python3.6/site-packages/xgboost/sklearn.py:1146: UserWarning: The use of label encoder in XGBClassifier is deprecated and will be removed in a future release. To remove this warning, do the following: 1) Pass option use_label_encoder=False when constructing XGBClassifier object; and 2) Encode your labels (y) as integers starting with 0, i.e. 0, 1, 2, ..., [num_class - 1].\n",
      "  warnings.warn(label_encoder_deprecation_msg, UserWarning)\n",
      "\n"
     ]
    },
    {
     "name": "stdout",
     "output_type": "stream",
     "text": [
      "[0]\tvalidation_0-auc:0.66110\tvalidation_1-auc:0.64855                            \n",
      "[50]\tvalidation_0-auc:0.77867\tvalidation_1-auc:0.75589                           \n",
      "[99]\tvalidation_0-auc:0.79877\tvalidation_1-auc:0.76292                           \n",
      "==================================================                               \n",
      "XGBClassifier(base_score=0.6000000000000001, booster='gbtree',                   \n",
      "              colsample_bylevel=1, colsample_bynode=1,\n",
      "              colsample_bytree=0.6000000000000001, gamma=0, gpu_id=0,\n",
      "              importance_type='gain', interaction_constraints='',\n",
      "              learning_rate=0.06, max_delta_step=0, max_depth=6,\n",
      "              min_child_weight=1, missing=nan, monotone_constraints='()',\n",
      "              n_estimators=100, n_jobs=4, num_parallel_tree=1, random_state=0,\n",
      "              reg_alpha=0.001, reg_lambda=0.0001, scale_pos_weight=8.0,\n",
      "              subsample=0.6000000000000001, tree_method='gpu_hist',\n",
      "              validate_parameters=1, verbosity=None)\n",
      "train best     score:                                                            \n",
      "0.7629                                                                           \n",
      "test   roc_auc_score:                                                            \n",
      "0.6809                                                                           \n",
      "ok                                                                               \n",
      "==================================================                               \n",
      " 34%|███▍      | 17/50 [01:26<02:44,  4.97s/trial, best loss: 0.2830892877410139]"
     ]
    },
    {
     "name": "stderr",
     "output_type": "stream",
     "text": [
      "/home/lab10/.local/lib/python3.6/site-packages/xgboost/sklearn.py:1146: UserWarning: The use of label encoder in XGBClassifier is deprecated and will be removed in a future release. To remove this warning, do the following: 1) Pass option use_label_encoder=False when constructing XGBClassifier object; and 2) Encode your labels (y) as integers starting with 0, i.e. 0, 1, 2, ..., [num_class - 1].\n",
      "  warnings.warn(label_encoder_deprecation_msg, UserWarning)\n",
      "\n"
     ]
    },
    {
     "name": "stdout",
     "output_type": "stream",
     "text": [
      "[0]\tvalidation_0-auc:0.61827\tvalidation_1-auc:0.60974                            \n",
      "[50]\tvalidation_0-auc:0.76615\tvalidation_1-auc:0.75168                           \n",
      "[99]\tvalidation_0-auc:0.77482\tvalidation_1-auc:0.75665                           \n",
      "==================================================                               \n",
      "XGBClassifier(base_score=0.7000000000000001, booster='gbtree',                   \n",
      "              colsample_bylevel=1, colsample_bynode=1, colsample_bytree=0.2,\n",
      "              gamma=0, gpu_id=0, importance_type='gain',\n",
      "              interaction_constraints='', learning_rate=0.03, max_delta_step=0,\n",
      "              max_depth=6, min_child_weight=1, missing=nan,\n",
      "              monotone_constraints='()', n_estimators=100, n_jobs=4,\n",
      "              num_parallel_tree=1, objective='reg:logistic', random_state=0,\n",
      "              reg_alpha=10.0, reg_lambda=10.0, scale_pos_weight=6.0,\n",
      "              subsample=0.8, tree_method='gpu_hist', validate_parameters=1,\n",
      "              verbosity=None)\n",
      "train best     score:                                                            \n",
      "0.7567                                                                           \n",
      "test   roc_auc_score:                                                            \n",
      "0.6199                                                                           \n",
      "ok                                                                               \n",
      "==================================================                               \n",
      " 36%|███▌      | 18/50 [01:31<02:42,  5.08s/trial, best loss: 0.2830892877410139]"
     ]
    },
    {
     "name": "stderr",
     "output_type": "stream",
     "text": [
      "/home/lab10/.local/lib/python3.6/site-packages/xgboost/sklearn.py:1146: UserWarning: The use of label encoder in XGBClassifier is deprecated and will be removed in a future release. To remove this warning, do the following: 1) Pass option use_label_encoder=False when constructing XGBClassifier object; and 2) Encode your labels (y) as integers starting with 0, i.e. 0, 1, 2, ..., [num_class - 1].\n",
      "  warnings.warn(label_encoder_deprecation_msg, UserWarning)\n",
      "\n"
     ]
    },
    {
     "name": "stdout",
     "output_type": "stream",
     "text": [
      "[0]\tvalidation_0-auc:0.66548\tvalidation_1-auc:0.65248                            \n",
      "[50]\tvalidation_0-auc:0.79142\tvalidation_1-auc:0.75996                           \n",
      "[99]\tvalidation_0-auc:0.81421\tvalidation_1-auc:0.76501                           \n",
      "==================================================                               \n",
      "XGBClassifier(base_score=0.6000000000000001, booster='gbtree',                   \n",
      "              colsample_bylevel=1, colsample_bynode=1,\n",
      "              colsample_bytree=0.6000000000000001, gamma=0, gpu_id=0,\n",
      "              importance_type='gain', interaction_constraints='',\n",
      "              learning_rate=0.09, max_delta_step=0, max_depth=6,\n",
      "              min_child_weight=1, missing=nan, monotone_constraints='()',\n",
      "              n_estimators=100, n_jobs=4, num_parallel_tree=1,\n",
      "              objective='reg:logistic', random_state=0, reg_alpha=0.01,\n",
      "              reg_lambda=0.1, scale_pos_weight=6.0, subsample=1.0,\n",
      "              tree_method='gpu_hist', validate_parameters=1, verbosity=None)\n",
      "train best     score:                                                            \n",
      "0.7650                                                                           \n",
      "test   roc_auc_score:                                                            \n",
      "0.6530                                                                           \n",
      "ok                                                                               \n",
      "==================================================                               \n",
      " 38%|███▊      | 19/50 [01:37<02:42,  5.24s/trial, best loss: 0.2830892877410139]"
     ]
    },
    {
     "name": "stderr",
     "output_type": "stream",
     "text": [
      "/home/lab10/.local/lib/python3.6/site-packages/xgboost/sklearn.py:1146: UserWarning: The use of label encoder in XGBClassifier is deprecated and will be removed in a future release. To remove this warning, do the following: 1) Pass option use_label_encoder=False when constructing XGBClassifier object; and 2) Encode your labels (y) as integers starting with 0, i.e. 0, 1, 2, ..., [num_class - 1].\n",
      "  warnings.warn(label_encoder_deprecation_msg, UserWarning)\n",
      "\n"
     ]
    },
    {
     "name": "stdout",
     "output_type": "stream",
     "text": [
      "[0]\tvalidation_0-auc:0.66221\tvalidation_1-auc:0.65074                            \n",
      "[50]\tvalidation_0-auc:0.76641\tvalidation_1-auc:0.75007                           \n",
      "[99]\tvalidation_0-auc:0.77933\tvalidation_1-auc:0.75643                           \n",
      "==================================================                               \n",
      "XGBClassifier(base_score=0.7000000000000001, booster='gbtree',                   \n",
      "              colsample_bylevel=1, colsample_bynode=1,\n",
      "              colsample_bytree=0.6000000000000001, gamma=0, gpu_id=0,\n",
      "              importance_type='gain', interaction_constraints='',\n",
      "              learning_rate=0.03, max_delta_step=0, max_depth=6,\n",
      "              min_child_weight=1, missing=nan, monotone_constraints='()',\n",
      "              n_estimators=100, n_jobs=4, num_parallel_tree=1,\n",
      "              objective='binary:logitraw', random_state=0, reg_alpha=0.001,\n",
      "              reg_lambda=0.001, scale_pos_weight=6.0, subsample=0.8,\n",
      "              tree_method='gpu_hist', validate_parameters=1, verbosity=None)\n",
      "train best     score:                                                            \n",
      "0.7564                                                                           \n",
      "test   roc_auc_score:                                                            \n",
      "0.5667                                                                           \n",
      "ok                                                                               \n",
      "==================================================                               \n",
      " 40%|████      | 20/50 [01:42<02:42,  5.42s/trial, best loss: 0.2830892877410139]"
     ]
    },
    {
     "name": "stderr",
     "output_type": "stream",
     "text": [
      "/home/lab10/.local/lib/python3.6/site-packages/xgboost/sklearn.py:1146: UserWarning: The use of label encoder in XGBClassifier is deprecated and will be removed in a future release. To remove this warning, do the following: 1) Pass option use_label_encoder=False when constructing XGBClassifier object; and 2) Encode your labels (y) as integers starting with 0, i.e. 0, 1, 2, ..., [num_class - 1].\n",
      "  warnings.warn(label_encoder_deprecation_msg, UserWarning)\n",
      "\n"
     ]
    },
    {
     "name": "stdout",
     "output_type": "stream",
     "text": [
      "[0]\tvalidation_0-auc:0.71681\tvalidation_1-auc:0.71077                            \n",
      "[50]\tvalidation_0-auc:0.78597\tvalidation_1-auc:0.75671                           \n",
      "[99]\tvalidation_0-auc:0.81319\tvalidation_1-auc:0.76400                           \n",
      "==================================================                               \n",
      "XGBClassifier(base_score=0.5, booster='gbtree', colsample_bylevel=1,             \n",
      "              colsample_bynode=1, colsample_bytree=1.0, gamma=0, gpu_id=0,\n",
      "              importance_type='gain', interaction_constraints='',\n",
      "              learning_rate=0.09, max_delta_step=0, max_depth=6,\n",
      "              min_child_weight=1, missing=nan, monotone_constraints='()',\n",
      "              n_estimators=100, n_jobs=4, num_parallel_tree=1,\n",
      "              objective='binary:logitraw', random_state=0, reg_alpha=1.0,\n",
      "              reg_lambda=1e-05, scale_pos_weight=2.0,\n",
      "              subsample=0.6000000000000001, tree_method='gpu_hist',\n",
      "              validate_parameters=1, verbosity=None)\n",
      "train best     score:                                                            \n",
      "0.7641                                                                           \n",
      "test   roc_auc_score:                                                            \n",
      "0.5124                                                                           \n",
      "ok                                                                               \n",
      "==================================================                               \n",
      " 42%|████▏     | 21/50 [01:48<02:36,  5.39s/trial, best loss: 0.2830892877410139]"
     ]
    },
    {
     "name": "stderr",
     "output_type": "stream",
     "text": [
      "/home/lab10/.local/lib/python3.6/site-packages/xgboost/sklearn.py:1146: UserWarning: The use of label encoder in XGBClassifier is deprecated and will be removed in a future release. To remove this warning, do the following: 1) Pass option use_label_encoder=False when constructing XGBClassifier object; and 2) Encode your labels (y) as integers starting with 0, i.e. 0, 1, 2, ..., [num_class - 1].\n",
      "  warnings.warn(label_encoder_deprecation_msg, UserWarning)\n",
      "\n"
     ]
    },
    {
     "name": "stdout",
     "output_type": "stream",
     "text": [
      "[0]\tvalidation_0-auc:0.71167\tvalidation_1-auc:0.70658                            \n",
      "[50]\tvalidation_0-auc:0.78443\tvalidation_1-auc:0.75657                           \n",
      "[99]\tvalidation_0-auc:0.80963\tvalidation_1-auc:0.76253                           \n",
      "==================================================                               \n",
      "XGBClassifier(base_score=0.5, booster='gbtree', colsample_bylevel=1,             \n",
      "              colsample_bynode=1, colsample_bytree=1.0, gamma=0, gpu_id=0,\n",
      "              importance_type='gain', interaction_constraints='',\n",
      "              learning_rate=0.09, max_delta_step=0, max_depth=6,\n",
      "              min_child_weight=1, missing=nan, monotone_constraints='()',\n",
      "              n_estimators=100, n_jobs=4, num_parallel_tree=1,\n",
      "              objective='binary:logitraw', random_state=0, reg_alpha=1.0,\n",
      "              reg_lambda=1e-05, scale_pos_weight=2.0, subsample=0.4,\n",
      "              tree_method='gpu_hist', validate_parameters=1, verbosity=None)\n",
      "train best     score:                                                            \n",
      "0.7626                                                                           \n",
      "test   roc_auc_score:                                                            \n",
      "0.5161                                                                           \n",
      "ok                                                                               \n",
      "==================================================                               \n",
      " 44%|████▍     | 22/50 [01:53<02:27,  5.28s/trial, best loss: 0.2830020804828761]"
     ]
    },
    {
     "name": "stderr",
     "output_type": "stream",
     "text": [
      "/home/lab10/.local/lib/python3.6/site-packages/xgboost/sklearn.py:1146: UserWarning: The use of label encoder in XGBClassifier is deprecated and will be removed in a future release. To remove this warning, do the following: 1) Pass option use_label_encoder=False when constructing XGBClassifier object; and 2) Encode your labels (y) as integers starting with 0, i.e. 0, 1, 2, ..., [num_class - 1].\n",
      "  warnings.warn(label_encoder_deprecation_msg, UserWarning)\n",
      "\n"
     ]
    },
    {
     "name": "stdout",
     "output_type": "stream",
     "text": [
      "[0]\tvalidation_0-auc:0.71135\tvalidation_1-auc:0.70599                            \n",
      "[50]\tvalidation_0-auc:0.78213\tvalidation_1-auc:0.75685                           \n",
      "[99]\tvalidation_0-auc:0.80605\tvalidation_1-auc:0.76432                           \n",
      "==================================================                               \n",
      "XGBClassifier(base_score=0.5, booster='gbtree', colsample_bylevel=1,             \n",
      "              colsample_bynode=1, colsample_bytree=1.0, gamma=0, gpu_id=0,\n",
      "              importance_type='gain', interaction_constraints='',\n",
      "              learning_rate=0.09, max_delta_step=0, max_depth=6,\n",
      "              min_child_weight=1, missing=nan, monotone_constraints='()',\n",
      "              n_estimators=100, n_jobs=4, num_parallel_tree=1,\n",
      "              objective='binary:logitraw', random_state=0, reg_alpha=1.0,\n",
      "              reg_lambda=1.0, scale_pos_weight=2.0, subsample=0.4,\n",
      "              tree_method='gpu_hist', validate_parameters=1, verbosity=None)\n",
      "train best     score:                                                            \n",
      "0.7644                                                                           \n",
      "test   roc_auc_score:                                                            \n",
      "0.5129                                                                           \n",
      "ok                                                                               \n",
      "==================================================                               \n",
      " 46%|████▌     | 23/50 [01:58<02:21,  5.25s/trial, best loss: 0.2830020804828761]"
     ]
    },
    {
     "name": "stderr",
     "output_type": "stream",
     "text": [
      "/home/lab10/.local/lib/python3.6/site-packages/xgboost/sklearn.py:1146: UserWarning: The use of label encoder in XGBClassifier is deprecated and will be removed in a future release. To remove this warning, do the following: 1) Pass option use_label_encoder=False when constructing XGBClassifier object; and 2) Encode your labels (y) as integers starting with 0, i.e. 0, 1, 2, ..., [num_class - 1].\n",
      "  warnings.warn(label_encoder_deprecation_msg, UserWarning)\n",
      "\n"
     ]
    },
    {
     "name": "stdout",
     "output_type": "stream",
     "text": [
      "[0]\tvalidation_0-auc:0.50000\tvalidation_1-auc:0.50000                            \n",
      "[50]\tvalidation_0-auc:0.50000\tvalidation_1-auc:0.50000                           \n",
      "==================================================                               \n",
      "XGBClassifier(base_score=0.5, booster='gbtree', colsample_bylevel=1,             \n",
      "              colsample_bynode=1, colsample_bytree=1.0, gamma=0, gpu_id=0,\n",
      "              importance_type='gain', interaction_constraints='',\n",
      "              learning_rate=0.0, max_delta_step=0, max_depth=6,\n",
      "              min_child_weight=1, missing=nan, monotone_constraints='()',\n",
      "              n_estimators=100, n_jobs=4, num_parallel_tree=1,\n",
      "              objective='binary:logitraw', random_state=0, reg_alpha=1.0,\n",
      "              reg_lambda=1e-05, scale_pos_weight=2.0, subsample=0.4,\n",
      "              tree_method='gpu_hist', validate_parameters=1, verbosity=None)\n",
      "train best     score:                                                            \n",
      "0.5000                                                                           \n",
      "test   roc_auc_score:                                                            \n",
      "0.5000                                                                           \n",
      "ok                                                                               \n",
      "==================================================                               \n",
      " 48%|████▊     | 24/50 [02:02<02:04,  4.78s/trial, best loss: 0.2830020804828761]"
     ]
    },
    {
     "name": "stderr",
     "output_type": "stream",
     "text": [
      "/home/lab10/.local/lib/python3.6/site-packages/xgboost/sklearn.py:1146: UserWarning: The use of label encoder in XGBClassifier is deprecated and will be removed in a future release. To remove this warning, do the following: 1) Pass option use_label_encoder=False when constructing XGBClassifier object; and 2) Encode your labels (y) as integers starting with 0, i.e. 0, 1, 2, ..., [num_class - 1].\n",
      "  warnings.warn(label_encoder_deprecation_msg, UserWarning)\n",
      "\n"
     ]
    },
    {
     "name": "stdout",
     "output_type": "stream",
     "text": [
      "[0]\tvalidation_0-auc:0.60666\tvalidation_1-auc:0.59237                            \n",
      "[50]\tvalidation_0-auc:0.78199\tvalidation_1-auc:0.75248                           \n",
      "[99]\tvalidation_0-auc:0.79978\tvalidation_1-auc:0.75012                           \n",
      "==================================================                               \n",
      "XGBClassifier(base_score=0.5, booster='gbtree', colsample_bylevel=1,             \n",
      "              colsample_bynode=1, colsample_bytree=0.2, gamma=0, gpu_id=0,\n",
      "              importance_type='gain', interaction_constraints='',\n",
      "              learning_rate=0.15, max_delta_step=0, max_depth=6,\n",
      "              min_child_weight=1, missing=nan, monotone_constraints='()',\n",
      "              n_estimators=100, n_jobs=4, num_parallel_tree=1,\n",
      "              objective='binary:logitraw', random_state=0, reg_alpha=0.1,\n",
      "              reg_lambda=1e-05, scale_pos_weight=2.0, subsample=0.2,\n",
      "              tree_method='gpu_hist', validate_parameters=1, verbosity=None)\n",
      "train best     score:                                                            \n",
      "0.7527                                                                           \n",
      "test   roc_auc_score:                                                            \n",
      "0.5076                                                                           \n",
      "ok                                                                               \n",
      "==================================================                               \n",
      " 50%|█████     | 25/50 [02:06<01:55,  4.61s/trial, best loss: 0.2830020804828761]"
     ]
    },
    {
     "name": "stderr",
     "output_type": "stream",
     "text": [
      "/home/lab10/.local/lib/python3.6/site-packages/xgboost/sklearn.py:1146: UserWarning: The use of label encoder in XGBClassifier is deprecated and will be removed in a future release. To remove this warning, do the following: 1) Pass option use_label_encoder=False when constructing XGBClassifier object; and 2) Encode your labels (y) as integers starting with 0, i.e. 0, 1, 2, ..., [num_class - 1].\n",
      "  warnings.warn(label_encoder_deprecation_msg, UserWarning)\n",
      "\n"
     ]
    },
    {
     "name": "stdout",
     "output_type": "stream",
     "text": [
      "[0]\tvalidation_0-auc:0.50000\tvalidation_1-auc:0.50000                            \n",
      "[50]\tvalidation_0-auc:0.50000\tvalidation_1-auc:0.50000                           \n",
      "==================================================                               \n",
      "XGBClassifier(base_score=0.5, booster='gbtree', colsample_bylevel=1,             \n",
      "              colsample_bynode=1, colsample_bytree=1.0, gamma=0, gpu_id=0,\n",
      "              importance_type='gain', interaction_constraints='',\n",
      "              learning_rate=0.0, max_delta_step=0, max_depth=6,\n",
      "              min_child_weight=1, missing=nan, monotone_constraints='()',\n",
      "              n_estimators=100, n_jobs=4, num_parallel_tree=1,\n",
      "              objective='binary:logitraw', random_state=0, reg_alpha=0.01,\n",
      "              reg_lambda=0.01, scale_pos_weight=4.0, subsample=0.4,\n",
      "              tree_method='gpu_hist', validate_parameters=1, verbosity=None)\n",
      "train best     score:                                                            \n",
      "0.5000                                                                           \n",
      "test   roc_auc_score:                                                            \n",
      "0.5000                                                                           \n",
      "ok                                                                               \n",
      "==================================================                               \n",
      " 52%|█████▏    | 26/50 [02:10<01:44,  4.34s/trial, best loss: 0.2830020804828761]"
     ]
    },
    {
     "name": "stderr",
     "output_type": "stream",
     "text": [
      "/home/lab10/.local/lib/python3.6/site-packages/xgboost/sklearn.py:1146: UserWarning: The use of label encoder in XGBClassifier is deprecated and will be removed in a future release. To remove this warning, do the following: 1) Pass option use_label_encoder=False when constructing XGBClassifier object; and 2) Encode your labels (y) as integers starting with 0, i.e. 0, 1, 2, ..., [num_class - 1].\n",
      "  warnings.warn(label_encoder_deprecation_msg, UserWarning)\n",
      "\n"
     ]
    },
    {
     "name": "stdout",
     "output_type": "stream",
     "text": [
      "[0]\tvalidation_0-auc:0.61826\tvalidation_1-auc:0.60962                            \n",
      "[50]\tvalidation_0-auc:0.78377\tvalidation_1-auc:0.75897                           \n",
      "[99]\tvalidation_0-auc:0.80427\tvalidation_1-auc:0.76370                           \n",
      "==================================================                               \n",
      "XGBClassifier(base_score=0.5, booster='gbtree', colsample_bylevel=1,             \n",
      "              colsample_bynode=1, colsample_bytree=0.2, gamma=0, gpu_id=0,\n",
      "              importance_type='gain', interaction_constraints='',\n",
      "              learning_rate=0.12, max_delta_step=0, max_depth=6,\n",
      "              min_child_weight=1, missing=nan, monotone_constraints='()',\n",
      "              n_estimators=100, n_jobs=4, num_parallel_tree=1,\n",
      "              objective='binary:logitraw', random_state=0, reg_alpha=1.0,\n",
      "              reg_lambda=1.0, scale_pos_weight=2.0,\n",
      "              subsample=0.6000000000000001, tree_method='gpu_hist',\n",
      "              validate_parameters=1, verbosity=None)\n",
      "train best     score:                                                            \n",
      "0.7637                                                                           \n",
      "test   roc_auc_score:                                                            \n",
      "0.5122                                                                           \n",
      "ok                                                                               \n",
      "==================================================                               \n",
      " 54%|█████▍    | 27/50 [02:14<01:43,  4.50s/trial, best loss: 0.2830020804828761]"
     ]
    },
    {
     "name": "stderr",
     "output_type": "stream",
     "text": [
      "/home/lab10/.local/lib/python3.6/site-packages/xgboost/sklearn.py:1146: UserWarning: The use of label encoder in XGBClassifier is deprecated and will be removed in a future release. To remove this warning, do the following: 1) Pass option use_label_encoder=False when constructing XGBClassifier object; and 2) Encode your labels (y) as integers starting with 0, i.e. 0, 1, 2, ..., [num_class - 1].\n",
      "  warnings.warn(label_encoder_deprecation_msg, UserWarning)\n",
      "\n"
     ]
    },
    {
     "name": "stdout",
     "output_type": "stream",
     "text": [
      "[0]\tvalidation_0-auc:0.68959\tvalidation_1-auc:0.68179                            \n",
      "[50]\tvalidation_0-auc:0.80011\tvalidation_1-auc:0.75886                           \n",
      "[99]\tvalidation_0-auc:0.82729\tvalidation_1-auc:0.75872                           \n",
      "==================================================                               \n",
      "XGBClassifier(base_score=0.5, booster='gbtree', colsample_bylevel=1,             \n",
      "              colsample_bynode=1, colsample_bytree=0.8, gamma=0, gpu_id=0,\n",
      "              importance_type='gain', interaction_constraints='',\n",
      "              learning_rate=0.15, max_delta_step=0, max_depth=6,\n",
      "              min_child_weight=1, missing=nan, monotone_constraints='()',\n",
      "              n_estimators=100, n_jobs=4, num_parallel_tree=1,\n",
      "              objective='binary:logitraw', random_state=0, reg_alpha=1.0,\n",
      "              reg_lambda=1e-05, scale_pos_weight=4.0, subsample=0.4,\n",
      "              tree_method='gpu_hist', validate_parameters=1, verbosity=None)\n",
      "train best     score:                                                            \n",
      "0.7600                                                                           \n",
      "test   roc_auc_score:                                                            \n",
      "0.5639                                                                           \n",
      "ok                                                                               \n",
      "==================================================                               \n",
      " 56%|█████▌    | 28/50 [02:19<01:40,  4.56s/trial, best loss: 0.2830020804828761]"
     ]
    },
    {
     "name": "stderr",
     "output_type": "stream",
     "text": [
      "/home/lab10/.local/lib/python3.6/site-packages/xgboost/sklearn.py:1146: UserWarning: The use of label encoder in XGBClassifier is deprecated and will be removed in a future release. To remove this warning, do the following: 1) Pass option use_label_encoder=False when constructing XGBClassifier object; and 2) Encode your labels (y) as integers starting with 0, i.e. 0, 1, 2, ..., [num_class - 1].\n",
      "  warnings.warn(label_encoder_deprecation_msg, UserWarning)\n",
      "\n"
     ]
    },
    {
     "name": "stdout",
     "output_type": "stream",
     "text": [
      "[0]\tvalidation_0-auc:0.50000\tvalidation_1-auc:0.50000                            \n",
      "[49]\tvalidation_0-auc:0.50000\tvalidation_1-auc:0.50000                           \n",
      "==================================================                               \n",
      "XGBClassifier(base_score=0.7000000000000001, booster='gbtree',                   \n",
      "              colsample_bylevel=1, colsample_bynode=1, colsample_bytree=0.2,\n",
      "              gamma=0, gpu_id=0, importance_type='gain',\n",
      "              interaction_constraints='', learning_rate=0.0, max_delta_step=0,\n",
      "              max_depth=6, min_child_weight=1, missing=nan,\n",
      "              monotone_constraints='()', n_estimators=100, n_jobs=4,\n",
      "              num_parallel_tree=1, objective='binary:logitraw', random_state=0,\n",
      "              reg_alpha=5.0, reg_lambda=0.0001, scale_pos_weight=2.0,\n",
      "              subsample=0.6000000000000001, tree_method='gpu_hist',\n",
      "              validate_parameters=1, verbosity=None)\n",
      "train best     score:                                                            \n",
      "0.5000                                                                           \n",
      "test   roc_auc_score:                                                            \n",
      "0.5000                                                                           \n",
      "ok                                                                               \n",
      "==================================================                               \n",
      " 58%|█████▊    | 29/50 [02:22<01:28,  4.21s/trial, best loss: 0.2830020804828761]"
     ]
    },
    {
     "name": "stderr",
     "output_type": "stream",
     "text": [
      "/home/lab10/.local/lib/python3.6/site-packages/xgboost/sklearn.py:1146: UserWarning: The use of label encoder in XGBClassifier is deprecated and will be removed in a future release. To remove this warning, do the following: 1) Pass option use_label_encoder=False when constructing XGBClassifier object; and 2) Encode your labels (y) as integers starting with 0, i.e. 0, 1, 2, ..., [num_class - 1].\n",
      "  warnings.warn(label_encoder_deprecation_msg, UserWarning)\n",
      "\n"
     ]
    },
    {
     "name": "stdout",
     "output_type": "stream",
     "text": [
      "[0]\tvalidation_0-auc:0.50000\tvalidation_1-auc:0.50000                            \n",
      "[50]\tvalidation_0-auc:0.50000\tvalidation_1-auc:0.50000                           \n",
      "==================================================                               \n",
      "XGBClassifier(base_score=0.8, booster='gbtree', colsample_bylevel=1,             \n",
      "              colsample_bynode=1, colsample_bytree=1.0, gamma=0, gpu_id=0,\n",
      "              importance_type='gain', interaction_constraints='',\n",
      "              learning_rate=0.0, max_delta_step=0, max_depth=6,\n",
      "              min_child_weight=1, missing=nan, monotone_constraints='()',\n",
      "              n_estimators=100, n_jobs=4, num_parallel_tree=1,\n",
      "              objective='binary:logitraw', random_state=0, reg_alpha=0.01,\n",
      "              reg_lambda=5.0, scale_pos_weight=4.0,\n",
      "              subsample=0.6000000000000001, tree_method='gpu_hist',\n",
      "              validate_parameters=1, verbosity=None)\n",
      "train best     score:                                                            \n",
      "0.5000                                                                           \n",
      "test   roc_auc_score:                                                            \n",
      "0.5000                                                                           \n",
      "ok                                                                               \n",
      "==================================================                               \n",
      " 60%|██████    | 30/50 [02:26<01:21,  4.06s/trial, best loss: 0.2830020804828761]"
     ]
    },
    {
     "name": "stderr",
     "output_type": "stream",
     "text": [
      "/home/lab10/.local/lib/python3.6/site-packages/xgboost/sklearn.py:1146: UserWarning: The use of label encoder in XGBClassifier is deprecated and will be removed in a future release. To remove this warning, do the following: 1) Pass option use_label_encoder=False when constructing XGBClassifier object; and 2) Encode your labels (y) as integers starting with 0, i.e. 0, 1, 2, ..., [num_class - 1].\n",
      "  warnings.warn(label_encoder_deprecation_msg, UserWarning)\n",
      "\n"
     ]
    },
    {
     "name": "stdout",
     "output_type": "stream",
     "text": [
      "[0]\tvalidation_0-auc:0.50000\tvalidation_1-auc:0.50000                            \n",
      "[50]\tvalidation_0-auc:0.50000\tvalidation_1-auc:0.50000                           \n",
      "==================================================                               \n",
      "XGBClassifier(base_score=0.5, booster='gbtree', colsample_bylevel=1,             \n",
      "              colsample_bynode=1, colsample_bytree=0.8, gamma=0, gpu_id=0,\n",
      "              importance_type='gain', interaction_constraints='',\n",
      "              learning_rate=0.0, max_delta_step=0, max_depth=6,\n",
      "              min_child_weight=1, missing=nan, monotone_constraints='()',\n",
      "              n_estimators=100, n_jobs=4, num_parallel_tree=1,\n",
      "              objective='binary:logitraw', random_state=0, reg_alpha=10.0,\n",
      "              reg_lambda=5.0, scale_pos_weight=2.0, subsample=0.2,\n",
      "              tree_method='gpu_hist', validate_parameters=1, verbosity=None)\n",
      "train best     score:                                                            \n",
      "0.5000                                                                           \n",
      "test   roc_auc_score:                                                            \n",
      "0.5000                                                                           \n",
      "ok                                                                               \n",
      "==================================================                               \n",
      " 62%|██████▏   | 31/50 [02:29<01:11,  3.75s/trial, best loss: 0.2830020804828761]"
     ]
    },
    {
     "name": "stderr",
     "output_type": "stream",
     "text": [
      "/home/lab10/.local/lib/python3.6/site-packages/xgboost/sklearn.py:1146: UserWarning: The use of label encoder in XGBClassifier is deprecated and will be removed in a future release. To remove this warning, do the following: 1) Pass option use_label_encoder=False when constructing XGBClassifier object; and 2) Encode your labels (y) as integers starting with 0, i.e. 0, 1, 2, ..., [num_class - 1].\n",
      "  warnings.warn(label_encoder_deprecation_msg, UserWarning)\n",
      "\n"
     ]
    },
    {
     "name": "stdout",
     "output_type": "stream",
     "text": [
      "[0]\tvalidation_0-auc:0.50000\tvalidation_1-auc:0.50000                            \n",
      "[49]\tvalidation_0-auc:0.50000\tvalidation_1-auc:0.50000                           \n",
      "==================================================                               \n",
      "XGBClassifier(base_score=0.7000000000000001, booster='gbtree',                   \n",
      "              colsample_bylevel=1, colsample_bynode=1, colsample_bytree=0.2,\n",
      "              gamma=0, gpu_id=0, importance_type='gain',\n",
      "              interaction_constraints='', learning_rate=0.0, max_delta_step=0,\n",
      "              max_depth=6, min_child_weight=1, missing=nan,\n",
      "              monotone_constraints='()', n_estimators=100, n_jobs=4,\n",
      "              num_parallel_tree=1, objective='binary:logitraw', random_state=0,\n",
      "              reg_alpha=0.01, reg_lambda=1e-05, scale_pos_weight=4.0,\n",
      "              subsample=0.4, tree_method='gpu_hist', validate_parameters=1,\n",
      "              verbosity=None)\n",
      "train best     score:                                                            \n",
      "0.5000                                                                           \n",
      "test   roc_auc_score:                                                            \n",
      "0.5000                                                                           \n",
      "ok                                                                               \n",
      "==================================================                               \n",
      " 64%|██████▍   | 32/50 [02:33<01:07,  3.75s/trial, best loss: 0.2830020804828761]"
     ]
    },
    {
     "name": "stderr",
     "output_type": "stream",
     "text": [
      "/home/lab10/.local/lib/python3.6/site-packages/xgboost/sklearn.py:1146: UserWarning: The use of label encoder in XGBClassifier is deprecated and will be removed in a future release. To remove this warning, do the following: 1) Pass option use_label_encoder=False when constructing XGBClassifier object; and 2) Encode your labels (y) as integers starting with 0, i.e. 0, 1, 2, ..., [num_class - 1].\n",
      "  warnings.warn(label_encoder_deprecation_msg, UserWarning)\n",
      "\n"
     ]
    },
    {
     "name": "stdout",
     "output_type": "stream",
     "text": [
      "[0]\tvalidation_0-auc:0.61306\tvalidation_1-auc:0.61656                            \n",
      "[50]\tvalidation_0-auc:0.75688\tvalidation_1-auc:0.74913                           \n",
      "[99]\tvalidation_0-auc:0.77267\tvalidation_1-auc:0.76035                           \n",
      "==================================================                               \n",
      "XGBClassifier(base_score=0.5, booster='gbtree', colsample_bylevel=1,             \n",
      "              colsample_bynode=1, colsample_bytree=0.8, gamma=0, gpu_id=0,\n",
      "              importance_type='gain', interaction_constraints='',\n",
      "              learning_rate=0.09, max_delta_step=0, max_depth=6,\n",
      "              min_child_weight=1, missing=nan, monotone_constraints='()',\n",
      "              n_estimators=100, n_jobs=4, num_parallel_tree=1,\n",
      "              objective='binary:logitraw', random_state=0, reg_alpha=100.0,\n",
      "              reg_lambda=5.0, scale_pos_weight=2.0,\n",
      "              subsample=0.6000000000000001, tree_method='gpu_hist',\n",
      "              validate_parameters=1, verbosity=None)\n",
      "train best     score:                                                            \n",
      "0.7604                                                                           \n",
      "test   roc_auc_score:                                                            \n",
      "0.5115                                                                           \n",
      "ok                                                                               \n",
      "==================================================                               \n",
      " 66%|██████▌   | 33/50 [02:38<01:09,  4.06s/trial, best loss: 0.2830020804828761]"
     ]
    },
    {
     "name": "stderr",
     "output_type": "stream",
     "text": [
      "/home/lab10/.local/lib/python3.6/site-packages/xgboost/sklearn.py:1146: UserWarning: The use of label encoder in XGBClassifier is deprecated and will be removed in a future release. To remove this warning, do the following: 1) Pass option use_label_encoder=False when constructing XGBClassifier object; and 2) Encode your labels (y) as integers starting with 0, i.e. 0, 1, 2, ..., [num_class - 1].\n",
      "  warnings.warn(label_encoder_deprecation_msg, UserWarning)\n",
      "\n"
     ]
    },
    {
     "name": "stdout",
     "output_type": "stream",
     "text": [
      "[0]\tvalidation_0-auc:0.60519\tvalidation_1-auc:0.60877                            \n",
      "[50]\tvalidation_0-auc:0.77974\tvalidation_1-auc:0.75909                           \n",
      "[99]\tvalidation_0-auc:0.79617\tvalidation_1-auc:0.75852                           \n",
      "==================================================                               \n",
      "XGBClassifier(base_score=0.7000000000000001, booster='gbtree',                   \n",
      "              colsample_bylevel=1, colsample_bynode=1, colsample_bytree=0.4,\n",
      "              gamma=0, gpu_id=0, importance_type='gain',\n",
      "              interaction_constraints='', learning_rate=0.21, max_delta_step=0,\n",
      "              max_depth=6, min_child_weight=1, missing=nan,\n",
      "              monotone_constraints='()', n_estimators=100, n_jobs=4,\n",
      "              num_parallel_tree=1, objective='binary:logitraw', random_state=0,\n",
      "              reg_alpha=0.1, reg_lambda=100.0, scale_pos_weight=4.0,\n",
      "              subsample=0.2, tree_method='gpu_hist', validate_parameters=1,\n",
      "              verbosity=None)\n",
      "train best     score:                                                            \n",
      "0.7605                                                                           \n",
      "test   roc_auc_score:                                                            \n",
      "0.5679                                                                           \n",
      "ok                                                                               \n",
      "==================================================                               \n",
      " 68%|██████▊   | 34/50 [02:42<01:06,  4.19s/trial, best loss: 0.2830020804828761]"
     ]
    },
    {
     "name": "stderr",
     "output_type": "stream",
     "text": [
      "/home/lab10/.local/lib/python3.6/site-packages/xgboost/sklearn.py:1146: UserWarning: The use of label encoder in XGBClassifier is deprecated and will be removed in a future release. To remove this warning, do the following: 1) Pass option use_label_encoder=False when constructing XGBClassifier object; and 2) Encode your labels (y) as integers starting with 0, i.e. 0, 1, 2, ..., [num_class - 1].\n",
      "  warnings.warn(label_encoder_deprecation_msg, UserWarning)\n",
      "\n"
     ]
    },
    {
     "name": "stdout",
     "output_type": "stream",
     "text": [
      "[0]\tvalidation_0-auc:0.71166\tvalidation_1-auc:0.70654                            \n",
      "[50]\tvalidation_0-auc:0.77117\tvalidation_1-auc:0.75117                           \n",
      "[99]\tvalidation_0-auc:0.79551\tvalidation_1-auc:0.76067                           \n",
      "==================================================                               \n",
      "XGBClassifier(base_score=0.6000000000000001, booster='gbtree',                   \n",
      "              colsample_bylevel=1, colsample_bynode=1, colsample_bytree=1.0,\n",
      "              gamma=0, gpu_id=0, importance_type='gain',\n",
      "              interaction_constraints='', learning_rate=0.06, max_delta_step=0,\n",
      "              max_depth=6, min_child_weight=1, missing=nan,\n",
      "              monotone_constraints='()', n_estimators=100, n_jobs=4,\n",
      "              num_parallel_tree=1, objective='binary:logitraw', random_state=0,\n",
      "              reg_alpha=1.0, reg_lambda=0.001, scale_pos_weight=2.0,\n",
      "              subsample=0.4, tree_method='gpu_hist', validate_parameters=1,\n",
      "              verbosity=None)\n",
      "train best     score:                                                            \n",
      "0.7607                                                                           \n",
      "test   roc_auc_score:                                                            \n",
      "0.5080                                                                           \n",
      "ok                                                                               \n",
      "==================================================                               \n",
      " 70%|███████   | 35/50 [02:47<01:06,  4.47s/trial, best loss: 0.2830020804828761]"
     ]
    },
    {
     "name": "stderr",
     "output_type": "stream",
     "text": [
      "/home/lab10/.local/lib/python3.6/site-packages/xgboost/sklearn.py:1146: UserWarning: The use of label encoder in XGBClassifier is deprecated and will be removed in a future release. To remove this warning, do the following: 1) Pass option use_label_encoder=False when constructing XGBClassifier object; and 2) Encode your labels (y) as integers starting with 0, i.e. 0, 1, 2, ..., [num_class - 1].\n",
      "  warnings.warn(label_encoder_deprecation_msg, UserWarning)\n",
      "\n"
     ]
    },
    {
     "name": "stdout",
     "output_type": "stream",
     "text": [
      "[0]\tvalidation_0-auc:0.60955\tvalidation_1-auc:0.59540                            \n",
      "[50]\tvalidation_0-auc:0.78066\tvalidation_1-auc:0.75523                           \n",
      "[99]\tvalidation_0-auc:0.79705\tvalidation_1-auc:0.75600                           \n",
      "==================================================                               \n",
      "XGBClassifier(base_score=0.5, booster='gbtree', colsample_bylevel=1,             \n",
      "              colsample_bynode=1, colsample_bytree=0.2, gamma=0, gpu_id=0,\n",
      "              importance_type='gain', interaction_constraints='',\n",
      "              learning_rate=0.12, max_delta_step=0, max_depth=6,\n",
      "              min_child_weight=1, missing=nan, monotone_constraints='()',\n",
      "              n_estimators=100, n_jobs=4, num_parallel_tree=1,\n",
      "              objective='binary:logitraw', random_state=0, reg_alpha=1e-05,\n",
      "              reg_lambda=0.01, scale_pos_weight=4.0, subsample=0.2,\n",
      "              tree_method='gpu_hist', validate_parameters=1, verbosity=None)\n",
      "train best     score:                                                            \n",
      "0.7564                                                                           \n",
      "test   roc_auc_score:                                                            \n",
      "0.5523                                                                           \n",
      "ok                                                                               \n",
      "==================================================                               \n",
      " 72%|███████▏  | 36/50 [02:52<01:02,  4.50s/trial, best loss: 0.2830020804828761]"
     ]
    },
    {
     "name": "stderr",
     "output_type": "stream",
     "text": [
      "/home/lab10/.local/lib/python3.6/site-packages/xgboost/sklearn.py:1146: UserWarning: The use of label encoder in XGBClassifier is deprecated and will be removed in a future release. To remove this warning, do the following: 1) Pass option use_label_encoder=False when constructing XGBClassifier object; and 2) Encode your labels (y) as integers starting with 0, i.e. 0, 1, 2, ..., [num_class - 1].\n",
      "  warnings.warn(label_encoder_deprecation_msg, UserWarning)\n",
      "\n"
     ]
    },
    {
     "name": "stdout",
     "output_type": "stream",
     "text": [
      "[0]\tvalidation_0-auc:0.50000\tvalidation_1-auc:0.50000                            \n",
      "[49]\tvalidation_0-auc:0.50000\tvalidation_1-auc:0.50000                           \n",
      "==================================================                               \n",
      "XGBClassifier(base_score=0.6000000000000001, booster='gbtree',                   \n",
      "              colsample_bylevel=1, colsample_bynode=1, colsample_bytree=0.4,\n",
      "              gamma=0, gpu_id=0, importance_type='gain',\n",
      "              interaction_constraints='', learning_rate=0.0, max_delta_step=0,\n",
      "              max_depth=6, min_child_weight=1, missing=nan,\n",
      "              monotone_constraints='()', n_estimators=100, n_jobs=4,\n",
      "              num_parallel_tree=1, objective='binary:logitraw', random_state=0,\n",
      "              reg_alpha=5.0, reg_lambda=5.0, scale_pos_weight=2.0,\n",
      "              subsample=0.6000000000000001, tree_method='gpu_hist',\n",
      "              validate_parameters=1, verbosity=None)\n",
      "train best     score:                                                            \n",
      "0.5000                                                                           \n",
      "test   roc_auc_score:                                                            \n",
      "0.5000                                                                           \n",
      "ok                                                                               \n",
      "==================================================                               \n",
      " 74%|███████▍  | 37/50 [02:55<00:54,  4.20s/trial, best loss: 0.2830020804828761]"
     ]
    },
    {
     "name": "stderr",
     "output_type": "stream",
     "text": [
      "/home/lab10/.local/lib/python3.6/site-packages/xgboost/sklearn.py:1146: UserWarning: The use of label encoder in XGBClassifier is deprecated and will be removed in a future release. To remove this warning, do the following: 1) Pass option use_label_encoder=False when constructing XGBClassifier object; and 2) Encode your labels (y) as integers starting with 0, i.e. 0, 1, 2, ..., [num_class - 1].\n",
      "  warnings.warn(label_encoder_deprecation_msg, UserWarning)\n",
      "\n"
     ]
    },
    {
     "name": "stdout",
     "output_type": "stream",
     "text": [
      "[0]\tvalidation_0-auc:0.69353\tvalidation_1-auc:0.68134                            \n",
      "[50]\tvalidation_0-auc:0.78744\tvalidation_1-auc:0.75796                           \n",
      "[99]\tvalidation_0-auc:0.81200\tvalidation_1-auc:0.76398                           \n",
      "==================================================                               \n",
      "XGBClassifier(base_score=0.6000000000000001, booster='gbtree',                   \n",
      "              colsample_bylevel=1, colsample_bynode=1, colsample_bytree=0.8,\n",
      "              gamma=0, gpu_id=0, importance_type='gain',\n",
      "              interaction_constraints='', learning_rate=0.09, max_delta_step=0,\n",
      "              max_depth=6, min_child_weight=1, missing=nan,\n",
      "              monotone_constraints='()', n_estimators=100, n_jobs=4,\n",
      "              num_parallel_tree=1, random_state=0, reg_alpha=0.01,\n",
      "              reg_lambda=1.0, scale_pos_weight=4.0,\n",
      "              subsample=0.6000000000000001, tree_method='gpu_hist',\n",
      "              validate_parameters=1, verbosity=None)\n",
      "train best     score:                                                            \n",
      "0.7640                                                                           \n",
      "test   roc_auc_score:                                                            \n",
      "0.6095                                                                           \n",
      "ok                                                                               \n",
      "==================================================                               \n",
      " 76%|███████▌  | 38/50 [03:01<00:53,  4.48s/trial, best loss: 0.2830020804828761]"
     ]
    },
    {
     "name": "stderr",
     "output_type": "stream",
     "text": [
      "/home/lab10/.local/lib/python3.6/site-packages/xgboost/sklearn.py:1146: UserWarning: The use of label encoder in XGBClassifier is deprecated and will be removed in a future release. To remove this warning, do the following: 1) Pass option use_label_encoder=False when constructing XGBClassifier object; and 2) Encode your labels (y) as integers starting with 0, i.e. 0, 1, 2, ..., [num_class - 1].\n",
      "  warnings.warn(label_encoder_deprecation_msg, UserWarning)\n",
      "\n"
     ]
    },
    {
     "name": "stdout",
     "output_type": "stream",
     "text": [
      "[0]\tvalidation_0-auc:0.62070\tvalidation_1-auc:0.62052                            \n",
      "[50]\tvalidation_0-auc:0.76838\tvalidation_1-auc:0.75794                           \n",
      "[99]\tvalidation_0-auc:0.77932\tvalidation_1-auc:0.76400                           \n",
      "==================================================                               \n",
      "XGBClassifier(base_score=0.5, booster='gbtree', colsample_bylevel=1,             \n",
      "              colsample_bynode=1, colsample_bytree=0.4, gamma=0, gpu_id=0,\n",
      "              importance_type='gain', interaction_constraints='',\n",
      "              learning_rate=0.15, max_delta_step=0, max_depth=6,\n",
      "              min_child_weight=1, missing=nan, monotone_constraints='()',\n",
      "              n_estimators=100, n_jobs=4, num_parallel_tree=1,\n",
      "              objective='binary:logitraw', random_state=0, reg_alpha=100.0,\n",
      "              reg_lambda=0.0001, scale_pos_weight=4.0, subsample=0.4,\n",
      "              tree_method='gpu_hist', validate_parameters=1, verbosity=None)\n",
      "train best     score:                                                            \n",
      "0.7641                                                                           \n",
      "test   roc_auc_score:                                                            \n",
      "0.5647                                                                           \n",
      "ok                                                                               \n",
      "==================================================                               \n",
      " 78%|███████▊  | 39/50 [03:05<00:49,  4.47s/trial, best loss: 0.2830020804828761]"
     ]
    },
    {
     "name": "stderr",
     "output_type": "stream",
     "text": [
      "/home/lab10/.local/lib/python3.6/site-packages/xgboost/sklearn.py:1146: UserWarning: The use of label encoder in XGBClassifier is deprecated and will be removed in a future release. To remove this warning, do the following: 1) Pass option use_label_encoder=False when constructing XGBClassifier object; and 2) Encode your labels (y) as integers starting with 0, i.e. 0, 1, 2, ..., [num_class - 1].\n",
      "  warnings.warn(label_encoder_deprecation_msg, UserWarning)\n",
      "\n"
     ]
    },
    {
     "name": "stdout",
     "output_type": "stream",
     "text": [
      "[0]\tvalidation_0-auc:0.50000\tvalidation_1-auc:0.50000                            \n",
      "[50]\tvalidation_0-auc:0.50000\tvalidation_1-auc:0.50000                           \n",
      "==================================================                               \n",
      "XGBClassifier(base_score=0.8, booster='gbtree', colsample_bylevel=1,             \n",
      "              colsample_bynode=1, colsample_bytree=0.6000000000000001, gamma=0,\n",
      "              gpu_id=0, importance_type='gain', interaction_constraints='',\n",
      "              learning_rate=0.0, max_delta_step=0, max_depth=6,\n",
      "              min_child_weight=1, missing=nan, monotone_constraints='()',\n",
      "              n_estimators=100, n_jobs=4, num_parallel_tree=1, random_state=0,\n",
      "              reg_alpha=0.001, reg_lambda=1e-05, scale_pos_weight=2.0,\n",
      "              subsample=0.2, tree_method='gpu_hist', validate_parameters=1,\n",
      "              verbosity=None)\n",
      "train best     score:                                                            \n",
      "0.5000                                                                           \n",
      "test   roc_auc_score:                                                            \n",
      "0.5000                                                                           \n",
      "ok                                                                               \n",
      "==================================================                               \n",
      " 80%|████████  | 40/50 [03:08<00:41,  4.12s/trial, best loss: 0.2830020804828761]"
     ]
    },
    {
     "name": "stderr",
     "output_type": "stream",
     "text": [
      "/home/lab10/.local/lib/python3.6/site-packages/xgboost/sklearn.py:1146: UserWarning: The use of label encoder in XGBClassifier is deprecated and will be removed in a future release. To remove this warning, do the following: 1) Pass option use_label_encoder=False when constructing XGBClassifier object; and 2) Encode your labels (y) as integers starting with 0, i.e. 0, 1, 2, ..., [num_class - 1].\n",
      "  warnings.warn(label_encoder_deprecation_msg, UserWarning)\n",
      "\n"
     ]
    },
    {
     "name": "stdout",
     "output_type": "stream",
     "text": [
      "[0]\tvalidation_0-auc:0.69904\tvalidation_1-auc:0.68352                            \n",
      "[50]\tvalidation_0-auc:0.77726\tvalidation_1-auc:0.75305                           \n",
      "[99]\tvalidation_0-auc:0.80157\tvalidation_1-auc:0.76237                           \n",
      "==================================================                               \n",
      "XGBClassifier(base_score=0.7000000000000001, booster='gbtree',                   \n",
      "              colsample_bylevel=1, colsample_bynode=1, colsample_bytree=0.8,\n",
      "              gamma=0, gpu_id=0, importance_type='gain',\n",
      "              interaction_constraints='', learning_rate=0.06, max_delta_step=0,\n",
      "              max_depth=6, min_child_weight=1, missing=nan,\n",
      "              monotone_constraints='()', n_estimators=100, n_jobs=4,\n",
      "              num_parallel_tree=1, objective='reg:logistic', random_state=0,\n",
      "              reg_alpha=0.01, reg_lambda=0.1, scale_pos_weight=4.0,\n",
      "              subsample=1.0, tree_method='gpu_hist', validate_parameters=1,\n",
      "              verbosity=None)\n",
      "train best     score:                                                            \n",
      "0.7624                                                                           \n",
      "test   roc_auc_score:                                                            \n",
      "0.6034                                                                           \n",
      "ok                                                                               \n",
      "==================================================                               \n",
      " 82%|████████▏ | 41/50 [03:14<00:40,  4.54s/trial, best loss: 0.2830020804828761]"
     ]
    },
    {
     "name": "stderr",
     "output_type": "stream",
     "text": [
      "/home/lab10/.local/lib/python3.6/site-packages/xgboost/sklearn.py:1146: UserWarning: The use of label encoder in XGBClassifier is deprecated and will be removed in a future release. To remove this warning, do the following: 1) Pass option use_label_encoder=False when constructing XGBClassifier object; and 2) Encode your labels (y) as integers starting with 0, i.e. 0, 1, 2, ..., [num_class - 1].\n",
      "  warnings.warn(label_encoder_deprecation_msg, UserWarning)\n",
      "\n"
     ]
    },
    {
     "name": "stdout",
     "output_type": "stream",
     "text": [
      "[0]\tvalidation_0-auc:0.50000\tvalidation_1-auc:0.50000                            \n",
      "[50]\tvalidation_0-auc:0.50000\tvalidation_1-auc:0.50000                           \n",
      "==================================================                               \n",
      "XGBClassifier(base_score=0.6000000000000001, booster='gbtree',                   \n",
      "              colsample_bylevel=1, colsample_bynode=1, colsample_bytree=0.4,\n",
      "              gamma=0, gpu_id=0, importance_type='gain',\n",
      "              interaction_constraints='', learning_rate=0.0, max_delta_step=0,\n",
      "              max_depth=6, min_child_weight=1, missing=nan,\n",
      "              monotone_constraints='()', n_estimators=100, n_jobs=4,\n",
      "              num_parallel_tree=1, objective='binary:logitraw', random_state=0,\n",
      "              reg_alpha=0.0001, reg_lambda=5.0, scale_pos_weight=6.0,\n",
      "              subsample=0.4, tree_method='gpu_hist', validate_parameters=1,\n",
      "              verbosity=None)\n",
      "train best     score:                                                            \n",
      "0.5000                                                                           \n",
      "test   roc_auc_score:                                                            \n",
      "0.5000                                                                           \n",
      "ok                                                                               \n",
      "==================================================                               \n",
      " 84%|████████▍ | 42/50 [03:17<00:34,  4.27s/trial, best loss: 0.2830020804828761]"
     ]
    },
    {
     "name": "stderr",
     "output_type": "stream",
     "text": [
      "/home/lab10/.local/lib/python3.6/site-packages/xgboost/sklearn.py:1146: UserWarning: The use of label encoder in XGBClassifier is deprecated and will be removed in a future release. To remove this warning, do the following: 1) Pass option use_label_encoder=False when constructing XGBClassifier object; and 2) Encode your labels (y) as integers starting with 0, i.e. 0, 1, 2, ..., [num_class - 1].\n",
      "  warnings.warn(label_encoder_deprecation_msg, UserWarning)\n",
      "\n"
     ]
    },
    {
     "name": "stdout",
     "output_type": "stream",
     "text": [
      "[0]\tvalidation_0-auc:0.56741\tvalidation_1-auc:0.56666                            \n",
      "[50]\tvalidation_0-auc:0.78071\tvalidation_1-auc:0.76214                           \n",
      "[99]\tvalidation_0-auc:0.79888\tvalidation_1-auc:0.76652                           \n",
      "==================================================                               \n",
      "XGBClassifier(base_score=0.6000000000000001, booster='gbtree',                   \n",
      "              colsample_bylevel=1, colsample_bynode=1, colsample_bytree=0.2,\n",
      "              gamma=0, gpu_id=0, importance_type='gain',\n",
      "              interaction_constraints='', learning_rate=0.21, max_delta_step=0,\n",
      "              max_depth=6, min_child_weight=1, missing=nan,\n",
      "              monotone_constraints='()', n_estimators=100, n_jobs=4,\n",
      "              num_parallel_tree=1, random_state=0, reg_alpha=1.0,\n",
      "              reg_lambda=100.0, scale_pos_weight=2.0,\n",
      "              subsample=0.6000000000000001, tree_method='gpu_hist',\n",
      "              validate_parameters=1, verbosity=None)\n",
      "train best     score:                                                            \n",
      "0.7665                                                                           \n",
      "test   roc_auc_score:                                                            \n",
      "0.5520                                                                           \n",
      "ok                                                                               \n",
      "==================================================                               \n",
      " 86%|████████▌ | 43/50 [03:22<00:30,  4.39s/trial, best loss: 0.2830020804828761]"
     ]
    },
    {
     "name": "stderr",
     "output_type": "stream",
     "text": [
      "/home/lab10/.local/lib/python3.6/site-packages/xgboost/sklearn.py:1146: UserWarning: The use of label encoder in XGBClassifier is deprecated and will be removed in a future release. To remove this warning, do the following: 1) Pass option use_label_encoder=False when constructing XGBClassifier object; and 2) Encode your labels (y) as integers starting with 0, i.e. 0, 1, 2, ..., [num_class - 1].\n",
      "  warnings.warn(label_encoder_deprecation_msg, UserWarning)\n",
      "\n"
     ]
    },
    {
     "name": "stdout",
     "output_type": "stream",
     "text": [
      "[0]\tvalidation_0-auc:0.68868\tvalidation_1-auc:0.68054                            \n",
      "[50]\tvalidation_0-auc:0.79159\tvalidation_1-auc:0.75982                           \n",
      "[99]\tvalidation_0-auc:0.81430\tvalidation_1-auc:0.76187                           \n",
      "==================================================                               \n",
      "XGBClassifier(base_score=0.5, booster='gbtree', colsample_bylevel=1,             \n",
      "              colsample_bynode=1, colsample_bytree=0.8, gamma=0, gpu_id=0,\n",
      "              importance_type='gain', interaction_constraints='',\n",
      "              learning_rate=0.12, max_delta_step=0, max_depth=6,\n",
      "              min_child_weight=1, missing=nan, monotone_constraints='()',\n",
      "              n_estimators=100, n_jobs=4, num_parallel_tree=1,\n",
      "              objective='reg:logistic', random_state=0, reg_alpha=1e-05,\n",
      "              reg_lambda=5.0, scale_pos_weight=4.0, subsample=0.4,\n",
      "              tree_method='gpu_hist', validate_parameters=1, verbosity=None)\n",
      "train best     score:                                                            \n",
      "0.7622                                                                           \n",
      "test   roc_auc_score:                                                            \n",
      "0.6153                                                                           \n",
      "ok                                                                               \n",
      "==================================================                               \n",
      " 88%|████████▊ | 44/50 [03:27<00:27,  4.57s/trial, best loss: 0.2830020804828761]"
     ]
    },
    {
     "name": "stderr",
     "output_type": "stream",
     "text": [
      "/home/lab10/.local/lib/python3.6/site-packages/xgboost/sklearn.py:1146: UserWarning: The use of label encoder in XGBClassifier is deprecated and will be removed in a future release. To remove this warning, do the following: 1) Pass option use_label_encoder=False when constructing XGBClassifier object; and 2) Encode your labels (y) as integers starting with 0, i.e. 0, 1, 2, ..., [num_class - 1].\n",
      "  warnings.warn(label_encoder_deprecation_msg, UserWarning)\n",
      "\n"
     ]
    },
    {
     "name": "stdout",
     "output_type": "stream",
     "text": [
      "[0]\tvalidation_0-auc:0.65252\tvalidation_1-auc:0.64642                            \n",
      "[50]\tvalidation_0-auc:0.77292\tvalidation_1-auc:0.75600                           \n",
      "[99]\tvalidation_0-auc:0.78809\tvalidation_1-auc:0.76001                           \n",
      "==================================================                               \n",
      "XGBClassifier(base_score=0.8, booster='gbtree', colsample_bylevel=1,             \n",
      "              colsample_bynode=1, colsample_bytree=0.6000000000000001, gamma=0,\n",
      "              gpu_id=0, importance_type='gain', interaction_constraints='',\n",
      "              learning_rate=0.06, max_delta_step=0, max_depth=6,\n",
      "              min_child_weight=1, missing=nan, monotone_constraints='()',\n",
      "              n_estimators=100, n_jobs=4, num_parallel_tree=1,\n",
      "              objective='binary:logitraw', random_state=0, reg_alpha=5.0,\n",
      "              reg_lambda=1e-05, scale_pos_weight=6.0, subsample=0.2,\n",
      "              tree_method='gpu_hist', validate_parameters=1, verbosity=None)\n",
      "train best     score:                                                            \n",
      "0.7600                                                                           \n",
      "test   roc_auc_score:                                                            \n",
      "0.5909                                                                           \n",
      "ok                                                                               \n",
      "==================================================                               \n",
      " 90%|█████████ | 45/50 [03:32<00:23,  4.61s/trial, best loss: 0.2830020804828761]"
     ]
    },
    {
     "name": "stderr",
     "output_type": "stream",
     "text": [
      "/home/lab10/.local/lib/python3.6/site-packages/xgboost/sklearn.py:1146: UserWarning: The use of label encoder in XGBClassifier is deprecated and will be removed in a future release. To remove this warning, do the following: 1) Pass option use_label_encoder=False when constructing XGBClassifier object; and 2) Encode your labels (y) as integers starting with 0, i.e. 0, 1, 2, ..., [num_class - 1].\n",
      "  warnings.warn(label_encoder_deprecation_msg, UserWarning)\n",
      "\n"
     ]
    },
    {
     "name": "stdout",
     "output_type": "stream",
     "text": [
      "[0]\tvalidation_0-auc:0.65960\tvalidation_1-auc:0.64856                            \n",
      "[50]\tvalidation_0-auc:0.76809\tvalidation_1-auc:0.75183                           \n",
      "[99]\tvalidation_0-auc:0.77809\tvalidation_1-auc:0.75716                           \n",
      "==================================================                               \n",
      "XGBClassifier(base_score=0.7000000000000001, booster='gbtree',                   \n",
      "              colsample_bylevel=1, colsample_bynode=1, colsample_bytree=0.4,\n",
      "              gamma=0, gpu_id=0, importance_type='gain',\n",
      "              interaction_constraints='', learning_rate=0.03, max_delta_step=0,\n",
      "              max_depth=6, min_child_weight=1, missing=nan,\n",
      "              monotone_constraints='()', n_estimators=100, n_jobs=4,\n",
      "              num_parallel_tree=1, random_state=0, reg_alpha=0.0001,\n",
      "              reg_lambda=0.001, scale_pos_weight=4.0,\n",
      "              subsample=0.6000000000000001, tree_method='gpu_hist',\n",
      "              validate_parameters=1, verbosity=None)\n",
      "train best     score:                                                            \n",
      "0.7572                                                                           \n",
      "test   roc_auc_score:                                                            \n",
      "0.5808                                                                           \n",
      "ok                                                                               \n",
      "==================================================                               \n",
      " 92%|█████████▏| 46/50 [03:37<00:19,  4.78s/trial, best loss: 0.2830020804828761]"
     ]
    },
    {
     "name": "stderr",
     "output_type": "stream",
     "text": [
      "/home/lab10/.local/lib/python3.6/site-packages/xgboost/sklearn.py:1146: UserWarning: The use of label encoder in XGBClassifier is deprecated and will be removed in a future release. To remove this warning, do the following: 1) Pass option use_label_encoder=False when constructing XGBClassifier object; and 2) Encode your labels (y) as integers starting with 0, i.e. 0, 1, 2, ..., [num_class - 1].\n",
      "  warnings.warn(label_encoder_deprecation_msg, UserWarning)\n",
      "\n"
     ]
    },
    {
     "name": "stdout",
     "output_type": "stream",
     "text": [
      "[0]\tvalidation_0-auc:0.50000\tvalidation_1-auc:0.50000                            \n",
      "[49]\tvalidation_0-auc:0.50000\tvalidation_1-auc:0.50000                           \n",
      "==================================================                               \n",
      "XGBClassifier(base_score=0.6000000000000001, booster='gbtree',                   \n",
      "              colsample_bylevel=1, colsample_bynode=1, colsample_bytree=1.0,\n",
      "              gamma=0, gpu_id=0, importance_type='gain',\n",
      "              interaction_constraints='', learning_rate=0.0, max_delta_step=0,\n",
      "              max_depth=6, min_child_weight=1, missing=nan,\n",
      "              monotone_constraints='()', n_estimators=100, n_jobs=4,\n",
      "              num_parallel_tree=1, objective='reg:logistic', random_state=0,\n",
      "              reg_alpha=10.0, reg_lambda=0.1, scale_pos_weight=2.0,\n",
      "              subsample=0.8, tree_method='gpu_hist', validate_parameters=1,\n",
      "              verbosity=None)\n",
      "train best     score:                                                            \n",
      "0.5000                                                                           \n",
      "test   roc_auc_score:                                                            \n",
      "0.5000                                                                           \n",
      "ok                                                                               \n",
      "==================================================                               \n",
      " 94%|█████████▍| 47/50 [03:41<00:13,  4.54s/trial, best loss: 0.2830020804828761]"
     ]
    },
    {
     "name": "stderr",
     "output_type": "stream",
     "text": [
      "/home/lab10/.local/lib/python3.6/site-packages/xgboost/sklearn.py:1146: UserWarning: The use of label encoder in XGBClassifier is deprecated and will be removed in a future release. To remove this warning, do the following: 1) Pass option use_label_encoder=False when constructing XGBClassifier object; and 2) Encode your labels (y) as integers starting with 0, i.e. 0, 1, 2, ..., [num_class - 1].\n",
      "  warnings.warn(label_encoder_deprecation_msg, UserWarning)\n",
      "\n"
     ]
    },
    {
     "name": "stdout",
     "output_type": "stream",
     "text": [
      "[0]\tvalidation_0-auc:0.65013\tvalidation_1-auc:0.64255                            \n",
      "[50]\tvalidation_0-auc:0.75466\tvalidation_1-auc:0.74419                           \n",
      "[99]\tvalidation_0-auc:0.76549\tvalidation_1-auc:0.75226                           \n",
      "==================================================                               \n",
      "XGBClassifier(base_score=0.6000000000000001, booster='gbtree',                   \n",
      "              colsample_bylevel=1, colsample_bynode=1,\n",
      "              colsample_bytree=0.6000000000000001, gamma=0, gpu_id=0,\n",
      "              importance_type='gain', interaction_constraints='',\n",
      "              learning_rate=0.03, max_delta_step=0, max_depth=6,\n",
      "              min_child_weight=1, missing=nan, monotone_constraints='()',\n",
      "              n_estimators=100, n_jobs=4, num_parallel_tree=1,\n",
      "              objective='binary:logitraw', random_state=0, reg_alpha=100.0,\n",
      "              reg_lambda=10.0, scale_pos_weight=6.0, subsample=1.0,\n",
      "              tree_method='gpu_hist', validate_parameters=1, verbosity=None)\n",
      "train best     score:                                                            \n",
      "0.7523                                                                           \n",
      "test   roc_auc_score:                                                            \n",
      "0.5671                                                                           \n",
      "ok                                                                               \n",
      "==================================================                               \n",
      " 96%|█████████▌| 48/50 [03:47<00:09,  4.93s/trial, best loss: 0.2830020804828761]"
     ]
    },
    {
     "name": "stderr",
     "output_type": "stream",
     "text": [
      "/home/lab10/.local/lib/python3.6/site-packages/xgboost/sklearn.py:1146: UserWarning: The use of label encoder in XGBClassifier is deprecated and will be removed in a future release. To remove this warning, do the following: 1) Pass option use_label_encoder=False when constructing XGBClassifier object; and 2) Encode your labels (y) as integers starting with 0, i.e. 0, 1, 2, ..., [num_class - 1].\n",
      "  warnings.warn(label_encoder_deprecation_msg, UserWarning)\n",
      "\n"
     ]
    },
    {
     "name": "stdout",
     "output_type": "stream",
     "text": [
      "[0]\tvalidation_0-auc:0.50000\tvalidation_1-auc:0.50000                            \n",
      "[49]\tvalidation_0-auc:0.50000\tvalidation_1-auc:0.50000                           \n",
      "==================================================                               \n",
      "XGBClassifier(base_score=0.5, booster='gbtree', colsample_bylevel=1,             \n",
      "              colsample_bynode=1, colsample_bytree=0.2, gamma=0, gpu_id=0,\n",
      "              importance_type='gain', interaction_constraints='',\n",
      "              learning_rate=0.0, max_delta_step=0, max_depth=6,\n",
      "              min_child_weight=1, missing=nan, monotone_constraints='()',\n",
      "              n_estimators=100, n_jobs=4, num_parallel_tree=1,\n",
      "              objective='binary:logitraw', random_state=0, reg_alpha=0.01,\n",
      "              reg_lambda=0.01, scale_pos_weight=4.0, subsample=0.4,\n",
      "              tree_method='gpu_hist', validate_parameters=1, verbosity=None)\n",
      "train best     score:                                                            \n",
      "0.5000                                                                           \n",
      "test   roc_auc_score:                                                            \n",
      "0.5000                                                                           \n",
      "ok                                                                               \n",
      "==================================================                               \n",
      " 98%|█████████▊| 49/50 [03:50<00:04,  4.53s/trial, best loss: 0.2830020804828761]"
     ]
    },
    {
     "name": "stderr",
     "output_type": "stream",
     "text": [
      "/home/lab10/.local/lib/python3.6/site-packages/xgboost/sklearn.py:1146: UserWarning: The use of label encoder in XGBClassifier is deprecated and will be removed in a future release. To remove this warning, do the following: 1) Pass option use_label_encoder=False when constructing XGBClassifier object; and 2) Encode your labels (y) as integers starting with 0, i.e. 0, 1, 2, ..., [num_class - 1].\n",
      "  warnings.warn(label_encoder_deprecation_msg, UserWarning)\n",
      "\n"
     ]
    },
    {
     "name": "stdout",
     "output_type": "stream",
     "text": [
      "[0]\tvalidation_0-auc:0.50000\tvalidation_1-auc:0.50000                            \n",
      "[50]\tvalidation_0-auc:0.50000\tvalidation_1-auc:0.50000                           \n",
      "==================================================                               \n",
      "XGBClassifier(base_score=0.6000000000000001, booster='gbtree',                   \n",
      "              colsample_bylevel=1, colsample_bynode=1, colsample_bytree=0.4,\n",
      "              gamma=0, gpu_id=0, importance_type='gain',\n",
      "              interaction_constraints='', learning_rate=0.0, max_delta_step=0,\n",
      "              max_depth=6, min_child_weight=1, missing=nan,\n",
      "              monotone_constraints='()', n_estimators=100, n_jobs=4,\n",
      "              num_parallel_tree=1, random_state=0, reg_alpha=0.001,\n",
      "              reg_lambda=0.0001, scale_pos_weight=8.0, subsample=0.2,\n",
      "              tree_method='gpu_hist', validate_parameters=1, verbosity=None)\n",
      "train best     score:                                                            \n",
      "0.5000                                                                           \n",
      "test   roc_auc_score:                                                            \n",
      "0.5000                                                                           \n",
      "ok                                                                               \n",
      "==================================================                               \n",
      "100%|██████████| 50/50 [03:54<00:00,  4.69s/trial, best loss: 0.2830020804828761]\n"
     ]
    }
   ],
   "source": [
    "from sklearn.metrics import mean_squared_error\n",
    "\n",
    "# regularization candiate 정의\n",
    "reg_candidate = [1e-5, 1e-4, 1e-3, 1e-2, 0.1, 1, 5, 10, 100]\n",
    "object_f = [\"binary:logitraw\", \"reg:logistic\", \"binary:logistic\"]\n",
    "# \"multi:softmax\", \"reg:squarederror\", \"rank:pairwise\", \"rank:ndcg\", \"rank:map\"\n",
    "booster_c = [\"gbtree\"]\n",
    "\n",
    "\n",
    "space = {\"n_estimators\":hopt.hp.choice(\"n_estimators\", [100]),\n",
    "         \"objective\": hopt.hp.choice(\"objective\", object_f),\n",
    "         \"learning_rate\": hopt.hp.quniform(\"learning_rate\", 0.01, 0.2, 0.03),\n",
    "#          \"max_depth\": hopt.hp.choice(\"max_depth\", [-1]),\n",
    "#          \"min_child_weight\": hopt.hp.quniform(\"min_child_weight\", 5, 21, 4),\n",
    "         \"colsample_bytree\": hopt.hp.quniform(\"colsample_bytree\", 0.2, 1, 0.2),\n",
    "         \"subsample\": hopt.hp.quniform(\"subsample\", 0.2, 1, 0.2),\n",
    "         \"reg_lambda\": hopt.hp.choice(\"reg_lambda\", reg_candidate),\n",
    "         \"reg_alpha\": hopt.hp.choice(\"reg_alpha\", reg_candidate),\n",
    "         \"scale_pos_weight\": hopt.hp.quniform(\"scale_pos_weight\", 1, 9, 2),\n",
    "         \"base_score\": hopt.hp.quniform(\"base_score\", 0.5, 0.8, 0.1),\n",
    "         \"booster\": hopt.hp.choice(\"booster\", booster_c)\n",
    "        }\n",
    "\n",
    "def hyper_param_tuning(space):\n",
    "    model = XGBClassifier(n_estimators=int(space['n_estimators']),\n",
    "                          objective=space[\"objective\"],\n",
    "                          learning_rate=float(space[\"learning_rate\"]),\n",
    "#                           max_depth=int(space[\"max_depth\"]), \n",
    "#                           min_child_weight=int(space[\"min_child_weight\"]),\n",
    "                          colsample_bytree=float(space[\"colsample_bytree\"]),\n",
    "                          subsample=float(space[\"subsample\"]),\n",
    "                          reg_lambda=float(space[\"reg_lambda\"]),\n",
    "                          reg_alpha=float(space[\"reg_alpha\"]),\n",
    "                          scale_pos_weight=space[\"scale_pos_weight\"],\n",
    "                          base_score=float(space[\"base_score\"]),\n",
    "                          tree_method=\"gpu_hist\",\n",
    "                          booster=space[\"booster\"]\n",
    "                         )\n",
    "\n",
    "    model.fit(X_train, y_train,\n",
    "            eval_metric=\"auc\", \n",
    "            early_stopping_rounds=50,\n",
    "            eval_set=[(X_train, y_train), (X_test, y_test)],\n",
    "            verbose=50, # 10개 단위로 출력\n",
    "            )\n",
    "    \n",
    "    print(\"=\"*50)\n",
    "    print(model)\n",
    "    print(\"train best     score:\", format(model.best_score, \".4f\"))\n",
    "    print(\"test   roc_auc_score:\", format(roc_auc_score(y_test, model.predict(X_test)), \".4f\"))\n",
    "    print(hopt.STATUS_OK)\n",
    "    print(\"=\"*50)\n",
    "    \n",
    "    def RMSE(y_true, y_pred):\n",
    "        return np.sqrt(mean_squared_error(y_true, y_pred))\n",
    "\n",
    "    pred = model.predict(X_test)\n",
    "    rmse= RMSE(y_test, pred)\n",
    "    \n",
    "    return {\"loss\": rmse,\n",
    "            \"status\": hopt.STATUS_OK,\n",
    "            \"model\": model\n",
    "           }\n",
    "\n",
    "\n",
    "trials = hopt.Trials()\n",
    "\n",
    "best = hopt.fmin(fn=hyper_param_tuning,\n",
    "                 space=space,\n",
    "                 algo=hopt.tpe.suggest,\n",
    "                 max_evals=50,\n",
    "                 trials=trials\n",
    "                )"
   ]
  },
  {
   "cell_type": "code",
   "execution_count": 18,
   "metadata": {},
   "outputs": [
    {
     "name": "stdout",
     "output_type": "stream",
     "text": [
      "{'base_score': 0.5, 'booster': 'gbtree', 'colsample_bytree': 1.0, 'learning_rate': 0.09, 'n_estimators': 0, 'objective': 'binary:logitraw', 'reg_alpha': 1e-05, 'reg_lambda': 1e-05, 'scale_pos_weight': 2.0, 'subsample': 0.4}\n"
     ]
    },
    {
     "ename": "TypeError",
     "evalue": "type object got multiple values for keyword argument 'n_estimators'",
     "output_type": "error",
     "traceback": [
      "\u001b[0;31m---------------------------------------------------------------------------\u001b[0m",
      "\u001b[0;31mTypeError\u001b[0m                                 Traceback (most recent call last)",
      "\u001b[0;32m<ipython-input-18-bd6ac795ec51>\u001b[0m in \u001b[0;36m<module>\u001b[0;34m\u001b[0m\n\u001b[1;32m     13\u001b[0m \u001b[0mprint\u001b[0m\u001b[0;34m(\u001b[0m\u001b[0mbest\u001b[0m\u001b[0;34m)\u001b[0m\u001b[0;34m\u001b[0m\u001b[0;34m\u001b[0m\u001b[0m\n\u001b[1;32m     14\u001b[0m \u001b[0;34m\u001b[0m\u001b[0m\n\u001b[0;32m---> 15\u001b[0;31m \u001b[0mxgb\u001b[0m \u001b[0;34m=\u001b[0m \u001b[0mXGBClassifier\u001b[0m\u001b[0;34m(\u001b[0m\u001b[0mn_estimators\u001b[0m\u001b[0;34m=\u001b[0m\u001b[0;36m100\u001b[0m\u001b[0;34m,\u001b[0m \u001b[0;34m**\u001b[0m\u001b[0mbest\u001b[0m\u001b[0;34m)\u001b[0m\u001b[0;34m\u001b[0m\u001b[0;34m\u001b[0m\u001b[0m\n\u001b[0m\u001b[1;32m     16\u001b[0m \u001b[0mxgb\u001b[0m\u001b[0;34m.\u001b[0m\u001b[0mfit\u001b[0m\u001b[0;34m(\u001b[0m\u001b[0mX_train\u001b[0m\u001b[0;34m,\u001b[0m \u001b[0my_train\u001b[0m\u001b[0;34m)\u001b[0m\u001b[0;34m\u001b[0m\u001b[0;34m\u001b[0m\u001b[0m\n\u001b[1;32m     17\u001b[0m \u001b[0mpred_p\u001b[0m \u001b[0;34m=\u001b[0m \u001b[0mpd\u001b[0m\u001b[0;34m.\u001b[0m\u001b[0mDataFrame\u001b[0m\u001b[0;34m(\u001b[0m\u001b[0mxgb\u001b[0m\u001b[0;34m.\u001b[0m\u001b[0mpredict_proba\u001b[0m\u001b[0;34m(\u001b[0m\u001b[0mX_test\u001b[0m\u001b[0;34m)\u001b[0m\u001b[0;34m)\u001b[0m\u001b[0;34m[\u001b[0m\u001b[0;36m1\u001b[0m\u001b[0;34m]\u001b[0m\u001b[0;34m\u001b[0m\u001b[0;34m\u001b[0m\u001b[0m\n",
      "\u001b[0;31mTypeError\u001b[0m: type object got multiple values for keyword argument 'n_estimators'"
     ]
    }
   ],
   "source": [
    "# best[\"n_estimators\"] = int(best[\"n_estimators\"])\n",
    "best[\"learning_rate\"] = float(best[\"learning_rate\"])\n",
    "# best[\"max_depth\"] = int(best[\"max_depth\"])\n",
    "# best[\"min_child_weight\"] = int(best[\"min_child_weight\"])\n",
    "best[\"colsample_bytree\"] = float(best[\"colsample_bytree\"])\n",
    "best[\"subsample\"] = float(best[\"subsample\"])\n",
    "best[\"reg_lambda\"] = reg_candidate[int(best[\"reg_lambda\"])]\n",
    "best[\"reg_alpha\"] = reg_candidate[int(best[\"reg_alpha\"])]\n",
    "best[\"base_score\"] = float(best[\"base_score\"])\n",
    "best[\"objective\"] = object_f[int(best[\"objective\"])]\n",
    "best[\"booster\"] = booster_c[int(best[\"booster\"])]\n",
    "\n",
    "print(best)\n",
    "\n",
    "xgb = XGBClassifier(n_estimators=100, **best)\n",
    "xgb.fit(X_train, y_train)\n",
    "pred_p = pd.DataFrame(xgb.predict_proba(X_test))[1]\n",
    "print(roc_auc_score(y_test, pred_p))"
   ]
  },
  {
   "cell_type": "markdown",
   "metadata": {},
   "source": [
    "# 하이퍼파라미터 튜닝(AUC)\n",
    "---"
   ]
  },
  {
   "cell_type": "code",
   "execution_count": 26,
   "metadata": {},
   "outputs": [
    {
     "name": "stdout",
     "output_type": "stream",
     "text": [
      "[0]\tvalidation_0-auc:0.69403\tvalidation_1-auc:0.68142 \n",
      "[49]\tvalidation_0-auc:0.80905\tvalidation_1-auc:0.75976\n",
      "==================================================    \n",
      "XGBClassifier(base_score=0.6000000000000001, booster='gbtree',\n",
      "              colsample_bylevel=1, colsample_bynode=1, colsample_bytree=0.8,\n",
      "              gamma=0, gpu_id=0, importance_type='gain',\n",
      "              interaction_constraints='', learning_rate=0.18, max_delta_step=0,\n",
      "              max_depth=6, min_child_weight=1, missing=nan,\n",
      "              monotone_constraints='()', n_estimators=50, n_jobs=4,\n",
      "              num_parallel_tree=1, random_state=0, reg_alpha=1e-05,\n",
      "              reg_lambda=1e-05, scale_pos_weight=6.0,\n",
      "              subsample=0.6000000000000001, tree_method='gpu_hist',\n",
      "              validate_parameters=1, verbosity=None)\n",
      "train best     score:                                 \n",
      "0.7598                                                \n",
      "test   roc_auc_score:                                 \n",
      "0.7598                                                \n",
      "ok                                                    \n",
      "==================================================    \n",
      "  2%|▏         | 1/50 [00:03<03:09,  3.86s/trial, best loss: 0.3475332382145353]"
     ]
    },
    {
     "name": "stderr",
     "output_type": "stream",
     "text": [
      "/home/lab10/.local/lib/python3.6/site-packages/xgboost/sklearn.py:1146: UserWarning: The use of label encoder in XGBClassifier is deprecated and will be removed in a future release. To remove this warning, do the following: 1) Pass option use_label_encoder=False when constructing XGBClassifier object; and 2) Encode your labels (y) as integers starting with 0, i.e. 0, 1, 2, ..., [num_class - 1].\n",
      "  warnings.warn(label_encoder_deprecation_msg, UserWarning)\n",
      "\n"
     ]
    },
    {
     "name": "stdout",
     "output_type": "stream",
     "text": [
      "[0]\tvalidation_0-auc:0.66088\tvalidation_1-auc:0.64959                           \n",
      "[49]\tvalidation_0-auc:0.76595\tvalidation_1-auc:0.74915                          \n",
      "==================================================                              \n",
      "XGBClassifier(base_score=0.8, booster='dart', colsample_bylevel=1,              \n",
      "              colsample_bynode=1, colsample_bytree=0.6000000000000001, gamma=0,\n",
      "              gpu_id=0, importance_type='gain', interaction_constraints='',\n",
      "              learning_rate=0.03, max_delta_step=0, max_depth=6,\n",
      "              min_child_weight=1, missing=nan, monotone_constraints='()',\n",
      "              n_estimators=50, n_jobs=4, num_parallel_tree=1,\n",
      "              objective='reg:logistic', random_state=0, reg_alpha=1e-05,\n",
      "              reg_lambda=5.0, scale_pos_weight=4.0, subsample=0.8,\n",
      "              tree_method='gpu_hist', validate_parameters=1, verbosity=None)\n",
      "train best     score:                                                           \n",
      "0.7491                                                                          \n",
      "test   roc_auc_score:                                                           \n",
      "0.7492                                                                          \n",
      "ok                                                                              \n",
      "==================================================                              \n",
      "  4%|▍         | 2/50 [00:21<09:39, 12.08s/trial, best loss: 0.3475332382145353]"
     ]
    },
    {
     "name": "stderr",
     "output_type": "stream",
     "text": [
      "/home/lab10/.local/lib/python3.6/site-packages/xgboost/sklearn.py:1146: UserWarning: The use of label encoder in XGBClassifier is deprecated and will be removed in a future release. To remove this warning, do the following: 1) Pass option use_label_encoder=False when constructing XGBClassifier object; and 2) Encode your labels (y) as integers starting with 0, i.e. 0, 1, 2, ..., [num_class - 1].\n",
      "  warnings.warn(label_encoder_deprecation_msg, UserWarning)\n",
      "\n"
     ]
    },
    {
     "name": "stdout",
     "output_type": "stream",
     "text": [
      "[0]\tvalidation_0-auc:0.65507\tvalidation_1-auc:0.64596                           \n",
      "[49]\tvalidation_0-auc:0.76243\tvalidation_1-auc:0.75001                          \n",
      "==================================================                              \n",
      "XGBClassifier(base_score=0.6000000000000001, booster='dart',                    \n",
      "              colsample_bylevel=1, colsample_bynode=1,\n",
      "              colsample_bytree=0.6000000000000001, gamma=0, gpu_id=0,\n",
      "              importance_type='gain', interaction_constraints='',\n",
      "              learning_rate=0.03, max_delta_step=0, max_depth=6,\n",
      "              min_child_weight=1, missing=nan, monotone_constraints='()',\n",
      "              n_estimators=50, n_jobs=4, num_parallel_tree=1,\n",
      "              objective='binary:logitraw', random_state=0, reg_alpha=1e-05,\n",
      "              reg_lambda=10.0, scale_pos_weight=4.0, subsample=0.4,\n",
      "              tree_method='gpu_hist', validate_parameters=1, verbosity=None)\n",
      "train best     score:                                                           \n",
      "0.7500                                                                          \n",
      "test   roc_auc_score:                                                           \n",
      "0.7500                                                                          \n",
      "ok                                                                              \n",
      "==================================================                              \n",
      "  6%|▌         | 3/50 [00:39<11:21, 14.50s/trial, best loss: 0.3475332382145353]"
     ]
    },
    {
     "name": "stderr",
     "output_type": "stream",
     "text": [
      "/home/lab10/.local/lib/python3.6/site-packages/xgboost/sklearn.py:1146: UserWarning: The use of label encoder in XGBClassifier is deprecated and will be removed in a future release. To remove this warning, do the following: 1) Pass option use_label_encoder=False when constructing XGBClassifier object; and 2) Encode your labels (y) as integers starting with 0, i.e. 0, 1, 2, ..., [num_class - 1].\n",
      "  warnings.warn(label_encoder_deprecation_msg, UserWarning)\n",
      "\n"
     ]
    },
    {
     "name": "stdout",
     "output_type": "stream",
     "text": [
      "[0]\tvalidation_0-auc:0.66293\tvalidation_1-auc:0.65146                           \n",
      "[49]\tvalidation_0-auc:0.80210\tvalidation_1-auc:0.76140                          \n",
      "==================================================                              \n",
      "XGBClassifier(base_score=0.6000000000000001, booster='gbtree',                  \n",
      "              colsample_bylevel=1, colsample_bynode=1,\n",
      "              colsample_bytree=0.6000000000000001, gamma=0, gpu_id=0,\n",
      "              importance_type='gain', interaction_constraints='',\n",
      "              learning_rate=0.15, max_delta_step=0, max_depth=6,\n",
      "              min_child_weight=1, missing=nan, monotone_constraints='()',\n",
      "              n_estimators=50, n_jobs=4, num_parallel_tree=1,\n",
      "              objective='reg:logistic', random_state=0, reg_alpha=0.0001,\n",
      "              reg_lambda=1.0, scale_pos_weight=4.0,\n",
      "              subsample=0.6000000000000001, tree_method='gpu_hist',\n",
      "              validate_parameters=1, verbosity=None)\n",
      "train best     score:                                                           \n",
      "0.7614                                                                          \n",
      "test   roc_auc_score:                                                           \n",
      "0.7614                                                                          \n",
      "ok                                                                              \n",
      "==================================================                              \n",
      "  8%|▊         | 4/50 [00:42<07:48, 10.18s/trial, best loss: 0.3475332382145353]"
     ]
    },
    {
     "name": "stderr",
     "output_type": "stream",
     "text": [
      "/home/lab10/.local/lib/python3.6/site-packages/xgboost/sklearn.py:1146: UserWarning: The use of label encoder in XGBClassifier is deprecated and will be removed in a future release. To remove this warning, do the following: 1) Pass option use_label_encoder=False when constructing XGBClassifier object; and 2) Encode your labels (y) as integers starting with 0, i.e. 0, 1, 2, ..., [num_class - 1].\n",
      "  warnings.warn(label_encoder_deprecation_msg, UserWarning)\n",
      "\n"
     ]
    },
    {
     "name": "stdout",
     "output_type": "stream",
     "text": [
      "[0]\tvalidation_0-auc:0.60473\tvalidation_1-auc:0.60856                           \n",
      "[49]\tvalidation_0-auc:0.74174\tvalidation_1-auc:0.73646                          \n",
      "==================================================                              \n",
      "XGBClassifier(base_score=0.7000000000000001, booster='gbtree',                  \n",
      "              colsample_bylevel=1, colsample_bynode=1,\n",
      "              colsample_bytree=0.6000000000000001, gamma=0, gpu_id=0,\n",
      "              importance_type='gain', interaction_constraints='',\n",
      "              learning_rate=0.03, max_delta_step=0, max_depth=6,\n",
      "              min_child_weight=1, missing=nan, monotone_constraints='()',\n",
      "              n_estimators=50, n_jobs=4, num_parallel_tree=1,\n",
      "              objective='reg:logistic', random_state=0, reg_alpha=0.01,\n",
      "              reg_lambda=100.0, scale_pos_weight=4.0, subsample=0.2,\n",
      "              tree_method='gpu_hist', validate_parameters=1, verbosity=None)\n",
      "train best     score:                                                           \n",
      "0.7365                                                                          \n",
      "test   roc_auc_score:                                                           \n",
      "0.7365                                                                          \n",
      "ok                                                                              \n",
      "==================================================                              \n",
      " 10%|█         | 5/50 [00:46<05:50,  7.79s/trial, best loss: 0.3475332382145353]"
     ]
    },
    {
     "name": "stderr",
     "output_type": "stream",
     "text": [
      "/home/lab10/.local/lib/python3.6/site-packages/xgboost/sklearn.py:1146: UserWarning: The use of label encoder in XGBClassifier is deprecated and will be removed in a future release. To remove this warning, do the following: 1) Pass option use_label_encoder=False when constructing XGBClassifier object; and 2) Encode your labels (y) as integers starting with 0, i.e. 0, 1, 2, ..., [num_class - 1].\n",
      "  warnings.warn(label_encoder_deprecation_msg, UserWarning)\n",
      "\n"
     ]
    },
    {
     "name": "stdout",
     "output_type": "stream",
     "text": [
      "[0]\tvalidation_0-auc:0.62499\tvalidation_1-auc:0.61143                           \n",
      "[49]\tvalidation_0-auc:0.76806\tvalidation_1-auc:0.75228                          \n",
      "==================================================                              \n",
      "XGBClassifier(base_score=0.5, booster='gbtree', colsample_bylevel=1,            \n",
      "              colsample_bynode=1, colsample_bytree=0.2, gamma=0, gpu_id=0,\n",
      "              importance_type='gain', interaction_constraints='',\n",
      "              learning_rate=0.03, max_delta_step=0, max_depth=6,\n",
      "              min_child_weight=1, missing=nan, monotone_constraints='()',\n",
      "              n_estimators=50, n_jobs=4, num_parallel_tree=1, random_state=0,\n",
      "              reg_alpha=5.0, reg_lambda=10.0, scale_pos_weight=8.0,\n",
      "              subsample=0.8, tree_method='gpu_hist', validate_parameters=1,\n",
      "              verbosity=None)\n",
      "train best     score:                                                           \n",
      "0.7523                                                                          \n",
      "test   roc_auc_score:                                                           \n",
      "0.7523                                                                          \n",
      "ok                                                                              \n",
      "==================================================                              \n",
      " 12%|█▏        | 6/50 [00:49<04:40,  6.38s/trial, best loss: 0.3475332382145353]"
     ]
    },
    {
     "name": "stderr",
     "output_type": "stream",
     "text": [
      "/home/lab10/.local/lib/python3.6/site-packages/xgboost/sklearn.py:1146: UserWarning: The use of label encoder in XGBClassifier is deprecated and will be removed in a future release. To remove this warning, do the following: 1) Pass option use_label_encoder=False when constructing XGBClassifier object; and 2) Encode your labels (y) as integers starting with 0, i.e. 0, 1, 2, ..., [num_class - 1].\n",
      "  warnings.warn(label_encoder_deprecation_msg, UserWarning)\n",
      "\n"
     ]
    },
    {
     "name": "stdout",
     "output_type": "stream",
     "text": [
      "[0]\tvalidation_0-auc:0.65883\tvalidation_1-auc:0.64591                           \n",
      "[49]\tvalidation_0-auc:0.79166\tvalidation_1-auc:0.76040                          \n",
      "==================================================                              \n",
      "XGBClassifier(base_score=0.7000000000000001, booster='gbtree',                  \n",
      "              colsample_bylevel=1, colsample_bynode=1, colsample_bytree=0.4,\n",
      "              gamma=0, gpu_id=0, importance_type='gain',\n",
      "              interaction_constraints='', learning_rate=0.12, max_delta_step=0,\n",
      "              max_depth=6, min_child_weight=1, missing=nan,\n",
      "              monotone_constraints='()', n_estimators=50, n_jobs=4,\n",
      "              num_parallel_tree=1, objective='binary:logitraw', random_state=0,\n",
      "              reg_alpha=5.0, reg_lambda=1e-05, scale_pos_weight=4.0,\n",
      "              subsample=0.8, tree_method='gpu_hist', validate_parameters=1,\n",
      "              verbosity=None)\n",
      "train best     score:                                                           \n",
      "0.7604                                                                          \n",
      "test   roc_auc_score:                                                           \n",
      "0.7604                                                                          \n",
      "ok                                                                              \n",
      "==================================================                              \n",
      " 14%|█▍        | 7/50 [00:53<03:56,  5.50s/trial, best loss: 0.3475332382145353]"
     ]
    },
    {
     "name": "stderr",
     "output_type": "stream",
     "text": [
      "/home/lab10/.local/lib/python3.6/site-packages/xgboost/sklearn.py:1146: UserWarning: The use of label encoder in XGBClassifier is deprecated and will be removed in a future release. To remove this warning, do the following: 1) Pass option use_label_encoder=False when constructing XGBClassifier object; and 2) Encode your labels (y) as integers starting with 0, i.e. 0, 1, 2, ..., [num_class - 1].\n",
      "  warnings.warn(label_encoder_deprecation_msg, UserWarning)\n",
      "\n"
     ]
    },
    {
     "name": "stdout",
     "output_type": "stream",
     "text": [
      "[0]\tvalidation_0-auc:0.63498\tvalidation_1-auc:0.63424                           \n",
      "[49]\tvalidation_0-auc:0.76784\tvalidation_1-auc:0.75751                          \n",
      "==================================================                              \n",
      "XGBClassifier(base_score=0.7000000000000001, booster='gbtree',                  \n",
      "              colsample_bylevel=1, colsample_bynode=1, colsample_bytree=0.4,\n",
      "              gamma=0, gpu_id=0, importance_type='gain',\n",
      "              interaction_constraints='', learning_rate=0.12, max_delta_step=0,\n",
      "              max_depth=6, min_child_weight=1, missing=nan,\n",
      "              monotone_constraints='()', n_estimators=50, n_jobs=4,\n",
      "              num_parallel_tree=1, objective='binary:logitraw', random_state=0,\n",
      "              reg_alpha=100.0, reg_lambda=10.0, scale_pos_weight=6.0,\n",
      "              subsample=0.4, tree_method='gpu_hist', validate_parameters=1,\n",
      "              verbosity=None)\n",
      "train best     score:                                                           \n",
      "0.7575                                                                          \n",
      "test   roc_auc_score:                                                           \n",
      "0.7575                                                                          \n",
      "ok                                                                              \n",
      "==================================================                              \n",
      " 16%|█▌        | 8/50 [00:56<03:22,  4.81s/trial, best loss: 0.3475332382145353]"
     ]
    },
    {
     "name": "stderr",
     "output_type": "stream",
     "text": [
      "/home/lab10/.local/lib/python3.6/site-packages/xgboost/sklearn.py:1146: UserWarning: The use of label encoder in XGBClassifier is deprecated and will be removed in a future release. To remove this warning, do the following: 1) Pass option use_label_encoder=False when constructing XGBClassifier object; and 2) Encode your labels (y) as integers starting with 0, i.e. 0, 1, 2, ..., [num_class - 1].\n",
      "  warnings.warn(label_encoder_deprecation_msg, UserWarning)\n",
      "\n"
     ]
    },
    {
     "name": "stdout",
     "output_type": "stream",
     "text": [
      "[11:57:20] WARNING: ../src/learner.cc:573:                                      \n",
      "Parameters: { \"colsample_bytree\", \"subsample\", \"tree_method\" } might not be used.\n",
      "\n",
      "  This may not be accurate due to some parameters are only used in language bindings but\n",
      "  passed down to XGBoost core.  Or some parameters are not used but slip through this\n",
      "  verification. Please open an issue if you find above cases.\n",
      "\n",
      "\n",
      "[0]\tvalidation_0-auc:0.58697\tvalidation_1-auc:0.59073                           \n",
      "[49]\tvalidation_0-auc:0.73848\tvalidation_1-auc:0.73969                          \n",
      "==================================================                              \n",
      "XGBClassifier(base_score=0.6000000000000001, booster='gblinear',                \n",
      "              colsample_bylevel=None, colsample_bynode=None,\n",
      "              colsample_bytree=0.4, gamma=None, gpu_id=-1,\n",
      "              importance_type='gain', interaction_constraints=None,\n",
      "              learning_rate=0.18, max_delta_step=None, max_depth=None,\n",
      "              min_child_weight=None, missing=nan, monotone_constraints=None,\n",
      "              n_estimators=50, n_jobs=4, num_parallel_tree=None,\n",
      "              objective='binary:logitraw', random_state=0, reg_alpha=1e-05,\n",
      "              reg_lambda=1e-05, scale_pos_weight=2.0, subsample=1.0,\n",
      "              tree_method='gpu_hist', validate_parameters=1, verbosity=None)\n",
      "train best     score:                                                           \n",
      "0.7397                                                                          \n",
      "test   roc_auc_score:                                                           \n",
      "0.7397                                                                          \n",
      "ok                                                                              \n",
      "==================================================                              \n",
      " 18%|█▊        | 9/50 [01:15<06:11,  9.06s/trial, best loss: 0.3475332382145353]"
     ]
    },
    {
     "name": "stderr",
     "output_type": "stream",
     "text": [
      "/home/lab10/.local/lib/python3.6/site-packages/xgboost/sklearn.py:1146: UserWarning: The use of label encoder in XGBClassifier is deprecated and will be removed in a future release. To remove this warning, do the following: 1) Pass option use_label_encoder=False when constructing XGBClassifier object; and 2) Encode your labels (y) as integers starting with 0, i.e. 0, 1, 2, ..., [num_class - 1].\n",
      "  warnings.warn(label_encoder_deprecation_msg, UserWarning)\n",
      "\n"
     ]
    },
    {
     "name": "stdout",
     "output_type": "stream",
     "text": [
      "[0]\tvalidation_0-auc:0.60621\tvalidation_1-auc:0.59957                           \n",
      "[49]\tvalidation_0-auc:0.78163\tvalidation_1-auc:0.75517                          \n",
      "==================================================                              \n",
      "XGBClassifier(base_score=0.7000000000000001, booster='gbtree',                  \n",
      "              colsample_bylevel=1, colsample_bynode=1, colsample_bytree=0.2,\n",
      "              gamma=0, gpu_id=0, importance_type='gain',\n",
      "              interaction_constraints='', learning_rate=0.18, max_delta_step=0,\n",
      "              max_depth=6, min_child_weight=1, missing=nan,\n",
      "              monotone_constraints='()', n_estimators=50, n_jobs=4,\n",
      "              num_parallel_tree=1, objective='reg:logistic', random_state=0,\n",
      "              reg_alpha=5.0, reg_lambda=1e-05, scale_pos_weight=4.0,\n",
      "              subsample=0.2, tree_method='gpu_hist', validate_parameters=1,\n",
      "              verbosity=None)\n",
      "train best     score:                                                           \n",
      "0.7552                                                                          \n",
      "test   roc_auc_score:                                                           \n",
      "0.7552                                                                          \n",
      "ok                                                                              \n",
      "==================================================                              \n",
      " 20%|██        | 10/50 [01:18<04:48,  7.20s/trial, best loss: 0.3475332382145353]"
     ]
    },
    {
     "name": "stderr",
     "output_type": "stream",
     "text": [
      "/home/lab10/.local/lib/python3.6/site-packages/xgboost/sklearn.py:1146: UserWarning: The use of label encoder in XGBClassifier is deprecated and will be removed in a future release. To remove this warning, do the following: 1) Pass option use_label_encoder=False when constructing XGBClassifier object; and 2) Encode your labels (y) as integers starting with 0, i.e. 0, 1, 2, ..., [num_class - 1].\n",
      "  warnings.warn(label_encoder_deprecation_msg, UserWarning)\n",
      "\n"
     ]
    },
    {
     "name": "stdout",
     "output_type": "stream",
     "text": [
      "[11:57:41] WARNING: ../src/learner.cc:573:                                       \n",
      "Parameters: { \"colsample_bytree\", \"subsample\", \"tree_method\" } might not be used.\n",
      "\n",
      "  This may not be accurate due to some parameters are only used in language bindings but\n",
      "  passed down to XGBoost core.  Or some parameters are not used but slip through this\n",
      "  verification. Please open an issue if you find above cases.\n",
      "\n",
      "\n",
      "[0]\tvalidation_0-auc:0.50040\tvalidation_1-auc:0.50843                            \n",
      "[49]\tvalidation_0-auc:0.50040\tvalidation_1-auc:0.50843                           \n",
      "==================================================                               \n",
      "XGBClassifier(base_score=0.6000000000000001, booster='gblinear',                 \n",
      "              colsample_bylevel=None, colsample_bynode=None,\n",
      "              colsample_bytree=0.4, gamma=None, gpu_id=-1,\n",
      "              importance_type='gain', interaction_constraints=None,\n",
      "              learning_rate=0.12, max_delta_step=None, max_depth=None,\n",
      "              min_child_weight=None, missing=nan, monotone_constraints=None,\n",
      "              n_estimators=50, n_jobs=4, num_parallel_tree=None,\n",
      "              objective='reg:logistic', random_state=0, reg_alpha=5.0,\n",
      "              reg_lambda=1.0, scale_pos_weight=8.0,\n",
      "              subsample=0.6000000000000001, tree_method='gpu_hist',\n",
      "              validate_parameters=1, verbosity=None)\n",
      "train best     score:                                                            \n",
      "0.5084                                                                           \n",
      "test   roc_auc_score:                                                            \n",
      "0.5084                                                                           \n",
      "ok                                                                               \n",
      "==================================================                               \n",
      " 22%|██▏       | 11/50 [01:34<06:25,  9.90s/trial, best loss: 0.3475332382145353]"
     ]
    },
    {
     "name": "stderr",
     "output_type": "stream",
     "text": [
      "/home/lab10/.local/lib/python3.6/site-packages/xgboost/sklearn.py:1146: UserWarning: The use of label encoder in XGBClassifier is deprecated and will be removed in a future release. To remove this warning, do the following: 1) Pass option use_label_encoder=False when constructing XGBClassifier object; and 2) Encode your labels (y) as integers starting with 0, i.e. 0, 1, 2, ..., [num_class - 1].\n",
      "  warnings.warn(label_encoder_deprecation_msg, UserWarning)\n",
      "\n"
     ]
    },
    {
     "name": "stdout",
     "output_type": "stream",
     "text": [
      "[0]\tvalidation_0-auc:0.71819\tvalidation_1-auc:0.71278                            \n",
      "[49]\tvalidation_0-auc:0.75800\tvalidation_1-auc:0.74313                           \n",
      "==================================================                               \n",
      "XGBClassifier(base_score=0.8, booster='dart', colsample_bylevel=1,               \n",
      "              colsample_bynode=1, colsample_bytree=1.0, gamma=0, gpu_id=0,\n",
      "              importance_type='gain', interaction_constraints='',\n",
      "              learning_rate=0.03, max_delta_step=0, max_depth=6,\n",
      "              min_child_weight=1, missing=nan, monotone_constraints='()',\n",
      "              n_estimators=50, n_jobs=4, num_parallel_tree=1, random_state=0,\n",
      "              reg_alpha=1e-05, reg_lambda=0.01, scale_pos_weight=2.0,\n",
      "              subsample=0.6000000000000001, tree_method='gpu_hist',\n",
      "              validate_parameters=1, verbosity=None)\n",
      "train best     score:                                                            \n",
      "0.7431                                                                           \n",
      "test   roc_auc_score:                                                            \n",
      "0.7431                                                                           \n",
      "ok                                                                               \n",
      "==================================================                               \n",
      " 24%|██▍       | 12/50 [01:52<07:50, 12.39s/trial, best loss: 0.3475332382145353]"
     ]
    },
    {
     "name": "stderr",
     "output_type": "stream",
     "text": [
      "/home/lab10/.local/lib/python3.6/site-packages/xgboost/sklearn.py:1146: UserWarning: The use of label encoder in XGBClassifier is deprecated and will be removed in a future release. To remove this warning, do the following: 1) Pass option use_label_encoder=False when constructing XGBClassifier object; and 2) Encode your labels (y) as integers starting with 0, i.e. 0, 1, 2, ..., [num_class - 1].\n",
      "  warnings.warn(label_encoder_deprecation_msg, UserWarning)\n",
      "\n"
     ]
    },
    {
     "name": "stdout",
     "output_type": "stream",
     "text": [
      "[11:58:15] WARNING: ../src/learner.cc:573:                                       \n",
      "Parameters: { \"colsample_bytree\", \"subsample\", \"tree_method\" } might not be used.\n",
      "\n",
      "  This may not be accurate due to some parameters are only used in language bindings but\n",
      "  passed down to XGBoost core.  Or some parameters are not used but slip through this\n",
      "  verification. Please open an issue if you find above cases.\n",
      "\n",
      "\n",
      "[0]\tvalidation_0-auc:0.57319\tvalidation_1-auc:0.57669                            \n",
      "[49]\tvalidation_0-auc:0.73455\tvalidation_1-auc:0.73505                           \n",
      "==================================================                               \n",
      "XGBClassifier(base_score=0.6000000000000001, booster='gblinear',                 \n",
      "              colsample_bylevel=None, colsample_bynode=None,\n",
      "              colsample_bytree=0.4, gamma=None, gpu_id=-1,\n",
      "              importance_type='gain', interaction_constraints=None,\n",
      "              learning_rate=0.12, max_delta_step=None, max_depth=None,\n",
      "              min_child_weight=None, missing=nan, monotone_constraints=None,\n",
      "              n_estimators=50, n_jobs=4, num_parallel_tree=None,\n",
      "              objective='binary:logitraw', random_state=0, reg_alpha=1e-05,\n",
      "              reg_lambda=0.001, scale_pos_weight=2.0, subsample=0.4,\n",
      "              tree_method='gpu_hist', validate_parameters=1, verbosity=None)\n",
      "train best     score:                                                            \n",
      "0.7351                                                                           \n",
      "test   roc_auc_score:                                                            \n",
      "0.7350                                                                           \n",
      "ok                                                                               \n",
      "==================================================                               \n",
      " 26%|██▌       | 13/50 [02:14<09:31, 15.43s/trial, best loss: 0.3475332382145353]"
     ]
    },
    {
     "name": "stderr",
     "output_type": "stream",
     "text": [
      "/home/lab10/.local/lib/python3.6/site-packages/xgboost/sklearn.py:1146: UserWarning: The use of label encoder in XGBClassifier is deprecated and will be removed in a future release. To remove this warning, do the following: 1) Pass option use_label_encoder=False when constructing XGBClassifier object; and 2) Encode your labels (y) as integers starting with 0, i.e. 0, 1, 2, ..., [num_class - 1].\n",
      "  warnings.warn(label_encoder_deprecation_msg, UserWarning)\n",
      "\n"
     ]
    },
    {
     "name": "stdout",
     "output_type": "stream",
     "text": [
      "[11:58:38] WARNING: ../src/learner.cc:573:                                       \n",
      "Parameters: { \"colsample_bytree\", \"subsample\", \"tree_method\" } might not be used.\n",
      "\n",
      "  This may not be accurate due to some parameters are only used in language bindings but\n",
      "  passed down to XGBoost core.  Or some parameters are not used but slip through this\n",
      "  verification. Please open an issue if you find above cases.\n",
      "\n",
      "\n",
      "[0]\tvalidation_0-auc:0.58291\tvalidation_1-auc:0.58570                            \n",
      "[49]\tvalidation_0-auc:0.71542\tvalidation_1-auc:0.71425                           \n",
      "==================================================                               \n",
      "XGBClassifier(base_score=0.8, booster='gblinear', colsample_bylevel=None,        \n",
      "              colsample_bynode=None, colsample_bytree=0.8, gamma=None,\n",
      "              gpu_id=-1, importance_type='gain', interaction_constraints=None,\n",
      "              learning_rate=0.09, max_delta_step=None, max_depth=None,\n",
      "              min_child_weight=None, missing=nan, monotone_constraints=None,\n",
      "              n_estimators=50, n_jobs=4, num_parallel_tree=None,\n",
      "              objective='reg:logistic', random_state=0, reg_alpha=0.01,\n",
      "              reg_lambda=0.01, scale_pos_weight=6.0, subsample=0.4,\n",
      "              tree_method='gpu_hist', validate_parameters=1, verbosity=None)\n",
      "train best     score:                                                            \n",
      "0.7143                                                                           \n",
      "test   roc_auc_score:                                                            \n",
      "0.7142                                                                           \n",
      "ok                                                                               \n",
      "==================================================                               \n",
      " 28%|██▊       | 14/50 [02:32<09:35, 15.99s/trial, best loss: 0.3475332382145353]"
     ]
    },
    {
     "name": "stderr",
     "output_type": "stream",
     "text": [
      "/home/lab10/.local/lib/python3.6/site-packages/xgboost/sklearn.py:1146: UserWarning: The use of label encoder in XGBClassifier is deprecated and will be removed in a future release. To remove this warning, do the following: 1) Pass option use_label_encoder=False when constructing XGBClassifier object; and 2) Encode your labels (y) as integers starting with 0, i.e. 0, 1, 2, ..., [num_class - 1].\n",
      "  warnings.warn(label_encoder_deprecation_msg, UserWarning)\n",
      "\n"
     ]
    },
    {
     "name": "stdout",
     "output_type": "stream",
     "text": [
      "[0]\tvalidation_0-auc:0.65950\tvalidation_1-auc:0.65001                            \n",
      "[49]\tvalidation_0-auc:0.79751\tvalidation_1-auc:0.75897                           \n",
      "==================================================                               \n",
      "XGBClassifier(base_score=0.7000000000000001, booster='dart',                     \n",
      "              colsample_bylevel=1, colsample_bynode=1,\n",
      "              colsample_bytree=0.6000000000000001, gamma=0, gpu_id=0,\n",
      "              importance_type='gain', interaction_constraints='',\n",
      "              learning_rate=0.15, max_delta_step=0, max_depth=6,\n",
      "              min_child_weight=1, missing=nan, monotone_constraints='()',\n",
      "              n_estimators=50, n_jobs=4, num_parallel_tree=1, random_state=0,\n",
      "              reg_alpha=0.001, reg_lambda=0.1, scale_pos_weight=2.0,\n",
      "              subsample=0.4, tree_method='gpu_hist', validate_parameters=1,\n",
      "              verbosity=None)\n",
      "train best     score:                                                            \n",
      "0.7590                                                                           \n",
      "test   roc_auc_score:                                                            \n",
      "0.7590                                                                           \n",
      "ok                                                                               \n",
      "==================================================                               \n",
      " 30%|███       | 15/50 [02:50<09:49, 16.83s/trial, best loss: 0.3475332382145353]"
     ]
    },
    {
     "name": "stderr",
     "output_type": "stream",
     "text": [
      "/home/lab10/.local/lib/python3.6/site-packages/xgboost/sklearn.py:1146: UserWarning: The use of label encoder in XGBClassifier is deprecated and will be removed in a future release. To remove this warning, do the following: 1) Pass option use_label_encoder=False when constructing XGBClassifier object; and 2) Encode your labels (y) as integers starting with 0, i.e. 0, 1, 2, ..., [num_class - 1].\n",
      "  warnings.warn(label_encoder_deprecation_msg, UserWarning)\n",
      "\n"
     ]
    },
    {
     "name": "stdout",
     "output_type": "stream",
     "text": [
      "[0]\tvalidation_0-auc:0.65948\tvalidation_1-auc:0.64852                            \n",
      "[49]\tvalidation_0-auc:0.80926\tvalidation_1-auc:0.76162                           \n",
      "==================================================                               \n",
      "XGBClassifier(base_score=0.8, booster='dart', colsample_bylevel=1,               \n",
      "              colsample_bynode=1, colsample_bytree=0.4, gamma=0, gpu_id=0,\n",
      "              importance_type='gain', interaction_constraints='',\n",
      "              learning_rate=0.21, max_delta_step=0, max_depth=6,\n",
      "              min_child_weight=1, missing=nan, monotone_constraints='()',\n",
      "              n_estimators=50, n_jobs=4, num_parallel_tree=1, random_state=0,\n",
      "              reg_alpha=1.0, reg_lambda=0.001, scale_pos_weight=2.0,\n",
      "              subsample=0.8, tree_method='gpu_hist', validate_parameters=1,\n",
      "              verbosity=None)\n",
      "train best     score:                                                            \n",
      "0.7617                                                                           \n",
      "test   roc_auc_score:                                                            \n",
      "0.7617                                                                           \n",
      "ok                                                                               \n",
      "==================================================                               \n",
      " 32%|███▏      | 16/50 [03:08<09:44, 17.19s/trial, best loss: 0.3475332382145353]"
     ]
    },
    {
     "name": "stderr",
     "output_type": "stream",
     "text": [
      "/home/lab10/.local/lib/python3.6/site-packages/xgboost/sklearn.py:1146: UserWarning: The use of label encoder in XGBClassifier is deprecated and will be removed in a future release. To remove this warning, do the following: 1) Pass option use_label_encoder=False when constructing XGBClassifier object; and 2) Encode your labels (y) as integers starting with 0, i.e. 0, 1, 2, ..., [num_class - 1].\n",
      "  warnings.warn(label_encoder_deprecation_msg, UserWarning)\n",
      "\n"
     ]
    },
    {
     "name": "stdout",
     "output_type": "stream",
     "text": [
      "[0]\tvalidation_0-auc:0.62251\tvalidation_1-auc:0.61264                            \n",
      "[49]\tvalidation_0-auc:0.80063\tvalidation_1-auc:0.76167                           \n",
      "==================================================                               \n",
      "XGBClassifier(base_score=0.7000000000000001, booster='dart',                     \n",
      "              colsample_bylevel=1, colsample_bynode=1, colsample_bytree=0.2,\n",
      "              gamma=0, gpu_id=0, importance_type='gain',\n",
      "              interaction_constraints='', learning_rate=0.18, max_delta_step=0,\n",
      "              max_depth=6, min_child_weight=1, missing=nan,\n",
      "              monotone_constraints='()', n_estimators=50, n_jobs=4,\n",
      "              num_parallel_tree=1, objective='reg:logistic', random_state=0,\n",
      "              reg_alpha=0.0001, reg_lambda=1e-05, scale_pos_weight=4.0,\n",
      "              subsample=0.8, tree_method='gpu_hist', validate_parameters=1,\n",
      "              verbosity=None)\n",
      "train best     score:                                                            \n",
      "0.7617                                                                           \n",
      "test   roc_auc_score:                                                            \n",
      "0.7617                                                                           \n",
      "ok                                                                               \n",
      "==================================================                               \n",
      " 34%|███▍      | 17/50 [03:26<09:35, 17.45s/trial, best loss: 0.3475332382145353]"
     ]
    },
    {
     "name": "stderr",
     "output_type": "stream",
     "text": [
      "/home/lab10/.local/lib/python3.6/site-packages/xgboost/sklearn.py:1146: UserWarning: The use of label encoder in XGBClassifier is deprecated and will be removed in a future release. To remove this warning, do the following: 1) Pass option use_label_encoder=False when constructing XGBClassifier object; and 2) Encode your labels (y) as integers starting with 0, i.e. 0, 1, 2, ..., [num_class - 1].\n",
      "  warnings.warn(label_encoder_deprecation_msg, UserWarning)\n",
      "\n"
     ]
    },
    {
     "name": "stdout",
     "output_type": "stream",
     "text": [
      "[0]\tvalidation_0-auc:0.65823\tvalidation_1-auc:0.66088                            \n",
      "[49]\tvalidation_0-auc:0.77366\tvalidation_1-auc:0.75713                           \n",
      "==================================================                               \n",
      "XGBClassifier(base_score=0.7000000000000001, booster='dart',                     \n",
      "              colsample_bylevel=1, colsample_bynode=1, colsample_bytree=1.0,\n",
      "              gamma=0, gpu_id=0, importance_type='gain',\n",
      "              interaction_constraints='', learning_rate=0.12, max_delta_step=0,\n",
      "              max_depth=6, min_child_weight=1, missing=nan,\n",
      "              monotone_constraints='()', n_estimators=50, n_jobs=4,\n",
      "              num_parallel_tree=1, random_state=0, reg_alpha=0.001,\n",
      "              reg_lambda=100.0, scale_pos_weight=2.0, subsample=0.4,\n",
      "              tree_method='gpu_hist', validate_parameters=1, verbosity=None)\n",
      "train best     score:                                                            \n",
      "0.7571                                                                           \n",
      "test   roc_auc_score:                                                            \n",
      "0.7571                                                                           \n",
      "ok                                                                               \n",
      "==================================================                               \n",
      " 36%|███▌      | 18/50 [03:46<09:35, 17.97s/trial, best loss: 0.3475332382145353]"
     ]
    },
    {
     "name": "stderr",
     "output_type": "stream",
     "text": [
      "/home/lab10/.local/lib/python3.6/site-packages/xgboost/sklearn.py:1146: UserWarning: The use of label encoder in XGBClassifier is deprecated and will be removed in a future release. To remove this warning, do the following: 1) Pass option use_label_encoder=False when constructing XGBClassifier object; and 2) Encode your labels (y) as integers starting with 0, i.e. 0, 1, 2, ..., [num_class - 1].\n",
      "  warnings.warn(label_encoder_deprecation_msg, UserWarning)\n",
      "\n"
     ]
    },
    {
     "name": "stdout",
     "output_type": "stream",
     "text": [
      "[12:00:09] WARNING: ../src/learner.cc:573:                                       \n",
      "Parameters: { \"colsample_bytree\", \"subsample\", \"tree_method\" } might not be used.\n",
      "\n",
      "  This may not be accurate due to some parameters are only used in language bindings but\n",
      "  passed down to XGBoost core.  Or some parameters are not used but slip through this\n",
      "  verification. Please open an issue if you find above cases.\n",
      "\n",
      "\n",
      "[0]\tvalidation_0-auc:0.50551\tvalidation_1-auc:0.51199                            \n",
      "[49]\tvalidation_0-auc:0.50041\tvalidation_1-auc:0.50844                           \n",
      "==================================================                               \n",
      "XGBClassifier(base_score=0.6000000000000001, booster='gblinear',                 \n",
      "              colsample_bylevel=None, colsample_bynode=None,\n",
      "              colsample_bytree=0.2, gamma=None, gpu_id=-1,\n",
      "              importance_type='gain', interaction_constraints=None,\n",
      "              learning_rate=0.15, max_delta_step=None, max_depth=None,\n",
      "              min_child_weight=None, missing=nan, monotone_constraints=None,\n",
      "              n_estimators=50, n_jobs=4, num_parallel_tree=None, random_state=0,\n",
      "              reg_alpha=1.0, reg_lambda=10.0, scale_pos_weight=2.0,\n",
      "              subsample=0.6000000000000001, tree_method='gpu_hist',\n",
      "              validate_parameters=1, verbosity=None)\n",
      "train best     score:                                                            \n",
      "0.5120                                                                           \n",
      "test   roc_auc_score:                                                            \n",
      "0.5084                                                                           \n",
      "ok                                                                               \n",
      "==================================================                               \n",
      " 38%|███▊      | 19/50 [04:03<09:13, 17.87s/trial, best loss: 0.3475332382145353]"
     ]
    },
    {
     "name": "stderr",
     "output_type": "stream",
     "text": [
      "/home/lab10/.local/lib/python3.6/site-packages/xgboost/sklearn.py:1146: UserWarning: The use of label encoder in XGBClassifier is deprecated and will be removed in a future release. To remove this warning, do the following: 1) Pass option use_label_encoder=False when constructing XGBClassifier object; and 2) Encode your labels (y) as integers starting with 0, i.e. 0, 1, 2, ..., [num_class - 1].\n",
      "  warnings.warn(label_encoder_deprecation_msg, UserWarning)\n",
      "\n"
     ]
    },
    {
     "name": "stdout",
     "output_type": "stream",
     "text": [
      "[12:00:27] WARNING: ../src/learner.cc:573:                                       \n",
      "Parameters: { \"colsample_bytree\", \"subsample\", \"tree_method\" } might not be used.\n",
      "\n",
      "  This may not be accurate due to some parameters are only used in language bindings but\n",
      "  passed down to XGBoost core.  Or some parameters are not used but slip through this\n",
      "  verification. Please open an issue if you find above cases.\n",
      "\n",
      "\n",
      "[0]\tvalidation_0-auc:0.48617\tvalidation_1-auc:0.48690                            \n",
      "[49]\tvalidation_0-auc:0.57019\tvalidation_1-auc:0.57335                           \n",
      "==================================================                               \n",
      "XGBClassifier(base_score=0.7000000000000001, booster='gblinear',                 \n",
      "              colsample_bylevel=None, colsample_bynode=None,\n",
      "              colsample_bytree=0.4, gamma=None, gpu_id=-1,\n",
      "              importance_type='gain', interaction_constraints=None,\n",
      "              learning_rate=0.18, max_delta_step=None, max_depth=None,\n",
      "              min_child_weight=None, missing=nan, monotone_constraints=None,\n",
      "              n_estimators=50, n_jobs=4, num_parallel_tree=None,\n",
      "              objective='binary:logitraw', random_state=0, reg_alpha=0.001,\n",
      "              reg_lambda=1.0, scale_pos_weight=2.0, subsample=0.4,\n",
      "              tree_method='gpu_hist', validate_parameters=1, verbosity=None)\n",
      "train best     score:                                                            \n",
      "0.5734                                                                           \n",
      "test   roc_auc_score:                                                            \n",
      "0.5734                                                                           \n",
      "ok                                                                               \n",
      "==================================================                               \n",
      " 40%|████      | 20/50 [04:25<09:31, 19.05s/trial, best loss: 0.3475332382145353]"
     ]
    },
    {
     "name": "stderr",
     "output_type": "stream",
     "text": [
      "/home/lab10/.local/lib/python3.6/site-packages/xgboost/sklearn.py:1146: UserWarning: The use of label encoder in XGBClassifier is deprecated and will be removed in a future release. To remove this warning, do the following: 1) Pass option use_label_encoder=False when constructing XGBClassifier object; and 2) Encode your labels (y) as integers starting with 0, i.e. 0, 1, 2, ..., [num_class - 1].\n",
      "  warnings.warn(label_encoder_deprecation_msg, UserWarning)\n",
      "\n"
     ]
    },
    {
     "name": "stdout",
     "output_type": "stream",
     "text": [
      "[0]\tvalidation_0-auc:0.69778\tvalidation_1-auc:0.68293                            \n",
      "[49]\tvalidation_0-auc:0.77787\tvalidation_1-auc:0.75510                           \n",
      "==================================================                               \n",
      "XGBClassifier(base_score=0.5, booster='gbtree', colsample_bylevel=1,             \n",
      "              colsample_bynode=1, colsample_bytree=0.8, gamma=0, gpu_id=0,\n",
      "              importance_type='gain', interaction_constraints='',\n",
      "              learning_rate=0.06, max_delta_step=0, max_depth=6,\n",
      "              min_child_weight=1, missing=nan, monotone_constraints='()',\n",
      "              n_estimators=50, n_jobs=4, num_parallel_tree=1, random_state=0,\n",
      "              reg_alpha=10.0, reg_lambda=0.0001, scale_pos_weight=8.0,\n",
      "              subsample=1.0, tree_method='gpu_hist', validate_parameters=1,\n",
      "              verbosity=None)\n",
      "train best     score:                                                            \n",
      "0.7551                                                                           \n",
      "test   roc_auc_score:                                                            \n",
      "0.7551                                                                           \n",
      "ok                                                                               \n",
      "==================================================                               \n",
      " 42%|████▏     | 21/50 [04:29<07:00, 14.51s/trial, best loss: 0.32383253796760003]"
     ]
    },
    {
     "name": "stderr",
     "output_type": "stream",
     "text": [
      "/home/lab10/.local/lib/python3.6/site-packages/xgboost/sklearn.py:1146: UserWarning: The use of label encoder in XGBClassifier is deprecated and will be removed in a future release. To remove this warning, do the following: 1) Pass option use_label_encoder=False when constructing XGBClassifier object; and 2) Encode your labels (y) as integers starting with 0, i.e. 0, 1, 2, ..., [num_class - 1].\n",
      "  warnings.warn(label_encoder_deprecation_msg, UserWarning)\n",
      "\n"
     ]
    },
    {
     "name": "stdout",
     "output_type": "stream",
     "text": [
      "[0]\tvalidation_0-auc:0.69725\tvalidation_1-auc:0.68732                             \n",
      "[49]\tvalidation_0-auc:0.77647\tvalidation_1-auc:0.75411                            \n",
      "==================================================                                \n",
      "XGBClassifier(base_score=0.5, booster='gbtree', colsample_bylevel=1,              \n",
      "              colsample_bynode=1, colsample_bytree=0.8, gamma=0, gpu_id=0,\n",
      "              importance_type='gain', interaction_constraints='',\n",
      "              learning_rate=0.06, max_delta_step=0, max_depth=6,\n",
      "              min_child_weight=1, missing=nan, monotone_constraints='()',\n",
      "              n_estimators=50, n_jobs=4, num_parallel_tree=1, random_state=0,\n",
      "              reg_alpha=10.0, reg_lambda=0.0001, scale_pos_weight=6.0,\n",
      "              subsample=1.0, tree_method='gpu_hist', validate_parameters=1,\n",
      "              verbosity=None)\n",
      "train best     score:                                                             \n",
      "0.7541                                                                            \n",
      "test   roc_auc_score:                                                             \n",
      "0.7541                                                                            \n",
      "ok                                                                                \n",
      "==================================================                                \n",
      " 44%|████▍     | 22/50 [04:33<05:17, 11.34s/trial, best loss: 0.32383253796760003]"
     ]
    },
    {
     "name": "stderr",
     "output_type": "stream",
     "text": [
      "/home/lab10/.local/lib/python3.6/site-packages/xgboost/sklearn.py:1146: UserWarning: The use of label encoder in XGBClassifier is deprecated and will be removed in a future release. To remove this warning, do the following: 1) Pass option use_label_encoder=False when constructing XGBClassifier object; and 2) Encode your labels (y) as integers starting with 0, i.e. 0, 1, 2, ..., [num_class - 1].\n",
      "  warnings.warn(label_encoder_deprecation_msg, UserWarning)\n",
      "\n"
     ]
    },
    {
     "name": "stdout",
     "output_type": "stream",
     "text": [
      "[0]\tvalidation_0-auc:0.69778\tvalidation_1-auc:0.68293                             \n",
      "[49]\tvalidation_0-auc:0.77787\tvalidation_1-auc:0.75510                            \n",
      "==================================================                                \n",
      "XGBClassifier(base_score=0.5, booster='gbtree', colsample_bylevel=1,              \n",
      "              colsample_bynode=1, colsample_bytree=0.8, gamma=0, gpu_id=0,\n",
      "              importance_type='gain', interaction_constraints='',\n",
      "              learning_rate=0.06, max_delta_step=0, max_depth=6,\n",
      "              min_child_weight=1, missing=nan, monotone_constraints='()',\n",
      "              n_estimators=50, n_jobs=4, num_parallel_tree=1, random_state=0,\n",
      "              reg_alpha=10.0, reg_lambda=0.0001, scale_pos_weight=8.0,\n",
      "              subsample=1.0, tree_method='gpu_hist', validate_parameters=1,\n",
      "              verbosity=None)\n",
      "train best     score:                                                             \n",
      "0.7551                                                                            \n",
      "test   roc_auc_score:                                                             \n",
      "0.7551                                                                            \n",
      "ok                                                                                \n",
      "==================================================                                \n",
      " 46%|████▌     | 23/50 [04:36<04:02,  8.97s/trial, best loss: 0.32383253796760003]"
     ]
    },
    {
     "name": "stderr",
     "output_type": "stream",
     "text": [
      "/home/lab10/.local/lib/python3.6/site-packages/xgboost/sklearn.py:1146: UserWarning: The use of label encoder in XGBClassifier is deprecated and will be removed in a future release. To remove this warning, do the following: 1) Pass option use_label_encoder=False when constructing XGBClassifier object; and 2) Encode your labels (y) as integers starting with 0, i.e. 0, 1, 2, ..., [num_class - 1].\n",
      "  warnings.warn(label_encoder_deprecation_msg, UserWarning)\n",
      "\n"
     ]
    },
    {
     "name": "stdout",
     "output_type": "stream",
     "text": [
      "[0]\tvalidation_0-auc:0.69778\tvalidation_1-auc:0.68293                             \n",
      "[49]\tvalidation_0-auc:0.77787\tvalidation_1-auc:0.75510                            \n",
      "==================================================                                \n",
      "XGBClassifier(base_score=0.5, booster='gbtree', colsample_bylevel=1,              \n",
      "              colsample_bynode=1, colsample_bytree=0.8, gamma=0, gpu_id=0,\n",
      "              importance_type='gain', interaction_constraints='',\n",
      "              learning_rate=0.06, max_delta_step=0, max_depth=6,\n",
      "              min_child_weight=1, missing=nan, monotone_constraints='()',\n",
      "              n_estimators=50, n_jobs=4, num_parallel_tree=1, random_state=0,\n",
      "              reg_alpha=10.0, reg_lambda=0.0001, scale_pos_weight=8.0,\n",
      "              subsample=1.0, tree_method='gpu_hist', validate_parameters=1,\n",
      "              verbosity=None)\n",
      "train best     score:                                                             \n",
      "0.7551                                                                            \n",
      "test   roc_auc_score:                                                             \n",
      "0.7551                                                                            \n",
      "ok                                                                                \n",
      "==================================================                                \n",
      " 48%|████▊     | 24/50 [04:41<03:15,  7.50s/trial, best loss: 0.32383253796760003]"
     ]
    },
    {
     "name": "stderr",
     "output_type": "stream",
     "text": [
      "/home/lab10/.local/lib/python3.6/site-packages/xgboost/sklearn.py:1146: UserWarning: The use of label encoder in XGBClassifier is deprecated and will be removed in a future release. To remove this warning, do the following: 1) Pass option use_label_encoder=False when constructing XGBClassifier object; and 2) Encode your labels (y) as integers starting with 0, i.e. 0, 1, 2, ..., [num_class - 1].\n",
      "  warnings.warn(label_encoder_deprecation_msg, UserWarning)\n",
      "\n"
     ]
    },
    {
     "name": "stdout",
     "output_type": "stream",
     "text": [
      "[0]\tvalidation_0-auc:0.72057\tvalidation_1-auc:0.71344                             \n",
      "[49]\tvalidation_0-auc:0.77894\tvalidation_1-auc:0.75492                            \n",
      "==================================================                                \n",
      "XGBClassifier(base_score=0.5, booster='gbtree', colsample_bylevel=1,              \n",
      "              colsample_bynode=1, colsample_bytree=1.0, gamma=0, gpu_id=0,\n",
      "              importance_type='gain', interaction_constraints='',\n",
      "              learning_rate=0.06, max_delta_step=0, max_depth=6,\n",
      "              min_child_weight=1, missing=nan, monotone_constraints='()',\n",
      "              n_estimators=50, n_jobs=4, num_parallel_tree=1, random_state=0,\n",
      "              reg_alpha=10.0, reg_lambda=0.0001, scale_pos_weight=8.0,\n",
      "              subsample=1.0, tree_method='gpu_hist', validate_parameters=1,\n",
      "              verbosity=None)\n",
      "train best     score:                                                             \n",
      "0.7549                                                                            \n",
      "test   roc_auc_score:                                                             \n",
      "0.7549                                                                            \n",
      "ok                                                                                \n",
      "==================================================                                \n",
      " 50%|█████     | 25/50 [04:44<02:40,  6.41s/trial, best loss: 0.3233594000741795] "
     ]
    },
    {
     "name": "stderr",
     "output_type": "stream",
     "text": [
      "/home/lab10/.local/lib/python3.6/site-packages/xgboost/sklearn.py:1146: UserWarning: The use of label encoder in XGBClassifier is deprecated and will be removed in a future release. To remove this warning, do the following: 1) Pass option use_label_encoder=False when constructing XGBClassifier object; and 2) Encode your labels (y) as integers starting with 0, i.e. 0, 1, 2, ..., [num_class - 1].\n",
      "  warnings.warn(label_encoder_deprecation_msg, UserWarning)\n",
      "\n"
     ]
    },
    {
     "name": "stdout",
     "output_type": "stream",
     "text": [
      "[0]\tvalidation_0-auc:0.72081\tvalidation_1-auc:0.71344                            \n",
      "[49]\tvalidation_0-auc:0.79348\tvalidation_1-auc:0.76017                           \n",
      "==================================================                               \n",
      "XGBClassifier(base_score=0.5, booster='gbtree', colsample_bylevel=1,             \n",
      "              colsample_bynode=1, colsample_bytree=1.0, gamma=0, gpu_id=0,\n",
      "              importance_type='gain', interaction_constraints='',\n",
      "              learning_rate=0.09, max_delta_step=0, max_depth=6,\n",
      "              min_child_weight=1, missing=nan, monotone_constraints='()',\n",
      "              n_estimators=50, n_jobs=4, num_parallel_tree=1, random_state=0,\n",
      "              reg_alpha=0.1, reg_lambda=0.0001, scale_pos_weight=8.0,\n",
      "              subsample=1.0, tree_method='gpu_hist', validate_parameters=1,\n",
      "              verbosity=None)\n",
      "train best     score:                                                            \n",
      "0.7602                                                                           \n",
      "test   roc_auc_score:                                                            \n",
      "0.7602                                                                           \n",
      "ok                                                                               \n",
      "==================================================                               \n",
      " 52%|█████▏    | 26/50 [04:48<02:15,  5.66s/trial, best loss: 0.32172528731651684]"
     ]
    },
    {
     "name": "stderr",
     "output_type": "stream",
     "text": [
      "/home/lab10/.local/lib/python3.6/site-packages/xgboost/sklearn.py:1146: UserWarning: The use of label encoder in XGBClassifier is deprecated and will be removed in a future release. To remove this warning, do the following: 1) Pass option use_label_encoder=False when constructing XGBClassifier object; and 2) Encode your labels (y) as integers starting with 0, i.e. 0, 1, 2, ..., [num_class - 1].\n",
      "  warnings.warn(label_encoder_deprecation_msg, UserWarning)\n",
      "\n"
     ]
    },
    {
     "name": "stdout",
     "output_type": "stream",
     "text": [
      "[0]\tvalidation_0-auc:0.72081\tvalidation_1-auc:0.71344                             \n",
      "[49]\tvalidation_0-auc:0.79348\tvalidation_1-auc:0.76017                            \n",
      "==================================================                                \n",
      "XGBClassifier(base_score=0.5, booster='gbtree', colsample_bylevel=1,              \n",
      "              colsample_bynode=1, colsample_bytree=1.0, gamma=0, gpu_id=0,\n",
      "              importance_type='gain', interaction_constraints='',\n",
      "              learning_rate=0.09, max_delta_step=0, max_depth=6,\n",
      "              min_child_weight=1, missing=nan, monotone_constraints='()',\n",
      "              n_estimators=50, n_jobs=4, num_parallel_tree=1, random_state=0,\n",
      "              reg_alpha=0.1, reg_lambda=0.0001, scale_pos_weight=8.0,\n",
      "              subsample=1.0, tree_method='gpu_hist', validate_parameters=1,\n",
      "              verbosity=None)\n",
      "train best     score:                                                             \n",
      "0.7602                                                                            \n",
      "test   roc_auc_score:                                                             \n",
      "0.7602                                                                            \n",
      "ok                                                                                \n",
      "==================================================                                \n",
      " 54%|█████▍    | 27/50 [04:52<01:58,  5.16s/trial, best loss: 0.32172528731651684]"
     ]
    },
    {
     "name": "stderr",
     "output_type": "stream",
     "text": [
      "/home/lab10/.local/lib/python3.6/site-packages/xgboost/sklearn.py:1146: UserWarning: The use of label encoder in XGBClassifier is deprecated and will be removed in a future release. To remove this warning, do the following: 1) Pass option use_label_encoder=False when constructing XGBClassifier object; and 2) Encode your labels (y) as integers starting with 0, i.e. 0, 1, 2, ..., [num_class - 1].\n",
      "  warnings.warn(label_encoder_deprecation_msg, UserWarning)\n",
      "\n"
     ]
    },
    {
     "name": "stdout",
     "output_type": "stream",
     "text": [
      "[0]\tvalidation_0-auc:0.71974\tvalidation_1-auc:0.71064                             \n",
      "[49]\tvalidation_0-auc:0.79187\tvalidation_1-auc:0.75850                            \n",
      "==================================================                                \n",
      "XGBClassifier(base_score=0.5, booster='gbtree', colsample_bylevel=1,              \n",
      "              colsample_bynode=1, colsample_bytree=1.0, gamma=0, gpu_id=0,\n",
      "              importance_type='gain', interaction_constraints='',\n",
      "              learning_rate=0.09, max_delta_step=0, max_depth=6,\n",
      "              min_child_weight=1, missing=nan, monotone_constraints='()',\n",
      "              n_estimators=50, n_jobs=4, num_parallel_tree=1, random_state=0,\n",
      "              reg_alpha=0.1, reg_lambda=0.0001, scale_pos_weight=6.0,\n",
      "              subsample=0.8, tree_method='gpu_hist', validate_parameters=1,\n",
      "              verbosity=None)\n",
      "train best     score:                                                             \n",
      "0.7585                                                                            \n",
      "test   roc_auc_score:                                                             \n",
      "0.7585                                                                            \n",
      "ok                                                                                \n",
      "==================================================                                \n",
      " 56%|█████▌    | 28/50 [04:56<01:47,  4.87s/trial, best loss: 0.32172528731651684]"
     ]
    },
    {
     "name": "stderr",
     "output_type": "stream",
     "text": [
      "/home/lab10/.local/lib/python3.6/site-packages/xgboost/sklearn.py:1146: UserWarning: The use of label encoder in XGBClassifier is deprecated and will be removed in a future release. To remove this warning, do the following: 1) Pass option use_label_encoder=False when constructing XGBClassifier object; and 2) Encode your labels (y) as integers starting with 0, i.e. 0, 1, 2, ..., [num_class - 1].\n",
      "  warnings.warn(label_encoder_deprecation_msg, UserWarning)\n",
      "\n"
     ]
    },
    {
     "name": "stdout",
     "output_type": "stream",
     "text": [
      "[0]\tvalidation_0-auc:0.72023\tvalidation_1-auc:0.71431                             \n",
      "[49]\tvalidation_0-auc:0.79252\tvalidation_1-auc:0.75888                            \n",
      "==================================================                                \n",
      "XGBClassifier(base_score=0.5, booster='gbtree', colsample_bylevel=1,              \n",
      "              colsample_bynode=1, colsample_bytree=1.0, gamma=0, gpu_id=0,\n",
      "              importance_type='gain', interaction_constraints='',\n",
      "              learning_rate=0.09, max_delta_step=0, max_depth=6,\n",
      "              min_child_weight=1, missing=nan, monotone_constraints='()',\n",
      "              n_estimators=50, n_jobs=4, num_parallel_tree=1, random_state=0,\n",
      "              reg_alpha=0.1, reg_lambda=0.1, scale_pos_weight=6.0,\n",
      "              subsample=1.0, tree_method='gpu_hist', validate_parameters=1,\n",
      "              verbosity=None)\n",
      "train best     score:                                                             \n",
      "0.7589                                                                            \n",
      "test   roc_auc_score:                                                             \n",
      "0.7589                                                                            \n",
      "ok                                                                                \n",
      "==================================================                                \n",
      " 58%|█████▊    | 29/50 [05:00<01:36,  4.59s/trial, best loss: 0.32172528731651684]"
     ]
    },
    {
     "name": "stderr",
     "output_type": "stream",
     "text": [
      "/home/lab10/.local/lib/python3.6/site-packages/xgboost/sklearn.py:1146: UserWarning: The use of label encoder in XGBClassifier is deprecated and will be removed in a future release. To remove this warning, do the following: 1) Pass option use_label_encoder=False when constructing XGBClassifier object; and 2) Encode your labels (y) as integers starting with 0, i.e. 0, 1, 2, ..., [num_class - 1].\n",
      "  warnings.warn(label_encoder_deprecation_msg, UserWarning)\n",
      "\n"
     ]
    },
    {
     "name": "stdout",
     "output_type": "stream",
     "text": [
      "[0]\tvalidation_0-auc:0.71979\tvalidation_1-auc:0.71130                             \n",
      "[49]\tvalidation_0-auc:0.79080\tvalidation_1-auc:0.75940                            \n",
      "==================================================                                \n",
      "XGBClassifier(base_score=0.5, booster='gbtree', colsample_bylevel=1,              \n",
      "              colsample_bynode=1, colsample_bytree=1.0, gamma=0, gpu_id=0,\n",
      "              importance_type='gain', interaction_constraints='',\n",
      "              learning_rate=0.09, max_delta_step=0, max_depth=6,\n",
      "              min_child_weight=1, missing=nan, monotone_constraints='()',\n",
      "              n_estimators=50, n_jobs=4, num_parallel_tree=1, random_state=0,\n",
      "              reg_alpha=0.1, reg_lambda=5.0, scale_pos_weight=8.0,\n",
      "              subsample=0.8, tree_method='gpu_hist', validate_parameters=1,\n",
      "              verbosity=None)\n",
      "train best     score:                                                             \n",
      "0.7594                                                                            \n",
      "test   roc_auc_score:                                                             \n",
      "0.7594                                                                            \n",
      "ok                                                                                \n",
      "==================================================                                \n",
      " 60%|██████    | 30/50 [05:05<01:29,  4.45s/trial, best loss: 0.31973061112503687]"
     ]
    },
    {
     "name": "stderr",
     "output_type": "stream",
     "text": [
      "/home/lab10/.local/lib/python3.6/site-packages/xgboost/sklearn.py:1146: UserWarning: The use of label encoder in XGBClassifier is deprecated and will be removed in a future release. To remove this warning, do the following: 1) Pass option use_label_encoder=False when constructing XGBClassifier object; and 2) Encode your labels (y) as integers starting with 0, i.e. 0, 1, 2, ..., [num_class - 1].\n",
      "  warnings.warn(label_encoder_deprecation_msg, UserWarning)\n",
      "\n"
     ]
    },
    {
     "name": "stdout",
     "output_type": "stream",
     "text": [
      "[0]\tvalidation_0-auc:0.69560\tvalidation_1-auc:0.68302                             \n",
      "[49]\tvalidation_0-auc:0.79002\tvalidation_1-auc:0.75983                            \n",
      "==================================================                                \n",
      "XGBClassifier(base_score=0.6000000000000001, booster='gbtree',                    \n",
      "              colsample_bylevel=1, colsample_bynode=1, colsample_bytree=0.8,\n",
      "              gamma=0, gpu_id=0, importance_type='gain',\n",
      "              interaction_constraints='', learning_rate=0.09, max_delta_step=0,\n",
      "              max_depth=6, min_child_weight=1, missing=nan,\n",
      "              monotone_constraints='()', n_estimators=50, n_jobs=4,\n",
      "              num_parallel_tree=1, random_state=0, reg_alpha=0.1,\n",
      "              reg_lambda=5.0, scale_pos_weight=6.0, subsample=0.8,\n",
      "              tree_method='gpu_hist', validate_parameters=1, verbosity=None)\n",
      "train best     score:                                                             \n",
      "0.7598                                                                            \n",
      "test   roc_auc_score:                                                             \n",
      "0.7598                                                                            \n",
      "ok                                                                                \n",
      "==================================================                                \n",
      " 62%|██████▏   | 31/50 [05:09<01:21,  4.31s/trial, best loss: 0.31973061112503687]"
     ]
    },
    {
     "name": "stderr",
     "output_type": "stream",
     "text": [
      "/home/lab10/.local/lib/python3.6/site-packages/xgboost/sklearn.py:1146: UserWarning: The use of label encoder in XGBClassifier is deprecated and will be removed in a future release. To remove this warning, do the following: 1) Pass option use_label_encoder=False when constructing XGBClassifier object; and 2) Encode your labels (y) as integers starting with 0, i.e. 0, 1, 2, ..., [num_class - 1].\n",
      "  warnings.warn(label_encoder_deprecation_msg, UserWarning)\n",
      "\n"
     ]
    },
    {
     "name": "stdout",
     "output_type": "stream",
     "text": [
      "[0]\tvalidation_0-auc:0.71979\tvalidation_1-auc:0.71130                             \n",
      "[49]\tvalidation_0-auc:0.80507\tvalidation_1-auc:0.76179                            \n",
      "==================================================                                \n",
      "XGBClassifier(base_score=0.5, booster='gbtree', colsample_bylevel=1,              \n",
      "              colsample_bynode=1, colsample_bytree=1.0, gamma=0, gpu_id=0,\n",
      "              importance_type='gain', interaction_constraints='',\n",
      "              learning_rate=0.15, max_delta_step=0, max_depth=6,\n",
      "              min_child_weight=1, missing=nan, monotone_constraints='()',\n",
      "              n_estimators=50, n_jobs=4, num_parallel_tree=1, random_state=0,\n",
      "              reg_alpha=0.1, reg_lambda=5.0, scale_pos_weight=8.0,\n",
      "              subsample=0.8, tree_method='gpu_hist', validate_parameters=1,\n",
      "              verbosity=None)\n",
      "train best     score:                                                             \n",
      "0.7618                                                                            \n",
      "test   roc_auc_score:                                                             \n",
      "0.7618                                                                            \n",
      "ok                                                                                \n",
      "==================================================                                \n",
      " 64%|██████▍   | 32/50 [05:12<01:15,  4.18s/trial, best loss: 0.31973061112503687]"
     ]
    },
    {
     "name": "stderr",
     "output_type": "stream",
     "text": [
      "/home/lab10/.local/lib/python3.6/site-packages/xgboost/sklearn.py:1146: UserWarning: The use of label encoder in XGBClassifier is deprecated and will be removed in a future release. To remove this warning, do the following: 1) Pass option use_label_encoder=False when constructing XGBClassifier object; and 2) Encode your labels (y) as integers starting with 0, i.e. 0, 1, 2, ..., [num_class - 1].\n",
      "  warnings.warn(label_encoder_deprecation_msg, UserWarning)\n",
      "\n"
     ]
    },
    {
     "name": "stdout",
     "output_type": "stream",
     "text": [
      "[0]\tvalidation_0-auc:0.71852\tvalidation_1-auc:0.71135                             \n",
      "[49]\tvalidation_0-auc:0.81151\tvalidation_1-auc:0.76081                            \n",
      "==================================================                                \n",
      "XGBClassifier(base_score=0.5, booster='gbtree', colsample_bylevel=1,              \n",
      "              colsample_bynode=1, colsample_bytree=1.0, gamma=0, gpu_id=0,\n",
      "              importance_type='gain', interaction_constraints='',\n",
      "              learning_rate=0.21, max_delta_step=0, max_depth=6,\n",
      "              min_child_weight=1, missing=nan, monotone_constraints='()',\n",
      "              n_estimators=50, n_jobs=4, num_parallel_tree=1, random_state=0,\n",
      "              reg_alpha=0.1, reg_lambda=5.0, scale_pos_weight=6.0,\n",
      "              subsample=0.6000000000000001, tree_method='gpu_hist',\n",
      "              validate_parameters=1, verbosity=None)\n",
      "train best     score:                                                             \n",
      "0.7608                                                                            \n",
      "test   roc_auc_score:                                                             \n",
      "0.7608                                                                            \n",
      "ok                                                                                \n",
      "==================================================                                \n",
      " 66%|██████▌   | 33/50 [05:16<01:07,  3.97s/trial, best loss: 0.31973061112503687]"
     ]
    },
    {
     "name": "stderr",
     "output_type": "stream",
     "text": [
      "/home/lab10/.local/lib/python3.6/site-packages/xgboost/sklearn.py:1146: UserWarning: The use of label encoder in XGBClassifier is deprecated and will be removed in a future release. To remove this warning, do the following: 1) Pass option use_label_encoder=False when constructing XGBClassifier object; and 2) Encode your labels (y) as integers starting with 0, i.e. 0, 1, 2, ..., [num_class - 1].\n",
      "  warnings.warn(label_encoder_deprecation_msg, UserWarning)\n",
      "\n"
     ]
    },
    {
     "name": "stdout",
     "output_type": "stream",
     "text": [
      "[0]\tvalidation_0-auc:0.68510\tvalidation_1-auc:0.68078                             \n",
      "[49]\tvalidation_0-auc:0.78382\tvalidation_1-auc:0.76241                            \n",
      "==================================================                                \n",
      "XGBClassifier(base_score=0.6000000000000001, booster='gbtree',                    \n",
      "              colsample_bylevel=1, colsample_bynode=1, colsample_bytree=0.8,\n",
      "              gamma=0, gpu_id=0, importance_type='gain',\n",
      "              interaction_constraints='', learning_rate=0.15, max_delta_step=0,\n",
      "              max_depth=6, min_child_weight=1, missing=nan,\n",
      "              monotone_constraints='()', n_estimators=50, n_jobs=4,\n",
      "              num_parallel_tree=1, random_state=0, reg_alpha=100.0,\n",
      "              reg_lambda=5.0, scale_pos_weight=8.0, subsample=0.8,\n",
      "              tree_method='gpu_hist', validate_parameters=1, verbosity=None)\n",
      "train best     score:                                                             \n",
      "0.7624                                                                            \n",
      "test   roc_auc_score:                                                             \n",
      "0.7624                                                                            \n",
      "ok                                                                                \n",
      "==================================================                                \n",
      " 68%|██████▊   | 34/50 [05:20<01:02,  3.94s/trial, best loss: 0.31679053514850564]"
     ]
    },
    {
     "name": "stderr",
     "output_type": "stream",
     "text": [
      "/home/lab10/.local/lib/python3.6/site-packages/xgboost/sklearn.py:1146: UserWarning: The use of label encoder in XGBClassifier is deprecated and will be removed in a future release. To remove this warning, do the following: 1) Pass option use_label_encoder=False when constructing XGBClassifier object; and 2) Encode your labels (y) as integers starting with 0, i.e. 0, 1, 2, ..., [num_class - 1].\n",
      "  warnings.warn(label_encoder_deprecation_msg, UserWarning)\n",
      "\n"
     ]
    },
    {
     "name": "stdout",
     "output_type": "stream",
     "text": [
      "[0]\tvalidation_0-auc:0.68510\tvalidation_1-auc:0.68078                             \n",
      "[49]\tvalidation_0-auc:0.78382\tvalidation_1-auc:0.76241                            \n",
      "==================================================                                \n",
      "XGBClassifier(base_score=0.6000000000000001, booster='gbtree',                    \n",
      "              colsample_bylevel=1, colsample_bynode=1, colsample_bytree=0.8,\n",
      "              gamma=0, gpu_id=0, importance_type='gain',\n",
      "              interaction_constraints='', learning_rate=0.15, max_delta_step=0,\n",
      "              max_depth=6, min_child_weight=1, missing=nan,\n",
      "              monotone_constraints='()', n_estimators=50, n_jobs=4,\n",
      "              num_parallel_tree=1, random_state=0, reg_alpha=100.0,\n",
      "              reg_lambda=5.0, scale_pos_weight=8.0, subsample=0.8,\n",
      "              tree_method='gpu_hist', validate_parameters=1, verbosity=None)\n",
      "train best     score:                                                             \n",
      "0.7624                                                                            \n",
      "test   roc_auc_score:                                                             \n",
      "0.7624                                                                            \n",
      "ok                                                                                \n",
      "==================================================                                \n",
      " 70%|███████   | 35/50 [05:23<00:57,  3.85s/trial, best loss: 0.31679053514850564]"
     ]
    },
    {
     "name": "stderr",
     "output_type": "stream",
     "text": [
      "/home/lab10/.local/lib/python3.6/site-packages/xgboost/sklearn.py:1146: UserWarning: The use of label encoder in XGBClassifier is deprecated and will be removed in a future release. To remove this warning, do the following: 1) Pass option use_label_encoder=False when constructing XGBClassifier object; and 2) Encode your labels (y) as integers starting with 0, i.e. 0, 1, 2, ..., [num_class - 1].\n",
      "  warnings.warn(label_encoder_deprecation_msg, UserWarning)\n",
      "\n"
     ]
    },
    {
     "name": "stdout",
     "output_type": "stream",
     "text": [
      "[0]\tvalidation_0-auc:0.64709\tvalidation_1-auc:0.64287                             \n",
      "[49]\tvalidation_0-auc:0.78721\tvalidation_1-auc:0.76415                            \n",
      "==================================================                                \n",
      "XGBClassifier(base_score=0.6000000000000001, booster='gbtree',                    \n",
      "              colsample_bylevel=1, colsample_bynode=1,\n",
      "              colsample_bytree=0.6000000000000001, gamma=0, gpu_id=0,\n",
      "              importance_type='gain', interaction_constraints='',\n",
      "              learning_rate=0.21, max_delta_step=0, max_depth=6,\n",
      "              min_child_weight=1, missing=nan, monotone_constraints='()',\n",
      "              n_estimators=50, n_jobs=4, num_parallel_tree=1,\n",
      "              objective='binary:logitraw', random_state=0, reg_alpha=100.0,\n",
      "              reg_lambda=5.0, scale_pos_weight=6.0, subsample=0.8,\n",
      "              tree_method='gpu_hist', validate_parameters=1, verbosity=None)\n",
      "train best     score:                                                             \n",
      "0.7642                                                                            \n",
      "test   roc_auc_score:                                                             \n",
      "0.7642                                                                            \n",
      "ok                                                                                \n",
      "==================================================                                \n",
      " 72%|███████▏  | 36/50 [05:27<00:53,  3.80s/trial, best loss: 0.31679053514850564]"
     ]
    },
    {
     "name": "stderr",
     "output_type": "stream",
     "text": [
      "/home/lab10/.local/lib/python3.6/site-packages/xgboost/sklearn.py:1146: UserWarning: The use of label encoder in XGBClassifier is deprecated and will be removed in a future release. To remove this warning, do the following: 1) Pass option use_label_encoder=False when constructing XGBClassifier object; and 2) Encode your labels (y) as integers starting with 0, i.e. 0, 1, 2, ..., [num_class - 1].\n",
      "  warnings.warn(label_encoder_deprecation_msg, UserWarning)\n",
      "\n"
     ]
    },
    {
     "name": "stdout",
     "output_type": "stream",
     "text": [
      "[0]\tvalidation_0-auc:0.68540\tvalidation_1-auc:0.68004                             \n",
      "[49]\tvalidation_0-auc:0.78195\tvalidation_1-auc:0.76114                            \n",
      "==================================================                                \n",
      "XGBClassifier(base_score=0.6000000000000001, booster='gbtree',                    \n",
      "              colsample_bylevel=1, colsample_bynode=1, colsample_bytree=0.8,\n",
      "              gamma=0, gpu_id=0, importance_type='gain',\n",
      "              interaction_constraints='', learning_rate=0.15, max_delta_step=0,\n",
      "              max_depth=6, min_child_weight=1, missing=nan,\n",
      "              monotone_constraints='()', n_estimators=50, n_jobs=4,\n",
      "              num_parallel_tree=1, objective='reg:logistic', random_state=0,\n",
      "              reg_alpha=100.0, reg_lambda=5.0, scale_pos_weight=8.0,\n",
      "              subsample=0.6000000000000001, tree_method='gpu_hist',\n",
      "              validate_parameters=1, verbosity=None)\n",
      "train best     score:                                                             \n",
      "0.7611                                                                            \n",
      "test   roc_auc_score:                                                             \n",
      "0.7611                                                                            \n",
      "ok                                                                                \n",
      "==================================================                                \n",
      " 74%|███████▍  | 37/50 [05:30<00:47,  3.65s/trial, best loss: 0.31679053514850564]"
     ]
    },
    {
     "name": "stderr",
     "output_type": "stream",
     "text": [
      "/home/lab10/.local/lib/python3.6/site-packages/xgboost/sklearn.py:1146: UserWarning: The use of label encoder in XGBClassifier is deprecated and will be removed in a future release. To remove this warning, do the following: 1) Pass option use_label_encoder=False when constructing XGBClassifier object; and 2) Encode your labels (y) as integers starting with 0, i.e. 0, 1, 2, ..., [num_class - 1].\n",
      "  warnings.warn(label_encoder_deprecation_msg, UserWarning)\n",
      "\n"
     ]
    },
    {
     "name": "stdout",
     "output_type": "stream",
     "text": [
      "[0]\tvalidation_0-auc:0.65006\tvalidation_1-auc:0.64532                             \n",
      "[49]\tvalidation_0-auc:0.78104\tvalidation_1-auc:0.76189                            \n",
      "==================================================                                \n",
      "XGBClassifier(base_score=0.6000000000000001, booster='dart',                      \n",
      "              colsample_bylevel=1, colsample_bynode=1,\n",
      "              colsample_bytree=0.6000000000000001, gamma=0, gpu_id=0,\n",
      "              importance_type='gain', interaction_constraints='',\n",
      "              learning_rate=0.15, max_delta_step=0, max_depth=6,\n",
      "              min_child_weight=1, missing=nan, monotone_constraints='()',\n",
      "              n_estimators=50, n_jobs=4, num_parallel_tree=1, random_state=0,\n",
      "              reg_alpha=100.0, reg_lambda=5.0, scale_pos_weight=6.0,\n",
      "              subsample=0.8, tree_method='gpu_hist', validate_parameters=1,\n",
      "              verbosity=None)\n",
      "train best     score:                                                             \n",
      "0.7619                                                                            \n",
      "test   roc_auc_score:                                                             \n",
      "0.7619                                                                            \n",
      "ok                                                                                \n",
      "==================================================                                \n",
      " 76%|███████▌  | 38/50 [05:49<01:39,  8.29s/trial, best loss: 0.31679053514850564]"
     ]
    },
    {
     "name": "stderr",
     "output_type": "stream",
     "text": [
      "/home/lab10/.local/lib/python3.6/site-packages/xgboost/sklearn.py:1146: UserWarning: The use of label encoder in XGBClassifier is deprecated and will be removed in a future release. To remove this warning, do the following: 1) Pass option use_label_encoder=False when constructing XGBClassifier object; and 2) Encode your labels (y) as integers starting with 0, i.e. 0, 1, 2, ..., [num_class - 1].\n",
      "  warnings.warn(label_encoder_deprecation_msg, UserWarning)\n",
      "\n"
     ]
    },
    {
     "name": "stdout",
     "output_type": "stream",
     "text": [
      "[0]\tvalidation_0-auc:0.68196\tvalidation_1-auc:0.67993                             \n",
      "[49]\tvalidation_0-auc:0.78906\tvalidation_1-auc:0.76265                            \n",
      "==================================================                                \n",
      "XGBClassifier(base_score=0.6000000000000001, booster='gbtree',                    \n",
      "              colsample_bylevel=1, colsample_bynode=1, colsample_bytree=0.8,\n",
      "              gamma=0, gpu_id=0, importance_type='gain',\n",
      "              interaction_constraints='', learning_rate=0.21, max_delta_step=0,\n",
      "              max_depth=6, min_child_weight=1, missing=nan,\n",
      "              monotone_constraints='()', n_estimators=50, n_jobs=4,\n",
      "              num_parallel_tree=1, objective='binary:logitraw', random_state=0,\n",
      "              reg_alpha=100.0, reg_lambda=100.0, scale_pos_weight=8.0,\n",
      "              subsample=0.8, tree_method='gpu_hist', validate_parameters=1,\n",
      "              verbosity=None)\n",
      "train best     score:                                                             \n",
      "0.7626                                                                            \n",
      "test   roc_auc_score:                                                             \n",
      "0.7626                                                                            \n",
      "ok                                                                                \n",
      "==================================================                                \n",
      " 78%|███████▊  | 39/50 [05:53<01:15,  6.88s/trial, best loss: 0.31679053514850564]"
     ]
    },
    {
     "name": "stderr",
     "output_type": "stream",
     "text": [
      "/home/lab10/.local/lib/python3.6/site-packages/xgboost/sklearn.py:1146: UserWarning: The use of label encoder in XGBClassifier is deprecated and will be removed in a future release. To remove this warning, do the following: 1) Pass option use_label_encoder=False when constructing XGBClassifier object; and 2) Encode your labels (y) as integers starting with 0, i.e. 0, 1, 2, ..., [num_class - 1].\n",
      "  warnings.warn(label_encoder_deprecation_msg, UserWarning)\n",
      "\n"
     ]
    },
    {
     "name": "stdout",
     "output_type": "stream",
     "text": [
      "[12:02:17] WARNING: ../src/learner.cc:573:                                        \n",
      "Parameters: { \"colsample_bytree\", \"subsample\", \"tree_method\" } might not be used.\n",
      "\n",
      "  This may not be accurate due to some parameters are only used in language bindings but\n",
      "  passed down to XGBoost core.  Or some parameters are not used but slip through this\n",
      "  verification. Please open an issue if you find above cases.\n",
      "\n",
      "\n",
      "[0]\tvalidation_0-auc:0.50040\tvalidation_1-auc:0.50843                             \n",
      "[49]\tvalidation_0-auc:0.50040\tvalidation_1-auc:0.50843                            \n",
      "==================================================                                \n",
      "XGBClassifier(base_score=0.6000000000000001, booster='gblinear',                  \n",
      "              colsample_bylevel=None, colsample_bynode=None,\n",
      "              colsample_bytree=0.8, gamma=None, gpu_id=-1,\n",
      "              importance_type='gain', interaction_constraints=None,\n",
      "              learning_rate=0.21, max_delta_step=None, max_depth=None,\n",
      "              min_child_weight=None, missing=nan, monotone_constraints=None,\n",
      "              n_estimators=50, n_jobs=4, num_parallel_tree=None,\n",
      "              objective='reg:logistic', random_state=0, reg_alpha=100.0,\n",
      "              reg_lambda=5.0, scale_pos_weight=4.0,\n",
      "              subsample=0.6000000000000001, tree_method='gpu_hist',\n",
      "              validate_parameters=1, verbosity=None)\n",
      "train best     score:                                                             \n",
      "0.5084                                                                            \n",
      "test   roc_auc_score:                                                             \n",
      "0.5084                                                                            \n",
      "ok                                                                                \n",
      "==================================================                                \n",
      " 80%|████████  | 40/50 [06:12<01:46, 10.62s/trial, best loss: 0.31679053514850564]"
     ]
    },
    {
     "name": "stderr",
     "output_type": "stream",
     "text": [
      "/home/lab10/.local/lib/python3.6/site-packages/xgboost/sklearn.py:1146: UserWarning: The use of label encoder in XGBClassifier is deprecated and will be removed in a future release. To remove this warning, do the following: 1) Pass option use_label_encoder=False when constructing XGBClassifier object; and 2) Encode your labels (y) as integers starting with 0, i.e. 0, 1, 2, ..., [num_class - 1].\n",
      "  warnings.warn(label_encoder_deprecation_msg, UserWarning)\n",
      "\n"
     ]
    },
    {
     "name": "stdout",
     "output_type": "stream",
     "text": [
      "[0]\tvalidation_0-auc:0.64847\tvalidation_1-auc:0.64304                             \n",
      "[49]\tvalidation_0-auc:0.78345\tvalidation_1-auc:0.76248                            \n",
      "==================================================                                \n",
      "XGBClassifier(base_score=0.6000000000000001, booster='gbtree',                    \n",
      "              colsample_bylevel=1, colsample_bynode=1,\n",
      "              colsample_bytree=0.6000000000000001, gamma=0, gpu_id=0,\n",
      "              importance_type='gain', interaction_constraints='',\n",
      "              learning_rate=0.21, max_delta_step=0, max_depth=6,\n",
      "              min_child_weight=1, missing=nan, monotone_constraints='()',\n",
      "              n_estimators=50, n_jobs=4, num_parallel_tree=1, random_state=0,\n",
      "              reg_alpha=100.0, reg_lambda=0.01, scale_pos_weight=6.0,\n",
      "              subsample=0.6000000000000001, tree_method='gpu_hist',\n",
      "              validate_parameters=1, verbosity=None)\n",
      "train best     score:                                                             \n",
      "0.7625                                                                            \n",
      "test   roc_auc_score:                                                             \n",
      "0.7625                                                                            \n",
      "ok                                                                                \n",
      "==================================================                                \n",
      " 82%|████████▏ | 41/50 [06:16<01:16,  8.55s/trial, best loss: 0.31679053514850564]"
     ]
    },
    {
     "name": "stderr",
     "output_type": "stream",
     "text": [
      "/home/lab10/.local/lib/python3.6/site-packages/xgboost/sklearn.py:1146: UserWarning: The use of label encoder in XGBClassifier is deprecated and will be removed in a future release. To remove this warning, do the following: 1) Pass option use_label_encoder=False when constructing XGBClassifier object; and 2) Encode your labels (y) as integers starting with 0, i.e. 0, 1, 2, ..., [num_class - 1].\n",
      "  warnings.warn(label_encoder_deprecation_msg, UserWarning)\n",
      "\n"
     ]
    },
    {
     "name": "stdout",
     "output_type": "stream",
     "text": [
      "[0]\tvalidation_0-auc:0.66280\tvalidation_1-auc:0.65204                             \n",
      "[49]\tvalidation_0-auc:0.81460\tvalidation_1-auc:0.76196                            \n",
      "==================================================                                \n",
      "XGBClassifier(base_score=0.6000000000000001, booster='gbtree',                    \n",
      "              colsample_bylevel=1, colsample_bynode=1,\n",
      "              colsample_bytree=0.6000000000000001, gamma=0, gpu_id=0,\n",
      "              importance_type='gain', interaction_constraints='',\n",
      "              learning_rate=0.21, max_delta_step=0, max_depth=6,\n",
      "              min_child_weight=1, missing=nan, monotone_constraints='()',\n",
      "              n_estimators=50, n_jobs=4, num_parallel_tree=1,\n",
      "              objective='binary:logitraw', random_state=0, reg_alpha=0.0001,\n",
      "              reg_lambda=0.001, scale_pos_weight=8.0, subsample=0.8,\n",
      "              tree_method='gpu_hist', validate_parameters=1, verbosity=None)\n",
      "train best     score:                                                             \n",
      "0.7622                                                                            \n",
      "test   roc_auc_score:                                                             \n",
      "0.7622                                                                            \n",
      "ok                                                                                \n",
      "==================================================                                \n",
      " 84%|████████▍ | 42/50 [06:20<00:57,  7.16s/trial, best loss: 0.31679053514850564]"
     ]
    },
    {
     "name": "stderr",
     "output_type": "stream",
     "text": [
      "/home/lab10/.local/lib/python3.6/site-packages/xgboost/sklearn.py:1146: UserWarning: The use of label encoder in XGBClassifier is deprecated and will be removed in a future release. To remove this warning, do the following: 1) Pass option use_label_encoder=False when constructing XGBClassifier object; and 2) Encode your labels (y) as integers starting with 0, i.e. 0, 1, 2, ..., [num_class - 1].\n",
      "  warnings.warn(label_encoder_deprecation_msg, UserWarning)\n",
      "\n"
     ]
    },
    {
     "name": "stdout",
     "output_type": "stream",
     "text": [
      "[0]\tvalidation_0-auc:0.69518\tvalidation_1-auc:0.68425                             \n",
      "[49]\tvalidation_0-auc:0.81609\tvalidation_1-auc:0.76176                            \n",
      "==================================================                                \n",
      "XGBClassifier(base_score=0.7000000000000001, booster='dart',                      \n",
      "              colsample_bylevel=1, colsample_bynode=1, colsample_bytree=0.8,\n",
      "              gamma=0, gpu_id=0, importance_type='gain',\n",
      "              interaction_constraints='', learning_rate=0.21, max_delta_step=0,\n",
      "              max_depth=6, min_child_weight=1, missing=nan,\n",
      "              monotone_constraints='()', n_estimators=50, n_jobs=4,\n",
      "              num_parallel_tree=1, objective='reg:logistic', random_state=0,\n",
      "              reg_alpha=0.01, reg_lambda=1.0, scale_pos_weight=4.0,\n",
      "              subsample=0.8, tree_method='gpu_hist', validate_parameters=1,\n",
      "              verbosity=None)\n",
      "train best     score:                                                             \n",
      "0.7618                                                                            \n",
      "test   roc_auc_score:                                                             \n",
      "0.7618                                                                            \n",
      "ok                                                                                \n",
      "==================================================                                \n",
      " 86%|████████▌ | 43/50 [06:39<01:14, 10.64s/trial, best loss: 0.31679053514850564]"
     ]
    },
    {
     "name": "stderr",
     "output_type": "stream",
     "text": [
      "/home/lab10/.local/lib/python3.6/site-packages/xgboost/sklearn.py:1146: UserWarning: The use of label encoder in XGBClassifier is deprecated and will be removed in a future release. To remove this warning, do the following: 1) Pass option use_label_encoder=False when constructing XGBClassifier object; and 2) Encode your labels (y) as integers starting with 0, i.e. 0, 1, 2, ..., [num_class - 1].\n",
      "  warnings.warn(label_encoder_deprecation_msg, UserWarning)\n",
      "\n"
     ]
    },
    {
     "name": "stdout",
     "output_type": "stream",
     "text": [
      "[12:03:02] WARNING: ../src/learner.cc:573:                                        \n",
      "Parameters: { \"colsample_bytree\", \"subsample\", \"tree_method\" } might not be used.\n",
      "\n",
      "  This may not be accurate due to some parameters are only used in language bindings but\n",
      "  passed down to XGBoost core.  Or some parameters are not used but slip through this\n",
      "  verification. Please open an issue if you find above cases.\n",
      "\n",
      "\n",
      "[0]\tvalidation_0-auc:0.50040\tvalidation_1-auc:0.50843                             \n",
      "[49]\tvalidation_0-auc:0.50040\tvalidation_1-auc:0.50843                            \n",
      "==================================================                                \n",
      "XGBClassifier(base_score=0.6000000000000001, booster='gblinear',                  \n",
      "              colsample_bylevel=None, colsample_bynode=None,\n",
      "              colsample_bytree=0.6000000000000001, gamma=None, gpu_id=-1,\n",
      "              importance_type='gain', interaction_constraints=None,\n",
      "              learning_rate=0.18, max_delta_step=None, max_depth=None,\n",
      "              min_child_weight=None, missing=nan, monotone_constraints=None,\n",
      "              n_estimators=50, n_jobs=4, num_parallel_tree=None, random_state=0,\n",
      "              reg_alpha=100.0, reg_lambda=0.1, scale_pos_weight=8.0,\n",
      "              subsample=0.2, tree_method='gpu_hist', validate_parameters=1,\n",
      "              verbosity=None)\n",
      "train best     score:                                                             \n",
      "0.5084                                                                            \n",
      "test   roc_auc_score:                                                             \n",
      "0.5084                                                                            \n",
      "ok                                                                                \n",
      "==================================================                                \n",
      " 88%|████████▊ | 44/50 [06:55<01:13, 12.22s/trial, best loss: 0.31679053514850564]"
     ]
    },
    {
     "name": "stderr",
     "output_type": "stream",
     "text": [
      "/home/lab10/.local/lib/python3.6/site-packages/xgboost/sklearn.py:1146: UserWarning: The use of label encoder in XGBClassifier is deprecated and will be removed in a future release. To remove this warning, do the following: 1) Pass option use_label_encoder=False when constructing XGBClassifier object; and 2) Encode your labels (y) as integers starting with 0, i.e. 0, 1, 2, ..., [num_class - 1].\n",
      "  warnings.warn(label_encoder_deprecation_msg, UserWarning)\n",
      "\n"
     ]
    },
    {
     "name": "stdout",
     "output_type": "stream",
     "text": [
      "[0]\tvalidation_0-auc:0.68336\tvalidation_1-auc:0.67783                             \n",
      "[49]\tvalidation_0-auc:0.78072\tvalidation_1-auc:0.76059                            \n",
      "==================================================                                \n",
      "XGBClassifier(base_score=0.6000000000000001, booster='gbtree',                    \n",
      "              colsample_bylevel=1, colsample_bynode=1, colsample_bytree=0.8,\n",
      "              gamma=0, gpu_id=0, importance_type='gain',\n",
      "              interaction_constraints='', learning_rate=0.12, max_delta_step=0,\n",
      "              max_depth=6, min_child_weight=1, missing=nan,\n",
      "              monotone_constraints='()', n_estimators=50, n_jobs=4,\n",
      "              num_parallel_tree=1, objective='binary:logitraw', random_state=0,\n",
      "              reg_alpha=100.0, reg_lambda=10.0, scale_pos_weight=6.0,\n",
      "              subsample=1.0, tree_method='gpu_hist', validate_parameters=1,\n",
      "              verbosity=None)\n",
      "train best     score:                                                             \n",
      "0.7606                                                                            \n",
      "test   roc_auc_score:                                                             \n",
      "0.7606                                                                            \n",
      "ok                                                                                \n",
      "==================================================                                \n",
      " 90%|█████████ | 45/50 [06:58<00:48,  9.62s/trial, best loss: 0.31679053514850564]"
     ]
    },
    {
     "name": "stderr",
     "output_type": "stream",
     "text": [
      "/home/lab10/.local/lib/python3.6/site-packages/xgboost/sklearn.py:1146: UserWarning: The use of label encoder in XGBClassifier is deprecated and will be removed in a future release. To remove this warning, do the following: 1) Pass option use_label_encoder=False when constructing XGBClassifier object; and 2) Encode your labels (y) as integers starting with 0, i.e. 0, 1, 2, ..., [num_class - 1].\n",
      "  warnings.warn(label_encoder_deprecation_msg, UserWarning)\n",
      "\n"
     ]
    },
    {
     "name": "stdout",
     "output_type": "stream",
     "text": [
      "[0]\tvalidation_0-auc:0.65980\tvalidation_1-auc:0.64902                             \n",
      "[49]\tvalidation_0-auc:0.80561\tvalidation_1-auc:0.76175                            \n",
      "==================================================                                \n",
      "XGBClassifier(base_score=0.7000000000000001, booster='gbtree',                    \n",
      "              colsample_bylevel=1, colsample_bynode=1,\n",
      "              colsample_bytree=0.6000000000000001, gamma=0, gpu_id=0,\n",
      "              importance_type='gain', interaction_constraints='',\n",
      "              learning_rate=0.21, max_delta_step=0, max_depth=6,\n",
      "              min_child_weight=1, missing=nan, monotone_constraints='()',\n",
      "              n_estimators=50, n_jobs=4, num_parallel_tree=1, random_state=0,\n",
      "              reg_alpha=5.0, reg_lambda=5.0, scale_pos_weight=6.0,\n",
      "              subsample=0.6000000000000001, tree_method='gpu_hist',\n",
      "              validate_parameters=1, verbosity=None)\n",
      "train best     score:                                                             \n",
      "0.7619                                                                            \n",
      "test   roc_auc_score:                                                             \n",
      "0.7619                                                                            \n",
      "ok                                                                                \n",
      "==================================================                                \n",
      " 92%|█████████▏| 46/50 [07:02<00:30,  7.73s/trial, best loss: 0.31679053514850564]"
     ]
    },
    {
     "name": "stderr",
     "output_type": "stream",
     "text": [
      "/home/lab10/.local/lib/python3.6/site-packages/xgboost/sklearn.py:1146: UserWarning: The use of label encoder in XGBClassifier is deprecated and will be removed in a future release. To remove this warning, do the following: 1) Pass option use_label_encoder=False when constructing XGBClassifier object; and 2) Encode your labels (y) as integers starting with 0, i.e. 0, 1, 2, ..., [num_class - 1].\n",
      "  warnings.warn(label_encoder_deprecation_msg, UserWarning)\n",
      "\n"
     ]
    },
    {
     "name": "stdout",
     "output_type": "stream",
     "text": [
      "[0]\tvalidation_0-auc:0.69600\tvalidation_1-auc:0.68271                             \n",
      "[49]\tvalidation_0-auc:0.81217\tvalidation_1-auc:0.76129                            \n",
      "==================================================                                \n",
      "XGBClassifier(base_score=0.7000000000000001, booster='dart',                      \n",
      "              colsample_bylevel=1, colsample_bynode=1, colsample_bytree=0.8,\n",
      "              gamma=0, gpu_id=0, importance_type='gain',\n",
      "              interaction_constraints='', learning_rate=0.18, max_delta_step=0,\n",
      "              max_depth=6, min_child_weight=1, missing=nan,\n",
      "              monotone_constraints='()', n_estimators=50, n_jobs=4,\n",
      "              num_parallel_tree=1, objective='reg:logistic', random_state=0,\n",
      "              reg_alpha=1.0, reg_lambda=1e-05, scale_pos_weight=8.0,\n",
      "              subsample=0.8, tree_method='gpu_hist', validate_parameters=1,\n",
      "              verbosity=None)\n",
      "train best     score:                                                             \n",
      "0.7613                                                                            \n",
      "test   roc_auc_score:                                                             \n",
      "0.7613                                                                            \n",
      "ok                                                                                \n",
      "==================================================                                \n",
      " 94%|█████████▍| 47/50 [07:20<00:32, 10.93s/trial, best loss: 0.31679053514850564]"
     ]
    },
    {
     "name": "stderr",
     "output_type": "stream",
     "text": [
      "/home/lab10/.local/lib/python3.6/site-packages/xgboost/sklearn.py:1146: UserWarning: The use of label encoder in XGBClassifier is deprecated and will be removed in a future release. To remove this warning, do the following: 1) Pass option use_label_encoder=False when constructing XGBClassifier object; and 2) Encode your labels (y) as integers starting with 0, i.e. 0, 1, 2, ..., [num_class - 1].\n",
      "  warnings.warn(label_encoder_deprecation_msg, UserWarning)\n",
      "\n"
     ]
    },
    {
     "name": "stdout",
     "output_type": "stream",
     "text": [
      "[12:03:44] WARNING: ../src/learner.cc:573:                                        \n",
      "Parameters: { \"colsample_bytree\", \"subsample\", \"tree_method\" } might not be used.\n",
      "\n",
      "  This may not be accurate due to some parameters are only used in language bindings but\n",
      "  passed down to XGBoost core.  Or some parameters are not used but slip through this\n",
      "  verification. Please open an issue if you find above cases.\n",
      "\n",
      "\n",
      "[0]\tvalidation_0-auc:0.49969\tvalidation_1-auc:0.50672                             \n",
      "[49]\tvalidation_0-auc:0.50482\tvalidation_1-auc:0.51272                            \n",
      "==================================================                                \n",
      "XGBClassifier(base_score=0.6000000000000001, booster='gblinear',                  \n",
      "              colsample_bylevel=None, colsample_bynode=None,\n",
      "              colsample_bytree=0.8, gamma=None, gpu_id=-1,\n",
      "              importance_type='gain', interaction_constraints=None,\n",
      "              learning_rate=0.15, max_delta_step=None, max_depth=None,\n",
      "              min_child_weight=None, missing=nan, monotone_constraints=None,\n",
      "              n_estimators=50, n_jobs=4, num_parallel_tree=None, random_state=0,\n",
      "              reg_alpha=1e-05, reg_lambda=100.0, scale_pos_weight=4.0,\n",
      "              subsample=1.0, tree_method='gpu_hist', validate_parameters=1,\n",
      "              verbosity=None)\n",
      "train best     score:                                                             \n",
      "0.5127                                                                            \n",
      "test   roc_auc_score:                                                             \n",
      "0.5127                                                                            \n",
      "ok                                                                                \n",
      "==================================================                                \n",
      " 96%|█████████▌| 48/50 [07:40<00:27, 13.62s/trial, best loss: 0.31679053514850564]"
     ]
    },
    {
     "name": "stderr",
     "output_type": "stream",
     "text": [
      "/home/lab10/.local/lib/python3.6/site-packages/xgboost/sklearn.py:1146: UserWarning: The use of label encoder in XGBClassifier is deprecated and will be removed in a future release. To remove this warning, do the following: 1) Pass option use_label_encoder=False when constructing XGBClassifier object; and 2) Encode your labels (y) as integers starting with 0, i.e. 0, 1, 2, ..., [num_class - 1].\n",
      "  warnings.warn(label_encoder_deprecation_msg, UserWarning)\n",
      "\n"
     ]
    },
    {
     "name": "stdout",
     "output_type": "stream",
     "text": [
      "[0]\tvalidation_0-auc:0.66479\tvalidation_1-auc:0.64963                             \n",
      "[49]\tvalidation_0-auc:0.81607\tvalidation_1-auc:0.75981                            \n",
      "==================================================                                \n",
      "XGBClassifier(base_score=0.6000000000000001, booster='gbtree',                    \n",
      "              colsample_bylevel=1, colsample_bynode=1,\n",
      "              colsample_bytree=0.6000000000000001, gamma=0, gpu_id=0,\n",
      "              importance_type='gain', interaction_constraints='',\n",
      "              learning_rate=0.21, max_delta_step=0, max_depth=6,\n",
      "              min_child_weight=1, missing=nan, monotone_constraints='()',\n",
      "              n_estimators=50, n_jobs=4, num_parallel_tree=1, random_state=0,\n",
      "              reg_alpha=0.01, reg_lambda=0.01, scale_pos_weight=4.0,\n",
      "              subsample=0.8, tree_method='gpu_hist', validate_parameters=1,\n",
      "              verbosity=None)\n",
      "train best     score:                                                             \n",
      "0.7600                                                                            \n",
      "test   roc_auc_score:                                                             \n",
      "0.7600                                                                            \n",
      "ok                                                                                \n",
      "==================================================                                \n",
      " 98%|█████████▊| 49/50 [07:43<00:10, 10.61s/trial, best loss: 0.31679053514850564]"
     ]
    },
    {
     "name": "stderr",
     "output_type": "stream",
     "text": [
      "/home/lab10/.local/lib/python3.6/site-packages/xgboost/sklearn.py:1146: UserWarning: The use of label encoder in XGBClassifier is deprecated and will be removed in a future release. To remove this warning, do the following: 1) Pass option use_label_encoder=False when constructing XGBClassifier object; and 2) Encode your labels (y) as integers starting with 0, i.e. 0, 1, 2, ..., [num_class - 1].\n",
      "  warnings.warn(label_encoder_deprecation_msg, UserWarning)\n",
      "\n"
     ]
    },
    {
     "name": "stdout",
     "output_type": "stream",
     "text": [
      "[0]\tvalidation_0-auc:0.71869\tvalidation_1-auc:0.70888                             \n",
      "[49]\tvalidation_0-auc:0.81476\tvalidation_1-auc:0.75904                            \n",
      "==================================================                                \n",
      "XGBClassifier(base_score=0.8, booster='dart', colsample_bylevel=1,                \n",
      "              colsample_bynode=1, colsample_bytree=1.0, gamma=0, gpu_id=0,\n",
      "              importance_type='gain', interaction_constraints='',\n",
      "              learning_rate=0.21, max_delta_step=0, max_depth=6,\n",
      "              min_child_weight=1, missing=nan, monotone_constraints='()',\n",
      "              n_estimators=50, n_jobs=4, num_parallel_tree=1,\n",
      "              objective='binary:logitraw', random_state=0, reg_alpha=0.0001,\n",
      "              reg_lambda=0.001, scale_pos_weight=8.0,\n",
      "              subsample=0.6000000000000001, tree_method='gpu_hist',\n",
      "              validate_parameters=1, verbosity=None)\n",
      "train best     score:                                                             \n",
      "0.7590                                                                            \n",
      "test   roc_auc_score:                                                             \n",
      "0.7590                                                                            \n",
      "ok                                                                                \n",
      "==================================================                                \n",
      "100%|██████████| 50/50 [08:02<00:00,  9.65s/trial, best loss: 0.31679053514850564]\n",
      "{'base_score': 0.6000000000000001, 'booster': 'gbtree', 'colsample_bytree': 0.8, 'learning_rate': 0.15, 'n_estimators': 0, 'objective': 'binary:logistic', 'reg_alpha': 100, 'reg_lambda': 5, 'scale_pos_weight': 8.0, 'subsample': 0.8}\n"
     ]
    },
    {
     "ename": "TypeError",
     "evalue": "type object got multiple values for keyword argument 'n_estimators'",
     "output_type": "error",
     "traceback": [
      "\u001b[0;31m---------------------------------------------------------------------------\u001b[0m",
      "\u001b[0;31mTypeError\u001b[0m                                 Traceback (most recent call last)",
      "\u001b[0;32m<ipython-input-26-7df236b82b4f>\u001b[0m in \u001b[0;36m<module>\u001b[0;34m\u001b[0m\n\u001b[1;32m     81\u001b[0m \u001b[0mprint\u001b[0m\u001b[0;34m(\u001b[0m\u001b[0mbest\u001b[0m\u001b[0;34m)\u001b[0m\u001b[0;34m\u001b[0m\u001b[0;34m\u001b[0m\u001b[0m\n\u001b[1;32m     82\u001b[0m \u001b[0;34m\u001b[0m\u001b[0m\n\u001b[0;32m---> 83\u001b[0;31m \u001b[0mxgb\u001b[0m \u001b[0;34m=\u001b[0m \u001b[0mXGBClassifier\u001b[0m\u001b[0;34m(\u001b[0m\u001b[0mn_estimators\u001b[0m\u001b[0;34m=\u001b[0m\u001b[0;36m100\u001b[0m\u001b[0;34m,\u001b[0m \u001b[0;34m**\u001b[0m\u001b[0mbest\u001b[0m\u001b[0;34m)\u001b[0m\u001b[0;34m\u001b[0m\u001b[0;34m\u001b[0m\u001b[0m\n\u001b[0m\u001b[1;32m     84\u001b[0m \u001b[0mxgb\u001b[0m\u001b[0;34m.\u001b[0m\u001b[0mfit\u001b[0m\u001b[0;34m(\u001b[0m\u001b[0mX_train\u001b[0m\u001b[0;34m,\u001b[0m \u001b[0my_train\u001b[0m\u001b[0;34m)\u001b[0m\u001b[0;34m\u001b[0m\u001b[0;34m\u001b[0m\u001b[0m\n\u001b[1;32m     85\u001b[0m \u001b[0mpred_p\u001b[0m \u001b[0;34m=\u001b[0m \u001b[0mpd\u001b[0m\u001b[0;34m.\u001b[0m\u001b[0mDataFrame\u001b[0m\u001b[0;34m(\u001b[0m\u001b[0mxgb\u001b[0m\u001b[0;34m.\u001b[0m\u001b[0mpredict_proba\u001b[0m\u001b[0;34m(\u001b[0m\u001b[0mX_test\u001b[0m\u001b[0;34m)\u001b[0m\u001b[0;34m)\u001b[0m\u001b[0;34m[\u001b[0m\u001b[0;36m1\u001b[0m\u001b[0;34m]\u001b[0m\u001b[0;34m\u001b[0m\u001b[0;34m\u001b[0m\u001b[0m\n",
      "\u001b[0;31mTypeError\u001b[0m: type object got multiple values for keyword argument 'n_estimators'"
     ]
    }
   ],
   "source": [
    "# regularization candiate 정의\n",
    "reg_candidate = [1e-5, 1e-4, 1e-3, 1e-2, 0.1, 1, 5, 10, 100]\n",
    "object_f = [\"binary:logitraw\", \"reg:logistic\", \"binary:logistic\"]\n",
    "booster_c = [\"gbtree\", \"gblinear\", \"dart\"]\n",
    "\n",
    "\n",
    "space = {\"n_estimators\":hopt.hp.choice(\"n_estimators\", [50]),\n",
    "         \"objective\": hopt.hp.choice(\"objective\", object_f),\n",
    "         \"learning_rate\": hopt.hp.quniform(\"learning_rate\", 0.01, 0.2, 0.03),\n",
    "#          \"max_depth\": hopt.hp.choice(\"max_depth\", [-1]),\n",
    "#          \"min_child_weight\": hopt.hp.quniform(\"min_child_weight\", 5, 21, 4),\n",
    "         \"colsample_bytree\": hopt.hp.quniform(\"colsample_bytree\", 0.2, 1, 0.2),\n",
    "         \"subsample\": hopt.hp.quniform(\"subsample\", 0.2, 1, 0.2),\n",
    "         \"reg_lambda\": hopt.hp.choice(\"reg_lambda\", reg_candidate),\n",
    "         \"reg_alpha\": hopt.hp.choice(\"reg_alpha\", reg_candidate),\n",
    "         \"scale_pos_weight\": hopt.hp.quniform(\"scale_pos_weight\", 1, 9, 2),\n",
    "         \"base_score\": hopt.hp.quniform(\"base_score\", 0.5, 0.8, 0.1),\n",
    "         \"booster\": hopt.hp.choice(\"booster\", booster_c)\n",
    "        }\n",
    "\n",
    "def hyper_param_tuning(space):\n",
    "    model = XGBClassifier(n_estimators=int(space['n_estimators']),\n",
    "                          objective=space[\"objective\"],\n",
    "                          learning_rate=float(space[\"learning_rate\"]),\n",
    "#                           max_depth=int(space[\"max_depth\"]), \n",
    "#                           min_child_weight=int(space[\"min_child_weight\"]),\n",
    "                          colsample_bytree=float(space[\"colsample_bytree\"]),\n",
    "                          subsample=float(space[\"subsample\"]),\n",
    "                          reg_lambda=float(space[\"reg_lambda\"]),\n",
    "                          reg_alpha=float(space[\"reg_alpha\"]),\n",
    "                          scale_pos_weight=space[\"scale_pos_weight\"],\n",
    "                          base_score=float(space[\"base_score\"]),\n",
    "                          tree_method=\"gpu_hist\",\n",
    "                          booster=space[\"booster\"]\n",
    "                         )\n",
    "\n",
    "    model.fit(X_train, y_train,\n",
    "            eval_metric=\"auc\", \n",
    "            early_stopping_rounds=50,\n",
    "            eval_set=[(X_train, y_train), (X_test, y_test)],\n",
    "            verbose=50, # 10개 단위로 출력\n",
    "            )\n",
    "    \n",
    "    print(\"=\"*50)\n",
    "    print(model)\n",
    "    pred = model.predict(X_test)\n",
    "    pred_p = pd.DataFrame(model.predict_proba(X_test))[1]\n",
    "    print(\"train best     score:\", format(model.best_score, \".4f\"))\n",
    "    print(\"test   roc_auc_score:\", format(roc_auc_score(y_test, pred_p), \".4f\"))\n",
    "    print(hopt.STATUS_OK)\n",
    "    print(\"=\"*50)\n",
    "\n",
    "    score = roc_auc_score(y_test, pred)\n",
    "    \n",
    "    return {\"loss\": 1 - score,\n",
    "            \"status\": STATUS_OK,\n",
    "            \"model\": model\n",
    "           }\n",
    "\n",
    "trials = hopt.Trials()\n",
    "\n",
    "best = hopt.fmin(fn=hyper_param_tuning,\n",
    "                 space=space,\n",
    "                 algo=hopt.tpe.suggest,\n",
    "                 max_evals=50,\n",
    "                 trials=trials\n",
    "                )\n",
    "\n",
    "# best[\"n_estimators\"] = int(best[\"n_estimators\"])\n",
    "best[\"learning_rate\"] = float(best[\"learning_rate\"])\n",
    "# best[\"max_depth\"] = int(best[\"max_depth\"])\n",
    "# best[\"min_child_weight\"] = int(best[\"min_child_weight\"])\n",
    "best[\"colsample_bytree\"] = float(best[\"colsample_bytree\"])\n",
    "best[\"subsample\"] = float(best[\"subsample\"])\n",
    "best[\"reg_lambda\"] = reg_candidate[int(best[\"reg_lambda\"])]\n",
    "best[\"reg_alpha\"] = reg_candidate[int(best[\"reg_alpha\"])]\n",
    "best[\"base_score\"] = float(best[\"base_score\"])\n",
    "best[\"objective\"] = object_f[int(best[\"objective\"])]\n",
    "best[\"booster\"] = booster_c[int(best[\"booster\"])]\n",
    "\n",
    "best[\"n_estimators\"] = 500\n",
    "best[\"tree_method\"] = \"gpu_hist\"\n",
    "print(\"=\" * 20, \"best  Parameters\", \"=\" * 20)\n",
    "print(best)\n",
    "print(\"=\" * 58)\n",
    "xgb = XGBClassifier(**best,\n",
    "                    use_label_encoder=False\n",
    "                   )\n",
    "xgb.fit(X_train, y_train,\n",
    "        eval_metric=\"auc\", \n",
    "        early_stopping_rounds=100,\n",
    "        eval_set=[(X_train, y_train),(X_train_v, y_train_v), (X_valid, y_valid)],\n",
    "        verbose=100\n",
    "       )\n",
    "\n",
    "print(\"=\" * 20, \"Model Parameters\", \"=\" * 20)\n",
    "print(xgb.get_params())\n",
    "print(\"=\" * 58)\n",
    "\n",
    "pred = xgb.predict(X_test)\n",
    "pred_p = pd.DataFrame(xgb.predict_proba(X_test))[1]\n",
    "print(\"train best     score:\", format(xgb.best_score, \".4f\"))\n",
    "print(\"train best iteration:\", format(xgb.best_iteration, \".3f\"))\n",
    "print(\"@test  roc_auc_score:\", format(roc_auc_score(y_test, pred), \".4f\"))\n",
    "print(\"@test  roc_auc_score:\", format(roc_auc_score(y_test, pred_p), \".4f\"))\n",
    "get_clf_eval(y_test, pred, pred_p)\n",
    "print(\"=\" * 58)"
   ]
  },
  {
   "cell_type": "code",
   "execution_count": 64,
   "metadata": {},
   "outputs": [
    {
     "name": "stdout",
     "output_type": "stream",
     "text": [
      "[0]\tvalidation_0-auc:0.68510\tvalidation_1-auc:0.68569\tvalidation_2-auc:0.68333\n",
      "[100]\tvalidation_0-auc:0.80134\tvalidation_1-auc:0.80156\tvalidation_2-auc:0.80068\n",
      "[200]\tvalidation_0-auc:0.82663\tvalidation_1-auc:0.82632\tvalidation_2-auc:0.82758\n",
      "[300]\tvalidation_0-auc:0.84638\tvalidation_1-auc:0.84589\tvalidation_2-auc:0.84784\n",
      "[400]\tvalidation_0-auc:0.86271\tvalidation_1-auc:0.86223\tvalidation_2-auc:0.86412\n",
      "[499]\tvalidation_0-auc:0.87600\tvalidation_1-auc:0.87557\tvalidation_2-auc:0.87729\n",
      "==================== Model Parameters ====================\n",
      "{'objective': 'binary:logistic', 'use_label_encoder': False, 'base_score': 0.6, 'booster': 'gbtree', 'colsample_bylevel': 1, 'colsample_bynode': 1, 'colsample_bytree': 0.8, 'gamma': 0, 'gpu_id': 0, 'importance_type': 'gain', 'interaction_constraints': '', 'learning_rate': 0.15, 'max_delta_step': 0, 'max_depth': 6, 'min_child_weight': 1, 'missing': nan, 'monotone_constraints': '()', 'n_estimators': 500, 'n_jobs': 4, 'num_parallel_tree': 1, 'random_state': 0, 'reg_alpha': 100, 'reg_lambda': 5, 'scale_pos_weight': 8.0, 'subsample': 0.8, 'tree_method': 'gpu_hist', 'validate_parameters': 1, 'verbosity': None}\n",
      "==========================================================\n",
      "train best     score: 0.8773\n",
      "train best iteration: 499.000\n",
      "@test  roc_auc_score: 0.6766\n",
      "@test  roc_auc_score: 0.7638\n",
      "오차 행렬\n",
      "[[46886  8990]\n",
      " [ 2378  2515]]\n",
      "정확도 : 0.8129, 정밀도: 0.2186, 재현율 : 0.5140,    F1 : 0.3067, AUC:0.7638\n",
      "==========================================================\n"
     ]
    },
    {
     "ename": "NameError",
     "evalue": "name 'ftr_importances' is not defined",
     "output_type": "error",
     "traceback": [
      "\u001b[0;31m---------------------------------------------------------------------------\u001b[0m",
      "\u001b[0;31mNameError\u001b[0m                                 Traceback (most recent call last)",
      "\u001b[0;32m<ipython-input-64-a43f96beab06>\u001b[0m in \u001b[0;36m<module>\u001b[0;34m\u001b[0m\n\u001b[1;32m     43\u001b[0m \u001b[0;31m# sort_values() 쉽게 하기 위해서 시리즈로 만들고,\u001b[0m\u001b[0;34m\u001b[0m\u001b[0;34m\u001b[0m\u001b[0;34m\u001b[0m\u001b[0m\n\u001b[1;32m     44\u001b[0m \u001b[0;31m# 최고 중요도가 높은 20개 피처들만 추출\u001b[0m\u001b[0;34m\u001b[0m\u001b[0;34m\u001b[0m\u001b[0;34m\u001b[0m\u001b[0m\n\u001b[0;32m---> 45\u001b[0;31m \u001b[0mftr_top20\u001b[0m \u001b[0;34m=\u001b[0m \u001b[0mftr_importances\u001b[0m\u001b[0;34m.\u001b[0m\u001b[0msort_values\u001b[0m\u001b[0;34m(\u001b[0m\u001b[0mascending\u001b[0m\u001b[0;34m=\u001b[0m\u001b[0;32mFalse\u001b[0m\u001b[0;34m)\u001b[0m\u001b[0;34m[\u001b[0m\u001b[0;34m:\u001b[0m\u001b[0;36m20\u001b[0m\u001b[0;34m]\u001b[0m\u001b[0;34m\u001b[0m\u001b[0;34m\u001b[0m\u001b[0m\n\u001b[0m\u001b[1;32m     46\u001b[0m \u001b[0mplt\u001b[0m\u001b[0;34m.\u001b[0m\u001b[0mfigure\u001b[0m\u001b[0;34m(\u001b[0m\u001b[0mfigsize\u001b[0m\u001b[0;34m=\u001b[0m\u001b[0;34m(\u001b[0m\u001b[0;36m8\u001b[0m\u001b[0;34m,\u001b[0m\u001b[0;36m6\u001b[0m\u001b[0;34m)\u001b[0m\u001b[0;34m)\u001b[0m\u001b[0;34m\u001b[0m\u001b[0;34m\u001b[0m\u001b[0m\n\u001b[1;32m     47\u001b[0m \u001b[0mplt\u001b[0m\u001b[0;34m.\u001b[0m\u001b[0mtitle\u001b[0m\u001b[0;34m(\u001b[0m\u001b[0;34m'Feature importances Top 20'\u001b[0m\u001b[0;34m)\u001b[0m\u001b[0;34m\u001b[0m\u001b[0;34m\u001b[0m\u001b[0m\n",
      "\u001b[0;31mNameError\u001b[0m: name 'ftr_importances' is not defined"
     ]
    }
   ],
   "source": [
    "params = {'objective': 'binary:logistic', \n",
    "          'base_score': 0.6, \n",
    "          'booster': 'gbtree', \n",
    "          'colsample_bytree': 0.8, \n",
    "          'learning_rate': 0.15, \n",
    "          'max_depth': 6, \n",
    "          'min_child_weight': 1, \n",
    "          'n_estimators': 500, \n",
    "          'reg_alpha': 100,\n",
    "          'reg_lambda': 5,\n",
    "          'scale_pos_weight': 8.0,\n",
    "          'subsample': 0.8, \n",
    "          'tree_method': 'gpu_hist'\n",
    "         }\n",
    "\n",
    "xgb = XGBClassifier(**params,\n",
    "                    use_label_encoder=False\n",
    "                   )\n",
    "xgb.fit(X_train, y_train,\n",
    "        eval_metric=\"auc\", \n",
    "        early_stopping_rounds=100,\n",
    "        eval_set=[(X_train, y_train),(X_train_v, y_train_v), (X_valid, y_valid)],\n",
    "        verbose=100\n",
    "       )\n",
    "\n",
    "print(\"=\" * 20, \"Model Parameters\", \"=\" * 20)\n",
    "print(xgb.get_params())\n",
    "print(\"=\" * 58)\n",
    "\n",
    "pred = xgb.predict(X_test)\n",
    "pred_p = pd.DataFrame(xgb.predict_proba(X_test))[1]\n",
    "print(\"train best     score:\", format(xgb.best_score, \".4f\"))\n",
    "print(\"train best iteration:\", format(xgb.best_iteration, \".3f\"))\n",
    "print(\"@test  roc_auc_score:\", format(roc_auc_score(y_test, pred), \".4f\"))\n",
    "print(\"@test  roc_auc_score:\", format(roc_auc_score(y_test, pred_p), \".4f\"))\n",
    "get_clf_eval(y_test, pred, pred_p)\n",
    "print(\"=\" * 58)\n",
    "          \n",
    "          \n",
    "          \n",
    "    "
   ]
  },
  {
   "cell_type": "code",
   "execution_count": 71,
   "metadata": {},
   "outputs": [
    {
     "data": {
      "text/plain": [
       "EXT_SOURCE_3                           0.045688\n",
       "EXT_SOURCE_2                           0.037781\n",
       "ORGANIZATION_TYPE_XNA                  0.033433\n",
       "CODE_GENDER_M                          0.033271\n",
       "NAME_EDUCATION_TYPE                    0.029310\n",
       "OCCUPATION_TYPE_Low-skill Laborers     0.025678\n",
       "FLAG_OWN_CAR                           0.025216\n",
       "ORGANIZATION_TYPE_Industry: type 1     0.020507\n",
       "NAME_INCOME_TYPE_Working               0.020071\n",
       "EXT_SOURCE_1                           0.018129\n",
       "서류여부                                   0.017755\n",
       "승인/거부(prev_app)                        0.017102\n",
       "AMT_CREDIT_SUM_OVERDUE                 0.016697\n",
       "ORGANIZATION_TYPE_Restaurant           0.015652\n",
       "CODE_GENDER_F                          0.014725\n",
       "NAME_CONTRACT_TYPE                     0.013011\n",
       "ORGANIZATION_TYPE_Transport: type 3    0.012602\n",
       "REGION_RATING_CLIENT_W_CITY            0.012130\n",
       "DAYS_BIRTH                             0.011684\n",
       "과거_상환액/총액                              0.011221\n",
       "dtype: float32"
      ]
     },
     "execution_count": 71,
     "metadata": {},
     "output_type": "execute_result"
    }
   ],
   "source": [
    "ftr_top20"
   ]
  },
  {
   "cell_type": "code",
   "execution_count": 70,
   "metadata": {},
   "outputs": [
    {
     "name": "stderr",
     "output_type": "stream",
     "text": [
      "/usr/local/lib/python3.6/dist-packages/matplotlib/backends/backend_agg.py:238: RuntimeWarning: Glyph 49436 missing from current font.\n",
      "  font.set_text(s, 0.0, flags=flags)\n",
      "/usr/local/lib/python3.6/dist-packages/matplotlib/backends/backend_agg.py:238: RuntimeWarning: Glyph 47448 missing from current font.\n",
      "  font.set_text(s, 0.0, flags=flags)\n",
      "/usr/local/lib/python3.6/dist-packages/matplotlib/backends/backend_agg.py:238: RuntimeWarning: Glyph 50668 missing from current font.\n",
      "  font.set_text(s, 0.0, flags=flags)\n",
      "/usr/local/lib/python3.6/dist-packages/matplotlib/backends/backend_agg.py:238: RuntimeWarning: Glyph 48512 missing from current font.\n",
      "  font.set_text(s, 0.0, flags=flags)\n",
      "/usr/local/lib/python3.6/dist-packages/matplotlib/backends/backend_agg.py:238: RuntimeWarning: Glyph 49849 missing from current font.\n",
      "  font.set_text(s, 0.0, flags=flags)\n",
      "/usr/local/lib/python3.6/dist-packages/matplotlib/backends/backend_agg.py:238: RuntimeWarning: Glyph 51064 missing from current font.\n",
      "  font.set_text(s, 0.0, flags=flags)\n",
      "/usr/local/lib/python3.6/dist-packages/matplotlib/backends/backend_agg.py:238: RuntimeWarning: Glyph 44144 missing from current font.\n",
      "  font.set_text(s, 0.0, flags=flags)\n",
      "/usr/local/lib/python3.6/dist-packages/matplotlib/backends/backend_agg.py:238: RuntimeWarning: Glyph 44284 missing from current font.\n",
      "  font.set_text(s, 0.0, flags=flags)\n",
      "/usr/local/lib/python3.6/dist-packages/matplotlib/backends/backend_agg.py:238: RuntimeWarning: Glyph 49345 missing from current font.\n",
      "  font.set_text(s, 0.0, flags=flags)\n",
      "/usr/local/lib/python3.6/dist-packages/matplotlib/backends/backend_agg.py:238: RuntimeWarning: Glyph 54872 missing from current font.\n",
      "  font.set_text(s, 0.0, flags=flags)\n",
      "/usr/local/lib/python3.6/dist-packages/matplotlib/backends/backend_agg.py:238: RuntimeWarning: Glyph 50529 missing from current font.\n",
      "  font.set_text(s, 0.0, flags=flags)\n",
      "/usr/local/lib/python3.6/dist-packages/matplotlib/backends/backend_agg.py:238: RuntimeWarning: Glyph 52509 missing from current font.\n",
      "  font.set_text(s, 0.0, flags=flags)\n",
      "/usr/local/lib/python3.6/dist-packages/matplotlib/backends/backend_agg.py:201: RuntimeWarning: Glyph 49436 missing from current font.\n",
      "  font.set_text(s, 0, flags=flags)\n",
      "/usr/local/lib/python3.6/dist-packages/matplotlib/backends/backend_agg.py:201: RuntimeWarning: Glyph 47448 missing from current font.\n",
      "  font.set_text(s, 0, flags=flags)\n",
      "/usr/local/lib/python3.6/dist-packages/matplotlib/backends/backend_agg.py:201: RuntimeWarning: Glyph 50668 missing from current font.\n",
      "  font.set_text(s, 0, flags=flags)\n",
      "/usr/local/lib/python3.6/dist-packages/matplotlib/backends/backend_agg.py:201: RuntimeWarning: Glyph 48512 missing from current font.\n",
      "  font.set_text(s, 0, flags=flags)\n",
      "/usr/local/lib/python3.6/dist-packages/matplotlib/backends/backend_agg.py:201: RuntimeWarning: Glyph 49849 missing from current font.\n",
      "  font.set_text(s, 0, flags=flags)\n",
      "/usr/local/lib/python3.6/dist-packages/matplotlib/backends/backend_agg.py:201: RuntimeWarning: Glyph 51064 missing from current font.\n",
      "  font.set_text(s, 0, flags=flags)\n",
      "/usr/local/lib/python3.6/dist-packages/matplotlib/backends/backend_agg.py:201: RuntimeWarning: Glyph 44144 missing from current font.\n",
      "  font.set_text(s, 0, flags=flags)\n",
      "/usr/local/lib/python3.6/dist-packages/matplotlib/backends/backend_agg.py:201: RuntimeWarning: Glyph 44284 missing from current font.\n",
      "  font.set_text(s, 0, flags=flags)\n",
      "/usr/local/lib/python3.6/dist-packages/matplotlib/backends/backend_agg.py:201: RuntimeWarning: Glyph 49345 missing from current font.\n",
      "  font.set_text(s, 0, flags=flags)\n",
      "/usr/local/lib/python3.6/dist-packages/matplotlib/backends/backend_agg.py:201: RuntimeWarning: Glyph 54872 missing from current font.\n",
      "  font.set_text(s, 0, flags=flags)\n",
      "/usr/local/lib/python3.6/dist-packages/matplotlib/backends/backend_agg.py:201: RuntimeWarning: Glyph 50529 missing from current font.\n",
      "  font.set_text(s, 0, flags=flags)\n",
      "/usr/local/lib/python3.6/dist-packages/matplotlib/backends/backend_agg.py:201: RuntimeWarning: Glyph 52509 missing from current font.\n",
      "  font.set_text(s, 0, flags=flags)\n"
     ]
    },
    {
     "data": {
      "image/png": "[encoded data removed]",
      "text/plain": [
       "<Figure size 576x432 with 1 Axes>"
      ]
     },
     "metadata": {},
     "output_type": "display_data"
    }
   ],
   "source": [
    "ftr_importances = pd.Series(xgb.feature_importances_, index=X_train.columns)\n",
    "# sort_values() 쉽게 하기 위해서 시리즈로 만들고, \n",
    "# 최고 중요도가 높은 20개 피처들만 추출\n",
    "plt.rcParams['font.family'] = 'Malgun Gothic'\n",
    "sns.set_theme(style=\"ticks\",\n",
    "              font=\"AppleGothic\", \n",
    "              rc={\"axes.unicode_minus\":False}\n",
    "             )\n",
    "ftr_top20 = ftr_importances.sort_values(ascending=False)[:20]\n",
    "plt.figure(figsize=(8,6))\n",
    "plt.title('Feature importances Top 20')\n",
    "# x축은 중요도 값, y축은 ftr_top20 시리즈의 index\n",
    "sns.barplot(x=ftr_top20 , y = ftr_top20.index)\n",
    "\n",
    "plt.show()"
   ]
  },
  {
   "cell_type": "code",
   "execution_count": 46,
   "metadata": {},
   "outputs": [
    {
     "name": "stdout",
     "output_type": "stream",
     "text": [
      "==================== best  Parameters ====================\n",
      "{'base_score': 0.6000000000000001, 'booster': 'gbtree', 'colsample_bytree': 0.8, 'learning_rate': 0.15, 'n_estimators': 500, 'objective': 'binary:logistic', 'reg_alpha': 100, 'reg_lambda': 5, 'scale_pos_weight': 8.0, 'subsample': 0.8, 'tree_method': 'gpu_hist'}\n",
      "==========================================================\n",
      "[0]\tvalidation_0-auc:0.68510\tvalidation_1-auc:0.68569\tvalidation_2-auc:0.68333\n",
      "[100]\tvalidation_0-auc:0.80134\tvalidation_1-auc:0.80156\tvalidation_2-auc:0.80068\n",
      "[200]\tvalidation_0-auc:0.82663\tvalidation_1-auc:0.82632\tvalidation_2-auc:0.82758\n",
      "[300]\tvalidation_0-auc:0.84638\tvalidation_1-auc:0.84589\tvalidation_2-auc:0.84784\n",
      "[400]\tvalidation_0-auc:0.86271\tvalidation_1-auc:0.86223\tvalidation_2-auc:0.86412\n",
      "[499]\tvalidation_0-auc:0.87600\tvalidation_1-auc:0.87557\tvalidation_2-auc:0.87729\n",
      "==================== Model Parameters ====================\n",
      "{'objective': 'binary:logistic', 'use_label_encoder': False, 'base_score': 0.6000000000000001, 'booster': 'gbtree', 'colsample_bylevel': 1, 'colsample_bynode': 1, 'colsample_bytree': 0.8, 'gamma': 0, 'gpu_id': 0, 'importance_type': 'gain', 'interaction_constraints': '', 'learning_rate': 0.15, 'max_delta_step': 0, 'max_depth': 6, 'min_child_weight': 1, 'missing': nan, 'monotone_constraints': '()', 'n_estimators': 500, 'n_jobs': 4, 'num_parallel_tree': 1, 'random_state': 0, 'reg_alpha': 100, 'reg_lambda': 5, 'scale_pos_weight': 8.0, 'subsample': 0.8, 'tree_method': 'gpu_hist', 'validate_parameters': 1, 'verbosity': None}\n",
      "==========================================================\n",
      "train best     score: 0.8773\n",
      "train best iteration: 499.000\n",
      "@test  roc_auc_score: 0.6766\n",
      "@test  roc_auc_score: 0.7638\n",
      "오차 행렬\n",
      "[[46886  8990]\n",
      " [ 2378  2515]]\n",
      "정확도 : 0.8129, 정밀도: 0.2186, 재현율 : 0.5140,    F1 : 0.3067, AUC:0.7638\n",
      "==========================================================\n"
     ]
    }
   ],
   "source": [
    "# best[\"n_estimators\"] = 500\n",
    "# best[\"tree_method\"] = \"gpu_hist\"\n",
    "# print(\"=\" * 20, \"best  Parameters\", \"=\" * 20)\n",
    "# print(best)\n",
    "# print(\"=\" * 58)\n",
    "# xgb = XGBClassifier(**best,\n",
    "#                     use_label_encoder=False\n",
    "#                    )\n",
    "# xgb.fit(X_train, y_train,\n",
    "#         eval_metric=\"auc\", \n",
    "#         early_stopping_rounds=100,\n",
    "#         eval_set=[(X_train, y_train),(X_train_v, y_train_v), (X_valid, y_valid)],\n",
    "#         verbose=100\n",
    "#        )\n",
    "\n",
    "# print(\"=\" * 20, \"Model Parameters\", \"=\" * 20)\n",
    "# print(xgb.get_params())\n",
    "# print(\"=\" * 58)\n",
    "\n",
    "# pred = xgb.predict(X_test)\n",
    "# pred_p = pd.DataFrame(xgb.predict_proba(X_test))[1]\n",
    "# print(\"train best     score:\", format(xgb.best_score, \".4f\"))\n",
    "# print(\"train best iteration:\", format(xgb.best_iteration, \".3f\"))\n",
    "# print(\"@test  roc_auc_score:\", format(roc_auc_score(y_test, pred), \".4f\"))\n",
    "# print(\"@test  roc_auc_score:\", format(roc_auc_score(y_test, pred_p), \".4f\"))\n",
    "# get_clf_eval(y_test, pred, pred_p)\n",
    "# print(\"=\" * 58)"
   ]
  },
  {
   "cell_type": "markdown",
   "metadata": {},
   "source": [
    "## 2차 조정"
   ]
  },
  {
   "cell_type": "code",
   "execution_count": 4,
   "metadata": {},
   "outputs": [
    {
     "name": "stdout",
     "output_type": "stream",
     "text": [
      "  0%|          | 0/50 [00:00<?, ?trial/s, best loss=?]"
     ]
    },
    {
     "name": "stderr",
     "output_type": "stream",
     "text": [
      "/home/lab10/.local/lib/python3.6/site-packages/xgboost/sklearn.py:1146: UserWarning: The use of label encoder in XGBClassifier is deprecated and will be removed in a future release. To remove this warning, do the following: 1) Pass option use_label_encoder=False when constructing XGBClassifier object; and 2) Encode your labels (y) as integers starting with 0, i.e. 0, 1, 2, ..., [num_class - 1].\n",
      "  warnings.warn(label_encoder_deprecation_msg, UserWarning)\n",
      "\n"
     ]
    },
    {
     "name": "stdout",
     "output_type": "stream",
     "text": [
      "[0]\tvalidation_0-auc:0.66174\tvalidation_1-auc:0.65318 \n",
      "[152]\tvalidation_0-auc:0.84313\tvalidation_1-auc:0.76458\n",
      "==================================================    \n",
      "XGBClassifier(base_score=0.6000000000000001, booster='gbtree',\n",
      "              colsample_bylevel=1, colsample_bynode=1,\n",
      "              colsample_bytree=0.7000000000000001, gamma=0, gpu_id=0,\n",
      "              importance_type='gain', interaction_constraints='',\n",
      "              learning_rate=0.17, max_delta_step=0, max_depth=6,\n",
      "              min_child_weight=1, missing=nan, monotone_constraints='()',\n",
      "              n_estimators=3000, n_jobs=4, num_parallel_tree=1, random_state=0,\n",
      "              reg_alpha=20.0, reg_lambda=40.0, scale_pos_weight=11.0,\n",
      "              subsample=0.8500000000000001, tree_method='gpu_hist',\n",
      "              validate_parameters=1, verbosity=None)\n",
      "train best     score:                                 \n",
      "0.7653                                                \n",
      "test   roc_auc_score:                                 \n",
      "0.7653                                                \n",
      "ok                                                    \n",
      "==================================================    \n",
      "  2%|▏         | 1/50 [00:07<05:48,  7.11s/trial, best loss: 0.305152633747112]"
     ]
    },
    {
     "name": "stderr",
     "output_type": "stream",
     "text": [
      "/home/lab10/.local/lib/python3.6/site-packages/xgboost/sklearn.py:1146: UserWarning: The use of label encoder in XGBClassifier is deprecated and will be removed in a future release. To remove this warning, do the following: 1) Pass option use_label_encoder=False when constructing XGBClassifier object; and 2) Encode your labels (y) as integers starting with 0, i.e. 0, 1, 2, ..., [num_class - 1].\n",
      "  warnings.warn(label_encoder_deprecation_msg, UserWarning)\n",
      "\n"
     ]
    },
    {
     "name": "stdout",
     "output_type": "stream",
     "text": [
      "[0]\tvalidation_0-auc:0.68812\tvalidation_1-auc:0.68039                          \n",
      "[458]\tvalidation_0-auc:0.84208\tvalidation_1-auc:0.76904                        \n",
      "==================================================                             \n",
      "XGBClassifier(base_score=0.7000000000000001, booster='gbtree',                 \n",
      "              colsample_bylevel=1, colsample_bynode=1, colsample_bytree=0.8,\n",
      "              gamma=0, gpu_id=0, importance_type='gain',\n",
      "              interaction_constraints='', learning_rate=0.05, max_delta_step=0,\n",
      "              max_depth=6, min_child_weight=1, missing=nan,\n",
      "              monotone_constraints='()', n_estimators=3000, n_jobs=4,\n",
      "              num_parallel_tree=1, objective='binary:logitraw', random_state=0,\n",
      "              reg_alpha=0.1, reg_lambda=60.0, scale_pos_weight=7.0,\n",
      "              subsample=0.8, tree_method='gpu_hist', validate_parameters=1,\n",
      "              verbosity=None)\n",
      "train best     score:                                                          \n",
      "0.7692                                                                         \n",
      "test   roc_auc_score:                                                          \n",
      "0.7692                                                                         \n",
      "ok                                                                             \n",
      "==================================================                             \n",
      "  4%|▍         | 2/50 [00:22<09:36, 12.01s/trial, best loss: 0.305152633747112]"
     ]
    },
    {
     "name": "stderr",
     "output_type": "stream",
     "text": [
      "/home/lab10/.local/lib/python3.6/site-packages/xgboost/sklearn.py:1146: UserWarning: The use of label encoder in XGBClassifier is deprecated and will be removed in a future release. To remove this warning, do the following: 1) Pass option use_label_encoder=False when constructing XGBClassifier object; and 2) Encode your labels (y) as integers starting with 0, i.e. 0, 1, 2, ..., [num_class - 1].\n",
      "  warnings.warn(label_encoder_deprecation_msg, UserWarning)\n",
      "\n"
     ]
    },
    {
     "name": "stdout",
     "output_type": "stream",
     "text": [
      "[0]\tvalidation_0-auc:0.69267\tvalidation_1-auc:0.68199                          \n",
      "[242]\tvalidation_0-auc:0.83359\tvalidation_1-auc:0.76683                        \n",
      "==================================================                             \n",
      "XGBClassifier(base_score=0.5, booster='gbtree', colsample_bylevel=1,           \n",
      "              colsample_bynode=1, colsample_bytree=0.8500000000000001, gamma=0,\n",
      "              gpu_id=0, importance_type='gain', interaction_constraints='',\n",
      "              learning_rate=0.13, max_delta_step=0, max_depth=6,\n",
      "              min_child_weight=1, missing=nan, monotone_constraints='()',\n",
      "              n_estimators=3000, n_jobs=4, num_parallel_tree=1, random_state=0,\n",
      "              reg_alpha=110.0, reg_lambda=0.1, scale_pos_weight=11.0,\n",
      "              subsample=0.8500000000000001, tree_method='gpu_hist',\n",
      "              validate_parameters=1, verbosity=None)\n",
      "train best     score:                                                          \n",
      "0.7675                                                                         \n",
      "test   roc_auc_score:                                                          \n",
      "0.7675                                                                         \n",
      "ok                                                                             \n",
      "==================================================                             \n",
      "  6%|▌         | 3/50 [00:32<08:42, 11.11s/trial, best loss: 0.3023266336862782]"
     ]
    },
    {
     "name": "stderr",
     "output_type": "stream",
     "text": [
      "/home/lab10/.local/lib/python3.6/site-packages/xgboost/sklearn.py:1146: UserWarning: The use of label encoder in XGBClassifier is deprecated and will be removed in a future release. To remove this warning, do the following: 1) Pass option use_label_encoder=False when constructing XGBClassifier object; and 2) Encode your labels (y) as integers starting with 0, i.e. 0, 1, 2, ..., [num_class - 1].\n",
      "  warnings.warn(label_encoder_deprecation_msg, UserWarning)\n",
      "\n"
     ]
    },
    {
     "name": "stdout",
     "output_type": "stream",
     "text": [
      "[0]\tvalidation_0-auc:0.69042\tvalidation_1-auc:0.68344                           \n",
      "[160]\tvalidation_0-auc:0.82849\tvalidation_1-auc:0.76729                         \n",
      "==================================================                              \n",
      "XGBClassifier(base_score=0.7000000000000001, booster='gbtree',                  \n",
      "              colsample_bylevel=1, colsample_bynode=1,\n",
      "              colsample_bytree=0.8500000000000001, gamma=0, gpu_id=0,\n",
      "              importance_type='gain', interaction_constraints='',\n",
      "              learning_rate=0.14, max_delta_step=0, max_depth=6,\n",
      "              min_child_weight=1, missing=nan, monotone_constraints='()',\n",
      "              n_estimators=3000, n_jobs=4, num_parallel_tree=1, random_state=0,\n",
      "              reg_alpha=60.0, reg_lambda=7.0, scale_pos_weight=8.0,\n",
      "              subsample=0.9500000000000001, tree_method='gpu_hist',\n",
      "              validate_parameters=1, verbosity=None)\n",
      "train best     score:                                                           \n",
      "0.7673                                                                          \n",
      "test   roc_auc_score:                                                           \n",
      "0.7673                                                                          \n",
      "ok                                                                              \n",
      "==================================================                              \n",
      "  8%|▊         | 4/50 [00:39<07:18,  9.54s/trial, best loss: 0.3023266336862782]"
     ]
    },
    {
     "name": "stderr",
     "output_type": "stream",
     "text": [
      "/home/lab10/.local/lib/python3.6/site-packages/xgboost/sklearn.py:1146: UserWarning: The use of label encoder in XGBClassifier is deprecated and will be removed in a future release. To remove this warning, do the following: 1) Pass option use_label_encoder=False when constructing XGBClassifier object; and 2) Encode your labels (y) as integers starting with 0, i.e. 0, 1, 2, ..., [num_class - 1].\n",
      "  warnings.warn(label_encoder_deprecation_msg, UserWarning)\n",
      "\n"
     ]
    },
    {
     "name": "stdout",
     "output_type": "stream",
     "text": [
      "[0]\tvalidation_0-auc:0.69336\tvalidation_1-auc:0.68275                           \n",
      "[191]\tvalidation_0-auc:0.85083\tvalidation_1-auc:0.76526                         \n",
      "==================================================                              \n",
      "XGBClassifier(base_score=0.7000000000000001, booster='gbtree',                  \n",
      "              colsample_bylevel=1, colsample_bynode=1, colsample_bytree=0.8,\n",
      "              gamma=0, gpu_id=0, importance_type='gain',\n",
      "              interaction_constraints='', learning_rate=0.12, max_delta_step=0,\n",
      "              max_depth=6, min_child_weight=1, missing=nan,\n",
      "              monotone_constraints='()', n_estimators=3000, n_jobs=4,\n",
      "              num_parallel_tree=1, random_state=0, reg_alpha=7.0,\n",
      "              reg_lambda=7.0, scale_pos_weight=6.0,\n",
      "              subsample=0.7000000000000001, tree_method='gpu_hist',\n",
      "              validate_parameters=1, verbosity=None)\n",
      "train best     score:                                                           \n",
      "0.7656                                                                          \n",
      "test   roc_auc_score:                                                           \n",
      "0.7656                                                                          \n",
      "ok                                                                              \n",
      "==================================================                              \n",
      " 10%|█         | 5/50 [00:47<06:34,  8.77s/trial, best loss: 0.3023266336862782]"
     ]
    },
    {
     "name": "stderr",
     "output_type": "stream",
     "text": [
      "/home/lab10/.local/lib/python3.6/site-packages/xgboost/sklearn.py:1146: UserWarning: The use of label encoder in XGBClassifier is deprecated and will be removed in a future release. To remove this warning, do the following: 1) Pass option use_label_encoder=False when constructing XGBClassifier object; and 2) Encode your labels (y) as integers starting with 0, i.e. 0, 1, 2, ..., [num_class - 1].\n",
      "  warnings.warn(label_encoder_deprecation_msg, UserWarning)\n",
      "\n"
     ]
    },
    {
     "name": "stdout",
     "output_type": "stream",
     "text": [
      "[0]\tvalidation_0-auc:0.65417\tvalidation_1-auc:0.64735                           \n",
      "[500]\tvalidation_0-auc:0.81021\tvalidation_1-auc:0.76904                         \n",
      "[797]\tvalidation_0-auc:0.82826\tvalidation_1-auc:0.76987                         \n",
      "==================================================                              \n",
      "XGBClassifier(base_score=0.6000000000000001, booster='gbtree',                  \n",
      "              colsample_bylevel=1, colsample_bynode=1,\n",
      "              colsample_bytree=0.7000000000000001, gamma=0, gpu_id=0,\n",
      "              importance_type='gain', interaction_constraints='',\n",
      "              learning_rate=0.03, max_delta_step=0, max_depth=6,\n",
      "              min_child_weight=1, missing=nan, monotone_constraints='()',\n",
      "              n_estimators=3000, n_jobs=4, num_parallel_tree=1,\n",
      "              objective='binary:logitraw', random_state=0, reg_alpha=60.0,\n",
      "              reg_lambda=5.0, scale_pos_weight=7.0,\n",
      "              subsample=0.8500000000000001, tree_method='gpu_hist',\n",
      "              validate_parameters=1, verbosity=None)\n",
      "train best     score:                                                           \n",
      "0.7699                                                                          \n",
      "test   roc_auc_score:                                                           \n",
      "0.7699                                                                          \n",
      "ok                                                                              \n",
      "==================================================                              \n",
      " 12%|█▏        | 6/50 [01:13<10:55, 14.90s/trial, best loss: 0.3023266336862782]"
     ]
    },
    {
     "name": "stderr",
     "output_type": "stream",
     "text": [
      "/home/lab10/.local/lib/python3.6/site-packages/xgboost/sklearn.py:1146: UserWarning: The use of label encoder in XGBClassifier is deprecated and will be removed in a future release. To remove this warning, do the following: 1) Pass option use_label_encoder=False when constructing XGBClassifier object; and 2) Encode your labels (y) as integers starting with 0, i.e. 0, 1, 2, ..., [num_class - 1].\n",
      "  warnings.warn(label_encoder_deprecation_msg, UserWarning)\n",
      "\n"
     ]
    },
    {
     "name": "stdout",
     "output_type": "stream",
     "text": [
      "[0]\tvalidation_0-auc:0.72059\tvalidation_1-auc:0.71304                           \n",
      "[403]\tvalidation_0-auc:0.84421\tvalidation_1-auc:0.76829                         \n",
      "==================================================                              \n",
      "XGBClassifier(base_score=0.5, booster='gbtree', colsample_bylevel=1,            \n",
      "              colsample_bynode=1, colsample_bytree=0.9500000000000001, gamma=0,\n",
      "              gpu_id=0, importance_type='gain', interaction_constraints='',\n",
      "              learning_rate=0.04, max_delta_step=0, max_depth=6,\n",
      "              min_child_weight=1, missing=nan, monotone_constraints='()',\n",
      "              n_estimators=3000, n_jobs=4, num_parallel_tree=1, random_state=0,\n",
      "              reg_alpha=3.0, reg_lambda=0.0, scale_pos_weight=9.0,\n",
      "              subsample=0.75, tree_method='gpu_hist', validate_parameters=1,\n",
      "              verbosity=None)\n",
      "train best     score:                                                           \n",
      "0.7686                                                                          \n",
      "test   roc_auc_score:                                                           \n",
      "0.7686                                                                          \n",
      "ok                                                                              \n",
      "==================================================                              \n",
      " 14%|█▍        | 7/50 [01:28<10:33, 14.73s/trial, best loss: 0.3023266336862782]"
     ]
    },
    {
     "name": "stderr",
     "output_type": "stream",
     "text": [
      "/home/lab10/.local/lib/python3.6/site-packages/xgboost/sklearn.py:1146: UserWarning: The use of label encoder in XGBClassifier is deprecated and will be removed in a future release. To remove this warning, do the following: 1) Pass option use_label_encoder=False when constructing XGBClassifier object; and 2) Encode your labels (y) as integers starting with 0, i.e. 0, 1, 2, ..., [num_class - 1].\n",
      "  warnings.warn(label_encoder_deprecation_msg, UserWarning)\n",
      "\n"
     ]
    },
    {
     "name": "stdout",
     "output_type": "stream",
     "text": [
      "[0]\tvalidation_0-auc:0.71940\tvalidation_1-auc:0.71012                           \n",
      "[423]\tvalidation_0-auc:0.85598\tvalidation_1-auc:0.76919                         \n",
      "==================================================                              \n",
      "XGBClassifier(base_score=0.7000000000000001, booster='gbtree',                  \n",
      "              colsample_bylevel=1, colsample_bynode=1,\n",
      "              colsample_bytree=0.9500000000000001, gamma=0, gpu_id=0,\n",
      "              importance_type='gain', interaction_constraints='',\n",
      "              learning_rate=0.05, max_delta_step=0, max_depth=6,\n",
      "              min_child_weight=1, missing=nan, monotone_constraints='()',\n",
      "              n_estimators=3000, n_jobs=4, num_parallel_tree=1,\n",
      "              objective='binary:logitraw', random_state=0, reg_alpha=10.0,\n",
      "              reg_lambda=0.1, scale_pos_weight=9.0, subsample=0.8,\n",
      "              tree_method='gpu_hist', validate_parameters=1, verbosity=None)\n",
      "train best     score:                                                           \n",
      "0.7696                                                                          \n",
      "test   roc_auc_score:                                                           \n",
      "0.7696                                                                          \n",
      "ok                                                                              \n",
      "==================================================                              \n",
      " 16%|█▌        | 8/50 [01:43<10:24, 14.88s/trial, best loss: 0.3023266336862782]"
     ]
    },
    {
     "name": "stderr",
     "output_type": "stream",
     "text": [
      "/home/lab10/.local/lib/python3.6/site-packages/xgboost/sklearn.py:1146: UserWarning: The use of label encoder in XGBClassifier is deprecated and will be removed in a future release. To remove this warning, do the following: 1) Pass option use_label_encoder=False when constructing XGBClassifier object; and 2) Encode your labels (y) as integers starting with 0, i.e. 0, 1, 2, ..., [num_class - 1].\n",
      "  warnings.warn(label_encoder_deprecation_msg, UserWarning)\n",
      "\n"
     ]
    },
    {
     "name": "stdout",
     "output_type": "stream",
     "text": [
      "[0]\tvalidation_0-auc:0.72020\tvalidation_1-auc:0.71237                           \n",
      "[263]\tvalidation_0-auc:0.86748\tvalidation_1-auc:0.76482                         \n",
      "==================================================                              \n",
      "XGBClassifier(base_score=0.7000000000000001, booster='gbtree',                  \n",
      "              colsample_bylevel=1, colsample_bynode=1,\n",
      "              colsample_bytree=0.9500000000000001, gamma=0, gpu_id=0,\n",
      "              importance_type='gain', interaction_constraints='',\n",
      "              learning_rate=0.09, max_delta_step=0, max_depth=6,\n",
      "              min_child_weight=1, missing=nan, monotone_constraints='()',\n",
      "              n_estimators=3000, n_jobs=4, num_parallel_tree=1,\n",
      "              objective='binary:logitraw', random_state=0, reg_alpha=0.0,\n",
      "              reg_lambda=0.0, scale_pos_weight=5.0, subsample=0.75,\n",
      "              tree_method='gpu_hist', validate_parameters=1, verbosity=None)\n",
      "train best     score:                                                           \n",
      "0.7656                                                                          \n",
      "test   roc_auc_score:                                                           \n",
      "0.7656                                                                          \n",
      "ok                                                                              \n",
      "==================================================                              \n",
      " 18%|█▊        | 9/50 [01:53<09:05, 13.30s/trial, best loss: 0.3023266336862782]"
     ]
    },
    {
     "name": "stderr",
     "output_type": "stream",
     "text": [
      "/home/lab10/.local/lib/python3.6/site-packages/xgboost/sklearn.py:1146: UserWarning: The use of label encoder in XGBClassifier is deprecated and will be removed in a future release. To remove this warning, do the following: 1) Pass option use_label_encoder=False when constructing XGBClassifier object; and 2) Encode your labels (y) as integers starting with 0, i.e. 0, 1, 2, ..., [num_class - 1].\n",
      "  warnings.warn(label_encoder_deprecation_msg, UserWarning)\n",
      "\n"
     ]
    },
    {
     "name": "stdout",
     "output_type": "stream",
     "text": [
      "[0]\tvalidation_0-auc:0.67870\tvalidation_1-auc:0.67488                           \n",
      "[378]\tvalidation_0-auc:0.82020\tvalidation_1-auc:0.76848                         \n",
      "==================================================                              \n",
      "XGBClassifier(base_score=0.8, booster='gbtree', colsample_bylevel=1,            \n",
      "              colsample_bynode=1, colsample_bytree=0.8, gamma=0, gpu_id=0,\n",
      "              importance_type='gain', interaction_constraints='',\n",
      "              learning_rate=0.06, max_delta_step=0, max_depth=6,\n",
      "              min_child_weight=1, missing=nan, monotone_constraints='()',\n",
      "              n_estimators=3000, n_jobs=4, num_parallel_tree=1, random_state=0,\n",
      "              reg_alpha=80.0, reg_lambda=5.0, scale_pos_weight=7.0,\n",
      "              subsample=0.75, tree_method='gpu_hist', validate_parameters=1,\n",
      "              verbosity=None)\n",
      "train best     score:                                                           \n",
      "0.7686                                                                          \n",
      "test   roc_auc_score:                                                           \n",
      "0.7686                                                                          \n",
      "ok                                                                              \n",
      "==================================================                              \n",
      " 20%|██        | 10/50 [02:07<09:00, 13.50s/trial, best loss: 0.3023266336862782]"
     ]
    },
    {
     "name": "stderr",
     "output_type": "stream",
     "text": [
      "/home/lab10/.local/lib/python3.6/site-packages/xgboost/sklearn.py:1146: UserWarning: The use of label encoder in XGBClassifier is deprecated and will be removed in a future release. To remove this warning, do the following: 1) Pass option use_label_encoder=False when constructing XGBClassifier object; and 2) Encode your labels (y) as integers starting with 0, i.e. 0, 1, 2, ..., [num_class - 1].\n",
      "  warnings.warn(label_encoder_deprecation_msg, UserWarning)\n",
      "\n"
     ]
    },
    {
     "name": "stdout",
     "output_type": "stream",
     "text": [
      "[0]\tvalidation_0-auc:0.68119\tvalidation_1-auc:0.67541                            \n",
      "[300]\tvalidation_0-auc:0.82256\tvalidation_1-auc:0.76837                          \n",
      "==================================================                               \n",
      "XGBClassifier(base_score=0.8, booster='gbtree', colsample_bylevel=1,             \n",
      "              colsample_bynode=1, colsample_bytree=0.75, gamma=0, gpu_id=0,\n",
      "              importance_type='gain', interaction_constraints='',\n",
      "              learning_rate=0.08, max_delta_step=0, max_depth=6,\n",
      "              min_child_weight=1, missing=nan, monotone_constraints='()',\n",
      "              n_estimators=3000, n_jobs=4, num_parallel_tree=1, random_state=0,\n",
      "              reg_alpha=100.0, reg_lambda=60.0, scale_pos_weight=11.0,\n",
      "              subsample=0.9500000000000001, tree_method='gpu_hist',\n",
      "              validate_parameters=1, verbosity=None)\n",
      "train best     score:                                                            \n",
      "0.7687                                                                           \n",
      "test   roc_auc_score:                                                            \n",
      "0.7687                                                                           \n",
      "ok                                                                               \n",
      "==================================================                               \n",
      " 22%|██▏       | 11/50 [02:18<08:23, 12.90s/trial, best loss: 0.3023266336862782]"
     ]
    },
    {
     "name": "stderr",
     "output_type": "stream",
     "text": [
      "/home/lab10/.local/lib/python3.6/site-packages/xgboost/sklearn.py:1146: UserWarning: The use of label encoder in XGBClassifier is deprecated and will be removed in a future release. To remove this warning, do the following: 1) Pass option use_label_encoder=False when constructing XGBClassifier object; and 2) Encode your labels (y) as integers starting with 0, i.e. 0, 1, 2, ..., [num_class - 1].\n",
      "  warnings.warn(label_encoder_deprecation_msg, UserWarning)\n",
      "\n"
     ]
    },
    {
     "name": "stdout",
     "output_type": "stream",
     "text": [
      "[0]\tvalidation_0-auc:0.69620\tvalidation_1-auc:0.68515                            \n",
      "[500]\tvalidation_0-auc:0.84636\tvalidation_1-auc:0.76878                          \n",
      "[533]\tvalidation_0-auc:0.84974\tvalidation_1-auc:0.76868                          \n",
      "==================================================                               \n",
      "XGBClassifier(base_score=0.6000000000000001, booster='gbtree',                   \n",
      "              colsample_bylevel=1, colsample_bynode=1, colsample_bytree=0.75,\n",
      "              gamma=0, gpu_id=0, importance_type='gain',\n",
      "              interaction_constraints='', learning_rate=0.04, max_delta_step=0,\n",
      "              max_depth=6, min_child_weight=1, missing=nan,\n",
      "              monotone_constraints='()', n_estimators=3000, n_jobs=4,\n",
      "              num_parallel_tree=1, random_state=0, reg_alpha=7.0,\n",
      "              reg_lambda=7.0, scale_pos_weight=8.0,\n",
      "              subsample=0.9500000000000001, tree_method='gpu_hist',\n",
      "              validate_parameters=1, verbosity=None)\n",
      "train best     score:                                                            \n",
      "0.7688                                                                           \n",
      "test   roc_auc_score:                                                            \n",
      "0.7688                                                                           \n",
      "ok                                                                               \n",
      "==================================================                               \n",
      " 24%|██▍       | 12/50 [02:37<09:16, 14.65s/trial, best loss: 0.3023266336862782]"
     ]
    },
    {
     "name": "stderr",
     "output_type": "stream",
     "text": [
      "/home/lab10/.local/lib/python3.6/site-packages/xgboost/sklearn.py:1146: UserWarning: The use of label encoder in XGBClassifier is deprecated and will be removed in a future release. To remove this warning, do the following: 1) Pass option use_label_encoder=False when constructing XGBClassifier object; and 2) Encode your labels (y) as integers starting with 0, i.e. 0, 1, 2, ..., [num_class - 1].\n",
      "  warnings.warn(label_encoder_deprecation_msg, UserWarning)\n",
      "\n"
     ]
    },
    {
     "name": "stdout",
     "output_type": "stream",
     "text": [
      "[0]\tvalidation_0-auc:0.69059\tvalidation_1-auc:0.68731                            \n",
      "[182]\tvalidation_0-auc:0.83424\tvalidation_1-auc:0.76407                          \n",
      "==================================================                               \n",
      "XGBClassifier(base_score=0.8, booster='gbtree', colsample_bylevel=1,             \n",
      "              colsample_bynode=1, colsample_bytree=1.0, gamma=0, gpu_id=0,\n",
      "              importance_type='gain', interaction_constraints='',\n",
      "              learning_rate=0.2, max_delta_step=0, max_depth=6,\n",
      "              min_child_weight=1, missing=nan, monotone_constraints='()',\n",
      "              n_estimators=3000, n_jobs=4, num_parallel_tree=1, random_state=0,\n",
      "              reg_alpha=100.0, reg_lambda=80.0, scale_pos_weight=8.0,\n",
      "              subsample=0.8, tree_method='gpu_hist', validate_parameters=1,\n",
      "              verbosity=None)\n",
      "train best     score:                                                            \n",
      "0.7654                                                                           \n",
      "test   roc_auc_score:                                                            \n",
      "0.7654                                                                           \n",
      "ok                                                                               \n",
      "==================================================                               \n",
      " 26%|██▌       | 13/50 [02:45<07:49, 12.70s/trial, best loss: 0.3023266336862782]"
     ]
    },
    {
     "name": "stderr",
     "output_type": "stream",
     "text": [
      "/home/lab10/.local/lib/python3.6/site-packages/xgboost/sklearn.py:1146: UserWarning: The use of label encoder in XGBClassifier is deprecated and will be removed in a future release. To remove this warning, do the following: 1) Pass option use_label_encoder=False when constructing XGBClassifier object; and 2) Encode your labels (y) as integers starting with 0, i.e. 0, 1, 2, ..., [num_class - 1].\n",
      "  warnings.warn(label_encoder_deprecation_msg, UserWarning)\n",
      "\n"
     ]
    },
    {
     "name": "stdout",
     "output_type": "stream",
     "text": [
      "[0]\tvalidation_0-auc:0.69621\tvalidation_1-auc:0.68204                            \n",
      "[118]\tvalidation_0-auc:0.84951\tvalidation_1-auc:0.76183                          \n",
      "==================================================                               \n",
      "XGBClassifier(base_score=0.7000000000000001, booster='gbtree',                   \n",
      "              colsample_bylevel=1, colsample_bynode=1, colsample_bytree=0.8,\n",
      "              gamma=0, gpu_id=0, importance_type='gain',\n",
      "              interaction_constraints='', learning_rate=0.19, max_delta_step=0,\n",
      "              max_depth=6, min_child_weight=1, missing=nan,\n",
      "              monotone_constraints='()', n_estimators=3000, n_jobs=4,\n",
      "              num_parallel_tree=1, objective='binary:logitraw', random_state=0,\n",
      "              reg_alpha=7.0, reg_lambda=7.0, scale_pos_weight=9.0,\n",
      "              subsample=0.8500000000000001, tree_method='gpu_hist',\n",
      "              validate_parameters=1, verbosity=None)\n",
      "train best     score:                                                            \n",
      "0.7632                                                                           \n",
      "test   roc_auc_score:                                                            \n",
      "0.7632                                                                           \n",
      "ok                                                                               \n",
      "==================================================                               \n",
      " 28%|██▊       | 14/50 [02:50<06:16, 10.46s/trial, best loss: 0.3023266336862782]"
     ]
    },
    {
     "name": "stderr",
     "output_type": "stream",
     "text": [
      "/home/lab10/.local/lib/python3.6/site-packages/xgboost/sklearn.py:1146: UserWarning: The use of label encoder in XGBClassifier is deprecated and will be removed in a future release. To remove this warning, do the following: 1) Pass option use_label_encoder=False when constructing XGBClassifier object; and 2) Encode your labels (y) as integers starting with 0, i.e. 0, 1, 2, ..., [num_class - 1].\n",
      "  warnings.warn(label_encoder_deprecation_msg, UserWarning)\n",
      "\n"
     ]
    },
    {
     "name": "stdout",
     "output_type": "stream",
     "text": [
      "[0]\tvalidation_0-auc:0.72045\tvalidation_1-auc:0.71325                            \n",
      "[142]\tvalidation_0-auc:0.85449\tvalidation_1-auc:0.76223                          \n",
      "==================================================                               \n",
      "XGBClassifier(base_score=0.5, booster='gbtree', colsample_bylevel=1,             \n",
      "              colsample_bynode=1, colsample_bytree=0.9500000000000001, gamma=0,\n",
      "              gpu_id=0, importance_type='gain', interaction_constraints='',\n",
      "              learning_rate=0.16, max_delta_step=0, max_depth=6,\n",
      "              min_child_weight=1, missing=nan, monotone_constraints='()',\n",
      "              n_estimators=3000, n_jobs=4, num_parallel_tree=1, random_state=0,\n",
      "              reg_alpha=10.0, reg_lambda=0.1, scale_pos_weight=11.0,\n",
      "              subsample=0.75, tree_method='gpu_hist', validate_parameters=1,\n",
      "              verbosity=None)\n",
      "train best     score:                                                            \n",
      "0.7645                                                                           \n",
      "test   roc_auc_score:                                                            \n",
      "0.7645                                                                           \n",
      "ok                                                                               \n",
      "==================================================                               \n",
      " 30%|███       | 15/50 [02:56<05:19,  9.12s/trial, best loss: 0.3023266336862782]"
     ]
    },
    {
     "name": "stderr",
     "output_type": "stream",
     "text": [
      "/home/lab10/.local/lib/python3.6/site-packages/xgboost/sklearn.py:1146: UserWarning: The use of label encoder in XGBClassifier is deprecated and will be removed in a future release. To remove this warning, do the following: 1) Pass option use_label_encoder=False when constructing XGBClassifier object; and 2) Encode your labels (y) as integers starting with 0, i.e. 0, 1, 2, ..., [num_class - 1].\n",
      "  warnings.warn(label_encoder_deprecation_msg, UserWarning)\n",
      "\n"
     ]
    },
    {
     "name": "stdout",
     "output_type": "stream",
     "text": [
      "[0]\tvalidation_0-auc:0.69343\tvalidation_1-auc:0.68367                            \n",
      "[242]\tvalidation_0-auc:0.85353\tvalidation_1-auc:0.76629                          \n",
      "==================================================                               \n",
      "XGBClassifier(base_score=0.5, booster='gbtree', colsample_bylevel=1,             \n",
      "              colsample_bynode=1, colsample_bytree=0.75, gamma=0, gpu_id=0,\n",
      "              importance_type='gain', interaction_constraints='',\n",
      "              learning_rate=0.15, max_delta_step=0, max_depth=6,\n",
      "              min_child_weight=1, missing=nan, monotone_constraints='()',\n",
      "              n_estimators=3000, n_jobs=4, num_parallel_tree=1, random_state=0,\n",
      "              reg_alpha=10.0, reg_lambda=100.0, scale_pos_weight=6.0,\n",
      "              subsample=0.75, tree_method='gpu_hist', validate_parameters=1,\n",
      "              verbosity=None)\n",
      "train best     score:                                                            \n",
      "0.7672                                                                           \n",
      "test   roc_auc_score:                                                            \n",
      "0.7672                                                                           \n",
      "ok                                                                               \n",
      "==================================================                               \n",
      " 32%|███▏      | 16/50 [03:06<05:13,  9.22s/trial, best loss: 0.3023266336862782]"
     ]
    },
    {
     "name": "stderr",
     "output_type": "stream",
     "text": [
      "/home/lab10/.local/lib/python3.6/site-packages/xgboost/sklearn.py:1146: UserWarning: The use of label encoder in XGBClassifier is deprecated and will be removed in a future release. To remove this warning, do the following: 1) Pass option use_label_encoder=False when constructing XGBClassifier object; and 2) Encode your labels (y) as integers starting with 0, i.e. 0, 1, 2, ..., [num_class - 1].\n",
      "  warnings.warn(label_encoder_deprecation_msg, UserWarning)\n",
      "\n"
     ]
    },
    {
     "name": "stdout",
     "output_type": "stream",
     "text": [
      "[0]\tvalidation_0-auc:0.69182\tvalidation_1-auc:0.68377                            \n",
      "[500]\tvalidation_0-auc:0.83285\tvalidation_1-auc:0.76936                          \n",
      "[522]\tvalidation_0-auc:0.83501\tvalidation_1-auc:0.76927                          \n",
      "==================================================                               \n",
      "XGBClassifier(base_score=0.7000000000000001, booster='gbtree',                   \n",
      "              colsample_bylevel=1, colsample_bynode=1,\n",
      "              colsample_bytree=0.8500000000000001, gamma=0, gpu_id=0,\n",
      "              importance_type='gain', interaction_constraints='',\n",
      "              learning_rate=0.04, max_delta_step=0, max_depth=6,\n",
      "              min_child_weight=1, missing=nan, monotone_constraints='()',\n",
      "              n_estimators=3000, n_jobs=4, num_parallel_tree=1,\n",
      "              objective='binary:logitraw', random_state=0, reg_alpha=40.0,\n",
      "              reg_lambda=7.0, scale_pos_weight=9.0,\n",
      "              subsample=0.8500000000000001, tree_method='gpu_hist',\n",
      "              validate_parameters=1, verbosity=None)\n",
      "train best     score:                                                            \n",
      "0.7694                                                                           \n",
      "test   roc_auc_score:                                                            \n",
      "0.7694                                                                           \n",
      "ok                                                                               \n",
      "==================================================                               \n",
      " 34%|███▍      | 17/50 [03:24<06:36, 12.03s/trial, best loss: 0.3023266336862782]"
     ]
    },
    {
     "name": "stderr",
     "output_type": "stream",
     "text": [
      "/home/lab10/.local/lib/python3.6/site-packages/xgboost/sklearn.py:1146: UserWarning: The use of label encoder in XGBClassifier is deprecated and will be removed in a future release. To remove this warning, do the following: 1) Pass option use_label_encoder=False when constructing XGBClassifier object; and 2) Encode your labels (y) as integers starting with 0, i.e. 0, 1, 2, ..., [num_class - 1].\n",
      "  warnings.warn(label_encoder_deprecation_msg, UserWarning)\n",
      "\n"
     ]
    },
    {
     "name": "stdout",
     "output_type": "stream",
     "text": [
      "[0]\tvalidation_0-auc:0.64915\tvalidation_1-auc:0.64388                            \n",
      "[167]\tvalidation_0-auc:0.82245\tvalidation_1-auc:0.76510                          \n",
      "==================================================                               \n",
      "XGBClassifier(base_score=0.8, booster='gbtree', colsample_bylevel=1,             \n",
      "              colsample_bynode=1, colsample_bytree=0.7000000000000001, gamma=0,\n",
      "              gpu_id=0, importance_type='gain', interaction_constraints='',\n",
      "              learning_rate=0.19, max_delta_step=0, max_depth=6,\n",
      "              min_child_weight=1, missing=nan, monotone_constraints='()',\n",
      "              n_estimators=3000, n_jobs=4, num_parallel_tree=1,\n",
      "              objective='binary:logitraw', random_state=0, reg_alpha=110.0,\n",
      "              reg_lambda=60.0, scale_pos_weight=10.0,\n",
      "              subsample=0.7000000000000001, tree_method='gpu_hist',\n",
      "              validate_parameters=1, verbosity=None)\n",
      "train best     score:                                                            \n",
      "0.7662                                                                           \n",
      "test   roc_auc_score:                                                            \n",
      "0.7662                                                                           \n",
      "ok                                                                               \n",
      "==================================================                               \n",
      " 36%|███▌      | 18/50 [03:32<05:38, 10.58s/trial, best loss: 0.3023266336862782]"
     ]
    },
    {
     "name": "stderr",
     "output_type": "stream",
     "text": [
      "/home/lab10/.local/lib/python3.6/site-packages/xgboost/sklearn.py:1146: UserWarning: The use of label encoder in XGBClassifier is deprecated and will be removed in a future release. To remove this warning, do the following: 1) Pass option use_label_encoder=False when constructing XGBClassifier object; and 2) Encode your labels (y) as integers starting with 0, i.e. 0, 1, 2, ..., [num_class - 1].\n",
      "  warnings.warn(label_encoder_deprecation_msg, UserWarning)\n",
      "\n"
     ]
    },
    {
     "name": "stdout",
     "output_type": "stream",
     "text": [
      "[0]\tvalidation_0-auc:0.68111\tvalidation_1-auc:0.67534                            \n",
      "[414]\tvalidation_0-auc:0.82439\tvalidation_1-auc:0.76840                          \n",
      "==================================================                               \n",
      "XGBClassifier(base_score=0.7000000000000001, booster='gbtree',                   \n",
      "              colsample_bylevel=1, colsample_bynode=1, colsample_bytree=0.9,\n",
      "              gamma=0, gpu_id=0, importance_type='gain',\n",
      "              interaction_constraints='', learning_rate=0.07, max_delta_step=0,\n",
      "              max_depth=6, min_child_weight=1, missing=nan,\n",
      "              monotone_constraints='()', n_estimators=3000, n_jobs=4,\n",
      "              num_parallel_tree=1, objective='binary:logitraw', random_state=0,\n",
      "              reg_alpha=90.0, reg_lambda=40.0, scale_pos_weight=6.0,\n",
      "              subsample=0.9, tree_method='gpu_hist', validate_parameters=1,\n",
      "              verbosity=None)\n",
      "train best     score:                                                            \n",
      "0.7686                                                                           \n",
      "test   roc_auc_score:                                                            \n",
      "0.7686                                                                           \n",
      "ok                                                                               \n",
      "==================================================                               \n",
      " 38%|███▊      | 19/50 [03:48<06:18, 12.21s/trial, best loss: 0.3023266336862782]"
     ]
    },
    {
     "name": "stderr",
     "output_type": "stream",
     "text": [
      "/home/lab10/.local/lib/python3.6/site-packages/xgboost/sklearn.py:1146: UserWarning: The use of label encoder in XGBClassifier is deprecated and will be removed in a future release. To remove this warning, do the following: 1) Pass option use_label_encoder=False when constructing XGBClassifier object; and 2) Encode your labels (y) as integers starting with 0, i.e. 0, 1, 2, ..., [num_class - 1].\n",
      "  warnings.warn(label_encoder_deprecation_msg, UserWarning)\n",
      "\n"
     ]
    },
    {
     "name": "stdout",
     "output_type": "stream",
     "text": [
      "[0]\tvalidation_0-auc:0.69850\tvalidation_1-auc:0.69633                            \n",
      "[500]\tvalidation_0-auc:0.80203\tvalidation_1-auc:0.76724                          \n",
      "[1000]\tvalidation_0-auc:0.82684\tvalidation_1-auc:0.76983                         \n",
      "[1027]\tvalidation_0-auc:0.82811\tvalidation_1-auc:0.76989                         \n",
      "==================================================                               \n",
      "XGBClassifier(base_score=0.7000000000000001, booster='gbtree',                   \n",
      "              colsample_bylevel=1, colsample_bynode=1, colsample_bytree=1.0,\n",
      "              gamma=0, gpu_id=0, importance_type='gain',\n",
      "              interaction_constraints='', learning_rate=0.02, max_delta_step=0,\n",
      "              max_depth=6, min_child_weight=1, missing=nan,\n",
      "              monotone_constraints='()', n_estimators=3000, n_jobs=4,\n",
      "              num_parallel_tree=1, random_state=0, reg_alpha=20.0,\n",
      "              reg_lambda=100.0, scale_pos_weight=6.0, subsample=0.75,\n",
      "              tree_method='gpu_hist', validate_parameters=1, verbosity=None)\n",
      "train best     score:                                                            \n",
      "0.7699                                                                           \n",
      "test   roc_auc_score:                                                            \n",
      "0.7699                                                                           \n",
      "ok                                                                               \n",
      "==================================================                               \n",
      " 40%|████      | 20/50 [04:24<09:42, 19.41s/trial, best loss: 0.3023266336862782]"
     ]
    },
    {
     "name": "stderr",
     "output_type": "stream",
     "text": [
      "/home/lab10/.local/lib/python3.6/site-packages/xgboost/sklearn.py:1146: UserWarning: The use of label encoder in XGBClassifier is deprecated and will be removed in a future release. To remove this warning, do the following: 1) Pass option use_label_encoder=False when constructing XGBClassifier object; and 2) Encode your labels (y) as integers starting with 0, i.e. 0, 1, 2, ..., [num_class - 1].\n",
      "  warnings.warn(label_encoder_deprecation_msg, UserWarning)\n",
      "\n"
     ]
    },
    {
     "name": "stdout",
     "output_type": "stream",
     "text": [
      "[0]\tvalidation_0-auc:0.69223\tvalidation_1-auc:0.68247                            \n",
      "[256]\tvalidation_0-auc:0.82350\tvalidation_1-auc:0.76787                          \n",
      "==================================================                               \n",
      "XGBClassifier(base_score=0.6000000000000001, booster='gbtree',                   \n",
      "              colsample_bylevel=1, colsample_bynode=1, colsample_bytree=0.9,\n",
      "              gamma=0, gpu_id=0, importance_type='gain',\n",
      "              interaction_constraints='', learning_rate=0.1, max_delta_step=0,\n",
      "              max_depth=6, min_child_weight=1, missing=nan,\n",
      "              monotone_constraints='()', n_estimators=3000, n_jobs=4,\n",
      "              num_parallel_tree=1, random_state=0, reg_alpha=110.0,\n",
      "              reg_lambda=90.0, scale_pos_weight=12.0, subsample=1.0,\n",
      "              tree_method='gpu_hist', validate_parameters=1, verbosity=None)\n",
      "train best     score:                                                            \n",
      "0.7679                                                                           \n",
      "test   roc_auc_score:                                                            \n",
      "0.7679                                                                           \n",
      "ok                                                                               \n",
      "==================================================                               \n",
      " 42%|████▏     | 21/50 [04:35<08:06, 16.79s/trial, best loss: 0.3004904644407136]"
     ]
    },
    {
     "name": "stderr",
     "output_type": "stream",
     "text": [
      "/home/lab10/.local/lib/python3.6/site-packages/xgboost/sklearn.py:1146: UserWarning: The use of label encoder in XGBClassifier is deprecated and will be removed in a future release. To remove this warning, do the following: 1) Pass option use_label_encoder=False when constructing XGBClassifier object; and 2) Encode your labels (y) as integers starting with 0, i.e. 0, 1, 2, ..., [num_class - 1].\n",
      "  warnings.warn(label_encoder_deprecation_msg, UserWarning)\n",
      "\n"
     ]
    },
    {
     "name": "stdout",
     "output_type": "stream",
     "text": [
      "[0]\tvalidation_0-auc:0.69223\tvalidation_1-auc:0.68247                            \n",
      "[243]\tvalidation_0-auc:0.82577\tvalidation_1-auc:0.76796                          \n",
      "==================================================                               \n",
      "XGBClassifier(base_score=0.6000000000000001, booster='gbtree',                   \n",
      "              colsample_bylevel=1, colsample_bynode=1, colsample_bytree=0.9,\n",
      "              gamma=0, gpu_id=0, importance_type='gain',\n",
      "              interaction_constraints='', learning_rate=0.11, max_delta_step=0,\n",
      "              max_depth=6, min_child_weight=1, missing=nan,\n",
      "              monotone_constraints='()', n_estimators=3000, n_jobs=4,\n",
      "              num_parallel_tree=1, random_state=0, reg_alpha=110.0,\n",
      "              reg_lambda=90.0, scale_pos_weight=12.0, subsample=1.0,\n",
      "              tree_method='gpu_hist', validate_parameters=1, verbosity=None)\n",
      "train best     score:                                                            \n",
      "0.7682                                                                           \n",
      "test   roc_auc_score:                                                            \n",
      "0.7682                                                                           \n",
      "ok                                                                               \n",
      "==================================================                               \n",
      " 44%|████▍     | 22/50 [04:44<06:48, 14.57s/trial, best loss: 0.298387281071425] "
     ]
    },
    {
     "name": "stderr",
     "output_type": "stream",
     "text": [
      "/home/lab10/.local/lib/python3.6/site-packages/xgboost/sklearn.py:1146: UserWarning: The use of label encoder in XGBClassifier is deprecated and will be removed in a future release. To remove this warning, do the following: 1) Pass option use_label_encoder=False when constructing XGBClassifier object; and 2) Encode your labels (y) as integers starting with 0, i.e. 0, 1, 2, ..., [num_class - 1].\n",
      "  warnings.warn(label_encoder_deprecation_msg, UserWarning)\n",
      "\n"
     ]
    },
    {
     "name": "stdout",
     "output_type": "stream",
     "text": [
      "[0]\tvalidation_0-auc:0.69223\tvalidation_1-auc:0.68247                           \n",
      "[257]\tvalidation_0-auc:0.82366\tvalidation_1-auc:0.76787                         \n",
      "==================================================                              \n",
      "XGBClassifier(base_score=0.6000000000000001, booster='gbtree',                  \n",
      "              colsample_bylevel=1, colsample_bynode=1, colsample_bytree=0.9,\n",
      "              gamma=0, gpu_id=0, importance_type='gain',\n",
      "              interaction_constraints='', learning_rate=0.1, max_delta_step=0,\n",
      "              max_depth=6, min_child_weight=1, missing=nan,\n",
      "              monotone_constraints='()', n_estimators=3000, n_jobs=4,\n",
      "              num_parallel_tree=1, random_state=0, reg_alpha=110.0,\n",
      "              reg_lambda=90.0, scale_pos_weight=12.0, subsample=1.0,\n",
      "              tree_method='gpu_hist', validate_parameters=1, verbosity=None)\n",
      "train best     score:                                                           \n",
      "0.7679                                                                          \n",
      "test   roc_auc_score:                                                           \n",
      "0.7679                                                                          \n",
      "ok                                                                              \n",
      "==================================================                              \n",
      " 46%|████▌     | 23/50 [04:54<05:57, 13.23s/trial, best loss: 0.298387281071425]"
     ]
    },
    {
     "name": "stderr",
     "output_type": "stream",
     "text": [
      "/home/lab10/.local/lib/python3.6/site-packages/xgboost/sklearn.py:1146: UserWarning: The use of label encoder in XGBClassifier is deprecated and will be removed in a future release. To remove this warning, do the following: 1) Pass option use_label_encoder=False when constructing XGBClassifier object; and 2) Encode your labels (y) as integers starting with 0, i.e. 0, 1, 2, ..., [num_class - 1].\n",
      "  warnings.warn(label_encoder_deprecation_msg, UserWarning)\n",
      "\n"
     ]
    },
    {
     "name": "stdout",
     "output_type": "stream",
     "text": [
      "[0]\tvalidation_0-auc:0.69708\tvalidation_1-auc:0.68336                           \n",
      "[230]\tvalidation_0-auc:0.84100\tvalidation_1-auc:0.76622                         \n",
      "==================================================                              \n",
      "XGBClassifier(base_score=0.6000000000000001, booster='gbtree',                  \n",
      "              colsample_bylevel=1, colsample_bynode=1, colsample_bytree=0.9,\n",
      "              gamma=0, gpu_id=0, importance_type='gain',\n",
      "              interaction_constraints='', learning_rate=0.11, max_delta_step=0,\n",
      "              max_depth=6, min_child_weight=1, missing=nan,\n",
      "              monotone_constraints='()', n_estimators=3000, n_jobs=4,\n",
      "              num_parallel_tree=1, random_state=0, reg_alpha=5.0,\n",
      "              reg_lambda=90.0, scale_pos_weight=12.0, subsample=1.0,\n",
      "              tree_method='gpu_hist', validate_parameters=1, verbosity=None)\n",
      "train best     score:                                                           \n",
      "0.7663                                                                          \n",
      "test   roc_auc_score:                                                           \n",
      "0.7663                                                                          \n",
      "ok                                                                              \n",
      "==================================================                              \n",
      " 48%|████▊     | 24/50 [05:02<05:06, 11.77s/trial, best loss: 0.298387281071425]"
     ]
    },
    {
     "name": "stderr",
     "output_type": "stream",
     "text": [
      "/home/lab10/.local/lib/python3.6/site-packages/xgboost/sklearn.py:1146: UserWarning: The use of label encoder in XGBClassifier is deprecated and will be removed in a future release. To remove this warning, do the following: 1) Pass option use_label_encoder=False when constructing XGBClassifier object; and 2) Encode your labels (y) as integers starting with 0, i.e. 0, 1, 2, ..., [num_class - 1].\n",
      "  warnings.warn(label_encoder_deprecation_msg, UserWarning)\n",
      "\n"
     ]
    },
    {
     "name": "stdout",
     "output_type": "stream",
     "text": [
      "[0]\tvalidation_0-auc:0.69708\tvalidation_1-auc:0.68336                           \n",
      "[285]\tvalidation_0-auc:0.85740\tvalidation_1-auc:0.76611                         \n",
      "==================================================                              \n",
      "XGBClassifier(base_score=0.6000000000000001, booster='gbtree',                  \n",
      "              colsample_bylevel=1, colsample_bynode=1, colsample_bytree=0.9,\n",
      "              gamma=0, gpu_id=0, importance_type='gain',\n",
      "              interaction_constraints='', learning_rate=0.12, max_delta_step=0,\n",
      "              max_depth=6, min_child_weight=1, missing=nan,\n",
      "              monotone_constraints='()', n_estimators=3000, n_jobs=4,\n",
      "              num_parallel_tree=1, random_state=0, reg_alpha=5.0,\n",
      "              reg_lambda=90.0, scale_pos_weight=12.0, subsample=1.0,\n",
      "              tree_method='gpu_hist', validate_parameters=1, verbosity=None)\n",
      "train best     score:                                                           \n",
      "0.7667                                                                          \n",
      "test   roc_auc_score:                                                           \n",
      "0.7667                                                                          \n",
      "ok                                                                              \n",
      "==================================================                              \n",
      " 50%|█████     | 25/50 [05:14<04:49, 11.58s/trial, best loss: 0.298387281071425]"
     ]
    },
    {
     "name": "stderr",
     "output_type": "stream",
     "text": [
      "/home/lab10/.local/lib/python3.6/site-packages/xgboost/sklearn.py:1146: UserWarning: The use of label encoder in XGBClassifier is deprecated and will be removed in a future release. To remove this warning, do the following: 1) Pass option use_label_encoder=False when constructing XGBClassifier object; and 2) Encode your labels (y) as integers starting with 0, i.e. 0, 1, 2, ..., [num_class - 1].\n",
      "  warnings.warn(label_encoder_deprecation_msg, UserWarning)\n",
      "\n"
     ]
    },
    {
     "name": "stdout",
     "output_type": "stream",
     "text": [
      "[0]\tvalidation_0-auc:0.69560\tvalidation_1-auc:0.68205                           \n",
      "[215]\tvalidation_0-auc:0.85252\tvalidation_1-auc:0.76626                         \n",
      "==================================================                              \n",
      "XGBClassifier(base_score=0.6000000000000001, booster='gbtree',                  \n",
      "              colsample_bylevel=1, colsample_bynode=1, colsample_bytree=0.9,\n",
      "              gamma=0, gpu_id=0, importance_type='gain',\n",
      "              interaction_constraints='', learning_rate=0.11, max_delta_step=0,\n",
      "              max_depth=6, min_child_weight=1, missing=nan,\n",
      "              monotone_constraints='()', n_estimators=3000, n_jobs=4,\n",
      "              num_parallel_tree=1, random_state=0, reg_alpha=5.0,\n",
      "              reg_lambda=20.0, scale_pos_weight=10.0, subsample=0.9,\n",
      "              tree_method='gpu_hist', validate_parameters=1, verbosity=None)\n",
      "train best     score:                                                           \n",
      "0.7671                                                                          \n",
      "test   roc_auc_score:                                                           \n",
      "0.7671                                                                          \n",
      "ok                                                                              \n",
      "==================================================                              \n",
      " 52%|█████▏    | 26/50 [05:22<04:15, 10.63s/trial, best loss: 0.298387281071425]"
     ]
    },
    {
     "name": "stderr",
     "output_type": "stream",
     "text": [
      "/home/lab10/.local/lib/python3.6/site-packages/xgboost/sklearn.py:1146: UserWarning: The use of label encoder in XGBClassifier is deprecated and will be removed in a future release. To remove this warning, do the following: 1) Pass option use_label_encoder=False when constructing XGBClassifier object; and 2) Encode your labels (y) as integers starting with 0, i.e. 0, 1, 2, ..., [num_class - 1].\n",
      "  warnings.warn(label_encoder_deprecation_msg, UserWarning)\n",
      "\n"
     ]
    },
    {
     "name": "stdout",
     "output_type": "stream",
     "text": [
      "[0]\tvalidation_0-auc:0.72193\tvalidation_1-auc:0.71283                           \n",
      "[269]\tvalidation_0-auc:0.85775\tvalidation_1-auc:0.76584                         \n",
      "==================================================                              \n",
      "XGBClassifier(base_score=0.5, booster='gbtree', colsample_bylevel=1,            \n",
      "              colsample_bynode=1, colsample_bytree=1.0, gamma=0, gpu_id=0,\n",
      "              importance_type='gain', interaction_constraints='',\n",
      "              learning_rate=0.08, max_delta_step=0, max_depth=6,\n",
      "              min_child_weight=1, missing=nan, monotone_constraints='()',\n",
      "              n_estimators=3000, n_jobs=4, num_parallel_tree=1, random_state=0,\n",
      "              reg_alpha=5.0, reg_lambda=3.0, scale_pos_weight=10.0,\n",
      "              subsample=0.9, tree_method='gpu_hist', validate_parameters=1,\n",
      "              verbosity=None)\n",
      "train best     score:                                                           \n",
      "0.7669                                                                          \n",
      "test   roc_auc_score:                                                           \n",
      "0.7669                                                                          \n",
      "ok                                                                              \n",
      "==================================================                              \n",
      " 54%|█████▍    | 27/50 [05:32<04:02, 10.56s/trial, best loss: 0.298387281071425]"
     ]
    },
    {
     "name": "stderr",
     "output_type": "stream",
     "text": [
      "/home/lab10/.local/lib/python3.6/site-packages/xgboost/sklearn.py:1146: UserWarning: The use of label encoder in XGBClassifier is deprecated and will be removed in a future release. To remove this warning, do the following: 1) Pass option use_label_encoder=False when constructing XGBClassifier object; and 2) Encode your labels (y) as integers starting with 0, i.e. 0, 1, 2, ..., [num_class - 1].\n",
      "  warnings.warn(label_encoder_deprecation_msg, UserWarning)\n",
      "\n"
     ]
    },
    {
     "name": "stdout",
     "output_type": "stream",
     "text": [
      "[0]\tvalidation_0-auc:0.71881\tvalidation_1-auc:0.70936                           \n",
      "[209]\tvalidation_0-auc:0.83681\tvalidation_1-auc:0.76630                         \n",
      "==================================================                              \n",
      "XGBClassifier(base_score=0.6000000000000001, booster='gbtree',                  \n",
      "              colsample_bylevel=1, colsample_bynode=1,\n",
      "              colsample_bytree=0.9500000000000001, gamma=0, gpu_id=0,\n",
      "              importance_type='gain', interaction_constraints='',\n",
      "              learning_rate=0.11, max_delta_step=0, max_depth=6,\n",
      "              min_child_weight=1, missing=nan, monotone_constraints='()',\n",
      "              n_estimators=3000, n_jobs=4, num_parallel_tree=1, random_state=0,\n",
      "              reg_alpha=5.0, reg_lambda=110.0, scale_pos_weight=12.0,\n",
      "              subsample=0.9500000000000001, tree_method='gpu_hist',\n",
      "              validate_parameters=1, verbosity=None)\n",
      "train best     score:                                                           \n",
      "0.7669                                                                          \n",
      "test   roc_auc_score:                                                           \n",
      "0.7669                                                                          \n",
      "ok                                                                              \n",
      "==================================================                              \n",
      " 56%|█████▌    | 28/50 [05:41<03:39,  9.97s/trial, best loss: 0.298387281071425]"
     ]
    },
    {
     "name": "stderr",
     "output_type": "stream",
     "text": [
      "/home/lab10/.local/lib/python3.6/site-packages/xgboost/sklearn.py:1146: UserWarning: The use of label encoder in XGBClassifier is deprecated and will be removed in a future release. To remove this warning, do the following: 1) Pass option use_label_encoder=False when constructing XGBClassifier object; and 2) Encode your labels (y) as integers starting with 0, i.e. 0, 1, 2, ..., [num_class - 1].\n",
      "  warnings.warn(label_encoder_deprecation_msg, UserWarning)\n",
      "\n"
     ]
    },
    {
     "name": "stdout",
     "output_type": "stream",
     "text": [
      "[0]\tvalidation_0-auc:0.69520\tvalidation_1-auc:0.68361                           \n",
      "[171]\tvalidation_0-auc:0.83049\tvalidation_1-auc:0.76651                         \n",
      "==================================================                              \n",
      "XGBClassifier(base_score=0.5, booster='gbtree', colsample_bylevel=1,            \n",
      "              colsample_bynode=1, colsample_bytree=0.8500000000000001, gamma=0,\n",
      "              gpu_id=0, importance_type='gain', interaction_constraints='',\n",
      "              learning_rate=0.17, max_delta_step=0, max_depth=6,\n",
      "              min_child_weight=1, missing=nan, monotone_constraints='()',\n",
      "              n_estimators=3000, n_jobs=4, num_parallel_tree=1, random_state=0,\n",
      "              reg_alpha=90.0, reg_lambda=90.0, scale_pos_weight=11.0,\n",
      "              subsample=1.0, tree_method='gpu_hist', validate_parameters=1,\n",
      "              verbosity=None)\n",
      "train best     score:                                                           \n",
      "0.7670                                                                          \n",
      "test   roc_auc_score:                                                           \n",
      "0.7670                                                                          \n",
      "ok                                                                              \n",
      "==================================================                              \n",
      " 58%|█████▊    | 29/50 [05:48<03:12,  9.17s/trial, best loss: 0.298387281071425]"
     ]
    },
    {
     "name": "stderr",
     "output_type": "stream",
     "text": [
      "/home/lab10/.local/lib/python3.6/site-packages/xgboost/sklearn.py:1146: UserWarning: The use of label encoder in XGBClassifier is deprecated and will be removed in a future release. To remove this warning, do the following: 1) Pass option use_label_encoder=False when constructing XGBClassifier object; and 2) Encode your labels (y) as integers starting with 0, i.e. 0, 1, 2, ..., [num_class - 1].\n",
      "  warnings.warn(label_encoder_deprecation_msg, UserWarning)\n",
      "\n"
     ]
    },
    {
     "name": "stdout",
     "output_type": "stream",
     "text": [
      "[0]\tvalidation_0-auc:0.68989\tvalidation_1-auc:0.68155                           \n",
      "[217]\tvalidation_0-auc:0.83442\tvalidation_1-auc:0.76679                         \n",
      "==================================================                              \n",
      "XGBClassifier(base_score=0.6000000000000001, booster='gbtree',                  \n",
      "              colsample_bylevel=1, colsample_bynode=1, colsample_bytree=0.9,\n",
      "              gamma=0, gpu_id=0, importance_type='gain',\n",
      "              interaction_constraints='', learning_rate=0.14, max_delta_step=0,\n",
      "              max_depth=6, min_child_weight=1, missing=nan,\n",
      "              monotone_constraints='()', n_estimators=3000, n_jobs=4,\n",
      "              num_parallel_tree=1, random_state=0, reg_alpha=80.0,\n",
      "              reg_lambda=90.0, scale_pos_weight=10.0,\n",
      "              subsample=0.9500000000000001, tree_method='gpu_hist',\n",
      "              validate_parameters=1, verbosity=None)\n",
      "train best     score:                                                           \n",
      "0.7671                                                                          \n",
      "test   roc_auc_score:                                                           \n",
      "0.7671                                                                          \n",
      "ok                                                                              \n",
      "==================================================                              \n",
      " 60%|██████    | 30/50 [05:58<03:03,  9.19s/trial, best loss: 0.298387281071425]"
     ]
    },
    {
     "name": "stderr",
     "output_type": "stream",
     "text": [
      "/home/lab10/.local/lib/python3.6/site-packages/xgboost/sklearn.py:1146: UserWarning: The use of label encoder in XGBClassifier is deprecated and will be removed in a future release. To remove this warning, do the following: 1) Pass option use_label_encoder=False when constructing XGBClassifier object; and 2) Encode your labels (y) as integers starting with 0, i.e. 0, 1, 2, ..., [num_class - 1].\n",
      "  warnings.warn(label_encoder_deprecation_msg, UserWarning)\n",
      "\n"
     ]
    },
    {
     "name": "stdout",
     "output_type": "stream",
     "text": [
      "[0]\tvalidation_0-auc:0.71976\tvalidation_1-auc:0.71347                           \n",
      "[129]\tvalidation_0-auc:0.85096\tvalidation_1-auc:0.76206                         \n",
      "==================================================                              \n",
      "XGBClassifier(base_score=0.6000000000000001, booster='gbtree',                  \n",
      "              colsample_bylevel=1, colsample_bynode=1,\n",
      "              colsample_bytree=0.9500000000000001, gamma=0, gpu_id=0,\n",
      "              importance_type='gain', interaction_constraints='',\n",
      "              learning_rate=0.17, max_delta_step=0, max_depth=6,\n",
      "              min_child_weight=1, missing=nan, monotone_constraints='()',\n",
      "              n_estimators=3000, n_jobs=4, num_parallel_tree=1, random_state=0,\n",
      "              reg_alpha=0.1, reg_lambda=10.0, scale_pos_weight=12.0,\n",
      "              subsample=1.0, tree_method='gpu_hist', validate_parameters=1,\n",
      "              verbosity=None)\n",
      "train best     score:                                                           \n",
      "0.7637                                                                          \n",
      "test   roc_auc_score:                                                           \n",
      "0.7637                                                                          \n",
      "ok                                                                              \n",
      "==================================================                              \n",
      " 62%|██████▏   | 31/50 [06:04<02:37,  8.27s/trial, best loss: 0.298387281071425]"
     ]
    },
    {
     "name": "stderr",
     "output_type": "stream",
     "text": [
      "/home/lab10/.local/lib/python3.6/site-packages/xgboost/sklearn.py:1146: UserWarning: The use of label encoder in XGBClassifier is deprecated and will be removed in a future release. To remove this warning, do the following: 1) Pass option use_label_encoder=False when constructing XGBClassifier object; and 2) Encode your labels (y) as integers starting with 0, i.e. 0, 1, 2, ..., [num_class - 1].\n",
      "  warnings.warn(label_encoder_deprecation_msg, UserWarning)\n",
      "\n"
     ]
    },
    {
     "name": "stdout",
     "output_type": "stream",
     "text": [
      "[0]\tvalidation_0-auc:0.69446\tvalidation_1-auc:0.68107                           \n",
      "[211]\tvalidation_0-auc:0.84804\tvalidation_1-auc:0.76645                         \n",
      "==================================================                              \n",
      "XGBClassifier(base_score=0.5, booster='gbtree', colsample_bylevel=1,            \n",
      "              colsample_bynode=1, colsample_bytree=0.8500000000000001, gamma=0,\n",
      "              gpu_id=0, importance_type='gain', interaction_constraints='',\n",
      "              learning_rate=0.13, max_delta_step=0, max_depth=6,\n",
      "              min_child_weight=1, missing=nan, monotone_constraints='()',\n",
      "              n_estimators=3000, n_jobs=4, num_parallel_tree=1, random_state=0,\n",
      "              reg_alpha=0.0, reg_lambda=90.0, scale_pos_weight=11.0,\n",
      "              subsample=0.9, tree_method='gpu_hist', validate_parameters=1,\n",
      "              verbosity=None)\n",
      "train best     score:                                                           \n",
      "0.7675                                                                          \n",
      "test   roc_auc_score:                                                           \n",
      "0.7675                                                                          \n",
      "ok                                                                              \n",
      "==================================================                              \n",
      " 64%|██████▍   | 32/50 [06:13<02:32,  8.47s/trial, best loss: 0.298387281071425]"
     ]
    },
    {
     "name": "stderr",
     "output_type": "stream",
     "text": [
      "/home/lab10/.local/lib/python3.6/site-packages/xgboost/sklearn.py:1146: UserWarning: The use of label encoder in XGBClassifier is deprecated and will be removed in a future release. To remove this warning, do the following: 1) Pass option use_label_encoder=False when constructing XGBClassifier object; and 2) Encode your labels (y) as integers starting with 0, i.e. 0, 1, 2, ..., [num_class - 1].\n",
      "  warnings.warn(label_encoder_deprecation_msg, UserWarning)\n",
      "\n"
     ]
    },
    {
     "name": "stdout",
     "output_type": "stream",
     "text": [
      "[0]\tvalidation_0-auc:0.69451\tvalidation_1-auc:0.68351                           \n",
      "[300]\tvalidation_0-auc:0.84121\tvalidation_1-auc:0.76820                         \n",
      "==================================================                              \n",
      "XGBClassifier(base_score=0.6000000000000001, booster='gbtree',                  \n",
      "              colsample_bylevel=1, colsample_bynode=1, colsample_bytree=0.9,\n",
      "              gamma=0, gpu_id=0, importance_type='gain',\n",
      "              interaction_constraints='', learning_rate=0.09, max_delta_step=0,\n",
      "              max_depth=6, min_child_weight=1, missing=nan,\n",
      "              monotone_constraints='()', n_estimators=3000, n_jobs=4,\n",
      "              num_parallel_tree=1, random_state=0, reg_alpha=40.0,\n",
      "              reg_lambda=80.0, scale_pos_weight=12.0,\n",
      "              subsample=0.9500000000000001, tree_method='gpu_hist',\n",
      "              validate_parameters=1, verbosity=None)\n",
      "train best     score:                                                           \n",
      "0.7684                                                                          \n",
      "test   roc_auc_score:                                                           \n",
      "0.7684                                                                          \n",
      "ok                                                                              \n",
      "==================================================                              \n",
      " 66%|██████▌   | 33/50 [06:24<02:40,  9.42s/trial, best loss: 0.298387281071425]"
     ]
    },
    {
     "name": "stderr",
     "output_type": "stream",
     "text": [
      "/home/lab10/.local/lib/python3.6/site-packages/xgboost/sklearn.py:1146: UserWarning: The use of label encoder in XGBClassifier is deprecated and will be removed in a future release. To remove this warning, do the following: 1) Pass option use_label_encoder=False when constructing XGBClassifier object; and 2) Encode your labels (y) as integers starting with 0, i.e. 0, 1, 2, ..., [num_class - 1].\n",
      "  warnings.warn(label_encoder_deprecation_msg, UserWarning)\n",
      "\n"
     ]
    },
    {
     "name": "stdout",
     "output_type": "stream",
     "text": [
      "[0]\tvalidation_0-auc:0.69655\tvalidation_1-auc:0.68108                           \n",
      "[157]\tvalidation_0-auc:0.84848\tvalidation_1-auc:0.76510                         \n",
      "==================================================                              \n",
      "XGBClassifier(base_score=0.5, booster='gbtree', colsample_bylevel=1,            \n",
      "              colsample_bynode=1, colsample_bytree=0.8500000000000001, gamma=0,\n",
      "              gpu_id=0, importance_type='gain', interaction_constraints='',\n",
      "              learning_rate=0.13, max_delta_step=0, max_depth=6,\n",
      "              min_child_weight=1, missing=nan, monotone_constraints='()',\n",
      "              n_estimators=3000, n_jobs=4, num_parallel_tree=1, random_state=0,\n",
      "              reg_alpha=3.0, reg_lambda=3.0, scale_pos_weight=11.0,\n",
      "              subsample=1.0, tree_method='gpu_hist', validate_parameters=1,\n",
      "              verbosity=None)\n",
      "train best     score:                                                           \n",
      "0.7657                                                                          \n",
      "test   roc_auc_score:                                                           \n",
      "0.7657                                                                          \n",
      "ok                                                                              \n",
      "==================================================                              \n",
      " 68%|██████▊   | 34/50 [06:31<02:17,  8.61s/trial, best loss: 0.298387281071425]"
     ]
    },
    {
     "name": "stderr",
     "output_type": "stream",
     "text": [
      "/home/lab10/.local/lib/python3.6/site-packages/xgboost/sklearn.py:1146: UserWarning: The use of label encoder in XGBClassifier is deprecated and will be removed in a future release. To remove this warning, do the following: 1) Pass option use_label_encoder=False when constructing XGBClassifier object; and 2) Encode your labels (y) as integers starting with 0, i.e. 0, 1, 2, ..., [num_class - 1].\n",
      "  warnings.warn(label_encoder_deprecation_msg, UserWarning)\n",
      "\n"
     ]
    },
    {
     "name": "stdout",
     "output_type": "stream",
     "text": [
      "[0]\tvalidation_0-auc:0.69505\tvalidation_1-auc:0.68181                           \n",
      "[156]\tvalidation_0-auc:0.84317\tvalidation_1-auc:0.76604                         \n",
      "==================================================                              \n",
      "XGBClassifier(base_score=0.6000000000000001, booster='gbtree',                  \n",
      "              colsample_bylevel=1, colsample_bynode=1, colsample_bytree=0.8,\n",
      "              gamma=0, gpu_id=0, importance_type='gain',\n",
      "              interaction_constraints='', learning_rate=0.15, max_delta_step=0,\n",
      "              max_depth=6, min_child_weight=1, missing=nan,\n",
      "              monotone_constraints='()', n_estimators=3000, n_jobs=4,\n",
      "              num_parallel_tree=1, random_state=0, reg_alpha=20.0,\n",
      "              reg_lambda=20.0, scale_pos_weight=10.0, subsample=0.9,\n",
      "              tree_method='gpu_hist', validate_parameters=1, verbosity=None)\n",
      "train best     score:                                                           \n",
      "0.7664                                                                          \n",
      "test   roc_auc_score:                                                           \n",
      "0.7664                                                                          \n",
      "ok                                                                              \n",
      "==================================================                              \n",
      " 70%|███████   | 35/50 [06:38<02:01,  8.08s/trial, best loss: 0.298387281071425]"
     ]
    },
    {
     "name": "stderr",
     "output_type": "stream",
     "text": [
      "/home/lab10/.local/lib/python3.6/site-packages/xgboost/sklearn.py:1146: UserWarning: The use of label encoder in XGBClassifier is deprecated and will be removed in a future release. To remove this warning, do the following: 1) Pass option use_label_encoder=False when constructing XGBClassifier object; and 2) Encode your labels (y) as integers starting with 0, i.e. 0, 1, 2, ..., [num_class - 1].\n",
      "  warnings.warn(label_encoder_deprecation_msg, UserWarning)\n",
      "\n"
     ]
    },
    {
     "name": "stdout",
     "output_type": "stream",
     "text": [
      "[0]\tvalidation_0-auc:0.71444\tvalidation_1-auc:0.70721                           \n",
      "[252]\tvalidation_0-auc:0.82939\tvalidation_1-auc:0.76768                         \n",
      "==================================================                              \n",
      "XGBClassifier(base_score=0.5, booster='gbtree', colsample_bylevel=1,            \n",
      "              colsample_bynode=1, colsample_bytree=1.0, gamma=0, gpu_id=0,\n",
      "              importance_type='gain', interaction_constraints='',\n",
      "              learning_rate=0.12, max_delta_step=0, max_depth=6,\n",
      "              min_child_weight=1, missing=nan, monotone_constraints='()',\n",
      "              n_estimators=3000, n_jobs=4, num_parallel_tree=1, random_state=0,\n",
      "              reg_alpha=110.0, reg_lambda=110.0, scale_pos_weight=11.0,\n",
      "              subsample=0.9500000000000001, tree_method='gpu_hist',\n",
      "              validate_parameters=1, verbosity=None)\n",
      "train best     score:                                                           \n",
      "0.7683                                                                          \n",
      "test   roc_auc_score:                                                           \n",
      "0.7683                                                                          \n",
      "ok                                                                              \n",
      "==================================================                              \n",
      " 72%|███████▏  | 36/50 [06:48<02:03,  8.80s/trial, best loss: 0.298387281071425]"
     ]
    },
    {
     "name": "stderr",
     "output_type": "stream",
     "text": [
      "/home/lab10/.local/lib/python3.6/site-packages/xgboost/sklearn.py:1146: UserWarning: The use of label encoder in XGBClassifier is deprecated and will be removed in a future release. To remove this warning, do the following: 1) Pass option use_label_encoder=False when constructing XGBClassifier object; and 2) Encode your labels (y) as integers starting with 0, i.e. 0, 1, 2, ..., [num_class - 1].\n",
      "  warnings.warn(label_encoder_deprecation_msg, UserWarning)\n",
      "\n"
     ]
    },
    {
     "name": "stdout",
     "output_type": "stream",
     "text": [
      "[0]\tvalidation_0-auc:0.71785\tvalidation_1-auc:0.71025                           \n",
      "[340]\tvalidation_0-auc:0.83656\tvalidation_1-auc:0.76783                         \n",
      "==================================================                              \n",
      "XGBClassifier(base_score=0.6000000000000001, booster='gbtree',                  \n",
      "              colsample_bylevel=1, colsample_bynode=1,\n",
      "              colsample_bytree=0.9500000000000001, gamma=0, gpu_id=0,\n",
      "              importance_type='gain', interaction_constraints='',\n",
      "              learning_rate=0.07, max_delta_step=0, max_depth=6,\n",
      "              min_child_weight=1, missing=nan, monotone_constraints='()',\n",
      "              n_estimators=3000, n_jobs=4, num_parallel_tree=1,\n",
      "              objective='binary:logitraw', random_state=0, reg_alpha=60.0,\n",
      "              reg_lambda=10.0, scale_pos_weight=12.0, subsample=1.0,\n",
      "              tree_method='gpu_hist', validate_parameters=1, verbosity=None)\n",
      "train best     score:                                                           \n",
      "0.7682                                                                          \n",
      "test   roc_auc_score:                                                           \n",
      "0.7682                                                                          \n",
      "ok                                                                              \n",
      "==================================================                              \n",
      " 74%|███████▍  | 37/50 [07:01<02:10, 10.00s/trial, best loss: 0.298387281071425]"
     ]
    },
    {
     "name": "stderr",
     "output_type": "stream",
     "text": [
      "/home/lab10/.local/lib/python3.6/site-packages/xgboost/sklearn.py:1146: UserWarning: The use of label encoder in XGBClassifier is deprecated and will be removed in a future release. To remove this warning, do the following: 1) Pass option use_label_encoder=False when constructing XGBClassifier object; and 2) Encode your labels (y) as integers starting with 0, i.e. 0, 1, 2, ..., [num_class - 1].\n",
      "  warnings.warn(label_encoder_deprecation_msg, UserWarning)\n",
      "\n"
     ]
    },
    {
     "name": "stdout",
     "output_type": "stream",
     "text": [
      "[0]\tvalidation_0-auc:0.69452\tvalidation_1-auc:0.68651                           \n",
      "[310]\tvalidation_0-auc:0.85112\tvalidation_1-auc:0.76809                         \n",
      "==================================================                              \n",
      "XGBClassifier(base_score=0.6000000000000001, booster='gbtree',                  \n",
      "              colsample_bylevel=1, colsample_bynode=1,\n",
      "              colsample_bytree=0.8500000000000001, gamma=0, gpu_id=0,\n",
      "              importance_type='gain', interaction_constraints='',\n",
      "              learning_rate=0.09, max_delta_step=0, max_depth=6,\n",
      "              min_child_weight=1, missing=nan, monotone_constraints='()',\n",
      "              n_estimators=3000, n_jobs=4, num_parallel_tree=1, random_state=0,\n",
      "              reg_alpha=0.1, reg_lambda=40.0, scale_pos_weight=5.0,\n",
      "              subsample=0.9500000000000001, tree_method='gpu_hist',\n",
      "              validate_parameters=1, verbosity=None)\n",
      "train best     score:                                                           \n",
      "0.7682                                                                          \n",
      "test   roc_auc_score:                                                           \n",
      "0.7682                                                                          \n",
      "ok                                                                              \n",
      "==================================================                              \n",
      " 76%|███████▌  | 38/50 [07:13<02:05, 10.44s/trial, best loss: 0.298387281071425]"
     ]
    },
    {
     "name": "stderr",
     "output_type": "stream",
     "text": [
      "/home/lab10/.local/lib/python3.6/site-packages/xgboost/sklearn.py:1146: UserWarning: The use of label encoder in XGBClassifier is deprecated and will be removed in a future release. To remove this warning, do the following: 1) Pass option use_label_encoder=False when constructing XGBClassifier object; and 2) Encode your labels (y) as integers starting with 0, i.e. 0, 1, 2, ..., [num_class - 1].\n",
      "  warnings.warn(label_encoder_deprecation_msg, UserWarning)\n",
      "\n"
     ]
    },
    {
     "name": "stdout",
     "output_type": "stream",
     "text": [
      "[0]\tvalidation_0-auc:0.68750\tvalidation_1-auc:0.68063                           \n",
      "[411]\tvalidation_0-auc:0.84112\tvalidation_1-auc:0.76900                         \n",
      "==================================================                              \n",
      "XGBClassifier(base_score=0.5, booster='gbtree', colsample_bylevel=1,            \n",
      "              colsample_bynode=1, colsample_bytree=0.9, gamma=0, gpu_id=0,\n",
      "              importance_type='gain', interaction_constraints='',\n",
      "              learning_rate=0.06, max_delta_step=0, max_depth=6,\n",
      "              min_child_weight=1, missing=nan, monotone_constraints='()',\n",
      "              n_estimators=3000, n_jobs=4, num_parallel_tree=1,\n",
      "              objective='binary:logitraw', random_state=0, reg_alpha=5.0,\n",
      "              reg_lambda=90.0, scale_pos_weight=7.0, subsample=0.8,\n",
      "              tree_method='gpu_hist', validate_parameters=1, verbosity=None)\n",
      "train best     score:                                                           \n",
      "0.7691                                                                          \n",
      "test   roc_auc_score:                                                           \n",
      "0.7691                                                                          \n",
      "ok                                                                              \n",
      "==================================================                              \n",
      " 78%|███████▊  | 39/50 [07:27<02:06, 11.54s/trial, best loss: 0.298387281071425]"
     ]
    },
    {
     "name": "stderr",
     "output_type": "stream",
     "text": [
      "/home/lab10/.local/lib/python3.6/site-packages/xgboost/sklearn.py:1146: UserWarning: The use of label encoder in XGBClassifier is deprecated and will be removed in a future release. To remove this warning, do the following: 1) Pass option use_label_encoder=False when constructing XGBClassifier object; and 2) Encode your labels (y) as integers starting with 0, i.e. 0, 1, 2, ..., [num_class - 1].\n",
      "  warnings.warn(label_encoder_deprecation_msg, UserWarning)\n",
      "\n"
     ]
    },
    {
     "name": "stdout",
     "output_type": "stream",
     "text": [
      "[0]\tvalidation_0-auc:0.72079\tvalidation_1-auc:0.71454                           \n",
      "[133]\tvalidation_0-auc:0.84700\tvalidation_1-auc:0.76387                         \n",
      "==================================================                              \n",
      "XGBClassifier(base_score=0.7000000000000001, booster='gbtree',                  \n",
      "              colsample_bylevel=1, colsample_bynode=1,\n",
      "              colsample_bytree=0.9500000000000001, gamma=0, gpu_id=0,\n",
      "              importance_type='gain', interaction_constraints='',\n",
      "              learning_rate=0.15, max_delta_step=0, max_depth=6,\n",
      "              min_child_weight=1, missing=nan, monotone_constraints='()',\n",
      "              n_estimators=3000, n_jobs=4, num_parallel_tree=1, random_state=0,\n",
      "              reg_alpha=3.0, reg_lambda=5.0, scale_pos_weight=11.0,\n",
      "              subsample=1.0, tree_method='gpu_hist', validate_parameters=1,\n",
      "              verbosity=None)\n",
      "train best     score:                                                           \n",
      "0.7645                                                                          \n",
      "test   roc_auc_score:                                                           \n",
      "0.7645                                                                          \n",
      "ok                                                                              \n",
      "==================================================                              \n",
      " 80%|████████  | 40/50 [07:33<01:39,  9.92s/trial, best loss: 0.298387281071425]"
     ]
    },
    {
     "name": "stderr",
     "output_type": "stream",
     "text": [
      "/home/lab10/.local/lib/python3.6/site-packages/xgboost/sklearn.py:1146: UserWarning: The use of label encoder in XGBClassifier is deprecated and will be removed in a future release. To remove this warning, do the following: 1) Pass option use_label_encoder=False when constructing XGBClassifier object; and 2) Encode your labels (y) as integers starting with 0, i.e. 0, 1, 2, ..., [num_class - 1].\n",
      "  warnings.warn(label_encoder_deprecation_msg, UserWarning)\n",
      "\n"
     ]
    },
    {
     "name": "stdout",
     "output_type": "stream",
     "text": [
      "[0]\tvalidation_0-auc:0.69137\tvalidation_1-auc:0.68469                           \n",
      "[166]\tvalidation_0-auc:0.81594\tvalidation_1-auc:0.76761                         \n",
      "==================================================                              \n",
      "XGBClassifier(base_score=0.5, booster='gbtree', colsample_bylevel=1,            \n",
      "              colsample_bynode=1, colsample_bytree=0.8, gamma=0, gpu_id=0,\n",
      "              importance_type='gain', interaction_constraints='',\n",
      "              learning_rate=0.14, max_delta_step=0, max_depth=6,\n",
      "              min_child_weight=1, missing=nan, monotone_constraints='()',\n",
      "              n_estimators=3000, n_jobs=4, num_parallel_tree=1, random_state=0,\n",
      "              reg_alpha=110.0, reg_lambda=90.0, scale_pos_weight=10.0,\n",
      "              subsample=0.9, tree_method='gpu_hist', validate_parameters=1,\n",
      "              verbosity=None)\n",
      "train best     score:                                                           \n",
      "0.7677                                                                          \n",
      "test   roc_auc_score:                                                           \n",
      "0.7677                                                                          \n",
      "ok                                                                              \n",
      "==================================================                              \n",
      " 82%|████████▏ | 41/50 [07:40<01:23,  9.26s/trial, best loss: 0.298387281071425]"
     ]
    },
    {
     "name": "stderr",
     "output_type": "stream",
     "text": [
      "/home/lab10/.local/lib/python3.6/site-packages/xgboost/sklearn.py:1146: UserWarning: The use of label encoder in XGBClassifier is deprecated and will be removed in a future release. To remove this warning, do the following: 1) Pass option use_label_encoder=False when constructing XGBClassifier object; and 2) Encode your labels (y) as integers starting with 0, i.e. 0, 1, 2, ..., [num_class - 1].\n",
      "  warnings.warn(label_encoder_deprecation_msg, UserWarning)\n",
      "\n"
     ]
    },
    {
     "name": "stdout",
     "output_type": "stream",
     "text": [
      "[0]\tvalidation_0-auc:0.69617\tvalidation_1-auc:0.68429                           \n",
      "[163]\tvalidation_0-auc:0.84958\tvalidation_1-auc:0.76445                         \n",
      "==================================================                              \n",
      "XGBClassifier(base_score=0.6000000000000001, booster='gbtree',                  \n",
      "              colsample_bylevel=1, colsample_bynode=1,\n",
      "              colsample_bytree=0.8500000000000001, gamma=0, gpu_id=0,\n",
      "              importance_type='gain', interaction_constraints='',\n",
      "              learning_rate=0.12, max_delta_step=0, max_depth=6,\n",
      "              min_child_weight=1, missing=nan, monotone_constraints='()',\n",
      "              n_estimators=3000, n_jobs=4, num_parallel_tree=1, random_state=0,\n",
      "              reg_alpha=0.0, reg_lambda=0.0, scale_pos_weight=9.0,\n",
      "              subsample=0.9500000000000001, tree_method='gpu_hist',\n",
      "              validate_parameters=1, verbosity=None)\n",
      "train best     score:                                                           \n",
      "0.7647                                                                          \n",
      "test   roc_auc_score:                                                           \n",
      "0.7647                                                                          \n",
      "ok                                                                              \n",
      "==================================================                              \n",
      " 84%|████████▍ | 42/50 [07:48<01:09,  8.68s/trial, best loss: 0.298387281071425]"
     ]
    },
    {
     "name": "stderr",
     "output_type": "stream",
     "text": [
      "/home/lab10/.local/lib/python3.6/site-packages/xgboost/sklearn.py:1146: UserWarning: The use of label encoder in XGBClassifier is deprecated and will be removed in a future release. To remove this warning, do the following: 1) Pass option use_label_encoder=False when constructing XGBClassifier object; and 2) Encode your labels (y) as integers starting with 0, i.e. 0, 1, 2, ..., [num_class - 1].\n",
      "  warnings.warn(label_encoder_deprecation_msg, UserWarning)\n",
      "\n"
     ]
    },
    {
     "name": "stdout",
     "output_type": "stream",
     "text": [
      "[0]\tvalidation_0-auc:0.71187\tvalidation_1-auc:0.70678                           \n",
      "[500]\tvalidation_0-auc:0.78000\tvalidation_1-auc:0.76016                         \n",
      "[1000]\tvalidation_0-auc:0.79555\tvalidation_1-auc:0.76661                        \n",
      "[1500]\tvalidation_0-auc:0.80646\tvalidation_1-auc:0.76870                        \n",
      "[1931]\tvalidation_0-auc:0.81478\tvalidation_1-auc:0.76931                        \n",
      "==================================================                              \n",
      "XGBClassifier(base_score=0.7000000000000001, booster='gbtree',                  \n",
      "              colsample_bylevel=1, colsample_bynode=1, colsample_bytree=1.0,\n",
      "              gamma=0, gpu_id=0, importance_type='gain',\n",
      "              interaction_constraints='', learning_rate=0.01, max_delta_step=0,\n",
      "              max_depth=6, min_child_weight=1, missing=nan,\n",
      "              monotone_constraints='()', n_estimators=3000, n_jobs=4,\n",
      "              num_parallel_tree=1, objective='binary:logitraw', random_state=0,\n",
      "              reg_alpha=100.0, reg_lambda=0.1, scale_pos_weight=8.0,\n",
      "              subsample=0.8500000000000001, tree_method='gpu_hist',\n",
      "              validate_parameters=1, verbosity=None)\n",
      "train best     score:                                                           \n",
      "0.7693                                                                          \n",
      "test   roc_auc_score:                                                           \n",
      "0.7693                                                                          \n",
      "ok                                                                              \n",
      "==================================================                              \n",
      " 86%|████████▌ | 43/50 [08:54<03:02, 26.03s/trial, best loss: 0.298387281071425]"
     ]
    },
    {
     "name": "stderr",
     "output_type": "stream",
     "text": [
      "/home/lab10/.local/lib/python3.6/site-packages/xgboost/sklearn.py:1146: UserWarning: The use of label encoder in XGBClassifier is deprecated and will be removed in a future release. To remove this warning, do the following: 1) Pass option use_label_encoder=False when constructing XGBClassifier object; and 2) Encode your labels (y) as integers starting with 0, i.e. 0, 1, 2, ..., [num_class - 1].\n",
      "  warnings.warn(label_encoder_deprecation_msg, UserWarning)\n",
      "\n"
     ]
    },
    {
     "name": "stdout",
     "output_type": "stream",
     "text": [
      "[0]\tvalidation_0-auc:0.69575\tvalidation_1-auc:0.68354                           \n",
      "[343]\tvalidation_0-auc:0.83811\tvalidation_1-auc:0.76844                         \n",
      "==================================================                              \n",
      "XGBClassifier(base_score=0.6000000000000001, booster='gbtree',                  \n",
      "              colsample_bylevel=1, colsample_bynode=1, colsample_bytree=0.9,\n",
      "              gamma=0, gpu_id=0, importance_type='gain',\n",
      "              interaction_constraints='', learning_rate=0.08, max_delta_step=0,\n",
      "              max_depth=6, min_child_weight=1, missing=nan,\n",
      "              monotone_constraints='()', n_estimators=3000, n_jobs=4,\n",
      "              num_parallel_tree=1, random_state=0, reg_alpha=60.0,\n",
      "              reg_lambda=60.0, scale_pos_weight=12.0, subsample=1.0,\n",
      "              tree_method='gpu_hist', validate_parameters=1, verbosity=None)\n",
      "train best     score:                                                           \n",
      "0.7689                                                                          \n",
      "test   roc_auc_score:                                                           \n",
      "0.7689                                                                          \n",
      "ok                                                                              \n",
      "==================================================                              \n",
      " 88%|████████▊ | 44/50 [09:07<02:12, 22.06s/trial, best loss: 0.298387281071425]"
     ]
    },
    {
     "name": "stderr",
     "output_type": "stream",
     "text": [
      "/home/lab10/.local/lib/python3.6/site-packages/xgboost/sklearn.py:1146: UserWarning: The use of label encoder in XGBClassifier is deprecated and will be removed in a future release. To remove this warning, do the following: 1) Pass option use_label_encoder=False when constructing XGBClassifier object; and 2) Encode your labels (y) as integers starting with 0, i.e. 0, 1, 2, ..., [num_class - 1].\n",
      "  warnings.warn(label_encoder_deprecation_msg, UserWarning)\n",
      "\n"
     ]
    },
    {
     "name": "stdout",
     "output_type": "stream",
     "text": [
      "[0]\tvalidation_0-auc:0.72069\tvalidation_1-auc:0.71337                           \n",
      "[127]\tvalidation_0-auc:0.85349\tvalidation_1-auc:0.76389                         \n",
      "==================================================                              \n",
      "XGBClassifier(base_score=0.6000000000000001, booster='gbtree',                  \n",
      "              colsample_bylevel=1, colsample_bynode=1,\n",
      "              colsample_bytree=0.9500000000000001, gamma=0, gpu_id=0,\n",
      "              importance_type='gain', interaction_constraints='',\n",
      "              learning_rate=0.18, max_delta_step=0, max_depth=6,\n",
      "              min_child_weight=1, missing=nan, monotone_constraints='()',\n",
      "              n_estimators=3000, n_jobs=4, num_parallel_tree=1, random_state=0,\n",
      "              reg_alpha=7.0, reg_lambda=5.0, scale_pos_weight=11.0,\n",
      "              subsample=0.9500000000000001, tree_method='gpu_hist',\n",
      "              validate_parameters=1, verbosity=None)\n",
      "train best     score:                                                           \n",
      "0.7647                                                                          \n",
      "test   roc_auc_score:                                                           \n",
      "0.7647                                                                          \n",
      "ok                                                                              \n",
      "==================================================                              \n",
      " 90%|█████████ | 45/50 [09:13<01:26, 17.25s/trial, best loss: 0.298387281071425]"
     ]
    },
    {
     "name": "stderr",
     "output_type": "stream",
     "text": [
      "/home/lab10/.local/lib/python3.6/site-packages/xgboost/sklearn.py:1146: UserWarning: The use of label encoder in XGBClassifier is deprecated and will be removed in a future release. To remove this warning, do the following: 1) Pass option use_label_encoder=False when constructing XGBClassifier object; and 2) Encode your labels (y) as integers starting with 0, i.e. 0, 1, 2, ..., [num_class - 1].\n",
      "  warnings.warn(label_encoder_deprecation_msg, UserWarning)\n",
      "\n"
     ]
    },
    {
     "name": "stdout",
     "output_type": "stream",
     "text": [
      "[0]\tvalidation_0-auc:0.68773\tvalidation_1-auc:0.68054                           \n",
      "[267]\tvalidation_0-auc:0.82758\tvalidation_1-auc:0.76868                         \n",
      "==================================================                              \n",
      "XGBClassifier(base_score=0.7000000000000001, booster='gbtree',                  \n",
      "              colsample_bylevel=1, colsample_bynode=1, colsample_bytree=0.75,\n",
      "              gamma=0, gpu_id=0, importance_type='gain',\n",
      "              interaction_constraints='', learning_rate=0.1, max_delta_step=0,\n",
      "              max_depth=6, min_child_weight=1, missing=nan,\n",
      "              monotone_constraints='()', n_estimators=3000, n_jobs=4,\n",
      "              num_parallel_tree=1, objective='binary:logitraw', random_state=0,\n",
      "              reg_alpha=80.0, reg_lambda=80.0, scale_pos_weight=10.0,\n",
      "              subsample=0.9, tree_method='gpu_hist', validate_parameters=1,\n",
      "              verbosity=None)\n",
      "train best     score:                                                           \n",
      "0.7692                                                                          \n",
      "test   roc_auc_score:                                                           \n",
      "0.7692                                                                          \n",
      "ok                                                                              \n",
      "==================================================                              \n",
      " 92%|█████████▏| 46/50 [09:24<01:00, 15.21s/trial, best loss: 0.298387281071425]"
     ]
    },
    {
     "name": "stderr",
     "output_type": "stream",
     "text": [
      "/home/lab10/.local/lib/python3.6/site-packages/xgboost/sklearn.py:1146: UserWarning: The use of label encoder in XGBClassifier is deprecated and will be removed in a future release. To remove this warning, do the following: 1) Pass option use_label_encoder=False when constructing XGBClassifier object; and 2) Encode your labels (y) as integers starting with 0, i.e. 0, 1, 2, ..., [num_class - 1].\n",
      "  warnings.warn(label_encoder_deprecation_msg, UserWarning)\n",
      "\n"
     ]
    },
    {
     "name": "stdout",
     "output_type": "stream",
     "text": [
      "[0]\tvalidation_0-auc:0.69529\tvalidation_1-auc:0.68176                           \n",
      "[355]\tvalidation_0-auc:0.85669\tvalidation_1-auc:0.76702                         \n",
      "==================================================                              \n",
      "XGBClassifier(base_score=0.5, booster='gbtree', colsample_bylevel=1,            \n",
      "              colsample_bynode=1, colsample_bytree=0.8, gamma=0, gpu_id=0,\n",
      "              importance_type='gain', interaction_constraints='',\n",
      "              learning_rate=0.06, max_delta_step=0, max_depth=6,\n",
      "              min_child_weight=1, missing=nan, monotone_constraints='()',\n",
      "              n_estimators=3000, n_jobs=4, num_parallel_tree=1, random_state=0,\n",
      "              reg_alpha=5.0, reg_lambda=0.0, scale_pos_weight=9.0,\n",
      "              subsample=0.8, tree_method='gpu_hist', validate_parameters=1,\n",
      "              verbosity=None)\n",
      "train best     score:                                                           \n",
      "0.7678                                                                          \n",
      "test   roc_auc_score:                                                           \n",
      "0.7678                                                                          \n",
      "ok                                                                              \n",
      "==================================================                              \n",
      " 94%|█████████▍| 47/50 [09:36<00:43, 14.45s/trial, best loss: 0.298387281071425]"
     ]
    },
    {
     "name": "stderr",
     "output_type": "stream",
     "text": [
      "/home/lab10/.local/lib/python3.6/site-packages/xgboost/sklearn.py:1146: UserWarning: The use of label encoder in XGBClassifier is deprecated and will be removed in a future release. To remove this warning, do the following: 1) Pass option use_label_encoder=False when constructing XGBClassifier object; and 2) Encode your labels (y) as integers starting with 0, i.e. 0, 1, 2, ..., [num_class - 1].\n",
      "  warnings.warn(label_encoder_deprecation_msg, UserWarning)\n",
      "\n"
     ]
    },
    {
     "name": "stdout",
     "output_type": "stream",
     "text": [
      "[0]\tvalidation_0-auc:0.71700\tvalidation_1-auc:0.70871                           \n",
      "[265]\tvalidation_0-auc:0.84392\tvalidation_1-auc:0.76730                         \n",
      "==================================================                              \n",
      "XGBClassifier(base_score=0.6000000000000001, booster='gbtree',                  \n",
      "              colsample_bylevel=1, colsample_bynode=1,\n",
      "              colsample_bytree=0.9500000000000001, gamma=0, gpu_id=0,\n",
      "              importance_type='gain', interaction_constraints='',\n",
      "              learning_rate=0.11, max_delta_step=0, max_depth=6,\n",
      "              min_child_weight=1, missing=nan, monotone_constraints='()',\n",
      "              n_estimators=3000, n_jobs=4, num_parallel_tree=1, random_state=0,\n",
      "              reg_alpha=40.0, reg_lambda=100.0, scale_pos_weight=12.0,\n",
      "              subsample=0.7000000000000001, tree_method='gpu_hist',\n",
      "              validate_parameters=1, verbosity=None)\n",
      "train best     score:                                                           \n",
      "0.7685                                                                          \n",
      "test   roc_auc_score:                                                           \n",
      "0.7685                                                                          \n",
      "ok                                                                              \n",
      "==================================================                              \n",
      " 96%|█████████▌| 48/50 [09:47<00:26, 13.42s/trial, best loss: 0.298387281071425]"
     ]
    },
    {
     "name": "stderr",
     "output_type": "stream",
     "text": [
      "/home/lab10/.local/lib/python3.6/site-packages/xgboost/sklearn.py:1146: UserWarning: The use of label encoder in XGBClassifier is deprecated and will be removed in a future release. To remove this warning, do the following: 1) Pass option use_label_encoder=False when constructing XGBClassifier object; and 2) Encode your labels (y) as integers starting with 0, i.e. 0, 1, 2, ..., [num_class - 1].\n",
      "  warnings.warn(label_encoder_deprecation_msg, UserWarning)\n",
      "\n"
     ]
    },
    {
     "name": "stdout",
     "output_type": "stream",
     "text": [
      "[0]\tvalidation_0-auc:0.69217\tvalidation_1-auc:0.68474                           \n",
      "[168]\tvalidation_0-auc:0.83944\tvalidation_1-auc:0.76673                         \n",
      "==================================================                              \n",
      "XGBClassifier(base_score=0.8, booster='gbtree', colsample_bylevel=1,            \n",
      "              colsample_bynode=1, colsample_bytree=0.8500000000000001, gamma=0,\n",
      "              gpu_id=0, importance_type='gain', interaction_constraints='',\n",
      "              learning_rate=0.13, max_delta_step=0, max_depth=6,\n",
      "              min_child_weight=1, missing=nan, monotone_constraints='()',\n",
      "              n_estimators=3000, n_jobs=4, num_parallel_tree=1,\n",
      "              objective='binary:logitraw', random_state=0, reg_alpha=10.0,\n",
      "              reg_lambda=40.0, scale_pos_weight=8.0,\n",
      "              subsample=0.9500000000000001, tree_method='gpu_hist',\n",
      "              validate_parameters=1, verbosity=None)\n",
      "train best     score:                                                           \n",
      "0.7670                                                                          \n",
      "test   roc_auc_score:                                                           \n",
      "0.7670                                                                          \n",
      "ok                                                                              \n",
      "==================================================                              \n",
      " 98%|█████████▊| 49/50 [09:54<00:11, 11.48s/trial, best loss: 0.298387281071425]"
     ]
    },
    {
     "name": "stderr",
     "output_type": "stream",
     "text": [
      "/home/lab10/.local/lib/python3.6/site-packages/xgboost/sklearn.py:1146: UserWarning: The use of label encoder in XGBClassifier is deprecated and will be removed in a future release. To remove this warning, do the following: 1) Pass option use_label_encoder=False when constructing XGBClassifier object; and 2) Encode your labels (y) as integers starting with 0, i.e. 0, 1, 2, ..., [num_class - 1].\n",
      "  warnings.warn(label_encoder_deprecation_msg, UserWarning)\n",
      "\n"
     ]
    },
    {
     "name": "stdout",
     "output_type": "stream",
     "text": [
      "[0]\tvalidation_0-auc:0.72013\tvalidation_1-auc:0.71157                           \n",
      "[182]\tvalidation_0-auc:0.84805\tvalidation_1-auc:0.76633                         \n",
      "==================================================                              \n",
      "XGBClassifier(base_score=0.5, booster='gbtree', colsample_bylevel=1,            \n",
      "              colsample_bynode=1, colsample_bytree=1.0, gamma=0, gpu_id=0,\n",
      "              importance_type='gain', interaction_constraints='',\n",
      "              learning_rate=0.16, max_delta_step=0, max_depth=6,\n",
      "              min_child_weight=1, missing=nan, monotone_constraints='()',\n",
      "              n_estimators=3000, n_jobs=4, num_parallel_tree=1, random_state=0,\n",
      "              reg_alpha=20.0, reg_lambda=90.0, scale_pos_weight=11.0,\n",
      "              subsample=0.8500000000000001, tree_method='gpu_hist',\n",
      "              validate_parameters=1, verbosity=None)\n",
      "train best     score:                                                           \n",
      "0.7670                                                                          \n",
      "test   roc_auc_score:                                                           \n",
      "0.7670                                                                          \n",
      "ok                                                                              \n",
      "==================================================                              \n",
      "100%|██████████| 50/50 [10:02<00:00, 12.05s/trial, best loss: 0.298387281071425]\n",
      "==================== best  Parameters ====================\n",
      "{'base_score': 0.6000000000000001, 'booster': 'gbtree', 'colsample_bytree': 0.9, 'learning_rate': 0.11, 'n_estimators': 3000, 'objective': 'binary:logistic', 'reg_alpha': 110, 'reg_lambda': 90, 'scale_pos_weight': 12.0, 'subsample': 1.0, 'tree_method': 'gpu_hist'}\n",
      "==========================================================\n",
      "[0]\tvalidation_0-auc:0.69223\tvalidation_1-auc:0.69341\tvalidation_2-auc:0.68870\n",
      "[500]\tvalidation_0-auc:0.86369\tvalidation_1-auc:0.86364\tvalidation_2-auc:0.86388\n",
      "[1000]\tvalidation_0-auc:0.91096\tvalidation_1-auc:0.91056\tvalidation_2-auc:0.91215\n",
      "[1226]\tvalidation_0-auc:0.91899\tvalidation_1-auc:0.91853\tvalidation_2-auc:0.92036\n",
      "==================== Model Parameters ====================\n",
      "{'objective': 'binary:logistic', 'use_label_encoder': False, 'base_score': 0.6000000000000001, 'booster': 'gbtree', 'colsample_bylevel': 1, 'colsample_bynode': 1, 'colsample_bytree': 0.9, 'gamma': 0, 'gpu_id': 0, 'importance_type': 'gain', 'interaction_constraints': '', 'learning_rate': 0.11, 'max_delta_step': 0, 'max_depth': 6, 'min_child_weight': 1, 'missing': nan, 'monotone_constraints': '()', 'n_estimators': 3000, 'n_jobs': 4, 'num_parallel_tree': 1, 'random_state': 0, 'reg_alpha': 110, 'reg_lambda': 90, 'scale_pos_weight': 12.0, 'subsample': 1.0, 'tree_method': 'gpu_hist', 'validate_parameters': 1, 'verbosity': None}\n",
      "==========================================================\n",
      "train best     score: 0.9204\n",
      "train best iteration: 1127.000\n",
      "@test  roc_auc_score: 0.6858\n",
      "@test  roc_auc_score: 0.7599\n",
      "오차 행렬\n",
      "[[43854 12022]\n",
      " [ 2022  2871]]\n",
      "정확도 : 0.7689, 정밀도: 0.1928, 재현율 : 0.5868,    F1 : 0.2902, AUC:0.7599\n",
      "==========================================================\n"
     ]
    }
   ],
   "source": [
    "# regularization candiate 정의\n",
    "reg_candidate = [0, 0.1, 3, 5, 7, 10, 20, 40, 60, 80, 90, 100, 110]\n",
    "object_f = [\"binary:logitraw\", \"binary:logistic\"]\n",
    "booster_c = [\"gbtree\"]\n",
    "\n",
    "\n",
    "space = {\"n_estimators\":hopt.hp.choice(\"n_estimators\", [3000]),\n",
    "         \"objective\": hopt.hp.choice(\"objective\", object_f),\n",
    "         \"learning_rate\": hopt.hp.quniform(\"learning_rate\", 0.01, 0.2, 0.01),\n",
    "         \"colsample_bytree\": hopt.hp.quniform(\"colsample_bytree\", 0.7, 1, 0.05),\n",
    "         \"subsample\": hopt.hp.quniform(\"subsample\", 0.7, 1, 0.05),\n",
    "         \"reg_lambda\": hopt.hp.choice(\"reg_lambda\", reg_candidate),\n",
    "         \"reg_alpha\": hopt.hp.choice(\"reg_alpha\", reg_candidate),\n",
    "         \"scale_pos_weight\": hopt.hp.quniform(\"scale_pos_weight\", 5, 12, 1),\n",
    "         \"base_score\": hopt.hp.quniform(\"base_score\", 0.5, 0.8, 0.1),\n",
    "         \"booster\": hopt.hp.choice(\"booster\", booster_c)\n",
    "        }\n",
    "\n",
    "def hyper_param_tuning(space):\n",
    "    model = XGBClassifier(n_estimators=int(space['n_estimators']),\n",
    "                          objective=space[\"objective\"],\n",
    "                          learning_rate=float(space[\"learning_rate\"]),\n",
    "#                           max_depth=int(space[\"max_depth\"]), \n",
    "#                           min_child_weight=int(space[\"min_child_weight\"]),\n",
    "                          colsample_bytree=float(space[\"colsample_bytree\"]),\n",
    "                          subsample=float(space[\"subsample\"]),\n",
    "                          reg_lambda=float(space[\"reg_lambda\"]),\n",
    "                          reg_alpha=float(space[\"reg_alpha\"]),\n",
    "                          scale_pos_weight=space[\"scale_pos_weight\"],\n",
    "                          base_score=float(space[\"base_score\"]),\n",
    "                          tree_method=\"gpu_hist\",\n",
    "                          booster=space[\"booster\"]\n",
    "                         )\n",
    "\n",
    "    model.fit(X_train, y_train,\n",
    "            eval_metric=\"auc\", \n",
    "            early_stopping_rounds=50,\n",
    "            eval_set=[(X_train, y_train), (X_test, y_test)],\n",
    "            verbose=500\n",
    "            )\n",
    "    \n",
    "    print(\"=\"*50)\n",
    "    print(model)\n",
    "    pred = model.predict(X_test)\n",
    "    pred_p = pd.DataFrame(model.predict_proba(X_test))[1]\n",
    "    print(\"train best     score:\", format(model.best_score, \".4f\"))\n",
    "    print(\"test   roc_auc_score:\", format(roc_auc_score(y_test, pred_p), \".4f\"))\n",
    "    print(hopt.STATUS_OK)\n",
    "    print(\"=\"*50)\n",
    "\n",
    "    score = roc_auc_score(y_test, pred)\n",
    "    \n",
    "    return {\"loss\": 1 - score,\n",
    "            \"status\": STATUS_OK,\n",
    "            \"model\": model\n",
    "           }\n",
    "\n",
    "trials = hopt.Trials()\n",
    "\n",
    "best = hopt.fmin(fn=hyper_param_tuning,\n",
    "                 space=space,\n",
    "                 algo=hopt.tpe.suggest,\n",
    "                 max_evals=50,\n",
    "                 trials=trials\n",
    "                )\n",
    "\n",
    "# best[\"n_estimators\"] = int(best[\"n_estimators\"])\n",
    "best[\"learning_rate\"] = float(best[\"learning_rate\"])\n",
    "# best[\"max_depth\"] = int(best[\"max_depth\"])\n",
    "# best[\"min_child_weight\"] = int(best[\"min_child_weight\"])\n",
    "best[\"colsample_bytree\"] = float(best[\"colsample_bytree\"])\n",
    "best[\"subsample\"] = float(best[\"subsample\"])\n",
    "best[\"reg_lambda\"] = reg_candidate[int(best[\"reg_lambda\"])]\n",
    "best[\"reg_alpha\"] = reg_candidate[int(best[\"reg_alpha\"])]\n",
    "best[\"base_score\"] = float(best[\"base_score\"])\n",
    "best[\"objective\"] = object_f[int(best[\"objective\"])]\n",
    "best[\"booster\"] = booster_c[int(best[\"booster\"])]\n",
    "\n",
    "best[\"n_estimators\"] = 3000\n",
    "best[\"tree_method\"] = \"gpu_hist\"\n",
    "print(\"=\" * 20, \"best  Parameters\", \"=\" * 20)\n",
    "print(best)\n",
    "print(\"=\" * 58)\n",
    "xgb = XGBClassifier(**best,\n",
    "                    use_label_encoder=False\n",
    "                   )\n",
    "xgb.fit(X_train, y_train,\n",
    "        eval_metric=\"auc\", \n",
    "        early_stopping_rounds=100,\n",
    "        eval_set=[(X_train, y_train),(X_train_v, y_train_v), (X_valid, y_valid)],\n",
    "        verbose=500\n",
    "       )\n",
    "\n",
    "print(\"=\" * 20, \"Model Parameters\", \"=\" * 20)\n",
    "print(xgb.get_params())\n",
    "print(\"=\" * 58)\n",
    "\n",
    "pred = xgb.predict(X_test)\n",
    "pred_p = pd.DataFrame(xgb.predict_proba(X_test))[1]\n",
    "print(\"train best     score:\", format(xgb.best_score, \".4f\"))\n",
    "print(\"train best iteration:\", format(xgb.best_iteration, \".3f\"))\n",
    "print(\"@test  roc_auc_score:\", format(roc_auc_score(y_test, pred), \".4f\"))\n",
    "print(\"@test  roc_auc_score:\", format(roc_auc_score(y_test, pred_p), \".4f\"))\n",
    "get_clf_eval(y_test, pred, pred_p)\n",
    "print(\"=\" * 58)"
   ]
  },
  {
   "cell_type": "markdown",
   "metadata": {},
   "source": [
    "# NON SCALING LOG TRANSFORMATION\n",
    "---\n"
   ]
  },
  {
   "cell_type": "code",
   "execution_count": 47,
   "metadata": {},
   "outputs": [],
   "source": [
    "# load\n",
    "train_datasets = pd.read_csv(\"../pre_data/[no_up]train_datasets.csv\",\n",
    "                             index_col=0)\n",
    "\n",
    "# Label 만들기\n",
    "train_target_ds = train_datasets[\"TARGET\"]\n",
    "train_target_ds = train_target_ds.astype(\"int32\")\n",
    "\n",
    "# TARGET feature 삭제\n",
    "train_datasets.drop(columns=\"TARGET\", inplace=True)\n",
    "\n",
    "X_train , X_test , y_train , y_test = \\\n",
    "    train_test_split(train_datasets, \n",
    "                     train_target_ds, \n",
    "                     test_size=0.2, \n",
    "                     random_state=2021,\n",
    "                     stratify=train_target_ds\n",
    "                    )\n",
    "\n",
    "# Valid\n",
    "X_train_v, X_valid, y_train_v, y_valid = \\\n",
    "    train_test_split(X_train, \n",
    "                     y_train, \n",
    "                     test_size=0.25, \n",
    "                     random_state=2021,\n",
    "                     stratify=y_train\n",
    "                    )\n",
    "\n"
   ]
  },
  {
   "cell_type": "code",
   "execution_count": 48,
   "metadata": {},
   "outputs": [
    {
     "name": "stdout",
     "output_type": "stream",
     "text": [
      "[0]\tvalidation_0-auc:0.71462\tvalidation_1-auc:0.71729\tvalidation_2-auc:0.70658\n",
      "[100]\tvalidation_0-auc:0.84765\tvalidation_1-auc:0.87878\tvalidation_2-auc:0.75356\n",
      "[200]\tvalidation_0-auc:0.88559\tvalidation_1-auc:0.93107\tvalidation_2-auc:0.74591\n",
      "[300]\tvalidation_0-auc:0.90908\tvalidation_1-auc:0.96263\tvalidation_2-auc:0.74059\n",
      "[347]\tvalidation_0-auc:0.91617\tvalidation_1-auc:0.97211\tvalidation_2-auc:0.73815\n",
      "train best     score: 0.7565\n",
      "train best iteration: 48.000\n",
      "@test  roc_auc_score: 0.7574\n",
      "오차 행렬\n",
      "[[55705   171]\n",
      " [ 4735   158]]\n",
      "정확도 : 0.9193, 정밀도: 0.4802, 재현율 : 0.0323,    F1 : 0.0605, AUC:0.7574\n"
     ]
    }
   ],
   "source": [
    "# 기본 모델\n",
    "xgb_c_b = XGBClassifier(n_estimators=1000,\n",
    "                        use_label_encoder=False,\n",
    "                        tree_method=\"gpu_hist\",\n",
    "                       )\n",
    "\n",
    "xgb_c_b.fit(X_train_v, y_train_v,\n",
    "            eval_metric=\"auc\", \n",
    "            early_stopping_rounds=300,\n",
    "            eval_set=[(X_train, y_train),(X_train_v, y_train_v), (X_valid, y_valid)],\n",
    "            verbose=100\n",
    "           )\n",
    "pred = xgb_c_b.predict(X_test)\n",
    "pred_p = pd.DataFrame(xgb_c_b.predict_proba(X_test))[1]\n",
    "print(\"train best     score:\", format(xgb_c_b.best_score, \".4f\"))\n",
    "print(\"train best iteration:\", format(xgb_c_b.best_iteration, \".3f\"))\n",
    "# print(\"@test  roc_auc_score:\", format(roc_auc_score(y_test, pred), \".4f\"))\n",
    "print(\"@test  roc_auc_score:\", format(roc_auc_score(y_test, pred_p), \".4f\"))\n",
    "get_clf_eval(y_test, pred, pred_p)"
   ]
  },
  {
   "cell_type": "code",
   "execution_count": 50,
   "metadata": {},
   "outputs": [
    {
     "name": "stdout",
     "output_type": "stream",
     "text": [
      "  0%|          | 0/50 [00:00<?, ?trial/s, best loss=?]"
     ]
    },
    {
     "name": "stderr",
     "output_type": "stream",
     "text": [
      "/home/lab10/.local/lib/python3.6/site-packages/xgboost/sklearn.py:1146: UserWarning: The use of label encoder in XGBClassifier is deprecated and will be removed in a future release. To remove this warning, do the following: 1) Pass option use_label_encoder=False when constructing XGBClassifier object; and 2) Encode your labels (y) as integers starting with 0, i.e. 0, 1, 2, ..., [num_class - 1].\n",
      "  warnings.warn(label_encoder_deprecation_msg, UserWarning)\n",
      "\n"
     ]
    },
    {
     "name": "stdout",
     "output_type": "stream",
     "text": [
      "[12:50:42] WARNING: ../src/learner.cc:573:            \n",
      "Parameters: { \"colsample_bytree\", \"subsample\", \"tree_method\" } might not be used.\n",
      "\n",
      "  This may not be accurate due to some parameters are only used in language bindings but\n",
      "  passed down to XGBoost core.  Or some parameters are not used but slip through this\n",
      "  verification. Please open an issue if you find above cases.\n",
      "\n",
      "\n",
      "[0]\tvalidation_0-auc:0.56046\tvalidation_1-auc:0.56040 \n",
      "[49]\tvalidation_0-auc:0.61223\tvalidation_1-auc:0.60867\n",
      "==================================================    \n",
      "XGBClassifier(base_score=0.8, booster='gblinear', colsample_bylevel=None,\n",
      "              colsample_bynode=None, colsample_bytree=0.6000000000000001,\n",
      "              gamma=None, gpu_id=-1, importance_type='gain',\n",
      "              interaction_constraints=None, learning_rate=0.18,\n",
      "              max_delta_step=None, max_depth=None, min_child_weight=None,\n",
      "              missing=nan, monotone_constraints=None, n_estimators=50, n_jobs=4,\n",
      "              num_parallel_tree=None, objective='binary:logitraw',\n",
      "              random_state=0, reg_alpha=0.1, reg_lambda=0.01,\n",
      "              scale_pos_weight=6.0, subsample=0.4, tree_method='gpu_hist',\n",
      "              validate_parameters=1, verbosity=None)\n",
      "train best     score:                                 \n",
      "0.6087                                                \n",
      "test   roc_auc_score:                                 \n",
      "0.6087                                                \n",
      "ok                                                    \n",
      "==================================================    \n",
      "  2%|▏         | 1/50 [00:17<14:01, 17.17s/trial, best loss: 0.4994278665891192]"
     ]
    },
    {
     "name": "stderr",
     "output_type": "stream",
     "text": [
      "/home/lab10/.local/lib/python3.6/site-packages/xgboost/sklearn.py:1146: UserWarning: The use of label encoder in XGBClassifier is deprecated and will be removed in a future release. To remove this warning, do the following: 1) Pass option use_label_encoder=False when constructing XGBClassifier object; and 2) Encode your labels (y) as integers starting with 0, i.e. 0, 1, 2, ..., [num_class - 1].\n",
      "  warnings.warn(label_encoder_deprecation_msg, UserWarning)\n",
      "\n"
     ]
    },
    {
     "name": "stdout",
     "output_type": "stream",
     "text": [
      "[0]\tvalidation_0-auc:0.66095\tvalidation_1-auc:0.64903                           \n",
      "[49]\tvalidation_0-auc:0.80133\tvalidation_1-auc:0.76169                          \n",
      "==================================================                              \n",
      "XGBClassifier(base_score=0.6000000000000001, booster='dart',                    \n",
      "              colsample_bylevel=1, colsample_bynode=1,\n",
      "              colsample_bytree=0.6000000000000001, gamma=0, gpu_id=0,\n",
      "              importance_type='gain', interaction_constraints='',\n",
      "              learning_rate=0.15, max_delta_step=0, max_depth=6,\n",
      "              min_child_weight=1, missing=nan, monotone_constraints='()',\n",
      "              n_estimators=50, n_jobs=4, num_parallel_tree=1,\n",
      "              objective='reg:logistic', random_state=0, reg_alpha=0.0001,\n",
      "              reg_lambda=5.0, scale_pos_weight=8.0,\n",
      "              subsample=0.6000000000000001, tree_method='gpu_hist',\n",
      "              validate_parameters=1, verbosity=None)\n",
      "train best     score:                                                           \n",
      "0.7618                                                                          \n",
      "test   roc_auc_score:                                                           \n",
      "0.7618                                                                          \n",
      "ok                                                                              \n",
      "==================================================                              \n",
      "  4%|▍         | 2/50 [00:34<14:02, 17.55s/trial, best loss: 0.32077500642754886]"
     ]
    },
    {
     "name": "stderr",
     "output_type": "stream",
     "text": [
      "/home/lab10/.local/lib/python3.6/site-packages/xgboost/sklearn.py:1146: UserWarning: The use of label encoder in XGBClassifier is deprecated and will be removed in a future release. To remove this warning, do the following: 1) Pass option use_label_encoder=False when constructing XGBClassifier object; and 2) Encode your labels (y) as integers starting with 0, i.e. 0, 1, 2, ..., [num_class - 1].\n",
      "  warnings.warn(label_encoder_deprecation_msg, UserWarning)\n",
      "\n"
     ]
    },
    {
     "name": "stdout",
     "output_type": "stream",
     "text": [
      "[0]\tvalidation_0-auc:0.62431\tvalidation_1-auc:0.61277                            \n",
      "[49]\tvalidation_0-auc:0.79732\tvalidation_1-auc:0.76244                           \n",
      "==================================================                               \n",
      "XGBClassifier(base_score=0.5, booster='gbtree', colsample_bylevel=1,             \n",
      "              colsample_bynode=1, colsample_bytree=0.2, gamma=0, gpu_id=0,\n",
      "              importance_type='gain', interaction_constraints='',\n",
      "              learning_rate=0.18, max_delta_step=0, max_depth=6,\n",
      "              min_child_weight=1, missing=nan, monotone_constraints='()',\n",
      "              n_estimators=50, n_jobs=4, num_parallel_tree=1,\n",
      "              objective='reg:logistic', random_state=0, reg_alpha=1.0,\n",
      "              reg_lambda=10.0, scale_pos_weight=4.0, subsample=1.0,\n",
      "              tree_method='gpu_hist', validate_parameters=1, verbosity=None)\n",
      "train best     score:                                                            \n",
      "0.7624                                                                           \n",
      "test   roc_auc_score:                                                            \n",
      "0.7624                                                                           \n",
      "ok                                                                               \n",
      "==================================================                               \n",
      "  6%|▌         | 3/50 [00:38<08:47, 11.22s/trial, best loss: 0.32077500642754886]"
     ]
    },
    {
     "name": "stderr",
     "output_type": "stream",
     "text": [
      "/home/lab10/.local/lib/python3.6/site-packages/xgboost/sklearn.py:1146: UserWarning: The use of label encoder in XGBClassifier is deprecated and will be removed in a future release. To remove this warning, do the following: 1) Pass option use_label_encoder=False when constructing XGBClassifier object; and 2) Encode your labels (y) as integers starting with 0, i.e. 0, 1, 2, ..., [num_class - 1].\n",
      "  warnings.warn(label_encoder_deprecation_msg, UserWarning)\n",
      "\n"
     ]
    },
    {
     "name": "stdout",
     "output_type": "stream",
     "text": [
      "[12:51:21] WARNING: ../src/learner.cc:573:                                       \n",
      "Parameters: { \"colsample_bytree\", \"subsample\", \"tree_method\" } might not be used.\n",
      "\n",
      "  This may not be accurate due to some parameters are only used in language bindings but\n",
      "  passed down to XGBoost core.  Or some parameters are not used but slip through this\n",
      "  verification. Please open an issue if you find above cases.\n",
      "\n",
      "\n",
      "[0]\tvalidation_0-auc:0.59882\tvalidation_1-auc:0.59795                            \n",
      "[49]\tvalidation_0-auc:0.69853\tvalidation_1-auc:0.69454                           \n",
      "==================================================                               \n",
      "XGBClassifier(base_score=0.6000000000000001, booster='gblinear',                 \n",
      "              colsample_bylevel=None, colsample_bynode=None,\n",
      "              colsample_bytree=0.8, gamma=None, gpu_id=-1,\n",
      "              importance_type='gain', interaction_constraints=None,\n",
      "              learning_rate=0.09, max_delta_step=None, max_depth=None,\n",
      "              min_child_weight=None, missing=nan, monotone_constraints=None,\n",
      "              n_estimators=50, n_jobs=4, num_parallel_tree=None, random_state=0,\n",
      "              reg_alpha=0.01, reg_lambda=0.01, scale_pos_weight=4.0,\n",
      "              subsample=0.6000000000000001, tree_method='gpu_hist',\n",
      "              validate_parameters=1, verbosity=None)\n",
      "train best     score:                                                            \n",
      "0.6945                                                                           \n",
      "test   roc_auc_score:                                                            \n",
      "0.6945                                                                           \n",
      "ok                                                                               \n",
      "==================================================                               \n",
      "  8%|▊         | 4/50 [01:00<11:40, 15.22s/trial, best loss: 0.32077500642754886]"
     ]
    },
    {
     "name": "stderr",
     "output_type": "stream",
     "text": [
      "/home/lab10/.local/lib/python3.6/site-packages/xgboost/sklearn.py:1146: UserWarning: The use of label encoder in XGBClassifier is deprecated and will be removed in a future release. To remove this warning, do the following: 1) Pass option use_label_encoder=False when constructing XGBClassifier object; and 2) Encode your labels (y) as integers starting with 0, i.e. 0, 1, 2, ..., [num_class - 1].\n",
      "  warnings.warn(label_encoder_deprecation_msg, UserWarning)\n",
      "\n"
     ]
    },
    {
     "name": "stdout",
     "output_type": "stream",
     "text": [
      "[0]\tvalidation_0-auc:0.67997\tvalidation_1-auc:0.67327                            \n",
      "[49]\tvalidation_0-auc:0.77453\tvalidation_1-auc:0.75431                           \n",
      "==================================================                               \n",
      "XGBClassifier(base_score=0.8, booster='dart', colsample_bylevel=1,               \n",
      "              colsample_bynode=1, colsample_bytree=0.8, gamma=0, gpu_id=0,\n",
      "              importance_type='gain', interaction_constraints='',\n",
      "              learning_rate=0.06, max_delta_step=0, max_depth=6,\n",
      "              min_child_weight=1, missing=nan, monotone_constraints='()',\n",
      "              n_estimators=50, n_jobs=4, num_parallel_tree=1,\n",
      "              objective='reg:logistic', random_state=0, reg_alpha=5.0,\n",
      "              reg_lambda=0.0001, scale_pos_weight=8.0, subsample=0.2,\n",
      "              tree_method='gpu_hist', validate_parameters=1, verbosity=None)\n",
      "train best     score:                                                            \n",
      "0.7543                                                                           \n",
      "test   roc_auc_score:                                                            \n",
      "0.7543                                                                           \n",
      "ok                                                                               \n",
      "==================================================                               \n",
      " 10%|█         | 5/50 [01:18<12:12, 16.27s/trial, best loss: 0.32077500642754886]"
     ]
    },
    {
     "name": "stderr",
     "output_type": "stream",
     "text": [
      "/home/lab10/.local/lib/python3.6/site-packages/xgboost/sklearn.py:1146: UserWarning: The use of label encoder in XGBClassifier is deprecated and will be removed in a future release. To remove this warning, do the following: 1) Pass option use_label_encoder=False when constructing XGBClassifier object; and 2) Encode your labels (y) as integers starting with 0, i.e. 0, 1, 2, ..., [num_class - 1].\n",
      "  warnings.warn(label_encoder_deprecation_msg, UserWarning)\n",
      "\n"
     ]
    },
    {
     "name": "stdout",
     "output_type": "stream",
     "text": [
      "[12:52:01] WARNING: ../src/learner.cc:573:                                       \n",
      "Parameters: { \"colsample_bytree\", \"subsample\", \"tree_method\" } might not be used.\n",
      "\n",
      "  This may not be accurate due to some parameters are only used in language bindings but\n",
      "  passed down to XGBoost core.  Or some parameters are not used but slip through this\n",
      "  verification. Please open an issue if you find above cases.\n",
      "\n",
      "\n",
      "[0]\tvalidation_0-auc:0.57182\tvalidation_1-auc:0.57110                            \n",
      "[49]\tvalidation_0-auc:0.65855\tvalidation_1-auc:0.65328                           \n",
      "==================================================                               \n",
      "XGBClassifier(base_score=0.5, booster='gblinear', colsample_bylevel=None,        \n",
      "              colsample_bynode=None, colsample_bytree=0.2, gamma=None,\n",
      "              gpu_id=-1, importance_type='gain', interaction_constraints=None,\n",
      "              learning_rate=0.12, max_delta_step=None, max_depth=None,\n",
      "              min_child_weight=None, missing=nan, monotone_constraints=None,\n",
      "              n_estimators=50, n_jobs=4, num_parallel_tree=None,\n",
      "              objective='reg:logistic', random_state=0, reg_alpha=0.01,\n",
      "              reg_lambda=0.01, scale_pos_weight=2.0, subsample=0.8,\n",
      "              tree_method='gpu_hist', validate_parameters=1, verbosity=None)\n",
      "train best     score:                                                            \n",
      "0.6533                                                                           \n",
      "test   roc_auc_score:                                                            \n",
      "0.6533                                                                           \n",
      "ok                                                                               \n",
      "==================================================                               \n",
      " 12%|█▏        | 6/50 [01:39<13:12, 18.02s/trial, best loss: 0.32077500642754886]"
     ]
    },
    {
     "name": "stderr",
     "output_type": "stream",
     "text": [
      "/home/lab10/.local/lib/python3.6/site-packages/xgboost/sklearn.py:1146: UserWarning: The use of label encoder in XGBClassifier is deprecated and will be removed in a future release. To remove this warning, do the following: 1) Pass option use_label_encoder=False when constructing XGBClassifier object; and 2) Encode your labels (y) as integers starting with 0, i.e. 0, 1, 2, ..., [num_class - 1].\n",
      "  warnings.warn(label_encoder_deprecation_msg, UserWarning)\n",
      "\n"
     ]
    },
    {
     "name": "stdout",
     "output_type": "stream",
     "text": [
      "[0]\tvalidation_0-auc:0.71873\tvalidation_1-auc:0.70915                            \n",
      "[49]\tvalidation_0-auc:0.80478\tvalidation_1-auc:0.76061                           \n",
      "==================================================                               \n",
      "XGBClassifier(base_score=0.7000000000000001, booster='dart',                     \n",
      "              colsample_bylevel=1, colsample_bynode=1, colsample_bytree=1.0,\n",
      "              gamma=0, gpu_id=0, importance_type='gain',\n",
      "              interaction_constraints='', learning_rate=0.15, max_delta_step=0,\n",
      "              max_depth=6, min_child_weight=1, missing=nan,\n",
      "              monotone_constraints='()', n_estimators=50, n_jobs=4,\n",
      "              num_parallel_tree=1, random_state=0, reg_alpha=1.0,\n",
      "              reg_lambda=0.001, scale_pos_weight=8.0,\n",
      "              subsample=0.6000000000000001, tree_method='gpu_hist',\n",
      "              validate_parameters=1, verbosity=None)\n",
      "train best     score:                                                            \n",
      "0.7606                                                                           \n",
      "test   roc_auc_score:                                                            \n",
      "0.7606                                                                           \n",
      "ok                                                                               \n",
      "==================================================                               \n",
      " 14%|█▍        | 7/50 [01:58<13:07, 18.30s/trial, best loss: 0.32077500642754886]"
     ]
    },
    {
     "name": "stderr",
     "output_type": "stream",
     "text": [
      "/home/lab10/.local/lib/python3.6/site-packages/xgboost/sklearn.py:1146: UserWarning: The use of label encoder in XGBClassifier is deprecated and will be removed in a future release. To remove this warning, do the following: 1) Pass option use_label_encoder=False when constructing XGBClassifier object; and 2) Encode your labels (y) as integers starting with 0, i.e. 0, 1, 2, ..., [num_class - 1].\n",
      "  warnings.warn(label_encoder_deprecation_msg, UserWarning)\n",
      "\n"
     ]
    },
    {
     "name": "stdout",
     "output_type": "stream",
     "text": [
      "[0]\tvalidation_0-auc:0.66238\tvalidation_1-auc:0.64871                            \n",
      "[49]\tvalidation_0-auc:0.79742\tvalidation_1-auc:0.76211                           \n",
      "==================================================                               \n",
      "XGBClassifier(base_score=0.6000000000000001, booster='gbtree',                   \n",
      "              colsample_bylevel=1, colsample_bynode=1, colsample_bytree=0.4,\n",
      "              gamma=0, gpu_id=0, importance_type='gain',\n",
      "              interaction_constraints='', learning_rate=0.12, max_delta_step=0,\n",
      "              max_depth=6, min_child_weight=1, missing=nan,\n",
      "              monotone_constraints='()', n_estimators=50, n_jobs=4,\n",
      "              num_parallel_tree=1, objective='reg:logistic', random_state=0,\n",
      "              reg_alpha=1e-05, reg_lambda=0.01, scale_pos_weight=8.0,\n",
      "              subsample=1.0, tree_method='gpu_hist', validate_parameters=1,\n",
      "              verbosity=None)\n",
      "train best     score:                                                            \n",
      "0.7621                                                                           \n",
      "test   roc_auc_score:                                                            \n",
      "0.7621                                                                           \n",
      "ok                                                                               \n",
      "==================================================                               \n",
      " 16%|█▌        | 8/50 [02:02<09:35, 13.70s/trial, best loss: 0.3187287046525331] "
     ]
    },
    {
     "name": "stderr",
     "output_type": "stream",
     "text": [
      "/home/lab10/.local/lib/python3.6/site-packages/xgboost/sklearn.py:1146: UserWarning: The use of label encoder in XGBClassifier is deprecated and will be removed in a future release. To remove this warning, do the following: 1) Pass option use_label_encoder=False when constructing XGBClassifier object; and 2) Encode your labels (y) as integers starting with 0, i.e. 0, 1, 2, ..., [num_class - 1].\n",
      "  warnings.warn(label_encoder_deprecation_msg, UserWarning)\n",
      "\n"
     ]
    },
    {
     "name": "stdout",
     "output_type": "stream",
     "text": [
      "[12:52:45] WARNING: ../src/learner.cc:573:                                      \n",
      "Parameters: { \"colsample_bytree\", \"subsample\", \"tree_method\" } might not be used.\n",
      "\n",
      "  This may not be accurate due to some parameters are only used in language bindings but\n",
      "  passed down to XGBoost core.  Or some parameters are not used but slip through this\n",
      "  verification. Please open an issue if you find above cases.\n",
      "\n",
      "\n",
      "[0]\tvalidation_0-auc:0.58176\tvalidation_1-auc:0.58486                           \n",
      "[49]\tvalidation_0-auc:0.73389\tvalidation_1-auc:0.73484                          \n",
      "==================================================                              \n",
      "XGBClassifier(base_score=0.7000000000000001, booster='gblinear',                \n",
      "              colsample_bylevel=None, colsample_bynode=None,\n",
      "              colsample_bytree=0.4, gamma=None, gpu_id=-1,\n",
      "              importance_type='gain', interaction_constraints=None,\n",
      "              learning_rate=0.18, max_delta_step=None, max_depth=None,\n",
      "              min_child_weight=None, missing=nan, monotone_constraints=None,\n",
      "              n_estimators=50, n_jobs=4, num_parallel_tree=None,\n",
      "              objective='reg:logistic', random_state=0, reg_alpha=0.0001,\n",
      "              reg_lambda=1e-05, scale_pos_weight=2.0, subsample=0.8,\n",
      "              tree_method='gpu_hist', validate_parameters=1, verbosity=None)\n",
      "train best     score:                                                           \n",
      "0.7348                                                                          \n",
      "test   roc_auc_score:                                                           \n",
      "0.7349                                                                          \n",
      "ok                                                                              \n",
      "==================================================                              \n",
      " 18%|█▊        | 9/50 [02:23<11:00, 16.10s/trial, best loss: 0.3187287046525331]"
     ]
    },
    {
     "name": "stderr",
     "output_type": "stream",
     "text": [
      "/home/lab10/.local/lib/python3.6/site-packages/xgboost/sklearn.py:1146: UserWarning: The use of label encoder in XGBClassifier is deprecated and will be removed in a future release. To remove this warning, do the following: 1) Pass option use_label_encoder=False when constructing XGBClassifier object; and 2) Encode your labels (y) as integers starting with 0, i.e. 0, 1, 2, ..., [num_class - 1].\n",
      "  warnings.warn(label_encoder_deprecation_msg, UserWarning)\n",
      "\n"
     ]
    },
    {
     "name": "stdout",
     "output_type": "stream",
     "text": [
      "[12:53:06] WARNING: ../src/learner.cc:573:                                      \n",
      "Parameters: { \"colsample_bytree\", \"subsample\", \"tree_method\" } might not be used.\n",
      "\n",
      "  This may not be accurate due to some parameters are only used in language bindings but\n",
      "  passed down to XGBoost core.  Or some parameters are not used but slip through this\n",
      "  verification. Please open an issue if you find above cases.\n",
      "\n",
      "\n",
      "[0]\tvalidation_0-auc:0.56031\tvalidation_1-auc:0.56002                           \n",
      "[49]\tvalidation_0-auc:0.62142\tvalidation_1-auc:0.61725                          \n",
      "==================================================                              \n",
      "XGBClassifier(base_score=0.6000000000000001, booster='gblinear',                \n",
      "              colsample_bylevel=None, colsample_bynode=None,\n",
      "              colsample_bytree=0.6000000000000001, gamma=None, gpu_id=-1,\n",
      "              importance_type='gain', interaction_constraints=None,\n",
      "              learning_rate=0.15, max_delta_step=None, max_depth=None,\n",
      "              min_child_weight=None, missing=nan, monotone_constraints=None,\n",
      "              n_estimators=50, n_jobs=4, num_parallel_tree=None,\n",
      "              objective='reg:logistic', random_state=0, reg_alpha=1e-05,\n",
      "              reg_lambda=5.0, scale_pos_weight=4.0, subsample=0.8,\n",
      "              tree_method='gpu_hist', validate_parameters=1, verbosity=None)\n",
      "train best     score:                                                           \n",
      "0.6172                                                                          \n",
      "test   roc_auc_score:                                                           \n",
      "0.6172                                                                          \n",
      "ok                                                                              \n",
      "==================================================                              \n",
      " 20%|██        | 10/50 [02:43<11:28, 17.21s/trial, best loss: 0.3187287046525331]"
     ]
    },
    {
     "name": "stderr",
     "output_type": "stream",
     "text": [
      "/home/lab10/.local/lib/python3.6/site-packages/xgboost/sklearn.py:1146: UserWarning: The use of label encoder in XGBClassifier is deprecated and will be removed in a future release. To remove this warning, do the following: 1) Pass option use_label_encoder=False when constructing XGBClassifier object; and 2) Encode your labels (y) as integers starting with 0, i.e. 0, 1, 2, ..., [num_class - 1].\n",
      "  warnings.warn(label_encoder_deprecation_msg, UserWarning)\n",
      "\n"
     ]
    },
    {
     "name": "stdout",
     "output_type": "stream",
     "text": [
      "[12:53:26] WARNING: ../src/learner.cc:573:                                       \n",
      "Parameters: { \"colsample_bytree\", \"subsample\", \"tree_method\" } might not be used.\n",
      "\n",
      "  This may not be accurate due to some parameters are only used in language bindings but\n",
      "  passed down to XGBoost core.  Or some parameters are not used but slip through this\n",
      "  verification. Please open an issue if you find above cases.\n",
      "\n",
      "\n",
      "[0]\tvalidation_0-auc:0.54865\tvalidation_1-auc:0.54871                            \n",
      "[49]\tvalidation_0-auc:0.57324\tvalidation_1-auc:0.57214                           \n",
      "==================================================                               \n",
      "XGBClassifier(base_score=0.7000000000000001, booster='gblinear',                 \n",
      "              colsample_bylevel=None, colsample_bynode=None,\n",
      "              colsample_bytree=0.6000000000000001, gamma=None, gpu_id=-1,\n",
      "              importance_type='gain', interaction_constraints=None,\n",
      "              learning_rate=0.12, max_delta_step=None, max_depth=None,\n",
      "              min_child_weight=None, missing=nan, monotone_constraints=None,\n",
      "              n_estimators=50, n_jobs=4, num_parallel_tree=None,\n",
      "              objective='reg:logistic', random_state=0, reg_alpha=10.0,\n",
      "              reg_lambda=0.001, scale_pos_weight=2.0, subsample=0.8,\n",
      "              tree_method='gpu_hist', validate_parameters=1, verbosity=None)\n",
      "train best     score:                                                            \n",
      "0.5721                                                                           \n",
      "test   roc_auc_score:                                                            \n",
      "0.5722                                                                           \n",
      "ok                                                                               \n",
      "==================================================                               \n",
      " 22%|██▏       | 11/50 [02:59<11:02, 16.99s/trial, best loss: 0.3187287046525331]"
     ]
    },
    {
     "name": "stderr",
     "output_type": "stream",
     "text": [
      "/home/lab10/.local/lib/python3.6/site-packages/xgboost/sklearn.py:1146: UserWarning: The use of label encoder in XGBClassifier is deprecated and will be removed in a future release. To remove this warning, do the following: 1) Pass option use_label_encoder=False when constructing XGBClassifier object; and 2) Encode your labels (y) as integers starting with 0, i.e. 0, 1, 2, ..., [num_class - 1].\n",
      "  warnings.warn(label_encoder_deprecation_msg, UserWarning)\n",
      "\n"
     ]
    },
    {
     "name": "stdout",
     "output_type": "stream",
     "text": [
      "[0]\tvalidation_0-auc:0.68306\tvalidation_1-auc:0.67849                            \n",
      "[49]\tvalidation_0-auc:0.79259\tvalidation_1-auc:0.76125                           \n",
      "==================================================                               \n",
      "XGBClassifier(base_score=0.7000000000000001, booster='gbtree',                   \n",
      "              colsample_bylevel=1, colsample_bynode=1, colsample_bytree=0.8,\n",
      "              gamma=0, gpu_id=0, importance_type='gain',\n",
      "              interaction_constraints='', learning_rate=0.15, max_delta_step=0,\n",
      "              max_depth=6, min_child_weight=1, missing=nan,\n",
      "              monotone_constraints='()', n_estimators=50, n_jobs=4,\n",
      "              num_parallel_tree=1, objective='reg:logistic', random_state=0,\n",
      "              reg_alpha=10.0, reg_lambda=0.01, scale_pos_weight=2.0,\n",
      "              subsample=0.8, tree_method='gpu_hist', validate_parameters=1,\n",
      "              verbosity=None)\n",
      "train best     score:                                                            \n",
      "0.7612                                                                           \n",
      "test   roc_auc_score:                                                            \n",
      "0.7612                                                                           \n",
      "ok                                                                               \n",
      "==================================================                               \n",
      " 24%|██▍       | 12/50 [03:03<08:11, 12.95s/trial, best loss: 0.3187287046525331]"
     ]
    },
    {
     "name": "stderr",
     "output_type": "stream",
     "text": [
      "/home/lab10/.local/lib/python3.6/site-packages/xgboost/sklearn.py:1146: UserWarning: The use of label encoder in XGBClassifier is deprecated and will be removed in a future release. To remove this warning, do the following: 1) Pass option use_label_encoder=False when constructing XGBClassifier object; and 2) Encode your labels (y) as integers starting with 0, i.e. 0, 1, 2, ..., [num_class - 1].\n",
      "  warnings.warn(label_encoder_deprecation_msg, UserWarning)\n",
      "\n"
     ]
    },
    {
     "name": "stdout",
     "output_type": "stream",
     "text": [
      "[0]\tvalidation_0-auc:0.66110\tvalidation_1-auc:0.64855                            \n",
      "[49]\tvalidation_0-auc:0.79574\tvalidation_1-auc:0.76061                           \n",
      "==================================================                               \n",
      "XGBClassifier(base_score=0.7000000000000001, booster='gbtree',                   \n",
      "              colsample_bylevel=1, colsample_bynode=1,\n",
      "              colsample_bytree=0.6000000000000001, gamma=0, gpu_id=0,\n",
      "              importance_type='gain', interaction_constraints='',\n",
      "              learning_rate=0.12, max_delta_step=0, max_depth=6,\n",
      "              min_child_weight=1, missing=nan, monotone_constraints='()',\n",
      "              n_estimators=50, n_jobs=4, num_parallel_tree=1,\n",
      "              objective='reg:logistic', random_state=0, reg_alpha=0.01,\n",
      "              reg_lambda=0.001, scale_pos_weight=8.0,\n",
      "              subsample=0.6000000000000001, tree_method='gpu_hist',\n",
      "              validate_parameters=1, verbosity=None)\n",
      "train best     score:                                                            \n",
      "0.7606                                                                           \n",
      "test   roc_auc_score:                                                            \n",
      "0.7606                                                                           \n",
      "ok                                                                               \n",
      "==================================================                               \n",
      " 26%|██▌       | 13/50 [03:07<06:12, 10.07s/trial, best loss: 0.3187287046525331]"
     ]
    },
    {
     "name": "stderr",
     "output_type": "stream",
     "text": [
      "/home/lab10/.local/lib/python3.6/site-packages/xgboost/sklearn.py:1146: UserWarning: The use of label encoder in XGBClassifier is deprecated and will be removed in a future release. To remove this warning, do the following: 1) Pass option use_label_encoder=False when constructing XGBClassifier object; and 2) Encode your labels (y) as integers starting with 0, i.e. 0, 1, 2, ..., [num_class - 1].\n",
      "  warnings.warn(label_encoder_deprecation_msg, UserWarning)\n",
      "\n"
     ]
    },
    {
     "name": "stdout",
     "output_type": "stream",
     "text": [
      "[0]\tvalidation_0-auc:0.65343\tvalidation_1-auc:0.64822                            \n",
      "[49]\tvalidation_0-auc:0.78094\tvalidation_1-auc:0.75647                           \n",
      "==================================================                               \n",
      "XGBClassifier(base_score=0.8, booster='dart', colsample_bylevel=1,               \n",
      "              colsample_bynode=1, colsample_bytree=0.6000000000000001, gamma=0,\n",
      "              gpu_id=0, importance_type='gain', interaction_constraints='',\n",
      "              learning_rate=0.09, max_delta_step=0, max_depth=6,\n",
      "              min_child_weight=1, missing=nan, monotone_constraints='()',\n",
      "              n_estimators=50, n_jobs=4, num_parallel_tree=1,\n",
      "              objective='binary:logitraw', random_state=0, reg_alpha=1.0,\n",
      "              reg_lambda=1.0, scale_pos_weight=6.0, subsample=0.2,\n",
      "              tree_method='gpu_hist', validate_parameters=1, verbosity=None)\n",
      "train best     score:                                                            \n",
      "0.7565                                                                           \n",
      "test   roc_auc_score:                                                            \n",
      "0.7565                                                                           \n",
      "ok                                                                               \n",
      "==================================================                               \n",
      " 28%|██▊       | 14/50 [03:25<07:39, 12.75s/trial, best loss: 0.3187287046525331]"
     ]
    },
    {
     "name": "stderr",
     "output_type": "stream",
     "text": [
      "/home/lab10/.local/lib/python3.6/site-packages/xgboost/sklearn.py:1146: UserWarning: The use of label encoder in XGBClassifier is deprecated and will be removed in a future release. To remove this warning, do the following: 1) Pass option use_label_encoder=False when constructing XGBClassifier object; and 2) Encode your labels (y) as integers starting with 0, i.e. 0, 1, 2, ..., [num_class - 1].\n",
      "  warnings.warn(label_encoder_deprecation_msg, UserWarning)\n",
      "\n"
     ]
    },
    {
     "name": "stdout",
     "output_type": "stream",
     "text": [
      "[12:54:08] WARNING: ../src/learner.cc:573:                                       \n",
      "Parameters: { \"colsample_bytree\", \"subsample\", \"tree_method\" } might not be used.\n",
      "\n",
      "  This may not be accurate due to some parameters are only used in language bindings but\n",
      "  passed down to XGBoost core.  Or some parameters are not used but slip through this\n",
      "  verification. Please open an issue if you find above cases.\n",
      "\n",
      "\n",
      "[0]\tvalidation_0-auc:0.55395\tvalidation_1-auc:0.55379                            \n",
      "[49]\tvalidation_0-auc:0.57719\tvalidation_1-auc:0.57474                           \n",
      "==================================================                               \n",
      "XGBClassifier(base_score=0.7000000000000001, booster='gblinear',                 \n",
      "              colsample_bylevel=None, colsample_bynode=None,\n",
      "              colsample_bytree=0.2, gamma=None, gpu_id=-1,\n",
      "              importance_type='gain', interaction_constraints=None,\n",
      "              learning_rate=0.09, max_delta_step=None, max_depth=None,\n",
      "              min_child_weight=None, missing=nan, monotone_constraints=None,\n",
      "              n_estimators=50, n_jobs=4, num_parallel_tree=None,\n",
      "              objective='binary:logitraw', random_state=0, reg_alpha=5.0,\n",
      "              reg_lambda=1e-05, scale_pos_weight=4.0, subsample=0.2,\n",
      "              tree_method='gpu_hist', validate_parameters=1, verbosity=None)\n",
      "train best     score:                                                            \n",
      "0.5747                                                                           \n",
      "test   roc_auc_score:                                                            \n",
      "0.5747                                                                           \n",
      "ok                                                                               \n",
      "==================================================                               \n",
      " 30%|███       | 15/50 [03:44<08:30, 14.57s/trial, best loss: 0.3187287046525331]"
     ]
    },
    {
     "name": "stderr",
     "output_type": "stream",
     "text": [
      "/home/lab10/.local/lib/python3.6/site-packages/xgboost/sklearn.py:1146: UserWarning: The use of label encoder in XGBClassifier is deprecated and will be removed in a future release. To remove this warning, do the following: 1) Pass option use_label_encoder=False when constructing XGBClassifier object; and 2) Encode your labels (y) as integers starting with 0, i.e. 0, 1, 2, ..., [num_class - 1].\n",
      "  warnings.warn(label_encoder_deprecation_msg, UserWarning)\n",
      "\n"
     ]
    },
    {
     "name": "stdout",
     "output_type": "stream",
     "text": [
      "[0]\tvalidation_0-auc:0.68115\tvalidation_1-auc:0.67478                            \n",
      "[49]\tvalidation_0-auc:0.78532\tvalidation_1-auc:0.75606                           \n",
      "==================================================                               \n",
      "XGBClassifier(base_score=0.5, booster='gbtree', colsample_bylevel=1,             \n",
      "              colsample_bynode=1, colsample_bytree=0.8, gamma=0, gpu_id=0,\n",
      "              importance_type='gain', interaction_constraints='',\n",
      "              learning_rate=0.12, max_delta_step=0, max_depth=6,\n",
      "              min_child_weight=1, missing=nan, monotone_constraints='()',\n",
      "              n_estimators=50, n_jobs=4, num_parallel_tree=1,\n",
      "              objective='reg:logistic', random_state=0, reg_alpha=0.0001,\n",
      "              reg_lambda=10.0, scale_pos_weight=8.0, subsample=0.2,\n",
      "              tree_method='gpu_hist', validate_parameters=1, verbosity=None)\n",
      "train best     score:                                                            \n",
      "0.7561                                                                           \n",
      "test   roc_auc_score:                                                            \n",
      "0.7561                                                                           \n",
      "ok                                                                               \n",
      "==================================================                               \n",
      " 32%|███▏      | 16/50 [03:48<06:23, 11.28s/trial, best loss: 0.3187287046525331]"
     ]
    },
    {
     "name": "stderr",
     "output_type": "stream",
     "text": [
      "/home/lab10/.local/lib/python3.6/site-packages/xgboost/sklearn.py:1146: UserWarning: The use of label encoder in XGBClassifier is deprecated and will be removed in a future release. To remove this warning, do the following: 1) Pass option use_label_encoder=False when constructing XGBClassifier object; and 2) Encode your labels (y) as integers starting with 0, i.e. 0, 1, 2, ..., [num_class - 1].\n",
      "  warnings.warn(label_encoder_deprecation_msg, UserWarning)\n",
      "\n"
     ]
    },
    {
     "name": "stdout",
     "output_type": "stream",
     "text": [
      "[0]\tvalidation_0-auc:0.66310\tvalidation_1-auc:0.65172                            \n",
      "[49]\tvalidation_0-auc:0.81199\tvalidation_1-auc:0.75876                           \n",
      "==================================================                               \n",
      "XGBClassifier(base_score=0.6000000000000001, booster='dart',                     \n",
      "              colsample_bylevel=1, colsample_bynode=1,\n",
      "              colsample_bytree=0.6000000000000001, gamma=0, gpu_id=0,\n",
      "              importance_type='gain', interaction_constraints='',\n",
      "              learning_rate=0.21, max_delta_step=0, max_depth=6,\n",
      "              min_child_weight=1, missing=nan, monotone_constraints='()',\n",
      "              n_estimators=50, n_jobs=4, num_parallel_tree=1,\n",
      "              objective='reg:logistic', random_state=0, reg_alpha=0.01,\n",
      "              reg_lambda=0.001, scale_pos_weight=4.0,\n",
      "              subsample=0.6000000000000001, tree_method='gpu_hist',\n",
      "              validate_parameters=1, verbosity=None)\n",
      "train best     score:                                                            \n",
      "0.7593                                                                           \n",
      "test   roc_auc_score:                                                            \n",
      "0.7593                                                                           \n",
      "ok                                                                               \n",
      "==================================================                               \n",
      " 34%|███▍      | 17/50 [04:05<07:13, 13.12s/trial, best loss: 0.3187287046525331]"
     ]
    },
    {
     "name": "stderr",
     "output_type": "stream",
     "text": [
      "/home/lab10/.local/lib/python3.6/site-packages/xgboost/sklearn.py:1146: UserWarning: The use of label encoder in XGBClassifier is deprecated and will be removed in a future release. To remove this warning, do the following: 1) Pass option use_label_encoder=False when constructing XGBClassifier object; and 2) Encode your labels (y) as integers starting with 0, i.e. 0, 1, 2, ..., [num_class - 1].\n",
      "  warnings.warn(label_encoder_deprecation_msg, UserWarning)\n",
      "\n"
     ]
    },
    {
     "name": "stdout",
     "output_type": "stream",
     "text": [
      "[0]\tvalidation_0-auc:0.63850\tvalidation_1-auc:0.63759                            \n",
      "[49]\tvalidation_0-auc:0.77392\tvalidation_1-auc:0.75689                           \n",
      "==================================================                               \n",
      "XGBClassifier(base_score=0.6000000000000001, booster='gbtree',                   \n",
      "              colsample_bylevel=1, colsample_bynode=1, colsample_bytree=0.4,\n",
      "              gamma=0, gpu_id=0, importance_type='gain',\n",
      "              interaction_constraints='', learning_rate=0.09, max_delta_step=0,\n",
      "              max_depth=6, min_child_weight=1, missing=nan,\n",
      "              monotone_constraints='()', n_estimators=50, n_jobs=4,\n",
      "              num_parallel_tree=1, random_state=0, reg_alpha=0.01,\n",
      "              reg_lambda=5.0, scale_pos_weight=2.0, subsample=0.2,\n",
      "              tree_method='gpu_hist', validate_parameters=1, verbosity=None)\n",
      "train best     score:                                                            \n",
      "0.7569                                                                           \n",
      "test   roc_auc_score:                                                            \n",
      "0.7569                                                                           \n",
      "ok                                                                               \n",
      "==================================================                               \n",
      " 36%|███▌      | 18/50 [04:09<05:27, 10.23s/trial, best loss: 0.3187287046525331]"
     ]
    },
    {
     "name": "stderr",
     "output_type": "stream",
     "text": [
      "/home/lab10/.local/lib/python3.6/site-packages/xgboost/sklearn.py:1146: UserWarning: The use of label encoder in XGBClassifier is deprecated and will be removed in a future release. To remove this warning, do the following: 1) Pass option use_label_encoder=False when constructing XGBClassifier object; and 2) Encode your labels (y) as integers starting with 0, i.e. 0, 1, 2, ..., [num_class - 1].\n",
      "  warnings.warn(label_encoder_deprecation_msg, UserWarning)\n",
      "\n"
     ]
    },
    {
     "name": "stdout",
     "output_type": "stream",
     "text": [
      "[0]\tvalidation_0-auc:0.61020\tvalidation_1-auc:0.61373                            \n",
      "[49]\tvalidation_0-auc:0.74386\tvalidation_1-auc:0.73859                           \n",
      "==================================================                               \n",
      "XGBClassifier(base_score=0.7000000000000001, booster='gbtree',                   \n",
      "              colsample_bylevel=1, colsample_bynode=1, colsample_bytree=0.4,\n",
      "              gamma=0, gpu_id=0, importance_type='gain',\n",
      "              interaction_constraints='', learning_rate=0.03, max_delta_step=0,\n",
      "              max_depth=6, min_child_weight=1, missing=nan,\n",
      "              monotone_constraints='()', n_estimators=50, n_jobs=4,\n",
      "              num_parallel_tree=1, objective='reg:logistic', random_state=0,\n",
      "              reg_alpha=0.001, reg_lambda=100.0, scale_pos_weight=2.0,\n",
      "              subsample=1.0, tree_method='gpu_hist', validate_parameters=1,\n",
      "              verbosity=None)\n",
      "train best     score:                                                            \n",
      "0.7386                                                                           \n",
      "test   roc_auc_score:                                                            \n",
      "0.7386                                                                           \n",
      "ok                                                                               \n",
      "==================================================                               \n",
      " 38%|███▊      | 19/50 [04:12<04:11,  8.12s/trial, best loss: 0.3187287046525331]"
     ]
    },
    {
     "name": "stderr",
     "output_type": "stream",
     "text": [
      "/home/lab10/.local/lib/python3.6/site-packages/xgboost/sklearn.py:1146: UserWarning: The use of label encoder in XGBClassifier is deprecated and will be removed in a future release. To remove this warning, do the following: 1) Pass option use_label_encoder=False when constructing XGBClassifier object; and 2) Encode your labels (y) as integers starting with 0, i.e. 0, 1, 2, ..., [num_class - 1].\n",
      "  warnings.warn(label_encoder_deprecation_msg, UserWarning)\n",
      "\n"
     ]
    },
    {
     "name": "stdout",
     "output_type": "stream",
     "text": [
      "[0]\tvalidation_0-auc:0.66307\tvalidation_1-auc:0.65198                            \n",
      "[49]\tvalidation_0-auc:0.79775\tvalidation_1-auc:0.76207                           \n",
      "==================================================                               \n",
      "XGBClassifier(base_score=0.7000000000000001, booster='dart',                     \n",
      "              colsample_bylevel=1, colsample_bynode=1,\n",
      "              colsample_bytree=0.6000000000000001, gamma=0, gpu_id=0,\n",
      "              importance_type='gain', interaction_constraints='',\n",
      "              learning_rate=0.12, max_delta_step=0, max_depth=6,\n",
      "              min_child_weight=1, missing=nan, monotone_constraints='()',\n",
      "              n_estimators=50, n_jobs=4, num_parallel_tree=1,\n",
      "              objective='reg:logistic', random_state=0, reg_alpha=5.0,\n",
      "              reg_lambda=0.001, scale_pos_weight=8.0, subsample=0.8,\n",
      "              tree_method='gpu_hist', validate_parameters=1, verbosity=None)\n",
      "train best     score:                                                            \n",
      "0.7621                                                                           \n",
      "test   roc_auc_score:                                                            \n",
      "0.7621                                                                           \n",
      "ok                                                                               \n",
      "==================================================                               \n",
      " 40%|████      | 20/50 [04:31<05:43, 11.44s/trial, best loss: 0.3187287046525331]"
     ]
    },
    {
     "name": "stderr",
     "output_type": "stream",
     "text": [
      "/home/lab10/.local/lib/python3.6/site-packages/xgboost/sklearn.py:1146: UserWarning: The use of label encoder in XGBClassifier is deprecated and will be removed in a future release. To remove this warning, do the following: 1) Pass option use_label_encoder=False when constructing XGBClassifier object; and 2) Encode your labels (y) as integers starting with 0, i.e. 0, 1, 2, ..., [num_class - 1].\n",
      "  warnings.warn(label_encoder_deprecation_msg, UserWarning)\n",
      "\n"
     ]
    },
    {
     "name": "stdout",
     "output_type": "stream",
     "text": [
      "[0]\tvalidation_0-auc:0.66209\tvalidation_1-auc:0.64797                            \n",
      "[49]\tvalidation_0-auc:0.77893\tvalidation_1-auc:0.75616                           \n",
      "==================================================                               \n",
      "XGBClassifier(base_score=0.6000000000000001, booster='dart',                     \n",
      "              colsample_bylevel=1, colsample_bynode=1, colsample_bytree=0.4,\n",
      "              gamma=0, gpu_id=0, importance_type='gain',\n",
      "              interaction_constraints='', learning_rate=0.06, max_delta_step=0,\n",
      "              max_depth=6, min_child_weight=1, missing=nan,\n",
      "              monotone_constraints='()', n_estimators=50, n_jobs=4,\n",
      "              num_parallel_tree=1, objective='binary:logitraw', random_state=0,\n",
      "              reg_alpha=1e-05, reg_lambda=0.1, scale_pos_weight=6.0,\n",
      "              subsample=1.0, tree_method='gpu_hist', validate_parameters=1,\n",
      "              verbosity=None)\n",
      "train best     score:                                                            \n",
      "0.7562                                                                           \n",
      "test   roc_auc_score:                                                            \n",
      "0.7562                                                                           \n",
      "ok                                                                               \n",
      "==================================================                               \n",
      " 42%|████▏     | 21/50 [04:50<06:32, 13.54s/trial, best loss: 0.3187287046525331]"
     ]
    },
    {
     "name": "stderr",
     "output_type": "stream",
     "text": [
      "/home/lab10/.local/lib/python3.6/site-packages/xgboost/sklearn.py:1146: UserWarning: The use of label encoder in XGBClassifier is deprecated and will be removed in a future release. To remove this warning, do the following: 1) Pass option use_label_encoder=False when constructing XGBClassifier object; and 2) Encode your labels (y) as integers starting with 0, i.e. 0, 1, 2, ..., [num_class - 1].\n",
      "  warnings.warn(label_encoder_deprecation_msg, UserWarning)\n",
      "\n"
     ]
    },
    {
     "name": "stdout",
     "output_type": "stream",
     "text": [
      "[0]\tvalidation_0-auc:0.66190\tvalidation_1-auc:0.64918                            \n",
      "[49]\tvalidation_0-auc:0.77730\tvalidation_1-auc:0.75542                           \n",
      "==================================================                               \n",
      "XGBClassifier(base_score=0.5, booster='gbtree', colsample_bylevel=1,             \n",
      "              colsample_bynode=1, colsample_bytree=0.4, gamma=0, gpu_id=0,\n",
      "              importance_type='gain', interaction_constraints='',\n",
      "              learning_rate=0.06, max_delta_step=0, max_depth=6,\n",
      "              min_child_weight=1, missing=nan, monotone_constraints='()',\n",
      "              n_estimators=50, n_jobs=4, num_parallel_tree=1, random_state=0,\n",
      "              reg_alpha=5.0, reg_lambda=0.1, scale_pos_weight=6.0,\n",
      "              subsample=1.0, tree_method='gpu_hist', validate_parameters=1,\n",
      "              verbosity=None)\n",
      "train best     score:                                                            \n",
      "0.7554                                                                           \n",
      "test   roc_auc_score:                                                            \n",
      "0.7554                                                                           \n",
      "ok                                                                               \n",
      "==================================================                               \n",
      " 44%|████▍     | 22/50 [04:54<05:00, 10.72s/trial, best loss: 0.3187287046525331]"
     ]
    },
    {
     "name": "stderr",
     "output_type": "stream",
     "text": [
      "/home/lab10/.local/lib/python3.6/site-packages/xgboost/sklearn.py:1146: UserWarning: The use of label encoder in XGBClassifier is deprecated and will be removed in a future release. To remove this warning, do the following: 1) Pass option use_label_encoder=False when constructing XGBClassifier object; and 2) Encode your labels (y) as integers starting with 0, i.e. 0, 1, 2, ..., [num_class - 1].\n",
      "  warnings.warn(label_encoder_deprecation_msg, UserWarning)\n",
      "\n"
     ]
    },
    {
     "name": "stdout",
     "output_type": "stream",
     "text": [
      "[0]\tvalidation_0-auc:0.50000\tvalidation_1-auc:0.50000                            \n",
      "[49]\tvalidation_0-auc:0.50000\tvalidation_1-auc:0.50000                           \n",
      "==================================================                               \n",
      "XGBClassifier(base_score=0.8, booster='dart', colsample_bylevel=1,               \n",
      "              colsample_bynode=1, colsample_bytree=0.4, gamma=0, gpu_id=0,\n",
      "              importance_type='gain', interaction_constraints='',\n",
      "              learning_rate=0.0, max_delta_step=0, max_depth=6,\n",
      "              min_child_weight=1, missing=nan, monotone_constraints='()',\n",
      "              n_estimators=50, n_jobs=4, num_parallel_tree=1,\n",
      "              objective='reg:logistic', random_state=0, reg_alpha=100.0,\n",
      "              reg_lambda=1.0, scale_pos_weight=8.0, subsample=1.0,\n",
      "              tree_method='gpu_hist', validate_parameters=1, verbosity=None)\n",
      "train best     score:                                                            \n",
      "0.5000                                                                           \n",
      "test   roc_auc_score:                                                            \n",
      "0.5000                                                                           \n",
      "ok                                                                               \n",
      "==================================================                               \n",
      " 46%|████▌     | 23/50 [05:01<04:17,  9.55s/trial, best loss: 0.3187287046525331]"
     ]
    },
    {
     "name": "stderr",
     "output_type": "stream",
     "text": [
      "/home/lab10/.local/lib/python3.6/site-packages/xgboost/sklearn.py:1146: UserWarning: The use of label encoder in XGBClassifier is deprecated and will be removed in a future release. To remove this warning, do the following: 1) Pass option use_label_encoder=False when constructing XGBClassifier object; and 2) Encode your labels (y) as integers starting with 0, i.e. 0, 1, 2, ..., [num_class - 1].\n",
      "  warnings.warn(label_encoder_deprecation_msg, UserWarning)\n",
      "\n"
     ]
    },
    {
     "name": "stdout",
     "output_type": "stream",
     "text": [
      "[0]\tvalidation_0-auc:0.71073\tvalidation_1-auc:0.70511                            \n",
      "[49]\tvalidation_0-auc:0.78974\tvalidation_1-auc:0.76096                           \n",
      "==================================================                               \n",
      "XGBClassifier(base_score=0.6000000000000001, booster='gbtree',                   \n",
      "              colsample_bylevel=1, colsample_bynode=1, colsample_bytree=1.0,\n",
      "              gamma=0, gpu_id=0, importance_type='gain',\n",
      "              interaction_constraints='', learning_rate=0.12, max_delta_step=0,\n",
      "              max_depth=6, min_child_weight=1, missing=nan,\n",
      "              monotone_constraints='()', n_estimators=50, n_jobs=4,\n",
      "              num_parallel_tree=1, objective='reg:logistic', random_state=0,\n",
      "              reg_alpha=1e-05, reg_lambda=100.0, scale_pos_weight=6.0,\n",
      "              subsample=0.8, tree_method='gpu_hist', validate_parameters=1,\n",
      "              verbosity=None)\n",
      "train best     score:                                                            \n",
      "0.7610                                                                           \n",
      "test   roc_auc_score:                                                            \n",
      "0.7610                                                                           \n",
      "ok                                                                               \n",
      "==================================================                               \n",
      " 48%|████▊     | 24/50 [05:04<03:24,  7.85s/trial, best loss: 0.3187287046525331]"
     ]
    },
    {
     "name": "stderr",
     "output_type": "stream",
     "text": [
      "/home/lab10/.local/lib/python3.6/site-packages/xgboost/sklearn.py:1146: UserWarning: The use of label encoder in XGBClassifier is deprecated and will be removed in a future release. To remove this warning, do the following: 1) Pass option use_label_encoder=False when constructing XGBClassifier object; and 2) Encode your labels (y) as integers starting with 0, i.e. 0, 1, 2, ..., [num_class - 1].\n",
      "  warnings.warn(label_encoder_deprecation_msg, UserWarning)\n",
      "\n"
     ]
    },
    {
     "name": "stdout",
     "output_type": "stream",
     "text": [
      "[0]\tvalidation_0-auc:0.62635\tvalidation_1-auc:0.61057                            \n",
      "[49]\tvalidation_0-auc:0.79827\tvalidation_1-auc:0.76206                           \n",
      "==================================================                               \n",
      "XGBClassifier(base_score=0.7000000000000001, booster='dart',                     \n",
      "              colsample_bylevel=1, colsample_bynode=1, colsample_bytree=0.2,\n",
      "              gamma=0, gpu_id=0, importance_type='gain',\n",
      "              interaction_constraints='', learning_rate=0.15, max_delta_step=0,\n",
      "              max_depth=6, min_child_weight=1, missing=nan,\n",
      "              monotone_constraints='()', n_estimators=50, n_jobs=4,\n",
      "              num_parallel_tree=1, objective='reg:logistic', random_state=0,\n",
      "              reg_alpha=1e-05, reg_lambda=0.0001, scale_pos_weight=8.0,\n",
      "              subsample=1.0, tree_method='gpu_hist', validate_parameters=1,\n",
      "              verbosity=None)\n",
      "train best     score:                                                            \n",
      "0.7621                                                                           \n",
      "test   roc_auc_score:                                                            \n",
      "0.7621                                                                           \n",
      "ok                                                                               \n",
      "==================================================                               \n",
      " 50%|█████     | 25/50 [05:24<04:43, 11.34s/trial, best loss: 0.3187287046525331]"
     ]
    },
    {
     "name": "stderr",
     "output_type": "stream",
     "text": [
      "/home/lab10/.local/lib/python3.6/site-packages/xgboost/sklearn.py:1146: UserWarning: The use of label encoder in XGBClassifier is deprecated and will be removed in a future release. To remove this warning, do the following: 1) Pass option use_label_encoder=False when constructing XGBClassifier object; and 2) Encode your labels (y) as integers starting with 0, i.e. 0, 1, 2, ..., [num_class - 1].\n",
      "  warnings.warn(label_encoder_deprecation_msg, UserWarning)\n",
      "\n"
     ]
    },
    {
     "name": "stdout",
     "output_type": "stream",
     "text": [
      "[0]\tvalidation_0-auc:0.65182\tvalidation_1-auc:0.64358                            \n",
      "[49]\tvalidation_0-auc:0.76682\tvalidation_1-auc:0.75113                           \n",
      "==================================================                               \n",
      "XGBClassifier(base_score=0.6000000000000001, booster='dart',                     \n",
      "              colsample_bylevel=1, colsample_bynode=1, colsample_bytree=0.4,\n",
      "              gamma=0, gpu_id=0, importance_type='gain',\n",
      "              interaction_constraints='', learning_rate=0.03, max_delta_step=0,\n",
      "              max_depth=6, min_child_weight=1, missing=nan,\n",
      "              monotone_constraints='()', n_estimators=50, n_jobs=4,\n",
      "              num_parallel_tree=1, random_state=0, reg_alpha=0.001,\n",
      "              reg_lambda=0.001, scale_pos_weight=6.0, subsample=0.4,\n",
      "              tree_method='gpu_hist', validate_parameters=1, verbosity=None)\n",
      "train best     score:                                                            \n",
      "0.7511                                                                           \n",
      "test   roc_auc_score:                                                            \n",
      "0.7511                                                                           \n",
      "ok                                                                               \n",
      "==================================================                               \n",
      " 52%|█████▏    | 26/50 [05:43<05:27, 13.65s/trial, best loss: 0.3187287046525331]"
     ]
    },
    {
     "name": "stderr",
     "output_type": "stream",
     "text": [
      "/home/lab10/.local/lib/python3.6/site-packages/xgboost/sklearn.py:1146: UserWarning: The use of label encoder in XGBClassifier is deprecated and will be removed in a future release. To remove this warning, do the following: 1) Pass option use_label_encoder=False when constructing XGBClassifier object; and 2) Encode your labels (y) as integers starting with 0, i.e. 0, 1, 2, ..., [num_class - 1].\n",
      "  warnings.warn(label_encoder_deprecation_msg, UserWarning)\n",
      "\n"
     ]
    },
    {
     "name": "stdout",
     "output_type": "stream",
     "text": [
      "[0]\tvalidation_0-auc:0.68206\tvalidation_1-auc:0.67787                            \n",
      "[49]\tvalidation_0-auc:0.79106\tvalidation_1-auc:0.76311                           \n",
      "==================================================                               \n",
      "XGBClassifier(base_score=0.8, booster='gbtree', colsample_bylevel=1,             \n",
      "              colsample_bynode=1, colsample_bytree=0.8, gamma=0, gpu_id=0,\n",
      "              importance_type='gain', interaction_constraints='',\n",
      "              learning_rate=0.21, max_delta_step=0, max_depth=6,\n",
      "              min_child_weight=1, missing=nan, monotone_constraints='()',\n",
      "              n_estimators=50, n_jobs=4, num_parallel_tree=1,\n",
      "              objective='binary:logitraw', random_state=0, reg_alpha=100.0,\n",
      "              reg_lambda=0.01, scale_pos_weight=8.0, subsample=0.8,\n",
      "              tree_method='gpu_hist', validate_parameters=1, verbosity=None)\n",
      "train best     score:                                                            \n",
      "0.7631                                                                           \n",
      "test   roc_auc_score:                                                            \n",
      "0.7631                                                                           \n",
      "ok                                                                               \n",
      "==================================================                               \n",
      " 54%|█████▍    | 27/50 [05:47<04:04, 10.65s/trial, best loss: 0.3187287046525331]"
     ]
    },
    {
     "name": "stderr",
     "output_type": "stream",
     "text": [
      "/home/lab10/.local/lib/python3.6/site-packages/xgboost/sklearn.py:1146: UserWarning: The use of label encoder in XGBClassifier is deprecated and will be removed in a future release. To remove this warning, do the following: 1) Pass option use_label_encoder=False when constructing XGBClassifier object; and 2) Encode your labels (y) as integers starting with 0, i.e. 0, 1, 2, ..., [num_class - 1].\n",
      "  warnings.warn(label_encoder_deprecation_msg, UserWarning)\n",
      "\n"
     ]
    },
    {
     "name": "stdout",
     "output_type": "stream",
     "text": [
      "[0]\tvalidation_0-auc:0.62615\tvalidation_1-auc:0.60994                            \n",
      "[49]\tvalidation_0-auc:0.78395\tvalidation_1-auc:0.75977                           \n",
      "==================================================                               \n",
      "XGBClassifier(base_score=0.5, booster='gbtree', colsample_bylevel=1,             \n",
      "              colsample_bynode=1, colsample_bytree=0.2, gamma=0, gpu_id=0,\n",
      "              importance_type='gain', interaction_constraints='',\n",
      "              learning_rate=0.09, max_delta_step=0, max_depth=6,\n",
      "              min_child_weight=1, missing=nan, monotone_constraints='()',\n",
      "              n_estimators=50, n_jobs=4, num_parallel_tree=1,\n",
      "              objective='reg:logistic', random_state=0, reg_alpha=5.0,\n",
      "              reg_lambda=0.001, scale_pos_weight=6.0, subsample=1.0,\n",
      "              tree_method='gpu_hist', validate_parameters=1, verbosity=None)\n",
      "train best     score:                                                            \n",
      "0.7598                                                                           \n",
      "test   roc_auc_score:                                                            \n",
      "0.7598                                                                           \n",
      "ok                                                                               \n",
      "==================================================                               \n",
      " 56%|█████▌    | 28/50 [05:50<03:08,  8.57s/trial, best loss: 0.3187287046525331]"
     ]
    },
    {
     "name": "stderr",
     "output_type": "stream",
     "text": [
      "/home/lab10/.local/lib/python3.6/site-packages/xgboost/sklearn.py:1146: UserWarning: The use of label encoder in XGBClassifier is deprecated and will be removed in a future release. To remove this warning, do the following: 1) Pass option use_label_encoder=False when constructing XGBClassifier object; and 2) Encode your labels (y) as integers starting with 0, i.e. 0, 1, 2, ..., [num_class - 1].\n",
      "  warnings.warn(label_encoder_deprecation_msg, UserWarning)\n",
      "\n"
     ]
    },
    {
     "name": "stdout",
     "output_type": "stream",
     "text": [
      "[0]\tvalidation_0-auc:0.65270\tvalidation_1-auc:0.64232                            \n",
      "[49]\tvalidation_0-auc:0.80058\tvalidation_1-auc:0.75701                           \n",
      "==================================================                               \n",
      "XGBClassifier(base_score=0.7000000000000001, booster='dart',                     \n",
      "              colsample_bylevel=1, colsample_bynode=1, colsample_bytree=0.4,\n",
      "              gamma=0, gpu_id=0, importance_type='gain',\n",
      "              interaction_constraints='', learning_rate=0.21, max_delta_step=0,\n",
      "              max_depth=6, min_child_weight=1, missing=nan,\n",
      "              monotone_constraints='()', n_estimators=50, n_jobs=4,\n",
      "              num_parallel_tree=1, objective='binary:logitraw', random_state=0,\n",
      "              reg_alpha=5.0, reg_lambda=0.01, scale_pos_weight=8.0,\n",
      "              subsample=0.4, tree_method='gpu_hist', validate_parameters=1,\n",
      "              verbosity=None)\n",
      "train best     score:                                                            \n",
      "0.7573                                                                           \n",
      "test   roc_auc_score:                                                            \n",
      "0.7573                                                                           \n",
      "ok                                                                               \n",
      "==================================================                               \n",
      " 58%|█████▊    | 29/50 [06:07<03:53, 11.11s/trial, best loss: 0.3187287046525331]"
     ]
    },
    {
     "name": "stderr",
     "output_type": "stream",
     "text": [
      "/home/lab10/.local/lib/python3.6/site-packages/xgboost/sklearn.py:1146: UserWarning: The use of label encoder in XGBClassifier is deprecated and will be removed in a future release. To remove this warning, do the following: 1) Pass option use_label_encoder=False when constructing XGBClassifier object; and 2) Encode your labels (y) as integers starting with 0, i.e. 0, 1, 2, ..., [num_class - 1].\n",
      "  warnings.warn(label_encoder_deprecation_msg, UserWarning)\n",
      "\n"
     ]
    },
    {
     "name": "stdout",
     "output_type": "stream",
     "text": [
      "[0]\tvalidation_0-auc:0.66223\tvalidation_1-auc:0.65078                            \n",
      "[49]\tvalidation_0-auc:0.81149\tvalidation_1-auc:0.76190                           \n",
      "==================================================                               \n",
      "XGBClassifier(base_score=0.8, booster='dart', colsample_bylevel=1,               \n",
      "              colsample_bynode=1, colsample_bytree=0.6000000000000001, gamma=0,\n",
      "              gpu_id=0, importance_type='gain', interaction_constraints='',\n",
      "              learning_rate=0.18, max_delta_step=0, max_depth=6,\n",
      "              min_child_weight=1, missing=nan, monotone_constraints='()',\n",
      "              n_estimators=50, n_jobs=4, num_parallel_tree=1,\n",
      "              objective='reg:logistic', random_state=0, reg_alpha=1e-05,\n",
      "              reg_lambda=0.0001, scale_pos_weight=6.0, subsample=0.8,\n",
      "              tree_method='gpu_hist', validate_parameters=1, verbosity=None)\n",
      "train best     score:                                                            \n",
      "0.7619                                                                           \n",
      "test   roc_auc_score:                                                            \n",
      "0.7619                                                                           \n",
      "ok                                                                               \n",
      "==================================================                               \n",
      " 60%|██████    | 30/50 [06:26<04:26, 13.30s/trial, best loss: 0.3187287046525331]"
     ]
    },
    {
     "name": "stderr",
     "output_type": "stream",
     "text": [
      "/home/lab10/.local/lib/python3.6/site-packages/xgboost/sklearn.py:1146: UserWarning: The use of label encoder in XGBClassifier is deprecated and will be removed in a future release. To remove this warning, do the following: 1) Pass option use_label_encoder=False when constructing XGBClassifier object; and 2) Encode your labels (y) as integers starting with 0, i.e. 0, 1, 2, ..., [num_class - 1].\n",
      "  warnings.warn(label_encoder_deprecation_msg, UserWarning)\n",
      "\n"
     ]
    },
    {
     "name": "stdout",
     "output_type": "stream",
     "text": [
      "[0]\tvalidation_0-auc:0.66513\tvalidation_1-auc:0.65203                            \n",
      "[49]\tvalidation_0-auc:0.80648\tvalidation_1-auc:0.76248                           \n",
      "==================================================                               \n",
      "XGBClassifier(base_score=0.6000000000000001, booster='gbtree',                   \n",
      "              colsample_bylevel=1, colsample_bynode=1,\n",
      "              colsample_bytree=0.6000000000000001, gamma=0, gpu_id=0,\n",
      "              importance_type='gain', interaction_constraints='',\n",
      "              learning_rate=0.15, max_delta_step=0, max_depth=6,\n",
      "              min_child_weight=1, missing=nan, monotone_constraints='()',\n",
      "              n_estimators=50, n_jobs=4, num_parallel_tree=1,\n",
      "              objective='reg:logistic', random_state=0, reg_alpha=0.1,\n",
      "              reg_lambda=0.1, scale_pos_weight=8.0, subsample=1.0,\n",
      "              tree_method='gpu_hist', validate_parameters=1, verbosity=None)\n",
      "train best     score:                                                            \n",
      "0.7625                                                                           \n",
      "test   roc_auc_score:                                                            \n",
      "0.7625                                                                           \n",
      "ok                                                                               \n",
      "==================================================                               \n",
      " 62%|██████▏   | 31/50 [06:30<03:19, 10.51s/trial, best loss: 0.3187287046525331]"
     ]
    },
    {
     "name": "stderr",
     "output_type": "stream",
     "text": [
      "/home/lab10/.local/lib/python3.6/site-packages/xgboost/sklearn.py:1146: UserWarning: The use of label encoder in XGBClassifier is deprecated and will be removed in a future release. To remove this warning, do the following: 1) Pass option use_label_encoder=False when constructing XGBClassifier object; and 2) Encode your labels (y) as integers starting with 0, i.e. 0, 1, 2, ..., [num_class - 1].\n",
      "  warnings.warn(label_encoder_deprecation_msg, UserWarning)\n",
      "\n"
     ]
    },
    {
     "name": "stdout",
     "output_type": "stream",
     "text": [
      "[0]\tvalidation_0-auc:0.62628\tvalidation_1-auc:0.61033                            \n",
      "[49]\tvalidation_0-auc:0.80781\tvalidation_1-auc:0.76168                           \n",
      "==================================================                               \n",
      "XGBClassifier(base_score=0.5, booster='gbtree', colsample_bylevel=1,             \n",
      "              colsample_bynode=1, colsample_bytree=0.2, gamma=0, gpu_id=0,\n",
      "              importance_type='gain', interaction_constraints='',\n",
      "              learning_rate=0.21, max_delta_step=0, max_depth=6,\n",
      "              min_child_weight=1, missing=nan, monotone_constraints='()',\n",
      "              n_estimators=50, n_jobs=4, num_parallel_tree=1, random_state=0,\n",
      "              reg_alpha=0.1, reg_lambda=0.1, scale_pos_weight=6.0,\n",
      "              subsample=1.0, tree_method='gpu_hist', validate_parameters=1,\n",
      "              verbosity=None)\n",
      "train best     score:                                                            \n",
      "0.7617                                                                           \n",
      "test   roc_auc_score:                                                            \n",
      "0.7617                                                                           \n",
      "ok                                                                               \n",
      "==================================================                               \n",
      " 64%|██████▍   | 32/50 [06:33<02:32,  8.46s/trial, best loss: 0.3187287046525331]"
     ]
    },
    {
     "name": "stderr",
     "output_type": "stream",
     "text": [
      "/home/lab10/.local/lib/python3.6/site-packages/xgboost/sklearn.py:1146: UserWarning: The use of label encoder in XGBClassifier is deprecated and will be removed in a future release. To remove this warning, do the following: 1) Pass option use_label_encoder=False when constructing XGBClassifier object; and 2) Encode your labels (y) as integers starting with 0, i.e. 0, 1, 2, ..., [num_class - 1].\n",
      "  warnings.warn(label_encoder_deprecation_msg, UserWarning)\n",
      "\n"
     ]
    },
    {
     "name": "stdout",
     "output_type": "stream",
     "text": [
      "[0]\tvalidation_0-auc:0.66233\tvalidation_1-auc:0.64870                            \n",
      "[49]\tvalidation_0-auc:0.80328\tvalidation_1-auc:0.76174                           \n",
      "==================================================                               \n",
      "XGBClassifier(base_score=0.6000000000000001, booster='gbtree',                   \n",
      "              colsample_bylevel=1, colsample_bynode=1, colsample_bytree=0.4,\n",
      "              gamma=0, gpu_id=0, importance_type='gain',\n",
      "              interaction_constraints='', learning_rate=0.15, max_delta_step=0,\n",
      "              max_depth=6, min_child_weight=1, missing=nan,\n",
      "              monotone_constraints='()', n_estimators=50, n_jobs=4,\n",
      "              num_parallel_tree=1, objective='reg:logistic', random_state=0,\n",
      "              reg_alpha=0.1, reg_lambda=0.1, scale_pos_weight=8.0,\n",
      "              subsample=1.0, tree_method='gpu_hist', validate_parameters=1,\n",
      "              verbosity=None)\n",
      "train best     score:                                                            \n",
      "0.7617                                                                           \n",
      "test   roc_auc_score:                                                            \n",
      "0.7617                                                                           \n",
      "ok                                                                               \n",
      "==================================================                               \n",
      " 66%|██████▌   | 33/50 [06:37<01:59,  7.02s/trial, best loss: 0.3187287046525331]"
     ]
    },
    {
     "name": "stderr",
     "output_type": "stream",
     "text": [
      "/home/lab10/.local/lib/python3.6/site-packages/xgboost/sklearn.py:1146: UserWarning: The use of label encoder in XGBClassifier is deprecated and will be removed in a future release. To remove this warning, do the following: 1) Pass option use_label_encoder=False when constructing XGBClassifier object; and 2) Encode your labels (y) as integers starting with 0, i.e. 0, 1, 2, ..., [num_class - 1].\n",
      "  warnings.warn(label_encoder_deprecation_msg, UserWarning)\n",
      "\n"
     ]
    },
    {
     "name": "stdout",
     "output_type": "stream",
     "text": [
      "[0]\tvalidation_0-auc:0.68988\tvalidation_1-auc:0.68278                            \n",
      "[49]\tvalidation_0-auc:0.80146\tvalidation_1-auc:0.76108                           \n",
      "==================================================                               \n",
      "XGBClassifier(base_score=0.5, booster='gbtree', colsample_bylevel=1,             \n",
      "              colsample_bynode=1, colsample_bytree=0.8, gamma=0, gpu_id=0,\n",
      "              importance_type='gain', interaction_constraints='',\n",
      "              learning_rate=0.18, max_delta_step=0, max_depth=6,\n",
      "              min_child_weight=1, missing=nan, monotone_constraints='()',\n",
      "              n_estimators=50, n_jobs=4, num_parallel_tree=1,\n",
      "              objective='binary:logitraw', random_state=0, reg_alpha=0.1,\n",
      "              reg_lambda=10.0, scale_pos_weight=8.0, subsample=0.4,\n",
      "              tree_method='gpu_hist', validate_parameters=1, verbosity=None)\n",
      "train best     score:                                                            \n",
      "0.7612                                                                           \n",
      "test   roc_auc_score:                                                            \n",
      "0.7613                                                                           \n",
      "ok                                                                               \n",
      "==================================================                               \n",
      " 68%|██████▊   | 34/50 [06:41<01:35,  5.98s/trial, best loss: 0.3187287046525331]"
     ]
    },
    {
     "name": "stderr",
     "output_type": "stream",
     "text": [
      "/home/lab10/.local/lib/python3.6/site-packages/xgboost/sklearn.py:1146: UserWarning: The use of label encoder in XGBClassifier is deprecated and will be removed in a future release. To remove this warning, do the following: 1) Pass option use_label_encoder=False when constructing XGBClassifier object; and 2) Encode your labels (y) as integers starting with 0, i.e. 0, 1, 2, ..., [num_class - 1].\n",
      "  warnings.warn(label_encoder_deprecation_msg, UserWarning)\n",
      "\n"
     ]
    },
    {
     "name": "stdout",
     "output_type": "stream",
     "text": [
      "[0]\tvalidation_0-auc:0.62569\tvalidation_1-auc:0.61070                            \n",
      "[49]\tvalidation_0-auc:0.80228\tvalidation_1-auc:0.76135                           \n",
      "==================================================                               \n",
      "XGBClassifier(base_score=0.6000000000000001, booster='gbtree',                   \n",
      "              colsample_bylevel=1, colsample_bynode=1, colsample_bytree=0.2,\n",
      "              gamma=0, gpu_id=0, importance_type='gain',\n",
      "              interaction_constraints='', learning_rate=0.18, max_delta_step=0,\n",
      "              max_depth=6, min_child_weight=1, missing=nan,\n",
      "              monotone_constraints='()', n_estimators=50, n_jobs=4,\n",
      "              num_parallel_tree=1, objective='reg:logistic', random_state=0,\n",
      "              reg_alpha=0.1, reg_lambda=0.1, scale_pos_weight=4.0,\n",
      "              subsample=1.0, tree_method='gpu_hist', validate_parameters=1,\n",
      "              verbosity=None)\n",
      "train best     score:                                                            \n",
      "0.7613                                                                           \n",
      "test   roc_auc_score:                                                            \n",
      "0.7613                                                                           \n",
      "ok                                                                               \n",
      "==================================================                               \n",
      " 70%|███████   | 35/50 [06:44<01:19,  5.30s/trial, best loss: 0.3187287046525331]"
     ]
    },
    {
     "name": "stderr",
     "output_type": "stream",
     "text": [
      "/home/lab10/.local/lib/python3.6/site-packages/xgboost/sklearn.py:1146: UserWarning: The use of label encoder in XGBClassifier is deprecated and will be removed in a future release. To remove this warning, do the following: 1) Pass option use_label_encoder=False when constructing XGBClassifier object; and 2) Encode your labels (y) as integers starting with 0, i.e. 0, 1, 2, ..., [num_class - 1].\n",
      "  warnings.warn(label_encoder_deprecation_msg, UserWarning)\n",
      "\n"
     ]
    },
    {
     "name": "stdout",
     "output_type": "stream",
     "text": [
      "[0]\tvalidation_0-auc:0.69588\tvalidation_1-auc:0.67978                            \n",
      "[49]\tvalidation_0-auc:0.80705\tvalidation_1-auc:0.76342                           \n",
      "==================================================                               \n",
      "XGBClassifier(base_score=0.6000000000000001, booster='gbtree',                   \n",
      "              colsample_bylevel=1, colsample_bynode=1, colsample_bytree=0.8,\n",
      "              gamma=0, gpu_id=0, importance_type='gain',\n",
      "              interaction_constraints='', learning_rate=0.15, max_delta_step=0,\n",
      "              max_depth=6, min_child_weight=1, missing=nan,\n",
      "              monotone_constraints='()', n_estimators=50, n_jobs=4,\n",
      "              num_parallel_tree=1, objective='reg:logistic', random_state=0,\n",
      "              reg_alpha=0.1, reg_lambda=0.01, scale_pos_weight=6.0,\n",
      "              subsample=1.0, tree_method='gpu_hist', validate_parameters=1,\n",
      "              verbosity=None)\n",
      "train best     score:                                                            \n",
      "0.7634                                                                           \n",
      "test   roc_auc_score:                                                            \n",
      "0.7634                                                                           \n",
      "ok                                                                               \n",
      "==================================================                               \n",
      " 72%|███████▏  | 36/50 [06:48<01:08,  4.86s/trial, best loss: 0.3187287046525331]"
     ]
    },
    {
     "name": "stderr",
     "output_type": "stream",
     "text": [
      "/home/lab10/.local/lib/python3.6/site-packages/xgboost/sklearn.py:1146: UserWarning: The use of label encoder in XGBClassifier is deprecated and will be removed in a future release. To remove this warning, do the following: 1) Pass option use_label_encoder=False when constructing XGBClassifier object; and 2) Encode your labels (y) as integers starting with 0, i.e. 0, 1, 2, ..., [num_class - 1].\n",
      "  warnings.warn(label_encoder_deprecation_msg, UserWarning)\n",
      "\n"
     ]
    },
    {
     "name": "stdout",
     "output_type": "stream",
     "text": [
      "[0]\tvalidation_0-auc:0.71288\tvalidation_1-auc:0.70629                            \n",
      "[49]\tvalidation_0-auc:0.78913\tvalidation_1-auc:0.76352                           \n",
      "==================================================                               \n",
      "XGBClassifier(base_score=0.5, booster='gbtree', colsample_bylevel=1,             \n",
      "              colsample_bynode=1, colsample_bytree=1.0, gamma=0, gpu_id=0,\n",
      "              importance_type='gain', interaction_constraints='',\n",
      "              learning_rate=0.21, max_delta_step=0, max_depth=6,\n",
      "              min_child_weight=1, missing=nan, monotone_constraints='()',\n",
      "              n_estimators=50, n_jobs=4, num_parallel_tree=1, random_state=0,\n",
      "              reg_alpha=100.0, reg_lambda=1e-05, scale_pos_weight=8.0,\n",
      "              subsample=0.6000000000000001, tree_method='gpu_hist',\n",
      "              validate_parameters=1, verbosity=None)\n",
      "train best     score:                                                            \n",
      "0.7635                                                                           \n",
      "test   roc_auc_score:                                                            \n",
      "0.7635                                                                           \n",
      "ok                                                                               \n",
      "==================================================                               \n",
      " 74%|███████▍  | 37/50 [06:52<00:56,  4.38s/trial, best loss: 0.3184526196125761]"
     ]
    },
    {
     "name": "stderr",
     "output_type": "stream",
     "text": [
      "/home/lab10/.local/lib/python3.6/site-packages/xgboost/sklearn.py:1146: UserWarning: The use of label encoder in XGBClassifier is deprecated and will be removed in a future release. To remove this warning, do the following: 1) Pass option use_label_encoder=False when constructing XGBClassifier object; and 2) Encode your labels (y) as integers starting with 0, i.e. 0, 1, 2, ..., [num_class - 1].\n",
      "  warnings.warn(label_encoder_deprecation_msg, UserWarning)\n",
      "\n"
     ]
    },
    {
     "name": "stdout",
     "output_type": "stream",
     "text": [
      "[0]\tvalidation_0-auc:0.70743\tvalidation_1-auc:0.70212                            \n",
      "[49]\tvalidation_0-auc:0.78524\tvalidation_1-auc:0.76268                           \n",
      "==================================================                               \n",
      "XGBClassifier(base_score=0.5, booster='gbtree', colsample_bylevel=1,             \n",
      "              colsample_bynode=1, colsample_bytree=1.0, gamma=0, gpu_id=0,\n",
      "              importance_type='gain', interaction_constraints='',\n",
      "              learning_rate=0.21, max_delta_step=0, max_depth=6,\n",
      "              min_child_weight=1, missing=nan, monotone_constraints='()',\n",
      "              n_estimators=50, n_jobs=4, num_parallel_tree=1, random_state=0,\n",
      "              reg_alpha=100.0, reg_lambda=1e-05, scale_pos_weight=8.0,\n",
      "              subsample=0.4, tree_method='gpu_hist', validate_parameters=1,\n",
      "              verbosity=None)\n",
      "train best     score:                                                            \n",
      "0.7627                                                                           \n",
      "test   roc_auc_score:                                                            \n",
      "0.7627                                                                           \n",
      "ok                                                                               \n",
      "==================================================                               \n",
      " 76%|███████▌  | 38/50 [06:56<00:52,  4.38s/trial, best loss: 0.3154124215693104]"
     ]
    },
    {
     "name": "stderr",
     "output_type": "stream",
     "text": [
      "/home/lab10/.local/lib/python3.6/site-packages/xgboost/sklearn.py:1146: UserWarning: The use of label encoder in XGBClassifier is deprecated and will be removed in a future release. To remove this warning, do the following: 1) Pass option use_label_encoder=False when constructing XGBClassifier object; and 2) Encode your labels (y) as integers starting with 0, i.e. 0, 1, 2, ..., [num_class - 1].\n",
      "  warnings.warn(label_encoder_deprecation_msg, UserWarning)\n",
      "\n"
     ]
    },
    {
     "name": "stdout",
     "output_type": "stream",
     "text": [
      "[12:57:39] WARNING: ../src/learner.cc:573:                                       \n",
      "Parameters: { \"colsample_bytree\", \"subsample\", \"tree_method\" } might not be used.\n",
      "\n",
      "  This may not be accurate due to some parameters are only used in language bindings but\n",
      "  passed down to XGBoost core.  Or some parameters are not used but slip through this\n",
      "  verification. Please open an issue if you find above cases.\n",
      "\n",
      "\n",
      "[0]\tvalidation_0-auc:0.54177\tvalidation_1-auc:0.54248                            \n",
      "[49]\tvalidation_0-auc:0.57268\tvalidation_1-auc:0.57016                           \n",
      "==================================================                               \n",
      "XGBClassifier(base_score=0.5, booster='gblinear', colsample_bylevel=None,        \n",
      "              colsample_bynode=None, colsample_bytree=1.0, gamma=None,\n",
      "              gpu_id=-1, importance_type='gain', interaction_constraints=None,\n",
      "              learning_rate=0.21, max_delta_step=None, max_depth=None,\n",
      "              min_child_weight=None, missing=nan, monotone_constraints=None,\n",
      "              n_estimators=50, n_jobs=4, num_parallel_tree=None, random_state=0,\n",
      "              reg_alpha=100.0, reg_lambda=1e-05, scale_pos_weight=6.0,\n",
      "              subsample=0.4, tree_method='gpu_hist', validate_parameters=1,\n",
      "              verbosity=None)\n",
      "train best     score:                                                            \n",
      "0.5702                                                                           \n",
      "test   roc_auc_score:                                                            \n",
      "0.5702                                                                           \n",
      "ok                                                                               \n",
      "==================================================                               \n",
      " 78%|███████▊  | 39/50 [07:16<01:38,  8.96s/trial, best loss: 0.3154124215693104]"
     ]
    },
    {
     "name": "stderr",
     "output_type": "stream",
     "text": [
      "/home/lab10/.local/lib/python3.6/site-packages/xgboost/sklearn.py:1146: UserWarning: The use of label encoder in XGBClassifier is deprecated and will be removed in a future release. To remove this warning, do the following: 1) Pass option use_label_encoder=False when constructing XGBClassifier object; and 2) Encode your labels (y) as integers starting with 0, i.e. 0, 1, 2, ..., [num_class - 1].\n",
      "  warnings.warn(label_encoder_deprecation_msg, UserWarning)\n",
      "\n"
     ]
    },
    {
     "name": "stdout",
     "output_type": "stream",
     "text": [
      "[0]\tvalidation_0-auc:0.69204\tvalidation_1-auc:0.69036                            \n",
      "[49]\tvalidation_0-auc:0.77962\tvalidation_1-auc:0.76161                           \n",
      "==================================================                               \n",
      "XGBClassifier(base_score=0.5, booster='gbtree', colsample_bylevel=1,             \n",
      "              colsample_bynode=1, colsample_bytree=1.0, gamma=0, gpu_id=0,\n",
      "              importance_type='gain', interaction_constraints='',\n",
      "              learning_rate=0.18, max_delta_step=0, max_depth=6,\n",
      "              min_child_weight=1, missing=nan, monotone_constraints='()',\n",
      "              n_estimators=50, n_jobs=4, num_parallel_tree=1, random_state=0,\n",
      "              reg_alpha=100.0, reg_lambda=1e-05, scale_pos_weight=4.0,\n",
      "              subsample=0.6000000000000001, tree_method='gpu_hist',\n",
      "              validate_parameters=1, verbosity=None)\n",
      "train best     score:                                                            \n",
      "0.7616                                                                           \n",
      "test   roc_auc_score:                                                            \n",
      "0.7616                                                                           \n",
      "ok                                                                               \n",
      "==================================================                               \n",
      " 80%|████████  | 40/50 [07:19<01:12,  7.29s/trial, best loss: 0.3154124215693104]"
     ]
    },
    {
     "name": "stderr",
     "output_type": "stream",
     "text": [
      "/home/lab10/.local/lib/python3.6/site-packages/xgboost/sklearn.py:1146: UserWarning: The use of label encoder in XGBClassifier is deprecated and will be removed in a future release. To remove this warning, do the following: 1) Pass option use_label_encoder=False when constructing XGBClassifier object; and 2) Encode your labels (y) as integers starting with 0, i.e. 0, 1, 2, ..., [num_class - 1].\n",
      "  warnings.warn(label_encoder_deprecation_msg, UserWarning)\n",
      "\n"
     ]
    },
    {
     "name": "stdout",
     "output_type": "stream",
     "text": [
      "[0]\tvalidation_0-auc:0.70743\tvalidation_1-auc:0.70212                            \n",
      "[49]\tvalidation_0-auc:0.78174\tvalidation_1-auc:0.76058                           \n",
      "==================================================                               \n",
      "XGBClassifier(base_score=0.5, booster='gbtree', colsample_bylevel=1,             \n",
      "              colsample_bynode=1, colsample_bytree=1.0, gamma=0, gpu_id=0,\n",
      "              importance_type='gain', interaction_constraints='',\n",
      "              learning_rate=0.18, max_delta_step=0, max_depth=6,\n",
      "              min_child_weight=1, missing=nan, monotone_constraints='()',\n",
      "              n_estimators=50, n_jobs=4, num_parallel_tree=1, random_state=0,\n",
      "              reg_alpha=100.0, reg_lambda=1e-05, scale_pos_weight=8.0,\n",
      "              subsample=0.4, tree_method='gpu_hist', validate_parameters=1,\n",
      "              verbosity=None)\n",
      "train best     score:                                                            \n",
      "0.7607                                                                           \n",
      "test   roc_auc_score:                                                            \n",
      "0.7607                                                                           \n",
      "ok                                                                               \n",
      "==================================================                               \n",
      " 82%|████████▏ | 41/50 [07:22<00:54,  6.11s/trial, best loss: 0.3154124215693104]"
     ]
    },
    {
     "name": "stderr",
     "output_type": "stream",
     "text": [
      "/home/lab10/.local/lib/python3.6/site-packages/xgboost/sklearn.py:1146: UserWarning: The use of label encoder in XGBClassifier is deprecated and will be removed in a future release. To remove this warning, do the following: 1) Pass option use_label_encoder=False when constructing XGBClassifier object; and 2) Encode your labels (y) as integers starting with 0, i.e. 0, 1, 2, ..., [num_class - 1].\n",
      "  warnings.warn(label_encoder_deprecation_msg, UserWarning)\n",
      "\n"
     ]
    },
    {
     "name": "stdout",
     "output_type": "stream",
     "text": [
      "[12:58:05] WARNING: ../src/learner.cc:573:                                       \n",
      "Parameters: { \"colsample_bytree\", \"subsample\", \"tree_method\" } might not be used.\n",
      "\n",
      "  This may not be accurate due to some parameters are only used in language bindings but\n",
      "  passed down to XGBoost core.  Or some parameters are not used but slip through this\n",
      "  verification. Please open an issue if you find above cases.\n",
      "\n",
      "\n",
      "[0]\tvalidation_0-auc:0.54380\tvalidation_1-auc:0.54425                            \n",
      "[49]\tvalidation_0-auc:0.57642\tvalidation_1-auc:0.57232                           \n",
      "==================================================                               \n",
      "XGBClassifier(base_score=0.5, booster='gblinear', colsample_bylevel=None,        \n",
      "              colsample_bynode=None, colsample_bytree=1.0, gamma=None,\n",
      "              gpu_id=-1, importance_type='gain', interaction_constraints=None,\n",
      "              learning_rate=0.21, max_delta_step=None, max_depth=None,\n",
      "              min_child_weight=None, missing=nan, monotone_constraints=None,\n",
      "              n_estimators=50, n_jobs=4, num_parallel_tree=None, random_state=0,\n",
      "              reg_alpha=100.0, reg_lambda=1e-05, scale_pos_weight=8.0,\n",
      "              subsample=0.4, tree_method='gpu_hist', validate_parameters=1,\n",
      "              verbosity=None)\n",
      "train best     score:                                                            \n",
      "0.5723                                                                           \n",
      "test   roc_auc_score:                                                            \n",
      "0.5723                                                                           \n",
      "ok                                                                               \n",
      "==================================================                               \n",
      " 84%|████████▍ | 42/50 [07:41<01:17,  9.75s/trial, best loss: 0.3154124215693104]"
     ]
    },
    {
     "name": "stderr",
     "output_type": "stream",
     "text": [
      "/home/lab10/.local/lib/python3.6/site-packages/xgboost/sklearn.py:1146: UserWarning: The use of label encoder in XGBClassifier is deprecated and will be removed in a future release. To remove this warning, do the following: 1) Pass option use_label_encoder=False when constructing XGBClassifier object; and 2) Encode your labels (y) as integers starting with 0, i.e. 0, 1, 2, ..., [num_class - 1].\n",
      "  warnings.warn(label_encoder_deprecation_msg, UserWarning)\n",
      "\n"
     ]
    },
    {
     "name": "stdout",
     "output_type": "stream",
     "text": [
      "[0]\tvalidation_0-auc:0.69916\tvalidation_1-auc:0.69489                            \n",
      "[49]\tvalidation_0-auc:0.78179\tvalidation_1-auc:0.76016                           \n",
      "==================================================                               \n",
      "XGBClassifier(base_score=0.5, booster='gbtree', colsample_bylevel=1,             \n",
      "              colsample_bynode=1, colsample_bytree=1.0, gamma=0, gpu_id=0,\n",
      "              importance_type='gain', interaction_constraints='',\n",
      "              learning_rate=0.21, max_delta_step=0, max_depth=6,\n",
      "              min_child_weight=1, missing=nan, monotone_constraints='()',\n",
      "              n_estimators=50, n_jobs=4, num_parallel_tree=1, random_state=0,\n",
      "              reg_alpha=100.0, reg_lambda=1e-05, scale_pos_weight=6.0,\n",
      "              subsample=0.4, tree_method='gpu_hist', validate_parameters=1,\n",
      "              verbosity=None)\n",
      "train best     score:                                                            \n",
      "0.7602                                                                           \n",
      "test   roc_auc_score:                                                            \n",
      "0.7602                                                                           \n",
      "ok                                                                               \n",
      "==================================================                               \n",
      " 86%|████████▌ | 43/50 [07:44<00:54,  7.84s/trial, best loss: 0.3154124215693104]"
     ]
    },
    {
     "name": "stderr",
     "output_type": "stream",
     "text": [
      "/home/lab10/.local/lib/python3.6/site-packages/xgboost/sklearn.py:1146: UserWarning: The use of label encoder in XGBClassifier is deprecated and will be removed in a future release. To remove this warning, do the following: 1) Pass option use_label_encoder=False when constructing XGBClassifier object; and 2) Encode your labels (y) as integers starting with 0, i.e. 0, 1, 2, ..., [num_class - 1].\n",
      "  warnings.warn(label_encoder_deprecation_msg, UserWarning)\n",
      "\n"
     ]
    },
    {
     "name": "stdout",
     "output_type": "stream",
     "text": [
      "[12:58:27] WARNING: ../src/learner.cc:573:                                       \n",
      "Parameters: { \"colsample_bytree\", \"subsample\", \"tree_method\" } might not be used.\n",
      "\n",
      "  This may not be accurate due to some parameters are only used in language bindings but\n",
      "  passed down to XGBoost core.  Or some parameters are not used but slip through this\n",
      "  verification. Please open an issue if you find above cases.\n",
      "\n",
      "\n",
      "[0]\tvalidation_0-auc:0.54998\tvalidation_1-auc:0.55138                            \n",
      "[49]\tvalidation_0-auc:0.58703\tvalidation_1-auc:0.58150                           \n",
      "==================================================                               \n",
      "XGBClassifier(base_score=0.5, booster='gblinear', colsample_bylevel=None,        \n",
      "              colsample_bynode=None, colsample_bytree=0.8, gamma=None,\n",
      "              gpu_id=-1, importance_type='gain', interaction_constraints=None,\n",
      "              learning_rate=0.21, max_delta_step=None, max_depth=None,\n",
      "              min_child_weight=None, missing=nan, monotone_constraints=None,\n",
      "              n_estimators=50, n_jobs=4, num_parallel_tree=None, random_state=0,\n",
      "              reg_alpha=1.0, reg_lambda=1e-05, scale_pos_weight=4.0,\n",
      "              subsample=0.2, tree_method='gpu_hist', validate_parameters=1,\n",
      "              verbosity=None)\n",
      "train best     score:                                                            \n",
      "0.5815                                                                           \n",
      "test   roc_auc_score:                                                            \n",
      "0.5815                                                                           \n",
      "ok                                                                               \n",
      "==================================================                               \n",
      " 88%|████████▊ | 44/50 [08:01<01:03, 10.50s/trial, best loss: 0.3154124215693104]"
     ]
    },
    {
     "name": "stderr",
     "output_type": "stream",
     "text": [
      "/home/lab10/.local/lib/python3.6/site-packages/xgboost/sklearn.py:1146: UserWarning: The use of label encoder in XGBClassifier is deprecated and will be removed in a future release. To remove this warning, do the following: 1) Pass option use_label_encoder=False when constructing XGBClassifier object; and 2) Encode your labels (y) as integers starting with 0, i.e. 0, 1, 2, ..., [num_class - 1].\n",
      "  warnings.warn(label_encoder_deprecation_msg, UserWarning)\n",
      "\n"
     ]
    },
    {
     "name": "stdout",
     "output_type": "stream",
     "text": [
      "[0]\tvalidation_0-auc:0.71348\tvalidation_1-auc:0.70738                            \n",
      "[49]\tvalidation_0-auc:0.80524\tvalidation_1-auc:0.75938                           \n",
      "==================================================                               \n",
      "XGBClassifier(base_score=0.5, booster='gbtree', colsample_bylevel=1,             \n",
      "              colsample_bynode=1, colsample_bytree=1.0, gamma=0, gpu_id=0,\n",
      "              importance_type='gain', interaction_constraints='',\n",
      "              learning_rate=0.21, max_delta_step=0, max_depth=6,\n",
      "              min_child_weight=1, missing=nan, monotone_constraints='()',\n",
      "              n_estimators=50, n_jobs=4, num_parallel_tree=1, random_state=0,\n",
      "              reg_alpha=10.0, reg_lambda=5.0, scale_pos_weight=8.0,\n",
      "              subsample=0.4, tree_method='gpu_hist', validate_parameters=1,\n",
      "              verbosity=None)\n",
      "train best     score:                                                            \n",
      "0.7594                                                                           \n",
      "test   roc_auc_score:                                                            \n",
      "0.7594                                                                           \n",
      "ok                                                                               \n",
      "==================================================                               \n",
      " 90%|█████████ | 45/50 [08:04<00:42,  8.42s/trial, best loss: 0.3154124215693104]"
     ]
    },
    {
     "name": "stderr",
     "output_type": "stream",
     "text": [
      "/home/lab10/.local/lib/python3.6/site-packages/xgboost/sklearn.py:1146: UserWarning: The use of label encoder in XGBClassifier is deprecated and will be removed in a future release. To remove this warning, do the following: 1) Pass option use_label_encoder=False when constructing XGBClassifier object; and 2) Encode your labels (y) as integers starting with 0, i.e. 0, 1, 2, ..., [num_class - 1].\n",
      "  warnings.warn(label_encoder_deprecation_msg, UserWarning)\n",
      "\n"
     ]
    },
    {
     "name": "stdout",
     "output_type": "stream",
     "text": [
      "[0]\tvalidation_0-auc:0.67941\tvalidation_1-auc:0.67117                            \n",
      "[49]\tvalidation_0-auc:0.79178\tvalidation_1-auc:0.74392                           \n",
      "==================================================                               \n",
      "XGBClassifier(base_score=0.5, booster='gbtree', colsample_bylevel=1,             \n",
      "              colsample_bynode=1, colsample_bytree=0.8, gamma=0, gpu_id=0,\n",
      "              importance_type='gain', interaction_constraints='',\n",
      "              learning_rate=0.21, max_delta_step=0, max_depth=6,\n",
      "              min_child_weight=1, missing=nan, monotone_constraints='()',\n",
      "              n_estimators=50, n_jobs=4, num_parallel_tree=1, random_state=0,\n",
      "              reg_alpha=0.0001, reg_lambda=1.0, scale_pos_weight=8.0,\n",
      "              subsample=0.2, tree_method='gpu_hist', validate_parameters=1,\n",
      "              verbosity=None)\n",
      "train best     score:                                                            \n",
      "0.7456                                                                           \n",
      "test   roc_auc_score:                                                            \n",
      "0.7456                                                                           \n",
      "ok                                                                               \n",
      "==================================================                               \n",
      " 92%|█████████▏| 46/50 [08:07<00:27,  6.78s/trial, best loss: 0.3154124215693104]"
     ]
    },
    {
     "name": "stderr",
     "output_type": "stream",
     "text": [
      "/home/lab10/.local/lib/python3.6/site-packages/xgboost/sklearn.py:1146: UserWarning: The use of label encoder in XGBClassifier is deprecated and will be removed in a future release. To remove this warning, do the following: 1) Pass option use_label_encoder=False when constructing XGBClassifier object; and 2) Encode your labels (y) as integers starting with 0, i.e. 0, 1, 2, ..., [num_class - 1].\n",
      "  warnings.warn(label_encoder_deprecation_msg, UserWarning)\n",
      "\n"
     ]
    },
    {
     "name": "stdout",
     "output_type": "stream",
     "text": [
      "[12:58:50] WARNING: ../src/learner.cc:573:                                       \n",
      "Parameters: { \"colsample_bytree\", \"subsample\", \"tree_method\" } might not be used.\n",
      "\n",
      "  This may not be accurate due to some parameters are only used in language bindings but\n",
      "  passed down to XGBoost core.  Or some parameters are not used but slip through this\n",
      "  verification. Please open an issue if you find above cases.\n",
      "\n",
      "\n",
      "[0]\tvalidation_0-auc:0.54181\tvalidation_1-auc:0.54254                            \n",
      "[49]\tvalidation_0-auc:0.57268\tvalidation_1-auc:0.57016                           \n",
      "==================================================                               \n",
      "XGBClassifier(base_score=0.5, booster='gblinear', colsample_bylevel=None,        \n",
      "              colsample_bynode=None, colsample_bytree=1.0, gamma=None,\n",
      "              gpu_id=-1, importance_type='gain', interaction_constraints=None,\n",
      "              learning_rate=0.21, max_delta_step=None, max_depth=None,\n",
      "              min_child_weight=None, missing=nan, monotone_constraints=None,\n",
      "              n_estimators=50, n_jobs=4, num_parallel_tree=None, random_state=0,\n",
      "              reg_alpha=100.0, reg_lambda=1e-05, scale_pos_weight=6.0,\n",
      "              subsample=0.6000000000000001, tree_method='gpu_hist',\n",
      "              validate_parameters=1, verbosity=None)\n",
      "train best     score:                                                            \n",
      "0.5702                                                                           \n",
      "test   roc_auc_score:                                                            \n",
      "0.5702                                                                           \n",
      "ok                                                                               \n",
      "==================================================                               \n",
      " 94%|█████████▍| 47/50 [08:25<00:30, 10.21s/trial, best loss: 0.3154124215693104]"
     ]
    },
    {
     "name": "stderr",
     "output_type": "stream",
     "text": [
      "/home/lab10/.local/lib/python3.6/site-packages/xgboost/sklearn.py:1146: UserWarning: The use of label encoder in XGBClassifier is deprecated and will be removed in a future release. To remove this warning, do the following: 1) Pass option use_label_encoder=False when constructing XGBClassifier object; and 2) Encode your labels (y) as integers starting with 0, i.e. 0, 1, 2, ..., [num_class - 1].\n",
      "  warnings.warn(label_encoder_deprecation_msg, UserWarning)\n",
      "\n"
     ]
    },
    {
     "name": "stdout",
     "output_type": "stream",
     "text": [
      "[0]\tvalidation_0-auc:0.68759\tvalidation_1-auc:0.68120                            \n",
      "[49]\tvalidation_0-auc:0.79999\tvalidation_1-auc:0.76050                           \n",
      "==================================================                               \n",
      "XGBClassifier(base_score=0.5, booster='gbtree', colsample_bylevel=1,             \n",
      "              colsample_bynode=1, colsample_bytree=0.8, gamma=0, gpu_id=0,\n",
      "              importance_type='gain', interaction_constraints='',\n",
      "              learning_rate=0.18, max_delta_step=0, max_depth=6,\n",
      "              min_child_weight=1, missing=nan, monotone_constraints='()',\n",
      "              n_estimators=50, n_jobs=4, num_parallel_tree=1, random_state=0,\n",
      "              reg_alpha=0.001, reg_lambda=10.0, scale_pos_weight=4.0,\n",
      "              subsample=0.4, tree_method='gpu_hist', validate_parameters=1,\n",
      "              verbosity=None)\n",
      "train best     score:                                                            \n",
      "0.7606                                                                           \n",
      "test   roc_auc_score:                                                            \n",
      "0.7606                                                                           \n",
      "ok                                                                               \n",
      "==================================================                               \n",
      " 96%|█████████▌| 48/50 [08:29<00:16,  8.20s/trial, best loss: 0.3154124215693104]"
     ]
    },
    {
     "name": "stderr",
     "output_type": "stream",
     "text": [
      "/home/lab10/.local/lib/python3.6/site-packages/xgboost/sklearn.py:1146: UserWarning: The use of label encoder in XGBClassifier is deprecated and will be removed in a future release. To remove this warning, do the following: 1) Pass option use_label_encoder=False when constructing XGBClassifier object; and 2) Encode your labels (y) as integers starting with 0, i.e. 0, 1, 2, ..., [num_class - 1].\n",
      "  warnings.warn(label_encoder_deprecation_msg, UserWarning)\n",
      "\n"
     ]
    },
    {
     "name": "stdout",
     "output_type": "stream",
     "text": [
      "[0]\tvalidation_0-auc:0.68956\tvalidation_1-auc:0.68659                            \n",
      "[49]\tvalidation_0-auc:0.77381\tvalidation_1-auc:0.75849                           \n",
      "==================================================                               \n",
      "XGBClassifier(base_score=0.6000000000000001, booster='gbtree',                   \n",
      "              colsample_bylevel=1, colsample_bynode=1, colsample_bytree=1.0,\n",
      "              gamma=0, gpu_id=0, importance_type='gain',\n",
      "              interaction_constraints='', learning_rate=0.21, max_delta_step=0,\n",
      "              max_depth=6, min_child_weight=1, missing=nan,\n",
      "              monotone_constraints='()', n_estimators=50, n_jobs=4,\n",
      "              num_parallel_tree=1, random_state=0, reg_alpha=100.0,\n",
      "              reg_lambda=100.0, scale_pos_weight=8.0, subsample=0.2,\n",
      "              tree_method='gpu_hist', validate_parameters=1, verbosity=None)\n",
      "train best     score:                                                            \n",
      "0.7585                                                                           \n",
      "test   roc_auc_score:                                                            \n",
      "0.7585                                                                           \n",
      "ok                                                                               \n",
      "==================================================                               \n",
      " 98%|█████████▊| 49/50 [08:32<00:06,  6.80s/trial, best loss: 0.3154124215693104]"
     ]
    },
    {
     "name": "stderr",
     "output_type": "stream",
     "text": [
      "/home/lab10/.local/lib/python3.6/site-packages/xgboost/sklearn.py:1146: UserWarning: The use of label encoder in XGBClassifier is deprecated and will be removed in a future release. To remove this warning, do the following: 1) Pass option use_label_encoder=False when constructing XGBClassifier object; and 2) Encode your labels (y) as integers starting with 0, i.e. 0, 1, 2, ..., [num_class - 1].\n",
      "  warnings.warn(label_encoder_deprecation_msg, UserWarning)\n",
      "\n"
     ]
    },
    {
     "name": "stdout",
     "output_type": "stream",
     "text": [
      "[0]\tvalidation_0-auc:0.69264\tvalidation_1-auc:0.68172                            \n",
      "[49]\tvalidation_0-auc:0.80551\tvalidation_1-auc:0.76106                           \n",
      "==================================================                               \n",
      "XGBClassifier(base_score=0.5, booster='gbtree', colsample_bylevel=1,             \n",
      "              colsample_bynode=1, colsample_bytree=0.8, gamma=0, gpu_id=0,\n",
      "              importance_type='gain', interaction_constraints='',\n",
      "              learning_rate=0.18, max_delta_step=0, max_depth=6,\n",
      "              min_child_weight=1, missing=nan, monotone_constraints='()',\n",
      "              n_estimators=50, n_jobs=4, num_parallel_tree=1, random_state=0,\n",
      "              reg_alpha=10.0, reg_lambda=1e-05, scale_pos_weight=6.0,\n",
      "              subsample=0.6000000000000001, tree_method='gpu_hist',\n",
      "              validate_parameters=1, verbosity=None)\n",
      "train best     score:                                                            \n",
      "0.7612                                                                           \n",
      "test   roc_auc_score:                                                            \n",
      "0.7612                                                                           \n",
      "ok                                                                               \n",
      "==================================================                               \n",
      "100%|██████████| 50/50 [08:36<00:00, 10.33s/trial, best loss: 0.3154124215693104]\n",
      "==================== best  Parameters ====================\n",
      "{'base_score': 0.5, 'booster': 'gbtree', 'colsample_bytree': 1.0, 'learning_rate': 0.21, 'n_estimators': 500, 'objective': 'binary:logistic', 'reg_alpha': 100, 'reg_lambda': 1e-05, 'scale_pos_weight': 8.0, 'subsample': 0.4, 'tree_method': 'gpu_hist'}\n",
      "==========================================================\n",
      "[0]\tvalidation_0-auc:0.70743\tvalidation_1-auc:0.70718\tvalidation_2-auc:0.70816\n",
      "[100]\tvalidation_0-auc:0.80274\tvalidation_1-auc:0.80318\tvalidation_2-auc:0.80143\n",
      "[200]\tvalidation_0-auc:0.82711\tvalidation_1-auc:0.82744\tvalidation_2-auc:0.82613\n",
      "[300]\tvalidation_0-auc:0.84620\tvalidation_1-auc:0.84624\tvalidation_2-auc:0.84608\n",
      "[400]\tvalidation_0-auc:0.86176\tvalidation_1-auc:0.86182\tvalidation_2-auc:0.86157\n",
      "[499]\tvalidation_0-auc:0.87422\tvalidation_1-auc:0.87396\tvalidation_2-auc:0.87502\n",
      "==================== Model Parameters ====================\n",
      "{'objective': 'binary:logistic', 'use_label_encoder': False, 'base_score': 0.5, 'booster': 'gbtree', 'colsample_bylevel': 1, 'colsample_bynode': 1, 'colsample_bytree': 1.0, 'gamma': 0, 'gpu_id': 0, 'importance_type': 'gain', 'interaction_constraints': '', 'learning_rate': 0.21, 'max_delta_step': 0, 'max_depth': 6, 'min_child_weight': 1, 'missing': nan, 'monotone_constraints': '()', 'n_estimators': 500, 'n_jobs': 4, 'num_parallel_tree': 1, 'random_state': 0, 'reg_alpha': 100, 'reg_lambda': 1e-05, 'scale_pos_weight': 8.0, 'subsample': 0.4, 'tree_method': 'gpu_hist', 'validate_parameters': 1, 'verbosity': None}\n",
      "==========================================================\n",
      "train best     score: 0.8750\n",
      "train best iteration: 499.000\n",
      "@test  roc_auc_score: 0.6641\n",
      "@test  roc_auc_score: 0.7525\n",
      "오차 행렬\n",
      "[[46510  9366]\n",
      " [ 2467  2426]]\n",
      "정확도 : 0.8053, 정밀도: 0.2057, 재현율 : 0.4958,    F1 : 0.2908, AUC:0.7525\n",
      "==========================================================\n"
     ]
    }
   ],
   "source": [
    "# regularization candiate 정의\n",
    "reg_candidate = [1e-5, 1e-4, 1e-3, 1e-2, 0.1, 1, 5, 10, 100]\n",
    "object_f = [\"binary:logitraw\", \"reg:logistic\", \"binary:logistic\"]\n",
    "booster_c = [\"gbtree\", \"gblinear\", \"dart\"]\n",
    "\n",
    "\n",
    "space = {\"n_estimators\":hopt.hp.choice(\"n_estimators\", [50]),\n",
    "         \"objective\": hopt.hp.choice(\"objective\", object_f),\n",
    "         \"learning_rate\": hopt.hp.quniform(\"learning_rate\", 0.01, 0.2, 0.03),\n",
    "#          \"max_depth\": hopt.hp.choice(\"max_depth\", [-1]),\n",
    "#          \"min_child_weight\": hopt.hp.quniform(\"min_child_weight\", 5, 21, 4),\n",
    "         \"colsample_bytree\": hopt.hp.quniform(\"colsample_bytree\", 0.2, 1, 0.2),\n",
    "         \"subsample\": hopt.hp.quniform(\"subsample\", 0.2, 1, 0.2),\n",
    "         \"reg_lambda\": hopt.hp.choice(\"reg_lambda\", reg_candidate),\n",
    "         \"reg_alpha\": hopt.hp.choice(\"reg_alpha\", reg_candidate),\n",
    "         \"scale_pos_weight\": hopt.hp.quniform(\"scale_pos_weight\", 1, 9, 2),\n",
    "         \"base_score\": hopt.hp.quniform(\"base_score\", 0.5, 0.8, 0.1),\n",
    "         \"booster\": hopt.hp.choice(\"booster\", booster_c)\n",
    "        }\n",
    "\n",
    "def hyper_param_tuning(space):\n",
    "    model = XGBClassifier(n_estimators=int(space['n_estimators']),\n",
    "                          objective=space[\"objective\"],\n",
    "                          learning_rate=float(space[\"learning_rate\"]),\n",
    "#                           max_depth=int(space[\"max_depth\"]), \n",
    "#                           min_child_weight=int(space[\"min_child_weight\"]),\n",
    "                          colsample_bytree=float(space[\"colsample_bytree\"]),\n",
    "                          subsample=float(space[\"subsample\"]),\n",
    "                          reg_lambda=float(space[\"reg_lambda\"]),\n",
    "                          reg_alpha=float(space[\"reg_alpha\"]),\n",
    "                          scale_pos_weight=space[\"scale_pos_weight\"],\n",
    "                          base_score=float(space[\"base_score\"]),\n",
    "                          tree_method=\"gpu_hist\",\n",
    "                          booster=space[\"booster\"]\n",
    "                         )\n",
    "\n",
    "    model.fit(X_train, y_train,\n",
    "            eval_metric=\"auc\", \n",
    "            early_stopping_rounds=50,\n",
    "            eval_set=[(X_train, y_train), (X_test, y_test)],\n",
    "            verbose=50, # 10개 단위로 출력\n",
    "            )\n",
    "    \n",
    "    print(\"=\"*50)\n",
    "    print(model)\n",
    "    pred = model.predict(X_test)\n",
    "    pred_p = pd.DataFrame(model.predict_proba(X_test))[1]\n",
    "    print(\"train best     score:\", format(model.best_score, \".4f\"))\n",
    "    print(\"test   roc_auc_score:\", format(roc_auc_score(y_test, pred_p), \".4f\"))\n",
    "    print(hopt.STATUS_OK)\n",
    "    print(\"=\"*50)\n",
    "\n",
    "    score = roc_auc_score(y_test, pred)\n",
    "    \n",
    "    return {\"loss\": 1 - score,\n",
    "            \"status\": STATUS_OK,\n",
    "            \"model\": model\n",
    "           }\n",
    "\n",
    "trials = hopt.Trials()\n",
    "\n",
    "best = hopt.fmin(fn=hyper_param_tuning,\n",
    "                 space=space,\n",
    "                 algo=hopt.tpe.suggest,\n",
    "                 max_evals=50,\n",
    "                 trials=trials\n",
    "                )\n",
    "\n",
    "# best[\"n_estimators\"] = int(best[\"n_estimators\"])\n",
    "best[\"learning_rate\"] = float(best[\"learning_rate\"])\n",
    "# best[\"max_depth\"] = int(best[\"max_depth\"])\n",
    "# best[\"min_child_weight\"] = int(best[\"min_child_weight\"])\n",
    "best[\"colsample_bytree\"] = float(best[\"colsample_bytree\"])\n",
    "best[\"subsample\"] = float(best[\"subsample\"])\n",
    "best[\"reg_lambda\"] = reg_candidate[int(best[\"reg_lambda\"])]\n",
    "best[\"reg_alpha\"] = reg_candidate[int(best[\"reg_alpha\"])]\n",
    "best[\"base_score\"] = float(best[\"base_score\"])\n",
    "best[\"objective\"] = object_f[int(best[\"objective\"])]\n",
    "best[\"booster\"] = booster_c[int(best[\"booster\"])]\n",
    "\n",
    "best[\"n_estimators\"] = 500\n",
    "best[\"tree_method\"] = \"gpu_hist\"\n",
    "print(\"=\" * 20, \"best  Parameters\", \"=\" * 20)\n",
    "print(best)\n",
    "print(\"=\" * 58)\n",
    "xgb = XGBClassifier(**best,\n",
    "                    use_label_encoder=False\n",
    "                   )\n",
    "xgb.fit(X_train, y_train,\n",
    "        eval_metric=\"auc\", \n",
    "        early_stopping_rounds=100,\n",
    "        eval_set=[(X_train, y_train),(X_train_v, y_train_v), (X_valid, y_valid)],\n",
    "        verbose=100\n",
    "       )\n",
    "\n",
    "print(\"=\" * 20, \"Model Parameters\", \"=\" * 20)\n",
    "print(xgb.get_params())\n",
    "print(\"=\" * 58)\n",
    "\n",
    "pred = xgb.predict(X_test)\n",
    "pred_p = pd.DataFrame(xgb.predict_proba(X_test))[1]\n",
    "print(\"train best     score:\", format(xgb.best_score, \".4f\"))\n",
    "print(\"train best iteration:\", format(xgb.best_iteration, \".3f\"))\n",
    "print(\"@test  roc_auc_score:\", format(roc_auc_score(y_test, pred), \".4f\"))\n",
    "print(\"@test  roc_auc_score:\", format(roc_auc_score(y_test, pred_p), \".4f\"))\n",
    "get_clf_eval(y_test, pred, pred_p)\n",
    "print(\"=\" * 58)"
   ]
  },
  {
   "cell_type": "markdown",
   "metadata": {},
   "source": [
    "---\n",
    "---\n",
    "---"
   ]
  },
  {
   "cell_type": "code",
   "execution_count": 59,
   "metadata": {},
   "outputs": [],
   "source": [
    "# # 다중공선성 제거\n",
    "# # https://john-analyst.medium.com/캐글-home-credit-default-risk-9225050b6fa6\n",
    "\n",
    "# corrs = train_datasets.iloc[:, 1:].corr()\n",
    "\n",
    "# above_feature = {}\n",
    "\n",
    "# for corr in corrs:\n",
    "#     above_feature[corr] = list(corrs.index[corrs[corr] > 0.8])\n",
    "\n",
    "# for key in above_feature.keys():\n",
    "#     if len(above_feature[key]) > 1:\n",
    "#         print(above_feature[key])\n",
    "\n",
    "# uf.corr_heatmap(train_datasets[['DAYS_EMPLOYED', 'Contact', 'NAME_INCOME_TYPE_Pensioner', 'ORGANIZATION_TYPE_XNA']])"
   ]
  },
  {
   "cell_type": "code",
   "execution_count": null,
   "metadata": {},
   "outputs": [],
   "source": [
    "# python에서 한글과 영어를 줄 맞춰서 예쁘게 출력하자.\n",
    "# https://frhyme.github.io/python-libs/print_kor_and_en_full_half_width/\n",
    "\n",
    "# import unicodedata\n",
    "\n",
    "# def fill_str_with_space(input_s=\"\", max_size=40, fill_char=\"*\"):\n",
    "#     \"\"\"\n",
    "#     - 길이가 긴 문자는 2칸으로 체크하고, 짧으면 1칸으로 체크함. \n",
    "#     - 최대 길이(max_size)는 40이며, input_s의 실제 길이가 이보다 짧으면 \n",
    "#     남은 문자를 fill_char로 채운다.\n",
    "#     \"\"\"\n",
    "#     l = 0 \n",
    "#     for c in input_s:\n",
    "#         if unicodedata.east_asian_width(c) in ['F', 'W']:\n",
    "#             l+=2\n",
    "#         else: \n",
    "#             l+=1\n",
    "#     return input_s+fill_char*(max_size-l)\n",
    "\n",
    "\n",
    "# a = \"abc\"\n",
    "# b = \"이승훈\"\n",
    "\n",
    "# print(fill_str_with_space(\"abc\", max_size=40))\n",
    "# print(fill_str_with_space(\"이승훈\", max_size=40))\n",
    "\n",
    "#####################\n",
    "# len(\"\".encode('utf-8'))"
   ]
  }
 ],
 "metadata": {
  "interpreter": {
   "hash": "7812ea015bdcee6f23a998adcdd2ef97c151c0c241b7b7070987d9313e41299d"
  },
  "kernelspec": {
   "display_name": "Python 3",
   "language": "python",
   "name": "python3"
  },
  "language_info": {
   "codemirror_mode": {
    "name": "ipython",
    "version": 3
   },
   "file_extension": ".py",
   "mimetype": "text/x-python",
   "name": "python",
   "nbconvert_exporter": "python",
   "pygments_lexer": "ipython3",
   "version": "3.6.9"
  }
 },
 "nbformat": 4,
 "nbformat_minor": 2
}
