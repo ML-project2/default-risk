{
    "cells": [
        {
            "cell_type": "code",
            "execution_count": 1,
            "source": [
                "\"\"\"\n",
                "# 전처리 배분\n",
                "\n",
                "1(성준) - 0~9,   40~49, 80~89, 120, \n",
                "       - credit_card_balance.csv\n",
                "       - POS_CASH_balance.csv\n",
                "       - previous_application.csv\n",
                "       - installments_payments.csv\n",
                "2(장호) - 10~19, 50~59, 90~99, 121\n",
                "3(두영) - 20~29, 60~69, 100~109, 122, \n",
                "       - bureau.csv,\n",
                "4(혜빈) - 30~39, 70~79, 110~119, 123, \n",
                "       - bureau_balance.csv\n",
                "5(준혁) -  \n",
                "\"\"\"\n",
                "\n",
                "\"\"\"\n",
                "# 데이터 목록\n",
                "application_test.csv\n",
                "application_train.csv\n",
                "credit_card_balance.csv\n",
                "POS_CASH_balance.csv\n",
                "previous_application.csv\n",
                "installments_payments.csv\n",
                "bureau.csv\n",
                "bureau_balance.csv\n",
                "sample_submission.csv\n",
                "\"\"\""
            ],
            "outputs": [
                {
                    "output_type": "execute_result",
                    "data": {
                        "text/plain": [
                            "'\\n# 데이터 목록\\napplication_test.csv\\napplication_train.csv\\ncredit_card_balance.csv\\nPOS_CASH_balance.csv\\nprevious_application.csv\\ninstallments_payments.csv\\nbureau.csv\\nbureau_balance.csv\\nsample_submission.csv\\n'"
                        ]
                    },
                    "metadata": {},
                    "execution_count": 1
                }
            ],
            "metadata": {}
        },
        {
            "cell_type": "code",
            "execution_count": 2,
            "source": [
                "import pandas as pd\n",
                "import numpy as np\n",
                "import matplotlib.pyplot as plt\n",
                "import seaborn as sns\n",
                "from sklearn.preprocessing import MinMaxScaler, RobustScaler, StandardScaler\n",
                "from sklearn.preprocessing import LabelEncoder, OrdinalEncoder\n",
                "from sklearn.impute import SimpleImputer\n",
                "import user_functions as uf\n",
                "\n",
                "import platform\n",
                "import matplotlib\n",
                "%matplotlib inline\n",
                "# 한글 출력되게 설정\n",
                "uf.korean2()"
            ],
            "outputs": [],
            "metadata": {}
        },
        {
            "cell_type": "markdown",
            "source": [
                "## previous_application.csv\n",
                "---\n",
                "\n",
                "- <span style=\"color:red\">ID 값 중복 존재함</span>\n",
                "- <span style=\"color:red\">`NAME_CONTRACT_TYPE`에 따라 값이 구분됨</span>"
            ],
            "metadata": {}
        },
        {
            "cell_type": "code",
            "execution_count": 3,
            "source": [
                "prev_app = pd.read_csv(uf.get_f_path()+\"previous_application.csv\")"
            ],
            "outputs": [],
            "metadata": {}
        },
        {
            "cell_type": "code",
            "execution_count": 4,
            "source": [
                "# NAME_CONTRACT_STATUS가 취소된 것 제거함\n",
                "uf.drop_v_i(prev_app, \"NAME_CONTRACT_STATUS\", [\"Canceled\", \"Unused offer\"])\n",
                "\n",
                "# 승인/거부 여부를 1(승인), -1(거부)로 한 feature 생성\n",
                "prev_app[\"승인/거부(prev_app)\"] = prev_app.loc[:, \"NAME_CONTRACT_STATUS\"]\n",
                "prev_app[\"승인/거부(prev_app)\"] = \\\n",
                "    prev_app[\"승인/거부(prev_app)\"].apply(lambda x: 1 if x == \"Approved\" else -1)\n",
                "\n",
                "# NAME_CONTRACT_STATUS feature 삭제\n",
                "prev_app.drop(columns=\"NAME_CONTRACT_STATUS\", inplace=True)\n",
                "\n",
                "# AMT_CREDIT 결측값 1개 삭제\n",
                "prev_app.drop(prev_app.loc[prev_app[\"AMT_CREDIT\"].isna()].index, inplace=True)\n",
                "\n",
                "# CNT_PAYMENT가 결측인데 대출 승인된 값을 삭제함\n",
                "# prev_app.loc[prev_app[\"CNT_PAYMENT\"].isna(), \"승인/거부(prev_app)\"].value_counts()\n",
                "prev_app.drop(prev_app.loc[(prev_app[\"CNT_PAYMENT\"].isna()) & \n",
                "                           (prev_app[\"승인/거부(prev_app)\"] == 1)].index, \n",
                "              inplace=True\n",
                "             )\n",
                "\n",
                "# AMT_ANNUITY 결측인데 대출 승인된 값을 삭제함\n",
                "# prev_app.loc[prev_app[\"AMT_ANNUITY\"].isna(), \"승인/거부(prev_app)\"].value_counts()\n",
                "prev_app.drop(prev_app.loc[(prev_app[\"AMT_ANNUITY\"].isna()) & \n",
                "                           (prev_app[\"승인/거부(prev_app)\"] == 1)].index, \n",
                "              inplace=True\n",
                "             )\n",
                "\n",
                "# AMT_CREDIT이 0인데 대출 승인된 값을 삭제함\n",
                "# prev_app.loc[(prev_app[\"AMT_CREDIT\"] == 0) & (prev_app[\"승인/거부(prev_app)\"] == 1)]\n",
                "prev_app.drop(prev_app.loc[(prev_app[\"AMT_CREDIT\"] == 0) & \n",
                "                           (prev_app[\"승인/거부(prev_app)\"] == 1)].index, \n",
                "              inplace=True\n",
                "             )\n",
                "\n",
                "# AMT_ANNUITY가 0인데 대출 승인된 값을 삭제함\n",
                "# prev_app.loc[(prev_app[\"AMT_ANNUITY\"] == 0) & (prev_app[\"승인/거부(prev_app)\"] == 1)]\n",
                "prev_app.drop(prev_app.loc[(prev_app[\"AMT_ANNUITY\"] == 0) & \n",
                "                           (prev_app[\"승인/거부(prev_app)\"] == 1)].index, \n",
                "              inplace=True\n",
                "             )\n",
                "\n",
                "# AMT_APPLICATION(신청액)이 0인데 대출 승인된 값을 삭제함\n",
                "prev_app.drop(prev_app.loc[(prev_app[\"AMT_APPLICATION\"] == 0) & \n",
                "                           (prev_app[\"승인/거부(prev_app)\"] == 1)].index, \n",
                "              inplace=True\n",
                "             )\n",
                "\n",
                "# CNT_PAYMENT(대출 기간)이 결측치인데 대출이 승인된 값을 삭제함\n",
                "prev_app.drop(prev_app.loc[(prev_app[\"CNT_PAYMENT\"].isna()) & \n",
                "                           (prev_app[\"승인/거부(prev_app)\"] == 1)].index, \n",
                "              inplace=True\n",
                "             )\n",
                "\n",
                "# AMT_GOODS_PRICE(상품 금액)과 AMT_CREDIT(대출액)이 같은데 AMT_DOWN_PAYMENT가 결측이면 AMT_DOWN_PAYMENT를 0으로 대치함\n",
                "prev_app.drop(prev_app.loc[(prev_app[\"AMT_GOODS_PRICE\"] == prev_app[\"AMT_CREDIT\"]) & \n",
                "                           (prev_app[\"AMT_DOWN_PAYMENT\"].isna())].index, \n",
                "              inplace=True\n",
                "             )\n",
                "\n",
                "# AMT_CREDIT(대출액)이 AMT_GOODS_PRICE(상품금액)보다 크고 AMT_DOWN_PAYMENT가 결측이면 AMT_DOWN_PAYMENT를 0으로 대치함\n",
                "prev_app.drop(prev_app.loc[(prev_app[\"AMT_CREDIT\"] > prev_app[\"AMT_GOODS_PRICE\"]) & \n",
                "                           (prev_app[\"AMT_DOWN_PAYMENT\"].isna())].index, \n",
                "              inplace=True\n",
                "             )\n",
                "\n",
                "# CNT_PAYMENT가 0인데 대출 승인된 값을 삭제함\n",
                "prev_app.drop(prev_app.loc[(prev_app[\"CNT_PAYMENT\"] == 0) & \n",
                "                           (prev_app[\"승인/거부(prev_app)\"] == 1)].index, \n",
                "              inplace=True\n",
                "             )\n",
                "\n",
                "# 대출 승인되었으나, AMT_DOWN_PAYMENT가 결측이면 0으로 대치함\n",
                "prev_app.loc[(prev_app[\"AMT_DOWN_PAYMENT\"].isna())\n",
                "              & (prev_app[\"승인/거부(prev_app)\"] == 1), \"AMT_DOWN_PAYMENT\"] = 0\n",
                "\n",
                "\n",
                "# print(prev_app[\"NAME_CONTRACT_TYPE\"].unique())\n",
                "# NAME_CONTRACT_TYPE가 XNA 값이면 의미있는 값이 없음\n",
                "# print(prev_app[prev_app[\"NAME_CONTRACT_TYPE\"] == \"XNA\"].iloc[1])\n",
                "\n",
                "# NAME_CONTRACT_TYPE 값에 맞춰 각각의 Datasets 생성\n",
                "for value_ in prev_app[\"NAME_CONTRACT_TYPE\"].unique():\n",
                "    string = value_.lower().replace(\" \", \"_\")\n",
                "    if string != \"xna\":\n",
                "        globals()[\"ds_%s\" %(string)] = \\\n",
                "            prev_app.loc[prev_app[\"NAME_CONTRACT_TYPE\"] == value_]\n",
                "\n",
                "# ds_consumer_loans\n",
                "# ds_cash_loans\n",
                "# ds_revolving_loans"
            ],
            "outputs": [],
            "metadata": {}
        },
        {
            "cell_type": "code",
            "execution_count": 5,
            "source": [
                "# 이자율 = (24 * 총이자액) / (원금 * (m+1))\n",
                "def interest_rate(principal, total_interest, m):\n",
                "    \"\"\"\n",
                "    principal = 원금  \n",
                "    total_interest = 이자 총액  \n",
                "    m = 상환기간(월)\n",
                "    \"\"\"\n",
                "    i_rate = (24 * total_interest) / (principal * (m + 1))\n",
                "    return i_rate"
            ],
            "outputs": [],
            "metadata": {}
        },
        {
            "cell_type": "code",
            "execution_count": 6,
            "source": [
                "prev_app[\"(추정)이자율\"] = \\\n",
                "    interest_rate(prev_app[\"AMT_CREDIT\"],\n",
                "                  (prev_app[\"AMT_ANNUITY\"] * prev_app[\"CNT_PAYMENT\"]) \\\n",
                "                    - prev_app[\"AMT_CREDIT\"],\n",
                "                  prev_app[\"CNT_PAYMENT\"]\n",
                "                )\n",
                "# 승인이 거부된 이자율은 -1로 설정\n",
                "prev_app.loc[prev_app[\"승인/거부(prev_app)\"] == -1, \"(추정)이자율\"] = 0"
            ],
            "outputs": [],
            "metadata": {}
        },
        {
            "cell_type": "code",
            "execution_count": 7,
            "source": [
                "# DAYS_LAST_DUE(실제 상환일) - DAYS_LAST_DUE_1ST_VERSION(계약 상 상환일)\n",
                "## +가 연체일\n",
                "prev_app[\"연체일\"] = prev_app[\"DAYS_LAST_DUE\"] - prev_app[\"DAYS_LAST_DUE_1ST_VERSION\"]\n",
                "# DAYS_LAST_DUE_1ST_VERSION(계약 상 상환일)이 양수(+)이면 계약이 완료된 것이 아님\n",
                "## 따라서 0으로 처리함\n",
                "prev_app.loc[prev_app[\"DAYS_LAST_DUE_1ST_VERSION\"] >= 0, \"연체일\"] = 0 \n",
                "\n",
                "# \"연체일\"일 0보다 작으면 조기상환한 것임 -> 따라서 0으로 처리함\n",
                "prev_app.loc[prev_app[\"연체일\"] < 0, \"연체일\"] = 0 \n",
                "\n",
                "# DAYS_LAST_DUE(실제 상환일) 값이 365243.0인 것은 현재 연체가 진행 중이라는 의미\n",
                "## prev_app.loc[prev_app[\"연체일\"] > 30000, \"DAYS_LAST_DUE_1ST_VERSION\"].hist()\n",
                "## 즉 연체일을 정확히 알 수 없음. \n",
                "## 따라서 정상 연체값 중 max값을 연체일 값으로 주되, 현재 연체일이 정상 연체값 중 max보다 크면 그 값을 선택하고 가중치를 2배로 한다.\n",
                "## 예컨대 정상 연체값 중 최대값은 40일이나, 현재 연체일이 50일 지난 경우 연체값은 그 값의 2배로 가중하여 100을 할당한다.\n",
                "temp_max = \\\n",
                "    prev_app.loc[(prev_app[\"연체일\"] > 0) & (prev_app[\"연체일\"] < 30000), \"연체일\"].max()\n",
                "prev_app.loc[(prev_app[\"연체일\"] > 30000) & \\\n",
                "                (prev_app[\"DAYS_LAST_DUE_1ST_VERSION\"] < -(temp_max)),\n",
                "             \"연체일\"\n",
                "             ] = prev_app[\"DAYS_LAST_DUE_1ST_VERSION\"] * -2\n",
                "prev_app.loc[(prev_app[\"연체일\"] > 30000), \"연체일\"] = temp_max"
            ],
            "outputs": [],
            "metadata": {}
        },
        {
            "cell_type": "code",
            "execution_count": 8,
            "source": [
                "# 계약이 승인되었으나, DAYS_FIRST_DUE 값도 없는 관측치가 9,470개에 달함\n",
                "## DAYS_DECISION(계약일)이 -1,000을 넘어가는 값도 많아 \n",
                "## 1. 악성 연체자로 판단하거나 \n",
                "## 2. 어떠한 이유로 계약이 실행되지 않은 것으로 판단해야 함.\n",
                "## 우선 첫번째 상환도 하지 않은 악성 연체자로 판단하여 DAYS_DECISION 값을 365로 설정함.\n",
                "## 이전 연체일 max = 178일\n",
                "# prev_app.loc[(prev_app[\"연체일\"].isna()) &\n",
                "#              (prev_app[\"승인/거부(prev_app)\"] == 1) &\n",
                "#              (prev_app[\"DAYS_DECISION\"] < prev_app[\"CNT_PAYMENT\"] * -30)\n",
                "#              , \"DAYS_DECISION\"].hist()\n",
                "\n",
                "prev_app.loc[(prev_app[\"연체일\"].isna()) &\n",
                "             (prev_app[\"승인/거부(prev_app)\"] == 1) &\n",
                "             (prev_app[\"DAYS_DECISION\"] < prev_app[\"CNT_PAYMENT\"] * -30)\n",
                "             , \"연체일\"] = 365\n",
                "\n",
                "# DAYS_DECISION(계약일)이 CNT_PAYMENT(계약기간) 이내이나, 첫 번째 대금을 납입하지 않은 경우 연체로 판단함\n",
                "# 단, max를 365로 제한함.\n",
                "prev_app.loc[(prev_app[\"연체일\"].isna()) & \\\n",
                "                (prev_app[\"승인/거부(prev_app)\"] == 1) & \\\n",
                "                (prev_app[\"DAYS_DECISION\"] >= prev_app[\"CNT_PAYMENT\"] * -30),\n",
                "             \"연체일\"\n",
                "            ] = (prev_app[\"DAYS_DECISION\"] * -1).apply(lambda x: 365 if x > 365 else x)"
            ],
            "outputs": [],
            "metadata": {}
        },
        {
            "cell_type": "code",
            "execution_count": 9,
            "source": [
                "# 승인이 거부된 연체일은 -1로 설정\n",
                "prev_app.loc[prev_app[\"연체일\"].isna(), \"연체일\"] = 0\n",
                "\n",
                "# 연체(1), 연체X(-1)\n",
                "prev_app[\"연체여부\"] = prev_app[\"연체일\"].apply(lambda x: 1 if x > 0 else 0)"
            ],
            "outputs": [],
            "metadata": {}
        },
        {
            "cell_type": "code",
            "execution_count": 10,
            "source": [
                "# 대출 승인 비율\n",
                "prev_app[\"승인액/요청액\"] = prev_app[\"AMT_CREDIT\"] / prev_app[\"AMT_APPLICATION\"] \n",
                "# 대출 승인이 거부된 경우 승인액/요청액은 1\n",
                "prev_app.loc[prev_app[\"승인/거부(prev_app)\"] == -1, \"승인액/요청액\"] = 1\n",
                "prev_app[\"승인액/요청액\"].hist()"
            ],
            "outputs": [
                {
                    "output_type": "execute_result",
                    "data": {
                        "text/plain": [
                            "<AxesSubplot:>"
                        ]
                    },
                    "metadata": {},
                    "execution_count": 10
                },
                {
                    "output_type": "display_data",
                    "data": {
                        "text/plain": [
                            "<Figure size 432x288 with 1 Axes>"
                        ],
                        "image/svg+xml": "<?xml version=\"1.0\" encoding=\"utf-8\" standalone=\"no\"?>\n<!DOCTYPE svg PUBLIC \"-//W3C//DTD SVG 1.1//EN\"\n  \"http://www.w3.org/Graphics/SVG/1.1/DTD/svg11.dtd\">\n<svg height=\"248.400937pt\" version=\"1.1\" viewBox=\"0 0 399.568961 248.400937\" width=\"399.568961pt\" xmlns=\"http://www.w3.org/2000/svg\" xmlns:xlink=\"http://www.w3.org/1999/xlink\">\n <metadata>\n  <rdf:RDF xmlns:cc=\"http://creativecommons.org/ns#\" xmlns:dc=\"http://purl.org/dc/elements/1.1/\" xmlns:rdf=\"http://www.w3.org/1999/02/22-rdf-syntax-ns#\">\n   <cc:Work>\n    <dc:type rdf:resource=\"http://purl.org/dc/dcmitype/StillImage\"/>\n    <dc:date>2021-08-16T11:27:45.584236</dc:date>\n    <dc:format>image/svg+xml</dc:format>\n    <dc:creator>\n     <cc:Agent>\n      <dc:title>Matplotlib v3.4.2, https://matplotlib.org/</dc:title>\n     </cc:Agent>\n    </dc:creator>\n   </cc:Work>\n  </rdf:RDF>\n </metadata>\n <defs>\n  <style type=\"text/css\">*{stroke-linecap:butt;stroke-linejoin:round;}</style>\n </defs>\n <g id=\"figure_1\">\n  <g id=\"patch_1\">\n   <path d=\"M 0 248.400937 \nL 399.568961 248.400937 \nL 399.568961 0 \nL 0 0 \nz\n\" style=\"fill:none;\"/>\n  </g>\n  <g id=\"axes_1\">\n   <g id=\"patch_2\">\n    <path d=\"M 55 224.64 \nL 389.8 224.64 \nL 389.8 7.2 \nL 55 7.2 \nz\n\" style=\"fill:#ffffff;\"/>\n   </g>\n   <g id=\"patch_3\">\n    <path clip-path=\"url(#p2bb5fd61a4)\" d=\"M 70.218182 224.64 \nL 100.654545 224.64 \nL 100.654545 224.587524 \nL 70.218182 224.587524 \nz\n\" style=\"fill:#1f77b4;\"/>\n   </g>\n   <g id=\"patch_4\">\n    <path clip-path=\"url(#p2bb5fd61a4)\" d=\"M 100.654545 224.64 \nL 131.090909 224.64 \nL 131.090909 224.110986 \nL 100.654545 224.110986 \nz\n\" style=\"fill:#1f77b4;\"/>\n   </g>\n   <g id=\"patch_5\">\n    <path clip-path=\"url(#p2bb5fd61a4)\" d=\"M 131.090909 224.64 \nL 161.527273 224.64 \nL 161.527273 220.760561 \nL 131.090909 220.760561 \nz\n\" style=\"fill:#1f77b4;\"/>\n   </g>\n   <g id=\"patch_6\">\n    <path clip-path=\"url(#p2bb5fd61a4)\" d=\"M 161.527273 224.64 \nL 191.963636 224.64 \nL 191.963636 215.190074 \nL 161.527273 215.190074 \nz\n\" style=\"fill:#1f77b4;\"/>\n   </g>\n   <g id=\"patch_7\">\n    <path clip-path=\"url(#p2bb5fd61a4)\" d=\"M 191.963636 224.64 \nL 222.4 224.64 \nL 222.4 155.750419 \nL 191.963636 155.750419 \nz\n\" style=\"fill:#1f77b4;\"/>\n   </g>\n   <g id=\"patch_8\">\n    <path clip-path=\"url(#p2bb5fd61a4)\" d=\"M 222.4 224.64 \nL 252.836364 224.64 \nL 252.836364 17.554286 \nL 222.4 17.554286 \nz\n\" style=\"fill:#1f77b4;\"/>\n   </g>\n   <g id=\"patch_9\">\n    <path clip-path=\"url(#p2bb5fd61a4)\" d=\"M 252.836364 224.64 \nL 283.272727 224.64 \nL 283.272727 147.51784 \nL 252.836364 147.51784 \nz\n\" style=\"fill:#1f77b4;\"/>\n   </g>\n   <g id=\"patch_10\">\n    <path clip-path=\"url(#p2bb5fd61a4)\" d=\"M 283.272727 224.64 \nL 313.709091 224.64 \nL 313.709091 219.767773 \nL 283.272727 219.767773 \nz\n\" style=\"fill:#1f77b4;\"/>\n   </g>\n   <g id=\"patch_11\">\n    <path clip-path=\"url(#p2bb5fd61a4)\" d=\"M 313.709091 224.64 \nL 344.145455 224.64 \nL 344.145455 224.507628 \nL 313.709091 224.507628 \nz\n\" style=\"fill:#1f77b4;\"/>\n   </g>\n   <g id=\"patch_12\">\n    <path clip-path=\"url(#p2bb5fd61a4)\" d=\"M 344.145455 224.64 \nL 374.581818 224.64 \nL 374.581818 224.638109 \nL 344.145455 224.638109 \nz\n\" style=\"fill:#1f77b4;\"/>\n   </g>\n   <g id=\"matplotlib.axis_1\">\n    <g id=\"xtick_1\">\n     <g id=\"line2d_1\">\n      <path clip-path=\"url(#p2bb5fd61a4)\" d=\"M 55.005709 224.64 \nL 55.005709 7.2 \n\" style=\"fill:none;stroke:#b0b0b0;stroke-linecap:square;stroke-width:0.8;\"/>\n     </g>\n     <g id=\"line2d_2\">\n      <defs>\n       <path d=\"M 0 0 \nL 0 3.5 \n\" id=\"mbb9f8fc0fe\" style=\"stroke:#000000;stroke-width:0.8;\"/>\n      </defs>\n      <g>\n       <use style=\"stroke:#000000;stroke-width:0.8;\" x=\"55.005709\" xlink:href=\"#mbb9f8fc0fe\" y=\"224.64\"/>\n      </g>\n     </g>\n     <g id=\"text_1\">\n      <!-- 0.00 -->\n      <g transform=\"translate(43.080709 239.480625)scale(0.1 -0.1)\">\n       <defs>\n        <path d=\"M 2227 -83 \nQ 1414 -83 934 576 \nQ 461 1229 461 2387 \nQ 461 3552 973 4218 \nQ 1453 4858 2221 4858 \nQ 3027 4858 3482 4173 \nQ 3955 3494 3955 2394 \nQ 3955 1248 3462 582 \nQ 2976 -83 2227 -83 \nz\nM 2176 346 \nQ 2861 346 3200 992 \nQ 3462 1536 3462 2400 \nQ 3462 3315 3162 3859 \nQ 2822 4429 2214 4429 \nQ 1574 4429 1248 3821 \nQ 960 3283 960 2374 \nQ 960 1478 1248 941 \nQ 1574 346 2176 346 \nz\n\" id=\"AppleGothic-30\" transform=\"scale(0.015625)\"/>\n        <path d=\"M 915 -19 \nQ 762 -19 653 109 \nQ 544 237 544 422 \nQ 544 614 656 745 \nQ 768 877 915 877 \nQ 1056 877 1168 758 \nQ 1280 640 1280 435 \nQ 1280 243 1171 112 \nQ 1062 -19 915 -19 \nz\n\" id=\"AppleGothic-2e\" transform=\"scale(0.015625)\"/>\n       </defs>\n       <use xlink:href=\"#AppleGothic-30\"/>\n       <use x=\"67.999985\" xlink:href=\"#AppleGothic-2e\"/>\n       <use x=\"102.499969\" xlink:href=\"#AppleGothic-30\"/>\n       <use x=\"170.499954\" xlink:href=\"#AppleGothic-30\"/>\n      </g>\n     </g>\n    </g>\n    <g id=\"xtick_2\">\n     <g id=\"line2d_3\">\n      <path clip-path=\"url(#p2bb5fd61a4)\" d=\"M 101.496888 224.64 \nL 101.496888 7.2 \n\" style=\"fill:none;stroke:#b0b0b0;stroke-linecap:square;stroke-width:0.8;\"/>\n     </g>\n     <g id=\"line2d_4\">\n      <g>\n       <use style=\"stroke:#000000;stroke-width:0.8;\" x=\"101.496888\" xlink:href=\"#mbb9f8fc0fe\" y=\"224.64\"/>\n      </g>\n     </g>\n     <g id=\"text_2\">\n      <!-- 0.25 -->\n      <g transform=\"translate(89.571888 239.480625)scale(0.1 -0.1)\">\n       <defs>\n        <path d=\"M 1101 429 \nL 3942 429 \nL 3942 0 \nL 653 0 \nL 653 205 \nQ 653 1018 1344 1664 \nQ 1670 1894 1990 2124 \nQ 2310 2355 2637 2592 \nQ 3334 3098 3334 3597 \nQ 3334 3994 3014 4218 \nQ 2867 4326 2694 4377 \nQ 2522 4429 2317 4429 \nQ 2016 4429 1741 4352 \nQ 1325 4224 883 3910 \nL 883 4435 \nQ 1325 4659 1667 4758 \nQ 2010 4858 2317 4858 \nQ 2963 4858 3405 4525 \nQ 3840 4198 3840 3622 \nQ 3840 2995 3168 2438 \nQ 2848 2214 2531 2000 \nQ 2214 1786 1894 1562 \nQ 1178 1024 1101 429 \nz\n\" id=\"AppleGothic-32\" transform=\"scale(0.015625)\"/>\n        <path d=\"M 621 4768 \nL 3488 4768 \nL 3488 4339 \nL 1088 4339 \nL 1088 2707 \nQ 1184 2771 1293 2819 \nQ 1402 2867 1510 2912 \nQ 1862 3040 2259 3040 \nQ 2989 3040 3424 2605 \nQ 3827 2202 3827 1581 \nQ 3827 870 3296 397 \nQ 2765 -83 2010 -83 \nQ 1651 -83 1248 45 \nQ 1158 77 1001 137 \nQ 845 198 621 301 \nL 621 838 \nQ 928 640 1203 525 \nQ 1408 435 1613 390 \nQ 1818 346 2010 346 \nQ 2528 346 2906 666 \nQ 3322 1011 3322 1536 \nQ 3322 1990 3021 2291 \nQ 2701 2611 2144 2611 \nQ 1856 2611 1587 2528 \nQ 1318 2445 1088 2272 \nL 621 2272 \nL 621 4768 \nz\n\" id=\"AppleGothic-35\" transform=\"scale(0.015625)\"/>\n       </defs>\n       <use xlink:href=\"#AppleGothic-30\"/>\n       <use x=\"67.999985\" xlink:href=\"#AppleGothic-2e\"/>\n       <use x=\"102.499969\" xlink:href=\"#AppleGothic-32\"/>\n       <use x=\"170.499954\" xlink:href=\"#AppleGothic-35\"/>\n      </g>\n     </g>\n    </g>\n    <g id=\"xtick_3\">\n     <g id=\"line2d_5\">\n      <path clip-path=\"url(#p2bb5fd61a4)\" d=\"M 147.988067 224.64 \nL 147.988067 7.2 \n\" style=\"fill:none;stroke:#b0b0b0;stroke-linecap:square;stroke-width:0.8;\"/>\n     </g>\n     <g id=\"line2d_6\">\n      <g>\n       <use style=\"stroke:#000000;stroke-width:0.8;\" x=\"147.988067\" xlink:href=\"#mbb9f8fc0fe\" y=\"224.64\"/>\n      </g>\n     </g>\n     <g id=\"text_3\">\n      <!-- 0.50 -->\n      <g transform=\"translate(136.063067 239.480625)scale(0.1 -0.1)\">\n       <use xlink:href=\"#AppleGothic-30\"/>\n       <use x=\"67.999985\" xlink:href=\"#AppleGothic-2e\"/>\n       <use x=\"102.499969\" xlink:href=\"#AppleGothic-35\"/>\n       <use x=\"170.499954\" xlink:href=\"#AppleGothic-30\"/>\n      </g>\n     </g>\n    </g>\n    <g id=\"xtick_4\">\n     <g id=\"line2d_7\">\n      <path clip-path=\"url(#p2bb5fd61a4)\" d=\"M 194.479246 224.64 \nL 194.479246 7.2 \n\" style=\"fill:none;stroke:#b0b0b0;stroke-linecap:square;stroke-width:0.8;\"/>\n     </g>\n     <g id=\"line2d_8\">\n      <g>\n       <use style=\"stroke:#000000;stroke-width:0.8;\" x=\"194.479246\" xlink:href=\"#mbb9f8fc0fe\" y=\"224.64\"/>\n      </g>\n     </g>\n     <g id=\"text_4\">\n      <!-- 0.75 -->\n      <g transform=\"translate(182.554246 239.480625)scale(0.1 -0.1)\">\n       <defs>\n        <path d=\"M 595 4774 \nL 3802 4774 \nL 3802 4410 \nL 1734 0 \nL 1235 0 \nL 3277 4352 \nL 595 4352 \nL 595 4774 \nz\n\" id=\"AppleGothic-37\" transform=\"scale(0.015625)\"/>\n       </defs>\n       <use xlink:href=\"#AppleGothic-30\"/>\n       <use x=\"67.999985\" xlink:href=\"#AppleGothic-2e\"/>\n       <use x=\"102.499969\" xlink:href=\"#AppleGothic-37\"/>\n       <use x=\"170.499954\" xlink:href=\"#AppleGothic-35\"/>\n      </g>\n     </g>\n    </g>\n    <g id=\"xtick_5\">\n     <g id=\"line2d_9\">\n      <path clip-path=\"url(#p2bb5fd61a4)\" d=\"M 240.970425 224.64 \nL 240.970425 7.2 \n\" style=\"fill:none;stroke:#b0b0b0;stroke-linecap:square;stroke-width:0.8;\"/>\n     </g>\n     <g id=\"line2d_10\">\n      <g>\n       <use style=\"stroke:#000000;stroke-width:0.8;\" x=\"240.970425\" xlink:href=\"#mbb9f8fc0fe\" y=\"224.64\"/>\n      </g>\n     </g>\n     <g id=\"text_5\">\n      <!-- 1.00 -->\n      <g transform=\"translate(229.045425 239.480625)scale(0.1 -0.1)\">\n       <defs>\n        <path d=\"M 2342 4774 \nL 2752 4774 \nL 2752 0 \nL 2285 0 \nL 2285 3526 \nL 1158 3526 \nL 1158 3885 \nL 1414 3885 \nQ 1990 3885 2214 4205 \nQ 2342 4410 2342 4774 \nz\n\" id=\"AppleGothic-31\" transform=\"scale(0.015625)\"/>\n       </defs>\n       <use xlink:href=\"#AppleGothic-31\"/>\n       <use x=\"67.999985\" xlink:href=\"#AppleGothic-2e\"/>\n       <use x=\"102.499969\" xlink:href=\"#AppleGothic-30\"/>\n       <use x=\"170.499954\" xlink:href=\"#AppleGothic-30\"/>\n      </g>\n     </g>\n    </g>\n    <g id=\"xtick_6\">\n     <g id=\"line2d_11\">\n      <path clip-path=\"url(#p2bb5fd61a4)\" d=\"M 287.461604 224.64 \nL 287.461604 7.2 \n\" style=\"fill:none;stroke:#b0b0b0;stroke-linecap:square;stroke-width:0.8;\"/>\n     </g>\n     <g id=\"line2d_12\">\n      <g>\n       <use style=\"stroke:#000000;stroke-width:0.8;\" x=\"287.461604\" xlink:href=\"#mbb9f8fc0fe\" y=\"224.64\"/>\n      </g>\n     </g>\n     <g id=\"text_6\">\n      <!-- 1.25 -->\n      <g transform=\"translate(275.536604 239.480625)scale(0.1 -0.1)\">\n       <use xlink:href=\"#AppleGothic-31\"/>\n       <use x=\"67.999985\" xlink:href=\"#AppleGothic-2e\"/>\n       <use x=\"102.499969\" xlink:href=\"#AppleGothic-32\"/>\n       <use x=\"170.499954\" xlink:href=\"#AppleGothic-35\"/>\n      </g>\n     </g>\n    </g>\n    <g id=\"xtick_7\">\n     <g id=\"line2d_13\">\n      <path clip-path=\"url(#p2bb5fd61a4)\" d=\"M 333.952782 224.64 \nL 333.952782 7.2 \n\" style=\"fill:none;stroke:#b0b0b0;stroke-linecap:square;stroke-width:0.8;\"/>\n     </g>\n     <g id=\"line2d_14\">\n      <g>\n       <use style=\"stroke:#000000;stroke-width:0.8;\" x=\"333.952782\" xlink:href=\"#mbb9f8fc0fe\" y=\"224.64\"/>\n      </g>\n     </g>\n     <g id=\"text_7\">\n      <!-- 1.50 -->\n      <g transform=\"translate(322.027782 239.480625)scale(0.1 -0.1)\">\n       <use xlink:href=\"#AppleGothic-31\"/>\n       <use x=\"67.999985\" xlink:href=\"#AppleGothic-2e\"/>\n       <use x=\"102.499969\" xlink:href=\"#AppleGothic-35\"/>\n       <use x=\"170.499954\" xlink:href=\"#AppleGothic-30\"/>\n      </g>\n     </g>\n    </g>\n    <g id=\"xtick_8\">\n     <g id=\"line2d_15\">\n      <path clip-path=\"url(#p2bb5fd61a4)\" d=\"M 380.443961 224.64 \nL 380.443961 7.2 \n\" style=\"fill:none;stroke:#b0b0b0;stroke-linecap:square;stroke-width:0.8;\"/>\n     </g>\n     <g id=\"line2d_16\">\n      <g>\n       <use style=\"stroke:#000000;stroke-width:0.8;\" x=\"380.443961\" xlink:href=\"#mbb9f8fc0fe\" y=\"224.64\"/>\n      </g>\n     </g>\n     <g id=\"text_8\">\n      <!-- 1.75 -->\n      <g transform=\"translate(368.518961 239.480625)scale(0.1 -0.1)\">\n       <use xlink:href=\"#AppleGothic-31\"/>\n       <use x=\"67.999985\" xlink:href=\"#AppleGothic-2e\"/>\n       <use x=\"102.499969\" xlink:href=\"#AppleGothic-37\"/>\n       <use x=\"170.499954\" xlink:href=\"#AppleGothic-35\"/>\n      </g>\n     </g>\n    </g>\n   </g>\n   <g id=\"matplotlib.axis_2\">\n    <g id=\"ytick_1\">\n     <g id=\"line2d_17\">\n      <path clip-path=\"url(#p2bb5fd61a4)\" d=\"M 55 224.64 \nL 389.8 224.64 \n\" style=\"fill:none;stroke:#b0b0b0;stroke-linecap:square;stroke-width:0.8;\"/>\n     </g>\n     <g id=\"line2d_18\">\n      <defs>\n       <path d=\"M 0 0 \nL -3.5 0 \n\" id=\"mb37b214653\" style=\"stroke:#000000;stroke-width:0.8;\"/>\n      </defs>\n      <g>\n       <use style=\"stroke:#000000;stroke-width:0.8;\" x=\"55\" xlink:href=\"#mb37b214653\" y=\"224.64\"/>\n      </g>\n     </g>\n     <g id=\"text_9\">\n      <!-- 0 -->\n      <g transform=\"translate(41.2 228.560312)scale(0.1 -0.1)\">\n       <use xlink:href=\"#AppleGothic-30\"/>\n      </g>\n     </g>\n    </g>\n    <g id=\"ytick_2\">\n     <g id=\"line2d_19\">\n      <path clip-path=\"url(#p2bb5fd61a4)\" d=\"M 55 177.364366 \nL 389.8 177.364366 \n\" style=\"fill:none;stroke:#b0b0b0;stroke-linecap:square;stroke-width:0.8;\"/>\n     </g>\n     <g id=\"line2d_20\">\n      <g>\n       <use style=\"stroke:#000000;stroke-width:0.8;\" x=\"55\" xlink:href=\"#mb37b214653\" y=\"177.364366\"/>\n      </g>\n     </g>\n     <g id=\"text_10\">\n      <!-- 100000 -->\n      <g transform=\"translate(7.2 181.284679)scale(0.1 -0.1)\">\n       <use xlink:href=\"#AppleGothic-31\"/>\n       <use x=\"67.999985\" xlink:href=\"#AppleGothic-30\"/>\n       <use x=\"135.999969\" xlink:href=\"#AppleGothic-30\"/>\n       <use x=\"203.999954\" xlink:href=\"#AppleGothic-30\"/>\n       <use x=\"271.999939\" xlink:href=\"#AppleGothic-30\"/>\n       <use x=\"339.999924\" xlink:href=\"#AppleGothic-30\"/>\n      </g>\n     </g>\n    </g>\n    <g id=\"ytick_3\">\n     <g id=\"line2d_21\">\n      <path clip-path=\"url(#p2bb5fd61a4)\" d=\"M 55 130.088732 \nL 389.8 130.088732 \n\" style=\"fill:none;stroke:#b0b0b0;stroke-linecap:square;stroke-width:0.8;\"/>\n     </g>\n     <g id=\"line2d_22\">\n      <g>\n       <use style=\"stroke:#000000;stroke-width:0.8;\" x=\"55\" xlink:href=\"#mb37b214653\" y=\"130.088732\"/>\n      </g>\n     </g>\n     <g id=\"text_11\">\n      <!-- 200000 -->\n      <g transform=\"translate(7.2 134.009045)scale(0.1 -0.1)\">\n       <use xlink:href=\"#AppleGothic-32\"/>\n       <use x=\"67.999985\" xlink:href=\"#AppleGothic-30\"/>\n       <use x=\"135.999969\" xlink:href=\"#AppleGothic-30\"/>\n       <use x=\"203.999954\" xlink:href=\"#AppleGothic-30\"/>\n       <use x=\"271.999939\" xlink:href=\"#AppleGothic-30\"/>\n       <use x=\"339.999924\" xlink:href=\"#AppleGothic-30\"/>\n      </g>\n     </g>\n    </g>\n    <g id=\"ytick_4\">\n     <g id=\"line2d_23\">\n      <path clip-path=\"url(#p2bb5fd61a4)\" d=\"M 55 82.813098 \nL 389.8 82.813098 \n\" style=\"fill:none;stroke:#b0b0b0;stroke-linecap:square;stroke-width:0.8;\"/>\n     </g>\n     <g id=\"line2d_24\">\n      <g>\n       <use style=\"stroke:#000000;stroke-width:0.8;\" x=\"55\" xlink:href=\"#mb37b214653\" y=\"82.813098\"/>\n      </g>\n     </g>\n     <g id=\"text_12\">\n      <!-- 300000 -->\n      <g transform=\"translate(7.2 86.733411)scale(0.1 -0.1)\">\n       <defs>\n        <path d=\"M 550 333 \nL 550 870 \nQ 883 621 1235 483 \nQ 1587 346 1971 346 \nQ 2522 346 2861 666 \nQ 3219 992 3219 1421 \nQ 3219 1869 2842 2099 \nQ 2515 2304 1965 2304 \nL 992 2304 \nL 992 2701 \nL 1658 2701 \nQ 2298 2701 2662 2928 \nQ 3027 3155 3027 3584 \nQ 3027 3936 2752 4173 \nQ 2458 4429 1978 4429 \nQ 1786 4429 1597 4393 \nQ 1408 4358 1222 4282 \nQ 890 4141 531 3872 \nL 531 4422 \nQ 736 4531 912 4608 \nQ 1088 4685 1254 4736 \nQ 1626 4858 2022 4858 \nQ 2650 4858 3066 4531 \nQ 3488 4211 3488 3642 \nQ 3488 3168 3168 2861 \nQ 2976 2675 2643 2554 \nQ 2874 2522 3053 2448 \nQ 3232 2374 3366 2266 \nQ 3718 1971 3718 1434 \nQ 3718 813 3219 365 \nQ 2714 -83 1965 -83 \nQ 1549 -83 1126 70 \nQ 1024 102 880 166 \nQ 736 230 550 333 \nz\n\" id=\"AppleGothic-33\" transform=\"scale(0.015625)\"/>\n       </defs>\n       <use xlink:href=\"#AppleGothic-33\"/>\n       <use x=\"67.999985\" xlink:href=\"#AppleGothic-30\"/>\n       <use x=\"135.999969\" xlink:href=\"#AppleGothic-30\"/>\n       <use x=\"203.999954\" xlink:href=\"#AppleGothic-30\"/>\n       <use x=\"271.999939\" xlink:href=\"#AppleGothic-30\"/>\n       <use x=\"339.999924\" xlink:href=\"#AppleGothic-30\"/>\n      </g>\n     </g>\n    </g>\n    <g id=\"ytick_5\">\n     <g id=\"line2d_25\">\n      <path clip-path=\"url(#p2bb5fd61a4)\" d=\"M 55 35.537464 \nL 389.8 35.537464 \n\" style=\"fill:none;stroke:#b0b0b0;stroke-linecap:square;stroke-width:0.8;\"/>\n     </g>\n     <g id=\"line2d_26\">\n      <g>\n       <use style=\"stroke:#000000;stroke-width:0.8;\" x=\"55\" xlink:href=\"#mb37b214653\" y=\"35.537464\"/>\n      </g>\n     </g>\n     <g id=\"text_13\">\n      <!-- 400000 -->\n      <g transform=\"translate(7.2 39.457777)scale(0.1 -0.1)\">\n       <defs>\n        <path d=\"M 2662 4774 \nL 3130 4774 \nL 3130 1811 \nL 4000 1811 \nL 4000 1382 \nL 3130 1382 \nL 3130 0 \nL 2662 0 \nL 2662 1382 \nL 352 1382 \nL 352 1811 \nL 2662 4774 \nz\nM 2662 1811 \nL 2662 4166 \nL 838 1811 \nL 2662 1811 \nz\n\" id=\"AppleGothic-34\" transform=\"scale(0.015625)\"/>\n       </defs>\n       <use xlink:href=\"#AppleGothic-34\"/>\n       <use x=\"67.999985\" xlink:href=\"#AppleGothic-30\"/>\n       <use x=\"135.999969\" xlink:href=\"#AppleGothic-30\"/>\n       <use x=\"203.999954\" xlink:href=\"#AppleGothic-30\"/>\n       <use x=\"271.999939\" xlink:href=\"#AppleGothic-30\"/>\n       <use x=\"339.999924\" xlink:href=\"#AppleGothic-30\"/>\n      </g>\n     </g>\n    </g>\n   </g>\n   <g id=\"patch_13\">\n    <path d=\"M 55 224.64 \nL 55 7.2 \n\" style=\"fill:none;stroke:#000000;stroke-linecap:square;stroke-linejoin:miter;stroke-width:0.8;\"/>\n   </g>\n   <g id=\"patch_14\">\n    <path d=\"M 389.8 224.64 \nL 389.8 7.2 \n\" style=\"fill:none;stroke:#000000;stroke-linecap:square;stroke-linejoin:miter;stroke-width:0.8;\"/>\n   </g>\n   <g id=\"patch_15\">\n    <path d=\"M 55 224.64 \nL 389.8 224.64 \n\" style=\"fill:none;stroke:#000000;stroke-linecap:square;stroke-linejoin:miter;stroke-width:0.8;\"/>\n   </g>\n   <g id=\"patch_16\">\n    <path d=\"M 55 7.2 \nL 389.8 7.2 \n\" style=\"fill:none;stroke:#000000;stroke-linecap:square;stroke-linejoin:miter;stroke-width:0.8;\"/>\n   </g>\n  </g>\n </g>\n <defs>\n  <clipPath id=\"p2bb5fd61a4\">\n   <rect height=\"217.44\" width=\"334.8\" x=\"55\" y=\"7.2\"/>\n  </clipPath>\n </defs>\n</svg>\n",
                        "image/png": "[encoded data removed]"
                    },
                    "metadata": {
                        "needs_background": "light"
                    }
                }
            ],
            "metadata": {}
        },
        {
            "cell_type": "code",
            "execution_count": 11,
            "source": [
                "# # 제품가격 대비 승인액 비율\n",
                "# prev_app[\"승인액/제품가격\"] = prev_app[\"AMT_CREDIT\"] / prev_app[\"AMT_GOODS_PRICE\"] \n",
                "# # 대출 승인이 거부된 경우 승인액/요청액은 -1\n",
                "# prev_app.loc[prev_app[\"승인/거부(prev_app)\"] == -1, \"승인액/제품가격\"] = -1\n",
                "# prev_app[\"승인액/제품가격\"].hist()\n",
                "# # 상관관계가 매우 높으므로 사용하지 않음.\n",
                "# uf.corr_heatmap(prev_app[[\"승인액/제품가격\", \"승인액/요청액\"]])"
            ],
            "outputs": [],
            "metadata": {}
        },
        {
            "cell_type": "code",
            "execution_count": 12,
            "source": [
                "group_ds = prev_app[['SK_ID_CURR', '승인/거부(prev_app)', \\\n",
                "                     '(추정)이자율', '연체일', '연체여부', '승인액/요청액']\n",
                "                   ]"
            ],
            "outputs": [],
            "metadata": {}
        },
        {
            "cell_type": "code",
            "execution_count": 16,
            "source": [
                "agg_set = {\"승인/거부(prev_app)\": np.sum,\n",
                "           \"(추정)이자율\": np.max,\n",
                "           \"연체일\": np.sum,\n",
                "           \"연체여부\": np.sum,\n",
                "           \"승인액/요청액\": np.mean}\n",
                "fin_ds = group_ds.groupby(\"SK_ID_CURR\").agg(agg_set)\n",
                "fin_ds.rename(columns={\"연체여부\": \"연체횟수\"}, inplace=True)"
            ],
            "outputs": [],
            "metadata": {}
        },
        {
            "cell_type": "code",
            "execution_count": 17,
            "source": [
                "# prev_app.loc[prev_app[\"SK_ID_CURR\"] == 229226].head(50)\n",
                "fin_ds"
            ],
            "outputs": [
                {
                    "output_type": "execute_result",
                    "data": {
                        "text/plain": [
                            "            승인/거부(prev_app)   (추정)이자율  연체일  연체횟수   승인액/요청액\n",
                            "SK_ID_CURR                                                \n",
                            "100001                    1  0.876781  0.0     0  0.957782\n",
                            "100002                    1  0.230477  0.0     0  1.000000\n",
                            "100003                    2  0.381257  0.0     0  1.011007\n",
                            "100004                    1  0.315846  0.0     0  0.828021\n",
                            "100005                    1  0.809428  0.0     0  0.899950\n",
                            "...                     ...       ...  ...   ...       ...\n",
                            "456251                    1  0.816860  0.0     0  1.000000\n",
                            "456252                    1  0.218748  0.0     0  0.986561\n",
                            "456253                    2  0.765959  0.0     0  0.831397\n",
                            "456254                    2  0.797477  0.0     0  1.122050\n",
                            "456255                    3  0.840410  0.0     0  1.081106\n",
                            "\n",
                            "[319309 rows x 5 columns]"
                        ],
                        "text/html": [
                            "<div>\n",
                            "<style scoped>\n",
                            "    .dataframe tbody tr th:only-of-type {\n",
                            "        vertical-align: middle;\n",
                            "    }\n",
                            "\n",
                            "    .dataframe tbody tr th {\n",
                            "        vertical-align: top;\n",
                            "    }\n",
                            "\n",
                            "    .dataframe thead th {\n",
                            "        text-align: right;\n",
                            "    }\n",
                            "</style>\n",
                            "<table border=\"1\" class=\"dataframe\">\n",
                            "  <thead>\n",
                            "    <tr style=\"text-align: right;\">\n",
                            "      <th></th>\n",
                            "      <th>승인/거부(prev_app)</th>\n",
                            "      <th>(추정)이자율</th>\n",
                            "      <th>연체일</th>\n",
                            "      <th>연체횟수</th>\n",
                            "      <th>승인액/요청액</th>\n",
                            "    </tr>\n",
                            "    <tr>\n",
                            "      <th>SK_ID_CURR</th>\n",
                            "      <th></th>\n",
                            "      <th></th>\n",
                            "      <th></th>\n",
                            "      <th></th>\n",
                            "      <th></th>\n",
                            "    </tr>\n",
                            "  </thead>\n",
                            "  <tbody>\n",
                            "    <tr>\n",
                            "      <th>100001</th>\n",
                            "      <td>1</td>\n",
                            "      <td>0.876781</td>\n",
                            "      <td>0.0</td>\n",
                            "      <td>0</td>\n",
                            "      <td>0.957782</td>\n",
                            "    </tr>\n",
                            "    <tr>\n",
                            "      <th>100002</th>\n",
                            "      <td>1</td>\n",
                            "      <td>0.230477</td>\n",
                            "      <td>0.0</td>\n",
                            "      <td>0</td>\n",
                            "      <td>1.000000</td>\n",
                            "    </tr>\n",
                            "    <tr>\n",
                            "      <th>100003</th>\n",
                            "      <td>2</td>\n",
                            "      <td>0.381257</td>\n",
                            "      <td>0.0</td>\n",
                            "      <td>0</td>\n",
                            "      <td>1.011007</td>\n",
                            "    </tr>\n",
                            "    <tr>\n",
                            "      <th>100004</th>\n",
                            "      <td>1</td>\n",
                            "      <td>0.315846</td>\n",
                            "      <td>0.0</td>\n",
                            "      <td>0</td>\n",
                            "      <td>0.828021</td>\n",
                            "    </tr>\n",
                            "    <tr>\n",
                            "      <th>100005</th>\n",
                            "      <td>1</td>\n",
                            "      <td>0.809428</td>\n",
                            "      <td>0.0</td>\n",
                            "      <td>0</td>\n",
                            "      <td>0.899950</td>\n",
                            "    </tr>\n",
                            "    <tr>\n",
                            "      <th>...</th>\n",
                            "      <td>...</td>\n",
                            "      <td>...</td>\n",
                            "      <td>...</td>\n",
                            "      <td>...</td>\n",
                            "      <td>...</td>\n",
                            "    </tr>\n",
                            "    <tr>\n",
                            "      <th>456251</th>\n",
                            "      <td>1</td>\n",
                            "      <td>0.816860</td>\n",
                            "      <td>0.0</td>\n",
                            "      <td>0</td>\n",
                            "      <td>1.000000</td>\n",
                            "    </tr>\n",
                            "    <tr>\n",
                            "      <th>456252</th>\n",
                            "      <td>1</td>\n",
                            "      <td>0.218748</td>\n",
                            "      <td>0.0</td>\n",
                            "      <td>0</td>\n",
                            "      <td>0.986561</td>\n",
                            "    </tr>\n",
                            "    <tr>\n",
                            "      <th>456253</th>\n",
                            "      <td>2</td>\n",
                            "      <td>0.765959</td>\n",
                            "      <td>0.0</td>\n",
                            "      <td>0</td>\n",
                            "      <td>0.831397</td>\n",
                            "    </tr>\n",
                            "    <tr>\n",
                            "      <th>456254</th>\n",
                            "      <td>2</td>\n",
                            "      <td>0.797477</td>\n",
                            "      <td>0.0</td>\n",
                            "      <td>0</td>\n",
                            "      <td>1.122050</td>\n",
                            "    </tr>\n",
                            "    <tr>\n",
                            "      <th>456255</th>\n",
                            "      <td>3</td>\n",
                            "      <td>0.840410</td>\n",
                            "      <td>0.0</td>\n",
                            "      <td>0</td>\n",
                            "      <td>1.081106</td>\n",
                            "    </tr>\n",
                            "  </tbody>\n",
                            "</table>\n",
                            "<p>319309 rows × 5 columns</p>\n",
                            "</div>"
                        ]
                    },
                    "metadata": {},
                    "execution_count": 17
                }
            ],
            "metadata": {}
        },
        {
            "cell_type": "code",
            "execution_count": 18,
            "source": [
                "# 결측값 확인\n",
                "uf.check_missing_value(fin_ds)\n",
                "\n",
                "# 저장\n",
                "fin_ds.to_csv(\"../pre_data/new_previous_application.csv\")"
            ],
            "outputs": [
                {
                    "output_type": "stream",
                    "name": "stdout",
                    "text": [
                        "결측치 없음!\n"
                    ]
                }
            ],
            "metadata": {}
        }
    ],
    "metadata": {
        "orig_nbformat": 4,
        "language_info": {
            "name": "python",
            "version": "3.9.6",
            "mimetype": "text/x-python",
            "codemirror_mode": {
                "name": "ipython",
                "version": 3
            },
            "pygments_lexer": "ipython3",
            "nbconvert_exporter": "python",
            "file_extension": ".py"
        },
        "kernelspec": {
            "name": "python3",
            "display_name": "Python 3.9.6 64-bit"
        },
        "interpreter": {
            "hash": "7812ea015bdcee6f23a998adcdd2ef97c151c0c241b7b7070987d9313e41299d"
        }
    },
    "nbformat": 4,
    "nbformat_minor": 2
}