{
    "cells": [
        {
            "cell_type": "code",
            "execution_count": 1,
            "source": [
                "\"\"\"\n",
                "# 전처리 배분\n",
                "\n",
                "1(성준) - 0~9,   40~49, 80~89, 120, \n",
                "       - credit_card_balance.csv\n",
                "       - POS_CASH_balance.csv\n",
                "       - previous_application.csv\n",
                "       - installments_payments.csv\n",
                "2(장호) - 10~19, 50~59, 90~99, 121\n",
                "3(두영) - 20~29, 60~69, 100~109, 122, \n",
                "       - bureau.csv,\n",
                "4(혜빈) - 30~39, 70~79, 110~119, 123, \n",
                "       - bureau_balance.csv\n",
                "5(준혁) -  \n",
                "\"\"\"\n",
                "\n",
                "\"\"\"\n",
                "# 데이터 목록\n",
                "application_test.csv\n",
                "application_train.csv\n",
                "credit_card_balance.csv\n",
                "POS_CASH_balance.csv\n",
                "previous_application.csv\n",
                "installments_payments.csv\n",
                "bureau.csv\n",
                "bureau_balance.csv\n",
                "sample_submission.csv\n",
                "\"\"\""
            ],
            "outputs": [
                {
                    "output_type": "execute_result",
                    "data": {
                        "text/plain": [
                            "'\\n# 데이터 목록\\napplication_test.csv\\napplication_train.csv\\nPOS_CASH_balance.csv\\nbureau.csv\\nbureau_balance.csv\\ncredit_card_balance.csv\\ninstallments_payments.csv\\nprevious_application.csv\\nsample_submission.csv\\n'"
                        ]
                    },
                    "metadata": {},
                    "execution_count": 1
                }
            ],
            "metadata": {}
        },
        {
            "cell_type": "code",
            "execution_count": 1,
            "source": [
                "import pandas as pd\n",
                "import matplotlib.pyplot as plt\n",
                "import seaborn as sns\n",
                "from sklearn.preprocessing import MinMaxScaler, RobustScaler, StandardScaler\n",
                "from sklearn.preprocessing import LabelEncoder, OrdinalEncoder\n",
                "from sklearn.impute import SimpleImputer\n",
                "import user_functions as uf\n",
                "\n",
                "import platform\n",
                "import matplotlib\n",
                "%matplotlib inline\n",
                "# 한글 출력되게 설정\n",
                "uf.korean()"
            ],
            "outputs": [],
            "metadata": {}
        },
        {
            "cell_type": "markdown",
            "source": [
                "## previous_application.csv\n",
                "---\n",
                "\n",
                "- <span style=\"color:red\">ID 값 중복 존재함</span>"
            ],
            "metadata": {}
        },
        {
            "cell_type": "code",
            "execution_count": 95,
            "source": [
                "prev_app = pd.read_csv(uf.get_f_path()+\"previous_application.csv\")"
            ],
            "outputs": [],
            "metadata": {}
        },
        {
            "cell_type": "code",
            "execution_count": 3,
            "source": [
                "prev_app.info()"
            ],
            "outputs": [
                {
                    "output_type": "stream",
                    "name": "stdout",
                    "text": [
                        "<class 'pandas.core.frame.DataFrame'>\n",
                        "RangeIndex: 1670214 entries, 0 to 1670213\n",
                        "Data columns (total 37 columns):\n",
                        " #   Column                       Non-Null Count    Dtype  \n",
                        "---  ------                       --------------    -----  \n",
                        " 0   SK_ID_PREV                   1670214 non-null  int64  \n",
                        " 1   SK_ID_CURR                   1670214 non-null  int64  \n",
                        " 2   NAME_CONTRACT_TYPE           1670214 non-null  object \n",
                        " 3   AMT_ANNUITY                  1297979 non-null  float64\n",
                        " 4   AMT_APPLICATION              1670214 non-null  float64\n",
                        " 5   AMT_CREDIT                   1670213 non-null  float64\n",
                        " 6   AMT_DOWN_PAYMENT             774370 non-null   float64\n",
                        " 7   AMT_GOODS_PRICE              1284699 non-null  float64\n",
                        " 8   WEEKDAY_APPR_PROCESS_START   1670214 non-null  object \n",
                        " 9   HOUR_APPR_PROCESS_START      1670214 non-null  int64  \n",
                        " 10  FLAG_LAST_APPL_PER_CONTRACT  1670214 non-null  object \n",
                        " 11  NFLAG_LAST_APPL_IN_DAY       1670214 non-null  int64  \n",
                        " 12  RATE_DOWN_PAYMENT            774370 non-null   float64\n",
                        " 13  RATE_INTEREST_PRIMARY        5951 non-null     float64\n",
                        " 14  RATE_INTEREST_PRIVILEGED     5951 non-null     float64\n",
                        " 15  NAME_CASH_LOAN_PURPOSE       1670214 non-null  object \n",
                        " 16  NAME_CONTRACT_STATUS         1670214 non-null  object \n",
                        " 17  DAYS_DECISION                1670214 non-null  int64  \n",
                        " 18  NAME_PAYMENT_TYPE            1670214 non-null  object \n",
                        " 19  CODE_REJECT_REASON           1670214 non-null  object \n",
                        " 20  NAME_TYPE_SUITE              849809 non-null   object \n",
                        " 21  NAME_CLIENT_TYPE             1670214 non-null  object \n",
                        " 22  NAME_GOODS_CATEGORY          1670214 non-null  object \n",
                        " 23  NAME_PORTFOLIO               1670214 non-null  object \n",
                        " 24  NAME_PRODUCT_TYPE            1670214 non-null  object \n",
                        " 25  CHANNEL_TYPE                 1670214 non-null  object \n",
                        " 26  SELLERPLACE_AREA             1670214 non-null  int64  \n",
                        " 27  NAME_SELLER_INDUSTRY         1670214 non-null  object \n",
                        " 28  CNT_PAYMENT                  1297984 non-null  float64\n",
                        " 29  NAME_YIELD_GROUP             1670214 non-null  object \n",
                        " 30  PRODUCT_COMBINATION          1669868 non-null  object \n",
                        " 31  DAYS_FIRST_DRAWING           997149 non-null   float64\n",
                        " 32  DAYS_FIRST_DUE               997149 non-null   float64\n",
                        " 33  DAYS_LAST_DUE_1ST_VERSION    997149 non-null   float64\n",
                        " 34  DAYS_LAST_DUE                997149 non-null   float64\n",
                        " 35  DAYS_TERMINATION             997149 non-null   float64\n",
                        " 36  NFLAG_INSURED_ON_APPROVAL    997149 non-null   float64\n",
                        "dtypes: float64(15), int64(6), object(16)\n",
                        "memory usage: 471.5+ MB\n"
                    ]
                }
            ],
            "metadata": {}
        },
        {
            "cell_type": "code",
            "execution_count": 96,
            "source": [
                "# \"RATE_DOWN_PAYMENT\" 부채 감액 비율\n",
                "## 음수 값 0으로 대치\n",
                "prev_app.loc[prev_app[\"RATE_DOWN_PAYMENT\"] < 0, \"RATE_DOWN_PAYMENT\"] = 0 \n",
                "## 결측치 0으로 대체\n",
                "prev_app[\"RATE_DOWN_PAYMENT\"].fillna(0, inplace=True)\n",
                "## 감액율 중 최대값을 활용해서 새로운 DF 생성\n",
                "merge_down_rate = prev_app[[\"SK_ID_CURR\", \"RATE_DOWN_PAYMENT\"]].groupby(\"SK_ID_CURR\").max()\n",
                "\n",
                "# \"AMT_DOWN_PAYMENT\" 부채 감액 총액\n",
                "## 결측치 0으로 대체\n",
                "prev_app[\"AMT_DOWN_PAYMENT\"].fillna(0, inplace=True)\n",
                "## 감액총액을 새로운 DF로 생성\n",
                "merge_down_amt = prev_app[[\"SK_ID_CURR\", \"AMT_DOWN_PAYMENT\"]].groupby(\"SK_ID_CURR\").sum()\n",
                "\n",
                "# 연체 횟수 피처 생성\n",
                "## 부채감액 비율 또는 부채 감액 총액이 0보다 크면 연체라고 판단함\n",
                "temp = ((prev_app[\"RATE_DOWN_PAYMENT\"] > 0) \\\n",
                "        | (prev_app[\"AMT_DOWN_PAYMENT\"] > 0)\n",
                "       )\n",
                "prev_app[\"연체_횟수\"] = temp.replace({True: 1, False: 0})\n",
                "## 연체 횟수를 더한 새로운 DF 생성\n",
                "merge_down_num = prev_app[[\"SK_ID_CURR\", \"연체_횟수\"]].groupby(\"SK_ID_CURR\").sum()"
            ],
            "outputs": [],
            "metadata": {}
        },
        {
            "cell_type": "code",
            "execution_count": 118,
            "source": [
                "# AMT_CREDIT(대출 승인 금액) 결측치 1개 0으로 대체\n",
                "prev_app.loc[prev_app[\"AMT_CREDIT\"].isna(), \"AMT_CREDIT\"] = 0\n",
                "\n",
                "# AMT_APPLICATION(대출 요청 금액) 0인 행 제외\n",
                "drop_index = prev_app.loc[prev_app[\"AMT_APPLICATION\"] == 0].index\n",
                "prev_app.drop(index=drop_index, inplace=True)\n",
                "\n",
                "# \"과거_승인액/요청액\" feature 생성\n",
                "prev_app[\"과거_승인액/요청액\"] = prev_app[\"AMT_CREDIT\"] / prev_app[\"AMT_APPLICATION\"]\n",
                "\n",
                "# 2.5 이상값은 이상치로 판단하여 모두 2.5로 제한함\n",
                "## 329개\n",
                "prev_app.loc[prev_app[\"과거_승인액/요청액\"] > 2.5, \"과거_승인액/요청액\"] = 2.5\n",
                "\n",
                "# groupby.mean\n",
                "## 0인 행을 모두 삭제했으므로 요청액 대비 승인액의 비율의 평균을 통해 한 개인의 대출 요청 금액에 비해 승인액 비율을 도출함\n",
                "merge_cre_app_r = prev_app[[\"SK_ID_CURR\", \"과거_승인액/요청액\"]].groupby(\"SK_ID_CURR\").mean()\n",
                "\n",
                "# new_pre_app Dataframe 만들기\n",
                "new_pre_app = pd.merge(merge_down_amt, \n",
                "                       merge_down_rate, \n",
                "                       on=\"SK_ID_CURR\", \n",
                "                       how=\"outer\"\n",
                "                      )\n",
                "new_pre_app = pd.merge(new_pre_app,\n",
                "                       merge_cre_app_r, \n",
                "                       on=\"SK_ID_CURR\", \n",
                "                       how=\"outer\",\n",
                "                      )\n",
                "new_pre_app = pd.merge(new_pre_app,\n",
                "                       merge_down_num, \n",
                "                       on=\"SK_ID_CURR\", \n",
                "                       how=\"outer\"\n",
                "                      )\n",
                "\n",
                "# 결측값은 최빈값(1)로 설정함\n",
                "# uf.check_feature(new_pre_app, \"과거_승인액/요청액\")\n",
                "imput_mode = SimpleImputer(strategy=\"most_frequent\")\n",
                "new_pre_app[\"과거_승인액/요청액\"] = \\\n",
                "    imput_mode.fit_transform(new_pre_app[[\"과거_승인액/요청액\"]])\n",
                "\n",
                "# 결측값 확인\n",
                "uf.check_missing_value(new_pre_app)\n",
                "\n",
                "# 저장\n",
                "new_pre_app.to_csv(\"../pre_data/new_previous_application.csv\")"
            ],
            "outputs": [
                {
                    "output_type": "stream",
                    "name": "stdout",
                    "text": [
                        "결측치 없음!\n"
                    ]
                }
            ],
            "metadata": {}
        }
    ],
    "metadata": {
        "orig_nbformat": 4,
        "language_info": {
            "name": "python",
            "version": "3.9.6",
            "mimetype": "text/x-python",
            "codemirror_mode": {
                "name": "ipython",
                "version": 3
            },
            "pygments_lexer": "ipython3",
            "nbconvert_exporter": "python",
            "file_extension": ".py"
        },
        "kernelspec": {
            "name": "python3",
            "display_name": "Python 3.9.6 64-bit"
        },
        "interpreter": {
            "hash": "7812ea015bdcee6f23a998adcdd2ef97c151c0c241b7b7070987d9313e41299d"
        }
    },
    "nbformat": 4,
    "nbformat_minor": 2
}