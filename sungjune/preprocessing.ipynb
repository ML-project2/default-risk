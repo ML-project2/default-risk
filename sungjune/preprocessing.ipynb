{
    "cells": [
        {
            "cell_type": "code",
            "execution_count": 2,
            "source": [
                "\"\"\"\n",
                "# 전처리 배분\n",
                "\n",
                "1(성준) - 0~9,   40~49, 80~89, 120\n",
                "2(장호) - 10~19, 50~59, 90~99, 121\n",
                "3(두영) - 20~29, 60~69, 100~109, 122\n",
                "4(혜빈) - 30~39, 70~79, 110~119, 123\n",
                "5(준혁) - bureau.csv, bureau_balance.csv\n",
                "\"\"\"\n",
                "\n",
                "\"\"\"\n",
                "# 데이터 목록\n",
                "\n",
                "POS_CASH_balance.csv\n",
                "application_test.csv\n",
                "application_train.csv\n",
                "bureau.csv\n",
                "bureau_balance.csv\n",
                "credit_card_balance.csv\n",
                "installments_payments.csv\n",
                "previous_application.csv\n",
                "sample_submission.csv\n",
                "\"\"\""
            ],
            "outputs": [
                {
                    "output_type": "execute_result",
                    "data": {
                        "text/plain": [
                            "'\\n# 데이터 목록\\n\\nPOS_CASH_balance.csv\\napplication_test.csv\\napplication_train.csv\\nbureau.csv\\nbureau_balance.csv\\ncredit_card_balance.csv\\ninstallments_payments.csv\\nprevious_application.csv\\nsample_submission.csv\\n'"
                        ]
                    },
                    "metadata": {},
                    "execution_count": 2
                }
            ],
            "metadata": {}
        },
        {
            "cell_type": "code",
            "execution_count": 3,
            "source": [
                "import pandas as pd\n",
                "import matplotlib.pyplot as plt\n",
                "import seaborn as sns"
            ],
            "outputs": [],
            "metadata": {}
        },
        {
            "cell_type": "code",
            "execution_count": 4,
            "source": [
                "# 사용자 이름 가져오기\n",
                "import getpass\n",
                "\n",
                "# 사용자 이름 저장\n",
                "user_name = getpass.getuser()\n",
                "\n",
                "# 서버 이름이 lab10일 때 파일 위치\n",
                "if user_name == \"lab10\":\n",
                "    folder_path = \"raw_data/\"\n",
                "\n",
                "# Local에서 파일 위치\n",
                "elif user_name == \"sungjune\":\n",
                "    folder_path = \"/Users/sungjune/Downloads/raw_data/\"\n",
                "\n",
                "# 서버 이름이 나머지 일 때 파일 위치\n",
                "else:\n",
                "    folder_path = \"../lab10/raw_data/\""
            ],
            "outputs": [],
            "metadata": {}
        },
        {
            "cell_type": "code",
            "execution_count": 5,
            "source": [
                "# Load file \"application_train.csv\"\n",
                "train_datasets = pd.read_csv(folder_path+\"application_train.csv\")"
            ],
            "outputs": [],
            "metadata": {}
        },
        {
            "cell_type": "code",
            "execution_count": 6,
            "source": [
                "# info\n",
                "train_datasets.info()"
            ],
            "outputs": [
                {
                    "output_type": "stream",
                    "name": "stdout",
                    "text": [
                        "<class 'pandas.core.frame.DataFrame'>\n",
                        "RangeIndex: 307511 entries, 0 to 307510\n",
                        "Columns: 122 entries, SK_ID_CURR to AMT_REQ_CREDIT_BUREAU_YEAR\n",
                        "dtypes: float64(65), int64(41), object(16)\n",
                        "memory usage: 286.2+ MB\n"
                    ]
                }
            ],
            "metadata": {}
        },
        {
            "cell_type": "code",
            "execution_count": 8,
            "source": [
                "# 전처리 데이터\n",
                "pre_train_data = train_datasets.copy()"
            ],
            "outputs": [],
            "metadata": {}
        },
        {
            "cell_type": "markdown",
            "source": [
                "# 데이터 전처리 진행 및 특이사항\n",
                "---\n",
                "\n",
                "## \"TARGET\"\n",
                "- 연체자가 적은 편향된 데이터\n",
                "- value_counts()\n",
                "- 1=연체\n",
                "> ```python\n",
                "> 0    282686\n",
                "> 1     24825\n",
                "> ```\n",
                "\n",
                "<hr><br>\n",
                "\n",
                "## \"CODE_GENDER\"\n",
                "- 'M', 'F', 'XNA'\n",
                "- 'XNA'는 결측치라기 보다는 간성 등으로 파악됨. 따라서 그대로 놔둠\n",
                "- []숫자로 대치\n",
                "- 성별\n",
                "- value_counts()\n",
                "> ```python\n",
                "> F      202448\n",
                "> M      105059\n",
                "> XNA         4\n",
                "> ```\n",
                "\n",
                "<hr><br>\n",
                "\n",
                "## \"FLAG_OWN_CAR\", \"FLAG_OWN_REALTY\"\n",
                "- 'Y', 'N'\n",
                "- []숫자로 대치\n",
                "\n",
                "<hr><br>\n",
                "\n",
                "## \"CNT_CHILDREN\"\n",
                "- [V] 5명 이상인 값을 5 이상으로 처리\n",
                "- []숫자로 대치\n",
                "- value_counts()\n",
                "> ```python\n",
                "> 0     215371\n",
                "> 1      61119\n",
                "> 2      26749\n",
                "> 3       3717\n",
                "> 4        429\n",
                "> 5         84\n",
                "> 6         21\n",
                "> 7          7\n",
                "> 14         3\n",
                "> 8          2\n",
                "> 9          2\n",
                "> 12         2\n",
                "> 10         2\n",
                "> 19         2\n",
                "> 11         1\n",
                "> ```\n",
                "\n",
                "<hr><br>\n",
                "\n",
                "## \"AMT_INCOME_TOTAL\"\n",
                "- 117000000 값은 이상치로 판단됨. 대출액 대비 소득 수준을 볼 때 fatfinger로 판단됨\n",
                "- [V] 117000000 / 10으로 대체함\n",
                "- <span style=\"color:yellow\">TODO: 편차가 크다고 판단되나, 우선 그대로 진행함</span>\n",
                "\n",
                "\n",
                "<hr><br>\n",
                "\n",
                "## \"AMT_CREDIT\"\n",
                "- 큰 이상 없다고 판단됨\n",
                "- <span style=\"color:yellow\">TODO: 편차가 크다고 판단되나, 우선 그대로 진행함</span>\n",
                "\n",
                "<hr><br>\n",
                "\n",
                "## \"ORGANIZATION_TYPE\"\n",
                "- 무직자를 XNA로 처리함. 문제 없음\n",
                "```python\n",
                "pre_train_data.loc[pre_train_data[\"ORGANIZATION_TYPE\"] == \"XNA\", (\"NAME_INCOME_TYPE\", \"ORGANIZATION_TYPE\")].value_counts()\n",
                "```\n",
                "> ```python\n",
                "> NAME_INCOME_TYPE  ORGANIZATION_TYPE\n",
                "> Pensioner         XNA                  55352\n",
                "> Unemployed        XNA                     22\n",
                "> ```\n",
                "\n",
                "<hr><br>\n",
                "\n",
                "## \"EXT_SOURCE_1\", \"EXT_SOURCE_2\", \"EXT_SOURCE_3\"\n",
                "- 외부 자료 출처에 대한 정규화된 점수\n",
                "- [V] NAN 값이 많으나, 외부 자료에 대한 신뢰성(가중치)를 의미하므로 0으로 처리함\n",
                "\n",
                "<hr><br>\n",
                "\n",
                "## 기타 1\n",
                "#### \"APARTMENTS_AVG\" \n",
                "#### \"BASEMENTAREA_AVG\" \n",
                "#### \"YEARS_BEGINEXPLUATATION_AVG\" \n",
                "#### \"YEARS_BUILD_AVG\" \n",
                "#### \"COMMONAREA_AVG\"\n",
                "- 정규화된 자료\n",
                "- 아파트 평균, 지하 면적 평균, 개발 시작연도 평균, 건물 연령 평균, 공용 공간 평균\n",
                "- [V] NAN 값이 많으나, 해당 정보가 없는 데이터라고 판단하여 0으로 처리함\n",
                "\n",
                "<hr><br>\n",
                "\n",
                "## \"FONDKAPREMONT_MODE\"\n",
                "- 뭘 뜻하는 feature인지 알 수 없음\n",
                "- [V] 결측치를 'not specified'로 대체함.\n",
                "\n",
                "<hr><br>\n",
                "\n",
                "## \"HOUSETYPE_MODE\"\n",
                "- 결측값 154297\n",
                "- 나머지 값 분포\n",
                "```python\n",
                "block of flats      150503\n",
                "specific housing      1499\n",
                "terraced house        1212\n",
                "```\n",
                "- <span style=\"color:red\">TODO: 처리 여부 결정</span>\n",
                "\n",
                "<hr><br>\n",
                "\n",
                "## 기타 2\n",
                "#### \"FLOORSMIN_MEDI\"\n",
                "#### \"LANDAREA_MEDI\"\n",
                "#### \"LIVINGAPARTMENTS_MEDI\"\n",
                "#### \"LIVINGAREA_MEDI\"\n",
                "#### \"NONLIVINGAPARTMENTS_MEDI\"\n",
                "#### \"NONLIVINGAREA_MEDI\"\n",
                "#### \"TOTALAREA_MODE\"\n",
                "\n",
                "- [V] NAN 값이 많으나, 해당 정보가 없는 데이터라고 판단하여 0으로 처리함\n",
                "\n",
                "<hr><br>\n",
                "\n",
                "## \"AMT_REQ_CREDIT_BUREAU_QRT\"\n",
                "- 대출 신청 90일~30일 전 고객에 대한 CB 문의 건수\n",
                "- unique = [  0.  nan   1.   2.   4.   3.   8.   5.   6.   7. 261.  19.]\n",
                "- 261과 19는 다른 데이터와 비교했을 때 비정상적임. 가장 큰 값인 8로 대체함.\n"
            ],
            "metadata": {}
        },
        {
            "cell_type": "code",
            "execution_count": 9,
            "source": [
                "# 자녀가 5명 이상인 값을 5 이상으로 처리 후 숫자로 변환\n",
                "pre_train_data.loc[pre_train_data[\"CNT_CHILDREN\"] >= 5, \"CNT_CHILDREN\"] = \"5 or more\"\n",
                "\n",
                "# 이상치 117000000에서 0을 하나 제거함\n",
                "pre_train_data.loc[pre_train_data[\"AMT_INCOME_TOTAL\"] > 1e+08, \"AMT_INCOME_TOTAL\"] = pre_train_data.loc[pre_train_data[\"AMT_INCOME_TOTAL\"] > 1e+08, \"AMT_INCOME_TOTAL\"].map(lambda x: x / 10)\n",
                "\n",
                "# \"EXT_SOURCE_1\"의 결측치를 0으로 대체함\n",
                "# 외부 자료의 신뢰성을 의미하는 자료이므로 외부 자료가 없는 것을 의미한다고 판단됨\n",
                "pre_train_data[\"EXT_SOURCE_1\"].fillna(0, inplace=True)\n",
                "pre_train_data[\"EXT_SOURCE_2\"].fillna(0, inplace=True)\n",
                "pre_train_data[\"EXT_SOURCE_3\"].fillna(0, inplace=True)\n",
                "pre_train_data[\"FONDKAPREMONT_MODE\"].fillna(\"not specified\", inplace=True)\n",
                "\n",
                "# 결측치를 0으로 대체함\n",
                "zero_imputation_lists= [\"FLOORSMIN_MEDI\",\n",
                "                        \"LANDAREA_MEDI\",\n",
                "                        \"LIVINGAPARTMENTS_MEDI\",\n",
                "                        \"LIVINGAREA_MEDI\",\n",
                "                        \"NONLIVINGAPARTMENTS_MEDI\",\n",
                "                        \"NONLIVINGAREA_MEDI\",\n",
                "                        \"TOTALAREA_MODE\",\n",
                "                        \"APARTMENTS_AVG\",\n",
                "                        \"BASEMENTAREA_AVG\",\n",
                "                        \"YEARS_BEGINEXPLUATATION_AVG\",\n",
                "                        \"YEARS_BUILD_AVG\",\n",
                "                        \"COMMONAREA_AVG\"]\n",
                "for feature in zero_imputation_lists:\n",
                "    pre_train_data.loc[:, feature].fillna(0, inplace=True)\n",
                "\n",
                "# 이상치를 정상값 범위 중 가장 큰 8로 대체함\n",
                "pre_train_data[\"AMT_REQ_CREDIT_BUREAU_QRT\"].fillna(8, inplace=True)"
            ],
            "outputs": [],
            "metadata": {}
        },
        {
            "cell_type": "markdown",
            "source": [
                "# 이상치, 결측치 확인\n",
                "---"
            ],
            "metadata": {}
        },
        {
            "cell_type": "code",
            "execution_count": 10,
            "source": [
                "# # 이상치 확인 - BOXPLOT\n",
                "# sns.set_theme(style=\"whitegrid\")\n",
                "# sns.boxplot(x=pre_train_data[\"AMT_CREDIT\"])"
            ],
            "outputs": [],
            "metadata": {}
        },
        {
            "cell_type": "code",
            "execution_count": 15,
            "source": [
                "################### 입력 ###################\n",
                "feature = \"AMT_REQ_CREDIT_BUREAU_QRT\"\n",
                "###########################################\n",
                "\n",
                "print(\"=\" * 20, \"unique\", \"=\" * 20)\n",
                "print(pre_train_data[feature].unique())\n",
                "print(\"=\" * 50)\n",
                "\n",
                "print(\"=\" * 20, \"value_counts\", \"=\" * 20)\n",
                "print(pre_train_data[feature].value_counts())\n",
                "print(\"=\" * 50)\n",
                "\n",
                "print(\"=\" * 20, \"isna\", \"=\" * 20)\n",
                "print(pre_train_data[feature].isna().value_counts())\n",
                "print(\"=\" * 50)"
            ],
            "outputs": [
                {
                    "output_type": "stream",
                    "name": "stdout",
                    "text": [
                        "==================== unique ====================\n",
                        "[  0.   8.   1.   2.   4.   3.   5.   6.   7. 261.  19.]\n",
                        "==================================================\n",
                        "==================== value_counts ====================\n",
                        "0.0      215417\n",
                        "8.0       41526\n",
                        "1.0       33862\n",
                        "2.0       14412\n",
                        "3.0        1717\n",
                        "4.0         476\n",
                        "5.0          64\n",
                        "6.0          28\n",
                        "7.0           7\n",
                        "261.0         1\n",
                        "19.0          1\n",
                        "Name: AMT_REQ_CREDIT_BUREAU_QRT, dtype: int64\n",
                        "==================================================\n",
                        "==================== isna ====================\n",
                        "False    307511\n",
                        "Name: AMT_REQ_CREDIT_BUREAU_QRT, dtype: int64\n",
                        "==================================================\n"
                    ]
                }
            ],
            "metadata": {}
        },
        {
            "cell_type": "markdown",
            "source": [
                "---"
            ],
            "metadata": {}
        },
        {
            "cell_type": "code",
            "execution_count": 20,
            "source": [
                "temp = pd.read_csv(folder_path+\"bureau.csv\")"
            ],
            "outputs": [],
            "metadata": {}
        },
        {
            "cell_type": "code",
            "execution_count": 40,
            "source": [
                "pre_train_data[\"AMT_GOODS_PRICE\"].hist()"
            ],
            "outputs": [
                {
                    "output_type": "execute_result",
                    "data": {
                        "text/plain": [
                            "<AxesSubplot:>"
                        ]
                    },
                    "metadata": {},
                    "execution_count": 40
                },
                {
                    "output_type": "display_data",
                    "data": {
                        "text/plain": [
                            "<Figure size 432x288 with 1 Axes>"
                        ],
                        "image/svg+xml": "<?xml version=\"1.0\" encoding=\"utf-8\" standalone=\"no\"?>\n<!DOCTYPE svg PUBLIC \"-//W3C//DTD SVG 1.1//EN\"\n  \"http://www.w3.org/Graphics/SVG/1.1/DTD/svg11.dtd\">\n<svg height=\"261.19625pt\" version=\"1.1\" viewBox=\"0 0 394.375 261.19625\" width=\"394.375pt\" xmlns=\"http://www.w3.org/2000/svg\" xmlns:xlink=\"http://www.w3.org/1999/xlink\">\n <metadata>\n  <rdf:RDF xmlns:cc=\"http://creativecommons.org/ns#\" xmlns:dc=\"http://purl.org/dc/elements/1.1/\" xmlns:rdf=\"http://www.w3.org/1999/02/22-rdf-syntax-ns#\">\n   <cc:Work>\n    <dc:type rdf:resource=\"http://purl.org/dc/dcmitype/StillImage\"/>\n    <dc:date>2021-08-10T17:31:22.568780</dc:date>\n    <dc:format>image/svg+xml</dc:format>\n    <dc:creator>\n     <cc:Agent>\n      <dc:title>Matplotlib v3.4.2, https://matplotlib.org/</dc:title>\n     </cc:Agent>\n    </dc:creator>\n   </cc:Work>\n  </rdf:RDF>\n </metadata>\n <defs>\n  <style type=\"text/css\">*{stroke-linecap:butt;stroke-linejoin:round;}</style>\n </defs>\n <g id=\"figure_1\">\n  <g id=\"patch_1\">\n   <path d=\"M 0 261.19625 \nL 394.375 261.19625 \nL 394.375 0 \nL 0 0 \nz\n\" style=\"fill:none;\"/>\n  </g>\n  <g id=\"axes_1\">\n   <g id=\"patch_2\">\n    <path d=\"M 52.375 224.64 \nL 387.175 224.64 \nL 387.175 7.2 \nL 52.375 7.2 \nz\n\" style=\"fill:#ffffff;\"/>\n   </g>\n   <g id=\"patch_3\">\n    <path clip-path=\"url(#p68231d7bbb)\" d=\"M 67.593182 224.64 \nL 98.029545 224.64 \nL 98.029545 17.554286 \nL 67.593182 17.554286 \nz\n\" style=\"fill:#1f77b4;\"/>\n   </g>\n   <g id=\"patch_4\">\n    <path clip-path=\"url(#p68231d7bbb)\" d=\"M 98.029545 224.64 \nL 128.465909 224.64 \nL 128.465909 43.419561 \nL 98.029545 43.419561 \nz\n\" style=\"fill:#1f77b4;\"/>\n   </g>\n   <g id=\"patch_5\">\n    <path clip-path=\"url(#p68231d7bbb)\" d=\"M 128.465909 224.64 \nL 158.902273 224.64 \nL 158.902273 155.998205 \nL 128.465909 155.998205 \nz\n\" style=\"fill:#1f77b4;\"/>\n   </g>\n   <g id=\"patch_6\">\n    <path clip-path=\"url(#p68231d7bbb)\" d=\"M 158.902273 224.64 \nL 189.338636 224.64 \nL 189.338636 205.098361 \nL 158.902273 205.098361 \nz\n\" style=\"fill:#1f77b4;\"/>\n   </g>\n   <g id=\"patch_7\">\n    <path clip-path=\"url(#p68231d7bbb)\" d=\"M 189.338636 224.64 \nL 219.775 224.64 \nL 219.775 219.64807 \nL 189.338636 219.64807 \nz\n\" style=\"fill:#1f77b4;\"/>\n   </g>\n   <g id=\"patch_8\">\n    <path clip-path=\"url(#p68231d7bbb)\" d=\"M 219.775 224.64 \nL 250.211364 224.64 \nL 250.211364 223.17308 \nL 219.775 223.17308 \nz\n\" style=\"fill:#1f77b4;\"/>\n   </g>\n   <g id=\"patch_9\">\n    <path clip-path=\"url(#p68231d7bbb)\" d=\"M 250.211364 224.64 \nL 280.647727 224.64 \nL 280.647727 224.592832 \nL 250.211364 224.592832 \nz\n\" style=\"fill:#1f77b4;\"/>\n   </g>\n   <g id=\"patch_10\">\n    <path clip-path=\"url(#p68231d7bbb)\" d=\"M 280.647727 224.64 \nL 311.084091 224.64 \nL 311.084091 224.613272 \nL 280.647727 224.613272 \nz\n\" style=\"fill:#1f77b4;\"/>\n   </g>\n   <g id=\"patch_11\">\n    <path clip-path=\"url(#p68231d7bbb)\" d=\"M 311.084091 224.64 \nL 341.520455 224.64 \nL 341.520455 224.627422 \nL 311.084091 224.627422 \nz\n\" style=\"fill:#1f77b4;\"/>\n   </g>\n   <g id=\"patch_12\">\n    <path clip-path=\"url(#p68231d7bbb)\" d=\"M 341.520455 224.64 \nL 371.956818 224.64 \nL 371.956818 224.624277 \nL 341.520455 224.624277 \nz\n\" style=\"fill:#1f77b4;\"/>\n   </g>\n   <g id=\"matplotlib.axis_1\">\n    <g id=\"xtick_1\">\n     <g id=\"line2d_1\">\n      <path clip-path=\"url(#p68231d7bbb)\" d=\"M 64.518802 224.64 \nL 64.518802 7.2 \n\" style=\"fill:none;stroke:#b0b0b0;stroke-linecap:square;stroke-width:0.8;\"/>\n     </g>\n     <g id=\"line2d_2\">\n      <defs>\n       <path d=\"M 0 0 \nL 0 3.5 \n\" id=\"mc4ce876b0b\" style=\"stroke:#000000;stroke-width:0.8;\"/>\n      </defs>\n      <g>\n       <use style=\"stroke:#000000;stroke-width:0.8;\" x=\"64.518802\" xlink:href=\"#mc4ce876b0b\" y=\"224.64\"/>\n      </g>\n     </g>\n     <g id=\"text_1\">\n      <!-- 0.0 -->\n      <g transform=\"translate(56.567239 239.238437)scale(0.1 -0.1)\">\n       <defs>\n        <path d=\"M 2034 4250 \nQ 1547 4250 1301 3770 \nQ 1056 3291 1056 2328 \nQ 1056 1369 1301 889 \nQ 1547 409 2034 409 \nQ 2525 409 2770 889 \nQ 3016 1369 3016 2328 \nQ 3016 3291 2770 3770 \nQ 2525 4250 2034 4250 \nz\nM 2034 4750 \nQ 2819 4750 3233 4129 \nQ 3647 3509 3647 2328 \nQ 3647 1150 3233 529 \nQ 2819 -91 2034 -91 \nQ 1250 -91 836 529 \nQ 422 1150 422 2328 \nQ 422 3509 836 4129 \nQ 1250 4750 2034 4750 \nz\n\" id=\"DejaVuSans-30\" transform=\"scale(0.015625)\"/>\n        <path d=\"M 684 794 \nL 1344 794 \nL 1344 0 \nL 684 0 \nL 684 794 \nz\n\" id=\"DejaVuSans-2e\" transform=\"scale(0.015625)\"/>\n       </defs>\n       <use xlink:href=\"#DejaVuSans-30\"/>\n       <use x=\"63.623047\" xlink:href=\"#DejaVuSans-2e\"/>\n       <use x=\"95.410156\" xlink:href=\"#DejaVuSans-30\"/>\n      </g>\n     </g>\n    </g>\n    <g id=\"xtick_2\">\n     <g id=\"line2d_3\">\n      <path clip-path=\"url(#p68231d7bbb)\" d=\"M 102.474112 224.64 \nL 102.474112 7.2 \n\" style=\"fill:none;stroke:#b0b0b0;stroke-linecap:square;stroke-width:0.8;\"/>\n     </g>\n     <g id=\"line2d_4\">\n      <g>\n       <use style=\"stroke:#000000;stroke-width:0.8;\" x=\"102.474112\" xlink:href=\"#mc4ce876b0b\" y=\"224.64\"/>\n      </g>\n     </g>\n     <g id=\"text_2\">\n      <!-- 0.5 -->\n      <g transform=\"translate(94.52255 239.238437)scale(0.1 -0.1)\">\n       <defs>\n        <path d=\"M 691 4666 \nL 3169 4666 \nL 3169 4134 \nL 1269 4134 \nL 1269 2991 \nQ 1406 3038 1543 3061 \nQ 1681 3084 1819 3084 \nQ 2600 3084 3056 2656 \nQ 3513 2228 3513 1497 \nQ 3513 744 3044 326 \nQ 2575 -91 1722 -91 \nQ 1428 -91 1123 -41 \nQ 819 9 494 109 \nL 494 744 \nQ 775 591 1075 516 \nQ 1375 441 1709 441 \nQ 2250 441 2565 725 \nQ 2881 1009 2881 1497 \nQ 2881 1984 2565 2268 \nQ 2250 2553 1709 2553 \nQ 1456 2553 1204 2497 \nQ 953 2441 691 2322 \nL 691 4666 \nz\n\" id=\"DejaVuSans-35\" transform=\"scale(0.015625)\"/>\n       </defs>\n       <use xlink:href=\"#DejaVuSans-30\"/>\n       <use x=\"63.623047\" xlink:href=\"#DejaVuSans-2e\"/>\n       <use x=\"95.410156\" xlink:href=\"#DejaVuSans-35\"/>\n      </g>\n     </g>\n    </g>\n    <g id=\"xtick_3\">\n     <g id=\"line2d_5\">\n      <path clip-path=\"url(#p68231d7bbb)\" d=\"M 140.429423 224.64 \nL 140.429423 7.2 \n\" style=\"fill:none;stroke:#b0b0b0;stroke-linecap:square;stroke-width:0.8;\"/>\n     </g>\n     <g id=\"line2d_6\">\n      <g>\n       <use style=\"stroke:#000000;stroke-width:0.8;\" x=\"140.429423\" xlink:href=\"#mc4ce876b0b\" y=\"224.64\"/>\n      </g>\n     </g>\n     <g id=\"text_3\">\n      <!-- 1.0 -->\n      <g transform=\"translate(132.477861 239.238437)scale(0.1 -0.1)\">\n       <defs>\n        <path d=\"M 794 531 \nL 1825 531 \nL 1825 4091 \nL 703 3866 \nL 703 4441 \nL 1819 4666 \nL 2450 4666 \nL 2450 531 \nL 3481 531 \nL 3481 0 \nL 794 0 \nL 794 531 \nz\n\" id=\"DejaVuSans-31\" transform=\"scale(0.015625)\"/>\n       </defs>\n       <use xlink:href=\"#DejaVuSans-31\"/>\n       <use x=\"63.623047\" xlink:href=\"#DejaVuSans-2e\"/>\n       <use x=\"95.410156\" xlink:href=\"#DejaVuSans-30\"/>\n      </g>\n     </g>\n    </g>\n    <g id=\"xtick_4\">\n     <g id=\"line2d_7\">\n      <path clip-path=\"url(#p68231d7bbb)\" d=\"M 178.384734 224.64 \nL 178.384734 7.2 \n\" style=\"fill:none;stroke:#b0b0b0;stroke-linecap:square;stroke-width:0.8;\"/>\n     </g>\n     <g id=\"line2d_8\">\n      <g>\n       <use style=\"stroke:#000000;stroke-width:0.8;\" x=\"178.384734\" xlink:href=\"#mc4ce876b0b\" y=\"224.64\"/>\n      </g>\n     </g>\n     <g id=\"text_4\">\n      <!-- 1.5 -->\n      <g transform=\"translate(170.433171 239.238437)scale(0.1 -0.1)\">\n       <use xlink:href=\"#DejaVuSans-31\"/>\n       <use x=\"63.623047\" xlink:href=\"#DejaVuSans-2e\"/>\n       <use x=\"95.410156\" xlink:href=\"#DejaVuSans-35\"/>\n      </g>\n     </g>\n    </g>\n    <g id=\"xtick_5\">\n     <g id=\"line2d_9\">\n      <path clip-path=\"url(#p68231d7bbb)\" d=\"M 216.340044 224.64 \nL 216.340044 7.2 \n\" style=\"fill:none;stroke:#b0b0b0;stroke-linecap:square;stroke-width:0.8;\"/>\n     </g>\n     <g id=\"line2d_10\">\n      <g>\n       <use style=\"stroke:#000000;stroke-width:0.8;\" x=\"216.340044\" xlink:href=\"#mc4ce876b0b\" y=\"224.64\"/>\n      </g>\n     </g>\n     <g id=\"text_5\">\n      <!-- 2.0 -->\n      <g transform=\"translate(208.388482 239.238437)scale(0.1 -0.1)\">\n       <defs>\n        <path d=\"M 1228 531 \nL 3431 531 \nL 3431 0 \nL 469 0 \nL 469 531 \nQ 828 903 1448 1529 \nQ 2069 2156 2228 2338 \nQ 2531 2678 2651 2914 \nQ 2772 3150 2772 3378 \nQ 2772 3750 2511 3984 \nQ 2250 4219 1831 4219 \nQ 1534 4219 1204 4116 \nQ 875 4013 500 3803 \nL 500 4441 \nQ 881 4594 1212 4672 \nQ 1544 4750 1819 4750 \nQ 2544 4750 2975 4387 \nQ 3406 4025 3406 3419 \nQ 3406 3131 3298 2873 \nQ 3191 2616 2906 2266 \nQ 2828 2175 2409 1742 \nQ 1991 1309 1228 531 \nz\n\" id=\"DejaVuSans-32\" transform=\"scale(0.015625)\"/>\n       </defs>\n       <use xlink:href=\"#DejaVuSans-32\"/>\n       <use x=\"63.623047\" xlink:href=\"#DejaVuSans-2e\"/>\n       <use x=\"95.410156\" xlink:href=\"#DejaVuSans-30\"/>\n      </g>\n     </g>\n    </g>\n    <g id=\"xtick_6\">\n     <g id=\"line2d_11\">\n      <path clip-path=\"url(#p68231d7bbb)\" d=\"M 254.295355 224.64 \nL 254.295355 7.2 \n\" style=\"fill:none;stroke:#b0b0b0;stroke-linecap:square;stroke-width:0.8;\"/>\n     </g>\n     <g id=\"line2d_12\">\n      <g>\n       <use style=\"stroke:#000000;stroke-width:0.8;\" x=\"254.295355\" xlink:href=\"#mc4ce876b0b\" y=\"224.64\"/>\n      </g>\n     </g>\n     <g id=\"text_6\">\n      <!-- 2.5 -->\n      <g transform=\"translate(246.343793 239.238437)scale(0.1 -0.1)\">\n       <use xlink:href=\"#DejaVuSans-32\"/>\n       <use x=\"63.623047\" xlink:href=\"#DejaVuSans-2e\"/>\n       <use x=\"95.410156\" xlink:href=\"#DejaVuSans-35\"/>\n      </g>\n     </g>\n    </g>\n    <g id=\"xtick_7\">\n     <g id=\"line2d_13\">\n      <path clip-path=\"url(#p68231d7bbb)\" d=\"M 292.250666 224.64 \nL 292.250666 7.2 \n\" style=\"fill:none;stroke:#b0b0b0;stroke-linecap:square;stroke-width:0.8;\"/>\n     </g>\n     <g id=\"line2d_14\">\n      <g>\n       <use style=\"stroke:#000000;stroke-width:0.8;\" x=\"292.250666\" xlink:href=\"#mc4ce876b0b\" y=\"224.64\"/>\n      </g>\n     </g>\n     <g id=\"text_7\">\n      <!-- 3.0 -->\n      <g transform=\"translate(284.299103 239.238437)scale(0.1 -0.1)\">\n       <defs>\n        <path d=\"M 2597 2516 \nQ 3050 2419 3304 2112 \nQ 3559 1806 3559 1356 \nQ 3559 666 3084 287 \nQ 2609 -91 1734 -91 \nQ 1441 -91 1130 -33 \nQ 819 25 488 141 \nL 488 750 \nQ 750 597 1062 519 \nQ 1375 441 1716 441 \nQ 2309 441 2620 675 \nQ 2931 909 2931 1356 \nQ 2931 1769 2642 2001 \nQ 2353 2234 1838 2234 \nL 1294 2234 \nL 1294 2753 \nL 1863 2753 \nQ 2328 2753 2575 2939 \nQ 2822 3125 2822 3475 \nQ 2822 3834 2567 4026 \nQ 2313 4219 1838 4219 \nQ 1578 4219 1281 4162 \nQ 984 4106 628 3988 \nL 628 4550 \nQ 988 4650 1302 4700 \nQ 1616 4750 1894 4750 \nQ 2613 4750 3031 4423 \nQ 3450 4097 3450 3541 \nQ 3450 3153 3228 2886 \nQ 3006 2619 2597 2516 \nz\n\" id=\"DejaVuSans-33\" transform=\"scale(0.015625)\"/>\n       </defs>\n       <use xlink:href=\"#DejaVuSans-33\"/>\n       <use x=\"63.623047\" xlink:href=\"#DejaVuSans-2e\"/>\n       <use x=\"95.410156\" xlink:href=\"#DejaVuSans-30\"/>\n      </g>\n     </g>\n    </g>\n    <g id=\"xtick_8\">\n     <g id=\"line2d_15\">\n      <path clip-path=\"url(#p68231d7bbb)\" d=\"M 330.205976 224.64 \nL 330.205976 7.2 \n\" style=\"fill:none;stroke:#b0b0b0;stroke-linecap:square;stroke-width:0.8;\"/>\n     </g>\n     <g id=\"line2d_16\">\n      <g>\n       <use style=\"stroke:#000000;stroke-width:0.8;\" x=\"330.205976\" xlink:href=\"#mc4ce876b0b\" y=\"224.64\"/>\n      </g>\n     </g>\n     <g id=\"text_8\">\n      <!-- 3.5 -->\n      <g transform=\"translate(322.254414 239.238437)scale(0.1 -0.1)\">\n       <use xlink:href=\"#DejaVuSans-33\"/>\n       <use x=\"63.623047\" xlink:href=\"#DejaVuSans-2e\"/>\n       <use x=\"95.410156\" xlink:href=\"#DejaVuSans-35\"/>\n      </g>\n     </g>\n    </g>\n    <g id=\"xtick_9\">\n     <g id=\"line2d_17\">\n      <path clip-path=\"url(#p68231d7bbb)\" d=\"M 368.161287 224.64 \nL 368.161287 7.2 \n\" style=\"fill:none;stroke:#b0b0b0;stroke-linecap:square;stroke-width:0.8;\"/>\n     </g>\n     <g id=\"line2d_18\">\n      <g>\n       <use style=\"stroke:#000000;stroke-width:0.8;\" x=\"368.161287\" xlink:href=\"#mc4ce876b0b\" y=\"224.64\"/>\n      </g>\n     </g>\n     <g id=\"text_9\">\n      <!-- 4.0 -->\n      <g transform=\"translate(360.209725 239.238437)scale(0.1 -0.1)\">\n       <defs>\n        <path d=\"M 2419 4116 \nL 825 1625 \nL 2419 1625 \nL 2419 4116 \nz\nM 2253 4666 \nL 3047 4666 \nL 3047 1625 \nL 3713 1625 \nL 3713 1100 \nL 3047 1100 \nL 3047 0 \nL 2419 0 \nL 2419 1100 \nL 313 1100 \nL 313 1709 \nL 2253 4666 \nz\n\" id=\"DejaVuSans-34\" transform=\"scale(0.015625)\"/>\n       </defs>\n       <use xlink:href=\"#DejaVuSans-34\"/>\n       <use x=\"63.623047\" xlink:href=\"#DejaVuSans-2e\"/>\n       <use x=\"95.410156\" xlink:href=\"#DejaVuSans-30\"/>\n      </g>\n     </g>\n    </g>\n    <g id=\"text_10\">\n     <!-- 1e6 -->\n     <g transform=\"translate(368.296875 251.916562)scale(0.1 -0.1)\">\n      <defs>\n       <path d=\"M 3597 1894 \nL 3597 1613 \nL 953 1613 \nQ 991 1019 1311 708 \nQ 1631 397 2203 397 \nQ 2534 397 2845 478 \nQ 3156 559 3463 722 \nL 3463 178 \nQ 3153 47 2828 -22 \nQ 2503 -91 2169 -91 \nQ 1331 -91 842 396 \nQ 353 884 353 1716 \nQ 353 2575 817 3079 \nQ 1281 3584 2069 3584 \nQ 2775 3584 3186 3129 \nQ 3597 2675 3597 1894 \nz\nM 3022 2063 \nQ 3016 2534 2758 2815 \nQ 2500 3097 2075 3097 \nQ 1594 3097 1305 2825 \nQ 1016 2553 972 2059 \nL 3022 2063 \nz\n\" id=\"DejaVuSans-65\" transform=\"scale(0.015625)\"/>\n       <path d=\"M 2113 2584 \nQ 1688 2584 1439 2293 \nQ 1191 2003 1191 1497 \nQ 1191 994 1439 701 \nQ 1688 409 2113 409 \nQ 2538 409 2786 701 \nQ 3034 994 3034 1497 \nQ 3034 2003 2786 2293 \nQ 2538 2584 2113 2584 \nz\nM 3366 4563 \nL 3366 3988 \nQ 3128 4100 2886 4159 \nQ 2644 4219 2406 4219 \nQ 1781 4219 1451 3797 \nQ 1122 3375 1075 2522 \nQ 1259 2794 1537 2939 \nQ 1816 3084 2150 3084 \nQ 2853 3084 3261 2657 \nQ 3669 2231 3669 1497 \nQ 3669 778 3244 343 \nQ 2819 -91 2113 -91 \nQ 1303 -91 875 529 \nQ 447 1150 447 2328 \nQ 447 3434 972 4092 \nQ 1497 4750 2381 4750 \nQ 2619 4750 2861 4703 \nQ 3103 4656 3366 4563 \nz\n\" id=\"DejaVuSans-36\" transform=\"scale(0.015625)\"/>\n      </defs>\n      <use xlink:href=\"#DejaVuSans-31\"/>\n      <use x=\"63.623047\" xlink:href=\"#DejaVuSans-65\"/>\n      <use x=\"125.146484\" xlink:href=\"#DejaVuSans-36\"/>\n     </g>\n    </g>\n   </g>\n   <g id=\"matplotlib.axis_2\">\n    <g id=\"ytick_1\">\n     <g id=\"line2d_19\">\n      <path clip-path=\"url(#p68231d7bbb)\" d=\"M 52.375 224.64 \nL 387.175 224.64 \n\" style=\"fill:none;stroke:#b0b0b0;stroke-linecap:square;stroke-width:0.8;\"/>\n     </g>\n     <g id=\"line2d_20\">\n      <defs>\n       <path d=\"M 0 0 \nL -3.5 0 \n\" id=\"m80e7628fb0\" style=\"stroke:#000000;stroke-width:0.8;\"/>\n      </defs>\n      <g>\n       <use style=\"stroke:#000000;stroke-width:0.8;\" x=\"52.375\" xlink:href=\"#m80e7628fb0\" y=\"224.64\"/>\n      </g>\n     </g>\n     <g id=\"text_11\">\n      <!-- 0 -->\n      <g transform=\"translate(39.0125 228.439219)scale(0.1 -0.1)\">\n       <use xlink:href=\"#DejaVuSans-30\"/>\n      </g>\n     </g>\n    </g>\n    <g id=\"ytick_2\">\n     <g id=\"line2d_21\">\n      <path clip-path=\"url(#p68231d7bbb)\" d=\"M 52.375 193.194769 \nL 387.175 193.194769 \n\" style=\"fill:none;stroke:#b0b0b0;stroke-linecap:square;stroke-width:0.8;\"/>\n     </g>\n     <g id=\"line2d_22\">\n      <g>\n       <use style=\"stroke:#000000;stroke-width:0.8;\" x=\"52.375\" xlink:href=\"#m80e7628fb0\" y=\"193.194769\"/>\n      </g>\n     </g>\n     <g id=\"text_12\">\n      <!-- 20000 -->\n      <g transform=\"translate(13.5625 196.993988)scale(0.1 -0.1)\">\n       <use xlink:href=\"#DejaVuSans-32\"/>\n       <use x=\"63.623047\" xlink:href=\"#DejaVuSans-30\"/>\n       <use x=\"127.246094\" xlink:href=\"#DejaVuSans-30\"/>\n       <use x=\"190.869141\" xlink:href=\"#DejaVuSans-30\"/>\n       <use x=\"254.492188\" xlink:href=\"#DejaVuSans-30\"/>\n      </g>\n     </g>\n    </g>\n    <g id=\"ytick_3\">\n     <g id=\"line2d_23\">\n      <path clip-path=\"url(#p68231d7bbb)\" d=\"M 52.375 161.749538 \nL 387.175 161.749538 \n\" style=\"fill:none;stroke:#b0b0b0;stroke-linecap:square;stroke-width:0.8;\"/>\n     </g>\n     <g id=\"line2d_24\">\n      <g>\n       <use style=\"stroke:#000000;stroke-width:0.8;\" x=\"52.375\" xlink:href=\"#m80e7628fb0\" y=\"161.749538\"/>\n      </g>\n     </g>\n     <g id=\"text_13\">\n      <!-- 40000 -->\n      <g transform=\"translate(13.5625 165.548756)scale(0.1 -0.1)\">\n       <use xlink:href=\"#DejaVuSans-34\"/>\n       <use x=\"63.623047\" xlink:href=\"#DejaVuSans-30\"/>\n       <use x=\"127.246094\" xlink:href=\"#DejaVuSans-30\"/>\n       <use x=\"190.869141\" xlink:href=\"#DejaVuSans-30\"/>\n       <use x=\"254.492188\" xlink:href=\"#DejaVuSans-30\"/>\n      </g>\n     </g>\n    </g>\n    <g id=\"ytick_4\">\n     <g id=\"line2d_25\">\n      <path clip-path=\"url(#p68231d7bbb)\" d=\"M 52.375 130.304307 \nL 387.175 130.304307 \n\" style=\"fill:none;stroke:#b0b0b0;stroke-linecap:square;stroke-width:0.8;\"/>\n     </g>\n     <g id=\"line2d_26\">\n      <g>\n       <use style=\"stroke:#000000;stroke-width:0.8;\" x=\"52.375\" xlink:href=\"#m80e7628fb0\" y=\"130.304307\"/>\n      </g>\n     </g>\n     <g id=\"text_14\">\n      <!-- 60000 -->\n      <g transform=\"translate(13.5625 134.103525)scale(0.1 -0.1)\">\n       <use xlink:href=\"#DejaVuSans-36\"/>\n       <use x=\"63.623047\" xlink:href=\"#DejaVuSans-30\"/>\n       <use x=\"127.246094\" xlink:href=\"#DejaVuSans-30\"/>\n       <use x=\"190.869141\" xlink:href=\"#DejaVuSans-30\"/>\n       <use x=\"254.492188\" xlink:href=\"#DejaVuSans-30\"/>\n      </g>\n     </g>\n    </g>\n    <g id=\"ytick_5\">\n     <g id=\"line2d_27\">\n      <path clip-path=\"url(#p68231d7bbb)\" d=\"M 52.375 98.859075 \nL 387.175 98.859075 \n\" style=\"fill:none;stroke:#b0b0b0;stroke-linecap:square;stroke-width:0.8;\"/>\n     </g>\n     <g id=\"line2d_28\">\n      <g>\n       <use style=\"stroke:#000000;stroke-width:0.8;\" x=\"52.375\" xlink:href=\"#m80e7628fb0\" y=\"98.859075\"/>\n      </g>\n     </g>\n     <g id=\"text_15\">\n      <!-- 80000 -->\n      <g transform=\"translate(13.5625 102.658294)scale(0.1 -0.1)\">\n       <defs>\n        <path d=\"M 2034 2216 \nQ 1584 2216 1326 1975 \nQ 1069 1734 1069 1313 \nQ 1069 891 1326 650 \nQ 1584 409 2034 409 \nQ 2484 409 2743 651 \nQ 3003 894 3003 1313 \nQ 3003 1734 2745 1975 \nQ 2488 2216 2034 2216 \nz\nM 1403 2484 \nQ 997 2584 770 2862 \nQ 544 3141 544 3541 \nQ 544 4100 942 4425 \nQ 1341 4750 2034 4750 \nQ 2731 4750 3128 4425 \nQ 3525 4100 3525 3541 \nQ 3525 3141 3298 2862 \nQ 3072 2584 2669 2484 \nQ 3125 2378 3379 2068 \nQ 3634 1759 3634 1313 \nQ 3634 634 3220 271 \nQ 2806 -91 2034 -91 \nQ 1263 -91 848 271 \nQ 434 634 434 1313 \nQ 434 1759 690 2068 \nQ 947 2378 1403 2484 \nz\nM 1172 3481 \nQ 1172 3119 1398 2916 \nQ 1625 2713 2034 2713 \nQ 2441 2713 2670 2916 \nQ 2900 3119 2900 3481 \nQ 2900 3844 2670 4047 \nQ 2441 4250 2034 4250 \nQ 1625 4250 1398 4047 \nQ 1172 3844 1172 3481 \nz\n\" id=\"DejaVuSans-38\" transform=\"scale(0.015625)\"/>\n       </defs>\n       <use xlink:href=\"#DejaVuSans-38\"/>\n       <use x=\"63.623047\" xlink:href=\"#DejaVuSans-30\"/>\n       <use x=\"127.246094\" xlink:href=\"#DejaVuSans-30\"/>\n       <use x=\"190.869141\" xlink:href=\"#DejaVuSans-30\"/>\n       <use x=\"254.492188\" xlink:href=\"#DejaVuSans-30\"/>\n      </g>\n     </g>\n    </g>\n    <g id=\"ytick_6\">\n     <g id=\"line2d_29\">\n      <path clip-path=\"url(#p68231d7bbb)\" d=\"M 52.375 67.413844 \nL 387.175 67.413844 \n\" style=\"fill:none;stroke:#b0b0b0;stroke-linecap:square;stroke-width:0.8;\"/>\n     </g>\n     <g id=\"line2d_30\">\n      <g>\n       <use style=\"stroke:#000000;stroke-width:0.8;\" x=\"52.375\" xlink:href=\"#m80e7628fb0\" y=\"67.413844\"/>\n      </g>\n     </g>\n     <g id=\"text_16\">\n      <!-- 100000 -->\n      <g transform=\"translate(7.2 71.213063)scale(0.1 -0.1)\">\n       <use xlink:href=\"#DejaVuSans-31\"/>\n       <use x=\"63.623047\" xlink:href=\"#DejaVuSans-30\"/>\n       <use x=\"127.246094\" xlink:href=\"#DejaVuSans-30\"/>\n       <use x=\"190.869141\" xlink:href=\"#DejaVuSans-30\"/>\n       <use x=\"254.492188\" xlink:href=\"#DejaVuSans-30\"/>\n       <use x=\"318.115234\" xlink:href=\"#DejaVuSans-30\"/>\n      </g>\n     </g>\n    </g>\n    <g id=\"ytick_7\">\n     <g id=\"line2d_31\">\n      <path clip-path=\"url(#p68231d7bbb)\" d=\"M 52.375 35.968613 \nL 387.175 35.968613 \n\" style=\"fill:none;stroke:#b0b0b0;stroke-linecap:square;stroke-width:0.8;\"/>\n     </g>\n     <g id=\"line2d_32\">\n      <g>\n       <use style=\"stroke:#000000;stroke-width:0.8;\" x=\"52.375\" xlink:href=\"#m80e7628fb0\" y=\"35.968613\"/>\n      </g>\n     </g>\n     <g id=\"text_17\">\n      <!-- 120000 -->\n      <g transform=\"translate(7.2 39.767832)scale(0.1 -0.1)\">\n       <use xlink:href=\"#DejaVuSans-31\"/>\n       <use x=\"63.623047\" xlink:href=\"#DejaVuSans-32\"/>\n       <use x=\"127.246094\" xlink:href=\"#DejaVuSans-30\"/>\n       <use x=\"190.869141\" xlink:href=\"#DejaVuSans-30\"/>\n       <use x=\"254.492188\" xlink:href=\"#DejaVuSans-30\"/>\n       <use x=\"318.115234\" xlink:href=\"#DejaVuSans-30\"/>\n      </g>\n     </g>\n    </g>\n   </g>\n   <g id=\"patch_13\">\n    <path d=\"M 52.375 224.64 \nL 52.375 7.2 \n\" style=\"fill:none;stroke:#000000;stroke-linecap:square;stroke-linejoin:miter;stroke-width:0.8;\"/>\n   </g>\n   <g id=\"patch_14\">\n    <path d=\"M 387.175 224.64 \nL 387.175 7.2 \n\" style=\"fill:none;stroke:#000000;stroke-linecap:square;stroke-linejoin:miter;stroke-width:0.8;\"/>\n   </g>\n   <g id=\"patch_15\">\n    <path d=\"M 52.375 224.64 \nL 387.175 224.64 \n\" style=\"fill:none;stroke:#000000;stroke-linecap:square;stroke-linejoin:miter;stroke-width:0.8;\"/>\n   </g>\n   <g id=\"patch_16\">\n    <path d=\"M 52.375 7.2 \nL 387.175 7.2 \n\" style=\"fill:none;stroke:#000000;stroke-linecap:square;stroke-linejoin:miter;stroke-width:0.8;\"/>\n   </g>\n  </g>\n </g>\n <defs>\n  <clipPath id=\"p68231d7bbb\">\n   <rect height=\"217.44\" width=\"334.8\" x=\"52.375\" y=\"7.2\"/>\n  </clipPath>\n </defs>\n</svg>\n",
                        "image/png": "[encoded data removed]"
                    },
                    "metadata": {
                        "needs_background": "light"
                    }
                }
            ],
            "metadata": {}
        }
    ],
    "metadata": {
        "orig_nbformat": 4,
        "language_info": {
            "name": "python",
            "version": "3.9.6",
            "mimetype": "text/x-python",
            "codemirror_mode": {
                "name": "ipython",
                "version": 3
            },
            "pygments_lexer": "ipython3",
            "nbconvert_exporter": "python",
            "file_extension": ".py"
        },
        "kernelspec": {
            "name": "python3",
            "display_name": "Python 3.9.6 64-bit"
        },
        "interpreter": {
            "hash": "7812ea015bdcee6f23a998adcdd2ef97c151c0c241b7b7070987d9313e41299d"
        }
    },
    "nbformat": 4,
    "nbformat_minor": 2
}