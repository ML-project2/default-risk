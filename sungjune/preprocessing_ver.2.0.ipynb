{
    "cells": [
        {
            "cell_type": "code",
            "execution_count": 1,
            "source": [
                "\"\"\"\n",
                "# 전처리 배분\n",
                "\n",
                "1(성준) - 0~9,   40~49, 80~89, 120, \n",
                "       - credit_card_balance.csv\n",
                "       - POS_CASH_balance.csv\n",
                "       - previous_application.csv\n",
                "       - installments_payments.csv\n",
                "2(장호) - 10~19, 50~59, 90~99, 121\n",
                "3(두영) - 20~29, 60~69, 100~109, 122, \n",
                "       - bureau.csv,\n",
                "4(혜빈) - 30~39, 70~79, 110~119, 123, \n",
                "       - bureau_balance.csv\n",
                "5(준혁) -  \n",
                "\"\"\"\n",
                "\n",
                "\"\"\"\n",
                "# 데이터 목록\n",
                "application_test.csv\n",
                "application_train.csv\n",
                "credit_card_balance.csv\n",
                "POS_CASH_balance.csv\n",
                "previous_application.csv\n",
                "installments_payments.csv\n",
                "bureau.csv\n",
                "bureau_balance.csv\n",
                "sample_submission.csv\n",
                "\"\"\""
            ],
            "outputs": [
                {
                    "output_type": "execute_result",
                    "data": {
                        "text/plain": [
                            "'\\n# 데이터 목록\\napplication_test.csv\\napplication_train.csv\\nPOS_CASH_balance.csv\\nbureau.csv\\nbureau_balance.csv\\ncredit_card_balance.csv\\ninstallments_payments.csv\\nprevious_application.csv\\nsample_submission.csv\\n'"
                        ]
                    },
                    "metadata": {},
                    "execution_count": 1
                }
            ],
            "metadata": {}
        },
        {
            "cell_type": "code",
            "execution_count": 1,
            "source": [
                "import pandas as pd\n",
                "import matplotlib.pyplot as plt\n",
                "import seaborn as sns\n",
                "from sklearn.preprocessing import MinMaxScaler, RobustScaler, StandardScaler\n",
                "from sklearn.preprocessing import LabelEncoder, OrdinalEncoder\n",
                "from sklearn.impute import SimpleImputer\n",
                "import user_functions as uf\n",
                "\n",
                "# 한글 출력되게 설정\n",
                "uf.korean()"
            ],
            "outputs": [],
            "metadata": {}
        },
        {
            "cell_type": "code",
            "execution_count": 8,
            "source": [
                "def korean():\n",
                "    import platform\n",
                "    # 운영체제별 한글 폰트 설정\n",
                "    if platform.system() == 'Darwin': # Mac 환경 폰트 설정\n",
                "        plt.rc('font', family='AppleGothic')\n",
                "    elif platform.system() == 'Windows': # Windows 환경 폰트 설정\n",
                "        plt.rc('font', family='Malgun Gothic')\n",
                "\n",
                "    plt.rc('axes', unicode_minus=False) # 마이너스 폰트 설정\n",
                "\n",
                "    # 글씨 선명하게 출력하는 설정\n",
                "    %config InlineBackend.figure_format = 'retina'\n",
                "\n",
                "korean()"
            ],
            "outputs": [],
            "metadata": {}
        },
        {
            "cell_type": "code",
            "execution_count": 3,
            "source": [
                "# Load file\n",
                "train_datasets = pd.read_csv(uf.get_f_path()+\"application_train.csv\")\n",
                "test_datasets = pd.read_csv(uf.get_f_path()+\"application_test.csv\")\n",
                "\n",
                "# Label 만들기\n",
                "train_target_ds = train_datasets[\"TARGET\"]\n",
                "\n",
                "# TARGET feature 삭제\n",
                "train_datasets.drop(columns=\"TARGET\", inplace=True)"
            ],
            "outputs": [
                {
                    "output_type": "error",
                    "ename": "NameError",
                    "evalue": "name 'uf' is not defined",
                    "traceback": [
                        "\u001b[0;31m---------------------------------------------------------------------------\u001b[0m",
                        "\u001b[0;31mNameError\u001b[0m                                 Traceback (most recent call last)",
                        "\u001b[0;32m<ipython-input-3-397a4deda724>\u001b[0m in \u001b[0;36m<module>\u001b[0;34m\u001b[0m\n\u001b[1;32m      1\u001b[0m \u001b[0;31m# Load file\u001b[0m\u001b[0;34m\u001b[0m\u001b[0;34m\u001b[0m\u001b[0;34m\u001b[0m\u001b[0m\n\u001b[0;32m----> 2\u001b[0;31m \u001b[0mtrain_datasets\u001b[0m \u001b[0;34m=\u001b[0m \u001b[0mpd\u001b[0m\u001b[0;34m.\u001b[0m\u001b[0mread_csv\u001b[0m\u001b[0;34m(\u001b[0m\u001b[0muf\u001b[0m\u001b[0;34m.\u001b[0m\u001b[0mget_f_path\u001b[0m\u001b[0;34m(\u001b[0m\u001b[0;34m)\u001b[0m\u001b[0;34m+\u001b[0m\u001b[0;34m\"application_train.csv\"\u001b[0m\u001b[0;34m)\u001b[0m\u001b[0;34m\u001b[0m\u001b[0;34m\u001b[0m\u001b[0m\n\u001b[0m\u001b[1;32m      3\u001b[0m \u001b[0mtest_datasets\u001b[0m \u001b[0;34m=\u001b[0m \u001b[0mpd\u001b[0m\u001b[0;34m.\u001b[0m\u001b[0mread_csv\u001b[0m\u001b[0;34m(\u001b[0m\u001b[0muf\u001b[0m\u001b[0;34m.\u001b[0m\u001b[0mget_f_path\u001b[0m\u001b[0;34m(\u001b[0m\u001b[0;34m)\u001b[0m\u001b[0;34m+\u001b[0m\u001b[0;34m\"application_test.csv\"\u001b[0m\u001b[0;34m)\u001b[0m\u001b[0;34m\u001b[0m\u001b[0;34m\u001b[0m\u001b[0m\n\u001b[1;32m      4\u001b[0m \u001b[0;34m\u001b[0m\u001b[0m\n\u001b[1;32m      5\u001b[0m \u001b[0;31m# Label 만들기\u001b[0m\u001b[0;34m\u001b[0m\u001b[0;34m\u001b[0m\u001b[0;34m\u001b[0m\u001b[0m\n",
                        "\u001b[0;31mNameError\u001b[0m: name 'uf' is not defined"
                    ]
                }
            ],
            "metadata": {}
        },
        {
            "cell_type": "code",
            "execution_count": 4,
            "source": [
                "# info\n",
                "print(train_datasets.info())\n",
                "print(test_datasets.info())\n",
                "\n",
                "# train은 307,511 행\n",
                "# test는   48,744 행\n",
                "# -----------------\n",
                "# 총      356,255 행"
            ],
            "outputs": [
                {
                    "output_type": "stream",
                    "name": "stdout",
                    "text": [
                        "<class 'pandas.core.frame.DataFrame'>\n",
                        "RangeIndex: 307511 entries, 0 to 307510\n",
                        "Columns: 121 entries, SK_ID_CURR to AMT_REQ_CREDIT_BUREAU_YEAR\n",
                        "dtypes: float64(65), int64(40), object(16)\n",
                        "memory usage: 283.9+ MB\n",
                        "None\n",
                        "<class 'pandas.core.frame.DataFrame'>\n",
                        "RangeIndex: 48744 entries, 0 to 48743\n",
                        "Columns: 121 entries, SK_ID_CURR to AMT_REQ_CREDIT_BUREAU_YEAR\n",
                        "dtypes: float64(65), int64(40), object(16)\n",
                        "memory usage: 45.0+ MB\n",
                        "None\n"
                    ]
                }
            ],
            "metadata": {}
        },
        {
            "cell_type": "code",
            "execution_count": 18,
            "source": [
                "test_datasets.columns"
            ],
            "outputs": [
                {
                    "output_type": "execute_result",
                    "data": {
                        "text/plain": [
                            "Index(['SK_ID_CURR', 'NAME_CONTRACT_TYPE', 'CODE_GENDER', 'FLAG_OWN_CAR',\n",
                            "       'FLAG_OWN_REALTY', 'CNT_CHILDREN', 'AMT_INCOME_TOTAL', 'AMT_CREDIT',\n",
                            "       'AMT_ANNUITY', 'AMT_GOODS_PRICE',\n",
                            "       ...\n",
                            "       'FLAG_DOCUMENT_19', 'FLAG_DOCUMENT_20', 'FLAG_DOCUMENT_21',\n",
                            "       'AMT_REQ_CREDIT_BUREAU_HOUR', 'AMT_REQ_CREDIT_BUREAU_DAY',\n",
                            "       'AMT_REQ_CREDIT_BUREAU_WEEK', 'AMT_REQ_CREDIT_BUREAU_MON',\n",
                            "       'AMT_REQ_CREDIT_BUREAU_QRT', 'AMT_REQ_CREDIT_BUREAU_YEAR',\n",
                            "       'train/test'],\n",
                            "      dtype='object', length=122)"
                        ]
                    },
                    "metadata": {},
                    "execution_count": 18
                }
            ],
            "metadata": {}
        },
        {
            "cell_type": "code",
            "execution_count": 5,
            "source": [
                "# train datasets과 test datasets을 구분하는 \"train/test\" feature 생성\n",
                "train_datasets[\"train/test\"] = \"train\"\n",
                "test_datasets[\"train/test\"] = \"test\"\n",
                "\n",
                "# 합치기\n",
                "train_test_datasets = pd.concat([train_datasets, test_datasets], ignore_index=True)\n",
                "\n",
                "# 356,255 행인지 확인\n",
                "train_test_datasets.info()\n",
                "\n",
                "# index 재설정\n",
                "# print(train_datasets.index)\n",
                "# print(test_datasets.index)\n",
                "train_test_datasets.reset_index(drop=True, inplace=True)\n",
                "# print(train_test_datasets.index)"
            ],
            "outputs": [
                {
                    "output_type": "stream",
                    "name": "stdout",
                    "text": [
                        "<class 'pandas.core.frame.DataFrame'>\n",
                        "RangeIndex: 356255 entries, 0 to 356254\n",
                        "Columns: 122 entries, SK_ID_CURR to train/test\n",
                        "dtypes: float64(65), int64(40), object(17)\n",
                        "memory usage: 331.6+ MB\n"
                    ]
                }
            ],
            "metadata": {}
        },
        {
            "cell_type": "code",
            "execution_count": 6,
            "source": [
                "# 전처리 데이터\n",
                "prepro_ds = train_test_datasets.copy()"
            ],
            "outputs": [],
            "metadata": {}
        },
        {
            "cell_type": "markdown",
            "source": [
                "# 데이터 전처리 진행 및 특이사항\n",
                "---\n",
                "\n",
                "## \"TARGET\"\n",
                "- 연체자가 적은 편향된 데이터\n",
                "- value_counts()\n",
                "- 1=연체\n",
                "> ```python\n",
                "> 0    282686\n",
                "> 1     24825\n",
                "> ```\n",
                "\n",
                "<hr><br>\n",
                "\n",
                "## \"CODE_GENDER\"\n",
                "- 'M', 'F', 'XNA'\n",
                "- 'XNA'는 결측치라기 보다는 간성 등으로 파악됨. 따라서 그대로 놔둠\n",
                "- []숫자로 대치\n",
                "- 성별\n",
                "- value_counts()\n",
                "> ```python\n",
                "> F      202448\n",
                "> M      105059\n",
                "> XNA         4\n",
                "> ```\n",
                "\n",
                "<hr><br>\n",
                "\n",
                "## \"FLAG_OWN_CAR\", \"FLAG_OWN_REALTY\"\n",
                "- 'Y', 'N'\n",
                "- []숫자로 대치\n",
                "\n",
                "<hr><br>\n",
                "\n",
                "## \"CNT_CHILDREN\"\n",
                "- [V] 5명 이상인 값을 5 이상으로 처리\n",
                "- []숫자로 대치\n",
                "- value_counts()\n",
                "> ```python\n",
                "> 0     215371\n",
                "> 1      61119\n",
                "> 2      26749\n",
                "> 3       3717\n",
                "> 4        429\n",
                "> 5         84\n",
                "> 6         21\n",
                "> 7          7\n",
                "> 14         3\n",
                "> 8          2\n",
                "> 9          2\n",
                "> 12         2\n",
                "> 10         2\n",
                "> 19         2\n",
                "> 11         1\n",
                "> ```\n",
                "\n",
                "<hr><br>\n",
                "\n",
                "## \"AMT_INCOME_TOTAL\"\n",
                "- 117000000 값은 이상치로 판단됨. 대출액 대비 소득 수준을 볼 때 fatfinger로 판단됨\n",
                "- [V] 117000000 / 10으로 대체함\n",
                "- <span style=\"color:yellow\">TODO: 편차가 크다고 판단되나, 우선 그대로 진행함</span>\n",
                "\n",
                "\n",
                "<hr><br>\n",
                "\n",
                "## \"AMT_CREDIT\"\n",
                "- 큰 이상 없다고 판단됨\n",
                "- <span style=\"color:yellow\">TODO: 편차가 크다고 판단되나, 우선 그대로 진행함</span>\n",
                "\n",
                "<hr><br>\n",
                "\n",
                "## \"AMT_ANNUITY\", \"AMT_GOODS_PRICE\"\n",
                "- 결측치를 대출금액을 기준으로 가장 유사한 값으로 대체함\n",
                "- [V] 결측치 값을 `imput_other_f_mean` 함수를 활용해 대체함\n",
                "\n",
                "<hr><br>\n",
                "\n",
                "## \"ORGANIZATION_TYPE\"\n",
                "- 무직자를 XNA로 처리함. 문제 없음\n",
                "```python\n",
                "prepro_ds.loc[prepro_ds[\"ORGANIZATION_TYPE\"] == \"XNA\", (\"NAME_INCOME_TYPE\", \"ORGANIZATION_TYPE\")].value_counts()\n",
                "```\n",
                "> ```python\n",
                "> NAME_INCOME_TYPE  ORGANIZATION_TYPE\n",
                "> Pensioner         XNA                  55352\n",
                "> Unemployed        XNA                     22\n",
                "> ```\n",
                "\n",
                "<hr><br>\n",
                "\n",
                "## \"EXT_SOURCE_1\", \"EXT_SOURCE_2\", \"EXT_SOURCE_3\"\n",
                "- 외부 자료 출처에 대한 정규화된 점수\n",
                "- [V] NAN 값이 많으나, 외부 자료에 대한 신뢰성(가중치)를 의미하므로 0으로 처리함\n",
                "\n",
                "<hr><br>\n",
                "\n",
                "## 기타 1\n",
                "#### \"APARTMENTS_AVG\" \n",
                "#### \"BASEMENTAREA_AVG\" \n",
                "#### \"YEARS_BEGINEXPLUATATION_AVG\" \n",
                "#### \"YEARS_BUILD_AVG\" \n",
                "#### \"COMMONAREA_AVG\"\n",
                "#### \"ELEVATORS_AVG\"\n",
                "- 정규화된 자료\n",
                "- 아파트 평균, 지하 면적 평균, 개발 시작연도 평균, 건물 연령 평균, 공용 공간 평균, 엘리베이터 수 평균\n",
                "- [V] NAN 값이 많으나, 해당 정보가 없는 데이터라고 판단하여 0으로 처리함\n",
                "\n",
                "## \"ENTRANCES_AVG\"\n",
                "- 정규화된 자료\n",
                "- 출입구 수의 평균을 의미함\n",
                "- 0도 361개 존재함\n",
                "- 결측값이 상당히 많음 178,407\n",
                "- [V] <span style=\"color:yellow\">중앙값으로 대체함</span>\n",
                "\n",
                "<hr><br>\n",
                "\n",
                "## \"FONDKAPREMONT_MODE\"\n",
                "- 뭘 뜻하는 feature인지 알 수 없음\n",
                "- [V] 결측치를 'not specified'로 대체함.\n",
                "\n",
                "<hr><br>\n",
                "\n",
                "## \"HOUSETYPE_MODE\"\n",
                "- 결측값 154297\n",
                "- [V] HOUSE에 거주하지 않는다고 판단하고 XNA로 처리함\n",
                "- 나머지 값 분포\n",
                "```python\n",
                "block of flats      150503\n",
                "specific housing      1499\n",
                "terraced house        1212\n",
                "```\n",
                "<!-- - <span style=\"color:red\">TODO: 처리 여부 결정</span> -->\n",
                "\n",
                "<hr><br>\n",
                "\n",
                "## 기타 2\n",
                "#### \"FLOORSMIN_MEDI\"\n",
                "#### \"LANDAREA_MEDI\"\n",
                "#### \"LIVINGAPARTMENTS_MEDI\"\n",
                "#### \"LIVINGAREA_MEDI\"\n",
                "#### \"NONLIVINGAPARTMENTS_MEDI\"\n",
                "#### \"NONLIVINGAREA_MEDI\"\n",
                "#### \"TOTALAREA_MODE\"\n",
                "\n",
                "- [V] NAN 값이 많으나, 해당 정보가 없는 데이터라고 판단하여 0으로 처리함\n",
                "\n",
                "<hr><br>\n",
                "\n",
                "## \"WALLSMATERIAL_MODE\"\n",
                "\n",
                "- na 180234개로 상당히 많음.\n",
                "- 따로 구분하기 어렵다고 판단하여 others로 처리함\n",
                "```python\n",
                "Panel           77309\n",
                "Stone, brick    75249\n",
                "Block           10681\n",
                "Wooden           6156\n",
                "Mixed            2649\n",
                "Monolithic       2068\n",
                "Others           1909\n",
                "```\n",
                "\n",
                "<hr><br>\n",
                "\n",
                "## \"AMT_REQ_CREDIT_BUREAU_QRT\"\n",
                "- 대출 신청 90일~30일 전 고객에 대한 CB 문의 건수\n",
                "- unique = [  0.  nan   1.   2.   4.   3.   8.   5.   6.   7. 261.  19.]\n",
                "- 261과 19는 다른 데이터와 비교했을 때 비정상적임. 가장 큰 값인 8로 대체함.\n"
            ],
            "metadata": {}
        },
        {
            "cell_type": "code",
            "execution_count": 7,
            "source": [
                "# 자녀가 5명 이상인 값을 5 이상으로 처리 후 숫자로 변환\n",
                "prepro_ds.loc[prepro_ds[\"CNT_CHILDREN\"] >= 5, \"CNT_CHILDREN\"] = \"5 or more\"\n",
                "\n",
                "# 이상치 117000000에서 0을 하나 제거함\n",
                "prepro_ds.loc[prepro_ds[\"AMT_INCOME_TOTAL\"] > 1e+08, \"AMT_INCOME_TOTAL\"] = prepro_ds.loc[prepro_ds[\"AMT_INCOME_TOTAL\"] > 1e+08, \"AMT_INCOME_TOTAL\"].map(lambda x: x / 10)\n",
                "\n",
                "# \"AMT_ANNUITY\"를 \"AMT_CREDIT\"기준으로 가장 유사한 값을 통해 대체함\n",
                "prepro_ds[\"AMT_ANNUITY\"] = \\\n",
                "    uf.imput_other_f_mean(prepro_ds, \"AMT_ANNUITY\", \"AMT_CREDIT\")\n",
                "\n",
                "# \"AMT_GOODS_PRICE\"를 \"AMT_CREDIT\"기준으로 가장 유사한 값을 통해 대체함\n",
                "prepro_ds[\"AMT_GOODS_PRICE\"] = \\\n",
                "    uf.imput_other_f_mean(prepro_ds, \"AMT_GOODS_PRICE\", \"AMT_CREDIT\")\n",
                "\n",
                "\n",
                "# \"EXT_SOURCE_1\"의 결측치를 0으로 대체함\n",
                "# 외부 자료의 신뢰성을 의미하는 자료이므로 외부 자료가 없는 것을 의미한다고 판단됨\n",
                "prepro_ds[\"EXT_SOURCE_1\"].fillna(0, inplace=True)\n",
                "prepro_ds[\"EXT_SOURCE_2\"].fillna(0, inplace=True)\n",
                "prepro_ds[\"EXT_SOURCE_3\"].fillna(0, inplace=True)\n",
                "prepro_ds[\"FONDKAPREMONT_MODE\"].fillna(\"not specified\", inplace=True)\n",
                "\n",
                "# 결측치를 0으로 대체함\n",
                "zero_imputation_lists= [\"FLOORSMIN_MEDI\",\n",
                "                        \"LANDAREA_MEDI\",\n",
                "                        \"LIVINGAPARTMENTS_MEDI\",\n",
                "                        \"LIVINGAREA_MEDI\",\n",
                "                        \"NONLIVINGAPARTMENTS_MEDI\",\n",
                "                        \"NONLIVINGAREA_MEDI\",\n",
                "                        \"TOTALAREA_MODE\",\n",
                "                        \"APARTMENTS_AVG\",\n",
                "                        \"BASEMENTAREA_AVG\",\n",
                "                        \"YEARS_BEGINEXPLUATATION_AVG\",\n",
                "                        \"YEARS_BUILD_AVG\",\n",
                "                        \"COMMONAREA_AVG\",\n",
                "                        \"ELEVATORS_AVG\"]\n",
                "for feature in zero_imputation_lists:\n",
                "    prepro_ds.loc[:, feature].fillna(0, inplace=True)\n",
                "\n",
                "# 중앙값으로 대체함\n",
                "imput_mean = SimpleImputer(strategy=\"median\")\n",
                "prepro_ds[\"ENTRANCES_AVG\"] = imput_mean.fit_transform(prepro_ds[[\"ENTRANCES_AVG\"]])\n",
                "\n",
                "# \"WALLSMATERIAL_MODE\" \"Others\"로 대체\n",
                "prepro_ds[\"WALLSMATERIAL_MODE\"].fillna(\"Others\", inplace=True)\n",
                "\n",
                "# 이상치를 정상값 범위 중 가장 큰 8로 대체함\n",
                "prepro_ds[\"AMT_REQ_CREDIT_BUREAU_QRT\"].fillna(8, inplace=True)\n",
                "\n",
                "# \"HOUSETYPE_MODE\" 결측치 \"XNA\"로 대체 ∵ HOUSE외 주거 시설에 거주한다고 판단.\n",
                "prepro_ds[\"HOUSETYPE_MODE\"].fillna(\"XNA\", inplace=True)\n"
            ],
            "outputs": [],
            "metadata": {}
        },
        {
            "cell_type": "code",
            "execution_count": 10,
            "source": [
                "uf.check_missing_value(prepro_ds)"
            ],
            "outputs": [
                {
                    "output_type": "stream",
                    "name": "stdout",
                    "text": [
                        " 10        NAME_TYPE_SUITE              2,203\n",
                        " 20          OWN_CAR_AGE              235,241\n",
                        " 27        OCCUPATION_TYPE            111,996\n",
                        " 28        CNT_FAM_MEMBERS                  2\n",
                        " 50         FLOORSMAX_AVG             176,341\n",
                        " 51         FLOORSMIN_AVG             241,108\n",
                        " 52         LANDAREA_AVG              210,844\n",
                        " 53     LIVINGAPARTMENTS_AVG          242,979\n",
                        " 54        LIVINGAREA_AVG             177,902\n",
                        " 55    NONLIVINGAPARTMENTS_AVG        246,861\n",
                        " 56       NONLIVINGAREA_AVG           195,766\n",
                        " 57        APARTMENTS_MODE            179,948\n",
                        " 58       BASEMENTAREA_MODE           207,584\n",
                        " 59 YEARS_BEGINEXPLUATATION_MODE      172,863\n",
                        " 60       YEARS_BUILD_MODE            236,306\n",
                        " 61        COMMONAREA_MODE            248,360\n",
                        " 62        ELEVATORS_MODE             189,080\n",
                        " 63        ENTRANCES_MODE             178,407\n",
                        " 64        FLOORSMAX_MODE             176,341\n",
                        " 65        FLOORSMIN_MODE             241,108\n",
                        " 66         LANDAREA_MODE             210,844\n",
                        " 67     LIVINGAPARTMENTS_MODE         242,979\n",
                        " 68        LIVINGAREA_MODE            177,902\n",
                        " 69   NONLIVINGAPARTMENTS_MODE        246,861\n",
                        " 70      NONLIVINGAREA_MODE           195,766\n",
                        " 71        APARTMENTS_MEDI            179,948\n",
                        " 72       BASEMENTAREA_MEDI           207,584\n",
                        " 73 YEARS_BEGINEXPLUATATION_MEDI      172,863\n",
                        " 74       YEARS_BUILD_MEDI            236,306\n",
                        " 75        COMMONAREA_MEDI            248,360\n",
                        " 76        ELEVATORS_MEDI             189,080\n",
                        " 77        ENTRANCES_MEDI             178,407\n",
                        " 78        FLOORSMAX_MEDI             176,341\n",
                        " 89      EMERGENCYSTATE_MODE          167,964\n",
                        " 90   OBS_30_CNT_SOCIAL_CIRCLE          1,050\n",
                        " 91   DEF_30_CNT_SOCIAL_CIRCLE          1,050\n",
                        " 92   OBS_60_CNT_SOCIAL_CIRCLE          1,050\n",
                        " 93   DEF_60_CNT_SOCIAL_CIRCLE          1,050\n",
                        " 94    DAYS_LAST_PHONE_CHANGE               1\n",
                        "115  AMT_REQ_CREDIT_BUREAU_HOUR        47,568\n",
                        "116   AMT_REQ_CREDIT_BUREAU_DAY        47,568\n",
                        "117  AMT_REQ_CREDIT_BUREAU_WEEK        47,568\n",
                        "118   AMT_REQ_CREDIT_BUREAU_MON        47,568\n",
                        "120  AMT_REQ_CREDIT_BUREAU_YEAR        47,568\n"
                    ]
                }
            ],
            "metadata": {}
        },
        {
            "cell_type": "markdown",
            "source": [
                "---\n",
                "---"
            ],
            "metadata": {}
        },
        {
            "cell_type": "markdown",
            "source": [
                "# credit_card_balance.csv\n",
                "---"
            ],
            "metadata": {}
        },
        {
            "cell_type": "code",
            "execution_count": 11,
            "source": [
                "# load datasets\n",
                "credit_card_ds = pd.read_csv(uf.get_f_path()+\"credit_card_balance.csv\")"
            ],
            "outputs": [],
            "metadata": {}
        },
        {
            "cell_type": "code",
            "execution_count": 12,
            "source": [
                "credit_card_ds.info()"
            ],
            "outputs": [
                {
                    "output_type": "stream",
                    "name": "stdout",
                    "text": [
                        "<class 'pandas.core.frame.DataFrame'>\n",
                        "RangeIndex: 3840312 entries, 0 to 3840311\n",
                        "Data columns (total 23 columns):\n",
                        " #   Column                      Dtype  \n",
                        "---  ------                      -----  \n",
                        " 0   SK_ID_PREV                  int64  \n",
                        " 1   SK_ID_CURR                  int64  \n",
                        " 2   MONTHS_BALANCE              int64  \n",
                        " 3   AMT_BALANCE                 float64\n",
                        " 4   AMT_CREDIT_LIMIT_ACTUAL     int64  \n",
                        " 5   AMT_DRAWINGS_ATM_CURRENT    float64\n",
                        " 6   AMT_DRAWINGS_CURRENT        float64\n",
                        " 7   AMT_DRAWINGS_OTHER_CURRENT  float64\n",
                        " 8   AMT_DRAWINGS_POS_CURRENT    float64\n",
                        " 9   AMT_INST_MIN_REGULARITY     float64\n",
                        " 10  AMT_PAYMENT_CURRENT         float64\n",
                        " 11  AMT_PAYMENT_TOTAL_CURRENT   float64\n",
                        " 12  AMT_RECEIVABLE_PRINCIPAL    float64\n",
                        " 13  AMT_RECIVABLE               float64\n",
                        " 14  AMT_TOTAL_RECEIVABLE        float64\n",
                        " 15  CNT_DRAWINGS_ATM_CURRENT    float64\n",
                        " 16  CNT_DRAWINGS_CURRENT        int64  \n",
                        " 17  CNT_DRAWINGS_OTHER_CURRENT  float64\n",
                        " 18  CNT_DRAWINGS_POS_CURRENT    float64\n",
                        " 19  CNT_INSTALMENT_MATURE_CUM   float64\n",
                        " 20  NAME_CONTRACT_STATUS        object \n",
                        " 21  SK_DPD                      int64  \n",
                        " 22  SK_DPD_DEF                  int64  \n",
                        "dtypes: float64(15), int64(7), object(1)\n",
                        "memory usage: 673.9+ MB\n"
                    ]
                }
            ],
            "metadata": {}
        },
        {
            "cell_type": "markdown",
            "source": [
                "## 1. 정규화\n",
                "\n",
                "\n",
                "## 2. 결측치 to 0\n",
                "```python\n",
                "[\"AMT_DRAWINGS_ATM_CURRENT\",\n",
                "\"AMT_DRAWINGS_OTHER_CURRENT\"\n",
                "\"AMT_DRAWINGS_POS_CURRENT\",\n",
                "\"AMT_INST_MIN_REGULARITY\",\n",
                "\"AMT_PAYMENT_CURRENT\",\n",
                "\"CNT_DRAWINGS_ATM_CURRENT\",\n",
                "\"CNT_DRAWINGS_OTHER_CURRENT\"\n",
                "\"CNT_DRAWINGS_POS_CURRENT\",\n",
                "\"CNT_INSTALMENT_MATURE_CUM\",]\n",
                "```"
            ],
            "metadata": {}
        },
        {
            "cell_type": "code",
            "execution_count": 13,
            "source": [
                "# \"MONTHS_BALANCE\" = 대출 신청일 - 신용카드 잔액 갱신일\n",
                "# 정규화 필요함\n",
                "# uf.check_feature(credit_card_ds, \"MONTHS_BALANCE\")\n",
                "\n",
                "# \"AMT_BALANCE\" = 총 신용카드 결제 예정금액\n",
                "# 정규화 필요\n",
                "# uf.check_feature(credit_card_ds, \"AMT_BALANCE\")\n",
                "\n",
                "# \"AMT_CREDIT_LIMIT_ACTUAL\" = 신용카드 한도\n",
                "# uf.check_feature(credit_card_ds, \"AMT_CREDIT_LIMIT_ACTUAL\")\n",
                "\n",
                "# \"AMT_DRAWINGS_CURRENT\" = 인출액\n",
                "# uf.check_feature(credit_card_ds, \"AMT_DRAWINGS_CURRENT\")\n",
                "\n",
                "# \"AMT_PAYMENT_TOTAL_CURRENT\" = 신용카드 총 사용액\n",
                "# uf.check_feature(credit_card_ds, \"AMT_PAYMENT_TOTAL_CURRENT\")\n",
                "\n",
                "# \"AMT_RECEIVABLE_PRINCIPAL\" = 미수(원)금\n",
                "# uf.check_feature(credit_card_ds, \"AMT_RECEIVABLE_PRINCIPAL\")\n",
                "\n",
                "# \"AMT_RECIVABLE\" = 미수금\n",
                "# uf.check_feature(credit_card_ds, \"AMT_RECIVABLE\")\n",
                "\n",
                "# \"AMT_TOTAL_RECEIVABLE\" = 미수금 총액\n",
                "# uf.check_feature(credit_card_ds, \"AMT_TOTAL_RECEIVABLE\")\n",
                "\n",
                "# \"CNT_DRAWINGS_CURRENT\" = 인출 횟수\n",
                "# uf.check_feature(credit_card_ds, \"CNT_DRAWINGS_CURRENT\")\n",
                "#####################################################################\n",
                "                            # 결측치 0으로 처리함\n",
                "#####################################################################\n",
                "# \"AMT_DRAWINGS_ATM_CURRENT\" = ATM 인출액\n",
                "# uf.check_feature(credit_card_ds, \"AMT_DRAWINGS_ATM_CURRENT\")\n",
                "\n",
                "# \"AMT_DRAWINGS_OTHER_CURRENT\" = 기타 인출액\n",
                "# uf.check_feature(credit_card_ds, \"AMT_DRAWINGS_OTHER_CURRENT\")\n",
                "\n",
                "# \"AMT_DRAWINGS_POS_CURRENT\" = 인출 또는 구매 금액\n",
                "# uf.check_feature(credit_card_ds, \"AMT_DRAWINGS_POS_CURRENT\")\n",
                "\n",
                "# \"AMT_INST_MIN_REGULARITY\" = 최소 할부금\n",
                "# uf.check_feature(credit_card_ds, \"AMT_INST_MIN_REGULARITY\")\n",
                "\n",
                "# \"AMT_PAYMENT_CURRENT\" = 신용카드 사용액\n",
                "# uf.check_feature(credit_card_ds, \"AMT_PAYMENT_CURRENT\")\n",
                "# \"CNT_DRAWINGS_ATM_CURRENT\" = ATM 인출 횟수\n",
                "# uf.check_feature(credit_card_ds, \"CNT_DRAWINGS_ATM_CURRENT\")\n",
                "\n",
                "# \"CNT_DRAWINGS_OTHER_CURRENT\" = 기타 인출 횟수\n",
                "# uf.check_feature(credit_card_ds, \"CNT_DRAWINGS_OTHER_CURRENT\")\n",
                "\n",
                "# \"CNT_DRAWINGS_POS_CURRENT\" = 제품 구매를 위한 인출 횟수\n",
                "# uf.check_feature(credit_card_ds, \"CNT_DRAWINGS_POS_CURRENT\")\n",
                "\n",
                "# \"CNT_INSTALMENT_MATURE_CUM\" = 할부금 지불 횟수\n",
                "# uf.check_feature(credit_card_ds, \"CNT_INSTALMENT_MATURE_CUM\")\n",
                "#####################################################################\n",
                "zero_imputation_lists2 = [\"AMT_DRAWINGS_ATM_CURRENT\",\n",
                "                          \"AMT_DRAWINGS_OTHER_CURRENT\",\n",
                "                          \"AMT_DRAWINGS_POS_CURRENT\",\n",
                "                          \"AMT_INST_MIN_REGULARITY\",\n",
                "                          \"AMT_PAYMENT_CURRENT\",\n",
                "                          \"CNT_DRAWINGS_ATM_CURRENT\",\n",
                "                          \"CNT_DRAWINGS_OTHER_CURRENT\",\n",
                "                          \"CNT_DRAWINGS_POS_CURRENT\",\n",
                "                          \"CNT_INSTALMENT_MATURE_CUM\",\n",
                "                         ]\n",
                "\n",
                "for feature in zero_imputation_lists2:\n",
                "    credit_card_ds.loc[:, feature].fillna(0, inplace=True)\n",
                "\n",
                "#####################################################################\n",
                "\n",
                "\n",
                "# \"NAME_CONTRACT_STATUS\" = 계약 상태\n",
                "# uf.check_feature(credit_card_ds, \"NAME_CONTRACT_STATUS\")\n",
                "\n",
                "# \"SK_DPD\" = 연체 경과일\n",
                "# uf.check_feature(credit_card_ds, \"SK_DPD\")\n",
                "\n",
                "# \"SK_DPD_DEF\" = 연체 경과일(소액 연체 제외)\n",
                "# uf.check_feature(credit_card_ds, \"SK_DPD_DEF\")"
            ],
            "outputs": [],
            "metadata": {}
        },
        {
            "cell_type": "code",
            "execution_count": 15,
            "source": [
                "# # LabelEncoder() 적용\n",
                "# confirmed_c_card = uf.scaling_and_encoding(credit_card_ds.iloc[:, 2:], scaling=False, encoding=True)"
            ],
            "outputs": [],
            "metadata": {}
        },
        {
            "cell_type": "markdown",
            "source": [
                "## \"POS_CASH_balance.csv\"\n",
                "---"
            ],
            "metadata": {}
        },
        {
            "cell_type": "code",
            "execution_count": 157,
            "source": [
                "pos_cash = pd.read_csv(uf.get_f_path()+\"POS_CASH_balance.csv\")"
            ],
            "outputs": [],
            "metadata": {}
        },
        {
            "cell_type": "code",
            "execution_count": 158,
            "source": [
                "pos_cash.info()"
            ],
            "outputs": [
                {
                    "output_type": "stream",
                    "name": "stdout",
                    "text": [
                        "<class 'pandas.core.frame.DataFrame'>\n",
                        "RangeIndex: 10001358 entries, 0 to 10001357\n",
                        "Data columns (total 8 columns):\n",
                        " #   Column                 Dtype  \n",
                        "---  ------                 -----  \n",
                        " 0   SK_ID_PREV             int64  \n",
                        " 1   SK_ID_CURR             int64  \n",
                        " 2   MONTHS_BALANCE         int64  \n",
                        " 3   CNT_INSTALMENT         float64\n",
                        " 4   CNT_INSTALMENT_FUTURE  float64\n",
                        " 5   NAME_CONTRACT_STATUS   object \n",
                        " 6   SK_DPD                 int64  \n",
                        " 7   SK_DPD_DEF             int64  \n",
                        "dtypes: float64(2), int64(5), object(1)\n",
                        "memory usage: 610.4+ MB\n"
                    ]
                }
            ],
            "metadata": {}
        },
        {
            "cell_type": "code",
            "execution_count": 229,
            "source": [
                "# # \"MONTHS_BALANCE\" # 잔액 갱신일\n",
                "# # 큰 문제 없음\n",
                "# # uf.check_feature(pos_cash, \"MONTHS_BALANCE\")\n",
                "# # uf.box_plot(pos_cash, \"MONTHS_BALANCE\")\n",
                "\n",
                "# # \"CNT_INSTALMENT\" 할부 기간\n",
                "# # 0 처리\n",
                "# # uf.check_feature(pos_cash, \"CNT_INSTALMENT\")\n",
                "# # uf.box_plot(pos_cash, \"CNT_INSTALMENT\")\n",
                "# pos_cash[\"CNT_INSTALMENT\"].fillna(0, inplace=True)\n",
                "\n",
                "# # \"CNT_INSTALMENT_FUTURE\" 잔여 할부 기간\n",
                "# # 0 처리\n",
                "# # uf.check_feature(pos_cash, \"CNT_INSTALMENT_FUTURE\")\n",
                "# # uf.box_plot(pos_cash, \"CNT_INSTALMENT_FUTURE\")\n",
                "# pos_cash[\"CNT_INSTALMENT_FUTURE\"].fillna(0, inplace=True)\n",
                "\n",
                "# # \"NAME_CONTRACT_STATUS\" \n",
                "# # \"XNA\" 항목 잔여 할부기간이 남아있으므로 Active로 대체\n",
                "# # uf.check_feature(pos_cash, \"NAME_CONTRACT_STATUS\")\n",
                "# pos_cash.loc[pos_cash[\"NAME_CONTRACT_STATUS\"] == \"XNA\", \"NAME_CONTRACT_STATUS\"] = \"Active\""
            ],
            "outputs": [],
            "metadata": {}
        },
        {
            "cell_type": "code",
            "execution_count": 226,
            "source": [
                "# SK_DPD(연체 경과일) - SK_DPD_DEF(연체 경과일(소액 연체 제외)) = 소액 연체 경과일\n",
                "pos_cash[\"소액연체_경과일\"] = pos_cash[\"SK_DPD\"] - pos_cash[\"SK_DPD_DEF\"]\n",
                "\n",
                "# 연체 관련 지표만 따로 추출함\n",
                "temp_df = pos_cash[[\"SK_ID_CURR\", \"SK_DPD\", \"SK_DPD_DEF\", \"소액연체_경과일\"]]\n",
                "\n",
                "# 동일인의 총 연체일수를 더함\n",
                "temp_merge = temp_df.groupby([\"SK_ID_CURR\"]).sum()\n",
                "temp_merge.reset_index(inplace=True)\n",
                "\n",
                "# 소액연체 비율\n",
                "temp_merge[\"소액연체_비율\"] = temp_merge[\"소액연체_경과일\"] / temp_merge[\"SK_DPD\"]\n",
                "# 소액연체 비율이 결측값이면 0으로 대체함. 왜냐하면 연체 한 적이 없기 때문에 결측임\n",
                "temp_merge[\"소액연체_비율\"].fillna(0, inplace=True)\n",
                "\n",
                "# index = SK_ID_CURR\n",
                "temp_merge.set_index(\"SK_ID_CURR\", inplace=True)\n",
                "\n",
                "# 소액연체비율이랑 전체 연체 경과일만 가져옴\n",
                "temp_merge.drop(columns=[\"소액연체_경과일\", \"SK_DPD_DEF\"], inplace=True)\n",
                "\n",
                "# 저장\n",
                "temp_merge.to_csv(\"../pre_data/new_POS_CASH_balance.csv\")"
            ],
            "outputs": [],
            "metadata": {}
        },
        {
            "cell_type": "markdown",
            "source": [
                "---"
            ],
            "metadata": {}
        },
        {
            "cell_type": "markdown",
            "source": [
                "## previous_application.csv\n",
                "---\n",
                "\n",
                "- <span style=\"color:red\">ID 값 중복 존재함</span>"
            ],
            "metadata": {}
        },
        {
            "cell_type": "code",
            "execution_count": 2,
            "source": [
                "prev_app = pd.read_csv(uf.get_f_path()+\"previous_application.csv\")"
            ],
            "outputs": [],
            "metadata": {}
        },
        {
            "cell_type": "code",
            "execution_count": 3,
            "source": [
                "prev_app.info()"
            ],
            "outputs": [
                {
                    "output_type": "stream",
                    "name": "stdout",
                    "text": [
                        "<class 'pandas.core.frame.DataFrame'>\n",
                        "RangeIndex: 1670214 entries, 0 to 1670213\n",
                        "Data columns (total 37 columns):\n",
                        " #   Column                       Non-Null Count    Dtype  \n",
                        "---  ------                       --------------    -----  \n",
                        " 0   SK_ID_PREV                   1670214 non-null  int64  \n",
                        " 1   SK_ID_CURR                   1670214 non-null  int64  \n",
                        " 2   NAME_CONTRACT_TYPE           1670214 non-null  object \n",
                        " 3   AMT_ANNUITY                  1297979 non-null  float64\n",
                        " 4   AMT_APPLICATION              1670214 non-null  float64\n",
                        " 5   AMT_CREDIT                   1670213 non-null  float64\n",
                        " 6   AMT_DOWN_PAYMENT             774370 non-null   float64\n",
                        " 7   AMT_GOODS_PRICE              1284699 non-null  float64\n",
                        " 8   WEEKDAY_APPR_PROCESS_START   1670214 non-null  object \n",
                        " 9   HOUR_APPR_PROCESS_START      1670214 non-null  int64  \n",
                        " 10  FLAG_LAST_APPL_PER_CONTRACT  1670214 non-null  object \n",
                        " 11  NFLAG_LAST_APPL_IN_DAY       1670214 non-null  int64  \n",
                        " 12  RATE_DOWN_PAYMENT            774370 non-null   float64\n",
                        " 13  RATE_INTEREST_PRIMARY        5951 non-null     float64\n",
                        " 14  RATE_INTEREST_PRIVILEGED     5951 non-null     float64\n",
                        " 15  NAME_CASH_LOAN_PURPOSE       1670214 non-null  object \n",
                        " 16  NAME_CONTRACT_STATUS         1670214 non-null  object \n",
                        " 17  DAYS_DECISION                1670214 non-null  int64  \n",
                        " 18  NAME_PAYMENT_TYPE            1670214 non-null  object \n",
                        " 19  CODE_REJECT_REASON           1670214 non-null  object \n",
                        " 20  NAME_TYPE_SUITE              849809 non-null   object \n",
                        " 21  NAME_CLIENT_TYPE             1670214 non-null  object \n",
                        " 22  NAME_GOODS_CATEGORY          1670214 non-null  object \n",
                        " 23  NAME_PORTFOLIO               1670214 non-null  object \n",
                        " 24  NAME_PRODUCT_TYPE            1670214 non-null  object \n",
                        " 25  CHANNEL_TYPE                 1670214 non-null  object \n",
                        " 26  SELLERPLACE_AREA             1670214 non-null  int64  \n",
                        " 27  NAME_SELLER_INDUSTRY         1670214 non-null  object \n",
                        " 28  CNT_PAYMENT                  1297984 non-null  float64\n",
                        " 29  NAME_YIELD_GROUP             1670214 non-null  object \n",
                        " 30  PRODUCT_COMBINATION          1669868 non-null  object \n",
                        " 31  DAYS_FIRST_DRAWING           997149 non-null   float64\n",
                        " 32  DAYS_FIRST_DUE               997149 non-null   float64\n",
                        " 33  DAYS_LAST_DUE_1ST_VERSION    997149 non-null   float64\n",
                        " 34  DAYS_LAST_DUE                997149 non-null   float64\n",
                        " 35  DAYS_TERMINATION             997149 non-null   float64\n",
                        " 36  NFLAG_INSURED_ON_APPROVAL    997149 non-null   float64\n",
                        "dtypes: float64(15), int64(6), object(16)\n",
                        "memory usage: 471.5+ MB\n"
                    ]
                }
            ],
            "metadata": {}
        },
        {
            "cell_type": "code",
            "execution_count": 4,
            "source": [
                "# \"RATE_DOWN_PAYMENT\" 부채 감액 비율\n",
                "## 음수 값 0으로 대치\n",
                "prev_app.loc[prev_app[\"RATE_DOWN_PAYMENT\"] < 0, \"RATE_DOWN_PAYMENT\"] = 0 \n",
                "\n",
                "## 결측치 0으로 대체\n",
                "prev_app[\"RATE_DOWN_PAYMENT\"].fillna(0, inplace=True)\n",
                "\n",
                "## 감액율 중 최대값을 활용해서 새로운 DF 생성\n",
                "merge_down_rate = prev_app[[\"SK_ID_CURR\", \"RATE_DOWN_PAYMENT\"]].groupby(\"SK_ID_CURR\").max()\n",
                "\n",
                "# \"AMT_DOWN_PAYMENT\" 부채 감액 총액\n",
                "## 결측치 0으로 대체\n",
                "prev_app[\"AMT_DOWN_PAYMENT\"].fillna(0, inplace=True)\n",
                "## 감액총액을 새로운 DF로 생성\n",
                "merge_down_amt = prev_app[[\"SK_ID_CURR\", \"AMT_DOWN_PAYMENT\"]].groupby(\"SK_ID_CURR\").sum()\n",
                "\n",
                "# 연체 횟수 피처 생성\n",
                "## 부채감액 비율 또는 부채 감액 총액이 0보다 크면 연체라고 판단함\n",
                "temp = ((prev_app[\"RATE_DOWN_PAYMENT\"] > 0) \\\n",
                "        | (prev_app[\"AMT_DOWN_PAYMENT\"] > 0)\n",
                "       )\n",
                "prev_app[\"연체_횟수\"] = temp.replace({True: 1, False: 0})\n",
                "## 연체 횟수를 더한 새로운 DF 생성\n",
                "merge_down_num = prev_app[[\"SK_ID_CURR\", \"연체_횟수\"]].groupby(\"SK_ID_CURR\").sum()"
            ],
            "outputs": [],
            "metadata": {}
        },
        {
            "cell_type": "code",
            "execution_count": 11,
            "source": [
                "# AMT_CREDIT(대출 승인 금액) 결측치 1개 0으로 대체\n",
                "prev_app.loc[prev_app[\"AMT_CREDIT\"].isna(), \"AMT_CREDIT\"] = 0\n",
                "\n",
                "# AMT_APPLICATION(대출 요청 금액) 0인 행 제외\n",
                "drop_index = prev_app.loc[prev_app[\"AMT_APPLICATION\"] == 0].index\n",
                "prev_app.drop(index=drop_index, inplace=True)\n",
                "\n",
                "# \"과거_승인액/요청액\" feature 생성\n",
                "prev_app[\"과거_승인액/요청액\"] = prev_app[\"AMT_CREDIT\"] / prev_app[\"AMT_APPLICATION\"]\n",
                "\n",
                "# 2.5 이상값은 이상치로 판단하여 모두 2.5로 제한함\n",
                "## 329개\n",
                "prev_app[prev_app[\"과거_승인액/요청액\"] > 2.5] = 2.5\n",
                "\n",
                "# groupby.mean\n",
                "## 0인 행을 모두 삭제했으므로 요청액 대비 승인액의 비율의 평균을 통해 한 개인의 대출 요청 금액에 비해 승인액 비율을 도출함\n",
                "merge_cre_app_r = prev_app[[\"SK_ID_CURR\", \"과거_승인액/요청액\"]].mean()\n",
                "\n",
                "# # # new_pre_app Dataframe 만들기\n",
                "# # new_pre_app = temp_merge[[\"과거_승인액/요청액\"]]\n",
                "\n",
                "# # # 저장\n",
                "# # new_inst_paym.to_csv(\"../pre_data/new_previous_application.csv\")"
            ],
            "outputs": [],
            "metadata": {}
        },
        {
            "cell_type": "code",
            "execution_count": 9,
            "source": [
                "uf.box_plot(prev_app, \"과거_승인액/요청액\")"
            ],
            "outputs": [
                {
                    "output_type": "stream",
                    "name": "stderr",
                    "text": [
                        "/Library/Frameworks/Python.framework/Versions/3.9/lib/python3.9/site-packages/matplotlib/backends/backend_agg.py:240: RuntimeWarning: Glyph 44284 missing from current font.\n",
                        "  font.set_text(s, 0.0, flags=flags)\n",
                        "/Library/Frameworks/Python.framework/Versions/3.9/lib/python3.9/site-packages/matplotlib/backends/backend_agg.py:240: RuntimeWarning: Glyph 44144 missing from current font.\n",
                        "  font.set_text(s, 0.0, flags=flags)\n",
                        "/Library/Frameworks/Python.framework/Versions/3.9/lib/python3.9/site-packages/matplotlib/backends/backend_agg.py:240: RuntimeWarning: Glyph 49849 missing from current font.\n",
                        "  font.set_text(s, 0.0, flags=flags)\n",
                        "/Library/Frameworks/Python.framework/Versions/3.9/lib/python3.9/site-packages/matplotlib/backends/backend_agg.py:240: RuntimeWarning: Glyph 51064 missing from current font.\n",
                        "  font.set_text(s, 0.0, flags=flags)\n",
                        "/Library/Frameworks/Python.framework/Versions/3.9/lib/python3.9/site-packages/matplotlib/backends/backend_agg.py:240: RuntimeWarning: Glyph 50529 missing from current font.\n",
                        "  font.set_text(s, 0.0, flags=flags)\n",
                        "/Library/Frameworks/Python.framework/Versions/3.9/lib/python3.9/site-packages/matplotlib/backends/backend_agg.py:240: RuntimeWarning: Glyph 50836 missing from current font.\n",
                        "  font.set_text(s, 0.0, flags=flags)\n",
                        "/Library/Frameworks/Python.framework/Versions/3.9/lib/python3.9/site-packages/matplotlib/backends/backend_agg.py:240: RuntimeWarning: Glyph 52397 missing from current font.\n",
                        "  font.set_text(s, 0.0, flags=flags)\n",
                        "/Library/Frameworks/Python.framework/Versions/3.9/lib/python3.9/site-packages/matplotlib/backends/backend_agg.py:203: RuntimeWarning: Glyph 44284 missing from current font.\n",
                        "  font.set_text(s, 0, flags=flags)\n",
                        "/Library/Frameworks/Python.framework/Versions/3.9/lib/python3.9/site-packages/matplotlib/backends/backend_agg.py:203: RuntimeWarning: Glyph 44144 missing from current font.\n",
                        "  font.set_text(s, 0, flags=flags)\n",
                        "/Library/Frameworks/Python.framework/Versions/3.9/lib/python3.9/site-packages/matplotlib/backends/backend_agg.py:203: RuntimeWarning: Glyph 49849 missing from current font.\n",
                        "  font.set_text(s, 0, flags=flags)\n",
                        "/Library/Frameworks/Python.framework/Versions/3.9/lib/python3.9/site-packages/matplotlib/backends/backend_agg.py:203: RuntimeWarning: Glyph 51064 missing from current font.\n",
                        "  font.set_text(s, 0, flags=flags)\n",
                        "/Library/Frameworks/Python.framework/Versions/3.9/lib/python3.9/site-packages/matplotlib/backends/backend_agg.py:203: RuntimeWarning: Glyph 50529 missing from current font.\n",
                        "  font.set_text(s, 0, flags=flags)\n",
                        "/Library/Frameworks/Python.framework/Versions/3.9/lib/python3.9/site-packages/matplotlib/backends/backend_agg.py:203: RuntimeWarning: Glyph 50836 missing from current font.\n",
                        "  font.set_text(s, 0, flags=flags)\n",
                        "/Library/Frameworks/Python.framework/Versions/3.9/lib/python3.9/site-packages/matplotlib/backends/backend_agg.py:203: RuntimeWarning: Glyph 52397 missing from current font.\n",
                        "  font.set_text(s, 0, flags=flags)\n"
                    ]
                },
                {
                    "output_type": "display_data",
                    "data": {
                        "text/plain": [
                            "<Figure size 1080x360 with 1 Axes>"
                        ],
                        "image/png": "[encoded data removed]"
                    },
                    "metadata": {
                        "image/png": {
                            "width": 851,
                            "height": 321
                        }
                    }
                }
            ],
            "metadata": {}
        },
        {
            "cell_type": "code",
            "execution_count": 27,
            "source": [
                "uf.check_feature(prev_app, \"AMT_CREDIT\")"
            ],
            "outputs": [
                {
                    "output_type": "stream",
                    "name": "stdout",
                    "text": [
                        "====================== describe ======================\n",
                        "count    1.277812e+06\n",
                        "mean     2.448018e+05\n",
                        "std      3.436727e+05\n",
                        "min      0.000000e+00\n",
                        "25%      5.055300e+04\n",
                        "50%      1.125000e+05\n",
                        "75%      2.695500e+05\n",
                        "max      6.905160e+06\n",
                        "Name: AMT_CREDIT, dtype: float64\n",
                        "======================================================\n",
                        "======================= unique =======================\n",
                        "[ 17145.   679671.   136444.5  ... 977724.   626796.   436370.22]\n",
                        "======================================================\n",
                        "==================== value_counts ====================\n",
                        "45000.00     32177\n",
                        "225000.00    16968\n",
                        "135000.00    12983\n",
                        "450000.00    11421\n",
                        "180000.00     9653\n",
                        "             ...  \n",
                        "337315.50        1\n",
                        "412110.00        1\n",
                        "331731.00        1\n",
                        "338301.00        1\n",
                        "436370.22        1\n",
                        "Name: AMT_CREDIT, Length: 86803, dtype: int64\n",
                        "======================================================\n",
                        "======================== isna ========================\n",
                        "False    1277812\n",
                        "Name: AMT_CREDIT, dtype: int64\n",
                        "======================================================\n"
                    ]
                }
            ],
            "metadata": {}
        },
        {
            "cell_type": "markdown",
            "source": [
                "## installments_payments.csv\n",
                "---"
            ],
            "metadata": {}
        },
        {
            "cell_type": "code",
            "execution_count": 109,
            "source": [
                "inst_paym = pd.read_csv(uf.get_f_path()+\"installments_payments.csv\")"
            ],
            "outputs": [],
            "metadata": {}
        },
        {
            "cell_type": "code",
            "execution_count": 110,
            "source": [
                "inst_paym.info()"
            ],
            "outputs": [
                {
                    "output_type": "stream",
                    "name": "stdout",
                    "text": [
                        "<class 'pandas.core.frame.DataFrame'>\n",
                        "RangeIndex: 13605401 entries, 0 to 13605400\n",
                        "Data columns (total 8 columns):\n",
                        " #   Column                  Dtype  \n",
                        "---  ------                  -----  \n",
                        " 0   SK_ID_PREV              int64  \n",
                        " 1   SK_ID_CURR              int64  \n",
                        " 2   NUM_INSTALMENT_VERSION  float64\n",
                        " 3   NUM_INSTALMENT_NUMBER   int64  \n",
                        " 4   DAYS_INSTALMENT         float64\n",
                        " 5   DAYS_ENTRY_PAYMENT      float64\n",
                        " 6   AMT_INSTALMENT          float64\n",
                        " 7   AMT_PAYMENT             float64\n",
                        "dtypes: float64(5), int64(3)\n",
                        "memory usage: 830.4 MB\n"
                    ]
                }
            ],
            "metadata": {}
        },
        {
            "cell_type": "code",
            "execution_count": 141,
            "source": [
                "# \"AMT_PAYMENT\" 실제 상환액\n",
                "# 결측값은 상환하지 않았다고 판단하여 0으로 값을 대치함\n",
                "# uf.check_feature(inst_paym, \"AMT_PAYMENT\")\n",
                "inst_paym.loc[:, \"AMT_PAYMENT\"].fillna(0, inplace=True)\n",
                "\n",
                "# \"AMT_INSTALMENT\" 할부금 총액\n",
                "# \"AMT_INSTALMENT\" 할부금 총액 0인 행 제외\n",
                "# uf.check_feature(inst_paym, \"AMT_INSTALMENT\")\n",
                "drop_index = inst_paym.loc[inst_paym[\"AMT_INSTALMENT\"] == 0].index\n",
                "inst_paym.drop(drop_index, inplace=True)"
            ],
            "outputs": [],
            "metadata": {}
        },
        {
            "cell_type": "code",
            "execution_count": 152,
            "source": [
                "# \"AMT_PAYMENT\" 실제 상환액 / \"AMT_INSTALMENT\" 할부금 총액\n",
                "temp_payment = inst_paym[[\"SK_ID_CURR\", \"AMT_PAYMENT\"]].groupby(\"SK_ID_CURR\").mean()\n",
                "temp_install = inst_paym[[\"SK_ID_CURR\", \"AMT_INSTALMENT\"]].groupby(\"SK_ID_CURR\").mean()\n",
                "temp_merge = pd.merge(temp_payment, temp_install, left_on=\"SK_ID_CURR\", right_on=\"SK_ID_CURR\")\n",
                "temp_merge[\"과거_상환액/총액\"] = temp_merge[\"AMT_PAYMENT\"] / temp_merge[\"AMT_INSTALMENT\"]\n",
                "\n",
                "# new_inst_paym Dataframe 만들기\n",
                "new_inst_paym = temp_merge[[\"과거_상환액/총액\"]]\n",
                "\n",
                "# 저장\n",
                "new_inst_paym.to_csv(\"../pre_data/new_installments_payments.csv\")"
            ],
            "outputs": [],
            "metadata": {}
        },
        {
            "cell_type": "code",
            "execution_count": null,
            "source": [],
            "outputs": [],
            "metadata": {}
        }
    ],
    "metadata": {
        "orig_nbformat": 4,
        "language_info": {
            "name": "python",
            "version": "3.9.6",
            "mimetype": "text/x-python",
            "codemirror_mode": {
                "name": "ipython",
                "version": 3
            },
            "pygments_lexer": "ipython3",
            "nbconvert_exporter": "python",
            "file_extension": ".py"
        },
        "kernelspec": {
            "name": "python3",
            "display_name": "Python 3.9.6 64-bit"
        },
        "interpreter": {
            "hash": "7812ea015bdcee6f23a998adcdd2ef97c151c0c241b7b7070987d9313e41299d"
        }
    },
    "nbformat": 4,
    "nbformat_minor": 2
}