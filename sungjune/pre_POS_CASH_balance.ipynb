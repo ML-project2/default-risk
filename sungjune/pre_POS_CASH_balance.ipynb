{
    "cells": [
        {
            "cell_type": "code",
            "execution_count": 1,
            "source": [
                "\"\"\"\n",
                "# 전처리 배분\n",
                "\n",
                "1(성준) - 0~9,   40~49, 80~89, 120, \n",
                "       - credit_card_balance.csv\n",
                "       - POS_CASH_balance.csv\n",
                "       - previous_application.csv\n",
                "       - installments_payments.csv\n",
                "2(장호) - 10~19, 50~59, 90~99, 121\n",
                "3(두영) - 20~29, 60~69, 100~109, 122, \n",
                "       - bureau.csv,\n",
                "4(혜빈) - 30~39, 70~79, 110~119, 123, \n",
                "       - bureau_balance.csv\n",
                "5(준혁) -  \n",
                "\"\"\"\n",
                "\n",
                "\"\"\"\n",
                "# 데이터 목록\n",
                "application_test.csv\n",
                "application_train.csv\n",
                "credit_card_balance.csv\n",
                "POS_CASH_balance.csv\n",
                "previous_application.csv\n",
                "installments_payments.csv\n",
                "bureau.csv\n",
                "bureau_balance.csv\n",
                "sample_submission.csv\n",
                "\"\"\""
            ],
            "outputs": [
                {
                    "output_type": "execute_result",
                    "data": {
                        "text/plain": [
                            "'\\n# 데이터 목록\\napplication_test.csv\\napplication_train.csv\\nPOS_CASH_balance.csv\\nbureau.csv\\nbureau_balance.csv\\ncredit_card_balance.csv\\ninstallments_payments.csv\\nprevious_application.csv\\nsample_submission.csv\\n'"
                        ]
                    },
                    "metadata": {},
                    "execution_count": 1
                }
            ],
            "metadata": {}
        },
        {
            "cell_type": "code",
            "execution_count": 3,
            "source": [
                "import pandas as pd\n",
                "import matplotlib.pyplot as plt\n",
                "import seaborn as sns\n",
                "from sklearn.preprocessing import MinMaxScaler, RobustScaler, StandardScaler\n",
                "from sklearn.preprocessing import LabelEncoder, OrdinalEncoder\n",
                "from sklearn.impute import SimpleImputer\n",
                "import user_functions as uf\n",
                "\n",
                "import platform\n",
                "import matplotlib\n",
                "%matplotlib inline\n",
                "# 한글 출력되게 설정\n",
                "uf.korean()"
            ],
            "outputs": [],
            "metadata": {}
        },
        {
            "cell_type": "markdown",
            "source": [
                "## \"POS_CASH_balance.csv\"\n",
                "---"
            ],
            "metadata": {}
        },
        {
            "cell_type": "code",
            "execution_count": 4,
            "source": [
                "pos_cash = pd.read_csv(uf.get_f_path()+\"POS_CASH_balance.csv\")"
            ],
            "outputs": [],
            "metadata": {}
        },
        {
            "cell_type": "code",
            "execution_count": null,
            "source": [
                "pos_cash.info()"
            ],
            "outputs": [
                {
                    "output_type": "stream",
                    "name": "stdout",
                    "text": [
                        "<class 'pandas.core.frame.DataFrame'>\n",
                        "RangeIndex: 10001358 entries, 0 to 10001357\n",
                        "Data columns (total 8 columns):\n",
                        " #   Column                 Dtype  \n",
                        "---  ------                 -----  \n",
                        " 0   SK_ID_PREV             int64  \n",
                        " 1   SK_ID_CURR             int64  \n",
                        " 2   MONTHS_BALANCE         int64  \n",
                        " 3   CNT_INSTALMENT         float64\n",
                        " 4   CNT_INSTALMENT_FUTURE  float64\n",
                        " 5   NAME_CONTRACT_STATUS   object \n",
                        " 6   SK_DPD                 int64  \n",
                        " 7   SK_DPD_DEF             int64  \n",
                        "dtypes: float64(2), int64(5), object(1)\n",
                        "memory usage: 610.4+ MB\n"
                    ]
                }
            ],
            "metadata": {}
        },
        {
            "cell_type": "code",
            "execution_count": null,
            "source": [
                "pos_cash.head(20)"
            ],
            "outputs": [
                {
                    "output_type": "error",
                    "ename": "NameError",
                    "evalue": "name 'pos_cash' is not defined",
                    "traceback": [
                        "\u001b[0;31m---------------------------------------------------------------------------\u001b[0m",
                        "\u001b[0;31mNameError\u001b[0m                                 Traceback (most recent call last)",
                        "\u001b[0;32m<ipython-input-2-810034699d73>\u001b[0m in \u001b[0;36m<module>\u001b[0;34m\u001b[0m\n\u001b[0;32m----> 1\u001b[0;31m \u001b[0mpos_cash\u001b[0m\u001b[0;34m.\u001b[0m\u001b[0mhead\u001b[0m\u001b[0;34m(\u001b[0m\u001b[0;36m20\u001b[0m\u001b[0;34m)\u001b[0m\u001b[0;34m\u001b[0m\u001b[0;34m\u001b[0m\u001b[0m\n\u001b[0m",
                        "\u001b[0;31mNameError\u001b[0m: name 'pos_cash' is not defined"
                    ]
                }
            ],
            "metadata": {}
        },
        {
            "cell_type": "code",
            "execution_count": 229,
            "source": [
                "# # \"MONTHS_BALANCE\" # 잔액 갱신일\n",
                "# # 큰 문제 없음\n",
                "# # uf.check_feature(pos_cash, \"MONTHS_BALANCE\")\n",
                "# # uf.box_plot(pos_cash, \"MONTHS_BALANCE\")\n",
                "\n",
                "# # \"CNT_INSTALMENT\" 할부 기간\n",
                "# # 0 처리\n",
                "# # uf.check_feature(pos_cash, \"CNT_INSTALMENT\")\n",
                "# # uf.box_plot(pos_cash, \"CNT_INSTALMENT\")\n",
                "# pos_cash[\"CNT_INSTALMENT\"].fillna(0, inplace=True)\n",
                "\n",
                "# # \"CNT_INSTALMENT_FUTURE\" 잔여 할부 기간\n",
                "# # 0 처리\n",
                "# # uf.check_feature(pos_cash, \"CNT_INSTALMENT_FUTURE\")\n",
                "# # uf.box_plot(pos_cash, \"CNT_INSTALMENT_FUTURE\")\n",
                "# pos_cash[\"CNT_INSTALMENT_FUTURE\"].fillna(0, inplace=True)\n",
                "\n",
                "# # \"NAME_CONTRACT_STATUS\" \n",
                "# # \"XNA\" 항목 잔여 할부기간이 남아있으므로 Active로 대체\n",
                "# # uf.check_feature(pos_cash, \"NAME_CONTRACT_STATUS\")\n",
                "# pos_cash.loc[pos_cash[\"NAME_CONTRACT_STATUS\"] == \"XNA\", \"NAME_CONTRACT_STATUS\"] = \"Active\""
            ],
            "outputs": [],
            "metadata": {}
        },
        {
            "cell_type": "code",
            "execution_count": 226,
            "source": [
                "# SK_DPD(연체 경과일) - SK_DPD_DEF(연체 경과일(소액 연체 제외)) = 소액 연체 경과일\n",
                "pos_cash[\"소액연체_경과일\"] = pos_cash[\"SK_DPD\"] - pos_cash[\"SK_DPD_DEF\"]\n",
                "\n",
                "# 연체 관련 지표만 따로 추출함\n",
                "temp_df = pos_cash[[\"SK_ID_CURR\", \"SK_DPD\", \"SK_DPD_DEF\", \"소액연체_경과일\"]]\n",
                "\n",
                "# 동일인의 총 연체일수를 더함\n",
                "temp_merge = temp_df.groupby([\"SK_ID_CURR\"]).sum()\n",
                "temp_merge.reset_index(inplace=True)\n",
                "\n",
                "# 소액연체 비율\n",
                "temp_merge[\"소액연체_비율\"] = temp_merge[\"소액연체_경과일\"] / temp_merge[\"SK_DPD\"]\n",
                "# 소액연체 비율이 결측값이면 0으로 대체함. 왜냐하면 연체 한 적이 없기 때문에 결측임\n",
                "temp_merge[\"소액연체_비율\"].fillna(0, inplace=True)\n",
                "\n",
                "# index = SK_ID_CURR\n",
                "temp_merge.set_index(\"SK_ID_CURR\", inplace=True)\n",
                "\n",
                "# 소액연체비율이랑 전체 연체 경과일만 가져옴\n",
                "temp_merge.drop(columns=[\"소액연체_경과일\", \"SK_DPD_DEF\"], inplace=True)\n",
                "\n",
                "# 저장\n",
                "temp_merge.to_csv(\"../pre_data/new_POS_CASH_balance.csv\")"
            ],
            "outputs": [],
            "metadata": {}
        },
        {
            "cell_type": "markdown",
            "source": [
                "---"
            ],
            "metadata": {}
        }
    ],
    "metadata": {
        "orig_nbformat": 4,
        "language_info": {
            "name": "python",
            "version": "3.9.6",
            "mimetype": "text/x-python",
            "codemirror_mode": {
                "name": "ipython",
                "version": 3
            },
            "pygments_lexer": "ipython3",
            "nbconvert_exporter": "python",
            "file_extension": ".py"
        },
        "kernelspec": {
            "name": "python3",
            "display_name": "Python 3.9.6 64-bit"
        },
        "interpreter": {
            "hash": "7812ea015bdcee6f23a998adcdd2ef97c151c0c241b7b7070987d9313e41299d"
        }
    },
    "nbformat": 4,
    "nbformat_minor": 2
}