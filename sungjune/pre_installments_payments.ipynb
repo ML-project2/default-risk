{
    "cells": [
        {
            "cell_type": "code",
            "execution_count": 1,
            "source": [
                "\"\"\"\n",
                "# 전처리 배분\n",
                "\n",
                "1(성준) - 0~9,   40~49, 80~89, 120, \n",
                "       - credit_card_balance.csv\n",
                "       - POS_CASH_balance.csv\n",
                "       - previous_application.csv\n",
                "       - installments_payments.csv\n",
                "2(장호) - 10~19, 50~59, 90~99, 121\n",
                "3(두영) - 20~29, 60~69, 100~109, 122, \n",
                "       - bureau.csv,\n",
                "4(혜빈) - 30~39, 70~79, 110~119, 123, \n",
                "       - bureau_balance.csv\n",
                "5(준혁) -  \n",
                "\"\"\"\n",
                "\n",
                "\"\"\"\n",
                "# 데이터 목록\n",
                "application_test.csv\n",
                "application_train.csv\n",
                "credit_card_balance.csv\n",
                "POS_CASH_balance.csv\n",
                "previous_application.csv\n",
                "installments_payments.csv\n",
                "bureau.csv\n",
                "bureau_balance.csv\n",
                "sample_submission.csv\n",
                "\"\"\""
            ],
            "outputs": [
                {
                    "output_type": "execute_result",
                    "data": {
                        "text/plain": [
                            "'\\n# 데이터 목록\\napplication_test.csv\\napplication_train.csv\\nPOS_CASH_balance.csv\\nbureau.csv\\nbureau_balance.csv\\ncredit_card_balance.csv\\ninstallments_payments.csv\\nprevious_application.csv\\nsample_submission.csv\\n'"
                        ]
                    },
                    "metadata": {},
                    "execution_count": 1
                }
            ],
            "metadata": {}
        },
        {
            "cell_type": "code",
            "execution_count": 1,
            "source": [
                "import pandas as pd\n",
                "import matplotlib.pyplot as plt\n",
                "import seaborn as sns\n",
                "from sklearn.preprocessing import MinMaxScaler, RobustScaler, StandardScaler\n",
                "from sklearn.preprocessing import LabelEncoder, OrdinalEncoder\n",
                "from sklearn.impute import SimpleImputer\n",
                "import user_functions as uf\n",
                "\n",
                "import platform\n",
                "import matplotlib\n",
                "%matplotlib inline\n",
                "# 한글 출력되게 설정\n",
                "uf.korean()"
            ],
            "outputs": [],
            "metadata": {}
        },
        {
            "cell_type": "markdown",
            "source": [
                "## installments_payments.csv\n",
                "---"
            ],
            "metadata": {}
        },
        {
            "cell_type": "code",
            "execution_count": 109,
            "source": [
                "inst_paym = pd.read_csv(uf.get_f_path()+\"installments_payments.csv\")"
            ],
            "outputs": [],
            "metadata": {}
        },
        {
            "cell_type": "code",
            "execution_count": 110,
            "source": [
                "inst_paym.info()"
            ],
            "outputs": [
                {
                    "output_type": "stream",
                    "name": "stdout",
                    "text": [
                        "<class 'pandas.core.frame.DataFrame'>\n",
                        "RangeIndex: 13605401 entries, 0 to 13605400\n",
                        "Data columns (total 8 columns):\n",
                        " #   Column                  Dtype  \n",
                        "---  ------                  -----  \n",
                        " 0   SK_ID_PREV              int64  \n",
                        " 1   SK_ID_CURR              int64  \n",
                        " 2   NUM_INSTALMENT_VERSION  float64\n",
                        " 3   NUM_INSTALMENT_NUMBER   int64  \n",
                        " 4   DAYS_INSTALMENT         float64\n",
                        " 5   DAYS_ENTRY_PAYMENT      float64\n",
                        " 6   AMT_INSTALMENT          float64\n",
                        " 7   AMT_PAYMENT             float64\n",
                        "dtypes: float64(5), int64(3)\n",
                        "memory usage: 830.4 MB\n"
                    ]
                }
            ],
            "metadata": {}
        },
        {
            "cell_type": "code",
            "execution_count": 141,
            "source": [
                "# \"AMT_PAYMENT\" 실제 상환액\n",
                "# 결측값은 상환하지 않았다고 판단하여 0으로 값을 대치함\n",
                "# uf.check_feature(inst_paym, \"AMT_PAYMENT\")\n",
                "inst_paym.loc[:, \"AMT_PAYMENT\"].fillna(0, inplace=True)\n",
                "\n",
                "# \"AMT_INSTALMENT\" 할부금 총액\n",
                "# \"AMT_INSTALMENT\" 할부금 총액 0인 행 제외\n",
                "# uf.check_feature(inst_paym, \"AMT_INSTALMENT\")\n",
                "drop_index = inst_paym.loc[inst_paym[\"AMT_INSTALMENT\"] == 0].index\n",
                "inst_paym.drop(drop_index, inplace=True)"
            ],
            "outputs": [],
            "metadata": {}
        },
        {
            "cell_type": "code",
            "execution_count": 152,
            "source": [
                "# \"AMT_PAYMENT\" 실제 상환액 / \"AMT_INSTALMENT\" 할부금 총액\n",
                "temp_payment = inst_paym[[\"SK_ID_CURR\", \"AMT_PAYMENT\"]].groupby(\"SK_ID_CURR\").mean()\n",
                "temp_install = inst_paym[[\"SK_ID_CURR\", \"AMT_INSTALMENT\"]].groupby(\"SK_ID_CURR\").mean()\n",
                "temp_merge = pd.merge(temp_payment, temp_install, left_on=\"SK_ID_CURR\", right_on=\"SK_ID_CURR\")\n",
                "temp_merge[\"과거_상환액/총액\"] = temp_merge[\"AMT_PAYMENT\"] / temp_merge[\"AMT_INSTALMENT\"]\n",
                "\n",
                "# new_inst_paym Dataframe 만들기\n",
                "new_inst_paym = temp_merge[[\"과거_상환액/총액\"]]\n",
                "\n",
                "# 저장\n",
                "new_inst_paym.to_csv(\"../pre_data/new_installments_payments.csv\")"
            ],
            "outputs": [],
            "metadata": {}
        }
    ],
    "metadata": {
        "orig_nbformat": 4,
        "language_info": {
            "name": "python",
            "version": "3.9.6",
            "mimetype": "text/x-python",
            "codemirror_mode": {
                "name": "ipython",
                "version": 3
            },
            "pygments_lexer": "ipython3",
            "nbconvert_exporter": "python",
            "file_extension": ".py"
        },
        "kernelspec": {
            "name": "python3",
            "display_name": "Python 3.9.6 64-bit"
        },
        "interpreter": {
            "hash": "7812ea015bdcee6f23a998adcdd2ef97c151c0c241b7b7070987d9313e41299d"
        }
    },
    "nbformat": 4,
    "nbformat_minor": 2
}