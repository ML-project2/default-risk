{
 "cells": [
  {
   "cell_type": "code",
   "execution_count": 1,
   "id": "6d46d77b",
   "metadata": {},
   "outputs": [],
   "source": [
    "import pandas as pd\n",
    "import numpy as np\n",
    "import seaborn as sns\n",
    "import matplotlib.pyplot as plt\n",
    "# default_path = \"../lab10/raw_data/\"\n",
    "# app_train = pd.read_csv(default_path+\"application_train.csv\")\n",
    "\n",
    "bureau_balance = pd.read_csv('../../pjt2/raw_data/bureau_balance.csv') # 로컬 경로"
   ]
  },
  {
   "cell_type": "code",
   "execution_count": 2,
   "id": "218ac85e",
   "metadata": {},
   "outputs": [],
   "source": [
    "def check_feature(datasets, feature):\n",
    "    print(\"=\" * 20, \"describe\", \"=\" * 20)\n",
    "    try:\n",
    "        print(datasets[feature].describe())\n",
    "    except:\n",
    "        print(\"can't describe. dtype is\", datasets[feature].dtype)\n",
    "    print(\"=\" * 50)\n",
    "    \n",
    "    print(\"=\" * 20, \"unique\", \"=\" * 20)\n",
    "    print(datasets[feature].unique())\n",
    "    print(\"=\" * 50)\n",
    "\n",
    "    print(\"=\" * 20, \"value_counts\", \"=\" * 20)\n",
    "    print(datasets[feature].value_counts())\n",
    "    print(\"=\" * 50)\n",
    "\n",
    "    print(\"=\" * 20, \"isna\", \"=\" * 20)\n",
    "    print(datasets[feature].isna().value_counts())\n",
    "    print(\"=\" * 50)\n",
    "    \n",
    "    return None"
   ]
  },
  {
   "cell_type": "code",
   "execution_count": 3,
   "id": "2318ba95",
   "metadata": {
    "scrolled": true
   },
   "outputs": [
    {
     "name": "stdout",
     "output_type": "stream",
     "text": [
      "<class 'pandas.core.frame.DataFrame'>\n",
      "RangeIndex: 27299925 entries, 0 to 27299924\n",
      "Data columns (total 3 columns):\n",
      " #   Column          Dtype \n",
      "---  ------          ----- \n",
      " 0   SK_ID_BUREAU    int64 \n",
      " 1   MONTHS_BALANCE  int64 \n",
      " 2   STATUS          object\n",
      "dtypes: int64(2), object(1)\n",
      "memory usage: 624.8+ MB\n"
     ]
    }
   ],
   "source": [
    "bureau_balance_df = pd.DataFrame(bureau_balance)\n",
    "bureau_balance_df.info()"
   ]
  },
  {
   "cell_type": "code",
   "execution_count": 4,
   "id": "7956245a",
   "metadata": {},
   "outputs": [
    {
     "data": {
      "text/html": [
       "<div>\n",
       "<style scoped>\n",
       "    .dataframe tbody tr th:only-of-type {\n",
       "        vertical-align: middle;\n",
       "    }\n",
       "\n",
       "    .dataframe tbody tr th {\n",
       "        vertical-align: top;\n",
       "    }\n",
       "\n",
       "    .dataframe thead th {\n",
       "        text-align: right;\n",
       "    }\n",
       "</style>\n",
       "<table border=\"1\" class=\"dataframe\">\n",
       "  <thead>\n",
       "    <tr style=\"text-align: right;\">\n",
       "      <th></th>\n",
       "      <th>SK_ID_BUREAU</th>\n",
       "      <th>MONTHS_BALANCE</th>\n",
       "      <th>STATUS</th>\n",
       "    </tr>\n",
       "  </thead>\n",
       "  <tbody>\n",
       "    <tr>\n",
       "      <th>0</th>\n",
       "      <td>5715448</td>\n",
       "      <td>0</td>\n",
       "      <td>C</td>\n",
       "    </tr>\n",
       "    <tr>\n",
       "      <th>1</th>\n",
       "      <td>5715448</td>\n",
       "      <td>-1</td>\n",
       "      <td>C</td>\n",
       "    </tr>\n",
       "    <tr>\n",
       "      <th>2</th>\n",
       "      <td>5715448</td>\n",
       "      <td>-2</td>\n",
       "      <td>C</td>\n",
       "    </tr>\n",
       "    <tr>\n",
       "      <th>3</th>\n",
       "      <td>5715448</td>\n",
       "      <td>-3</td>\n",
       "      <td>C</td>\n",
       "    </tr>\n",
       "    <tr>\n",
       "      <th>4</th>\n",
       "      <td>5715448</td>\n",
       "      <td>-4</td>\n",
       "      <td>C</td>\n",
       "    </tr>\n",
       "    <tr>\n",
       "      <th>...</th>\n",
       "      <td>...</td>\n",
       "      <td>...</td>\n",
       "      <td>...</td>\n",
       "    </tr>\n",
       "    <tr>\n",
       "      <th>27299920</th>\n",
       "      <td>5041336</td>\n",
       "      <td>-47</td>\n",
       "      <td>X</td>\n",
       "    </tr>\n",
       "    <tr>\n",
       "      <th>27299921</th>\n",
       "      <td>5041336</td>\n",
       "      <td>-48</td>\n",
       "      <td>X</td>\n",
       "    </tr>\n",
       "    <tr>\n",
       "      <th>27299922</th>\n",
       "      <td>5041336</td>\n",
       "      <td>-49</td>\n",
       "      <td>X</td>\n",
       "    </tr>\n",
       "    <tr>\n",
       "      <th>27299923</th>\n",
       "      <td>5041336</td>\n",
       "      <td>-50</td>\n",
       "      <td>X</td>\n",
       "    </tr>\n",
       "    <tr>\n",
       "      <th>27299924</th>\n",
       "      <td>5041336</td>\n",
       "      <td>-51</td>\n",
       "      <td>X</td>\n",
       "    </tr>\n",
       "  </tbody>\n",
       "</table>\n",
       "<p>27299925 rows × 3 columns</p>\n",
       "</div>"
      ],
      "text/plain": [
       "          SK_ID_BUREAU  MONTHS_BALANCE STATUS\n",
       "0              5715448               0      C\n",
       "1              5715448              -1      C\n",
       "2              5715448              -2      C\n",
       "3              5715448              -3      C\n",
       "4              5715448              -4      C\n",
       "...                ...             ...    ...\n",
       "27299920       5041336             -47      X\n",
       "27299921       5041336             -48      X\n",
       "27299922       5041336             -49      X\n",
       "27299923       5041336             -50      X\n",
       "27299924       5041336             -51      X\n",
       "\n",
       "[27299925 rows x 3 columns]"
      ]
     },
     "execution_count": 4,
     "metadata": {},
     "output_type": "execute_result"
    }
   ],
   "source": [
    "bureau_balance_df"
   ]
  },
  {
   "cell_type": "code",
   "execution_count": 5,
   "id": "fcb4c0f7",
   "metadata": {},
   "outputs": [
    {
     "data": {
      "text/html": [
       "<div>\n",
       "<style scoped>\n",
       "    .dataframe tbody tr th:only-of-type {\n",
       "        vertical-align: middle;\n",
       "    }\n",
       "\n",
       "    .dataframe tbody tr th {\n",
       "        vertical-align: top;\n",
       "    }\n",
       "\n",
       "    .dataframe thead th {\n",
       "        text-align: right;\n",
       "    }\n",
       "</style>\n",
       "<table border=\"1\" class=\"dataframe\">\n",
       "  <thead>\n",
       "    <tr style=\"text-align: right;\">\n",
       "      <th></th>\n",
       "      <th>SK_ID_BUREAU</th>\n",
       "      <th>MONTHS_BALANCE</th>\n",
       "    </tr>\n",
       "  </thead>\n",
       "  <tbody>\n",
       "    <tr>\n",
       "      <th>count</th>\n",
       "      <td>2.729992e+07</td>\n",
       "      <td>2.729992e+07</td>\n",
       "    </tr>\n",
       "    <tr>\n",
       "      <th>mean</th>\n",
       "      <td>6.036297e+06</td>\n",
       "      <td>-3.074169e+01</td>\n",
       "    </tr>\n",
       "    <tr>\n",
       "      <th>std</th>\n",
       "      <td>4.923489e+05</td>\n",
       "      <td>2.386451e+01</td>\n",
       "    </tr>\n",
       "    <tr>\n",
       "      <th>min</th>\n",
       "      <td>5.001709e+06</td>\n",
       "      <td>-9.600000e+01</td>\n",
       "    </tr>\n",
       "    <tr>\n",
       "      <th>25%</th>\n",
       "      <td>5.730933e+06</td>\n",
       "      <td>-4.600000e+01</td>\n",
       "    </tr>\n",
       "    <tr>\n",
       "      <th>50%</th>\n",
       "      <td>6.070821e+06</td>\n",
       "      <td>-2.500000e+01</td>\n",
       "    </tr>\n",
       "    <tr>\n",
       "      <th>75%</th>\n",
       "      <td>6.431951e+06</td>\n",
       "      <td>-1.100000e+01</td>\n",
       "    </tr>\n",
       "    <tr>\n",
       "      <th>max</th>\n",
       "      <td>6.842888e+06</td>\n",
       "      <td>0.000000e+00</td>\n",
       "    </tr>\n",
       "  </tbody>\n",
       "</table>\n",
       "</div>"
      ],
      "text/plain": [
       "       SK_ID_BUREAU  MONTHS_BALANCE\n",
       "count  2.729992e+07    2.729992e+07\n",
       "mean   6.036297e+06   -3.074169e+01\n",
       "std    4.923489e+05    2.386451e+01\n",
       "min    5.001709e+06   -9.600000e+01\n",
       "25%    5.730933e+06   -4.600000e+01\n",
       "50%    6.070821e+06   -2.500000e+01\n",
       "75%    6.431951e+06   -1.100000e+01\n",
       "max    6.842888e+06    0.000000e+00"
      ]
     },
     "execution_count": 5,
     "metadata": {},
     "output_type": "execute_result"
    }
   ],
   "source": [
    "bureau_balance_df.describe()"
   ]
  },
  {
   "cell_type": "code",
   "execution_count": 6,
   "id": "8d19936b",
   "metadata": {
    "scrolled": false
   },
   "outputs": [
    {
     "name": "stdout",
     "output_type": "stream",
     "text": [
      "==================== describe ====================\n",
      "count     27299925\n",
      "unique           8\n",
      "top              C\n",
      "freq      13646993\n",
      "Name: STATUS, dtype: object\n",
      "==================================================\n",
      "==================== unique ====================\n",
      "['C' '0' 'X' '1' '2' '3' '5' '4']\n",
      "==================================================\n",
      "==================== value_counts ====================\n",
      "C    13646993\n",
      "0     7499507\n",
      "X     5810482\n",
      "1      242347\n",
      "5       62406\n",
      "2       23419\n",
      "3        8924\n",
      "4        5847\n",
      "Name: STATUS, dtype: int64\n",
      "==================================================\n",
      "==================== isna ====================\n",
      "False    27299925\n",
      "Name: STATUS, dtype: int64\n",
      "==================================================\n"
     ]
    }
   ],
   "source": [
    "check_feature(bureau_balance_df, 'STATUS')"
   ]
  },
  {
   "cell_type": "code",
   "execution_count": 8,
   "id": "c0880449",
   "metadata": {},
   "outputs": [
    {
     "data": {
      "image/png": "[encoded data removed]",
      "text/plain": [
       "<Figure size 432x288 with 1 Axes>"
      ]
     },
     "metadata": {},
     "output_type": "display_data"
    }
   ],
   "source": [
    "sns.set_theme(style=\"darkgrid\")\n",
    "\n",
    "ax = sns.countplot(x=\"STATUS\", data=bureau_balance_df)\n",
    "for p in ax.patches:\n",
    "    left, bottom, width, height = p.get_bbox().bounds\n",
    "    ax.annotate(\"{0:,}\".format(int(height)), (left+width/2, height*1.01), ha='center')"
   ]
  },
  {
   "cell_type": "code",
   "execution_count": 7,
   "id": "62d25597",
   "metadata": {},
   "outputs": [
    {
     "data": {
      "text/html": [
       "<div>\n",
       "<style scoped>\n",
       "    .dataframe tbody tr th:only-of-type {\n",
       "        vertical-align: middle;\n",
       "    }\n",
       "\n",
       "    .dataframe tbody tr th {\n",
       "        vertical-align: top;\n",
       "    }\n",
       "\n",
       "    .dataframe thead th {\n",
       "        text-align: right;\n",
       "    }\n",
       "</style>\n",
       "<table border=\"1\" class=\"dataframe\">\n",
       "  <thead>\n",
       "    <tr style=\"text-align: right;\">\n",
       "      <th></th>\n",
       "      <th>SK_ID_BUREAU</th>\n",
       "      <th>MONTHS_BALANCE</th>\n",
       "      <th>STATUS</th>\n",
       "    </tr>\n",
       "  </thead>\n",
       "  <tbody>\n",
       "    <tr>\n",
       "      <th>0</th>\n",
       "      <td>5715448</td>\n",
       "      <td>0</td>\n",
       "      <td>C</td>\n",
       "    </tr>\n",
       "    <tr>\n",
       "      <th>1</th>\n",
       "      <td>5715448</td>\n",
       "      <td>-1</td>\n",
       "      <td>C</td>\n",
       "    </tr>\n",
       "    <tr>\n",
       "      <th>2</th>\n",
       "      <td>5715448</td>\n",
       "      <td>-2</td>\n",
       "      <td>C</td>\n",
       "    </tr>\n",
       "    <tr>\n",
       "      <th>3</th>\n",
       "      <td>5715448</td>\n",
       "      <td>-3</td>\n",
       "      <td>C</td>\n",
       "    </tr>\n",
       "    <tr>\n",
       "      <th>4</th>\n",
       "      <td>5715448</td>\n",
       "      <td>-4</td>\n",
       "      <td>C</td>\n",
       "    </tr>\n",
       "    <tr>\n",
       "      <th>...</th>\n",
       "      <td>...</td>\n",
       "      <td>...</td>\n",
       "      <td>...</td>\n",
       "    </tr>\n",
       "    <tr>\n",
       "      <th>27299920</th>\n",
       "      <td>5041336</td>\n",
       "      <td>-47</td>\n",
       "      <td>X</td>\n",
       "    </tr>\n",
       "    <tr>\n",
       "      <th>27299921</th>\n",
       "      <td>5041336</td>\n",
       "      <td>-48</td>\n",
       "      <td>X</td>\n",
       "    </tr>\n",
       "    <tr>\n",
       "      <th>27299922</th>\n",
       "      <td>5041336</td>\n",
       "      <td>-49</td>\n",
       "      <td>X</td>\n",
       "    </tr>\n",
       "    <tr>\n",
       "      <th>27299923</th>\n",
       "      <td>5041336</td>\n",
       "      <td>-50</td>\n",
       "      <td>X</td>\n",
       "    </tr>\n",
       "    <tr>\n",
       "      <th>27299924</th>\n",
       "      <td>5041336</td>\n",
       "      <td>-51</td>\n",
       "      <td>X</td>\n",
       "    </tr>\n",
       "  </tbody>\n",
       "</table>\n",
       "<p>27299925 rows × 3 columns</p>\n",
       "</div>"
      ],
      "text/plain": [
       "          SK_ID_BUREAU  MONTHS_BALANCE STATUS\n",
       "0              5715448               0      C\n",
       "1              5715448              -1      C\n",
       "2              5715448              -2      C\n",
       "3              5715448              -3      C\n",
       "4              5715448              -4      C\n",
       "...                ...             ...    ...\n",
       "27299920       5041336             -47      X\n",
       "27299921       5041336             -48      X\n",
       "27299922       5041336             -49      X\n",
       "27299923       5041336             -50      X\n",
       "27299924       5041336             -51      X\n",
       "\n",
       "[27299925 rows x 3 columns]"
      ]
     },
     "execution_count": 7,
     "metadata": {},
     "output_type": "execute_result"
    }
   ],
   "source": [
    "bureau_balance_df"
   ]
  },
  {
   "cell_type": "code",
   "execution_count": 8,
   "id": "c90b17a4",
   "metadata": {},
   "outputs": [],
   "source": [
    "# STATUS 값 숫자 변환\n",
    "\n",
    "bureau_balance_df['STATUS'] = bureau_balance_df['STATUS'].replace(['C', 'X', '0', '1', '2', '3', '4', '5'], [0,0,0,1,2,3,4,5])\n",
    "bureau_balance_df['STATUS'] = pd.to_numeric(bureau_balance_df['STATUS'])"
   ]
  },
  {
   "cell_type": "code",
   "execution_count": 9,
   "id": "398d84a4",
   "metadata": {},
   "outputs": [
    {
     "name": "stdout",
     "output_type": "stream",
     "text": [
      "==================== describe ====================\n",
      "count    2.729992e+07\n",
      "mean     2.385996e-02\n",
      "std      2.743293e-01\n",
      "min      0.000000e+00\n",
      "25%      0.000000e+00\n",
      "50%      0.000000e+00\n",
      "75%      0.000000e+00\n",
      "max      5.000000e+00\n",
      "Name: STATUS, dtype: float64\n",
      "==================================================\n",
      "==================== unique ====================\n",
      "[0 1 2 3 5 4]\n",
      "==================================================\n",
      "==================== value_counts ====================\n",
      "0    26956982\n",
      "1      242347\n",
      "5       62406\n",
      "2       23419\n",
      "3        8924\n",
      "4        5847\n",
      "Name: STATUS, dtype: int64\n",
      "==================================================\n",
      "==================== isna ====================\n",
      "False    27299925\n",
      "Name: STATUS, dtype: int64\n",
      "==================================================\n"
     ]
    }
   ],
   "source": [
    "check_feature(bureau_balance_df, 'STATUS')"
   ]
  },
  {
   "cell_type": "code",
   "execution_count": 10,
   "id": "1789b325",
   "metadata": {},
   "outputs": [
    {
     "data": {
      "text/plain": [
       "SK_ID_BUREAU      int64\n",
       "MONTHS_BALANCE    int64\n",
       "STATUS            int64\n",
       "dtype: object"
      ]
     },
     "execution_count": 10,
     "metadata": {},
     "output_type": "execute_result"
    }
   ],
   "source": [
    "bureau_balance_df.dtypes"
   ]
  },
  {
   "cell_type": "code",
   "execution_count": 11,
   "id": "79d8d4ab",
   "metadata": {},
   "outputs": [],
   "source": [
    "bureau_balance_df = bureau_balance_df.groupby('SK_ID_BUREAU')[['STATUS']].sum()"
   ]
  },
  {
   "cell_type": "code",
   "execution_count": 12,
   "id": "1a29a83f",
   "metadata": {},
   "outputs": [
    {
     "data": {
      "text/html": [
       "<div>\n",
       "<style scoped>\n",
       "    .dataframe tbody tr th:only-of-type {\n",
       "        vertical-align: middle;\n",
       "    }\n",
       "\n",
       "    .dataframe tbody tr th {\n",
       "        vertical-align: top;\n",
       "    }\n",
       "\n",
       "    .dataframe thead th {\n",
       "        text-align: right;\n",
       "    }\n",
       "</style>\n",
       "<table border=\"1\" class=\"dataframe\">\n",
       "  <thead>\n",
       "    <tr style=\"text-align: right;\">\n",
       "      <th></th>\n",
       "      <th>STATUS</th>\n",
       "    </tr>\n",
       "    <tr>\n",
       "      <th>SK_ID_BUREAU</th>\n",
       "      <th></th>\n",
       "    </tr>\n",
       "  </thead>\n",
       "  <tbody>\n",
       "    <tr>\n",
       "      <th>5001709</th>\n",
       "      <td>0</td>\n",
       "    </tr>\n",
       "    <tr>\n",
       "      <th>5001710</th>\n",
       "      <td>0</td>\n",
       "    </tr>\n",
       "    <tr>\n",
       "      <th>5001711</th>\n",
       "      <td>0</td>\n",
       "    </tr>\n",
       "    <tr>\n",
       "      <th>5001712</th>\n",
       "      <td>0</td>\n",
       "    </tr>\n",
       "    <tr>\n",
       "      <th>5001713</th>\n",
       "      <td>0</td>\n",
       "    </tr>\n",
       "    <tr>\n",
       "      <th>...</th>\n",
       "      <td>...</td>\n",
       "    </tr>\n",
       "    <tr>\n",
       "      <th>6842884</th>\n",
       "      <td>0</td>\n",
       "    </tr>\n",
       "    <tr>\n",
       "      <th>6842885</th>\n",
       "      <td>60</td>\n",
       "    </tr>\n",
       "    <tr>\n",
       "      <th>6842886</th>\n",
       "      <td>0</td>\n",
       "    </tr>\n",
       "    <tr>\n",
       "      <th>6842887</th>\n",
       "      <td>0</td>\n",
       "    </tr>\n",
       "    <tr>\n",
       "      <th>6842888</th>\n",
       "      <td>1</td>\n",
       "    </tr>\n",
       "  </tbody>\n",
       "</table>\n",
       "<p>817395 rows × 1 columns</p>\n",
       "</div>"
      ],
      "text/plain": [
       "              STATUS\n",
       "SK_ID_BUREAU        \n",
       "5001709            0\n",
       "5001710            0\n",
       "5001711            0\n",
       "5001712            0\n",
       "5001713            0\n",
       "...              ...\n",
       "6842884            0\n",
       "6842885           60\n",
       "6842886            0\n",
       "6842887            0\n",
       "6842888            1\n",
       "\n",
       "[817395 rows x 1 columns]"
      ]
     },
     "execution_count": 12,
     "metadata": {},
     "output_type": "execute_result"
    }
   ],
   "source": [
    "bureau_balance_df"
   ]
  },
  {
   "cell_type": "code",
   "execution_count": 13,
   "id": "b44256b2",
   "metadata": {},
   "outputs": [],
   "source": [
    "bureau_balance_df.to_csv(\"../../pjt2/raw_data/bureau_balance_df.csv\", mode='w')"
   ]
  },
  {
   "cell_type": "code",
   "execution_count": null,
   "id": "659aac10",
   "metadata": {},
   "outputs": [],
   "source": []
  }
 ],
 "metadata": {
  "kernelspec": {
   "display_name": "Python 3",
   "language": "python",
   "name": "python3"
  },
  "language_info": {
   "codemirror_mode": {
    "name": "ipython",
    "version": 3
   },
   "file_extension": ".py",
   "mimetype": "text/x-python",
   "name": "python",
   "nbconvert_exporter": "python",
   "pygments_lexer": "ipython3",
   "version": "3.8.8"
  }
 },
 "nbformat": 4,
 "nbformat_minor": 5
}
