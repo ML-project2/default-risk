{
 "cells": [
  {
   "cell_type": "code",
   "execution_count": 33,
   "id": "8f9c60cb",
   "metadata": {
    "colab": {
     "base_uri": "https://localhost:8080/",
     "height": 441
    },
    "executionInfo": {
     "elapsed": 2092,
     "status": "error",
     "timestamp": 1629335181595,
     "user": {
      "displayName": "Jangho Kim",
      "photoUrl": "https://lh3.googleusercontent.com/a-/AOh14GhPCKkxpq-7CsKt-Nb1mZOGvtd4FXkkCpdAyOSG-w=s64",
      "userId": "09358696859380980288"
     },
     "user_tz": -540
    },
    "id": "8f9c60cb",
    "outputId": "2932369e-ff35-462b-a0f5-47e5bf2cdf42"
   },
   "outputs": [],
   "source": [
    "import pandas as pd\n",
    "import numpy as np\n",
    "import seaborn as sns\n",
    "import matplotlib.pyplot as plt\n",
    "%matplotlib inline\n",
    "import time\n",
    "start_time = time.time()\n",
    "\n",
    "from sklearn.model_selection import train_test_split\n",
    "from sklearn.ensemble import VotingClassifier\n",
    "from sklearn.linear_model import LogisticRegression\n",
    "from sklearn.neighbors import KNeighborsClassifier\n",
    "from sklearn.ensemble import RandomForestClassifier\n",
    "from sklearn.metrics import accuracy_score, precision_score, recall_score, roc_auc_score\n",
    "from sklearn.metrics import f1_score, confusion_matrix, precision_recall_curve, roc_curve\n",
    "from sklearn.model_selection import KFold, cross_val_score,    GridSearchCV\n",
    "import warnings\n",
    "warnings.filterwarnings(\"ignore\")\n",
    "# import user_functions as uf \n",
    "# uf.korean2()\n",
    "plt.rcParams['font.family'] = 'Malgun Gothic'\n",
    "    \n",
    "# default_path = \"../lab10/raw_data/\"\n",
    "# app_train = pd.read_csv(default_path+\"application_train.csv\")\n",
    "\n",
    "data_raw = pd.read_csv('../pjt2_raw_data/train_datasets(no_encod).csv')\n",
    "data = pd.read_csv('../pjt2_raw_data/train_datasets.csv')\n",
    "data_log = pd.read_csv('../pjt2_raw_data/train_datasets_log.csv')\n",
    "data_scaled = pd.read_csv('../pjt2_raw_data/train_datasets_log_scal.csv')\n",
    "\n",
    "# (2) colab 경로\n",
    "# data = pd.read_csv('/content/drive/MyDrive/DS_project/train_datasets.csv')\n",
    "# data_log = pd.read_csv('/content/drive/MyDrive/DS_project/train_datasets(log).csv')\n",
    "# data_scaled = pd.read_csv('/content/drive/MyDrive/DS_project/train_datasets(log_scal).csv')"
   ]
  },
  {
   "cell_type": "code",
   "execution_count": 2,
   "id": "X0FYl9BEjWzY",
   "metadata": {
    "colab": {
     "base_uri": "https://localhost:8080/"
    },
    "executionInfo": {
     "elapsed": 21111,
     "status": "ok",
     "timestamp": 1629335216505,
     "user": {
      "displayName": "Jangho Kim",
      "photoUrl": "https://lh3.googleusercontent.com/a-/AOh14GhPCKkxpq-7CsKt-Nb1mZOGvtd4FXkkCpdAyOSG-w=s64",
      "userId": "09358696859380980288"
     },
     "user_tz": -540
    },
    "id": "X0FYl9BEjWzY",
    "outputId": "14fdf161-692d-4467-a821-8ae78d8389fe"
   },
   "outputs": [],
   "source": [
    "# from google.colab import drive\n",
    "# drive.mount('/content/drive')"
   ]
  },
  {
   "cell_type": "code",
   "execution_count": 8,
   "id": "8ba4f441",
   "metadata": {
    "cellView": "form",
    "colab": {
     "base_uri": "https://localhost:8080/",
     "height": 418
    },
    "executionInfo": {
     "elapsed": 354,
     "status": "ok",
     "timestamp": 1629278428107,
     "user": {
      "displayName": "Jangho Kim",
      "photoUrl": "https://lh3.googleusercontent.com/a-/AOh14GhPCKkxpq-7CsKt-Nb1mZOGvtd4FXkkCpdAyOSG-w=s64",
      "userId": "09358696859380980288"
     },
     "user_tz": -540
    },
    "id": "8ba4f441",
    "outputId": "e4269561-db9f-41cb-ab69-522ca5c112c9"
   },
   "outputs": [
    {
     "data": {
      "text/html": [
       "<div>\n",
       "<style scoped>\n",
       "    .dataframe tbody tr th:only-of-type {\n",
       "        vertical-align: middle;\n",
       "    }\n",
       "\n",
       "    .dataframe tbody tr th {\n",
       "        vertical-align: top;\n",
       "    }\n",
       "\n",
       "    .dataframe thead th {\n",
       "        text-align: right;\n",
       "    }\n",
       "</style>\n",
       "<table border=\"1\" class=\"dataframe\">\n",
       "  <thead>\n",
       "    <tr style=\"text-align: right;\">\n",
       "      <th></th>\n",
       "      <th>TARGET</th>\n",
       "    </tr>\n",
       "  </thead>\n",
       "  <tbody>\n",
       "    <tr>\n",
       "      <th>0</th>\n",
       "      <td>1.0</td>\n",
       "    </tr>\n",
       "    <tr>\n",
       "      <th>1</th>\n",
       "      <td>0.0</td>\n",
       "    </tr>\n",
       "    <tr>\n",
       "      <th>2</th>\n",
       "      <td>0.0</td>\n",
       "    </tr>\n",
       "    <tr>\n",
       "      <th>3</th>\n",
       "      <td>0.0</td>\n",
       "    </tr>\n",
       "    <tr>\n",
       "      <th>4</th>\n",
       "      <td>0.0</td>\n",
       "    </tr>\n",
       "    <tr>\n",
       "      <th>...</th>\n",
       "      <td>...</td>\n",
       "    </tr>\n",
       "    <tr>\n",
       "      <th>303839</th>\n",
       "      <td>0.0</td>\n",
       "    </tr>\n",
       "    <tr>\n",
       "      <th>303840</th>\n",
       "      <td>0.0</td>\n",
       "    </tr>\n",
       "    <tr>\n",
       "      <th>303841</th>\n",
       "      <td>0.0</td>\n",
       "    </tr>\n",
       "    <tr>\n",
       "      <th>303842</th>\n",
       "      <td>1.0</td>\n",
       "    </tr>\n",
       "    <tr>\n",
       "      <th>303843</th>\n",
       "      <td>0.0</td>\n",
       "    </tr>\n",
       "  </tbody>\n",
       "</table>\n",
       "<p>303844 rows × 1 columns</p>\n",
       "</div>"
      ],
      "text/plain": [
       "        TARGET\n",
       "0          1.0\n",
       "1          0.0\n",
       "2          0.0\n",
       "3          0.0\n",
       "4          0.0\n",
       "...        ...\n",
       "303839     0.0\n",
       "303840     0.0\n",
       "303841     0.0\n",
       "303842     1.0\n",
       "303843     0.0\n",
       "\n",
       "[303844 rows x 1 columns]"
      ]
     },
     "execution_count": 8,
     "metadata": {},
     "output_type": "execute_result"
    }
   ],
   "source": [
    "y_target = data[['TARGET']]\n",
    "X_features = data.drop(columns=['Unnamed: 0','SK_ID_CURR','TARGET'])\n",
    "y_target"
   ]
  },
  {
   "cell_type": "code",
   "execution_count": 9,
   "id": "1fd232ef",
   "metadata": {
    "colab": {
     "base_uri": "https://localhost:8080/",
     "height": 488
    },
    "executionInfo": {
     "elapsed": 6,
     "status": "ok",
     "timestamp": 1629278428525,
     "user": {
      "displayName": "Jangho Kim",
      "photoUrl": "https://lh3.googleusercontent.com/a-/AOh14GhPCKkxpq-7CsKt-Nb1mZOGvtd4FXkkCpdAyOSG-w=s64",
      "userId": "09358696859380980288"
     },
     "user_tz": -540
    },
    "id": "1fd232ef",
    "outputId": "b1b57f20-f7f1-4922-fb55-01189a6575f3"
   },
   "outputs": [
    {
     "data": {
      "text/html": [
       "<div>\n",
       "<style scoped>\n",
       "    .dataframe tbody tr th:only-of-type {\n",
       "        vertical-align: middle;\n",
       "    }\n",
       "\n",
       "    .dataframe tbody tr th {\n",
       "        vertical-align: top;\n",
       "    }\n",
       "\n",
       "    .dataframe thead th {\n",
       "        text-align: right;\n",
       "    }\n",
       "</style>\n",
       "<table border=\"1\" class=\"dataframe\">\n",
       "  <thead>\n",
       "    <tr style=\"text-align: right;\">\n",
       "      <th></th>\n",
       "      <th>NAME_CONTRACT_TYPE</th>\n",
       "      <th>FLAG_OWN_CAR</th>\n",
       "      <th>FLAG_OWN_REALTY</th>\n",
       "      <th>CNT_CHILDREN</th>\n",
       "      <th>AMT_INCOME_TOTAL</th>\n",
       "      <th>AMT_CREDIT</th>\n",
       "      <th>AMT_ANNUITY</th>\n",
       "      <th>AMT_GOODS_PRICE</th>\n",
       "      <th>NAME_EDUCATION_TYPE</th>\n",
       "      <th>REGION_POPULATION_RELATIVE</th>\n",
       "      <th>...</th>\n",
       "      <th>ORGANIZATION_TYPE_Trade: type 4</th>\n",
       "      <th>ORGANIZATION_TYPE_Trade: type 5</th>\n",
       "      <th>ORGANIZATION_TYPE_Trade: type 6</th>\n",
       "      <th>ORGANIZATION_TYPE_Trade: type 7</th>\n",
       "      <th>ORGANIZATION_TYPE_Transport: type 1</th>\n",
       "      <th>ORGANIZATION_TYPE_Transport: type 2</th>\n",
       "      <th>ORGANIZATION_TYPE_Transport: type 3</th>\n",
       "      <th>ORGANIZATION_TYPE_Transport: type 4</th>\n",
       "      <th>ORGANIZATION_TYPE_University</th>\n",
       "      <th>ORGANIZATION_TYPE_XNA</th>\n",
       "    </tr>\n",
       "  </thead>\n",
       "  <tbody>\n",
       "    <tr>\n",
       "      <th>0</th>\n",
       "      <td>0</td>\n",
       "      <td>0</td>\n",
       "      <td>1</td>\n",
       "      <td>0</td>\n",
       "      <td>202500.0</td>\n",
       "      <td>406597.5</td>\n",
       "      <td>24700.5</td>\n",
       "      <td>351000.0</td>\n",
       "      <td>4</td>\n",
       "      <td>0.018801</td>\n",
       "      <td>...</td>\n",
       "      <td>0</td>\n",
       "      <td>0</td>\n",
       "      <td>0</td>\n",
       "      <td>0</td>\n",
       "      <td>0</td>\n",
       "      <td>0</td>\n",
       "      <td>0</td>\n",
       "      <td>0</td>\n",
       "      <td>0</td>\n",
       "      <td>0</td>\n",
       "    </tr>\n",
       "    <tr>\n",
       "      <th>1</th>\n",
       "      <td>0</td>\n",
       "      <td>0</td>\n",
       "      <td>0</td>\n",
       "      <td>0</td>\n",
       "      <td>270000.0</td>\n",
       "      <td>1293502.5</td>\n",
       "      <td>35698.5</td>\n",
       "      <td>1129500.0</td>\n",
       "      <td>1</td>\n",
       "      <td>0.003541</td>\n",
       "      <td>...</td>\n",
       "      <td>0</td>\n",
       "      <td>0</td>\n",
       "      <td>0</td>\n",
       "      <td>0</td>\n",
       "      <td>0</td>\n",
       "      <td>0</td>\n",
       "      <td>0</td>\n",
       "      <td>0</td>\n",
       "      <td>0</td>\n",
       "      <td>0</td>\n",
       "    </tr>\n",
       "    <tr>\n",
       "      <th>2</th>\n",
       "      <td>1</td>\n",
       "      <td>1</td>\n",
       "      <td>1</td>\n",
       "      <td>0</td>\n",
       "      <td>67500.0</td>\n",
       "      <td>135000.0</td>\n",
       "      <td>6750.0</td>\n",
       "      <td>135000.0</td>\n",
       "      <td>4</td>\n",
       "      <td>0.010032</td>\n",
       "      <td>...</td>\n",
       "      <td>0</td>\n",
       "      <td>0</td>\n",
       "      <td>0</td>\n",
       "      <td>0</td>\n",
       "      <td>0</td>\n",
       "      <td>0</td>\n",
       "      <td>0</td>\n",
       "      <td>0</td>\n",
       "      <td>0</td>\n",
       "      <td>0</td>\n",
       "    </tr>\n",
       "    <tr>\n",
       "      <th>3</th>\n",
       "      <td>0</td>\n",
       "      <td>0</td>\n",
       "      <td>1</td>\n",
       "      <td>0</td>\n",
       "      <td>135000.0</td>\n",
       "      <td>312682.5</td>\n",
       "      <td>29686.5</td>\n",
       "      <td>297000.0</td>\n",
       "      <td>4</td>\n",
       "      <td>0.008019</td>\n",
       "      <td>...</td>\n",
       "      <td>0</td>\n",
       "      <td>0</td>\n",
       "      <td>0</td>\n",
       "      <td>0</td>\n",
       "      <td>0</td>\n",
       "      <td>0</td>\n",
       "      <td>0</td>\n",
       "      <td>0</td>\n",
       "      <td>0</td>\n",
       "      <td>0</td>\n",
       "    </tr>\n",
       "    <tr>\n",
       "      <th>4</th>\n",
       "      <td>0</td>\n",
       "      <td>0</td>\n",
       "      <td>1</td>\n",
       "      <td>0</td>\n",
       "      <td>121500.0</td>\n",
       "      <td>513000.0</td>\n",
       "      <td>21865.5</td>\n",
       "      <td>513000.0</td>\n",
       "      <td>4</td>\n",
       "      <td>0.028663</td>\n",
       "      <td>...</td>\n",
       "      <td>0</td>\n",
       "      <td>0</td>\n",
       "      <td>0</td>\n",
       "      <td>0</td>\n",
       "      <td>0</td>\n",
       "      <td>0</td>\n",
       "      <td>0</td>\n",
       "      <td>0</td>\n",
       "      <td>0</td>\n",
       "      <td>0</td>\n",
       "    </tr>\n",
       "    <tr>\n",
       "      <th>...</th>\n",
       "      <td>...</td>\n",
       "      <td>...</td>\n",
       "      <td>...</td>\n",
       "      <td>...</td>\n",
       "      <td>...</td>\n",
       "      <td>...</td>\n",
       "      <td>...</td>\n",
       "      <td>...</td>\n",
       "      <td>...</td>\n",
       "      <td>...</td>\n",
       "      <td>...</td>\n",
       "      <td>...</td>\n",
       "      <td>...</td>\n",
       "      <td>...</td>\n",
       "      <td>...</td>\n",
       "      <td>...</td>\n",
       "      <td>...</td>\n",
       "      <td>...</td>\n",
       "      <td>...</td>\n",
       "      <td>...</td>\n",
       "      <td>...</td>\n",
       "    </tr>\n",
       "    <tr>\n",
       "      <th>303839</th>\n",
       "      <td>0</td>\n",
       "      <td>0</td>\n",
       "      <td>0</td>\n",
       "      <td>0</td>\n",
       "      <td>157500.0</td>\n",
       "      <td>254700.0</td>\n",
       "      <td>27558.0</td>\n",
       "      <td>225000.0</td>\n",
       "      <td>4</td>\n",
       "      <td>0.032561</td>\n",
       "      <td>...</td>\n",
       "      <td>0</td>\n",
       "      <td>0</td>\n",
       "      <td>0</td>\n",
       "      <td>0</td>\n",
       "      <td>0</td>\n",
       "      <td>0</td>\n",
       "      <td>0</td>\n",
       "      <td>0</td>\n",
       "      <td>0</td>\n",
       "      <td>0</td>\n",
       "    </tr>\n",
       "    <tr>\n",
       "      <th>303840</th>\n",
       "      <td>0</td>\n",
       "      <td>0</td>\n",
       "      <td>1</td>\n",
       "      <td>0</td>\n",
       "      <td>72000.0</td>\n",
       "      <td>269550.0</td>\n",
       "      <td>12001.5</td>\n",
       "      <td>225000.0</td>\n",
       "      <td>4</td>\n",
       "      <td>0.025164</td>\n",
       "      <td>...</td>\n",
       "      <td>0</td>\n",
       "      <td>0</td>\n",
       "      <td>0</td>\n",
       "      <td>0</td>\n",
       "      <td>0</td>\n",
       "      <td>0</td>\n",
       "      <td>0</td>\n",
       "      <td>0</td>\n",
       "      <td>0</td>\n",
       "      <td>1</td>\n",
       "    </tr>\n",
       "    <tr>\n",
       "      <th>303841</th>\n",
       "      <td>0</td>\n",
       "      <td>0</td>\n",
       "      <td>1</td>\n",
       "      <td>0</td>\n",
       "      <td>153000.0</td>\n",
       "      <td>677664.0</td>\n",
       "      <td>29979.0</td>\n",
       "      <td>585000.0</td>\n",
       "      <td>1</td>\n",
       "      <td>0.005002</td>\n",
       "      <td>...</td>\n",
       "      <td>0</td>\n",
       "      <td>0</td>\n",
       "      <td>0</td>\n",
       "      <td>0</td>\n",
       "      <td>0</td>\n",
       "      <td>0</td>\n",
       "      <td>0</td>\n",
       "      <td>0</td>\n",
       "      <td>0</td>\n",
       "      <td>0</td>\n",
       "    </tr>\n",
       "    <tr>\n",
       "      <th>303842</th>\n",
       "      <td>0</td>\n",
       "      <td>0</td>\n",
       "      <td>1</td>\n",
       "      <td>0</td>\n",
       "      <td>171000.0</td>\n",
       "      <td>370107.0</td>\n",
       "      <td>20205.0</td>\n",
       "      <td>319500.0</td>\n",
       "      <td>4</td>\n",
       "      <td>0.005313</td>\n",
       "      <td>...</td>\n",
       "      <td>0</td>\n",
       "      <td>0</td>\n",
       "      <td>0</td>\n",
       "      <td>0</td>\n",
       "      <td>0</td>\n",
       "      <td>0</td>\n",
       "      <td>0</td>\n",
       "      <td>0</td>\n",
       "      <td>0</td>\n",
       "      <td>0</td>\n",
       "    </tr>\n",
       "    <tr>\n",
       "      <th>303843</th>\n",
       "      <td>0</td>\n",
       "      <td>0</td>\n",
       "      <td>0</td>\n",
       "      <td>0</td>\n",
       "      <td>157500.0</td>\n",
       "      <td>675000.0</td>\n",
       "      <td>49117.5</td>\n",
       "      <td>675000.0</td>\n",
       "      <td>1</td>\n",
       "      <td>0.046220</td>\n",
       "      <td>...</td>\n",
       "      <td>0</td>\n",
       "      <td>0</td>\n",
       "      <td>0</td>\n",
       "      <td>0</td>\n",
       "      <td>0</td>\n",
       "      <td>0</td>\n",
       "      <td>0</td>\n",
       "      <td>0</td>\n",
       "      <td>0</td>\n",
       "      <td>0</td>\n",
       "    </tr>\n",
       "  </tbody>\n",
       "</table>\n",
       "<p>303844 rows × 142 columns</p>\n",
       "</div>"
      ],
      "text/plain": [
       "        NAME_CONTRACT_TYPE  FLAG_OWN_CAR  FLAG_OWN_REALTY  CNT_CHILDREN  \\\n",
       "0                        0             0                1             0   \n",
       "1                        0             0                0             0   \n",
       "2                        1             1                1             0   \n",
       "3                        0             0                1             0   \n",
       "4                        0             0                1             0   \n",
       "...                    ...           ...              ...           ...   \n",
       "303839                   0             0                0             0   \n",
       "303840                   0             0                1             0   \n",
       "303841                   0             0                1             0   \n",
       "303842                   0             0                1             0   \n",
       "303843                   0             0                0             0   \n",
       "\n",
       "        AMT_INCOME_TOTAL  AMT_CREDIT  AMT_ANNUITY  AMT_GOODS_PRICE  \\\n",
       "0               202500.0    406597.5      24700.5         351000.0   \n",
       "1               270000.0   1293502.5      35698.5        1129500.0   \n",
       "2                67500.0    135000.0       6750.0         135000.0   \n",
       "3               135000.0    312682.5      29686.5         297000.0   \n",
       "4               121500.0    513000.0      21865.5         513000.0   \n",
       "...                  ...         ...          ...              ...   \n",
       "303839          157500.0    254700.0      27558.0         225000.0   \n",
       "303840           72000.0    269550.0      12001.5         225000.0   \n",
       "303841          153000.0    677664.0      29979.0         585000.0   \n",
       "303842          171000.0    370107.0      20205.0         319500.0   \n",
       "303843          157500.0    675000.0      49117.5         675000.0   \n",
       "\n",
       "        NAME_EDUCATION_TYPE  REGION_POPULATION_RELATIVE  ...  \\\n",
       "0                         4                    0.018801  ...   \n",
       "1                         1                    0.003541  ...   \n",
       "2                         4                    0.010032  ...   \n",
       "3                         4                    0.008019  ...   \n",
       "4                         4                    0.028663  ...   \n",
       "...                     ...                         ...  ...   \n",
       "303839                    4                    0.032561  ...   \n",
       "303840                    4                    0.025164  ...   \n",
       "303841                    1                    0.005002  ...   \n",
       "303842                    4                    0.005313  ...   \n",
       "303843                    1                    0.046220  ...   \n",
       "\n",
       "        ORGANIZATION_TYPE_Trade: type 4  ORGANIZATION_TYPE_Trade: type 5  \\\n",
       "0                                     0                                0   \n",
       "1                                     0                                0   \n",
       "2                                     0                                0   \n",
       "3                                     0                                0   \n",
       "4                                     0                                0   \n",
       "...                                 ...                              ...   \n",
       "303839                                0                                0   \n",
       "303840                                0                                0   \n",
       "303841                                0                                0   \n",
       "303842                                0                                0   \n",
       "303843                                0                                0   \n",
       "\n",
       "        ORGANIZATION_TYPE_Trade: type 6  ORGANIZATION_TYPE_Trade: type 7  \\\n",
       "0                                     0                                0   \n",
       "1                                     0                                0   \n",
       "2                                     0                                0   \n",
       "3                                     0                                0   \n",
       "4                                     0                                0   \n",
       "...                                 ...                              ...   \n",
       "303839                                0                                0   \n",
       "303840                                0                                0   \n",
       "303841                                0                                0   \n",
       "303842                                0                                0   \n",
       "303843                                0                                0   \n",
       "\n",
       "        ORGANIZATION_TYPE_Transport: type 1  \\\n",
       "0                                         0   \n",
       "1                                         0   \n",
       "2                                         0   \n",
       "3                                         0   \n",
       "4                                         0   \n",
       "...                                     ...   \n",
       "303839                                    0   \n",
       "303840                                    0   \n",
       "303841                                    0   \n",
       "303842                                    0   \n",
       "303843                                    0   \n",
       "\n",
       "        ORGANIZATION_TYPE_Transport: type 2  \\\n",
       "0                                         0   \n",
       "1                                         0   \n",
       "2                                         0   \n",
       "3                                         0   \n",
       "4                                         0   \n",
       "...                                     ...   \n",
       "303839                                    0   \n",
       "303840                                    0   \n",
       "303841                                    0   \n",
       "303842                                    0   \n",
       "303843                                    0   \n",
       "\n",
       "        ORGANIZATION_TYPE_Transport: type 3  \\\n",
       "0                                         0   \n",
       "1                                         0   \n",
       "2                                         0   \n",
       "3                                         0   \n",
       "4                                         0   \n",
       "...                                     ...   \n",
       "303839                                    0   \n",
       "303840                                    0   \n",
       "303841                                    0   \n",
       "303842                                    0   \n",
       "303843                                    0   \n",
       "\n",
       "        ORGANIZATION_TYPE_Transport: type 4  ORGANIZATION_TYPE_University  \\\n",
       "0                                         0                             0   \n",
       "1                                         0                             0   \n",
       "2                                         0                             0   \n",
       "3                                         0                             0   \n",
       "4                                         0                             0   \n",
       "...                                     ...                           ...   \n",
       "303839                                    0                             0   \n",
       "303840                                    0                             0   \n",
       "303841                                    0                             0   \n",
       "303842                                    0                             0   \n",
       "303843                                    0                             0   \n",
       "\n",
       "        ORGANIZATION_TYPE_XNA  \n",
       "0                           0  \n",
       "1                           0  \n",
       "2                           0  \n",
       "3                           0  \n",
       "4                           0  \n",
       "...                       ...  \n",
       "303839                      0  \n",
       "303840                      1  \n",
       "303841                      0  \n",
       "303842                      0  \n",
       "303843                      0  \n",
       "\n",
       "[303844 rows x 142 columns]"
      ]
     },
     "execution_count": 9,
     "metadata": {},
     "output_type": "execute_result"
    }
   ],
   "source": [
    "X_features"
   ]
  },
  {
   "cell_type": "code",
   "execution_count": 10,
   "id": "17a9a3cf",
   "metadata": {
    "executionInfo": {
     "elapsed": 1658,
     "status": "ok",
     "timestamp": 1629278430179,
     "user": {
      "displayName": "Jangho Kim",
      "photoUrl": "https://lh3.googleusercontent.com/a-/AOh14GhPCKkxpq-7CsKt-Nb1mZOGvtd4FXkkCpdAyOSG-w=s64",
      "userId": "09358696859380980288"
     },
     "user_tz": -540
    },
    "id": "17a9a3cf"
   },
   "outputs": [],
   "source": [
    "# 학습/테스트 데이터 세트 분리\n",
    "X_train , X_test , y_train , y_test = train_test_split(X_features , y_target, test_size=0.2, stratify=y_target, random_state=2021)"
   ]
  },
  {
   "cell_type": "code",
   "execution_count": 34,
   "id": "0c9fbef6",
   "metadata": {
    "executionInfo": {
     "elapsed": 8,
     "status": "ok",
     "timestamp": 1629278430180,
     "user": {
      "displayName": "Jangho Kim",
      "photoUrl": "https://lh3.googleusercontent.com/a-/AOh14GhPCKkxpq-7CsKt-Nb1mZOGvtd4FXkkCpdAyOSG-w=s64",
      "userId": "09358696859380980288"
     },
     "user_tz": -540
    },
    "id": "0c9fbef6"
   },
   "outputs": [],
   "source": [
    "def get_clf_eval(y_test, pred=None, pred_proba=None):\n",
    "    confusion = confusion_matrix(y_test, pred) # 오차행렬\n",
    "    accuracy = accuracy_score(y_test, pred)    # 정확도\n",
    "    precision = precision_score(y_test, pred)  # 정밀도\n",
    "    recall = recall_score(y_test, pred)        # 재현율\n",
    "    \n",
    "    # F1 스코어 추가\n",
    "    f1 = f1_score(y_test, pred)\n",
    "    print(\"오차 행렬\")\n",
    "    print(confusion)\n",
    "    \n",
    "    # ROC-AUC 추가   \n",
    "    roc_auc = roc_auc_score(y_test, pred_proba)\n",
    "    \n",
    "    print('정확도 : {0:.4f}, 정밀도: {1:.4f}, 재현율 : {2:.4f},\\\n",
    "    F1 : {3:.4f}, AUC:{4:.4f}'.format(accuracy, precision, recall, f1, roc_auc))"
   ]
  },
  {
   "cell_type": "code",
   "execution_count": 12,
   "id": "e9af952d",
   "metadata": {
    "colab": {
     "base_uri": "https://localhost:8080/"
    },
    "executionInfo": {
     "elapsed": 67117,
     "status": "ok",
     "timestamp": 1629278498652,
     "user": {
      "displayName": "Jangho Kim",
      "photoUrl": "https://lh3.googleusercontent.com/a-/AOh14GhPCKkxpq-7CsKt-Nb1mZOGvtd4FXkkCpdAyOSG-w=s64",
      "userId": "09358696859380980288"
     },
     "user_tz": -540
    },
    "id": "e9af952d",
    "outputId": "0e4e5dac-da1b-4e4f-fc3b-0c458c8bfd2a"
   },
   "outputs": [
    {
     "name": "stderr",
     "output_type": "stream",
     "text": [
      "[Parallel(n_jobs=-1)]: Using backend ThreadingBackend with 4 concurrent workers.\n",
      "[Parallel(n_jobs=-1)]: Done  42 tasks      | elapsed:   38.8s\n",
      "[Parallel(n_jobs=-1)]: Done 100 out of 100 | elapsed:  1.5min finished\n",
      "[Parallel(n_jobs=4)]: Using backend ThreadingBackend with 4 concurrent workers.\n",
      "[Parallel(n_jobs=4)]: Done  42 tasks      | elapsed:    0.9s\n"
     ]
    },
    {
     "name": "stdout",
     "output_type": "stream",
     "text": [
      "AUC:0.7251\n",
      "수행 시간 : 316.1\n"
     ]
    },
    {
     "name": "stderr",
     "output_type": "stream",
     "text": [
      "[Parallel(n_jobs=4)]: Done 100 out of 100 | elapsed:    2.0s finished\n"
     ]
    }
   ],
   "source": [
    "# Randomforest AUC 산출\n",
    "\n",
    "rf_clf = RandomForestClassifier(random_state=2021, verbose = 1, n_jobs = -1)\n",
    "rf_clf.fit(X_train, y_train) # 학습\n",
    "\n",
    "pred = rf_clf.predict(X_test)\n",
    "pred_probas = rf_clf.predict_proba(X_test)[:,1] # 예측\n",
    "\n",
    "roc_auc = roc_auc_score(y_test, pred_probas)\n",
    "print('AUC:{0:.4f}'.format(roc_auc))\n",
    "print('수행 시간 : {0:.1f}'.format(time.time() - start_time))"
   ]
  },
  {
   "cell_type": "code",
   "execution_count": 32,
   "id": "4afc1478",
   "metadata": {},
   "outputs": [
    {
     "name": "stderr",
     "output_type": "stream",
     "text": [
      "[Parallel(n_jobs=4)]: Using backend ThreadingBackend with 4 concurrent workers.\n",
      "[Parallel(n_jobs=4)]: Done  42 tasks      | elapsed:    0.1s\n",
      "[Parallel(n_jobs=4)]: Done 192 tasks      | elapsed:    0.4s\n",
      "[Parallel(n_jobs=4)]: Done 442 tasks      | elapsed:    1.1s\n",
      "[Parallel(n_jobs=4)]: Done 792 tasks      | elapsed:    1.9s\n",
      "[Parallel(n_jobs=4)]: Done 1242 tasks      | elapsed:    2.9s\n",
      "[Parallel(n_jobs=4)]: Done 1792 tasks      | elapsed:    4.1s\n",
      "[Parallel(n_jobs=4)]: Done 2442 tasks      | elapsed:    5.6s\n",
      "[Parallel(n_jobs=4)]: Done 3192 tasks      | elapsed:    7.3s\n",
      "[Parallel(n_jobs=4)]: Done 4000 out of 4000 | elapsed:    9.1s finished\n"
     ]
    },
    {
     "data": {
      "text/plain": [
       "array([0.11, 0.02, 0.15, ..., 0.12, 0.12, 0.13])"
      ]
     },
     "execution_count": 32,
     "metadata": {},
     "output_type": "execute_result"
    }
   ],
   "source": [
    "pred = rf_clf.predict(X_test)\n",
    "pred_probas"
   ]
  },
  {
   "cell_type": "code",
   "execution_count": 41,
   "id": "c4fa76ba",
   "metadata": {},
   "outputs": [
    {
     "data": {
      "text/plain": [
       "array([0.])"
      ]
     },
     "execution_count": 41,
     "metadata": {},
     "output_type": "execute_result"
    }
   ],
   "source": [
    "np.unique(pred)"
   ]
  },
  {
   "cell_type": "code",
   "execution_count": null,
   "id": "9f315afa",
   "metadata": {
    "colab": {
     "background_save": true,
     "base_uri": "https://localhost:8080/"
    },
    "id": "9f315afa",
    "outputId": "618ebd1d-00dc-4ae8-fa2f-73de527ac79c"
   },
   "outputs": [
    {
     "name": "stderr",
     "output_type": "stream",
     "text": [
      "[Parallel(n_jobs=-1)]: Using backend ThreadingBackend with 2 concurrent workers.\n",
      "[Parallel(n_jobs=-1)]: Done  46 tasks      | elapsed:   24.3s\n"
     ]
    },
    {
     "name": "stdout",
     "output_type": "stream",
     "text": [
      "최적 하이퍼 파라미터 : \n",
      " {'max_depth': 12, 'min_samples_leaf': 12, 'min_samples_split': 8, 'n_estimators': 100}\n",
      "최고 예측 정확도 : \n",
      " 0.7469021233124726\n",
      "수행 시간 : 3040.3\n"
     ]
    },
    {
     "name": "stderr",
     "output_type": "stream",
     "text": [
      "[Parallel(n_jobs=-1)]: Done 100 out of 100 | elapsed:   52.4s finished\n"
     ]
    }
   ],
   "source": [
    "params = {\n",
    "    'n_estimators' : [100], # 1차적으로 100으로 하고, 나중에 최적화되면 늘려서 최종 예측\n",
    "    'max_depth' : [6, 8, 10, 12],\n",
    "    'min_samples_leaf' : [8, 12, 18],\n",
    "    'min_samples_split' : [8, 10, 20] # 4 x 3 x 3: 36번\n",
    "}\n",
    "\n",
    "rf_clf = RandomForestClassifier(random_state=2021, verbose = 1, n_jobs = -1)\n",
    "\n",
    "# n_jobs = -1 : 전체 CPU Core를 다 활용하라는 것임\n",
    "# 개인 PC가 굉장히 많은 수행 성능을 차지하니까 느려짐\n",
    "# 길게 걸릴 수 있음\n",
    "\n",
    "grid_cv = GridSearchCV(rf_clf, param_grid=params, cv=3, n_jobs=-1, scoring='roc_auc')\n",
    "grid_cv.fit(X_train, y_train)\n",
    "# cv = 2 : 너무 많게 설정하면 실행 시간이 오래 걸림 (총 72번 수행 : 36 x 2)\n",
    "print('최적 하이퍼 파라미터 : \\n', grid_cv.best_params_)\n",
    "print('최고 예측 성능 : \\n', grid_cv.best_score_)\n",
    "print('수행 시간 : {0:.1f}'.format(time.time() - start_time))\n"
   ]
  },
  {
   "cell_type": "code",
   "execution_count": null,
   "id": "98bbc165",
   "metadata": {
    "colab": {
     "base_uri": "https://localhost:8080/"
    },
    "id": "98bbc165",
    "outputId": "2fde2b6e-3524-4b6b-8a42-39f3c02d1e56"
   },
   "outputs": [
    {
     "name": "stderr",
     "output_type": "stream",
     "text": [
      "[Parallel(n_jobs=-1)]: Using backend ThreadingBackend with 4 concurrent workers.\n",
      "[Parallel(n_jobs=-1)]: Done  42 tasks      | elapsed:    7.7s\n",
      "[Parallel(n_jobs=-1)]: Done 192 tasks      | elapsed:   34.2s\n",
      "[Parallel(n_jobs=-1)]: Done 442 tasks      | elapsed:  1.3min\n",
      "[Parallel(n_jobs=-1)]: Done 792 tasks      | elapsed:  2.3min\n",
      "[Parallel(n_jobs=-1)]: Done 1242 tasks      | elapsed:  3.7min\n",
      "[Parallel(n_jobs=-1)]: Done 1792 tasks      | elapsed:  5.3min\n",
      "[Parallel(n_jobs=-1)]: Done 2000 out of 2000 | elapsed:  6.3min finished\n",
      "[Parallel(n_jobs=4)]: Using backend ThreadingBackend with 4 concurrent workers.\n",
      "[Parallel(n_jobs=4)]: Done  42 tasks      | elapsed:    0.4s\n",
      "[Parallel(n_jobs=4)]: Done 192 tasks      | elapsed:    1.6s\n",
      "[Parallel(n_jobs=4)]: Done 442 tasks      | elapsed:    3.4s\n",
      "[Parallel(n_jobs=4)]: Done 792 tasks      | elapsed:    6.0s\n",
      "[Parallel(n_jobs=4)]: Done 1242 tasks      | elapsed:    9.3s\n",
      "[Parallel(n_jobs=4)]: Done 1792 tasks      | elapsed:   13.3s\n"
     ]
    },
    {
     "name": "stdout",
     "output_type": "stream",
     "text": [
      "AUC:0.7494\n",
      "수행 시간 : 3699.1\n"
     ]
    },
    {
     "name": "stderr",
     "output_type": "stream",
     "text": [
      "[Parallel(n_jobs=4)]: Done 2000 out of 2000 | elapsed:   14.8s finished\n"
     ]
    }
   ],
   "source": [
    "# 하이퍼 파라미터 튜닝 후(n=2000) 학습/예측/평가\n",
    "\n",
    "rf_clf = RandomForestClassifier(n_estimators=2000, \n",
    "                                max_depth=12,\n",
    "                                min_samples_leaf=12,\n",
    "                                min_samples_split=8,\n",
    "                                random_state=2021, verbose = 1, n_jobs = -1)\n",
    "rf_clf.fit(X_train, y_train) # 학습\n",
    "\n",
    "pred_probas = rf_clf.predict_proba(X_test)[:,1] # 예측\n",
    "\n",
    "print('AUC:{0:.4f}'.format(roc_auc))\n",
    "print('수행 시간 : {0:.1f}'.format(time.time() - start_time))"
   ]
  },
  {
   "cell_type": "code",
   "execution_count": null,
   "id": "JFe3qHiIpzeh",
   "metadata": {
    "colab": {
     "base_uri": "https://localhost:8080/"
    },
    "id": "JFe3qHiIpzeh",
    "outputId": "6abdd07a-48a9-48f1-cdbb-fce958c1ccaf"
   },
   "outputs": [
    {
     "name": "stderr",
     "output_type": "stream",
     "text": [
      "[Parallel(n_jobs=-1)]: Using backend ThreadingBackend with 2 concurrent workers.\n",
      "[Parallel(n_jobs=-1)]: Done  46 tasks      | elapsed:   16.5s\n",
      "[Parallel(n_jobs=-1)]: Done 196 tasks      | elapsed:  1.2min\n",
      "[Parallel(n_jobs=-1)]: Done 446 tasks      | elapsed:  2.7min\n",
      "[Parallel(n_jobs=-1)]: Done 796 tasks      | elapsed:  4.8min\n",
      "[Parallel(n_jobs=-1)]: Done 1246 tasks      | elapsed:  7.5min\n",
      "[Parallel(n_jobs=-1)]: Done 1796 tasks      | elapsed: 10.8min\n",
      "[Parallel(n_jobs=-1)]: Done 2446 tasks      | elapsed: 14.7min\n",
      "[Parallel(n_jobs=-1)]: Done 3196 tasks      | elapsed: 19.1min\n"
     ]
    },
    {
     "name": "stdout",
     "output_type": "stream",
     "text": [
      "최적 하이퍼 파라미터 : \n",
      " {'n_estimators': 4000}\n",
      "최고 예측 정확도 : \n",
      " 0.7494391062549379\n",
      "수행 시간 : 11238.0\n"
     ]
    },
    {
     "name": "stderr",
     "output_type": "stream",
     "text": [
      "[Parallel(n_jobs=-1)]: Done 4000 out of 4000 | elapsed: 23.9min finished\n"
     ]
    }
   ],
   "source": [
    "params = {\n",
    "    'n_estimators' : [100,500,1000,2000,4000], # 1차적으로 100으로 하고, 나중에 최적화되면 늘려서 최종 예측\n",
    "}\n",
    "\n",
    "rf_clf = RandomForestClassifier( \n",
    "                                max_depth=12,\n",
    "                                min_samples_leaf=12,\n",
    "                                min_samples_split=8,\n",
    "                                random_state=2021, verbose = 1, n_jobs = -1)\n",
    "\n",
    "# n_jobs = -1 : 전체 CPU Core를 다 활용하라는 것임\n",
    "# 개인 PC가 굉장히 많은 수행 성능을 차지하니까 느려짐\n",
    "# 길게 걸릴 수 있음\n",
    "\n",
    "grid_cv = GridSearchCV(rf_clf, param_grid=params, cv=3, n_jobs=-1, scoring='roc_auc')\n",
    "grid_cv.fit(X_train, y_train)\n",
    "# cv = 2 : 너무 많게 설정하면 실행 시간이 오래 걸림 (총 72번 수행 : 36 x 2)\n",
    "print('최적 하이퍼 파라미터 : \\n', grid_cv.best_params_)\n",
    "print('최고 예측 정확도 : \\n', grid_cv.best_score_)\n",
    "print('수행 시간 : {0:.1f}'.format(time.time() - start_time))\n",
    "# 'max_depth': 10\n",
    "# 'min_samples_leaf': 8 \n",
    "# 'min_samples_split': 8"
   ]
  },
  {
   "cell_type": "code",
   "execution_count": null,
   "id": "763d9367",
   "metadata": {
    "id": "763d9367",
    "outputId": "f780ef10-0bab-4d57-a88a-d2b819a12c3e"
   },
   "outputs": [
    {
     "name": "stderr",
     "output_type": "stream",
     "text": [
      "[Parallel(n_jobs=-1)]: Using backend ThreadingBackend with 4 concurrent workers.\n",
      "[Parallel(n_jobs=-1)]: Done  42 tasks      | elapsed:    7.8s\n",
      "[Parallel(n_jobs=-1)]: Done 100 out of 100 | elapsed:   17.9s finished\n",
      "[Parallel(n_jobs=4)]: Using backend ThreadingBackend with 4 concurrent workers.\n",
      "[Parallel(n_jobs=4)]: Done  42 tasks      | elapsed:    0.1s\n",
      "[Parallel(n_jobs=4)]: Done 100 out of 100 | elapsed:    0.3s finished\n"
     ]
    },
    {
     "name": "stdout",
     "output_type": "stream",
     "text": [
      "교차 검증 0 auc : 0.7496\n"
     ]
    },
    {
     "name": "stderr",
     "output_type": "stream",
     "text": [
      "[Parallel(n_jobs=-1)]: Using backend ThreadingBackend with 4 concurrent workers.\n",
      "[Parallel(n_jobs=-1)]: Done  42 tasks      | elapsed:    7.8s\n",
      "[Parallel(n_jobs=-1)]: Done 100 out of 100 | elapsed:   17.9s finished\n",
      "[Parallel(n_jobs=4)]: Using backend ThreadingBackend with 4 concurrent workers.\n",
      "[Parallel(n_jobs=4)]: Done  42 tasks      | elapsed:    0.1s\n",
      "[Parallel(n_jobs=4)]: Done 100 out of 100 | elapsed:    0.3s finished\n"
     ]
    },
    {
     "name": "stdout",
     "output_type": "stream",
     "text": [
      "교차 검증 1 auc : 0.7495\n"
     ]
    },
    {
     "name": "stderr",
     "output_type": "stream",
     "text": [
      "[Parallel(n_jobs=-1)]: Using backend ThreadingBackend with 4 concurrent workers.\n",
      "[Parallel(n_jobs=-1)]: Done  42 tasks      | elapsed:    7.7s\n",
      "[Parallel(n_jobs=-1)]: Done 100 out of 100 | elapsed:   17.8s finished\n",
      "[Parallel(n_jobs=4)]: Using backend ThreadingBackend with 4 concurrent workers.\n",
      "[Parallel(n_jobs=4)]: Done  42 tasks      | elapsed:    0.1s\n",
      "[Parallel(n_jobs=4)]: Done 100 out of 100 | elapsed:    0.3s finished\n"
     ]
    },
    {
     "name": "stdout",
     "output_type": "stream",
     "text": [
      "교차 검증 2 auc : 0.7404\n"
     ]
    },
    {
     "name": "stderr",
     "output_type": "stream",
     "text": [
      "[Parallel(n_jobs=-1)]: Using backend ThreadingBackend with 4 concurrent workers.\n",
      "[Parallel(n_jobs=-1)]: Done  42 tasks      | elapsed:    7.8s\n",
      "[Parallel(n_jobs=-1)]: Done 100 out of 100 | elapsed:   17.9s finished\n",
      "[Parallel(n_jobs=4)]: Using backend ThreadingBackend with 4 concurrent workers.\n",
      "[Parallel(n_jobs=4)]: Done  42 tasks      | elapsed:    0.1s\n",
      "[Parallel(n_jobs=4)]: Done 100 out of 100 | elapsed:    0.3s finished\n"
     ]
    },
    {
     "name": "stdout",
     "output_type": "stream",
     "text": [
      "교차 검증 3 auc : 0.7483\n"
     ]
    },
    {
     "name": "stderr",
     "output_type": "stream",
     "text": [
      "[Parallel(n_jobs=-1)]: Using backend ThreadingBackend with 4 concurrent workers.\n",
      "[Parallel(n_jobs=-1)]: Done  42 tasks      | elapsed:    7.8s\n",
      "[Parallel(n_jobs=-1)]: Done 100 out of 100 | elapsed:   17.8s finished\n",
      "[Parallel(n_jobs=4)]: Using backend ThreadingBackend with 4 concurrent workers.\n",
      "[Parallel(n_jobs=4)]: Done  42 tasks      | elapsed:    0.1s\n"
     ]
    },
    {
     "name": "stdout",
     "output_type": "stream",
     "text": [
      "교차 검증 4 auc : 0.7492\n",
      "평균 auc : 0.7474\n"
     ]
    },
    {
     "name": "stderr",
     "output_type": "stream",
     "text": [
      "[Parallel(n_jobs=4)]: Done 100 out of 100 | elapsed:    0.3s finished\n"
     ]
    }
   ],
   "source": [
    "# 결정 트리 모델에 대해 KFold 클래스를 이용해 교차 검증 수행\n",
    "# Fold 개수 : 5\n",
    "\n",
    "rf_clf = RandomForestClassifier(n_estimators=100, \n",
    "                                max_depth=12,\n",
    "                                min_samples_leaf=12,\n",
    "                                min_samples_split=8,\n",
    "                                random_state=2021, verbose = 1, n_jobs = -1)\n",
    "def exec_kfold(clf, folds) :\n",
    "    # Fold set이 5개인 KFold 객체 생성\n",
    "    kfold = KFold(n_splits=folds)\n",
    "    # 예측 평균 정확도 저장을 위한 리스트 객체 생성\n",
    "    scores = []\n",
    "    \n",
    "    # KFold 교차 검증 수행 : enumerate(), iter_count(자동 증가) 사용\n",
    "    for iter_count, (train_index, test_index) in enumerate(kfold.split(X_features)):\n",
    "        # X_titanic_df 데이터에서 교차 검증별로 학습/검증 데이터를 가리키는 index생성\n",
    "        X_train_kfold, X_test_kfold = X_features.values[train_index], X_features.values[test_index] # 피처 데이터\n",
    "        y_train_kfold, y_test_kfold = y_target.values[train_index], y_target.values[test_index] # 레이블 데이터\n",
    "        \n",
    "        # classifier 학습/예측/정확도 계산\n",
    "        clf.fit(X_train_kfold, y_train_kfold)\n",
    "        pred_probas = rf_clf.predict_proba(X_test_kfold)[:,1]\n",
    "        roc_auc = roc_auc_score(y_test_kfold, pred_probas)\n",
    "        \n",
    "        scores.append(roc_auc)\n",
    "        \n",
    "        print('교차 검증 {0} auc : {1:.4f}'.format(iter_count, roc_auc))\n",
    "    \n",
    "    # 5개 fold set에서 평균 정확도 계산\n",
    "    mean_score = np.mean(scores)\n",
    "    \n",
    "    print('평균 auc : {0:.4f}'.format(mean_score))\n",
    "\n",
    "exec_kfold(rf_clf, folds=5)"
   ]
  },
  {
   "cell_type": "code",
   "execution_count": null,
   "id": "0064af51",
   "metadata": {
    "id": "0064af51",
    "outputId": "9817adb8-771a-4d45-aeb3-c57a8eb732ac"
   },
   "outputs": [
    {
     "name": "stderr",
     "output_type": "stream",
     "text": [
      "[Parallel(n_jobs=-1)]: Using backend LokyBackend with 4 concurrent workers.\n",
      "[Parallel(n_jobs=-1)]: Done  42 tasks      | elapsed:    8.5s\n",
      "[Parallel(n_jobs=-1)]: Done 100 out of 100 | elapsed:   19.6s finished\n",
      "[Parallel(n_jobs=4)]: Using backend ThreadingBackend with 4 concurrent workers.\n",
      "[Parallel(n_jobs=4)]: Done  42 tasks      | elapsed:    0.1s\n",
      "[Parallel(n_jobs=4)]: Done 100 out of 100 | elapsed:    0.3s finished\n",
      "[Parallel(n_jobs=-1)]: Using backend LokyBackend with 4 concurrent workers.\n",
      "[Parallel(n_jobs=-1)]: Done  42 tasks      | elapsed:    8.4s\n",
      "[Parallel(n_jobs=-1)]: Done 100 out of 100 | elapsed:   19.2s finished\n",
      "[Parallel(n_jobs=4)]: Using backend ThreadingBackend with 4 concurrent workers.\n",
      "[Parallel(n_jobs=4)]: Done  42 tasks      | elapsed:    0.2s\n",
      "[Parallel(n_jobs=4)]: Done 100 out of 100 | elapsed:    0.3s finished\n",
      "[Parallel(n_jobs=-1)]: Using backend LokyBackend with 4 concurrent workers.\n",
      "[Parallel(n_jobs=-1)]: Done  42 tasks      | elapsed:    8.4s\n",
      "[Parallel(n_jobs=-1)]: Done 100 out of 100 | elapsed:   19.4s finished\n",
      "[Parallel(n_jobs=4)]: Using backend ThreadingBackend with 4 concurrent workers.\n",
      "[Parallel(n_jobs=4)]: Done  42 tasks      | elapsed:    0.2s\n",
      "[Parallel(n_jobs=4)]: Done 100 out of 100 | elapsed:    0.3s finished\n",
      "[Parallel(n_jobs=-1)]: Using backend LokyBackend with 4 concurrent workers.\n",
      "[Parallel(n_jobs=-1)]: Done  42 tasks      | elapsed:    8.3s\n",
      "[Parallel(n_jobs=-1)]: Done 100 out of 100 | elapsed:   19.3s finished\n",
      "[Parallel(n_jobs=4)]: Using backend ThreadingBackend with 4 concurrent workers.\n",
      "[Parallel(n_jobs=4)]: Done  42 tasks      | elapsed:    0.2s\n",
      "[Parallel(n_jobs=4)]: Done 100 out of 100 | elapsed:    0.3s finished\n",
      "[Parallel(n_jobs=-1)]: Using backend LokyBackend with 4 concurrent workers.\n",
      "[Parallel(n_jobs=-1)]: Done  42 tasks      | elapsed:    8.4s\n",
      "[Parallel(n_jobs=-1)]: Done 100 out of 100 | elapsed:   19.1s finished\n",
      "[Parallel(n_jobs=4)]: Using backend ThreadingBackend with 4 concurrent workers.\n",
      "[Parallel(n_jobs=4)]: Done  42 tasks      | elapsed:    0.1s\n",
      "[Parallel(n_jobs=4)]: Done 100 out of 100 | elapsed:    0.3s finished\n"
     ]
    },
    {
     "name": "stdout",
     "output_type": "stream",
     "text": [
      "교차 검증 0 auc : 0.7490\n",
      "교차 검증 1 auc : 0.7503\n",
      "교차 검증 2 auc : 0.7432\n",
      "교차 검증 3 auc : 0.7486\n",
      "교차 검증 4 auc : 0.7494\n",
      "평균 score : 0.7481\n"
     ]
    }
   ],
   "source": [
    "# cross_val_score() 이용해서 교차 검증수행\n",
    "from sklearn.model_selection import cross_val_score\n",
    "\n",
    "# cross_val_score(estimator, data, label, Fold수)\n",
    "scores = cross_val_score(rf_clf, X_features, y_target,scoring='roc_auc', cv=5)\n",
    "\n",
    "for iter_count, roc_auc in enumerate(scores):\n",
    "    print('교차 검증 {0} auc : {1:.4f}'.format(iter_count, roc_auc))\n",
    "print('평균 score : {0:.4f}'.format(np.mean(scores)))\n",
    "\n",
    "# 결과 "
   ]
  },
  {
   "cell_type": "code",
   "execution_count": null,
   "id": "8b948238",
   "metadata": {
    "id": "8b948238"
   },
   "outputs": [],
   "source": []
  },
  {
   "cell_type": "code",
   "execution_count": 11,
   "id": "ca12e9e7",
   "metadata": {
    "colab": {
     "base_uri": "https://localhost:8080/"
    },
    "executionInfo": {
     "elapsed": 1442741,
     "status": "ok",
     "timestamp": 1629279941389,
     "user": {
      "displayName": "Jangho Kim",
      "photoUrl": "https://lh3.googleusercontent.com/a-/AOh14GhPCKkxpq-7CsKt-Nb1mZOGvtd4FXkkCpdAyOSG-w=s64",
      "userId": "09358696859380980288"
     },
     "user_tz": -540
    },
    "id": "ca12e9e7",
    "outputId": "956b7cca-b30e-4032-cc93-4bc607708aa8"
   },
   "outputs": [
    {
     "name": "stderr",
     "output_type": "stream",
     "text": [
      "[Parallel(n_jobs=-1)]: Using backend ThreadingBackend with 2 concurrent workers.\n",
      "[Parallel(n_jobs=-1)]: Done  46 tasks      | elapsed:   16.3s\n",
      "[Parallel(n_jobs=-1)]: Done 196 tasks      | elapsed:  1.2min\n",
      "[Parallel(n_jobs=-1)]: Done 446 tasks      | elapsed:  2.6min\n",
      "[Parallel(n_jobs=-1)]: Done 796 tasks      | elapsed:  4.7min\n",
      "[Parallel(n_jobs=-1)]: Done 1246 tasks      | elapsed:  7.4min\n",
      "[Parallel(n_jobs=-1)]: Done 1796 tasks      | elapsed: 10.6min\n",
      "[Parallel(n_jobs=-1)]: Done 2446 tasks      | elapsed: 14.5min\n",
      "[Parallel(n_jobs=-1)]: Done 3196 tasks      | elapsed: 18.9min\n",
      "[Parallel(n_jobs=-1)]: Done 4000 out of 4000 | elapsed: 23.6min finished\n",
      "[Parallel(n_jobs=2)]: Using backend ThreadingBackend with 2 concurrent workers.\n",
      "[Parallel(n_jobs=2)]: Done  46 tasks      | elapsed:    0.3s\n",
      "[Parallel(n_jobs=2)]: Done 196 tasks      | elapsed:    1.2s\n",
      "[Parallel(n_jobs=2)]: Done 446 tasks      | elapsed:    2.7s\n",
      "[Parallel(n_jobs=2)]: Done 796 tasks      | elapsed:    4.8s\n",
      "[Parallel(n_jobs=2)]: Done 1246 tasks      | elapsed:    7.5s\n",
      "[Parallel(n_jobs=2)]: Done 1796 tasks      | elapsed:   10.7s\n",
      "[Parallel(n_jobs=2)]: Done 2446 tasks      | elapsed:   14.6s\n",
      "[Parallel(n_jobs=2)]: Done 3196 tasks      | elapsed:   19.2s\n"
     ]
    },
    {
     "name": "stdout",
     "output_type": "stream",
     "text": [
      "AUC:0.7510\n",
      "수행 시간 : 1538.6\n"
     ]
    },
    {
     "name": "stderr",
     "output_type": "stream",
     "text": [
      "[Parallel(n_jobs=2)]: Done 4000 out of 4000 | elapsed:   24.0s finished\n"
     ]
    }
   ],
   "source": [
    "# 하이퍼 파라미터 튜닝 후(n=4000) 학습/예측/평가\n",
    "\n",
    "rf_clf = RandomForestClassifier(n_estimators=4000, \n",
    "                                max_depth=12,\n",
    "                                min_samples_leaf=12,\n",
    "                                min_samples_split=8,\n",
    "                                random_state=2021, verbose = 1, n_jobs = -1)\n",
    "rf_clf.fit(X_train, y_train) # 학습\n",
    "\n",
    "pred_probas = rf_clf.predict_proba(X_test)[:,1] # 예측\n",
    "roc_auc = roc_auc_score(y_test, pred_probas)\n",
    "\n",
    "print('AUC:{0:.4f}'.format(roc_auc))\n",
    "print('수행 시간 : {0:.1f}'.format(time.time() - start_time))"
   ]
  },
  {
   "cell_type": "code",
   "execution_count": 12,
   "id": "0a65aa49",
   "metadata": {
    "colab": {
     "base_uri": "https://localhost:8080/",
     "height": 424
    },
    "executionInfo": {
     "elapsed": 1020,
     "status": "ok",
     "timestamp": 1629279942402,
     "user": {
      "displayName": "Jangho Kim",
      "photoUrl": "https://lh3.googleusercontent.com/a-/AOh14GhPCKkxpq-7CsKt-Nb1mZOGvtd4FXkkCpdAyOSG-w=s64",
      "userId": "09358696859380980288"
     },
     "user_tz": -540
    },
    "id": "0a65aa49",
    "outputId": "76e58f66-6735-410e-be12-3eeda9f2e0a5"
   },
   "outputs": [
    {
     "name": "stderr",
     "output_type": "stream",
     "text": [
      "findfont: Font family ['Malgun Gothic'] not found. Falling back to DejaVu Sans.\n",
      "findfont: Font family ['Malgun Gothic'] not found. Falling back to DejaVu Sans.\n"
     ]
    },
    {
     "data": {
      "image/png": "[encoded data removed]",
      "text/plain": [
       "<Figure size 576x432 with 1 Axes>"
      ]
     },
     "metadata": {
      "needs_background": "light",
      "tags": []
     },
     "output_type": "display_data"
    }
   ],
   "source": [
    "ftr_importances_values = rf_clf.feature_importances_\n",
    "ftr_importances = pd.Series(ftr_importances_values,index=X_train.columns)\n",
    "# sort_values() 쉽게 하기 위해서 시리즈로 만들고, \n",
    "# 최고 중요도가 높은 20개 피처들만 추출\n",
    "ftr_top20 = ftr_importances.sort_values(ascending=False)[:20]\n",
    "\n",
    "plt.figure(figsize=(8,6))\n",
    "plt.title('Feature importances Top 20')\n",
    "# x축은 중요도 값, y축은 ftr_top20 시리즈의 index\n",
    "sns.barplot(x=ftr_top20 , y = ftr_top20.index)\n",
    "plt.show()"
   ]
  },
  {
   "cell_type": "code",
   "execution_count": 23,
   "id": "1a70313d",
   "metadata": {
    "executionInfo": {
     "elapsed": 5,
     "status": "ok",
     "timestamp": 1629279942403,
     "user": {
      "displayName": "Jangho Kim",
      "photoUrl": "https://lh3.googleusercontent.com/a-/AOh14GhPCKkxpq-7CsKt-Nb1mZOGvtd4FXkkCpdAyOSG-w=s64",
      "userId": "09358696859380980288"
     },
     "user_tz": -540
    },
    "id": "1a70313d"
   },
   "outputs": [],
   "source": [
    "# FPR의 변화에 따른 TPR의 변화를 ROC 곡선으로 시각화\n",
    "\n",
    "def roc_curve_plot(y_test , pred_proba_c1):\n",
    "    # 임곗값에 따른 FPR, TPR 값을 반환 받음. \n",
    "    fprs , tprs , thresholds = roc_curve(y_test ,pred_proba_c1)\n",
    "\n",
    "    # ROC Curve를 plot 곡선으로 그림. \n",
    "    plt.plot(fprs , tprs, label='ROC')\n",
    "    # 가운데 대각선 직선을 그림. \n",
    "    plt.plot([0, 1], [0, 1], 'k--', label='Random')\n",
    "    \n",
    "    # FPR X 축의 Scale을 0.1 단위로 변경, X,Y 축명 설정등   \n",
    "    start, end = plt.xlim()\n",
    "    plt.xticks(np.round(np.arange(start, end, 0.1),2))\n",
    "    plt.xlim(0,1); plt.ylim(0,1)\n",
    "    plt.xlabel('FPR( 1 - Sensitivity )'); plt.ylabel('TPR( Recall )')\n",
    "    plt.legend()\n",
    "    plt.show()\n",
    "    \n",
    "# 그래프 설명\n",
    "# 일반적으로 곡선 자체는 FPR과 TPR의 변화값을 보는데 이용하고\n",
    "# 분류의 성능 지표로 사용되는 것은 ROC 곡선 면적에 기반한 AUC 값으로 결정\n",
    "# AUC(Area Under Curve) 값은 ROC 곡선 밑의 면적을 구한 것으로\n",
    "# 일반적으로 1에 가까울 수록 좋음\n",
    "# AUC 수치가 커지려면 FPR이 작은 상태에서 얼마나 큰 TPR을 얻을 수 있느냐가 관건\n",
    "# 가운데 직선에서 멀어지고 왼쪽 상단 모서리 쪽으로 가파르게 곡선이 이동할 수록\n",
    "# 직사각형에 가까운 곡선이 되어 면적이 1에 가까워지는\n",
    "# 좋은 ROC AUC 성능 수치를 얻게 됨\n",
    "# 가운데 직선은 랜덤 수준의 이진 분류 AUC 값으로 0.5\n",
    "# 따라서 보통의 분류는 0.5 이상의 AUC 값을 가짐"
   ]
  },
  {
   "cell_type": "code",
   "execution_count": 14,
   "id": "2a08e601",
   "metadata": {
    "colab": {
     "base_uri": "https://localhost:8080/",
     "height": 283
    },
    "executionInfo": {
     "elapsed": 507,
     "status": "ok",
     "timestamp": 1629279942906,
     "user": {
      "displayName": "Jangho Kim",
      "photoUrl": "https://lh3.googleusercontent.com/a-/AOh14GhPCKkxpq-7CsKt-Nb1mZOGvtd4FXkkCpdAyOSG-w=s64",
      "userId": "09358696859380980288"
     },
     "user_tz": -540
    },
    "id": "2a08e601",
    "outputId": "264f5a51-bd43-4e34-a307-0413f70dfdd6"
   },
   "outputs": [
    {
     "data": {
      "image/png": "[encoded data removed]",
      "text/plain": [
       "<Figure size 432x288 with 1 Axes>"
      ]
     },
     "metadata": {
      "needs_background": "light",
      "tags": []
     },
     "output_type": "display_data"
    }
   ],
   "source": [
    "roc_curve_plot(y_test, pred_probas)"
   ]
  },
  {
   "cell_type": "markdown",
   "id": "97dc290b",
   "metadata": {
    "id": "97dc290b"
   },
   "source": [
    "### oversampling 작업 후 비교"
   ]
  },
  {
   "cell_type": "code",
   "execution_count": 44,
   "id": "45d49f09",
   "metadata": {
    "id": "45d49f09",
    "outputId": "79d03636-4eb7-4770-bfb3-a3c0bab78336"
   },
   "outputs": [
    {
     "name": "stdout",
     "output_type": "stream",
     "text": [
      "SMOTE 적용 전 학습용 feature/label data set :  (243075, 142) (243075, 1)\n",
      "SMOTE 적용 후 학습용 feature/label data set :  (447006, 142) (447006, 1)\n"
     ]
    }
   ],
   "source": [
    "from imblearn.over_sampling import SMOTE\n",
    "\n",
    "smote = SMOTE(random_state=0)\n",
    "# train data set으로 들어오는 값들에 대해서 Over Sampling\n",
    "# target값 분포에 맞춰 feature 값 생성\n",
    "X_train_over, y_train_over = smote.fit_resample(X_train, y_train)\n",
    "\n",
    "print('SMOTE 적용 전 학습용 feature/label data set : ', X_train.shape, y_train.shape)\n",
    "print('SMOTE 적용 후 학습용 feature/label data set : ', X_train_over.shape, y_train_over.shape)\n"
   ]
  },
  {
   "cell_type": "code",
   "execution_count": 45,
   "id": "609983ef",
   "metadata": {
    "id": "609983ef",
    "outputId": "1749d539-07f4-4a6e-dd80-2305d39188a8"
   },
   "outputs": [
    {
     "data": {
      "text/plain": [
       "TARGET\n",
       "0.0       223503\n",
       "1.0        19572\n",
       "dtype: int64"
      ]
     },
     "execution_count": 45,
     "metadata": {},
     "output_type": "execute_result"
    }
   ],
   "source": [
    "# 원래의 label값 두 개 분포\n",
    "y_train.value_counts()"
   ]
  },
  {
   "cell_type": "code",
   "execution_count": 46,
   "id": "b72c1918",
   "metadata": {
    "id": "b72c1918",
    "outputId": "1ef59657-4051-461b-eee4-5679289f5f3b"
   },
   "outputs": [
    {
     "data": {
      "text/plain": [
       "TARGET\n",
       "0.0       223503\n",
       "1.0       223503\n",
       "dtype: int64"
      ]
     },
     "execution_count": 46,
     "metadata": {},
     "output_type": "execute_result"
    }
   ],
   "source": [
    "y_train_over.value_counts()"
   ]
  },
  {
   "cell_type": "code",
   "execution_count": 48,
   "id": "a566691b",
   "metadata": {
    "id": "a566691b",
    "outputId": "116743a3-feb5-4e6f-8cbd-83c647e62dde"
   },
   "outputs": [
    {
     "name": "stderr",
     "output_type": "stream",
     "text": [
      "[Parallel(n_jobs=-1)]: Using backend ThreadingBackend with 4 concurrent workers.\n",
      "[Parallel(n_jobs=-1)]: Done  42 tasks      | elapsed:   17.0s\n",
      "[Parallel(n_jobs=-1)]: Done 100 out of 100 | elapsed:   38.8s finished\n",
      "[Parallel(n_jobs=4)]: Using backend ThreadingBackend with 4 concurrent workers.\n",
      "[Parallel(n_jobs=4)]: Done  42 tasks      | elapsed:    0.1s\n",
      "[Parallel(n_jobs=4)]: Done 100 out of 100 | elapsed:    0.3s finished\n"
     ]
    },
    {
     "name": "stdout",
     "output_type": "stream",
     "text": [
      "AUC:0.7054\n",
      "수행 시간 : 2105.0\n"
     ]
    }
   ],
   "source": [
    "# Oversampling 적용하여 수행\n",
    "\n",
    "rf_clf = RandomForestClassifier(n_estimators=100, \n",
    "                                max_depth=12,\n",
    "                                min_samples_leaf=12,\n",
    "                                min_samples_split=8,\n",
    "                                random_state=2021, verbose = 1, n_jobs = -1)\n",
    "rf_clf.fit(X_train_over, y_train_over) # 학습\n",
    "\n",
    "pred_probas = rf_clf.predict_proba(X_test)[:,1] # 예측\n",
    "roc_auc = roc_auc_score(y_test, pred_probas)\n",
    "\n",
    "print('AUC:{0:.4f}'.format(roc_auc))\n",
    "print('수행 시간 : {0:.1f}'.format(time.time() - start_time))"
   ]
  },
  {
   "cell_type": "code",
   "execution_count": 59,
   "id": "8468d08f",
   "metadata": {},
   "outputs": [
    {
     "name": "stderr",
     "output_type": "stream",
     "text": [
      "[Parallel(n_jobs=4)]: Using backend ThreadingBackend with 4 concurrent workers.\n",
      "[Parallel(n_jobs=4)]: Done  42 tasks      | elapsed:    0.2s\n"
     ]
    },
    {
     "name": "stdout",
     "output_type": "stream",
     "text": [
      "오차 행렬\n",
      "[[54675  1201]\n",
      " [ 4502   391]]\n",
      "정확도 : 0.9062, 정밀도: 0.2456, 재현율 : 0.0799,    F1 : 0.1206, AUC:0.7054\n"
     ]
    },
    {
     "name": "stderr",
     "output_type": "stream",
     "text": [
      "[Parallel(n_jobs=4)]: Done 100 out of 100 | elapsed:    0.5s finished\n"
     ]
    }
   ],
   "source": [
    "pred_smote = rf_clf.predict(X_test)\n",
    "get_clf_eval(y_test, pred_smote, pred_probas)"
   ]
  },
  {
   "cell_type": "markdown",
   "id": "c5fe2015",
   "metadata": {
    "id": "c5fe2015"
   },
   "source": [
    "### raw data log변환 후 모델 예측"
   ]
  },
  {
   "cell_type": "code",
   "execution_count": null,
   "id": "3d3c0cd1",
   "metadata": {
    "id": "3d3c0cd1",
    "outputId": "f30f54a4-07dc-41e6-a5d1-342da2c5c8a5"
   },
   "outputs": [
    {
     "data": {
      "text/html": [
       "<div>\n",
       "<style scoped>\n",
       "    .dataframe tbody tr th:only-of-type {\n",
       "        vertical-align: middle;\n",
       "    }\n",
       "\n",
       "    .dataframe tbody tr th {\n",
       "        vertical-align: top;\n",
       "    }\n",
       "\n",
       "    .dataframe thead th {\n",
       "        text-align: right;\n",
       "    }\n",
       "</style>\n",
       "<table border=\"1\" class=\"dataframe\">\n",
       "  <thead>\n",
       "    <tr style=\"text-align: right;\">\n",
       "      <th></th>\n",
       "      <th>Unnamed: 0</th>\n",
       "      <th>SK_ID_CURR</th>\n",
       "      <th>NAME_CONTRACT_TYPE</th>\n",
       "      <th>FLAG_OWN_CAR</th>\n",
       "      <th>FLAG_OWN_REALTY</th>\n",
       "      <th>CNT_CHILDREN</th>\n",
       "      <th>AMT_INCOME_TOTAL</th>\n",
       "      <th>AMT_CREDIT</th>\n",
       "      <th>AMT_ANNUITY</th>\n",
       "      <th>AMT_GOODS_PRICE</th>\n",
       "      <th>...</th>\n",
       "      <th>ORGANIZATION_TYPE_Trade: type 4</th>\n",
       "      <th>ORGANIZATION_TYPE_Trade: type 5</th>\n",
       "      <th>ORGANIZATION_TYPE_Trade: type 6</th>\n",
       "      <th>ORGANIZATION_TYPE_Trade: type 7</th>\n",
       "      <th>ORGANIZATION_TYPE_Transport: type 1</th>\n",
       "      <th>ORGANIZATION_TYPE_Transport: type 2</th>\n",
       "      <th>ORGANIZATION_TYPE_Transport: type 3</th>\n",
       "      <th>ORGANIZATION_TYPE_Transport: type 4</th>\n",
       "      <th>ORGANIZATION_TYPE_University</th>\n",
       "      <th>ORGANIZATION_TYPE_XNA</th>\n",
       "    </tr>\n",
       "  </thead>\n",
       "  <tbody>\n",
       "    <tr>\n",
       "      <th>0</th>\n",
       "      <td>0</td>\n",
       "      <td>100002</td>\n",
       "      <td>0</td>\n",
       "      <td>0</td>\n",
       "      <td>1</td>\n",
       "      <td>0</td>\n",
       "      <td>12.218500</td>\n",
       "      <td>406597.5</td>\n",
       "      <td>10.114619</td>\n",
       "      <td>351000.0</td>\n",
       "      <td>...</td>\n",
       "      <td>0</td>\n",
       "      <td>0</td>\n",
       "      <td>0</td>\n",
       "      <td>0</td>\n",
       "      <td>0</td>\n",
       "      <td>0</td>\n",
       "      <td>0</td>\n",
       "      <td>0</td>\n",
       "      <td>0</td>\n",
       "      <td>0</td>\n",
       "    </tr>\n",
       "    <tr>\n",
       "      <th>1</th>\n",
       "      <td>1</td>\n",
       "      <td>100003</td>\n",
       "      <td>0</td>\n",
       "      <td>0</td>\n",
       "      <td>0</td>\n",
       "      <td>0</td>\n",
       "      <td>12.506181</td>\n",
       "      <td>1293502.5</td>\n",
       "      <td>10.482892</td>\n",
       "      <td>1129500.0</td>\n",
       "      <td>...</td>\n",
       "      <td>0</td>\n",
       "      <td>0</td>\n",
       "      <td>0</td>\n",
       "      <td>0</td>\n",
       "      <td>0</td>\n",
       "      <td>0</td>\n",
       "      <td>0</td>\n",
       "      <td>0</td>\n",
       "      <td>0</td>\n",
       "      <td>0</td>\n",
       "    </tr>\n",
       "    <tr>\n",
       "      <th>2</th>\n",
       "      <td>2</td>\n",
       "      <td>100004</td>\n",
       "      <td>1</td>\n",
       "      <td>1</td>\n",
       "      <td>1</td>\n",
       "      <td>0</td>\n",
       "      <td>11.119898</td>\n",
       "      <td>135000.0</td>\n",
       "      <td>8.817446</td>\n",
       "      <td>135000.0</td>\n",
       "      <td>...</td>\n",
       "      <td>0</td>\n",
       "      <td>0</td>\n",
       "      <td>0</td>\n",
       "      <td>0</td>\n",
       "      <td>0</td>\n",
       "      <td>0</td>\n",
       "      <td>0</td>\n",
       "      <td>0</td>\n",
       "      <td>0</td>\n",
       "      <td>0</td>\n",
       "    </tr>\n",
       "    <tr>\n",
       "      <th>3</th>\n",
       "      <td>3</td>\n",
       "      <td>100006</td>\n",
       "      <td>0</td>\n",
       "      <td>0</td>\n",
       "      <td>1</td>\n",
       "      <td>0</td>\n",
       "      <td>11.813037</td>\n",
       "      <td>312682.5</td>\n",
       "      <td>10.298481</td>\n",
       "      <td>297000.0</td>\n",
       "      <td>...</td>\n",
       "      <td>0</td>\n",
       "      <td>0</td>\n",
       "      <td>0</td>\n",
       "      <td>0</td>\n",
       "      <td>0</td>\n",
       "      <td>0</td>\n",
       "      <td>0</td>\n",
       "      <td>0</td>\n",
       "      <td>0</td>\n",
       "      <td>0</td>\n",
       "    </tr>\n",
       "    <tr>\n",
       "      <th>4</th>\n",
       "      <td>4</td>\n",
       "      <td>100007</td>\n",
       "      <td>0</td>\n",
       "      <td>0</td>\n",
       "      <td>1</td>\n",
       "      <td>0</td>\n",
       "      <td>11.707678</td>\n",
       "      <td>513000.0</td>\n",
       "      <td>9.992711</td>\n",
       "      <td>513000.0</td>\n",
       "      <td>...</td>\n",
       "      <td>0</td>\n",
       "      <td>0</td>\n",
       "      <td>0</td>\n",
       "      <td>0</td>\n",
       "      <td>0</td>\n",
       "      <td>0</td>\n",
       "      <td>0</td>\n",
       "      <td>0</td>\n",
       "      <td>0</td>\n",
       "      <td>0</td>\n",
       "    </tr>\n",
       "    <tr>\n",
       "      <th>...</th>\n",
       "      <td>...</td>\n",
       "      <td>...</td>\n",
       "      <td>...</td>\n",
       "      <td>...</td>\n",
       "      <td>...</td>\n",
       "      <td>...</td>\n",
       "      <td>...</td>\n",
       "      <td>...</td>\n",
       "      <td>...</td>\n",
       "      <td>...</td>\n",
       "      <td>...</td>\n",
       "      <td>...</td>\n",
       "      <td>...</td>\n",
       "      <td>...</td>\n",
       "      <td>...</td>\n",
       "      <td>...</td>\n",
       "      <td>...</td>\n",
       "      <td>...</td>\n",
       "      <td>...</td>\n",
       "      <td>...</td>\n",
       "      <td>...</td>\n",
       "    </tr>\n",
       "    <tr>\n",
       "      <th>303839</th>\n",
       "      <td>303839</td>\n",
       "      <td>456251</td>\n",
       "      <td>0</td>\n",
       "      <td>0</td>\n",
       "      <td>0</td>\n",
       "      <td>0</td>\n",
       "      <td>11.967187</td>\n",
       "      <td>254700.0</td>\n",
       "      <td>10.224084</td>\n",
       "      <td>225000.0</td>\n",
       "      <td>...</td>\n",
       "      <td>0</td>\n",
       "      <td>0</td>\n",
       "      <td>0</td>\n",
       "      <td>0</td>\n",
       "      <td>0</td>\n",
       "      <td>0</td>\n",
       "      <td>0</td>\n",
       "      <td>0</td>\n",
       "      <td>0</td>\n",
       "      <td>0</td>\n",
       "    </tr>\n",
       "    <tr>\n",
       "      <th>303840</th>\n",
       "      <td>303840</td>\n",
       "      <td>456252</td>\n",
       "      <td>0</td>\n",
       "      <td>0</td>\n",
       "      <td>1</td>\n",
       "      <td>0</td>\n",
       "      <td>11.184435</td>\n",
       "      <td>269550.0</td>\n",
       "      <td>9.392870</td>\n",
       "      <td>225000.0</td>\n",
       "      <td>...</td>\n",
       "      <td>0</td>\n",
       "      <td>0</td>\n",
       "      <td>0</td>\n",
       "      <td>0</td>\n",
       "      <td>0</td>\n",
       "      <td>0</td>\n",
       "      <td>0</td>\n",
       "      <td>0</td>\n",
       "      <td>0</td>\n",
       "      <td>1</td>\n",
       "    </tr>\n",
       "    <tr>\n",
       "      <th>303841</th>\n",
       "      <td>303841</td>\n",
       "      <td>456253</td>\n",
       "      <td>0</td>\n",
       "      <td>0</td>\n",
       "      <td>1</td>\n",
       "      <td>0</td>\n",
       "      <td>11.938200</td>\n",
       "      <td>677664.0</td>\n",
       "      <td>10.308286</td>\n",
       "      <td>585000.0</td>\n",
       "      <td>...</td>\n",
       "      <td>0</td>\n",
       "      <td>0</td>\n",
       "      <td>0</td>\n",
       "      <td>0</td>\n",
       "      <td>0</td>\n",
       "      <td>0</td>\n",
       "      <td>0</td>\n",
       "      <td>0</td>\n",
       "      <td>0</td>\n",
       "      <td>0</td>\n",
       "    </tr>\n",
       "    <tr>\n",
       "      <th>303842</th>\n",
       "      <td>303842</td>\n",
       "      <td>456254</td>\n",
       "      <td>0</td>\n",
       "      <td>0</td>\n",
       "      <td>1</td>\n",
       "      <td>0</td>\n",
       "      <td>12.049425</td>\n",
       "      <td>370107.0</td>\n",
       "      <td>9.913735</td>\n",
       "      <td>319500.0</td>\n",
       "      <td>...</td>\n",
       "      <td>0</td>\n",
       "      <td>0</td>\n",
       "      <td>0</td>\n",
       "      <td>0</td>\n",
       "      <td>0</td>\n",
       "      <td>0</td>\n",
       "      <td>0</td>\n",
       "      <td>0</td>\n",
       "      <td>0</td>\n",
       "      <td>0</td>\n",
       "    </tr>\n",
       "    <tr>\n",
       "      <th>303843</th>\n",
       "      <td>303843</td>\n",
       "      <td>456255</td>\n",
       "      <td>0</td>\n",
       "      <td>0</td>\n",
       "      <td>0</td>\n",
       "      <td>0</td>\n",
       "      <td>11.967187</td>\n",
       "      <td>675000.0</td>\n",
       "      <td>10.801991</td>\n",
       "      <td>675000.0</td>\n",
       "      <td>...</td>\n",
       "      <td>0</td>\n",
       "      <td>0</td>\n",
       "      <td>0</td>\n",
       "      <td>0</td>\n",
       "      <td>0</td>\n",
       "      <td>0</td>\n",
       "      <td>0</td>\n",
       "      <td>0</td>\n",
       "      <td>0</td>\n",
       "      <td>0</td>\n",
       "    </tr>\n",
       "  </tbody>\n",
       "</table>\n",
       "<p>303844 rows × 145 columns</p>\n",
       "</div>"
      ],
      "text/plain": [
       "        Unnamed: 0  SK_ID_CURR  NAME_CONTRACT_TYPE  FLAG_OWN_CAR  \\\n",
       "0                0      100002                   0             0   \n",
       "1                1      100003                   0             0   \n",
       "2                2      100004                   1             1   \n",
       "3                3      100006                   0             0   \n",
       "4                4      100007                   0             0   \n",
       "...            ...         ...                 ...           ...   \n",
       "303839      303839      456251                   0             0   \n",
       "303840      303840      456252                   0             0   \n",
       "303841      303841      456253                   0             0   \n",
       "303842      303842      456254                   0             0   \n",
       "303843      303843      456255                   0             0   \n",
       "\n",
       "        FLAG_OWN_REALTY  CNT_CHILDREN  AMT_INCOME_TOTAL  AMT_CREDIT  \\\n",
       "0                     1             0         12.218500    406597.5   \n",
       "1                     0             0         12.506181   1293502.5   \n",
       "2                     1             0         11.119898    135000.0   \n",
       "3                     1             0         11.813037    312682.5   \n",
       "4                     1             0         11.707678    513000.0   \n",
       "...                 ...           ...               ...         ...   \n",
       "303839                0             0         11.967187    254700.0   \n",
       "303840                1             0         11.184435    269550.0   \n",
       "303841                1             0         11.938200    677664.0   \n",
       "303842                1             0         12.049425    370107.0   \n",
       "303843                0             0         11.967187    675000.0   \n",
       "\n",
       "        AMT_ANNUITY  AMT_GOODS_PRICE  ...  ORGANIZATION_TYPE_Trade: type 4  \\\n",
       "0         10.114619         351000.0  ...                                0   \n",
       "1         10.482892        1129500.0  ...                                0   \n",
       "2          8.817446         135000.0  ...                                0   \n",
       "3         10.298481         297000.0  ...                                0   \n",
       "4          9.992711         513000.0  ...                                0   \n",
       "...             ...              ...  ...                              ...   \n",
       "303839    10.224084         225000.0  ...                                0   \n",
       "303840     9.392870         225000.0  ...                                0   \n",
       "303841    10.308286         585000.0  ...                                0   \n",
       "303842     9.913735         319500.0  ...                                0   \n",
       "303843    10.801991         675000.0  ...                                0   \n",
       "\n",
       "        ORGANIZATION_TYPE_Trade: type 5  ORGANIZATION_TYPE_Trade: type 6  \\\n",
       "0                                     0                                0   \n",
       "1                                     0                                0   \n",
       "2                                     0                                0   \n",
       "3                                     0                                0   \n",
       "4                                     0                                0   \n",
       "...                                 ...                              ...   \n",
       "303839                                0                                0   \n",
       "303840                                0                                0   \n",
       "303841                                0                                0   \n",
       "303842                                0                                0   \n",
       "303843                                0                                0   \n",
       "\n",
       "        ORGANIZATION_TYPE_Trade: type 7  ORGANIZATION_TYPE_Transport: type 1  \\\n",
       "0                                     0                                    0   \n",
       "1                                     0                                    0   \n",
       "2                                     0                                    0   \n",
       "3                                     0                                    0   \n",
       "4                                     0                                    0   \n",
       "...                                 ...                                  ...   \n",
       "303839                                0                                    0   \n",
       "303840                                0                                    0   \n",
       "303841                                0                                    0   \n",
       "303842                                0                                    0   \n",
       "303843                                0                                    0   \n",
       "\n",
       "        ORGANIZATION_TYPE_Transport: type 2  \\\n",
       "0                                         0   \n",
       "1                                         0   \n",
       "2                                         0   \n",
       "3                                         0   \n",
       "4                                         0   \n",
       "...                                     ...   \n",
       "303839                                    0   \n",
       "303840                                    0   \n",
       "303841                                    0   \n",
       "303842                                    0   \n",
       "303843                                    0   \n",
       "\n",
       "        ORGANIZATION_TYPE_Transport: type 3  \\\n",
       "0                                         0   \n",
       "1                                         0   \n",
       "2                                         0   \n",
       "3                                         0   \n",
       "4                                         0   \n",
       "...                                     ...   \n",
       "303839                                    0   \n",
       "303840                                    0   \n",
       "303841                                    0   \n",
       "303842                                    0   \n",
       "303843                                    0   \n",
       "\n",
       "        ORGANIZATION_TYPE_Transport: type 4  ORGANIZATION_TYPE_University  \\\n",
       "0                                         0                             0   \n",
       "1                                         0                             0   \n",
       "2                                         0                             0   \n",
       "3                                         0                             0   \n",
       "4                                         0                             0   \n",
       "...                                     ...                           ...   \n",
       "303839                                    0                             0   \n",
       "303840                                    0                             0   \n",
       "303841                                    0                             0   \n",
       "303842                                    0                             0   \n",
       "303843                                    0                             0   \n",
       "\n",
       "        ORGANIZATION_TYPE_XNA  \n",
       "0                           0  \n",
       "1                           0  \n",
       "2                           0  \n",
       "3                           0  \n",
       "4                           0  \n",
       "...                       ...  \n",
       "303839                      0  \n",
       "303840                      1  \n",
       "303841                      0  \n",
       "303842                      0  \n",
       "303843                      0  \n",
       "\n",
       "[303844 rows x 145 columns]"
      ]
     },
     "execution_count": 2,
     "metadata": {
      "tags": []
     },
     "output_type": "execute_result"
    }
   ],
   "source": [
    "data_log"
   ]
  },
  {
   "cell_type": "code",
   "execution_count": null,
   "id": "8e07c7f6",
   "metadata": {
    "id": "8e07c7f6"
   },
   "outputs": [],
   "source": [
    "y_log_target = data_log[['TARGET']]\n",
    "X_log_features = data_log.drop(columns=['Unnamed: 0','SK_ID_CURR','TARGET'])"
   ]
  },
  {
   "cell_type": "code",
   "execution_count": null,
   "id": "f649f965",
   "metadata": {
    "id": "f649f965"
   },
   "outputs": [],
   "source": [
    "# 학습/테스트 데이터 세트 분리\n",
    "X_log_train , X_log_test , y_log_train , y_log_test = train_test_split(X_log_features , y_log_target, test_size=0.2, stratify=y_log_target, random_state=2021)"
   ]
  },
  {
   "cell_type": "code",
   "execution_count": null,
   "id": "cbdab1d2",
   "metadata": {
    "id": "cbdab1d2",
    "outputId": "7f38b386-cd5b-4503-c58d-0979d4c77488"
   },
   "outputs": [
    {
     "name": "stderr",
     "output_type": "stream",
     "text": [
      "[Parallel(n_jobs=-1)]: Using backend ThreadingBackend with 4 concurrent workers.\n",
      "[Parallel(n_jobs=-1)]: Done  42 tasks      | elapsed:   14.7s\n",
      "[Parallel(n_jobs=-1)]: Done 192 tasks      | elapsed:  1.1min\n",
      "[Parallel(n_jobs=-1)]: Done 442 tasks      | elapsed:  2.5min\n",
      "[Parallel(n_jobs=-1)]: Done 792 tasks      | elapsed:  4.6min\n",
      "[Parallel(n_jobs=-1)]: Done 1242 tasks      | elapsed:  7.5min\n",
      "[Parallel(n_jobs=-1)]: Done 1792 tasks      | elapsed: 12.0min\n",
      "[Parallel(n_jobs=-1)]: Done 2442 tasks      | elapsed: 17.3min\n",
      "[Parallel(n_jobs=-1)]: Done 3192 tasks      | elapsed: 23.4min\n",
      "[Parallel(n_jobs=-1)]: Done 4000 out of 4000 | elapsed: 30.0min finished\n",
      "[Parallel(n_jobs=4)]: Using backend ThreadingBackend with 4 concurrent workers.\n",
      "[Parallel(n_jobs=4)]: Done  42 tasks      | elapsed:    0.5s\n",
      "[Parallel(n_jobs=4)]: Done 192 tasks      | elapsed:    2.1s\n",
      "[Parallel(n_jobs=4)]: Done 442 tasks      | elapsed:    4.7s\n",
      "[Parallel(n_jobs=4)]: Done 792 tasks      | elapsed:    8.2s\n",
      "[Parallel(n_jobs=4)]: Done 1242 tasks      | elapsed:   12.8s\n",
      "[Parallel(n_jobs=4)]: Done 1792 tasks      | elapsed:   18.6s\n",
      "[Parallel(n_jobs=4)]: Done 2442 tasks      | elapsed:   25.4s\n",
      "[Parallel(n_jobs=4)]: Done 3192 tasks      | elapsed:   33.2s\n"
     ]
    },
    {
     "name": "stdout",
     "output_type": "stream",
     "text": [
      "AUC:0.7510\n",
      "수행 시간 : 2076.0\n"
     ]
    },
    {
     "name": "stderr",
     "output_type": "stream",
     "text": [
      "[Parallel(n_jobs=4)]: Done 4000 out of 4000 | elapsed:   41.7s finished\n"
     ]
    }
   ],
   "source": [
    "# 하이퍼 파라미터 튜닝 후(n=4000) 학습/예측/평가\n",
    "\n",
    "rf_clf = RandomForestClassifier(n_estimators=4000, \n",
    "                                max_depth=12,\n",
    "                                min_samples_leaf=12,\n",
    "                                min_samples_split=8,\n",
    "                                random_state=2021, verbose = 1, n_jobs = -1)\n",
    "rf_clf.fit(X_log_train, y_log_train) # 학습\n",
    "\n",
    "pred_probas_log = rf_clf.predict_proba(X_log_test)[:,1] # 예측\n",
    "roc_auc = roc_auc_score(y_log_test, pred_probas_log)\n",
    "\n",
    "print('AUC:{0:.4f}'.format(roc_auc))\n",
    "print('수행 시간 : {0:.1f}'.format(time.time() - start_time))"
   ]
  },
  {
   "cell_type": "code",
   "execution_count": null,
   "id": "829aeaf8",
   "metadata": {
    "id": "829aeaf8",
    "outputId": "de1a974c-3cff-4b83-b305-04d1621c2f1a"
   },
   "outputs": [
    {
     "data": {
      "image/png": "[encoded data removed]",
      "text/plain": [
       "<Figure size 576x432 with 1 Axes>"
      ]
     },
     "metadata": {
      "needs_background": "light",
      "tags": []
     },
     "output_type": "display_data"
    }
   ],
   "source": [
    "ftr_importances_values = rf_clf.feature_importances_\n",
    "ftr_importances = pd.Series(ftr_importances_values,index=X_log_train.columns)\n",
    "# sort_values() 쉽게 하기 위해서 시리즈로 만들고, \n",
    "# 최고 중요도가 높은 20개 피처들만 추출\n",
    "ftr_top20 = ftr_importances.sort_values(ascending=False)[:20]\n",
    "\n",
    "plt.figure(figsize=(8,6))\n",
    "plt.title('Feature importances Top 20')\n",
    "# x축은 중요도 값, y축은 ftr_top20 시리즈의 index\n",
    "sns.barplot(x=ftr_top20 , y = ftr_top20.index)\n",
    "plt.show()"
   ]
  },
  {
   "cell_type": "markdown",
   "id": "b214632d",
   "metadata": {
    "id": "b214632d"
   },
   "source": [
    "### raw data log변환 & scale 후 모델 예측"
   ]
  },
  {
   "cell_type": "code",
   "execution_count": 2,
   "id": "cf51b464",
   "metadata": {
    "colab": {
     "base_uri": "https://localhost:8080/",
     "height": 488
    },
    "executionInfo": {
     "elapsed": 538,
     "status": "ok",
     "timestamp": 1629280020467,
     "user": {
      "displayName": "Jangho Kim",
      "photoUrl": "https://lh3.googleusercontent.com/a-/AOh14GhPCKkxpq-7CsKt-Nb1mZOGvtd4FXkkCpdAyOSG-w=s64",
      "userId": "09358696859380980288"
     },
     "user_tz": -540
    },
    "id": "cf51b464",
    "outputId": "f9b7efe2-5191-4d10-c161-370141529d7d"
   },
   "outputs": [
    {
     "ename": "NameError",
     "evalue": "name 'data_scaled' is not defined",
     "output_type": "error",
     "traceback": [
      "\u001b[1;31m---------------------------------------------------------------------------\u001b[0m",
      "\u001b[1;31mNameError\u001b[0m                                 Traceback (most recent call last)",
      "\u001b[1;32m<ipython-input-2-d80677255f46>\u001b[0m in \u001b[0;36m<module>\u001b[1;34m\u001b[0m\n\u001b[1;32m----> 1\u001b[1;33m \u001b[0mdata_scaled\u001b[0m\u001b[1;33m\u001b[0m\u001b[1;33m\u001b[0m\u001b[0m\n\u001b[0m",
      "\u001b[1;31mNameError\u001b[0m: name 'data_scaled' is not defined"
     ]
    }
   ],
   "source": [
    "data_scaled"
   ]
  },
  {
   "cell_type": "code",
   "execution_count": 16,
   "id": "8bde7b06",
   "metadata": {
    "executionInfo": {
     "elapsed": 5,
     "status": "ok",
     "timestamp": 1629280020735,
     "user": {
      "displayName": "Jangho Kim",
      "photoUrl": "https://lh3.googleusercontent.com/a-/AOh14GhPCKkxpq-7CsKt-Nb1mZOGvtd4FXkkCpdAyOSG-w=s64",
      "userId": "09358696859380980288"
     },
     "user_tz": -540
    },
    "id": "8bde7b06"
   },
   "outputs": [],
   "source": [
    "y_scaled_target = data_scaled[['TARGET']]\n",
    "X_scaled_features = data_scaled.drop(columns=['Unnamed: 0','SK_ID_CURR','TARGET'])"
   ]
  },
  {
   "cell_type": "code",
   "execution_count": 17,
   "id": "06ec5756",
   "metadata": {
    "executionInfo": {
     "elapsed": 1461,
     "status": "ok",
     "timestamp": 1629280022191,
     "user": {
      "displayName": "Jangho Kim",
      "photoUrl": "https://lh3.googleusercontent.com/a-/AOh14GhPCKkxpq-7CsKt-Nb1mZOGvtd4FXkkCpdAyOSG-w=s64",
      "userId": "09358696859380980288"
     },
     "user_tz": -540
    },
    "id": "06ec5756"
   },
   "outputs": [],
   "source": [
    "# 학습/테스트 데이터 세트 분리\n",
    "X_scaled_train, X_scaled_test , y_scaled_train , y_scaled_test = train_test_split(X_scaled_features , y_scaled_target, test_size=0.2, stratify=y_scaled_target, random_state=2021)"
   ]
  },
  {
   "cell_type": "code",
   "execution_count": 1,
   "id": "ad9502d6",
   "metadata": {},
   "outputs": [
    {
     "ename": "NameError",
     "evalue": "name 'RandomForestClassifier' is not defined",
     "output_type": "error",
     "traceback": [
      "\u001b[1;31m---------------------------------------------------------------------------\u001b[0m",
      "\u001b[1;31mNameError\u001b[0m                                 Traceback (most recent call last)",
      "\u001b[1;32m<ipython-input-1-5a3514bc8512>\u001b[0m in \u001b[0;36m<module>\u001b[1;34m\u001b[0m\n\u001b[0;32m      1\u001b[0m \u001b[1;31m# 하이퍼 파라미터 튜닝 후(n=4000), log변환 & scale 후 모델 학습/예측/평가\u001b[0m\u001b[1;33m\u001b[0m\u001b[1;33m\u001b[0m\u001b[1;33m\u001b[0m\u001b[0m\n\u001b[0;32m      2\u001b[0m \u001b[1;33m\u001b[0m\u001b[0m\n\u001b[1;32m----> 3\u001b[1;33m rf_clf = RandomForestClassifier(n_estimators=4000, \n\u001b[0m\u001b[0;32m      4\u001b[0m                                 \u001b[0mmax_depth\u001b[0m\u001b[1;33m=\u001b[0m\u001b[1;36m12\u001b[0m\u001b[1;33m,\u001b[0m\u001b[1;33m\u001b[0m\u001b[1;33m\u001b[0m\u001b[0m\n\u001b[0;32m      5\u001b[0m                                 \u001b[0mmin_samples_leaf\u001b[0m\u001b[1;33m=\u001b[0m\u001b[1;36m12\u001b[0m\u001b[1;33m,\u001b[0m\u001b[1;33m\u001b[0m\u001b[1;33m\u001b[0m\u001b[0m\n",
      "\u001b[1;31mNameError\u001b[0m: name 'RandomForestClassifier' is not defined"
     ]
    }
   ],
   "source": [
    "# 하이퍼 파라미터 튜닝 후(n=4000), log변환 & scale 후 모델 학습/예측/평가\n",
    "\n",
    "rf_clf = RandomForestClassifier(n_estimators=4000, \n",
    "                                max_depth=12,\n",
    "                                min_samples_leaf=12,\n",
    "                                min_samples_split=8,\n",
    "                                random_state=2021, verbose = 1, n_jobs = -1)\n",
    "rf_clf.fit(X_scaled_train, y_scaled_train) # 학습\n",
    "\n",
    "pred_probas_scaled = rf_clf.predict_proba(X_scaled_test)[:,1] # 예측\n",
    "roc_auc = roc_auc_score(y_scaled_test, pred_probas_scaled)\n",
    "\n",
    "print('AUC:{0:.4f}'.format(roc_auc))\n",
    "print('수행 시간 : {0:.1f}'.format(time.time() - start_time))"
   ]
  },
  {
   "cell_type": "code",
   "execution_count": null,
   "id": "16918577",
   "metadata": {},
   "outputs": [],
   "source": []
  },
  {
   "cell_type": "code",
   "execution_count": 26,
   "id": "e47b360d",
   "metadata": {
    "colab": {
     "base_uri": "https://localhost:8080/",
     "height": 390
    },
    "executionInfo": {
     "elapsed": 1353,
     "status": "ok",
     "timestamp": 1629281789352,
     "user": {
      "displayName": "Jangho Kim",
      "photoUrl": "https://lh3.googleusercontent.com/a-/AOh14GhPCKkxpq-7CsKt-Nb1mZOGvtd4FXkkCpdAyOSG-w=s64",
      "userId": "09358696859380980288"
     },
     "user_tz": -540
    },
    "id": "e47b360d",
    "outputId": "674495c9-59ac-4156-fb4d-017d307142e6"
   },
   "outputs": [
    {
     "data": {
      "image/png": "[encoded data removed]",
      "text/plain": [
       "<Figure size 576x432 with 1 Axes>"
      ]
     },
     "metadata": {
      "needs_background": "light"
     },
     "output_type": "display_data"
    }
   ],
   "source": [
    "ftr_importances_values = rf_clf.feature_importances_\n",
    "ftr_importances = pd.Series(ftr_importances_values,index=X_scaled_train.columns)\n",
    "# sort_values() 쉽게 하기 위해서 시리즈로 만들고, \n",
    "# 최고 중요도가 높은 20개 피처들만 추출\n",
    "ftr_top20 = ftr_importances.sort_values(ascending=False)[:20]\n",
    "\n",
    "plt.figure(figsize=(8,6))\n",
    "plt.title('Feature importances Top 20')\n",
    "# x축은 중요도 값, y축은 ftr_top20 시리즈의 index\n",
    "sns.barplot(x=ftr_top20 , y = ftr_top20.index)\n",
    "plt.show()"
   ]
  },
  {
   "cell_type": "code",
   "execution_count": 27,
   "id": "580e64e2",
   "metadata": {
    "colab": {
     "base_uri": "https://localhost:8080/",
     "height": 283
    },
    "executionInfo": {
     "elapsed": 5,
     "status": "ok",
     "timestamp": 1629281791274,
     "user": {
      "displayName": "Jangho Kim",
      "photoUrl": "https://lh3.googleusercontent.com/a-/AOh14GhPCKkxpq-7CsKt-Nb1mZOGvtd4FXkkCpdAyOSG-w=s64",
      "userId": "09358696859380980288"
     },
     "user_tz": -540
    },
    "id": "580e64e2",
    "outputId": "a0423a15-af09-4aae-e046-060fea52cb50"
   },
   "outputs": [
    {
     "data": {
      "image/png": "[encoded data removed]",
      "text/plain": [
       "<Figure size 432x288 with 1 Axes>"
      ]
     },
     "metadata": {
      "needs_background": "light"
     },
     "output_type": "display_data"
    }
   ],
   "source": [
    "roc_curve_plot(y_scaled_test, pred_probas)"
   ]
  },
  {
   "cell_type": "code",
   "execution_count": null,
   "id": "bb020d1a",
   "metadata": {},
   "outputs": [],
   "source": []
  }
 ],
 "metadata": {
  "accelerator": "GPU",
  "colab": {
   "collapsed_sections": [],
   "name": "base_model_random_forest.ipynb",
   "provenance": []
  },
  "interpreter": {
   "hash": "c38d09f457d74438440713003f49c78f54102a8eca7a92d57ec5eba7d7e8510c"
  },
  "kernelspec": {
   "display_name": "Python 3",
   "language": "python",
   "name": "python3"
  },
  "language_info": {
   "codemirror_mode": {
    "name": "ipython",
    "version": 3
   },
   "file_extension": ".py",
   "mimetype": "text/x-python",
   "name": "python",
   "nbconvert_exporter": "python",
   "pygments_lexer": "ipython3",
   "version": "3.8.8"
  }
 },
 "nbformat": 4,
 "nbformat_minor": 5
}
